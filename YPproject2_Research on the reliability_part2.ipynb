{
 "cells": [
  {
   "cell_type": "markdown",
   "id": "386f2ae7",
   "metadata": {
    "deletable": false,
    "editable": false,
    "id": "386f2ae7"
   },
   "source": [
    "# Исследование надежности заемщиков\n"
   ]
  },
  {
   "cell_type": "markdown",
   "id": "ffe86f65",
   "metadata": {
    "deletable": false,
    "editable": false,
    "id": "ffe86f65"
   },
   "source": [
    "Во второй части проекта вы выполните шаги 3 и 4. Их вручную проверит ревьюер.\n",
    "Чтобы вам не пришлось писать код заново для шагов 1 и 2, мы добавили авторские решения в ячейки с кодом. \n",
    "\n"
   ]
  },
  {
   "cell_type": "markdown",
   "id": "0a0ee1ec-a959-4f57-9d11-afd872f8c13e",
   "metadata": {},
   "source": [
    "**Описание проекта** \n",
    "<p>Заказчик — кредитный отдел банка. Нужно разобраться, влияет ли семейное положение и количество детей клиента на факт погашения кредита в срок. Входные данные от банка — статистика о платёжеспособности клиентов.\n",
    "Результаты исследования будут учтены при построении модели кредитного скоринга — специальной системы, которая оценивает способность потенциального заёмщика вернуть кредит банку."
   ]
  },
  {
   "cell_type": "markdown",
   "id": "6a546d50-56a8-4d9f-aefb-d8de1c1efdf1",
   "metadata": {},
   "source": [
    "**Описание данных**\n",
    "\n",
    "- children — количество детей в семье\n",
    "- days_employed — общий трудовой стаж в днях\n",
    "- dob_years — возраст клиента в годах\n",
    "- education — уровень образования клиента\n",
    "- education_id — идентификатор уровня образования\n",
    "- family_status — семейное положение\n",
    "- family_status_id — идентификатор семейного положения\n",
    "- gender — пол клиента\n",
    "- income_type — тип занятости\n",
    "- debt — имел ли задолженность по возврату кредитов\n",
    "- total_income — ежемесячный доход\n",
    "- purpose — цель получения кредита"
   ]
  },
  {
   "cell_type": "markdown",
   "id": "26613308",
   "metadata": {
    "deletable": false,
    "editable": false,
    "id": "26613308"
   },
   "source": [
    "## Откройте таблицу и изучите общую информацию о данных"
   ]
  },
  {
   "cell_type": "markdown",
   "id": "3c9f838e",
   "metadata": {
    "deletable": false,
    "editable": false,
    "id": "3c9f838e"
   },
   "source": [
    "**Задание 1. Импортируйте библиотеку pandas. Считайте данные из csv-файла в датафрейм и сохраните в переменную `data`. Путь к файлу:**\n",
    "\n",
    "`/datasets/data.csv`"
   ]
  },
  {
   "cell_type": "code",
   "execution_count": 1,
   "id": "77a68a90",
   "metadata": {
    "deletable": false,
    "id": "77a68a90"
   },
   "outputs": [],
   "source": [
    "import pandas as pd\n",
    "\n",
    "try:\n",
    "    data = pd.read_csv('/datasets/data.csv')\n",
    "except:\n",
    "    data = pd.read_csv('https://code.s3.yandex.net/datasets/data.csv')"
   ]
  },
  {
   "cell_type": "markdown",
   "id": "45365635",
   "metadata": {
    "deletable": false,
    "editable": false,
    "id": "45365635"
   },
   "source": [
    "**Задание 2. Выведите первые 20 строчек датафрейма `data` на экран.**"
   ]
  },
  {
   "cell_type": "code",
   "execution_count": 2,
   "id": "b0451a9a",
   "metadata": {
    "deletable": false,
    "id": "b0451a9a",
    "outputId": "1a8f3ef2-d323-4ec2-ddf7-89670b5944c4"
   },
   "outputs": [
    {
     "data": {
      "text/html": [
       "<div>\n",
       "<style scoped>\n",
       "    .dataframe tbody tr th:only-of-type {\n",
       "        vertical-align: middle;\n",
       "    }\n",
       "\n",
       "    .dataframe tbody tr th {\n",
       "        vertical-align: top;\n",
       "    }\n",
       "\n",
       "    .dataframe thead th {\n",
       "        text-align: right;\n",
       "    }\n",
       "</style>\n",
       "<table border=\"1\" class=\"dataframe\">\n",
       "  <thead>\n",
       "    <tr style=\"text-align: right;\">\n",
       "      <th></th>\n",
       "      <th>children</th>\n",
       "      <th>days_employed</th>\n",
       "      <th>dob_years</th>\n",
       "      <th>education</th>\n",
       "      <th>education_id</th>\n",
       "      <th>family_status</th>\n",
       "      <th>family_status_id</th>\n",
       "      <th>gender</th>\n",
       "      <th>income_type</th>\n",
       "      <th>debt</th>\n",
       "      <th>total_income</th>\n",
       "      <th>purpose</th>\n",
       "    </tr>\n",
       "  </thead>\n",
       "  <tbody>\n",
       "    <tr>\n",
       "      <th>0</th>\n",
       "      <td>1</td>\n",
       "      <td>-8437.673028</td>\n",
       "      <td>42</td>\n",
       "      <td>высшее</td>\n",
       "      <td>0</td>\n",
       "      <td>женат / замужем</td>\n",
       "      <td>0</td>\n",
       "      <td>F</td>\n",
       "      <td>сотрудник</td>\n",
       "      <td>0</td>\n",
       "      <td>253875.639453</td>\n",
       "      <td>покупка жилья</td>\n",
       "    </tr>\n",
       "    <tr>\n",
       "      <th>1</th>\n",
       "      <td>1</td>\n",
       "      <td>-4024.803754</td>\n",
       "      <td>36</td>\n",
       "      <td>среднее</td>\n",
       "      <td>1</td>\n",
       "      <td>женат / замужем</td>\n",
       "      <td>0</td>\n",
       "      <td>F</td>\n",
       "      <td>сотрудник</td>\n",
       "      <td>0</td>\n",
       "      <td>112080.014102</td>\n",
       "      <td>приобретение автомобиля</td>\n",
       "    </tr>\n",
       "    <tr>\n",
       "      <th>2</th>\n",
       "      <td>0</td>\n",
       "      <td>-5623.422610</td>\n",
       "      <td>33</td>\n",
       "      <td>Среднее</td>\n",
       "      <td>1</td>\n",
       "      <td>женат / замужем</td>\n",
       "      <td>0</td>\n",
       "      <td>M</td>\n",
       "      <td>сотрудник</td>\n",
       "      <td>0</td>\n",
       "      <td>145885.952297</td>\n",
       "      <td>покупка жилья</td>\n",
       "    </tr>\n",
       "    <tr>\n",
       "      <th>3</th>\n",
       "      <td>3</td>\n",
       "      <td>-4124.747207</td>\n",
       "      <td>32</td>\n",
       "      <td>среднее</td>\n",
       "      <td>1</td>\n",
       "      <td>женат / замужем</td>\n",
       "      <td>0</td>\n",
       "      <td>M</td>\n",
       "      <td>сотрудник</td>\n",
       "      <td>0</td>\n",
       "      <td>267628.550329</td>\n",
       "      <td>дополнительное образование</td>\n",
       "    </tr>\n",
       "    <tr>\n",
       "      <th>4</th>\n",
       "      <td>0</td>\n",
       "      <td>340266.072047</td>\n",
       "      <td>53</td>\n",
       "      <td>среднее</td>\n",
       "      <td>1</td>\n",
       "      <td>гражданский брак</td>\n",
       "      <td>1</td>\n",
       "      <td>F</td>\n",
       "      <td>пенсионер</td>\n",
       "      <td>0</td>\n",
       "      <td>158616.077870</td>\n",
       "      <td>сыграть свадьбу</td>\n",
       "    </tr>\n",
       "    <tr>\n",
       "      <th>5</th>\n",
       "      <td>0</td>\n",
       "      <td>-926.185831</td>\n",
       "      <td>27</td>\n",
       "      <td>высшее</td>\n",
       "      <td>0</td>\n",
       "      <td>гражданский брак</td>\n",
       "      <td>1</td>\n",
       "      <td>M</td>\n",
       "      <td>компаньон</td>\n",
       "      <td>0</td>\n",
       "      <td>255763.565419</td>\n",
       "      <td>покупка жилья</td>\n",
       "    </tr>\n",
       "    <tr>\n",
       "      <th>6</th>\n",
       "      <td>0</td>\n",
       "      <td>-2879.202052</td>\n",
       "      <td>43</td>\n",
       "      <td>высшее</td>\n",
       "      <td>0</td>\n",
       "      <td>женат / замужем</td>\n",
       "      <td>0</td>\n",
       "      <td>F</td>\n",
       "      <td>компаньон</td>\n",
       "      <td>0</td>\n",
       "      <td>240525.971920</td>\n",
       "      <td>операции с жильем</td>\n",
       "    </tr>\n",
       "    <tr>\n",
       "      <th>7</th>\n",
       "      <td>0</td>\n",
       "      <td>-152.779569</td>\n",
       "      <td>50</td>\n",
       "      <td>СРЕДНЕЕ</td>\n",
       "      <td>1</td>\n",
       "      <td>женат / замужем</td>\n",
       "      <td>0</td>\n",
       "      <td>M</td>\n",
       "      <td>сотрудник</td>\n",
       "      <td>0</td>\n",
       "      <td>135823.934197</td>\n",
       "      <td>образование</td>\n",
       "    </tr>\n",
       "    <tr>\n",
       "      <th>8</th>\n",
       "      <td>2</td>\n",
       "      <td>-6929.865299</td>\n",
       "      <td>35</td>\n",
       "      <td>ВЫСШЕЕ</td>\n",
       "      <td>0</td>\n",
       "      <td>гражданский брак</td>\n",
       "      <td>1</td>\n",
       "      <td>F</td>\n",
       "      <td>сотрудник</td>\n",
       "      <td>0</td>\n",
       "      <td>95856.832424</td>\n",
       "      <td>на проведение свадьбы</td>\n",
       "    </tr>\n",
       "    <tr>\n",
       "      <th>9</th>\n",
       "      <td>0</td>\n",
       "      <td>-2188.756445</td>\n",
       "      <td>41</td>\n",
       "      <td>среднее</td>\n",
       "      <td>1</td>\n",
       "      <td>женат / замужем</td>\n",
       "      <td>0</td>\n",
       "      <td>M</td>\n",
       "      <td>сотрудник</td>\n",
       "      <td>0</td>\n",
       "      <td>144425.938277</td>\n",
       "      <td>покупка жилья для семьи</td>\n",
       "    </tr>\n",
       "    <tr>\n",
       "      <th>10</th>\n",
       "      <td>2</td>\n",
       "      <td>-4171.483647</td>\n",
       "      <td>36</td>\n",
       "      <td>высшее</td>\n",
       "      <td>0</td>\n",
       "      <td>женат / замужем</td>\n",
       "      <td>0</td>\n",
       "      <td>M</td>\n",
       "      <td>компаньон</td>\n",
       "      <td>0</td>\n",
       "      <td>113943.491460</td>\n",
       "      <td>покупка недвижимости</td>\n",
       "    </tr>\n",
       "    <tr>\n",
       "      <th>11</th>\n",
       "      <td>0</td>\n",
       "      <td>-792.701887</td>\n",
       "      <td>40</td>\n",
       "      <td>среднее</td>\n",
       "      <td>1</td>\n",
       "      <td>женат / замужем</td>\n",
       "      <td>0</td>\n",
       "      <td>F</td>\n",
       "      <td>сотрудник</td>\n",
       "      <td>0</td>\n",
       "      <td>77069.234271</td>\n",
       "      <td>покупка коммерческой недвижимости</td>\n",
       "    </tr>\n",
       "    <tr>\n",
       "      <th>12</th>\n",
       "      <td>0</td>\n",
       "      <td>NaN</td>\n",
       "      <td>65</td>\n",
       "      <td>среднее</td>\n",
       "      <td>1</td>\n",
       "      <td>гражданский брак</td>\n",
       "      <td>1</td>\n",
       "      <td>M</td>\n",
       "      <td>пенсионер</td>\n",
       "      <td>0</td>\n",
       "      <td>NaN</td>\n",
       "      <td>сыграть свадьбу</td>\n",
       "    </tr>\n",
       "    <tr>\n",
       "      <th>13</th>\n",
       "      <td>0</td>\n",
       "      <td>-1846.641941</td>\n",
       "      <td>54</td>\n",
       "      <td>неоконченное высшее</td>\n",
       "      <td>2</td>\n",
       "      <td>женат / замужем</td>\n",
       "      <td>0</td>\n",
       "      <td>F</td>\n",
       "      <td>сотрудник</td>\n",
       "      <td>0</td>\n",
       "      <td>130458.228857</td>\n",
       "      <td>приобретение автомобиля</td>\n",
       "    </tr>\n",
       "    <tr>\n",
       "      <th>14</th>\n",
       "      <td>0</td>\n",
       "      <td>-1844.956182</td>\n",
       "      <td>56</td>\n",
       "      <td>высшее</td>\n",
       "      <td>0</td>\n",
       "      <td>гражданский брак</td>\n",
       "      <td>1</td>\n",
       "      <td>F</td>\n",
       "      <td>компаньон</td>\n",
       "      <td>1</td>\n",
       "      <td>165127.911772</td>\n",
       "      <td>покупка жилой недвижимости</td>\n",
       "    </tr>\n",
       "    <tr>\n",
       "      <th>15</th>\n",
       "      <td>1</td>\n",
       "      <td>-972.364419</td>\n",
       "      <td>26</td>\n",
       "      <td>среднее</td>\n",
       "      <td>1</td>\n",
       "      <td>женат / замужем</td>\n",
       "      <td>0</td>\n",
       "      <td>F</td>\n",
       "      <td>сотрудник</td>\n",
       "      <td>0</td>\n",
       "      <td>116820.904450</td>\n",
       "      <td>строительство собственной недвижимости</td>\n",
       "    </tr>\n",
       "    <tr>\n",
       "      <th>16</th>\n",
       "      <td>0</td>\n",
       "      <td>-1719.934226</td>\n",
       "      <td>35</td>\n",
       "      <td>среднее</td>\n",
       "      <td>1</td>\n",
       "      <td>женат / замужем</td>\n",
       "      <td>0</td>\n",
       "      <td>F</td>\n",
       "      <td>сотрудник</td>\n",
       "      <td>0</td>\n",
       "      <td>289202.704229</td>\n",
       "      <td>недвижимость</td>\n",
       "    </tr>\n",
       "    <tr>\n",
       "      <th>17</th>\n",
       "      <td>0</td>\n",
       "      <td>-2369.999720</td>\n",
       "      <td>33</td>\n",
       "      <td>высшее</td>\n",
       "      <td>0</td>\n",
       "      <td>гражданский брак</td>\n",
       "      <td>1</td>\n",
       "      <td>M</td>\n",
       "      <td>сотрудник</td>\n",
       "      <td>0</td>\n",
       "      <td>90410.586745</td>\n",
       "      <td>строительство недвижимости</td>\n",
       "    </tr>\n",
       "    <tr>\n",
       "      <th>18</th>\n",
       "      <td>0</td>\n",
       "      <td>400281.136913</td>\n",
       "      <td>53</td>\n",
       "      <td>среднее</td>\n",
       "      <td>1</td>\n",
       "      <td>вдовец / вдова</td>\n",
       "      <td>2</td>\n",
       "      <td>F</td>\n",
       "      <td>пенсионер</td>\n",
       "      <td>0</td>\n",
       "      <td>56823.777243</td>\n",
       "      <td>на покупку подержанного автомобиля</td>\n",
       "    </tr>\n",
       "    <tr>\n",
       "      <th>19</th>\n",
       "      <td>0</td>\n",
       "      <td>-10038.818549</td>\n",
       "      <td>48</td>\n",
       "      <td>СРЕДНЕЕ</td>\n",
       "      <td>1</td>\n",
       "      <td>в разводе</td>\n",
       "      <td>3</td>\n",
       "      <td>F</td>\n",
       "      <td>сотрудник</td>\n",
       "      <td>0</td>\n",
       "      <td>242831.107982</td>\n",
       "      <td>на покупку своего автомобиля</td>\n",
       "    </tr>\n",
       "  </tbody>\n",
       "</table>\n",
       "</div>"
      ],
      "text/plain": [
       "    children  days_employed  dob_years            education  education_id  \\\n",
       "0          1   -8437.673028         42               высшее             0   \n",
       "1          1   -4024.803754         36              среднее             1   \n",
       "2          0   -5623.422610         33              Среднее             1   \n",
       "3          3   -4124.747207         32              среднее             1   \n",
       "4          0  340266.072047         53              среднее             1   \n",
       "5          0    -926.185831         27               высшее             0   \n",
       "6          0   -2879.202052         43               высшее             0   \n",
       "7          0    -152.779569         50              СРЕДНЕЕ             1   \n",
       "8          2   -6929.865299         35               ВЫСШЕЕ             0   \n",
       "9          0   -2188.756445         41              среднее             1   \n",
       "10         2   -4171.483647         36               высшее             0   \n",
       "11         0    -792.701887         40              среднее             1   \n",
       "12         0            NaN         65              среднее             1   \n",
       "13         0   -1846.641941         54  неоконченное высшее             2   \n",
       "14         0   -1844.956182         56               высшее             0   \n",
       "15         1    -972.364419         26              среднее             1   \n",
       "16         0   -1719.934226         35              среднее             1   \n",
       "17         0   -2369.999720         33               высшее             0   \n",
       "18         0  400281.136913         53              среднее             1   \n",
       "19         0  -10038.818549         48              СРЕДНЕЕ             1   \n",
       "\n",
       "       family_status  family_status_id gender income_type  debt  \\\n",
       "0    женат / замужем                 0      F   сотрудник     0   \n",
       "1    женат / замужем                 0      F   сотрудник     0   \n",
       "2    женат / замужем                 0      M   сотрудник     0   \n",
       "3    женат / замужем                 0      M   сотрудник     0   \n",
       "4   гражданский брак                 1      F   пенсионер     0   \n",
       "5   гражданский брак                 1      M   компаньон     0   \n",
       "6    женат / замужем                 0      F   компаньон     0   \n",
       "7    женат / замужем                 0      M   сотрудник     0   \n",
       "8   гражданский брак                 1      F   сотрудник     0   \n",
       "9    женат / замужем                 0      M   сотрудник     0   \n",
       "10   женат / замужем                 0      M   компаньон     0   \n",
       "11   женат / замужем                 0      F   сотрудник     0   \n",
       "12  гражданский брак                 1      M   пенсионер     0   \n",
       "13   женат / замужем                 0      F   сотрудник     0   \n",
       "14  гражданский брак                 1      F   компаньон     1   \n",
       "15   женат / замужем                 0      F   сотрудник     0   \n",
       "16   женат / замужем                 0      F   сотрудник     0   \n",
       "17  гражданский брак                 1      M   сотрудник     0   \n",
       "18    вдовец / вдова                 2      F   пенсионер     0   \n",
       "19         в разводе                 3      F   сотрудник     0   \n",
       "\n",
       "     total_income                                 purpose  \n",
       "0   253875.639453                           покупка жилья  \n",
       "1   112080.014102                 приобретение автомобиля  \n",
       "2   145885.952297                           покупка жилья  \n",
       "3   267628.550329              дополнительное образование  \n",
       "4   158616.077870                         сыграть свадьбу  \n",
       "5   255763.565419                           покупка жилья  \n",
       "6   240525.971920                       операции с жильем  \n",
       "7   135823.934197                             образование  \n",
       "8    95856.832424                   на проведение свадьбы  \n",
       "9   144425.938277                 покупка жилья для семьи  \n",
       "10  113943.491460                    покупка недвижимости  \n",
       "11   77069.234271       покупка коммерческой недвижимости  \n",
       "12            NaN                         сыграть свадьбу  \n",
       "13  130458.228857                 приобретение автомобиля  \n",
       "14  165127.911772              покупка жилой недвижимости  \n",
       "15  116820.904450  строительство собственной недвижимости  \n",
       "16  289202.704229                            недвижимость  \n",
       "17   90410.586745              строительство недвижимости  \n",
       "18   56823.777243      на покупку подержанного автомобиля  \n",
       "19  242831.107982            на покупку своего автомобиля  "
      ]
     },
     "execution_count": 2,
     "metadata": {},
     "output_type": "execute_result"
    }
   ],
   "source": [
    "data.head(20)"
   ]
  },
  {
   "cell_type": "markdown",
   "id": "0ed8f27f",
   "metadata": {
    "deletable": false,
    "editable": false,
    "id": "0ed8f27f"
   },
   "source": [
    "**Задание 3. Выведите основную информацию о датафрейме с помощью метода `info()`.**"
   ]
  },
  {
   "cell_type": "code",
   "execution_count": 3,
   "id": "ab3f863b",
   "metadata": {
    "deletable": false,
    "id": "ab3f863b",
    "outputId": "15376089-8dad-46c9-b520-c05248d43158"
   },
   "outputs": [
    {
     "name": "stdout",
     "output_type": "stream",
     "text": [
      "<class 'pandas.core.frame.DataFrame'>\n",
      "RangeIndex: 21525 entries, 0 to 21524\n",
      "Data columns (total 12 columns):\n",
      " #   Column            Non-Null Count  Dtype  \n",
      "---  ------            --------------  -----  \n",
      " 0   children          21525 non-null  int64  \n",
      " 1   days_employed     19351 non-null  float64\n",
      " 2   dob_years         21525 non-null  int64  \n",
      " 3   education         21525 non-null  object \n",
      " 4   education_id      21525 non-null  int64  \n",
      " 5   family_status     21525 non-null  object \n",
      " 6   family_status_id  21525 non-null  int64  \n",
      " 7   gender            21525 non-null  object \n",
      " 8   income_type       21525 non-null  object \n",
      " 9   debt              21525 non-null  int64  \n",
      " 10  total_income      19351 non-null  float64\n",
      " 11  purpose           21525 non-null  object \n",
      "dtypes: float64(2), int64(5), object(5)\n",
      "memory usage: 2.0+ MB\n"
     ]
    }
   ],
   "source": [
    "data.info()"
   ]
  },
  {
   "cell_type": "markdown",
   "id": "60e3e22d",
   "metadata": {
    "deletable": false,
    "editable": false,
    "id": "60e3e22d"
   },
   "source": [
    "## Предобработка данных"
   ]
  },
  {
   "cell_type": "markdown",
   "id": "03dc170c",
   "metadata": {
    "deletable": false,
    "editable": false,
    "id": "03dc170c"
   },
   "source": [
    "### Удаление пропусков"
   ]
  },
  {
   "cell_type": "markdown",
   "id": "a4f54eef",
   "metadata": {
    "deletable": false,
    "editable": false,
    "id": "a4f54eef"
   },
   "source": [
    "**Задание 4. Выведите количество пропущенных значений для каждого столбца. Используйте комбинацию двух методов.**"
   ]
  },
  {
   "cell_type": "code",
   "execution_count": 4,
   "id": "2dc372b2",
   "metadata": {
    "deletable": false,
    "id": "2dc372b2",
    "outputId": "81f4d817-781c-465c-ed15-91ce4446810d"
   },
   "outputs": [
    {
     "data": {
      "text/plain": [
       "children               0\n",
       "days_employed       2174\n",
       "dob_years              0\n",
       "education              0\n",
       "education_id           0\n",
       "family_status          0\n",
       "family_status_id       0\n",
       "gender                 0\n",
       "income_type            0\n",
       "debt                   0\n",
       "total_income        2174\n",
       "purpose                0\n",
       "dtype: int64"
      ]
     },
     "execution_count": 4,
     "metadata": {},
     "output_type": "execute_result"
    }
   ],
   "source": [
    "data.isna().sum()"
   ]
  },
  {
   "cell_type": "markdown",
   "id": "14f011b1",
   "metadata": {
    "deletable": false,
    "editable": false,
    "id": "14f011b1"
   },
   "source": [
    "**Задание 5. В двух столбцах есть пропущенные значения. Один из них — `days_employed`. Пропуски в этом столбце вы обработаете на следующем этапе. Другой столбец с пропущенными значениями — `total_income` — хранит данные о доходах. На сумму дохода сильнее всего влияет тип занятости, поэтому заполнить пропуски в этом столбце нужно медианным значением по каждому типу из столбца `income_type`. Например, у человека с типом занятости `сотрудник` пропуск в столбце `total_income` должен быть заполнен медианным доходом среди всех записей с тем же типом.**"
   ]
  },
  {
   "cell_type": "code",
   "execution_count": 5,
   "id": "bdabfb6e",
   "metadata": {
    "deletable": false,
    "id": "bdabfb6e"
   },
   "outputs": [],
   "source": [
    "for t in data['income_type'].unique():\n",
    "    data.loc[(data['income_type'] == t) & (data['total_income'].isna()), 'total_income'] = \\\n",
    "    data.loc[(data['income_type'] == t), 'total_income'].median()"
   ]
  },
  {
   "cell_type": "markdown",
   "id": "5be34059",
   "metadata": {
    "deletable": false,
    "editable": false,
    "id": "5be34059"
   },
   "source": [
    "### Обработка аномальных значений"
   ]
  },
  {
   "cell_type": "markdown",
   "id": "a87606cb",
   "metadata": {
    "deletable": false,
    "editable": false,
    "id": "a87606cb"
   },
   "source": [
    "**Задание 6. В данных могут встречаться артефакты (аномалии) — значения, которые не отражают действительность и появились по какой-то ошибке. таким артефактом будет отрицательное количество дней трудового стажа в столбце `days_employed`. Для реальных данных это нормально. Обработайте значения в этом столбце: замените все отрицательные значения положительными с помощью метода `abs()`.**"
   ]
  },
  {
   "cell_type": "code",
   "execution_count": 6,
   "id": "020c46cc",
   "metadata": {
    "deletable": false,
    "id": "020c46cc"
   },
   "outputs": [],
   "source": [
    "data['days_employed'] = data['days_employed'].abs()"
   ]
  },
  {
   "cell_type": "markdown",
   "id": "45538a3a",
   "metadata": {
    "deletable": false,
    "editable": false,
    "id": "45538a3a"
   },
   "source": [
    "**Задание 7. Для каждого типа занятости выведите медианное значение трудового стажа `days_employed` в днях.**"
   ]
  },
  {
   "cell_type": "code",
   "execution_count": 7,
   "id": "cd3e6328",
   "metadata": {
    "deletable": false,
    "id": "cd3e6328",
    "outputId": "801ef80e-522b-4668-f34e-565af7432bcf"
   },
   "outputs": [
    {
     "data": {
      "text/plain": [
       "income_type\n",
       "безработный        366413.652744\n",
       "в декрете            3296.759962\n",
       "госслужащий          2689.368353\n",
       "компаньон            1547.382223\n",
       "пенсионер          365213.306266\n",
       "предприниматель       520.848083\n",
       "сотрудник            1574.202821\n",
       "студент               578.751554\n",
       "Name: days_employed, dtype: float64"
      ]
     },
     "execution_count": 7,
     "metadata": {},
     "output_type": "execute_result"
    }
   ],
   "source": [
    "data.groupby('income_type')['days_employed'].agg('median')"
   ]
  },
  {
   "cell_type": "markdown",
   "id": "90c5f058",
   "metadata": {
    "deletable": false,
    "editable": false,
    "id": "90c5f058"
   },
   "source": [
    "У двух типов (безработные и пенсионеры) получатся аномально большие значения. Исправить такие значения сложно, поэтому оставьте их как есть."
   ]
  },
  {
   "cell_type": "markdown",
   "id": "9652e50d",
   "metadata": {
    "deletable": false,
    "editable": false,
    "id": "9652e50d"
   },
   "source": [
    "**Задание 8. Выведите перечень уникальных значений столбца `children`.**"
   ]
  },
  {
   "cell_type": "code",
   "execution_count": 8,
   "id": "dbb37b8e",
   "metadata": {
    "deletable": false,
    "id": "dbb37b8e",
    "outputId": "6975b15c-7f95-4697-d16d-a0c79b657b03"
   },
   "outputs": [
    {
     "data": {
      "text/plain": [
       "array([ 1,  0,  3,  2, -1,  4, 20,  5])"
      ]
     },
     "execution_count": 8,
     "metadata": {},
     "output_type": "execute_result"
    }
   ],
   "source": [
    "data['children'].unique()"
   ]
  },
  {
   "cell_type": "markdown",
   "id": "2b8b0715",
   "metadata": {
    "deletable": false,
    "editable": false,
    "id": "2b8b0715"
   },
   "source": [
    "**Задание 9. В столбце `children` есть два аномальных значения. Удалите строки, в которых встречаются такие аномальные значения из датафрейма `data`.**"
   ]
  },
  {
   "cell_type": "code",
   "execution_count": 9,
   "id": "20009df8",
   "metadata": {
    "deletable": false,
    "id": "20009df8"
   },
   "outputs": [],
   "source": [
    "data = data[(data['children'] != -1) & (data['children'] != 20)]"
   ]
  },
  {
   "cell_type": "markdown",
   "id": "8c6ac9f1",
   "metadata": {
    "deletable": false,
    "editable": false,
    "id": "8c6ac9f1"
   },
   "source": [
    "**Задание 10. Ещё раз выведите перечень уникальных значений столбца `children`, чтобы убедиться, что артефакты удалены.**"
   ]
  },
  {
   "cell_type": "code",
   "execution_count": 10,
   "id": "07337b81",
   "metadata": {
    "deletable": false,
    "id": "07337b81",
    "outputId": "b2097101-d49d-44d9-901b-32a65c9463d1"
   },
   "outputs": [
    {
     "data": {
      "text/plain": [
       "array([1, 0, 3, 2, 4, 5])"
      ]
     },
     "execution_count": 10,
     "metadata": {},
     "output_type": "execute_result"
    }
   ],
   "source": [
    "data['children'].unique()"
   ]
  },
  {
   "cell_type": "markdown",
   "id": "ee3f52d4",
   "metadata": {
    "deletable": false,
    "editable": false,
    "id": "ee3f52d4"
   },
   "source": [
    "### Удаление пропусков (продолжение)"
   ]
  },
  {
   "cell_type": "markdown",
   "id": "a700b0e4",
   "metadata": {
    "deletable": false,
    "editable": false,
    "id": "a700b0e4"
   },
   "source": [
    "**Задание 11. Заполните пропуски в столбце `days_employed` медианными значениями по каждого типа занятости `income_type`.**"
   ]
  },
  {
   "cell_type": "code",
   "execution_count": 11,
   "id": "61946b83",
   "metadata": {
    "deletable": false,
    "id": "61946b83"
   },
   "outputs": [],
   "source": [
    "for t in data['income_type'].unique():\n",
    "    data.loc[(data['income_type'] == t) & (data['days_employed'].isna()), 'days_employed'] = \\\n",
    "    data.loc[(data['income_type'] == t), 'days_employed'].median()"
   ]
  },
  {
   "cell_type": "markdown",
   "id": "550dcd9b",
   "metadata": {
    "deletable": false,
    "editable": false,
    "id": "550dcd9b"
   },
   "source": [
    "**Задание 12. Убедитесь, что все пропуски заполнены. Проверьте себя и ещё раз выведите количество пропущенных значений для каждого столбца с помощью двух методов.**"
   ]
  },
  {
   "cell_type": "code",
   "execution_count": 12,
   "id": "937c7014",
   "metadata": {
    "deletable": false,
    "id": "937c7014",
    "outputId": "8da1e4e1-358e-4e87-98c9-f261bce0a7b2"
   },
   "outputs": [
    {
     "data": {
      "text/plain": [
       "children            0\n",
       "days_employed       0\n",
       "dob_years           0\n",
       "education           0\n",
       "education_id        0\n",
       "family_status       0\n",
       "family_status_id    0\n",
       "gender              0\n",
       "income_type         0\n",
       "debt                0\n",
       "total_income        0\n",
       "purpose             0\n",
       "dtype: int64"
      ]
     },
     "execution_count": 12,
     "metadata": {},
     "output_type": "execute_result"
    }
   ],
   "source": [
    "data.isna().sum()"
   ]
  },
  {
   "cell_type": "markdown",
   "id": "d522e295",
   "metadata": {
    "deletable": false,
    "editable": false,
    "id": "d522e295"
   },
   "source": [
    "### Изменение типов данных"
   ]
  },
  {
   "cell_type": "markdown",
   "id": "c229c581",
   "metadata": {
    "deletable": false,
    "editable": false,
    "id": "c229c581"
   },
   "source": [
    "**Задание 13. Замените вещественный тип данных в столбце `total_income` на целочисленный с помощью метода `astype()`.**"
   ]
  },
  {
   "cell_type": "code",
   "execution_count": 13,
   "id": "31036462",
   "metadata": {
    "deletable": false,
    "id": "31036462"
   },
   "outputs": [],
   "source": [
    "data['total_income'] = data['total_income'].astype(int)"
   ]
  },
  {
   "cell_type": "markdown",
   "id": "b8e3d1d9",
   "metadata": {
    "deletable": false,
    "editable": false,
    "id": "b8e3d1d9"
   },
   "source": [
    "### Обработка дубликатов"
   ]
  },
  {
   "cell_type": "markdown",
   "id": "9be53c49",
   "metadata": {
    "deletable": false,
    "editable": false,
    "id": "9be53c49"
   },
   "source": [
    "**Задание 14. Обработайте неявные дубликаты в столбце `education`. В этом столбце есть одни и те же значения, но записанные по-разному: с использованием заглавных и строчных букв. Приведите их к нижнему регистру.**"
   ]
  },
  {
   "cell_type": "code",
   "execution_count": 14,
   "id": "d89e73e1",
   "metadata": {
    "deletable": false,
    "id": "d89e73e1"
   },
   "outputs": [],
   "source": [
    "data['education'] = data['education'].str.lower()"
   ]
  },
  {
   "cell_type": "markdown",
   "id": "01d4500e",
   "metadata": {
    "deletable": false,
    "editable": false,
    "id": "01d4500e"
   },
   "source": [
    "**Задание 15. Выведите на экран количество строк-дубликатов в данных. Если такие строки присутствуют, удалите их.**"
   ]
  },
  {
   "cell_type": "code",
   "execution_count": 15,
   "id": "e10efb23",
   "metadata": {
    "deletable": false,
    "id": "e10efb23",
    "outputId": "9684deba-1934-42d1-99e1-cda61740f822"
   },
   "outputs": [
    {
     "data": {
      "text/plain": [
       "71"
      ]
     },
     "execution_count": 15,
     "metadata": {},
     "output_type": "execute_result"
    }
   ],
   "source": [
    "data.duplicated().sum()"
   ]
  },
  {
   "cell_type": "code",
   "execution_count": 16,
   "id": "df853f20",
   "metadata": {
    "deletable": false,
    "id": "df853f20"
   },
   "outputs": [],
   "source": [
    "data = data.drop_duplicates()"
   ]
  },
  {
   "cell_type": "markdown",
   "id": "627be38f",
   "metadata": {
    "deletable": false,
    "editable": false,
    "id": "627be38f"
   },
   "source": [
    "### Категоризация данных"
   ]
  },
  {
   "cell_type": "markdown",
   "id": "4684c3e0",
   "metadata": {
    "deletable": false,
    "editable": false,
    "id": "4684c3e0"
   },
   "source": [
    "**Задание 16. На основании диапазонов, указанных ниже, создайте в датафрейме `data` столбец `total_income_category` с категориями:**\n",
    "\n",
    "- 0–30000 — `'E'`;\n",
    "- 30001–50000 — `'D'`;\n",
    "- 50001–200000 — `'C'`;\n",
    "- 200001–1000000 — `'B'`;\n",
    "- 1000001 и выше — `'A'`.\n",
    "\n",
    "\n",
    "**Например, кредитополучателю с доходом 25000 нужно назначить категорию `'E'`, а клиенту, получающему 235000, — `'B'`. Используйте собственную функцию с именем `categorize_income()` и метод `apply()`.**"
   ]
  },
  {
   "cell_type": "code",
   "execution_count": 17,
   "id": "78965238",
   "metadata": {
    "deletable": false,
    "id": "78965238"
   },
   "outputs": [],
   "source": [
    "def categorize_income(income):\n",
    "    try:\n",
    "        if 0 <= income <= 30000:\n",
    "            return 'E'\n",
    "        elif 30001 <= income <= 50000:\n",
    "            return 'D'\n",
    "        elif 50001 <= income <= 200000:\n",
    "            return 'C'\n",
    "        elif 200001 <= income <= 1000000:\n",
    "            return 'B'\n",
    "        elif income >= 1000001:\n",
    "            return 'A'\n",
    "    except:\n",
    "        pass"
   ]
  },
  {
   "cell_type": "code",
   "execution_count": 18,
   "id": "0980ada1",
   "metadata": {
    "deletable": false,
    "id": "0980ada1"
   },
   "outputs": [],
   "source": [
    "data['total_income_category'] = data['total_income'].apply(categorize_income)"
   ]
  },
  {
   "cell_type": "markdown",
   "id": "9917bba0",
   "metadata": {
    "deletable": false,
    "editable": false,
    "id": "9917bba0"
   },
   "source": [
    "**Задание 17. Выведите на экран перечень уникальных целей взятия кредита из столбца `purpose`.**"
   ]
  },
  {
   "cell_type": "code",
   "execution_count": 19,
   "id": "ee07b65e",
   "metadata": {
    "deletable": false,
    "id": "ee07b65e",
    "outputId": "673c12d9-7d7e-4ae0-9812-c622c89dd244"
   },
   "outputs": [
    {
     "data": {
      "text/plain": [
       "array(['покупка жилья', 'приобретение автомобиля',\n",
       "       'дополнительное образование', 'сыграть свадьбу',\n",
       "       'операции с жильем', 'образование', 'на проведение свадьбы',\n",
       "       'покупка жилья для семьи', 'покупка недвижимости',\n",
       "       'покупка коммерческой недвижимости', 'покупка жилой недвижимости',\n",
       "       'строительство собственной недвижимости', 'недвижимость',\n",
       "       'строительство недвижимости', 'на покупку подержанного автомобиля',\n",
       "       'на покупку своего автомобиля',\n",
       "       'операции с коммерческой недвижимостью',\n",
       "       'строительство жилой недвижимости', 'жилье',\n",
       "       'операции со своей недвижимостью', 'автомобили',\n",
       "       'заняться образованием', 'сделка с подержанным автомобилем',\n",
       "       'получение образования', 'автомобиль', 'свадьба',\n",
       "       'получение дополнительного образования', 'покупка своего жилья',\n",
       "       'операции с недвижимостью', 'получение высшего образования',\n",
       "       'свой автомобиль', 'сделка с автомобилем',\n",
       "       'профильное образование', 'высшее образование',\n",
       "       'покупка жилья для сдачи', 'на покупку автомобиля', 'ремонт жилью',\n",
       "       'заняться высшим образованием'], dtype=object)"
      ]
     },
     "execution_count": 19,
     "metadata": {},
     "output_type": "execute_result"
    }
   ],
   "source": [
    "data['purpose'].unique()"
   ]
  },
  {
   "cell_type": "markdown",
   "id": "52b79d56",
   "metadata": {
    "deletable": false,
    "editable": false,
    "id": "52b79d56"
   },
   "source": [
    "**Задание 18. Создайте функцию, которая на основании данных из столбца `purpose` сформирует новый столбец `purpose_category`, в который войдут следующие категории:**\n",
    "\n",
    "- `'операции с автомобилем'`,\n",
    "- `'операции с недвижимостью'`,\n",
    "- `'проведение свадьбы'`,\n",
    "- `'получение образования'`.\n",
    "\n",
    "**Например, если в столбце `purpose` находится подстрока `'на покупку автомобиля'`, то в столбце `purpose_category` должна появиться строка `'операции с автомобилем'`.**\n",
    "\n",
    "**Используйте собственную функцию с именем `categorize_purpose()` и метод `apply()`. Изучите данные в столбце `purpose` и определите, какие подстроки помогут вам правильно определить категорию.**"
   ]
  },
  {
   "cell_type": "code",
   "execution_count": 20,
   "id": "be41da5d",
   "metadata": {
    "deletable": false,
    "id": "be41da5d"
   },
   "outputs": [],
   "source": [
    "def categorize_purpose(row):\n",
    "    try:\n",
    "        if 'автом' in row:\n",
    "            return 'операции с автомобилем'\n",
    "        elif 'жил' in row or 'недвиж' in row:\n",
    "            return 'операции с недвижимостью'\n",
    "        elif 'свад' in row:\n",
    "            return 'проведение свадьбы'\n",
    "        elif 'образов' in row:\n",
    "            return 'получение образования'\n",
    "    except:\n",
    "        return 'нет категории'"
   ]
  },
  {
   "cell_type": "code",
   "execution_count": 21,
   "id": "94c4a19a",
   "metadata": {
    "deletable": false,
    "id": "94c4a19a"
   },
   "outputs": [],
   "source": [
    "data['purpose_category'] = data['purpose'].apply(categorize_purpose)"
   ]
  },
  {
   "cell_type": "markdown",
   "id": "3d596c34",
   "metadata": {
    "deletable": false,
    "editable": false,
    "id": "3d596c34"
   },
   "source": [
    "### Шаг 3. Исследуйте данные и ответьте на вопросы"
   ]
  },
  {
   "cell_type": "markdown",
   "id": "648db036",
   "metadata": {
    "deletable": false,
    "editable": false,
    "id": "648db036"
   },
   "source": [
    "#### 3.1 Есть ли зависимость между количеством детей и возвратом кредита в срок?"
   ]
  },
  {
   "cell_type": "code",
   "execution_count": 22,
   "id": "76230927",
   "metadata": {},
   "outputs": [
    {
     "data": {
      "text/plain": [
       "0    14091\n",
       "1     4808\n",
       "2     2052\n",
       "3      330\n",
       "4       41\n",
       "5        9\n",
       "Name: children, dtype: int64"
      ]
     },
     "execution_count": 22,
     "metadata": {},
     "output_type": "execute_result"
    }
   ],
   "source": [
    "data['children'].value_counts()\n",
    "#вспомнила какие варианты количества детей имеются в таблице"
   ]
  },
  {
   "cell_type": "markdown",
   "id": "993b07ed",
   "metadata": {},
   "source": [
    "Вариантов оказалось немного, больше всего бездетных ~14 000, ~4800 с одним, ~2000 с двумя\n",
    "и меньше всего многодетных семей, поэтому возможно имеет смысл объединить их в одну категорию \n",
    "(возможно и нет, проверим в дальнейшем это выстраиванием двух сводных.\n",
    "первую выстроим: от категории \"детности\" и вторую: от количества детей)"
   ]
  },
  {
   "cell_type": "code",
   "execution_count": 23,
   "id": "7fcff25e",
   "metadata": {
    "deletable": false,
    "id": "7fcff25e"
   },
   "outputs": [
    {
     "data": {
      "text/html": [
       "<div>\n",
       "<style scoped>\n",
       "    .dataframe tbody tr th:only-of-type {\n",
       "        vertical-align: middle;\n",
       "    }\n",
       "\n",
       "    .dataframe tbody tr th {\n",
       "        vertical-align: top;\n",
       "    }\n",
       "\n",
       "    .dataframe thead th {\n",
       "        text-align: right;\n",
       "    }\n",
       "</style>\n",
       "<table border=\"1\" class=\"dataframe\">\n",
       "  <thead>\n",
       "    <tr style=\"text-align: right;\">\n",
       "      <th></th>\n",
       "      <th>children</th>\n",
       "      <th>children_category</th>\n",
       "    </tr>\n",
       "  </thead>\n",
       "  <tbody>\n",
       "    <tr>\n",
       "      <th>0</th>\n",
       "      <td>1</td>\n",
       "      <td>обычная семья</td>\n",
       "    </tr>\n",
       "    <tr>\n",
       "      <th>1</th>\n",
       "      <td>1</td>\n",
       "      <td>обычная семья</td>\n",
       "    </tr>\n",
       "    <tr>\n",
       "      <th>2</th>\n",
       "      <td>0</td>\n",
       "      <td>Бездетные</td>\n",
       "    </tr>\n",
       "    <tr>\n",
       "      <th>3</th>\n",
       "      <td>3</td>\n",
       "      <td>многодетная семья</td>\n",
       "    </tr>\n",
       "    <tr>\n",
       "      <th>4</th>\n",
       "      <td>0</td>\n",
       "      <td>Бездетные</td>\n",
       "    </tr>\n",
       "    <tr>\n",
       "      <th>5</th>\n",
       "      <td>0</td>\n",
       "      <td>Бездетные</td>\n",
       "    </tr>\n",
       "    <tr>\n",
       "      <th>6</th>\n",
       "      <td>0</td>\n",
       "      <td>Бездетные</td>\n",
       "    </tr>\n",
       "    <tr>\n",
       "      <th>7</th>\n",
       "      <td>0</td>\n",
       "      <td>Бездетные</td>\n",
       "    </tr>\n",
       "    <tr>\n",
       "      <th>8</th>\n",
       "      <td>2</td>\n",
       "      <td>обычная семья</td>\n",
       "    </tr>\n",
       "    <tr>\n",
       "      <th>9</th>\n",
       "      <td>0</td>\n",
       "      <td>Бездетные</td>\n",
       "    </tr>\n",
       "  </tbody>\n",
       "</table>\n",
       "</div>"
      ],
      "text/plain": [
       "   children  children_category\n",
       "0         1      обычная семья\n",
       "1         1      обычная семья\n",
       "2         0          Бездетные\n",
       "3         3  многодетная семья\n",
       "4         0          Бездетные\n",
       "5         0          Бездетные\n",
       "6         0          Бездетные\n",
       "7         0          Бездетные\n",
       "8         2      обычная семья\n",
       "9         0          Бездетные"
      ]
     },
     "execution_count": 23,
     "metadata": {},
     "output_type": "execute_result"
    }
   ],
   "source": [
    "#Для личного удобства в анализе разобью семьи на 3 категории через функцию с созданием if\n",
    "def children_category_foo(children):\n",
    "    if children == 0:\n",
    "        return 'Бездетные'\n",
    "    if children == 1 or children == 2:\n",
    "        return 'обычная семья'\n",
    "    if children >= 3:\n",
    "        return 'многодетная семья'\n",
    "\n",
    "#создаем новый столбец в нашей таблице, добавляем туда данные с помощью обработки функцией данных из столбца children\n",
    "data['children_category'] = data['children'].apply(children_category_foo)\n",
    "\n",
    "#проверим корректность работы функции путем вывода 2-х столбцов таблицы\n",
    "data[['children','children_category']].head(10)"
   ]
  },
  {
   "cell_type": "code",
   "execution_count": 24,
   "id": "c2d32207",
   "metadata": {},
   "outputs": [
    {
     "data": {
      "text/html": [
       "<div>\n",
       "<style scoped>\n",
       "    .dataframe tbody tr th:only-of-type {\n",
       "        vertical-align: middle;\n",
       "    }\n",
       "\n",
       "    .dataframe tbody tr th {\n",
       "        vertical-align: top;\n",
       "    }\n",
       "\n",
       "    .dataframe thead tr th {\n",
       "        text-align: left;\n",
       "    }\n",
       "\n",
       "    .dataframe thead tr:last-of-type th {\n",
       "        text-align: right;\n",
       "    }\n",
       "</style>\n",
       "<table border=\"1\" class=\"dataframe\">\n",
       "  <thead>\n",
       "    <tr>\n",
       "      <th></th>\n",
       "      <th>count</th>\n",
       "      <th>per_debt</th>\n",
       "    </tr>\n",
       "    <tr>\n",
       "      <th></th>\n",
       "      <th>debt</th>\n",
       "      <th>debt</th>\n",
       "    </tr>\n",
       "    <tr>\n",
       "      <th>children</th>\n",
       "      <th></th>\n",
       "      <th></th>\n",
       "    </tr>\n",
       "  </thead>\n",
       "  <tbody>\n",
       "    <tr>\n",
       "      <th>0</th>\n",
       "      <td>14091</td>\n",
       "      <td>7.54%</td>\n",
       "    </tr>\n",
       "    <tr>\n",
       "      <th>1</th>\n",
       "      <td>4808</td>\n",
       "      <td>9.23%</td>\n",
       "    </tr>\n",
       "    <tr>\n",
       "      <th>2</th>\n",
       "      <td>2052</td>\n",
       "      <td>9.45%</td>\n",
       "    </tr>\n",
       "  </tbody>\n",
       "</table>\n",
       "</div>"
      ],
      "text/plain": [
       "          count per_debt\n",
       "           debt     debt\n",
       "children                \n",
       "0         14091    7.54%\n",
       "1          4808    9.23%\n",
       "2          2052    9.45%"
      ]
     },
     "execution_count": 24,
     "metadata": {},
     "output_type": "execute_result"
    }
   ],
   "source": [
    "#Введем функцию обрабатывающую данные из столбца с фактами задолженности:\n",
    "def per_debt(pdSerises):\n",
    "    return str(round((pdSerises.sum() / pdSerises.count()) * 100, 2)) + '%'\n",
    "\n",
    "#создадим сводную таблицу с двумя столбцами - количеством заемщиков определенной категории \n",
    "#и % имевших задолженностей среди этих категорий\n",
    "data_pivot = data.pivot_table(index=['children'], values=['debt'], aggfunc=['count',per_debt])\n",
    "\n",
    "#выведем результат отсориториванной сводной таблицы, с теми группами заемщиков, которые преобладают\n",
    "data_pivot[data_pivot['count', 'debt'] > 1000].sort_values(by=('per_debt', 'debt'))"
   ]
  },
  {
   "cell_type": "markdown",
   "id": "4dcba3d4",
   "metadata": {},
   "source": [
    "Функция категоризации семей работает корректно, теперь нужно обработать данные столбца с количеством просрочек.\n",
    "Для этого понадобится столбец 'debt'. По документации: debt — имел ли задолженность по возврату кредитов.\n",
    "Посмотрим какие уникальные значения в нем представлены, какой это тип данных. (пробежавшись визуально по таблице, кажется, что там только 1/0 булевы значения)"
   ]
  },
  {
   "cell_type": "code",
   "execution_count": 25,
   "id": "c2fa461c",
   "metadata": {},
   "outputs": [
    {
     "data": {
      "text/plain": [
       "0    19599\n",
       "1     1732\n",
       "Name: debt, dtype: int64"
      ]
     },
     "execution_count": 25,
     "metadata": {},
     "output_type": "execute_result"
    }
   ],
   "source": [
    "data['debt'].value_counts()"
   ]
  },
  {
   "cell_type": "markdown",
   "id": "dc9c5c88",
   "metadata": {},
   "source": [
    "я применила функцию, подсчитывающую количество строк по уникальным значениям столбца.\n",
    "В столбце debt действительно хранятся значения только 1/0. Следовательно, для того, чтобы построить сводные таблицы, нам потребуется обработать эти данные, чтобы таблица отражала % просрочек в зависимости от категории семьи или количества детей."
   ]
  },
  {
   "cell_type": "code",
   "execution_count": 26,
   "id": "629fe421",
   "metadata": {},
   "outputs": [],
   "source": [
    "#создадим вторую функцию per_debt, которая будет выводить нам процент просрочек. \n",
    "'''Мы работает с датафреймом в pandas, значит мы можем поделить объекты типа Serises друг на друга,\n",
    "умножить на 100 (%), округлить наше значение до 2-х знаком после запятой и вывести строку с добавлением нужного нам знака'''\n",
    "\n",
    "def per_debt(pdSerises):\n",
    "    return str(round((pdSerises.sum() / pdSerises.count()) * 100, 2)) + '%'"
   ]
  },
  {
   "cell_type": "code",
   "execution_count": 27,
   "id": "f311a792",
   "metadata": {},
   "outputs": [
    {
     "data": {
      "text/html": [
       "<div>\n",
       "<style scoped>\n",
       "    .dataframe tbody tr th:only-of-type {\n",
       "        vertical-align: middle;\n",
       "    }\n",
       "\n",
       "    .dataframe tbody tr th {\n",
       "        vertical-align: top;\n",
       "    }\n",
       "\n",
       "    .dataframe thead tr th {\n",
       "        text-align: left;\n",
       "    }\n",
       "\n",
       "    .dataframe thead tr:last-of-type th {\n",
       "        text-align: right;\n",
       "    }\n",
       "</style>\n",
       "<table border=\"1\" class=\"dataframe\">\n",
       "  <thead>\n",
       "    <tr>\n",
       "      <th></th>\n",
       "      <th>sum</th>\n",
       "      <th>count</th>\n",
       "      <th>per_debt</th>\n",
       "    </tr>\n",
       "    <tr>\n",
       "      <th></th>\n",
       "      <th>debt</th>\n",
       "      <th>debt</th>\n",
       "      <th>debt</th>\n",
       "    </tr>\n",
       "    <tr>\n",
       "      <th>children_category</th>\n",
       "      <th></th>\n",
       "      <th></th>\n",
       "      <th></th>\n",
       "    </tr>\n",
       "  </thead>\n",
       "  <tbody>\n",
       "    <tr>\n",
       "      <th>Бездетные</th>\n",
       "      <td>1063</td>\n",
       "      <td>14091</td>\n",
       "      <td>7.54%</td>\n",
       "    </tr>\n",
       "    <tr>\n",
       "      <th>многодетная семья</th>\n",
       "      <td>31</td>\n",
       "      <td>380</td>\n",
       "      <td>8.16%</td>\n",
       "    </tr>\n",
       "    <tr>\n",
       "      <th>обычная семья</th>\n",
       "      <td>638</td>\n",
       "      <td>6860</td>\n",
       "      <td>9.3%</td>\n",
       "    </tr>\n",
       "  </tbody>\n",
       "</table>\n",
       "</div>"
      ],
      "text/plain": [
       "                    sum  count per_debt\n",
       "                   debt   debt     debt\n",
       "children_category                      \n",
       "Бездетные          1063  14091    7.54%\n",
       "многодетная семья    31    380    8.16%\n",
       "обычная семья       638   6860     9.3%"
      ]
     },
     "execution_count": 27,
     "metadata": {},
     "output_type": "execute_result"
    }
   ],
   "source": [
    "#выстроим сводную таблицу data_pivot с помощью инструмена pivot_table. Установим фильтр по категории \"детности\" семьи.\n",
    "#в качестве значений возьмем наш столбец просрочек debt, обработаем его с помощью 3-х функций.\n",
    "data_pivot = data.pivot_table(index=['children_category'], values=['debt'], aggfunc=['sum','count',per_debt])\n",
    "\n",
    "#выводим результат отсориториванной сводной таблицы\n",
    "data_pivot.sort_values(by=('per_debt', 'debt'))"
   ]
  },
  {
   "cell_type": "markdown",
   "id": "9e4c6ff3",
   "metadata": {},
   "source": [
    "В первой сводной таблице мы видим, что наименьшее количество фактов задолженности по возврату кредитов - имеют бездетные семьи, а вот обычные семьи с 1-2 детьми вероятно не самые надеждые заемщики судя по первой сводной.\n",
    "Чтобы потвердить вывод, сделаю еще одну сводную, не от категории семьи, а от количества детей, возможно семьи с одним ребенком будут на равне с бездетными, а после появления второго ребенка количество просрочек резко вырастает."
   ]
  },
  {
   "cell_type": "code",
   "execution_count": 28,
   "id": "1555d290",
   "metadata": {},
   "outputs": [
    {
     "data": {
      "text/html": [
       "<div>\n",
       "<style scoped>\n",
       "    .dataframe tbody tr th:only-of-type {\n",
       "        vertical-align: middle;\n",
       "    }\n",
       "\n",
       "    .dataframe tbody tr th {\n",
       "        vertical-align: top;\n",
       "    }\n",
       "\n",
       "    .dataframe thead tr th {\n",
       "        text-align: left;\n",
       "    }\n",
       "\n",
       "    .dataframe thead tr:last-of-type th {\n",
       "        text-align: right;\n",
       "    }\n",
       "</style>\n",
       "<table border=\"1\" class=\"dataframe\">\n",
       "  <thead>\n",
       "    <tr>\n",
       "      <th></th>\n",
       "      <th>sum</th>\n",
       "      <th>count</th>\n",
       "      <th>per_debt</th>\n",
       "    </tr>\n",
       "    <tr>\n",
       "      <th></th>\n",
       "      <th>debt</th>\n",
       "      <th>debt</th>\n",
       "      <th>debt</th>\n",
       "    </tr>\n",
       "    <tr>\n",
       "      <th>children</th>\n",
       "      <th></th>\n",
       "      <th></th>\n",
       "      <th></th>\n",
       "    </tr>\n",
       "  </thead>\n",
       "  <tbody>\n",
       "    <tr>\n",
       "      <th>5</th>\n",
       "      <td>0</td>\n",
       "      <td>9</td>\n",
       "      <td>0.0%</td>\n",
       "    </tr>\n",
       "    <tr>\n",
       "      <th>0</th>\n",
       "      <td>1063</td>\n",
       "      <td>14091</td>\n",
       "      <td>7.54%</td>\n",
       "    </tr>\n",
       "    <tr>\n",
       "      <th>3</th>\n",
       "      <td>27</td>\n",
       "      <td>330</td>\n",
       "      <td>8.18%</td>\n",
       "    </tr>\n",
       "    <tr>\n",
       "      <th>1</th>\n",
       "      <td>444</td>\n",
       "      <td>4808</td>\n",
       "      <td>9.23%</td>\n",
       "    </tr>\n",
       "    <tr>\n",
       "      <th>2</th>\n",
       "      <td>194</td>\n",
       "      <td>2052</td>\n",
       "      <td>9.45%</td>\n",
       "    </tr>\n",
       "    <tr>\n",
       "      <th>4</th>\n",
       "      <td>4</td>\n",
       "      <td>41</td>\n",
       "      <td>9.76%</td>\n",
       "    </tr>\n",
       "  </tbody>\n",
       "</table>\n",
       "</div>"
      ],
      "text/plain": [
       "           sum  count per_debt\n",
       "          debt   debt     debt\n",
       "children                      \n",
       "5            0      9     0.0%\n",
       "0         1063  14091    7.54%\n",
       "3           27    330    8.18%\n",
       "1          444   4808    9.23%\n",
       "2          194   2052    9.45%\n",
       "4            4     41    9.76%"
      ]
     },
     "execution_count": 28,
     "metadata": {},
     "output_type": "execute_result"
    }
   ],
   "source": [
    "#выстроим сводную таблицу data_pivot с помощью инструмена pivot_table. Установим фильтр по количеству детей в семье.\n",
    "#в качестве значений возьмем наш столбец просрочек debt. Выведем столбцы, обработанные тремя функциями.\n",
    "data_pivot = data.pivot_table(index=['children'], values=['debt'], aggfunc=['sum','count',per_debt])\n",
    "\n",
    "#выводим результат второй отсориториванной сводной таблицы\n",
    "data_pivot.sort_values(by=('per_debt', 'debt'))"
   ]
  },
  {
   "cell_type": "markdown",
   "id": "6771b815",
   "metadata": {},
   "source": [
    "Гипотеза из первой сводой таблицы о том, что семьи с одним ребенком такие же надежные как бездетные семьи не подтвердилась.\n",
    "\n",
    "% фактов задолженностей семей с одним ребенком несущественно отличается от результатов этого же критерия семей с двумя и четырмя детьми.\n",
    "\n",
    "Зато мы увидели, что в текущей выборке самыми ответственными являются семьи с 5-ю детьми, хоть и являются наименьшими представителями по количеству таких семей в нашей таблице."
   ]
  },
  {
   "cell_type": "markdown",
   "id": "2eb9088e",
   "metadata": {
    "deletable": false,
    "id": "2eb9088e"
   },
   "source": [
    "**Вывод:** \n",
    "\n",
    "Отсутствие задолженности у семей с 5-ю детьми можно не принимать во внимание, т.к. таких семей крайне мало в нашей таблице (9 семей). Бездетных семей больше всего в нашей таблице (около 14 000) и у них наименьший процент фактов возникновения задолженности (~7,5%), среди других семей, имеющих смысл к сравнению.\n",
    "\n",
    "Чуть менее надежные ~на 0,7% семьи с тремя детьми - у них % возникновения фактов задолженности ~8,2%\n",
    "\n",
    "Остальные семьи не сильно отличаются по % фактов задолженностей (~9,2% до ~9,7%)\n",
    "\n",
    "Результаты оценки надежности плательщиков в зависимости от количества детей не однозначно показательны, т.к. дельта между самыми условно надежными и условно ненадежными плательщиками составляет ~2,2% (относительные значения 22.7%).\n",
    "\n",
    "Вероятнее, этим способом оценки критерия надежности не стоит пользоваться как основным. Но это также следует проверить другими способами оценки надежности и сравнить дельту результатов между самым низким и самым высоким показателем надежности в другим способах оценки надежности."
   ]
  },
  {
   "cell_type": "markdown",
   "id": "74c9b3a7",
   "metadata": {
    "deletable": false,
    "editable": false,
    "id": "74c9b3a7"
   },
   "source": [
    "#### 3.2 Есть ли зависимость между семейным положением и возвратом кредита в срок?"
   ]
  },
  {
   "cell_type": "markdown",
   "id": "5af8caa2",
   "metadata": {
    "deletable": false,
    "id": "8098ab3b"
   },
   "source": [
    "Проделаем аналогичные операции с построением таблицы, только в текущем случае нам не нужно обрабатывать данные столбца под %"
   ]
  },
  {
   "cell_type": "markdown",
   "id": "3fb7f4ad",
   "metadata": {},
   "source": [
    "Сначала посмотрим, людей с каким семейным положением больше, т.е. на какие данные можно опираться, а на какие не принимать во внимание."
   ]
  },
  {
   "cell_type": "code",
   "execution_count": 29,
   "id": "15d25ef7",
   "metadata": {},
   "outputs": [
    {
     "data": {
      "text/plain": [
       "женат / замужем          12261\n",
       "гражданский брак          4134\n",
       "Не женат / не замужем     2796\n",
       "в разводе                 1189\n",
       "вдовец / вдова             951\n",
       "Name: family_status, dtype: int64"
      ]
     },
     "execution_count": 29,
     "metadata": {},
     "output_type": "execute_result"
    }
   ],
   "source": [
    "data['family_status'].value_counts()"
   ]
  },
  {
   "cell_type": "markdown",
   "id": "c94d3e82",
   "metadata": {},
   "source": [
    "Больше всего в таблице людей, находящихся в зарегистрированном браке (~12 000), в три раза меньше заемщиков в гражданском браке (чуть более 4000), заемщиков в статусе не женат/не замужем (чуть менее 3000).\n",
    "Примерно на одном уровне по количеству заемщиков находятся люди в разводе и овдовевшие заемщики (951 и 1189). Категоризировать на занятых и холостых можно, но не имеет особого смысла на текущий момент.\n",
    "\n",
    "Значит можно принимать во внимание все категории заемщиков, здесь не наблюдается аномально низких результатов значений как в первом случае категоризации по детности семей. (там были значения на несколько порядков меньше большинства типов)"
   ]
  },
  {
   "cell_type": "code",
   "execution_count": 30,
   "id": "2e990f39",
   "metadata": {},
   "outputs": [
    {
     "data": {
      "text/html": [
       "<div>\n",
       "<style scoped>\n",
       "    .dataframe tbody tr th:only-of-type {\n",
       "        vertical-align: middle;\n",
       "    }\n",
       "\n",
       "    .dataframe tbody tr th {\n",
       "        vertical-align: top;\n",
       "    }\n",
       "\n",
       "    .dataframe thead tr th {\n",
       "        text-align: left;\n",
       "    }\n",
       "\n",
       "    .dataframe thead tr:last-of-type th {\n",
       "        text-align: right;\n",
       "    }\n",
       "</style>\n",
       "<table border=\"1\" class=\"dataframe\">\n",
       "  <thead>\n",
       "    <tr>\n",
       "      <th></th>\n",
       "      <th>sum</th>\n",
       "      <th>count</th>\n",
       "      <th>per_debt</th>\n",
       "    </tr>\n",
       "    <tr>\n",
       "      <th></th>\n",
       "      <th>debt</th>\n",
       "      <th>debt</th>\n",
       "      <th>debt</th>\n",
       "    </tr>\n",
       "    <tr>\n",
       "      <th>family_status</th>\n",
       "      <th></th>\n",
       "      <th></th>\n",
       "      <th></th>\n",
       "    </tr>\n",
       "  </thead>\n",
       "  <tbody>\n",
       "    <tr>\n",
       "      <th>вдовец / вдова</th>\n",
       "      <td>63</td>\n",
       "      <td>951</td>\n",
       "      <td>6.62%</td>\n",
       "    </tr>\n",
       "    <tr>\n",
       "      <th>в разводе</th>\n",
       "      <td>84</td>\n",
       "      <td>1189</td>\n",
       "      <td>7.06%</td>\n",
       "    </tr>\n",
       "    <tr>\n",
       "      <th>женат / замужем</th>\n",
       "      <td>927</td>\n",
       "      <td>12261</td>\n",
       "      <td>7.56%</td>\n",
       "    </tr>\n",
       "    <tr>\n",
       "      <th>гражданский брак</th>\n",
       "      <td>385</td>\n",
       "      <td>4134</td>\n",
       "      <td>9.31%</td>\n",
       "    </tr>\n",
       "    <tr>\n",
       "      <th>Не женат / не замужем</th>\n",
       "      <td>273</td>\n",
       "      <td>2796</td>\n",
       "      <td>9.76%</td>\n",
       "    </tr>\n",
       "  </tbody>\n",
       "</table>\n",
       "</div>"
      ],
      "text/plain": [
       "                       sum  count per_debt\n",
       "                      debt   debt     debt\n",
       "family_status                             \n",
       "вдовец / вдова          63    951    6.62%\n",
       "в разводе               84   1189    7.06%\n",
       "женат / замужем        927  12261    7.56%\n",
       "гражданский брак       385   4134    9.31%\n",
       "Не женат / не замужем  273   2796    9.76%"
      ]
     },
     "execution_count": 30,
     "metadata": {},
     "output_type": "execute_result"
    }
   ],
   "source": [
    "# построим сводную таблицу с помощью инструмена pivot_table. Установим фильтр по семейному положению.\n",
    "#в качестве значений возьмем наш столбец просрочек debt. Выведем столбцы, обработанные тремя функциями.\n",
    "data_pivot_family_status = data.pivot_table(index=['family_status'], values=['debt'], aggfunc=['sum','count',per_debt])\n",
    "\n",
    "#выводим результат второй отсориториванной сводной таблицы, чтобы увидеть результат работы нашей ранее созданной функции\n",
    "data_pivot_family_status.sort_values(by=('per_debt', 'debt'))"
   ]
  },
  {
   "cell_type": "markdown",
   "id": "c389ca63",
   "metadata": {
    "deletable": false,
    "id": "c389ca63"
   },
   "source": [
    "**Вывод:** \n",
    "\n",
    "Самыми надежными заемщиками являются овдовевешие заемщики. Но таких заемщиков меньше всего в представленной таблице. (в 12 раз меньше, чем женатых/замужних, например). Доля фактов просроченных платежей у таких заемщиков ~6,6%.\n",
    "\n",
    "Чуть менее надежные заемщики - те, кто находится в разводе. Из условная надежность выплат ниже на ~0,5% вдовцов.\n",
    "\n",
    "На третьем месте по надежности выплат - заемщики, которые находятся сейчас в зарегистрированном браке. Их надежность примерно равна результатам надежности бездетных заемщиков. И также мы видим, что представителей с замужних/женатых больше всего.\n",
    "\n",
    "Самыми ненадежными заемщикам являются свободные/находящиеся в гражданском браке заемщики.\n",
    "Заемщики, хоть раз заключавшие брак (находящиеся в нем или уже нет) - являются наиболее надежными.\n",
    "\n",
    "Результаты оценки надежности плательщиков в зависимости от семейного положения более показательны, чем результаты оценки надежности по количеству детей. Дельта между самыми условно надежными и условно ненадежными плательщиками в текущем методе оценки составляет ~3,2% (относительные значения 32.2%). Результаты более показательные, но не явно однозначные, поэтому стоит опробовать другие методы оценки надежности заемщиков."
   ]
  },
  {
   "cell_type": "markdown",
   "id": "9529de68",
   "metadata": {
    "deletable": false,
    "editable": false,
    "id": "9529de68"
   },
   "source": [
    "#### 3.3 Есть ли зависимость между уровнем дохода и возвратом кредита в срок?"
   ]
  },
  {
   "cell_type": "markdown",
   "id": "8fb85a85",
   "metadata": {
    "deletable": false,
    "id": "8787f44a"
   },
   "source": [
    "Для выполнения этого задания, мы уже создавали столбец ['total_income_category'] с категоризацией заемщиков по доходности (сколько они получают в месяц) в 16-ом задании первой части проекта. Что это были за категории:\n",
    "\n",
    "0–30000 — 'E';\n",
    "\n",
    "30001–50000 — 'D';\n",
    "\n",
    "50001–200000 — 'C';\n",
    "\n",
    "200001–1000000 — 'B';\n",
    "\n",
    "1000001 и выше — 'A'\n",
    "\n",
    "Сейчас также посмотрим какой категории заемщиков у нас больше всего."
   ]
  },
  {
   "cell_type": "code",
   "execution_count": 31,
   "id": "dabc2add",
   "metadata": {},
   "outputs": [
    {
     "data": {
      "text/plain": [
       "C    15921\n",
       "B     5014\n",
       "D      349\n",
       "A       25\n",
       "E       22\n",
       "Name: total_income_category, dtype: int64"
      ]
     },
     "execution_count": 31,
     "metadata": {},
     "output_type": "execute_result"
    }
   ],
   "source": [
    "data['total_income_category'].value_counts()"
   ]
  },
  {
   "cell_type": "markdown",
   "id": "14258598",
   "metadata": {},
   "source": [
    "Больше всего заемщиков, категории С (~16000), в три раза меньше заемщиков с большим доходом категории В (чуть более 5000).\n",
    "Заемщиков с другими категориями - достаточно мало (в общей сложности менее 500)."
   ]
  },
  {
   "cell_type": "code",
   "execution_count": 32,
   "id": "5ce5dffe",
   "metadata": {},
   "outputs": [
    {
     "data": {
      "text/html": [
       "<div>\n",
       "<style scoped>\n",
       "    .dataframe tbody tr th:only-of-type {\n",
       "        vertical-align: middle;\n",
       "    }\n",
       "\n",
       "    .dataframe tbody tr th {\n",
       "        vertical-align: top;\n",
       "    }\n",
       "\n",
       "    .dataframe thead tr th {\n",
       "        text-align: left;\n",
       "    }\n",
       "\n",
       "    .dataframe thead tr:last-of-type th {\n",
       "        text-align: right;\n",
       "    }\n",
       "</style>\n",
       "<table border=\"1\" class=\"dataframe\">\n",
       "  <thead>\n",
       "    <tr>\n",
       "      <th></th>\n",
       "      <th>sum</th>\n",
       "      <th>count</th>\n",
       "      <th>per_debt</th>\n",
       "    </tr>\n",
       "    <tr>\n",
       "      <th></th>\n",
       "      <th>debt</th>\n",
       "      <th>debt</th>\n",
       "      <th>debt</th>\n",
       "    </tr>\n",
       "    <tr>\n",
       "      <th>total_income_category</th>\n",
       "      <th></th>\n",
       "      <th></th>\n",
       "      <th></th>\n",
       "    </tr>\n",
       "  </thead>\n",
       "  <tbody>\n",
       "    <tr>\n",
       "      <th>D</th>\n",
       "      <td>21</td>\n",
       "      <td>349</td>\n",
       "      <td>6.02%</td>\n",
       "    </tr>\n",
       "    <tr>\n",
       "      <th>B</th>\n",
       "      <td>354</td>\n",
       "      <td>5014</td>\n",
       "      <td>7.06%</td>\n",
       "    </tr>\n",
       "    <tr>\n",
       "      <th>A</th>\n",
       "      <td>2</td>\n",
       "      <td>25</td>\n",
       "      <td>8.0%</td>\n",
       "    </tr>\n",
       "    <tr>\n",
       "      <th>C</th>\n",
       "      <td>1353</td>\n",
       "      <td>15921</td>\n",
       "      <td>8.5%</td>\n",
       "    </tr>\n",
       "    <tr>\n",
       "      <th>E</th>\n",
       "      <td>2</td>\n",
       "      <td>22</td>\n",
       "      <td>9.09%</td>\n",
       "    </tr>\n",
       "  </tbody>\n",
       "</table>\n",
       "</div>"
      ],
      "text/plain": [
       "                        sum  count per_debt\n",
       "                       debt   debt     debt\n",
       "total_income_category                      \n",
       "D                        21    349    6.02%\n",
       "B                       354   5014    7.06%\n",
       "A                         2     25     8.0%\n",
       "C                      1353  15921     8.5%\n",
       "E                         2     22    9.09%"
      ]
     },
     "execution_count": 32,
     "metadata": {},
     "output_type": "execute_result"
    }
   ],
   "source": [
    "# построим сводную таблицу с помощью инструмена pivot_table. Установим фильтр по категории дохода.\n",
    "#в качестве значений возьмем наш столбец просрочек debt. Выведем столбцы, обработанные тремя функциями.\n",
    "data_pivot_income_category = data.pivot_table(index=['total_income_category'], values=['debt'], aggfunc=['sum','count',per_debt])\n",
    "\n",
    "#выводим результат второй отсориториванной сводной таблицы, чтобы увидеть результат работы нашей ранее созданной функции\n",
    "data_pivot_income_category.sort_values(by=('per_debt', 'debt'))"
   ]
  },
  {
   "cell_type": "markdown",
   "id": "6dd14b57",
   "metadata": {
    "deletable": false,
    "id": "6dd14b57"
   },
   "source": [
    "**Вывод:** \n",
    "\n",
    "Самые надежные заемщики - категории D, имеющая доход от 30 001 до 50 000. Но таких заемщиков, как мы видим - немного, всего 349.\n",
    "Чуть менее надежными являются заемщики, категории B, с достаточно высоким доходом (от 200 001 до 1 000 000), и представителей такой группы заемщиков достаточно много, чтобы мы принимали эту резуьтаты во внимание.\n",
    "\n",
    "Не самыми надежными заемщиками являются люди с очень высоким уровнем дохода (больше миллиона). Можно педположить на основании полученных данных, что люди с очень высоким доходам являются средними по надежности выплат.\n",
    "\n",
    "Самыми ненадежными заемщиками являются - заемщики категории E, с самым низким доходом (до 30000) и категории С - со средним уровнем дохода (от 50 001 до 200 000). Если категории E в выборке меньше всего, то категории С - наоборот, наиболее часто встречающаяся категория.\n",
    "\n",
    "Результаты оценки надежности плательщиков в зависимости от уровня дохода примерно также показательно, как и результаты оценки надежности по семейному положению. Дельта между самыми условно надежными и условно ненадежными плательщиками в текущем методе оценки составляет ~3,5% (относительные значения 33.8%). Результаты более показательные, и более однозначные."
   ]
  },
  {
   "cell_type": "code",
   "execution_count": 33,
   "id": "d707a7d9",
   "metadata": {},
   "outputs": [
    {
     "data": {
      "text/html": [
       "<div>\n",
       "<style scoped>\n",
       "    .dataframe tbody tr th:only-of-type {\n",
       "        vertical-align: middle;\n",
       "    }\n",
       "\n",
       "    .dataframe tbody tr th {\n",
       "        vertical-align: top;\n",
       "    }\n",
       "\n",
       "    .dataframe thead tr th {\n",
       "        text-align: left;\n",
       "    }\n",
       "\n",
       "    .dataframe thead tr:last-of-type th {\n",
       "        text-align: right;\n",
       "    }\n",
       "</style>\n",
       "<table border=\"1\" class=\"dataframe\">\n",
       "  <thead>\n",
       "    <tr>\n",
       "      <th></th>\n",
       "      <th>count</th>\n",
       "      <th>per_debt</th>\n",
       "    </tr>\n",
       "    <tr>\n",
       "      <th></th>\n",
       "      <th>debt</th>\n",
       "      <th>debt</th>\n",
       "    </tr>\n",
       "    <tr>\n",
       "      <th>total_income_category</th>\n",
       "      <th></th>\n",
       "      <th></th>\n",
       "    </tr>\n",
       "  </thead>\n",
       "  <tbody>\n",
       "    <tr>\n",
       "      <th>B</th>\n",
       "      <td>5014</td>\n",
       "      <td>7.06%</td>\n",
       "    </tr>\n",
       "    <tr>\n",
       "      <th>C</th>\n",
       "      <td>15921</td>\n",
       "      <td>8.5%</td>\n",
       "    </tr>\n",
       "  </tbody>\n",
       "</table>\n",
       "</div>"
      ],
      "text/plain": [
       "                       count per_debt\n",
       "                        debt     debt\n",
       "total_income_category                \n",
       "B                       5014    7.06%\n",
       "C                      15921     8.5%"
      ]
     },
     "execution_count": 33,
     "metadata": {},
     "output_type": "execute_result"
    }
   ],
   "source": [
    "# построим сводную таблицу с помощью инструмена pivot_table для всех категорий заемщиков\n",
    "data_pivot_income_category = data.pivot_table(index=['total_income_category'], values=['debt'], aggfunc=['count',per_debt])\n",
    "\n",
    "#выведем результат отсориториванной сводной таблицы, с теми категориями заемщиков, которые преобладают\n",
    "data_pivot_income_category[data_pivot_income_category['count', 'debt'] > 5000].sort_values(by=('per_debt', 'debt'))"
   ]
  },
  {
   "cell_type": "markdown",
   "id": "1dcc9b12",
   "metadata": {
    "deletable": false,
    "editable": false,
    "id": "1dcc9b12"
   },
   "source": [
    "#### 3.4 Как разные цели кредита влияют на его возврат в срок?"
   ]
  },
  {
   "cell_type": "markdown",
   "id": "95fba08a",
   "metadata": {
    "deletable": false,
    "id": "c602bc8b"
   },
   "source": [
    "Для выполнения этого задания, мы уже создавали столбец ['purpose_category'] с категоризацией заемщиков по целям кредита в 18-ом задании первой части проекта.\n",
    "Для удобства еще раз посмотрим какие это были категории и сколько заемщиков определенной категории у нас есть в данных:"
   ]
  },
  {
   "cell_type": "code",
   "execution_count": 34,
   "id": "5d3af9a0",
   "metadata": {},
   "outputs": [
    {
     "data": {
      "text/plain": [
       "операции с недвижимостью    10751\n",
       "операции с автомобилем       4279\n",
       "получение образования        3988\n",
       "проведение свадьбы           2313\n",
       "Name: purpose_category, dtype: int64"
      ]
     },
     "execution_count": 34,
     "metadata": {},
     "output_type": "execute_result"
    }
   ],
   "source": [
    "data['purpose_category'].value_counts()"
   ]
  },
  {
   "cell_type": "markdown",
   "id": "ff9fc9fe",
   "metadata": {},
   "source": [
    "Чаще всего берут кредит на покупку недвижимости (~11 000 заемщиков).\n",
    "Также на одном порядке присутствуют и другие категории, представители которых исчисляются в тысячах, а не в сотнях или десятках."
   ]
  },
  {
   "cell_type": "code",
   "execution_count": 35,
   "id": "f7ccb054",
   "metadata": {},
   "outputs": [
    {
     "data": {
      "text/html": [
       "<div>\n",
       "<style scoped>\n",
       "    .dataframe tbody tr th:only-of-type {\n",
       "        vertical-align: middle;\n",
       "    }\n",
       "\n",
       "    .dataframe tbody tr th {\n",
       "        vertical-align: top;\n",
       "    }\n",
       "\n",
       "    .dataframe thead tr th {\n",
       "        text-align: left;\n",
       "    }\n",
       "\n",
       "    .dataframe thead tr:last-of-type th {\n",
       "        text-align: right;\n",
       "    }\n",
       "</style>\n",
       "<table border=\"1\" class=\"dataframe\">\n",
       "  <thead>\n",
       "    <tr>\n",
       "      <th></th>\n",
       "      <th>sum</th>\n",
       "      <th>count</th>\n",
       "      <th>per_debt</th>\n",
       "    </tr>\n",
       "    <tr>\n",
       "      <th></th>\n",
       "      <th>debt</th>\n",
       "      <th>debt</th>\n",
       "      <th>debt</th>\n",
       "    </tr>\n",
       "    <tr>\n",
       "      <th>purpose_category</th>\n",
       "      <th></th>\n",
       "      <th></th>\n",
       "      <th></th>\n",
       "    </tr>\n",
       "  </thead>\n",
       "  <tbody>\n",
       "    <tr>\n",
       "      <th>операции с недвижимостью</th>\n",
       "      <td>780</td>\n",
       "      <td>10751</td>\n",
       "      <td>7.26%</td>\n",
       "    </tr>\n",
       "    <tr>\n",
       "      <th>проведение свадьбы</th>\n",
       "      <td>183</td>\n",
       "      <td>2313</td>\n",
       "      <td>7.91%</td>\n",
       "    </tr>\n",
       "    <tr>\n",
       "      <th>получение образования</th>\n",
       "      <td>369</td>\n",
       "      <td>3988</td>\n",
       "      <td>9.25%</td>\n",
       "    </tr>\n",
       "    <tr>\n",
       "      <th>операции с автомобилем</th>\n",
       "      <td>400</td>\n",
       "      <td>4279</td>\n",
       "      <td>9.35%</td>\n",
       "    </tr>\n",
       "  </tbody>\n",
       "</table>\n",
       "</div>"
      ],
      "text/plain": [
       "                          sum  count per_debt\n",
       "                         debt   debt     debt\n",
       "purpose_category                             \n",
       "операции с недвижимостью  780  10751    7.26%\n",
       "проведение свадьбы        183   2313    7.91%\n",
       "получение образования     369   3988    9.25%\n",
       "операции с автомобилем    400   4279    9.35%"
      ]
     },
     "execution_count": 35,
     "metadata": {},
     "output_type": "execute_result"
    }
   ],
   "source": [
    "# построим сводную таблицу с помощью инструмена pivot_table. Установим фильтр по целям займа.\n",
    "#в качестве значений возьмем наш столбец просрочек debt. Выведем столбцы, обработанные тремя функциями.\n",
    "data_pivot_purpose_category = data.pivot_table(index=['purpose_category'], values=['debt'], aggfunc=['sum','count',per_debt])\n",
    "\n",
    "#выводим результат второй отсориториванной сводной таблицы, чтобы увидеть результат работы нашей ранее созданной функции\n",
    "data_pivot_purpose_category.sort_values(by=('per_debt', 'debt'))"
   ]
  },
  {
   "cell_type": "markdown",
   "id": "cf05ed63",
   "metadata": {
    "deletable": false,
    "id": "cf05ed63"
   },
   "source": [
    "**Вывод:** \n",
    "\n",
    "Категории заемщиков, которые берут кредит на операции с недвижимостью, больше всех и они являются наиболее надежными.Поэтому это самый безопасный вариант для банка.\n",
    "Чуть менее надежными являются заемщики, которые берут кредит на проведение свадьбы (как подтверждается в проверке других гипотез женатые/замужние или разведенные являются надежными заемщиками), поэтому выдавать такие займы вероятно также безопасно для банка.\n",
    "\n",
    "Наименее ответственными и надежными заемщиками являются категории заемщиков, берущие кредит на образование и приобретение авто.\n",
    "\n",
    "Метод оценки надежности по цели кредита примерно такой же показательный как и первый метод оценки надежности по количеству детей. Дельта между самыми надежными и ненадежными 2,1% (относительные значения 22,4%)\n",
    "\n",
    "Все методы показывают небольшую абсолютную дельту в результатах между самыми надежными и самыми ненадежными: 2,3% - 3,5%.\n",
    "Если смотреть по относительным значениям в каждом методе - то наиболее показательным являются два метода: по уровню дохода и семейному положению. Вероятнее всего, стоит использовать более комплексные методы оценки, которые оценивают заемщиков сразу по нескольким категориям."
   ]
  },
  {
   "cell_type": "code",
   "execution_count": 36,
   "id": "bdd0b889",
   "metadata": {},
   "outputs": [
    {
     "data": {
      "text/plain": [
       "женат / замужем,C          9072\n",
       "гражданский брак,C         3087\n",
       "женат / замужем,B          2938\n",
       "Не женат / не замужем,C    2100\n",
       "гражданский брак,B          973\n",
       "в разводе,C                 887\n",
       "вдовец / вдова,C            775\n",
       "Не женат / не замужем,B     667\n",
       "в разводе,B                 282\n",
       "женат / замужем,D           223\n",
       "вдовец / вдова,B            154\n",
       "гражданский брак,D           62\n",
       "Не женат / не замужем,D      25\n",
       "вдовец / вдова,D             22\n",
       "в разводе,D                  17\n",
       "женат / замужем,E            14\n",
       "женат / замужем,A            14\n",
       "гражданский брак,A            6\n",
       "гражданский брак,E            6\n",
       "в разводе,A                   3\n",
       "Не женат / не замужем,E       2\n",
       "Не женат / не замужем,A       2\n",
       "Name: test_category, dtype: int64"
      ]
     },
     "execution_count": 36,
     "metadata": {},
     "output_type": "execute_result"
    }
   ],
   "source": [
    "#создаю столбец с дополнительной категорией, которая объединит несколько других категорий\n",
    "data['test_category'] = data['family_status'].map(str)+\",\"+data['total_income_category'].map(str)\n",
    "#смотрю какие категории у меня создались и сколько их представителей\n",
    "data['test_category'].value_counts()"
   ]
  },
  {
   "cell_type": "code",
   "execution_count": 37,
   "id": "e6016f1a",
   "metadata": {
    "scrolled": true
   },
   "outputs": [
    {
     "data": {
      "text/html": [
       "<div>\n",
       "<style scoped>\n",
       "    .dataframe tbody tr th:only-of-type {\n",
       "        vertical-align: middle;\n",
       "    }\n",
       "\n",
       "    .dataframe tbody tr th {\n",
       "        vertical-align: top;\n",
       "    }\n",
       "\n",
       "    .dataframe thead tr th {\n",
       "        text-align: left;\n",
       "    }\n",
       "\n",
       "    .dataframe thead tr:last-of-type th {\n",
       "        text-align: right;\n",
       "    }\n",
       "</style>\n",
       "<table border=\"1\" class=\"dataframe\">\n",
       "  <thead>\n",
       "    <tr>\n",
       "      <th></th>\n",
       "      <th>sum</th>\n",
       "      <th>count</th>\n",
       "      <th>per_debt</th>\n",
       "    </tr>\n",
       "    <tr>\n",
       "      <th></th>\n",
       "      <th>debt</th>\n",
       "      <th>debt</th>\n",
       "      <th>debt</th>\n",
       "    </tr>\n",
       "    <tr>\n",
       "      <th>test_category</th>\n",
       "      <th></th>\n",
       "      <th></th>\n",
       "      <th></th>\n",
       "    </tr>\n",
       "  </thead>\n",
       "  <tbody>\n",
       "    <tr>\n",
       "      <th>Не женат / не замужем,B</th>\n",
       "      <td>62</td>\n",
       "      <td>667</td>\n",
       "      <td>9.3%</td>\n",
       "    </tr>\n",
       "    <tr>\n",
       "      <th>Не женат / не замужем,C</th>\n",
       "      <td>209</td>\n",
       "      <td>2100</td>\n",
       "      <td>9.95%</td>\n",
       "    </tr>\n",
       "    <tr>\n",
       "      <th>в разводе,B</th>\n",
       "      <td>18</td>\n",
       "      <td>282</td>\n",
       "      <td>6.38%</td>\n",
       "    </tr>\n",
       "    <tr>\n",
       "      <th>в разводе,C</th>\n",
       "      <td>64</td>\n",
       "      <td>887</td>\n",
       "      <td>7.22%</td>\n",
       "    </tr>\n",
       "    <tr>\n",
       "      <th>вдовец / вдова,B</th>\n",
       "      <td>9</td>\n",
       "      <td>154</td>\n",
       "      <td>5.84%</td>\n",
       "    </tr>\n",
       "    <tr>\n",
       "      <th>вдовец / вдова,C</th>\n",
       "      <td>54</td>\n",
       "      <td>775</td>\n",
       "      <td>6.97%</td>\n",
       "    </tr>\n",
       "    <tr>\n",
       "      <th>гражданский брак,B</th>\n",
       "      <td>64</td>\n",
       "      <td>973</td>\n",
       "      <td>6.58%</td>\n",
       "    </tr>\n",
       "    <tr>\n",
       "      <th>гражданский брак,C</th>\n",
       "      <td>315</td>\n",
       "      <td>3087</td>\n",
       "      <td>10.2%</td>\n",
       "    </tr>\n",
       "    <tr>\n",
       "      <th>женат / замужем,B</th>\n",
       "      <td>201</td>\n",
       "      <td>2938</td>\n",
       "      <td>6.84%</td>\n",
       "    </tr>\n",
       "    <tr>\n",
       "      <th>женат / замужем,C</th>\n",
       "      <td>711</td>\n",
       "      <td>9072</td>\n",
       "      <td>7.84%</td>\n",
       "    </tr>\n",
       "    <tr>\n",
       "      <th>женат / замужем,D</th>\n",
       "      <td>12</td>\n",
       "      <td>223</td>\n",
       "      <td>5.38%</td>\n",
       "    </tr>\n",
       "  </tbody>\n",
       "</table>\n",
       "</div>"
      ],
      "text/plain": [
       "                         sum count per_debt\n",
       "                        debt  debt     debt\n",
       "test_category                              \n",
       "Не женат / не замужем,B   62   667     9.3%\n",
       "Не женат / не замужем,C  209  2100    9.95%\n",
       "в разводе,B               18   282    6.38%\n",
       "в разводе,C               64   887    7.22%\n",
       "вдовец / вдова,B           9   154    5.84%\n",
       "вдовец / вдова,C          54   775    6.97%\n",
       "гражданский брак,B        64   973    6.58%\n",
       "гражданский брак,C       315  3087    10.2%\n",
       "женат / замужем,B        201  2938    6.84%\n",
       "женат / замужем,C        711  9072    7.84%\n",
       "женат / замужем,D         12   223    5.38%"
      ]
     },
     "execution_count": 37,
     "metadata": {},
     "output_type": "execute_result"
    }
   ],
   "source": [
    "#создаем сводную таблицу, которая покажет нам количество заемщиков каждой из вышесозданной тестовой категории \n",
    "#и долю допущенных просрочек среди каждой категории\n",
    "data_pivot_test_category = data.pivot_table(index=['test_category'], values=['debt'], aggfunc=['sum','count',per_debt])\n",
    "\n",
    "#выводим результат сводной, с условием вывода категорий представителей которой более 100:\n",
    "data_pivot_test_category[data_pivot_test_category['count', 'debt'] > 100]\n",
    "\n",
    "#сортировка почему-то не срабатывает, если мне кто-то пояснит почему - буду признательна"
   ]
  },
  {
   "cell_type": "markdown",
   "id": "fee5f196",
   "metadata": {},
   "source": [
    "В данном методе можно увидеть уже большую дельту между самыми надежными и ненадежными заемщиками, это означает что введение дополнтельных критериев оценки дает более показательный результат, значит более точный.\n",
    "\n",
    "Самыми ненадежными заемщиками оказываются неженатые/незамужние клиенты любой категории доходности, и живущие гражданским браком, но с доходами средней категории. Вероятнее всего каждый 10-ый заемщих этих категорий будет иметь просрочку\n",
    "\n",
    "Самыми надежными будут являться такие категории как: заемщики заключившие брак, но с низкой доходностью (30-50 тыс) и вдовцы имеющие высокую доходность. Вероятнее только каждый 18-ый заемщих из этих категорий будет иметь просрочку."
   ]
  },
  {
   "cell_type": "markdown",
   "id": "46c1f10b",
   "metadata": {
    "deletable": false,
    "editable": false,
    "id": "46c1f10b"
   },
   "source": [
    "#### 3.5 Приведите возможные причины появления пропусков в исходных данных."
   ]
  },
  {
   "cell_type": "markdown",
   "id": "3697d2a9",
   "metadata": {
    "deletable": false,
    "id": "3697d2a9"
   },
   "source": [
    "*Ответ:* \n",
    "\n",
    "Для точного ответа потребуется сделать анализ категорий заемщиков у которых не были заполнены столбцы с количеством дней занятости и доходностью. Если требуется это сделать - прошу дать комментарий.\n",
    "\n",
    "Сейчас поверхностно можно предположить, что: некоторые заемщики имели возможность и/или желание не раскрывать своих данных, например, если их об этих данных не спрашивали (забыли) или запрашивать эти данные не требовалось изначально при заполнении анкеты.\n",
    "Возможно, данные собраны из разных источников, в некоторых предусматривалось заполнение этого столбца, в некоторых нет.\n",
    "Также трудовой стаж мог отсутствовать у определенных категорий граждан - людей с инвалидностью, живущих на субсидии от государства, женщин/мужчин, находящихся в декретном отпуске, или самозанятых."
   ]
  },
  {
   "cell_type": "markdown",
   "id": "3137d257",
   "metadata": {
    "deletable": false,
    "editable": false,
    "id": "3137d257"
   },
   "source": [
    "#### 3.6 Объясните, почему заполнить пропуски медианным значением — лучшее решение для количественных переменных."
   ]
  },
  {
   "cell_type": "markdown",
   "id": "cf40012a",
   "metadata": {
    "deletable": false,
    "id": "cf40012a"
   },
   "source": [
    "*Ответ:*\n",
    "В некоторых таблица медианное значение и среднее значение могут быть примерно равны, когда сами значения не сильно отличаются друг от друга.\n",
    "Я понимаю медианное значение как средневзвешенное, при котором учитывается какие значения больше влияют на выборку, какие меньше, чтобы получились наименее искаженные результаты.\n",
    "\n",
    "Конечно, когда выборка большая можно увидеть аномально высокие и низкие результаты -> стоит использовать медиану, если мы принимаем решение не отбрасывать аномалии, а работать с ними.\n"
   ]
  },
  {
   "cell_type": "markdown",
   "id": "57bc304e",
   "metadata": {
    "deletable": false,
    "editable": false,
    "id": "57bc304e"
   },
   "source": [
    "### Шаг 4: общий вывод."
   ]
  },
  {
   "cell_type": "markdown",
   "id": "1ab75d1c",
   "metadata": {
    "deletable": false,
    "id": "1ab75d1c"
   },
   "source": [
    "При оценке надежности по категории детности семей - бездетные показали самую высокую надежность. Доля просроченных займов у них 7.54%\n",
    "При оценке надежности по семейному положению заемщиков - высокую надежность показали вдвовцы/вдовы, разведенные и вступившие в брак заемщики - Доля просроченных займов у них менее 7.6% (у других категорий выше 9%)\n",
    "При оценке надежности по категории доходности заемщиков - самые надежные, заемщики категорий D и B. Доля просроченных займов у них менее 7.1%\n",
    "При оценке надежности по целям кредита - самые надежные клиенты, те, кто приобретает недвижимость за заемные средства.  Доля просроченных займов у них менее 7.3%\n",
    "\n",
    "При оценке по 2-м критериям - доходности и семейному положению, самыми надежными оказались такие категории как: заемщики заключившие брак, но с низкой доходностью (30-50 тыс) и вдовцы/вдовы имеющие высокую доходность. Вероятнее только каждый 18-ый заемщих из этих категорий будет иметь просрочку. Доля просроченных займов у них менее 7.1%\n",
    "\n",
    "Оценка финансовой надежности заемщиков по одному критерию - дает не совсем надежные результаты т.к. все 4 метода оценки по одному критерию показывают примерно одинаковую дельту в результатах. Лучше использовать комплексную оценку по всем критериям."
   ]
  }
 ],
 "metadata": {
  "ExecuteTimeLog": [
   {
    "duration": 558,
    "start_time": "2023-08-18T08:39:44.652Z"
   },
   {
    "duration": 34,
    "start_time": "2023-08-18T08:39:49.905Z"
   },
   {
    "duration": 17,
    "start_time": "2023-08-18T08:39:56.571Z"
   },
   {
    "duration": 20,
    "start_time": "2023-08-18T08:40:03.865Z"
   },
   {
    "duration": 62,
    "start_time": "2023-08-18T08:40:15.299Z"
   },
   {
    "duration": 4,
    "start_time": "2023-08-18T08:40:20.195Z"
   },
   {
    "duration": 16,
    "start_time": "2023-08-18T08:40:24.045Z"
   },
   {
    "duration": 12,
    "start_time": "2023-08-18T08:40:26.642Z"
   },
   {
    "duration": 7,
    "start_time": "2023-08-18T08:40:30.092Z"
   },
   {
    "duration": 6,
    "start_time": "2023-08-18T08:40:36.195Z"
   },
   {
    "duration": 59,
    "start_time": "2023-08-18T08:40:45.917Z"
   },
   {
    "duration": 14,
    "start_time": "2023-08-18T08:40:49.014Z"
   },
   {
    "duration": 9,
    "start_time": "2023-08-18T08:40:52.421Z"
   },
   {
    "duration": 12,
    "start_time": "2023-08-18T08:40:55.385Z"
   },
   {
    "duration": 20,
    "start_time": "2023-08-18T08:41:00.492Z"
   },
   {
    "duration": 22,
    "start_time": "2023-08-18T08:41:02.466Z"
   },
   {
    "duration": 3,
    "start_time": "2023-08-18T08:41:26.768Z"
   },
   {
    "duration": 13,
    "start_time": "2023-08-18T08:41:27.371Z"
   },
   {
    "duration": 9,
    "start_time": "2023-08-18T08:41:30.113Z"
   },
   {
    "duration": 4,
    "start_time": "2023-08-18T08:41:34.772Z"
   },
   {
    "duration": 18,
    "start_time": "2023-08-18T08:41:38.116Z"
   },
   {
    "duration": 7,
    "start_time": "2023-08-18T08:51:13.574Z"
   },
   {
    "duration": 10,
    "start_time": "2023-08-18T08:51:58.654Z"
   },
   {
    "duration": 150,
    "start_time": "2023-08-18T08:57:37.470Z"
   },
   {
    "duration": 155,
    "start_time": "2023-08-18T08:57:51.409Z"
   },
   {
    "duration": 94,
    "start_time": "2023-08-18T09:06:35.716Z"
   },
   {
    "duration": 77,
    "start_time": "2023-08-18T09:06:57.769Z"
   },
   {
    "duration": 112,
    "start_time": "2023-08-18T09:12:02.685Z"
   },
   {
    "duration": 499,
    "start_time": "2023-08-18T09:12:09.870Z"
   },
   {
    "duration": 23,
    "start_time": "2023-08-18T09:12:24.574Z"
   },
   {
    "duration": 18,
    "start_time": "2023-08-18T09:13:12.065Z"
   },
   {
    "duration": 5,
    "start_time": "2023-08-18T09:15:18.095Z"
   },
   {
    "duration": 31,
    "start_time": "2023-08-18T09:16:18.710Z"
   },
   {
    "duration": 7,
    "start_time": "2023-08-18T09:23:25.904Z"
   },
   {
    "duration": 7,
    "start_time": "2023-08-18T09:51:31.063Z"
   },
   {
    "duration": 40,
    "start_time": "2023-08-18T09:51:46.352Z"
   },
   {
    "duration": 7,
    "start_time": "2023-08-18T09:52:04.387Z"
   },
   {
    "duration": 4,
    "start_time": "2023-08-18T09:52:09.602Z"
   },
   {
    "duration": 43,
    "start_time": "2023-08-18T09:52:10.930Z"
   },
   {
    "duration": 41,
    "start_time": "2023-08-18T09:53:38.520Z"
   },
   {
    "duration": 30,
    "start_time": "2023-08-18T09:53:45.653Z"
   },
   {
    "duration": 38,
    "start_time": "2023-08-18T10:01:55.617Z"
   },
   {
    "duration": 11,
    "start_time": "2023-08-18T10:20:43.948Z"
   },
   {
    "duration": 6,
    "start_time": "2023-08-18T10:20:52.065Z"
   },
   {
    "duration": 65,
    "start_time": "2023-08-18T10:55:31.352Z"
   },
   {
    "duration": 61,
    "start_time": "2023-08-18T11:00:36.006Z"
   },
   {
    "duration": 53,
    "start_time": "2023-08-18T11:01:17.407Z"
   },
   {
    "duration": 165,
    "start_time": "2023-08-18T11:07:58.804Z"
   },
   {
    "duration": 8,
    "start_time": "2023-08-18T11:08:24.764Z"
   },
   {
    "duration": 62,
    "start_time": "2023-08-18T11:14:56.875Z"
   },
   {
    "duration": 105,
    "start_time": "2023-08-18T11:39:27.491Z"
   },
   {
    "duration": 6,
    "start_time": "2023-08-18T11:44:33.298Z"
   },
   {
    "duration": 7,
    "start_time": "2023-08-18T11:44:49.755Z"
   },
   {
    "duration": 40,
    "start_time": "2023-08-18T11:54:53.759Z"
   },
   {
    "duration": 11,
    "start_time": "2023-08-18T12:11:01.700Z"
   },
   {
    "duration": 38,
    "start_time": "2023-08-18T12:15:04.458Z"
   },
   {
    "duration": 19,
    "start_time": "2023-08-18T12:36:33.128Z"
   },
   {
    "duration": 33,
    "start_time": "2023-08-18T12:36:36.161Z"
   },
   {
    "duration": 156,
    "start_time": "2023-08-18T12:40:30.018Z"
   },
   {
    "duration": 72,
    "start_time": "2023-08-18T12:40:43.103Z"
   },
   {
    "duration": 85,
    "start_time": "2023-08-18T12:41:22.788Z"
   },
   {
    "duration": 62,
    "start_time": "2023-08-18T12:42:15.216Z"
   },
   {
    "duration": 51,
    "start_time": "2023-08-18T12:42:25.860Z"
   },
   {
    "duration": 52,
    "start_time": "2023-08-18T12:43:16.911Z"
   },
   {
    "duration": 9,
    "start_time": "2023-08-18T12:43:17.646Z"
   },
   {
    "duration": 4,
    "start_time": "2023-08-18T12:43:18.048Z"
   },
   {
    "duration": 56,
    "start_time": "2023-08-18T12:43:18.253Z"
   },
   {
    "duration": 49,
    "start_time": "2023-08-18T12:43:18.610Z"
   },
   {
    "duration": 8,
    "start_time": "2023-08-18T12:43:19.674Z"
   },
   {
    "duration": 39,
    "start_time": "2023-08-18T12:43:20.052Z"
   },
   {
    "duration": 11,
    "start_time": "2023-08-18T12:43:20.838Z"
   },
   {
    "duration": 42,
    "start_time": "2023-08-18T12:43:21.202Z"
   },
   {
    "duration": 12,
    "start_time": "2023-08-18T12:43:21.915Z"
   },
   {
    "duration": 51,
    "start_time": "2023-08-18T12:43:22.301Z"
   },
   {
    "duration": 41,
    "start_time": "2023-08-18T12:43:22.659Z"
   },
   {
    "duration": 58,
    "start_time": "2023-08-18T12:44:29.205Z"
   },
   {
    "duration": 34,
    "start_time": "2023-08-18T12:44:49.085Z"
   },
   {
    "duration": 127,
    "start_time": "2023-08-18T12:48:10.830Z"
   },
   {
    "duration": 68,
    "start_time": "2023-08-18T12:49:16.070Z"
   },
   {
    "duration": 70,
    "start_time": "2023-08-18T12:49:55.393Z"
   },
   {
    "duration": 88,
    "start_time": "2023-08-18T12:50:00.261Z"
   },
   {
    "duration": 64,
    "start_time": "2023-08-18T12:50:09.022Z"
   },
   {
    "duration": 62,
    "start_time": "2023-08-18T12:50:15.306Z"
   },
   {
    "duration": 57,
    "start_time": "2023-08-18T12:53:07.120Z"
   },
   {
    "duration": 40,
    "start_time": "2023-08-18T12:53:20.050Z"
   },
   {
    "duration": 113,
    "start_time": "2023-08-18T12:53:40.753Z"
   },
   {
    "duration": 545,
    "start_time": "2023-08-18T12:55:04.049Z"
   },
   {
    "duration": 602,
    "start_time": "2023-08-18T12:55:34.514Z"
   },
   {
    "duration": 481,
    "start_time": "2023-08-18T12:58:21.275Z"
   },
   {
    "duration": 1791,
    "start_time": "2023-08-18T12:59:44.621Z"
   },
   {
    "duration": 480,
    "start_time": "2023-08-18T13:01:16.712Z"
   },
   {
    "duration": 660,
    "start_time": "2023-08-18T13:01:24.896Z"
   },
   {
    "duration": 28,
    "start_time": "2023-08-18T13:09:02.668Z"
   },
   {
    "duration": 44,
    "start_time": "2023-08-18T13:42:39.810Z"
   },
   {
    "duration": 29,
    "start_time": "2023-08-18T13:42:56.057Z"
   },
   {
    "duration": 61,
    "start_time": "2023-08-18T13:43:23.614Z"
   },
   {
    "duration": 31,
    "start_time": "2023-08-18T13:43:51.453Z"
   },
   {
    "duration": 42,
    "start_time": "2023-08-18T13:44:18.052Z"
   },
   {
    "duration": 36,
    "start_time": "2023-08-18T13:44:22.094Z"
   },
   {
    "duration": 81,
    "start_time": "2023-08-18T13:45:24.278Z"
   },
   {
    "duration": 32,
    "start_time": "2023-08-18T13:46:38.456Z"
   },
   {
    "duration": 31,
    "start_time": "2023-08-18T13:47:13.289Z"
   },
   {
    "duration": 58,
    "start_time": "2023-08-18T13:47:18.336Z"
   },
   {
    "duration": 30,
    "start_time": "2023-08-18T13:47:25.388Z"
   },
   {
    "duration": 40,
    "start_time": "2023-08-18T13:47:29.714Z"
   },
   {
    "duration": 1647,
    "start_time": "2023-08-18T13:58:30.127Z"
   },
   {
    "duration": 193,
    "start_time": "2023-08-18T13:59:42.301Z"
   },
   {
    "duration": 46,
    "start_time": "2023-08-18T13:59:48.510Z"
   },
   {
    "duration": 46,
    "start_time": "2023-08-18T14:08:28.711Z"
   },
   {
    "duration": 45,
    "start_time": "2023-08-18T14:08:33.221Z"
   },
   {
    "duration": 75,
    "start_time": "2023-08-18T14:13:36.607Z"
   },
   {
    "duration": 76,
    "start_time": "2023-08-18T14:15:07.069Z"
   },
   {
    "duration": 56,
    "start_time": "2023-08-18T14:15:20.386Z"
   },
   {
    "duration": 3087,
    "start_time": "2023-08-18T14:15:56.072Z"
   },
   {
    "duration": 3954,
    "start_time": "2023-08-18T14:16:04.122Z"
   },
   {
    "duration": 61,
    "start_time": "2023-08-18T14:16:17.369Z"
   },
   {
    "duration": 39,
    "start_time": "2023-08-18T14:21:39.374Z"
   },
   {
    "duration": 69,
    "start_time": "2023-08-18T14:21:58.953Z"
   },
   {
    "duration": 2134,
    "start_time": "2023-08-18T14:22:40.854Z"
   },
   {
    "duration": 1468,
    "start_time": "2023-08-18T14:22:53.079Z"
   },
   {
    "duration": 22,
    "start_time": "2023-08-18T14:23:44.787Z"
   },
   {
    "duration": 2138,
    "start_time": "2023-08-18T14:25:00.161Z"
   },
   {
    "duration": 65,
    "start_time": "2023-08-18T14:25:20.476Z"
   },
   {
    "duration": 133,
    "start_time": "2023-08-18T14:26:08.523Z"
   },
   {
    "duration": 100,
    "start_time": "2023-08-18T14:26:22.502Z"
   },
   {
    "duration": 38,
    "start_time": "2023-08-18T14:26:44.981Z"
   },
   {
    "duration": 64,
    "start_time": "2023-08-18T14:27:24.025Z"
   },
   {
    "duration": 65,
    "start_time": "2023-08-18T14:27:35.924Z"
   },
   {
    "duration": 60,
    "start_time": "2023-08-18T14:27:48.359Z"
   },
   {
    "duration": 169,
    "start_time": "2023-08-18T14:28:07.847Z"
   },
   {
    "duration": 92,
    "start_time": "2023-08-18T14:28:18.787Z"
   },
   {
    "duration": 65,
    "start_time": "2023-08-18T14:28:29.447Z"
   },
   {
    "duration": 62,
    "start_time": "2023-08-18T14:29:23.781Z"
   },
   {
    "duration": 62,
    "start_time": "2023-08-18T14:38:12.983Z"
   },
   {
    "duration": 55,
    "start_time": "2023-08-18T14:38:28.556Z"
   },
   {
    "duration": 38,
    "start_time": "2023-08-18T15:10:13.349Z"
   },
   {
    "duration": 39,
    "start_time": "2023-08-18T15:12:07.183Z"
   },
   {
    "duration": 21,
    "start_time": "2023-08-18T15:14:25.175Z"
   },
   {
    "duration": 61,
    "start_time": "2023-08-18T15:14:25.757Z"
   },
   {
    "duration": 501,
    "start_time": "2023-08-18T17:47:21.631Z"
   },
   {
    "duration": 21,
    "start_time": "2023-08-18T17:47:22.134Z"
   },
   {
    "duration": 15,
    "start_time": "2023-08-18T17:47:22.156Z"
   },
   {
    "duration": 23,
    "start_time": "2023-08-18T17:47:22.172Z"
   },
   {
    "duration": 33,
    "start_time": "2023-08-18T17:47:22.196Z"
   },
   {
    "duration": 4,
    "start_time": "2023-08-18T17:47:22.230Z"
   },
   {
    "duration": 25,
    "start_time": "2023-08-18T17:47:22.235Z"
   },
   {
    "duration": 18,
    "start_time": "2023-08-18T17:47:22.261Z"
   },
   {
    "duration": 13,
    "start_time": "2023-08-18T17:47:22.280Z"
   },
   {
    "duration": 15,
    "start_time": "2023-08-18T17:47:22.295Z"
   },
   {
    "duration": 37,
    "start_time": "2023-08-18T17:47:22.311Z"
   },
   {
    "duration": 10,
    "start_time": "2023-08-18T17:47:22.350Z"
   },
   {
    "duration": 36,
    "start_time": "2023-08-18T17:47:22.362Z"
   },
   {
    "duration": 34,
    "start_time": "2023-08-18T17:47:22.399Z"
   },
   {
    "duration": 36,
    "start_time": "2023-08-18T17:47:22.435Z"
   },
   {
    "duration": 17,
    "start_time": "2023-08-18T17:47:22.473Z"
   },
   {
    "duration": 4,
    "start_time": "2023-08-18T17:47:22.491Z"
   },
   {
    "duration": 31,
    "start_time": "2023-08-18T17:47:22.497Z"
   },
   {
    "duration": 43,
    "start_time": "2023-08-18T17:47:22.530Z"
   },
   {
    "duration": 34,
    "start_time": "2023-08-18T17:47:22.574Z"
   },
   {
    "duration": 56,
    "start_time": "2023-08-18T17:47:22.609Z"
   },
   {
    "duration": 14,
    "start_time": "2023-08-18T17:47:22.668Z"
   },
   {
    "duration": 22,
    "start_time": "2023-08-18T17:47:22.684Z"
   },
   {
    "duration": 5,
    "start_time": "2023-08-18T17:47:22.707Z"
   },
   {
    "duration": 16,
    "start_time": "2023-08-18T17:47:22.713Z"
   },
   {
    "duration": 57,
    "start_time": "2023-08-18T17:47:22.731Z"
   },
   {
    "duration": 29,
    "start_time": "2023-08-18T17:47:22.790Z"
   },
   {
    "duration": 7,
    "start_time": "2023-08-18T17:47:22.822Z"
   },
   {
    "duration": 65,
    "start_time": "2023-08-18T17:47:22.830Z"
   },
   {
    "duration": 7,
    "start_time": "2023-08-18T17:47:22.897Z"
   },
   {
    "duration": 39,
    "start_time": "2023-08-18T17:47:22.906Z"
   },
   {
    "duration": 27,
    "start_time": "2023-08-18T17:47:22.947Z"
   },
   {
    "duration": 48,
    "start_time": "2023-08-18T17:47:22.975Z"
   },
   {
    "duration": 60,
    "start_time": "2023-08-18T17:47:23.024Z"
   },
   {
    "duration": 44,
    "start_time": "2023-08-18T17:47:23.085Z"
   },
   {
    "duration": 50,
    "start_time": "2023-08-19T12:31:58.507Z"
   },
   {
    "duration": 537,
    "start_time": "2023-08-19T12:32:09.624Z"
   },
   {
    "duration": 23,
    "start_time": "2023-08-19T12:32:10.163Z"
   },
   {
    "duration": 15,
    "start_time": "2023-08-19T12:32:10.187Z"
   },
   {
    "duration": 38,
    "start_time": "2023-08-19T12:32:10.204Z"
   },
   {
    "duration": 33,
    "start_time": "2023-08-19T12:32:10.244Z"
   },
   {
    "duration": 4,
    "start_time": "2023-08-19T12:32:10.278Z"
   },
   {
    "duration": 20,
    "start_time": "2023-08-19T12:32:10.283Z"
   },
   {
    "duration": 6,
    "start_time": "2023-08-19T12:32:10.304Z"
   },
   {
    "duration": 12,
    "start_time": "2023-08-19T12:32:10.311Z"
   },
   {
    "duration": 7,
    "start_time": "2023-08-19T12:32:10.326Z"
   },
   {
    "duration": 40,
    "start_time": "2023-08-19T12:32:10.335Z"
   },
   {
    "duration": 10,
    "start_time": "2023-08-19T12:32:10.376Z"
   },
   {
    "duration": 4,
    "start_time": "2023-08-19T12:32:10.388Z"
   },
   {
    "duration": 20,
    "start_time": "2023-08-19T12:32:10.393Z"
   },
   {
    "duration": 21,
    "start_time": "2023-08-19T12:32:10.414Z"
   },
   {
    "duration": 39,
    "start_time": "2023-08-19T12:32:10.436Z"
   },
   {
    "duration": 3,
    "start_time": "2023-08-19T12:32:10.477Z"
   },
   {
    "duration": 27,
    "start_time": "2023-08-19T12:32:10.482Z"
   },
   {
    "duration": 6,
    "start_time": "2023-08-19T12:32:10.511Z"
   },
   {
    "duration": 7,
    "start_time": "2023-08-19T12:32:10.519Z"
   },
   {
    "duration": 16,
    "start_time": "2023-08-19T12:32:10.527Z"
   },
   {
    "duration": 6,
    "start_time": "2023-08-19T12:32:10.544Z"
   },
   {
    "duration": 23,
    "start_time": "2023-08-19T12:32:10.551Z"
   },
   {
    "duration": 90,
    "start_time": "2023-08-19T12:32:10.576Z"
   },
   {
    "duration": 0,
    "start_time": "2023-08-19T12:32:10.668Z"
   },
   {
    "duration": 0,
    "start_time": "2023-08-19T12:32:10.669Z"
   },
   {
    "duration": 0,
    "start_time": "2023-08-19T12:32:10.670Z"
   },
   {
    "duration": 0,
    "start_time": "2023-08-19T12:32:10.671Z"
   },
   {
    "duration": 0,
    "start_time": "2023-08-19T12:32:10.673Z"
   },
   {
    "duration": 0,
    "start_time": "2023-08-19T12:32:10.674Z"
   },
   {
    "duration": 0,
    "start_time": "2023-08-19T12:32:10.675Z"
   },
   {
    "duration": 0,
    "start_time": "2023-08-19T12:32:10.676Z"
   },
   {
    "duration": 0,
    "start_time": "2023-08-19T12:32:10.676Z"
   },
   {
    "duration": 0,
    "start_time": "2023-08-19T12:32:10.678Z"
   },
   {
    "duration": 0,
    "start_time": "2023-08-19T12:32:10.678Z"
   },
   {
    "duration": 0,
    "start_time": "2023-08-19T12:32:10.679Z"
   },
   {
    "duration": 0,
    "start_time": "2023-08-19T12:32:10.680Z"
   },
   {
    "duration": 31,
    "start_time": "2023-08-19T12:32:42.675Z"
   },
   {
    "duration": 32,
    "start_time": "2023-08-19T12:34:42.790Z"
   },
   {
    "duration": 34,
    "start_time": "2023-08-19T12:35:34.015Z"
   },
   {
    "duration": 23,
    "start_time": "2023-08-19T12:35:47.674Z"
   },
   {
    "duration": 24,
    "start_time": "2023-08-19T12:40:13.810Z"
   },
   {
    "duration": 111,
    "start_time": "2023-08-19T12:42:28.708Z"
   },
   {
    "duration": 6,
    "start_time": "2023-08-19T12:43:07.841Z"
   },
   {
    "duration": 77,
    "start_time": "2023-08-19T12:44:37.073Z"
   },
   {
    "duration": 11,
    "start_time": "2023-08-19T12:44:51.759Z"
   },
   {
    "duration": 59,
    "start_time": "2023-08-19T12:45:28.269Z"
   },
   {
    "duration": 9,
    "start_time": "2023-08-19T12:46:56.617Z"
   },
   {
    "duration": 23,
    "start_time": "2023-08-19T12:47:56.262Z"
   },
   {
    "duration": 24,
    "start_time": "2023-08-19T12:48:35.360Z"
   },
   {
    "duration": 24,
    "start_time": "2023-08-19T12:48:42.574Z"
   },
   {
    "duration": 104,
    "start_time": "2023-08-19T12:50:19.820Z"
   },
   {
    "duration": 126,
    "start_time": "2023-08-19T12:51:00.073Z"
   },
   {
    "duration": 112,
    "start_time": "2023-08-19T12:53:30.841Z"
   },
   {
    "duration": 492,
    "start_time": "2023-08-19T17:00:01.478Z"
   },
   {
    "duration": 23,
    "start_time": "2023-08-19T17:00:01.973Z"
   },
   {
    "duration": 108,
    "start_time": "2023-08-19T17:00:01.998Z"
   },
   {
    "duration": 36,
    "start_time": "2023-08-19T17:00:02.108Z"
   },
   {
    "duration": 91,
    "start_time": "2023-08-19T17:00:02.146Z"
   },
   {
    "duration": 24,
    "start_time": "2023-08-19T17:00:02.240Z"
   },
   {
    "duration": 64,
    "start_time": "2023-08-19T17:00:02.266Z"
   },
   {
    "duration": 22,
    "start_time": "2023-08-19T17:00:02.332Z"
   },
   {
    "duration": 78,
    "start_time": "2023-08-19T17:00:02.356Z"
   },
   {
    "duration": 126,
    "start_time": "2023-08-19T17:00:02.436Z"
   },
   {
    "duration": 75,
    "start_time": "2023-08-19T17:00:02.564Z"
   },
   {
    "duration": 61,
    "start_time": "2023-08-19T17:00:02.641Z"
   },
   {
    "duration": 54,
    "start_time": "2023-08-19T17:00:02.704Z"
   },
   {
    "duration": 256,
    "start_time": "2023-08-19T17:00:02.762Z"
   },
   {
    "duration": 38,
    "start_time": "2023-08-19T17:00:03.020Z"
   },
   {
    "duration": 121,
    "start_time": "2023-08-19T17:00:03.059Z"
   },
   {
    "duration": 50,
    "start_time": "2023-08-19T17:00:03.182Z"
   },
   {
    "duration": 98,
    "start_time": "2023-08-19T17:00:03.235Z"
   },
   {
    "duration": 31,
    "start_time": "2023-08-19T17:00:03.335Z"
   },
   {
    "duration": 117,
    "start_time": "2023-08-19T17:00:03.367Z"
   },
   {
    "duration": 142,
    "start_time": "2023-08-19T17:00:03.486Z"
   },
   {
    "duration": 193,
    "start_time": "2023-08-19T17:00:03.630Z"
   },
   {
    "duration": 46,
    "start_time": "2023-08-19T17:00:03.825Z"
   },
   {
    "duration": 129,
    "start_time": "2023-08-19T17:00:03.873Z"
   },
   {
    "duration": 47,
    "start_time": "2023-08-19T17:00:04.004Z"
   },
   {
    "duration": 24,
    "start_time": "2023-08-19T17:00:04.053Z"
   },
   {
    "duration": 82,
    "start_time": "2023-08-19T17:00:04.080Z"
   },
   {
    "duration": 63,
    "start_time": "2023-08-19T17:00:04.164Z"
   },
   {
    "duration": 109,
    "start_time": "2023-08-19T17:00:04.229Z"
   },
   {
    "duration": 48,
    "start_time": "2023-08-19T17:00:04.341Z"
   },
   {
    "duration": 48,
    "start_time": "2023-08-19T17:00:04.392Z"
   },
   {
    "duration": 103,
    "start_time": "2023-08-19T17:00:04.442Z"
   },
   {
    "duration": 27,
    "start_time": "2023-08-19T17:00:04.547Z"
   },
   {
    "duration": 56,
    "start_time": "2023-08-19T17:00:04.576Z"
   },
   {
    "duration": 58,
    "start_time": "2023-08-19T17:00:04.634Z"
   },
   {
    "duration": 23,
    "start_time": "2023-08-19T17:00:04.693Z"
   },
   {
    "duration": 80,
    "start_time": "2023-08-19T17:00:04.717Z"
   }
  ],
  "colab": {
   "provenance": []
  },
  "kernelspec": {
   "display_name": "Python 3 (ipykernel)",
   "language": "python",
   "name": "python3"
  },
  "language_info": {
   "codemirror_mode": {
    "name": "ipython",
    "version": 3
   },
   "file_extension": ".py",
   "mimetype": "text/x-python",
   "name": "python",
   "nbconvert_exporter": "python",
   "pygments_lexer": "ipython3",
   "version": "3.9.5"
  },
  "toc": {
   "base_numbering": 1,
   "nav_menu": {},
   "number_sections": true,
   "sideBar": true,
   "skip_h1_title": true,
   "title_cell": "Table of Contents",
   "title_sidebar": "Contents",
   "toc_cell": false,
   "toc_position": {},
   "toc_section_display": true,
   "toc_window_display": true
  }
 },
 "nbformat": 4,
 "nbformat_minor": 5
}
