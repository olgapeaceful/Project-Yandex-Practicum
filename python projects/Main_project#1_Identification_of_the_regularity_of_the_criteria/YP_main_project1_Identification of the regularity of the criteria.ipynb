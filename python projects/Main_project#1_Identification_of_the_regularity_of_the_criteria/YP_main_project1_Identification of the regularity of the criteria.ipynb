{
 "cells": [
  {
   "cell_type": "markdown",
   "metadata": {},
   "source": [
    "# Проектная работа"
   ]
  },
  {
   "cell_type": "markdown",
   "metadata": {},
   "source": [
    "<p style=\"font-size: 26px;\">Выявление закономерности критериев, определяющих успешность игры в интернет-магазине «Стримчик»</p>"
   ]
  },
  {
   "cell_type": "markdown",
   "metadata": {},
   "source": [
    "**Описание проекта**\n",
    "\n",
    "Вы работаете в интернет-магазине «Стримчик», который продаёт по всему миру компьютерные игры. Из открытых источников доступны исторические данные о продажах игр, оценки пользователей и экспертов, жанры и платформы (например, Xbox или PlayStation). Вам нужно выявить определяющие успешность игры закономерности. Это позволит сделать ставку на потенциально популярный продукт и спланировать рекламные кампании.\n",
    "Перед вами данные до 2016 года. Представим, что сейчас декабрь 2016 г., и вы планируете кампанию на 2017-й. Нужно отработать принцип работы с данными. Неважно, прогнозируете ли вы продажи на 2017 год по данным 2016-го или же 2027-й — по данным 2026 года.\n",
    "В наборе данных попадается аббревиатура ESRB (Entertainment Software Rating Board) — это ассоциация, определяющая возрастной рейтинг компьютерных игр. ESRB оценивает игровой контент и присваивает ему подходящую возрастную категорию, например, «Для взрослых», «Для детей младшего возраста» или «Для подростков»."
   ]
  },
  {
   "cell_type": "markdown",
   "metadata": {},
   "source": [
    "**Задачи проекта**\n",
    "    \n",
    "**Шаг 1.**  Загрузка данных\n",
    "- Откройте файл с данными и изучите общую информацию\n",
    "Путь к файлу: /datasets/games.csv\n",
    "\n",
    "**Шаг 2.** Подготовка данных к анализу\n",
    "- Замените названия столбцов (приведите к нижнему регистру);\n",
    "- Преобразуйте данные в нужные типы. Опишите, в каких столбцах заменили тип данных и почему;\n",
    "- Обработайте пропуски при необходимости:\n",
    "- Объясните, почему заполнили пропуски определённым образом или почему не стали это делать;\n",
    "- Опишите причины, которые могли привести к пропускам;\n",
    "- Обратите внимание на аббревиатуру 'tbd' в столбце с оценкой пользователей. Отдельно разберите это значение и опишите, как его обработать;\n",
    "- Посчитайте суммарные продажи во всех регионах и запишите их в отдельный столбец.\n",
    "\n",
    "**Шаг 3.** Проведите исследовательский анализ данных\n",
    "- Посмотрите, сколько игр выпускалось в разные годы. Важны ли данные за все периоды?\n",
    "- Посмотрите, как менялись продажи по платформам. Выберите платформы с наибольшими суммарными продажами и постройте распределение по годам. За какой характерный срок появляются новые и исчезают старые платформы?\n",
    "- Возьмите данные за соответствующий актуальный период. Актуальный период определите самостоятельно в результате исследования предыдущих вопросов. Основной фактор — эти данные помогут построить прогноз на 2017 год. Не учитывайте в работе данные за предыдущие годы.\n",
    "- Какие платформы лидируют по продажам, растут или падают? Выберите несколько потенциально прибыльных платформ.\n",
    "- Постройте график «ящик с усами» по глобальным продажам игр в разбивке по платформам. Опишите результат.\n",
    "- Посмотрите, как влияют на продажи внутри одной популярной платформы отзывы пользователей и критиков. Постройте диаграмму рассеяния и посчитайте корреляцию между отзывами и продажами. Сформулируйте выводы.\n",
    "- Соотнесите выводы с продажами игр на других платформах.\n",
    "- Посмотрите на общее распределение игр по жанрам. Что можно сказать о самых прибыльных жанрах? Выделяются ли жанры с высокими и низкими продажами?\n",
    "\n",
    "**Шаг 4.** Составьте портрет пользователя каждого региона\n",
    "Определите для пользователя каждого региона (NA, EU, JP):\n",
    "- Самые популярные платформы (топ-5). Опишите различия в долях продаж.\n",
    "- Самые популярные жанры (топ-5). Поясните разницу.\n",
    "- Влияет ли рейтинг ESRB на продажи в отдельном регионе?\n",
    "\n",
    "**Шаг 5.** Проверьте гипотезы\n",
    "- Средние пользовательские рейтинги платформ Xbox One и PC одинаковые;\n",
    "- Средние пользовательские рейтинги жанров Action (англ. «действие», экшен-игры) и Sports (англ. «спортивные соревнования») разные.\n",
    "- Задайте самостоятельно пороговое значение alpha.\n",
    "- Поясните:\n",
    "Как вы сформулировали нулевую и альтернативную гипотезы;\n",
    "Какой критерий применили для проверки гипотез и почему.\n",
    "\n",
    "**Шаг 6.** Напишите общий вывод"
   ]
  },
  {
   "cell_type": "markdown",
   "metadata": {},
   "source": [
    "**Описание данных**\n",
    "\n",
    "- Name — название игры\n",
    "- Platform — платформа\n",
    "- Year_of_Release — год выпуска\n",
    "- Genre — жанр игры\n",
    "- NA_sales — продажи в Северной Америке (миллионы проданных копий)\n",
    "- EU_sales — продажи в Европе (миллионы проданных копий)\n",
    "- JP_sales — продажи в Японии (миллионы проданных копий)\n",
    "- Other_sales — продажи в других странах (миллионы проданных копий)\n",
    "- Critic_Score — оценка критиков (максимум 100)\n",
    "- User_Score — оценка пользователей (максимум 10)\n",
    "- Rating — рейтинг от организации ESRB (англ. Entertainment Software Rating Board)."
   ]
  },
  {
   "cell_type": "markdown",
   "metadata": {},
   "source": [
    "**Определения для представленных рейтингов**\n",
    "- «EC» («Early childhood») — «Для детей младшего возраста»\n",
    "- «E»(«Everyone») — «Для всех»\n",
    "- «E10+» («Everyone 10 and older») — «Для всех от 10 лет и старше»\n",
    "- «T» («Teen») — «Подросткам»\n",
    "- «M» («Mature») — «Для взрослых»\n",
    "- «AO» («Adults Only 18+») — «Только для взрослых»\n",
    "- «RP» («Rating Pending») — «Рейтинг ожидается»\n",
    "- K-A - старый вариант маркировки E (for everyone)\n",
    "\n",
    "[Источник информации](https://ru.wikipedia.org/wiki/Entertainment_Software_Rating_Board)"
   ]
  },
  {
   "cell_type": "markdown",
   "metadata": {},
   "source": [
    "## Шаг 1. Загрузка данных"
   ]
  },
  {
   "cell_type": "markdown",
   "metadata": {},
   "source": [
    "Откройте файл с данными и изучите общую информацию\n",
    "Путь к файлу: /datasets/games.csv"
   ]
  },
  {
   "cell_type": "code",
   "execution_count": 1,
   "metadata": {},
   "outputs": [],
   "source": [
    "#заберем нужные нам для проекта библиотеки и инструменты\n",
    "import pandas as pd\n",
    "import matplotlib.pyplot as plt\n",
    "import seaborn as sns\n",
    "import numpy as np\n",
    "import math\n",
    "from scipy import stats as st\n",
    "\n",
    "#from scipy.stats import binom\n",
    "#from scipy.stats import norm\n",
    "#import plotly.express as px\n",
    "#from math import factorial"
   ]
  },
  {
   "cell_type": "markdown",
   "metadata": {},
   "source": [
    "### Общая информация о таблицах"
   ]
  },
  {
   "cell_type": "markdown",
   "metadata": {},
   "source": [
    "<div class=\"alert alert-block\" style=\"background-color: gainsboro\">\n",
    "<g>\n",
    "\n",
    "<p>Откроем таблицу и изучим общую информацию о данных.\n",
    "\n",
    "<p>Считаем данные из csv-файлов в датафреймы и сохраним в переменные.\n",
    "\n",
    "<p>Выведем общую информацию о таблицах, чтобы понять с каким типом данных будем работать в каждом столбце методом info(). </g>\n",
    "</div>"
   ]
  },
  {
   "cell_type": "code",
   "execution_count": 2,
   "metadata": {},
   "outputs": [],
   "source": [
    "#откроем файл\n",
    "data = pd.read_csv('/datasets/games.csv')"
   ]
  },
  {
   "cell_type": "raw",
   "metadata": {},
   "source": [
    "import os\n",
    "\n",
    "path = \"/path/to/file.txt\"\n",
    "\n",
    "if os.path.exists(path):\n",
    "    print(\"Файл или директория существует!\")\n",
    "else:\n",
    "    print(\"Файл или директория не существует.\")"
   ]
  },
  {
   "cell_type": "markdown",
   "metadata": {},
   "source": [
    "\"\"\"try:\n",
    "    data = pd.read_csv('/datasets/games.csv')\n",
    "except:\n",
    "    data = pd.read_csv('')\"\"\""
   ]
  },
  {
   "cell_type": "code",
   "execution_count": 3,
   "metadata": {},
   "outputs": [
    {
     "name": "stdout",
     "output_type": "stream",
     "text": [
      "Index(['Name', 'Platform', 'Year_of_Release', 'Genre', 'NA_sales', 'EU_sales',\n",
      "       'JP_sales', 'Other_sales', 'Critic_Score', 'User_Score', 'Rating'],\n",
      "      dtype='object')\n",
      "_______________________________________________________________________________\n",
      "(16715, 11)\n"
     ]
    }
   ],
   "source": [
    "#выведем названия колонок, для проверки на соответствие описанию\n",
    "print(data.columns)\n",
    "print('_______________________________________________________________________________')\n",
    "print(data.shape)"
   ]
  },
  {
   "cell_type": "markdown",
   "metadata": {},
   "source": [
    "Колонки в файле соответствуют заявленным изначально."
   ]
  },
  {
   "cell_type": "code",
   "execution_count": 4,
   "metadata": {},
   "outputs": [
    {
     "name": "stdout",
     "output_type": "stream",
     "text": [
      "<class 'pandas.core.frame.DataFrame'>\n",
      "RangeIndex: 16715 entries, 0 to 16714\n",
      "Data columns (total 11 columns):\n",
      " #   Column           Non-Null Count  Dtype  \n",
      "---  ------           --------------  -----  \n",
      " 0   Name             16713 non-null  object \n",
      " 1   Platform         16715 non-null  object \n",
      " 2   Year_of_Release  16446 non-null  float64\n",
      " 3   Genre            16713 non-null  object \n",
      " 4   NA_sales         16715 non-null  float64\n",
      " 5   EU_sales         16715 non-null  float64\n",
      " 6   JP_sales         16715 non-null  float64\n",
      " 7   Other_sales      16715 non-null  float64\n",
      " 8   Critic_Score     8137 non-null   float64\n",
      " 9   User_Score       10014 non-null  object \n",
      " 10  Rating           9949 non-null   object \n",
      "dtypes: float64(6), object(5)\n",
      "memory usage: 1.4+ MB\n",
      "None\n",
      "_______________________________________________________________________________\n"
     ]
    }
   ],
   "source": [
    "#посмотрим сводную информацию о таблице\n",
    "print(data.info())\n",
    "print('_______________________________________________________________________________')"
   ]
  },
  {
   "cell_type": "code",
   "execution_count": 5,
   "metadata": {},
   "outputs": [
    {
     "name": "stdout",
     "output_type": "stream",
     "text": [
      "Critic_Score       8578\n",
      "Rating             6766\n",
      "User_Score         6701\n",
      "Year_of_Release     269\n",
      "Name                  2\n",
      "Genre                 2\n",
      "Platform              0\n",
      "NA_sales              0\n",
      "EU_sales              0\n",
      "JP_sales              0\n",
      "Other_sales           0\n",
      "dtype: int64\n",
      "___________________________________\n"
     ]
    }
   ],
   "source": [
    "#посмотрим с каким количеством пропущенных значений придется работать\n",
    "print(data.isna().sum().sort_values(ascending=False))\n",
    "print('___________________________________')"
   ]
  },
  {
   "cell_type": "code",
   "execution_count": 6,
   "metadata": {},
   "outputs": [
    {
     "data": {
      "text/html": [
       "<div>\n",
       "<style scoped>\n",
       "    .dataframe tbody tr th:only-of-type {\n",
       "        vertical-align: middle;\n",
       "    }\n",
       "\n",
       "    .dataframe tbody tr th {\n",
       "        vertical-align: top;\n",
       "    }\n",
       "\n",
       "    .dataframe thead th {\n",
       "        text-align: right;\n",
       "    }\n",
       "</style>\n",
       "<table border=\"1\" class=\"dataframe\">\n",
       "  <thead>\n",
       "    <tr style=\"text-align: right;\">\n",
       "      <th></th>\n",
       "      <th>Name</th>\n",
       "      <th>Platform</th>\n",
       "      <th>Year_of_Release</th>\n",
       "      <th>Genre</th>\n",
       "      <th>NA_sales</th>\n",
       "      <th>EU_sales</th>\n",
       "      <th>JP_sales</th>\n",
       "      <th>Other_sales</th>\n",
       "      <th>Critic_Score</th>\n",
       "      <th>User_Score</th>\n",
       "      <th>Rating</th>\n",
       "    </tr>\n",
       "  </thead>\n",
       "  <tbody>\n",
       "    <tr>\n",
       "      <th>0</th>\n",
       "      <td>Wii Sports</td>\n",
       "      <td>Wii</td>\n",
       "      <td>2006.0</td>\n",
       "      <td>Sports</td>\n",
       "      <td>41.36</td>\n",
       "      <td>28.96</td>\n",
       "      <td>3.77</td>\n",
       "      <td>8.45</td>\n",
       "      <td>76.0</td>\n",
       "      <td>8</td>\n",
       "      <td>E</td>\n",
       "    </tr>\n",
       "    <tr>\n",
       "      <th>1</th>\n",
       "      <td>Super Mario Bros.</td>\n",
       "      <td>NES</td>\n",
       "      <td>1985.0</td>\n",
       "      <td>Platform</td>\n",
       "      <td>29.08</td>\n",
       "      <td>3.58</td>\n",
       "      <td>6.81</td>\n",
       "      <td>0.77</td>\n",
       "      <td>NaN</td>\n",
       "      <td>NaN</td>\n",
       "      <td>NaN</td>\n",
       "    </tr>\n",
       "    <tr>\n",
       "      <th>2</th>\n",
       "      <td>Mario Kart Wii</td>\n",
       "      <td>Wii</td>\n",
       "      <td>2008.0</td>\n",
       "      <td>Racing</td>\n",
       "      <td>15.68</td>\n",
       "      <td>12.76</td>\n",
       "      <td>3.79</td>\n",
       "      <td>3.29</td>\n",
       "      <td>82.0</td>\n",
       "      <td>8.3</td>\n",
       "      <td>E</td>\n",
       "    </tr>\n",
       "    <tr>\n",
       "      <th>3</th>\n",
       "      <td>Wii Sports Resort</td>\n",
       "      <td>Wii</td>\n",
       "      <td>2009.0</td>\n",
       "      <td>Sports</td>\n",
       "      <td>15.61</td>\n",
       "      <td>10.93</td>\n",
       "      <td>3.28</td>\n",
       "      <td>2.95</td>\n",
       "      <td>80.0</td>\n",
       "      <td>8</td>\n",
       "      <td>E</td>\n",
       "    </tr>\n",
       "    <tr>\n",
       "      <th>4</th>\n",
       "      <td>Pokemon Red/Pokemon Blue</td>\n",
       "      <td>GB</td>\n",
       "      <td>1996.0</td>\n",
       "      <td>Role-Playing</td>\n",
       "      <td>11.27</td>\n",
       "      <td>8.89</td>\n",
       "      <td>10.22</td>\n",
       "      <td>1.00</td>\n",
       "      <td>NaN</td>\n",
       "      <td>NaN</td>\n",
       "      <td>NaN</td>\n",
       "    </tr>\n",
       "    <tr>\n",
       "      <th>...</th>\n",
       "      <td>...</td>\n",
       "      <td>...</td>\n",
       "      <td>...</td>\n",
       "      <td>...</td>\n",
       "      <td>...</td>\n",
       "      <td>...</td>\n",
       "      <td>...</td>\n",
       "      <td>...</td>\n",
       "      <td>...</td>\n",
       "      <td>...</td>\n",
       "      <td>...</td>\n",
       "    </tr>\n",
       "    <tr>\n",
       "      <th>16710</th>\n",
       "      <td>Samurai Warriors: Sanada Maru</td>\n",
       "      <td>PS3</td>\n",
       "      <td>2016.0</td>\n",
       "      <td>Action</td>\n",
       "      <td>0.00</td>\n",
       "      <td>0.00</td>\n",
       "      <td>0.01</td>\n",
       "      <td>0.00</td>\n",
       "      <td>NaN</td>\n",
       "      <td>NaN</td>\n",
       "      <td>NaN</td>\n",
       "    </tr>\n",
       "    <tr>\n",
       "      <th>16711</th>\n",
       "      <td>LMA Manager 2007</td>\n",
       "      <td>X360</td>\n",
       "      <td>2006.0</td>\n",
       "      <td>Sports</td>\n",
       "      <td>0.00</td>\n",
       "      <td>0.01</td>\n",
       "      <td>0.00</td>\n",
       "      <td>0.00</td>\n",
       "      <td>NaN</td>\n",
       "      <td>NaN</td>\n",
       "      <td>NaN</td>\n",
       "    </tr>\n",
       "    <tr>\n",
       "      <th>16712</th>\n",
       "      <td>Haitaka no Psychedelica</td>\n",
       "      <td>PSV</td>\n",
       "      <td>2016.0</td>\n",
       "      <td>Adventure</td>\n",
       "      <td>0.00</td>\n",
       "      <td>0.00</td>\n",
       "      <td>0.01</td>\n",
       "      <td>0.00</td>\n",
       "      <td>NaN</td>\n",
       "      <td>NaN</td>\n",
       "      <td>NaN</td>\n",
       "    </tr>\n",
       "    <tr>\n",
       "      <th>16713</th>\n",
       "      <td>Spirits &amp; Spells</td>\n",
       "      <td>GBA</td>\n",
       "      <td>2003.0</td>\n",
       "      <td>Platform</td>\n",
       "      <td>0.01</td>\n",
       "      <td>0.00</td>\n",
       "      <td>0.00</td>\n",
       "      <td>0.00</td>\n",
       "      <td>NaN</td>\n",
       "      <td>NaN</td>\n",
       "      <td>NaN</td>\n",
       "    </tr>\n",
       "    <tr>\n",
       "      <th>16714</th>\n",
       "      <td>Winning Post 8 2016</td>\n",
       "      <td>PSV</td>\n",
       "      <td>2016.0</td>\n",
       "      <td>Simulation</td>\n",
       "      <td>0.00</td>\n",
       "      <td>0.00</td>\n",
       "      <td>0.01</td>\n",
       "      <td>0.00</td>\n",
       "      <td>NaN</td>\n",
       "      <td>NaN</td>\n",
       "      <td>NaN</td>\n",
       "    </tr>\n",
       "  </tbody>\n",
       "</table>\n",
       "<p>16715 rows × 11 columns</p>\n",
       "</div>"
      ],
      "text/plain": [
       "                                Name Platform  Year_of_Release         Genre  \\\n",
       "0                         Wii Sports      Wii           2006.0        Sports   \n",
       "1                  Super Mario Bros.      NES           1985.0      Platform   \n",
       "2                     Mario Kart Wii      Wii           2008.0        Racing   \n",
       "3                  Wii Sports Resort      Wii           2009.0        Sports   \n",
       "4           Pokemon Red/Pokemon Blue       GB           1996.0  Role-Playing   \n",
       "...                              ...      ...              ...           ...   \n",
       "16710  Samurai Warriors: Sanada Maru      PS3           2016.0        Action   \n",
       "16711               LMA Manager 2007     X360           2006.0        Sports   \n",
       "16712        Haitaka no Psychedelica      PSV           2016.0     Adventure   \n",
       "16713               Spirits & Spells      GBA           2003.0      Platform   \n",
       "16714            Winning Post 8 2016      PSV           2016.0    Simulation   \n",
       "\n",
       "       NA_sales  EU_sales  JP_sales  Other_sales  Critic_Score User_Score  \\\n",
       "0         41.36     28.96      3.77         8.45          76.0          8   \n",
       "1         29.08      3.58      6.81         0.77           NaN        NaN   \n",
       "2         15.68     12.76      3.79         3.29          82.0        8.3   \n",
       "3         15.61     10.93      3.28         2.95          80.0          8   \n",
       "4         11.27      8.89     10.22         1.00           NaN        NaN   \n",
       "...         ...       ...       ...          ...           ...        ...   \n",
       "16710      0.00      0.00      0.01         0.00           NaN        NaN   \n",
       "16711      0.00      0.01      0.00         0.00           NaN        NaN   \n",
       "16712      0.00      0.00      0.01         0.00           NaN        NaN   \n",
       "16713      0.01      0.00      0.00         0.00           NaN        NaN   \n",
       "16714      0.00      0.00      0.01         0.00           NaN        NaN   \n",
       "\n",
       "      Rating  \n",
       "0          E  \n",
       "1        NaN  \n",
       "2          E  \n",
       "3          E  \n",
       "4        NaN  \n",
       "...      ...  \n",
       "16710    NaN  \n",
       "16711    NaN  \n",
       "16712    NaN  \n",
       "16713    NaN  \n",
       "16714    NaN  \n",
       "\n",
       "[16715 rows x 11 columns]"
      ]
     },
     "execution_count": 6,
     "metadata": {},
     "output_type": "execute_result"
    }
   ],
   "source": [
    "#выведем данные из таблицы на экран без ограничения по столбцам для формирования визуального представления о них\n",
    "pd.set_option('display.max_columns', None)\n",
    "data"
   ]
  },
  {
   "cell_type": "markdown",
   "metadata": {},
   "source": [
    "### Общий вывод к шагу 1"
   ]
  },
  {
   "cell_type": "markdown",
   "metadata": {},
   "source": [
    "<div class=\"alert alert-block\" style=\"background-color: gainsboro\">\n",
    "<g>\n",
    "\n",
    "<p>В таблице 16715 строк и 11 колонок; названия некоторых столбцов которых требуют корректировок.\n",
    "<p>В 6-ти колонках имеются пропущенные значения: Critic_Score, Rating, User_Score  - существенное количество пропусков, исчисляется тысячным порядком, и несущественное количество пропусков в столбцах: Year_of_Release, Name, Genre\n",
    "<p>Тип данных в столбцах Year_of_Release, User_Score требует исправления. Critic_Score - требует дополнительного исследования, т.к. при выводе нескольких строк таблицы столбец вывел целочисленные значения </g>\n",
    "</div>"
   ]
  },
  {
   "cell_type": "markdown",
   "metadata": {},
   "source": [
    "## Шаг 2. Подготовка данных к анализу"
   ]
  },
  {
   "cell_type": "markdown",
   "metadata": {},
   "source": [
    "<div class=\"alert alert-block\" style=\"background-color: gainsboro\">\n",
    "<g>\n",
    "<p> Осуществим поиск дубликатов, скорректируем названия столбцов, изменим типы данных в столбцах, обработаем пропуски\n",
    "<p> Добавим столбец с суммарными продажами </g>\n",
    "</div>"
   ]
  },
  {
   "cell_type": "markdown",
   "metadata": {},
   "source": [
    "### Поиск явных дубликатов"
   ]
  },
  {
   "cell_type": "code",
   "execution_count": 7,
   "metadata": {},
   "outputs": [
    {
     "data": {
      "text/plain": [
       "0"
      ]
     },
     "execution_count": 7,
     "metadata": {},
     "output_type": "execute_result"
    }
   ],
   "source": [
    "#проверим явные дубликаты во всей таблице\n",
    "data.duplicated().sum()"
   ]
  },
  {
   "cell_type": "code",
   "execution_count": 8,
   "metadata": {},
   "outputs": [],
   "source": [
    "#проверим дубликаты по названию игр"
   ]
  },
  {
   "cell_type": "code",
   "execution_count": 9,
   "metadata": {},
   "outputs": [
    {
     "data": {
      "text/plain": [
       "Need for Speed: Most Wanted                          12\n",
       "Ratatouille                                           9\n",
       "FIFA 14                                               9\n",
       "Madden NFL 07                                         9\n",
       "LEGO Marvel Super Heroes                              9\n",
       "                                                     ..\n",
       "Shadow Master                                         1\n",
       "Hello Kitty Party                                     1\n",
       "Your Shape: Fitness Evolved                           1\n",
       "Princess Natasha: Student, Secret Agent, Princess     1\n",
       "Marie no Atelier: Salburg no Renkinjutsushi           1\n",
       "Name: Name, Length: 11559, dtype: int64"
      ]
     },
     "execution_count": 9,
     "metadata": {},
     "output_type": "execute_result"
    }
   ],
   "source": [
    "data['Name'].value_counts()"
   ]
  },
  {
   "cell_type": "markdown",
   "metadata": {},
   "source": [
    "Интересно, почему одно и тоже название игры повторяется более 10 раз в таблице. Т.к. я не играю в игры, буду анализировать только на данные из таблицы, чтобы выяснить причину многократного повторения т.к. предположить почему так получилось - нет личных гипотез."
   ]
  },
  {
   "cell_type": "code",
   "execution_count": 10,
   "metadata": {},
   "outputs": [
    {
     "data": {
      "text/html": [
       "<div>\n",
       "<style scoped>\n",
       "    .dataframe tbody tr th:only-of-type {\n",
       "        vertical-align: middle;\n",
       "    }\n",
       "\n",
       "    .dataframe tbody tr th {\n",
       "        vertical-align: top;\n",
       "    }\n",
       "\n",
       "    .dataframe thead th {\n",
       "        text-align: right;\n",
       "    }\n",
       "</style>\n",
       "<table border=\"1\" class=\"dataframe\">\n",
       "  <thead>\n",
       "    <tr style=\"text-align: right;\">\n",
       "      <th></th>\n",
       "      <th>Name</th>\n",
       "      <th>Platform</th>\n",
       "      <th>Year_of_Release</th>\n",
       "      <th>Genre</th>\n",
       "      <th>NA_sales</th>\n",
       "      <th>EU_sales</th>\n",
       "      <th>JP_sales</th>\n",
       "      <th>Other_sales</th>\n",
       "      <th>Critic_Score</th>\n",
       "      <th>User_Score</th>\n",
       "      <th>Rating</th>\n",
       "    </tr>\n",
       "  </thead>\n",
       "  <tbody>\n",
       "    <tr>\n",
       "      <th>253</th>\n",
       "      <td>Need for Speed: Most Wanted</td>\n",
       "      <td>PS2</td>\n",
       "      <td>2005.0</td>\n",
       "      <td>Racing</td>\n",
       "      <td>2.03</td>\n",
       "      <td>1.79</td>\n",
       "      <td>0.08</td>\n",
       "      <td>0.47</td>\n",
       "      <td>82.0</td>\n",
       "      <td>9.1</td>\n",
       "      <td>T</td>\n",
       "    </tr>\n",
       "    <tr>\n",
       "      <th>523</th>\n",
       "      <td>Need for Speed: Most Wanted</td>\n",
       "      <td>PS3</td>\n",
       "      <td>2012.0</td>\n",
       "      <td>Racing</td>\n",
       "      <td>0.71</td>\n",
       "      <td>1.46</td>\n",
       "      <td>0.06</td>\n",
       "      <td>0.58</td>\n",
       "      <td>NaN</td>\n",
       "      <td>NaN</td>\n",
       "      <td>NaN</td>\n",
       "    </tr>\n",
       "    <tr>\n",
       "      <th>1190</th>\n",
       "      <td>Need for Speed: Most Wanted</td>\n",
       "      <td>X360</td>\n",
       "      <td>2012.0</td>\n",
       "      <td>Racing</td>\n",
       "      <td>0.62</td>\n",
       "      <td>0.78</td>\n",
       "      <td>0.01</td>\n",
       "      <td>0.15</td>\n",
       "      <td>83.0</td>\n",
       "      <td>8.5</td>\n",
       "      <td>T</td>\n",
       "    </tr>\n",
       "    <tr>\n",
       "      <th>1591</th>\n",
       "      <td>Need for Speed: Most Wanted</td>\n",
       "      <td>X360</td>\n",
       "      <td>2005.0</td>\n",
       "      <td>Racing</td>\n",
       "      <td>1.00</td>\n",
       "      <td>0.13</td>\n",
       "      <td>0.02</td>\n",
       "      <td>0.10</td>\n",
       "      <td>83.0</td>\n",
       "      <td>8.5</td>\n",
       "      <td>T</td>\n",
       "    </tr>\n",
       "    <tr>\n",
       "      <th>1998</th>\n",
       "      <td>Need for Speed: Most Wanted</td>\n",
       "      <td>XB</td>\n",
       "      <td>2005.0</td>\n",
       "      <td>Racing</td>\n",
       "      <td>0.53</td>\n",
       "      <td>0.46</td>\n",
       "      <td>0.00</td>\n",
       "      <td>0.05</td>\n",
       "      <td>83.0</td>\n",
       "      <td>8.8</td>\n",
       "      <td>T</td>\n",
       "    </tr>\n",
       "    <tr>\n",
       "      <th>2048</th>\n",
       "      <td>Need for Speed: Most Wanted</td>\n",
       "      <td>PSV</td>\n",
       "      <td>2012.0</td>\n",
       "      <td>Racing</td>\n",
       "      <td>0.33</td>\n",
       "      <td>0.45</td>\n",
       "      <td>0.01</td>\n",
       "      <td>0.22</td>\n",
       "      <td>NaN</td>\n",
       "      <td>NaN</td>\n",
       "      <td>NaN</td>\n",
       "    </tr>\n",
       "    <tr>\n",
       "      <th>3581</th>\n",
       "      <td>Need for Speed: Most Wanted</td>\n",
       "      <td>GC</td>\n",
       "      <td>2005.0</td>\n",
       "      <td>Racing</td>\n",
       "      <td>0.43</td>\n",
       "      <td>0.11</td>\n",
       "      <td>0.00</td>\n",
       "      <td>0.02</td>\n",
       "      <td>80.0</td>\n",
       "      <td>9.1</td>\n",
       "      <td>T</td>\n",
       "    </tr>\n",
       "    <tr>\n",
       "      <th>5972</th>\n",
       "      <td>Need for Speed: Most Wanted</td>\n",
       "      <td>PC</td>\n",
       "      <td>2005.0</td>\n",
       "      <td>Racing</td>\n",
       "      <td>0.02</td>\n",
       "      <td>0.23</td>\n",
       "      <td>0.00</td>\n",
       "      <td>0.04</td>\n",
       "      <td>82.0</td>\n",
       "      <td>8.5</td>\n",
       "      <td>T</td>\n",
       "    </tr>\n",
       "    <tr>\n",
       "      <th>6273</th>\n",
       "      <td>Need for Speed: Most Wanted</td>\n",
       "      <td>WiiU</td>\n",
       "      <td>2013.0</td>\n",
       "      <td>Racing</td>\n",
       "      <td>0.13</td>\n",
       "      <td>0.12</td>\n",
       "      <td>0.00</td>\n",
       "      <td>0.02</td>\n",
       "      <td>NaN</td>\n",
       "      <td>NaN</td>\n",
       "      <td>NaN</td>\n",
       "    </tr>\n",
       "    <tr>\n",
       "      <th>6410</th>\n",
       "      <td>Need for Speed: Most Wanted</td>\n",
       "      <td>DS</td>\n",
       "      <td>2005.0</td>\n",
       "      <td>Racing</td>\n",
       "      <td>0.24</td>\n",
       "      <td>0.01</td>\n",
       "      <td>0.00</td>\n",
       "      <td>0.02</td>\n",
       "      <td>45.0</td>\n",
       "      <td>6.1</td>\n",
       "      <td>E</td>\n",
       "    </tr>\n",
       "    <tr>\n",
       "      <th>6473</th>\n",
       "      <td>Need for Speed: Most Wanted</td>\n",
       "      <td>GBA</td>\n",
       "      <td>2005.0</td>\n",
       "      <td>Racing</td>\n",
       "      <td>0.19</td>\n",
       "      <td>0.07</td>\n",
       "      <td>0.00</td>\n",
       "      <td>0.00</td>\n",
       "      <td>NaN</td>\n",
       "      <td>8.3</td>\n",
       "      <td>E</td>\n",
       "    </tr>\n",
       "    <tr>\n",
       "      <th>11715</th>\n",
       "      <td>Need for Speed: Most Wanted</td>\n",
       "      <td>PC</td>\n",
       "      <td>2012.0</td>\n",
       "      <td>Racing</td>\n",
       "      <td>0.00</td>\n",
       "      <td>0.06</td>\n",
       "      <td>0.00</td>\n",
       "      <td>0.02</td>\n",
       "      <td>82.0</td>\n",
       "      <td>8.5</td>\n",
       "      <td>T</td>\n",
       "    </tr>\n",
       "  </tbody>\n",
       "</table>\n",
       "</div>"
      ],
      "text/plain": [
       "                              Name Platform  Year_of_Release   Genre  \\\n",
       "253    Need for Speed: Most Wanted      PS2           2005.0  Racing   \n",
       "523    Need for Speed: Most Wanted      PS3           2012.0  Racing   \n",
       "1190   Need for Speed: Most Wanted     X360           2012.0  Racing   \n",
       "1591   Need for Speed: Most Wanted     X360           2005.0  Racing   \n",
       "1998   Need for Speed: Most Wanted       XB           2005.0  Racing   \n",
       "2048   Need for Speed: Most Wanted      PSV           2012.0  Racing   \n",
       "3581   Need for Speed: Most Wanted       GC           2005.0  Racing   \n",
       "5972   Need for Speed: Most Wanted       PC           2005.0  Racing   \n",
       "6273   Need for Speed: Most Wanted     WiiU           2013.0  Racing   \n",
       "6410   Need for Speed: Most Wanted       DS           2005.0  Racing   \n",
       "6473   Need for Speed: Most Wanted      GBA           2005.0  Racing   \n",
       "11715  Need for Speed: Most Wanted       PC           2012.0  Racing   \n",
       "\n",
       "       NA_sales  EU_sales  JP_sales  Other_sales  Critic_Score User_Score  \\\n",
       "253        2.03      1.79      0.08         0.47          82.0        9.1   \n",
       "523        0.71      1.46      0.06         0.58           NaN        NaN   \n",
       "1190       0.62      0.78      0.01         0.15          83.0        8.5   \n",
       "1591       1.00      0.13      0.02         0.10          83.0        8.5   \n",
       "1998       0.53      0.46      0.00         0.05          83.0        8.8   \n",
       "2048       0.33      0.45      0.01         0.22           NaN        NaN   \n",
       "3581       0.43      0.11      0.00         0.02          80.0        9.1   \n",
       "5972       0.02      0.23      0.00         0.04          82.0        8.5   \n",
       "6273       0.13      0.12      0.00         0.02           NaN        NaN   \n",
       "6410       0.24      0.01      0.00         0.02          45.0        6.1   \n",
       "6473       0.19      0.07      0.00         0.00           NaN        8.3   \n",
       "11715      0.00      0.06      0.00         0.02          82.0        8.5   \n",
       "\n",
       "      Rating  \n",
       "253        T  \n",
       "523      NaN  \n",
       "1190       T  \n",
       "1591       T  \n",
       "1998       T  \n",
       "2048     NaN  \n",
       "3581       T  \n",
       "5972       T  \n",
       "6273     NaN  \n",
       "6410       E  \n",
       "6473       E  \n",
       "11715      T  "
      ]
     },
     "execution_count": 10,
     "metadata": {},
     "output_type": "execute_result"
    }
   ],
   "source": [
    "data.query('Name == \"Need for Speed: Most Wanted\"')"
   ]
  },
  {
   "cell_type": "markdown",
   "metadata": {},
   "source": [
    "Предполагаю, что у игры было 2 версии, одна вышла в 2005, другая в 2012, разница в платформах на которых она выходила, значит оставляем эти данные как есть."
   ]
  },
  {
   "cell_type": "markdown",
   "metadata": {},
   "source": [
    "### Корректировка названий столбцов"
   ]
  },
  {
   "cell_type": "code",
   "execution_count": 11,
   "metadata": {},
   "outputs": [
    {
     "name": "stdout",
     "output_type": "stream",
     "text": [
      "Index(['name', 'platform', 'year_of_release', 'genre', 'na_sales', 'eu_sales',\n",
      "       'jp_sales', 'other_sales', 'critic_score', 'user_score', 'rating'],\n",
      "      dtype='object')\n"
     ]
    }
   ],
   "source": [
    "#приводим к нижнему регистру\n",
    "data.columns = data.columns.str.lower()\n",
    "\n",
    "#проверяем\n",
    "print(data.columns)"
   ]
  },
  {
   "cell_type": "markdown",
   "metadata": {},
   "source": [
    "Названия колонок приведены к нижнему регистру"
   ]
  },
  {
   "cell_type": "markdown",
   "metadata": {},
   "source": [
    "Явных дубликатов не выявлено"
   ]
  },
  {
   "cell_type": "markdown",
   "metadata": {},
   "source": [
    "### Изменение типа данных в столбцах"
   ]
  },
  {
   "cell_type": "markdown",
   "metadata": {},
   "source": [
    "#### Изменение типа данных в столбце year_of_release"
   ]
  },
  {
   "cell_type": "markdown",
   "metadata": {},
   "source": [
    "Изменим тип данных в столбцах year_of_release и user_score.\n",
    "- год выпуска может быть только целым числом, а указан float.\n",
    "- оценка пользователей (user_score) имеет тип object, а должен быть float."
   ]
  },
  {
   "cell_type": "code",
   "execution_count": 12,
   "metadata": {},
   "outputs": [
    {
     "name": "stdout",
     "output_type": "stream",
     "text": [
      "<class 'pandas.core.frame.DataFrame'>\n",
      "Int64Index: 16446 entries, 0 to 16714\n",
      "Data columns (total 11 columns):\n",
      " #   Column           Non-Null Count  Dtype  \n",
      "---  ------           --------------  -----  \n",
      " 0   name             16444 non-null  object \n",
      " 1   platform         16446 non-null  object \n",
      " 2   year_of_release  16446 non-null  int64  \n",
      " 3   genre            16444 non-null  object \n",
      " 4   na_sales         16446 non-null  float64\n",
      " 5   eu_sales         16446 non-null  float64\n",
      " 6   jp_sales         16446 non-null  float64\n",
      " 7   other_sales      16446 non-null  float64\n",
      " 8   critic_score     7983 non-null   float64\n",
      " 9   user_score       9839 non-null   object \n",
      " 10  rating           9768 non-null   object \n",
      "dtypes: float64(5), int64(1), object(5)\n",
      "memory usage: 1.5+ MB\n"
     ]
    }
   ],
   "source": [
    "#удалим значения, где год выпуска игры отсутствует, вероятно это либо тех.ошибка, либо игра, которая только готовиться выйти.\n",
    "data.dropna(subset=['year_of_release'], inplace=True)\n",
    "#меняем тип для года выпуска\n",
    "data['year_of_release'] = data['year_of_release'].astype('int64')\n",
    "data.info()"
   ]
  },
  {
   "cell_type": "markdown",
   "metadata": {},
   "source": [
    "Тип данных в столбце year_of_release изменен на int"
   ]
  },
  {
   "cell_type": "markdown",
   "metadata": {},
   "source": [
    "#### Изменение типа данных в столбце user_score"
   ]
  },
  {
   "cell_type": "code",
   "execution_count": 13,
   "metadata": {},
   "outputs": [],
   "source": [
    "#data['user_score'] = data['user_score'].astype('float64')"
   ]
  },
  {
   "cell_type": "markdown",
   "metadata": {},
   "source": [
    "Если раскоментировать строку выше, мы увидим ошибку: не удалось преобразовать строку в число с плавающей запятой (could not convert string to float: 'tbd')\n",
    "как и написано в инструкции к выполнению проекта, поэтому обработаем эти данные дополнительно.\n",
    "Из открытых источников можно выявить, что такая ошибка возникает в случае если строка содержит одно или несколько из следующих объектов:\n",
    "- Пространства\n",
    "- Запятые\n",
    "- Специальные символы"
   ]
  },
  {
   "cell_type": "markdown",
   "metadata": {},
   "source": [
    "Исходя из определения аббревиатуары **tbd** по [ссылке](https://en.wikipedia.org/wiki/To_be_announced), можно предположить, что для игр со значением tbd в столбце user_score - рейтинг еще не успел сформироваться.\n",
    "\n",
    "Заменять эти значения на 0 - неверно, это сильно исказит статистику, удаление их также нелогично.\n",
    "Заменим их на Nan, как отсуствующие."
   ]
  },
  {
   "cell_type": "code",
   "execution_count": 14,
   "metadata": {},
   "outputs": [],
   "source": [
    "#заменим tbd на NaN\n",
    "data['user_score'] = data['user_score'].replace('tbd', np.NaN)\n",
    "\n",
    "#приведем к нужному типу столбец\n",
    "data['user_score'] = data['user_score'].astype('float')"
   ]
  },
  {
   "cell_type": "markdown",
   "metadata": {},
   "source": [
    "Тип данных в столбце user_score изменен на float"
   ]
  },
  {
   "cell_type": "markdown",
   "metadata": {},
   "source": [
    "#### Исследование типа данных в столбце сritic_score"
   ]
  },
  {
   "cell_type": "code",
   "execution_count": 15,
   "metadata": {},
   "outputs": [
    {
     "data": {
      "text/plain": [
       "array([76., nan, 82., 80., 89., 58., 87., 91., 61., 97., 95., 77., 88.,\n",
       "       83., 94., 93., 85., 86., 98., 96., 90., 84., 73., 74., 78., 92.,\n",
       "       71., 72., 68., 62., 49., 67., 81., 66., 56., 79., 70., 59., 64.,\n",
       "       75., 60., 63., 69., 50., 25., 42., 44., 55., 48., 57., 29., 47.,\n",
       "       65., 54., 20., 53., 37., 38., 33., 52., 30., 32., 43., 45., 51.,\n",
       "       40., 46., 39., 34., 41., 36., 31., 27., 35., 26., 19., 28., 23.,\n",
       "       24., 21., 17., 13.])"
      ]
     },
     "execution_count": 15,
     "metadata": {},
     "output_type": "execute_result"
    }
   ],
   "source": [
    "#проверим какие значения содержит столбец\n",
    "data['critic_score'].unique()"
   ]
  },
  {
   "cell_type": "markdown",
   "metadata": {},
   "source": [
    "Столбец содержит в себе целочисленные значения, указанные в формате с плавающей запятой.\n",
    "Пока оставим их в этом же типе данных."
   ]
  },
  {
   "cell_type": "markdown",
   "metadata": {},
   "source": [
    "### Обработка пропусков"
   ]
  },
  {
   "cell_type": "markdown",
   "metadata": {},
   "source": [
    "В первом шаге проекта мы уже выяснили, что в 6-ти колонках имеются пропущенные значения: critic_score, rating, user_score  - существенное количество пропусков, исчисляется тысячным порядком, и несущественное количество пропусков в столбцах: Year_of_Release, Name, Genre."
   ]
  },
  {
   "cell_type": "code",
   "execution_count": 16,
   "metadata": {},
   "outputs": [],
   "source": [
    "#print(data.isna().sum().sort_values(ascending=False))"
   ]
  },
  {
   "cell_type": "markdown",
   "metadata": {},
   "source": [
    "Пропуски в столбце critic_score с оценкой критиков, ничем нельзя заменить, поэтому оставим без изменений. Их удаление может привести к существенному искажению анализа."
   ]
  },
  {
   "cell_type": "markdown",
   "metadata": {},
   "source": [
    "Пропуски в столбце rating с рейтингом от организации ESRB, ничем нельзя заменить, поэтому оставим без изменений. Их удаление может привести к существенному искажению анализа."
   ]
  },
  {
   "cell_type": "markdown",
   "metadata": {},
   "source": [
    "Пропуски в столбце user_score оценкой пользователей, ничем нельзя заменить, поэтому оставим без изменений. Их удаление может привести к существенному искажению анализа."
   ]
  },
  {
   "cell_type": "markdown",
   "metadata": {},
   "source": [
    "Строки с пропусками в столбцах 'name', 'genre' удалю, т.к. их количество незначительно и не исказит статистику."
   ]
  },
  {
   "cell_type": "code",
   "execution_count": 17,
   "metadata": {},
   "outputs": [
    {
     "name": "stdout",
     "output_type": "stream",
     "text": [
      "<class 'pandas.core.frame.DataFrame'>\n",
      "Int64Index: 16444 entries, 0 to 16714\n",
      "Data columns (total 11 columns):\n",
      " #   Column           Non-Null Count  Dtype  \n",
      "---  ------           --------------  -----  \n",
      " 0   name             16444 non-null  object \n",
      " 1   platform         16444 non-null  object \n",
      " 2   year_of_release  16444 non-null  int64  \n",
      " 3   genre            16444 non-null  object \n",
      " 4   na_sales         16444 non-null  float64\n",
      " 5   eu_sales         16444 non-null  float64\n",
      " 6   jp_sales         16444 non-null  float64\n",
      " 7   other_sales      16444 non-null  float64\n",
      " 8   critic_score     7983 non-null   float64\n",
      " 9   user_score       7463 non-null   float64\n",
      " 10  rating           9768 non-null   object \n",
      "dtypes: float64(6), int64(1), object(4)\n",
      "memory usage: 1.5+ MB\n"
     ]
    }
   ],
   "source": [
    "data.dropna(subset=['name', 'genre'], inplace=True)\n",
    "data.info()"
   ]
  },
  {
   "cell_type": "code",
   "execution_count": 18,
   "metadata": {},
   "outputs": [
    {
     "name": "stdout",
     "output_type": "stream",
     "text": [
      "(16444, 11)\n"
     ]
    }
   ],
   "source": [
    "#проверим насколько изменился размер таблицы\n",
    "print(data.shape)"
   ]
  },
  {
   "cell_type": "markdown",
   "metadata": {},
   "source": [
    "Было 16715, стало 16444, потери составили менее 2%."
   ]
  },
  {
   "cell_type": "markdown",
   "metadata": {},
   "source": [
    "### Добавление столбца с суммарными продажами"
   ]
  },
  {
   "cell_type": "markdown",
   "metadata": {},
   "source": [
    "Посчитаем суммарные продажи во всех регионах и запишим их в отдельный столбец total_sales.\n",
    "Чтобы посчитать суммарные продажи - следует сложить данные по столбцам: na_sales, eu_sales, jp_sales, other_sales для каждой игры."
   ]
  },
  {
   "cell_type": "code",
   "execution_count": 19,
   "metadata": {},
   "outputs": [
    {
     "data": {
      "text/html": [
       "<div>\n",
       "<style scoped>\n",
       "    .dataframe tbody tr th:only-of-type {\n",
       "        vertical-align: middle;\n",
       "    }\n",
       "\n",
       "    .dataframe tbody tr th {\n",
       "        vertical-align: top;\n",
       "    }\n",
       "\n",
       "    .dataframe thead th {\n",
       "        text-align: right;\n",
       "    }\n",
       "</style>\n",
       "<table border=\"1\" class=\"dataframe\">\n",
       "  <thead>\n",
       "    <tr style=\"text-align: right;\">\n",
       "      <th></th>\n",
       "      <th>name</th>\n",
       "      <th>platform</th>\n",
       "      <th>year_of_release</th>\n",
       "      <th>genre</th>\n",
       "      <th>na_sales</th>\n",
       "      <th>eu_sales</th>\n",
       "      <th>jp_sales</th>\n",
       "      <th>other_sales</th>\n",
       "      <th>critic_score</th>\n",
       "      <th>user_score</th>\n",
       "      <th>rating</th>\n",
       "      <th>total_sales</th>\n",
       "    </tr>\n",
       "  </thead>\n",
       "  <tbody>\n",
       "    <tr>\n",
       "      <th>0</th>\n",
       "      <td>Wii Sports</td>\n",
       "      <td>Wii</td>\n",
       "      <td>2006</td>\n",
       "      <td>Sports</td>\n",
       "      <td>41.36</td>\n",
       "      <td>28.96</td>\n",
       "      <td>3.77</td>\n",
       "      <td>8.45</td>\n",
       "      <td>76.0</td>\n",
       "      <td>8.0</td>\n",
       "      <td>E</td>\n",
       "      <td>82.54</td>\n",
       "    </tr>\n",
       "    <tr>\n",
       "      <th>1</th>\n",
       "      <td>Super Mario Bros.</td>\n",
       "      <td>NES</td>\n",
       "      <td>1985</td>\n",
       "      <td>Platform</td>\n",
       "      <td>29.08</td>\n",
       "      <td>3.58</td>\n",
       "      <td>6.81</td>\n",
       "      <td>0.77</td>\n",
       "      <td>NaN</td>\n",
       "      <td>NaN</td>\n",
       "      <td>NaN</td>\n",
       "      <td>40.24</td>\n",
       "    </tr>\n",
       "    <tr>\n",
       "      <th>2</th>\n",
       "      <td>Mario Kart Wii</td>\n",
       "      <td>Wii</td>\n",
       "      <td>2008</td>\n",
       "      <td>Racing</td>\n",
       "      <td>15.68</td>\n",
       "      <td>12.76</td>\n",
       "      <td>3.79</td>\n",
       "      <td>3.29</td>\n",
       "      <td>82.0</td>\n",
       "      <td>8.3</td>\n",
       "      <td>E</td>\n",
       "      <td>35.52</td>\n",
       "    </tr>\n",
       "    <tr>\n",
       "      <th>3</th>\n",
       "      <td>Wii Sports Resort</td>\n",
       "      <td>Wii</td>\n",
       "      <td>2009</td>\n",
       "      <td>Sports</td>\n",
       "      <td>15.61</td>\n",
       "      <td>10.93</td>\n",
       "      <td>3.28</td>\n",
       "      <td>2.95</td>\n",
       "      <td>80.0</td>\n",
       "      <td>8.0</td>\n",
       "      <td>E</td>\n",
       "      <td>32.77</td>\n",
       "    </tr>\n",
       "    <tr>\n",
       "      <th>4</th>\n",
       "      <td>Pokemon Red/Pokemon Blue</td>\n",
       "      <td>GB</td>\n",
       "      <td>1996</td>\n",
       "      <td>Role-Playing</td>\n",
       "      <td>11.27</td>\n",
       "      <td>8.89</td>\n",
       "      <td>10.22</td>\n",
       "      <td>1.00</td>\n",
       "      <td>NaN</td>\n",
       "      <td>NaN</td>\n",
       "      <td>NaN</td>\n",
       "      <td>31.38</td>\n",
       "    </tr>\n",
       "    <tr>\n",
       "      <th>...</th>\n",
       "      <td>...</td>\n",
       "      <td>...</td>\n",
       "      <td>...</td>\n",
       "      <td>...</td>\n",
       "      <td>...</td>\n",
       "      <td>...</td>\n",
       "      <td>...</td>\n",
       "      <td>...</td>\n",
       "      <td>...</td>\n",
       "      <td>...</td>\n",
       "      <td>...</td>\n",
       "      <td>...</td>\n",
       "    </tr>\n",
       "    <tr>\n",
       "      <th>16710</th>\n",
       "      <td>Samurai Warriors: Sanada Maru</td>\n",
       "      <td>PS3</td>\n",
       "      <td>2016</td>\n",
       "      <td>Action</td>\n",
       "      <td>0.00</td>\n",
       "      <td>0.00</td>\n",
       "      <td>0.01</td>\n",
       "      <td>0.00</td>\n",
       "      <td>NaN</td>\n",
       "      <td>NaN</td>\n",
       "      <td>NaN</td>\n",
       "      <td>0.01</td>\n",
       "    </tr>\n",
       "    <tr>\n",
       "      <th>16711</th>\n",
       "      <td>LMA Manager 2007</td>\n",
       "      <td>X360</td>\n",
       "      <td>2006</td>\n",
       "      <td>Sports</td>\n",
       "      <td>0.00</td>\n",
       "      <td>0.01</td>\n",
       "      <td>0.00</td>\n",
       "      <td>0.00</td>\n",
       "      <td>NaN</td>\n",
       "      <td>NaN</td>\n",
       "      <td>NaN</td>\n",
       "      <td>0.01</td>\n",
       "    </tr>\n",
       "    <tr>\n",
       "      <th>16712</th>\n",
       "      <td>Haitaka no Psychedelica</td>\n",
       "      <td>PSV</td>\n",
       "      <td>2016</td>\n",
       "      <td>Adventure</td>\n",
       "      <td>0.00</td>\n",
       "      <td>0.00</td>\n",
       "      <td>0.01</td>\n",
       "      <td>0.00</td>\n",
       "      <td>NaN</td>\n",
       "      <td>NaN</td>\n",
       "      <td>NaN</td>\n",
       "      <td>0.01</td>\n",
       "    </tr>\n",
       "    <tr>\n",
       "      <th>16713</th>\n",
       "      <td>Spirits &amp; Spells</td>\n",
       "      <td>GBA</td>\n",
       "      <td>2003</td>\n",
       "      <td>Platform</td>\n",
       "      <td>0.01</td>\n",
       "      <td>0.00</td>\n",
       "      <td>0.00</td>\n",
       "      <td>0.00</td>\n",
       "      <td>NaN</td>\n",
       "      <td>NaN</td>\n",
       "      <td>NaN</td>\n",
       "      <td>0.01</td>\n",
       "    </tr>\n",
       "    <tr>\n",
       "      <th>16714</th>\n",
       "      <td>Winning Post 8 2016</td>\n",
       "      <td>PSV</td>\n",
       "      <td>2016</td>\n",
       "      <td>Simulation</td>\n",
       "      <td>0.00</td>\n",
       "      <td>0.00</td>\n",
       "      <td>0.01</td>\n",
       "      <td>0.00</td>\n",
       "      <td>NaN</td>\n",
       "      <td>NaN</td>\n",
       "      <td>NaN</td>\n",
       "      <td>0.01</td>\n",
       "    </tr>\n",
       "  </tbody>\n",
       "</table>\n",
       "<p>16444 rows × 12 columns</p>\n",
       "</div>"
      ],
      "text/plain": [
       "                                name platform  year_of_release         genre  \\\n",
       "0                         Wii Sports      Wii             2006        Sports   \n",
       "1                  Super Mario Bros.      NES             1985      Platform   \n",
       "2                     Mario Kart Wii      Wii             2008        Racing   \n",
       "3                  Wii Sports Resort      Wii             2009        Sports   \n",
       "4           Pokemon Red/Pokemon Blue       GB             1996  Role-Playing   \n",
       "...                              ...      ...              ...           ...   \n",
       "16710  Samurai Warriors: Sanada Maru      PS3             2016        Action   \n",
       "16711               LMA Manager 2007     X360             2006        Sports   \n",
       "16712        Haitaka no Psychedelica      PSV             2016     Adventure   \n",
       "16713               Spirits & Spells      GBA             2003      Platform   \n",
       "16714            Winning Post 8 2016      PSV             2016    Simulation   \n",
       "\n",
       "       na_sales  eu_sales  jp_sales  other_sales  critic_score  user_score  \\\n",
       "0         41.36     28.96      3.77         8.45          76.0         8.0   \n",
       "1         29.08      3.58      6.81         0.77           NaN         NaN   \n",
       "2         15.68     12.76      3.79         3.29          82.0         8.3   \n",
       "3         15.61     10.93      3.28         2.95          80.0         8.0   \n",
       "4         11.27      8.89     10.22         1.00           NaN         NaN   \n",
       "...         ...       ...       ...          ...           ...         ...   \n",
       "16710      0.00      0.00      0.01         0.00           NaN         NaN   \n",
       "16711      0.00      0.01      0.00         0.00           NaN         NaN   \n",
       "16712      0.00      0.00      0.01         0.00           NaN         NaN   \n",
       "16713      0.01      0.00      0.00         0.00           NaN         NaN   \n",
       "16714      0.00      0.00      0.01         0.00           NaN         NaN   \n",
       "\n",
       "      rating  total_sales  \n",
       "0          E        82.54  \n",
       "1        NaN        40.24  \n",
       "2          E        35.52  \n",
       "3          E        32.77  \n",
       "4        NaN        31.38  \n",
       "...      ...          ...  \n",
       "16710    NaN         0.01  \n",
       "16711    NaN         0.01  \n",
       "16712    NaN         0.01  \n",
       "16713    NaN         0.01  \n",
       "16714    NaN         0.01  \n",
       "\n",
       "[16444 rows x 12 columns]"
      ]
     },
     "execution_count": 19,
     "metadata": {},
     "output_type": "execute_result"
    }
   ],
   "source": [
    "#создаем новый столбец с суммарными продажами\n",
    "data['total_sales'] = data['na_sales'] + data['eu_sales'] + data['jp_sales'] + data['other_sales']\n",
    "data"
   ]
  },
  {
   "cell_type": "markdown",
   "metadata": {},
   "source": [
    "Столбец с суммарными продажами добавлен в таблицу."
   ]
  },
  {
   "cell_type": "markdown",
   "metadata": {},
   "source": [
    "### Общий вывод к шагу 2"
   ]
  },
  {
   "cell_type": "markdown",
   "metadata": {},
   "source": [
    "<div class=\"alert alert-block\" style=\"background-color: gainsboro\">\n",
    "<g>\n",
    "\n",
    "<p> В таблице нет явных дубликатов\n",
    "   <p> Названия колонок были приведены к нижнему регистру\n",
    "   <p> Тип данных в столбцах год выпуска year_of_release - приведен к целочисленному.\n",
    "   Значения, равные tbd, в столбце с оценкой пользователя user_score - заменены на NaN, и приведены в типу данных с плавающей запятой\n",
    "   <p> Столбец с суммарными продажами добавлен в таблицу.\n",
    "   <p> Обработаны пропуски без существенных потерь для анализа</g>\n",
    "</div>"
   ]
  },
  {
   "cell_type": "code",
   "execution_count": 20,
   "metadata": {},
   "outputs": [
    {
     "data": {
      "text/html": [
       "<div>\n",
       "<style scoped>\n",
       "    .dataframe tbody tr th:only-of-type {\n",
       "        vertical-align: middle;\n",
       "    }\n",
       "\n",
       "    .dataframe tbody tr th {\n",
       "        vertical-align: top;\n",
       "    }\n",
       "\n",
       "    .dataframe thead th {\n",
       "        text-align: right;\n",
       "    }\n",
       "</style>\n",
       "<table border=\"1\" class=\"dataframe\">\n",
       "  <thead>\n",
       "    <tr style=\"text-align: right;\">\n",
       "      <th></th>\n",
       "      <th>name</th>\n",
       "      <th>platform</th>\n",
       "      <th>year_of_release</th>\n",
       "      <th>genre</th>\n",
       "      <th>na_sales</th>\n",
       "      <th>eu_sales</th>\n",
       "      <th>jp_sales</th>\n",
       "      <th>other_sales</th>\n",
       "      <th>critic_score</th>\n",
       "      <th>user_score</th>\n",
       "      <th>rating</th>\n",
       "      <th>total_sales</th>\n",
       "    </tr>\n",
       "  </thead>\n",
       "  <tbody>\n",
       "    <tr>\n",
       "      <th>16230</th>\n",
       "      <td>Madden NFL 13</td>\n",
       "      <td>PS3</td>\n",
       "      <td>2012</td>\n",
       "      <td>Sports</td>\n",
       "      <td>0.0</td>\n",
       "      <td>0.01</td>\n",
       "      <td>0.0</td>\n",
       "      <td>0.0</td>\n",
       "      <td>83.0</td>\n",
       "      <td>5.5</td>\n",
       "      <td>E</td>\n",
       "      <td>0.01</td>\n",
       "    </tr>\n",
       "  </tbody>\n",
       "</table>\n",
       "</div>"
      ],
      "text/plain": [
       "                name platform  year_of_release   genre  na_sales  eu_sales  \\\n",
       "16230  Madden NFL 13      PS3             2012  Sports       0.0      0.01   \n",
       "\n",
       "       jp_sales  other_sales  critic_score  user_score rating  total_sales  \n",
       "16230       0.0          0.0          83.0         5.5      E         0.01  "
      ]
     },
     "execution_count": 20,
     "metadata": {},
     "output_type": "execute_result"
    }
   ],
   "source": [
    "duplicaterows = data[data.duplicated(['name', 'platform','year_of_release'])]\n",
    "duplicaterows"
   ]
  },
  {
   "cell_type": "code",
   "execution_count": 21,
   "metadata": {},
   "outputs": [],
   "source": [
    "#удалим из нашего датафрейма строки с совпадающими значениями одновременно в трех столбцах: по названию игры, платформе и году релиза.\n",
    "data = data.drop_duplicates(subset=['name', 'platform','year_of_release'])"
   ]
  },
  {
   "cell_type": "code",
   "execution_count": 22,
   "metadata": {},
   "outputs": [
    {
     "data": {
      "text/html": [
       "<div>\n",
       "<style scoped>\n",
       "    .dataframe tbody tr th:only-of-type {\n",
       "        vertical-align: middle;\n",
       "    }\n",
       "\n",
       "    .dataframe tbody tr th {\n",
       "        vertical-align: top;\n",
       "    }\n",
       "\n",
       "    .dataframe thead th {\n",
       "        text-align: right;\n",
       "    }\n",
       "</style>\n",
       "<table border=\"1\" class=\"dataframe\">\n",
       "  <thead>\n",
       "    <tr style=\"text-align: right;\">\n",
       "      <th></th>\n",
       "      <th>name</th>\n",
       "      <th>platform</th>\n",
       "      <th>year_of_release</th>\n",
       "      <th>genre</th>\n",
       "      <th>na_sales</th>\n",
       "      <th>eu_sales</th>\n",
       "      <th>jp_sales</th>\n",
       "      <th>other_sales</th>\n",
       "      <th>critic_score</th>\n",
       "      <th>user_score</th>\n",
       "      <th>rating</th>\n",
       "      <th>total_sales</th>\n",
       "    </tr>\n",
       "  </thead>\n",
       "  <tbody>\n",
       "    <tr>\n",
       "      <th>507</th>\n",
       "      <td>Madden NFL 13</td>\n",
       "      <td>X360</td>\n",
       "      <td>2012</td>\n",
       "      <td>Sports</td>\n",
       "      <td>2.53</td>\n",
       "      <td>0.15</td>\n",
       "      <td>0.0</td>\n",
       "      <td>0.17</td>\n",
       "      <td>81.0</td>\n",
       "      <td>5.8</td>\n",
       "      <td>E</td>\n",
       "      <td>2.85</td>\n",
       "    </tr>\n",
       "    <tr>\n",
       "      <th>604</th>\n",
       "      <td>Madden NFL 13</td>\n",
       "      <td>PS3</td>\n",
       "      <td>2012</td>\n",
       "      <td>Sports</td>\n",
       "      <td>2.11</td>\n",
       "      <td>0.22</td>\n",
       "      <td>0.0</td>\n",
       "      <td>0.23</td>\n",
       "      <td>83.0</td>\n",
       "      <td>5.5</td>\n",
       "      <td>E</td>\n",
       "      <td>2.56</td>\n",
       "    </tr>\n",
       "    <tr>\n",
       "      <th>3986</th>\n",
       "      <td>Madden NFL 13</td>\n",
       "      <td>Wii</td>\n",
       "      <td>2012</td>\n",
       "      <td>Sports</td>\n",
       "      <td>0.47</td>\n",
       "      <td>0.00</td>\n",
       "      <td>0.0</td>\n",
       "      <td>0.03</td>\n",
       "      <td>NaN</td>\n",
       "      <td>7.3</td>\n",
       "      <td>E</td>\n",
       "      <td>0.50</td>\n",
       "    </tr>\n",
       "    <tr>\n",
       "      <th>5887</th>\n",
       "      <td>Madden NFL 13</td>\n",
       "      <td>PSV</td>\n",
       "      <td>2012</td>\n",
       "      <td>Sports</td>\n",
       "      <td>0.28</td>\n",
       "      <td>0.00</td>\n",
       "      <td>0.0</td>\n",
       "      <td>0.02</td>\n",
       "      <td>63.0</td>\n",
       "      <td>7.3</td>\n",
       "      <td>E</td>\n",
       "      <td>0.30</td>\n",
       "    </tr>\n",
       "    <tr>\n",
       "      <th>7066</th>\n",
       "      <td>Madden NFL 13</td>\n",
       "      <td>WiiU</td>\n",
       "      <td>2012</td>\n",
       "      <td>Sports</td>\n",
       "      <td>0.21</td>\n",
       "      <td>0.00</td>\n",
       "      <td>0.0</td>\n",
       "      <td>0.02</td>\n",
       "      <td>75.0</td>\n",
       "      <td>6.7</td>\n",
       "      <td>E</td>\n",
       "      <td>0.23</td>\n",
       "    </tr>\n",
       "  </tbody>\n",
       "</table>\n",
       "</div>"
      ],
      "text/plain": [
       "               name platform  year_of_release   genre  na_sales  eu_sales  \\\n",
       "507   Madden NFL 13     X360             2012  Sports      2.53      0.15   \n",
       "604   Madden NFL 13      PS3             2012  Sports      2.11      0.22   \n",
       "3986  Madden NFL 13      Wii             2012  Sports      0.47      0.00   \n",
       "5887  Madden NFL 13      PSV             2012  Sports      0.28      0.00   \n",
       "7066  Madden NFL 13     WiiU             2012  Sports      0.21      0.00   \n",
       "\n",
       "      jp_sales  other_sales  critic_score  user_score rating  total_sales  \n",
       "507        0.0         0.17          81.0         5.8      E         2.85  \n",
       "604        0.0         0.23          83.0         5.5      E         2.56  \n",
       "3986       0.0         0.03           NaN         7.3      E         0.50  \n",
       "5887       0.0         0.02          63.0         7.3      E         0.30  \n",
       "7066       0.0         0.02          75.0         6.7      E         0.23  "
      ]
     },
     "execution_count": 22,
     "metadata": {},
     "output_type": "execute_result"
    }
   ],
   "source": [
    "#Проверим результат удаления\n",
    "data.query('name == \"Madden NFL 13\"')"
   ]
  },
  {
   "cell_type": "markdown",
   "metadata": {},
   "source": [
    "## Шаг 3. Исследовательский анализ данных"
   ]
  },
  {
   "cell_type": "markdown",
   "metadata": {},
   "source": [
    "<div class=\"alert alert-block\" style=\"background-color: gainsboro\">\n",
    "<g>\n",
    "<p> Проанализируем данные о количестве игр, выходящих ежегодно\n",
    "<p> Выясним распределение количества игр по платформам и выделим наиболее прибыльные платформы\n",
    "<p> Определим средний срок \"жизни\"  платформы\n",
    "<p> Вычислим и визуализируем какие платформы лидируют по продажам, растут или падают, выберем несколько потенциально прибыльных платформ.\n",
    "<p> Построим график «ящик с усами» по глобальным продажам игр в разбивке по платформам.\n",
    "<p> Оценим влияние на продажи внутри платформы = отзывы пользователей и критиков\n",
    "<p> Определим какой жанр игры является самым прибыльным. Выявим выделяются ли жанры с высокими и низкими продажами. </g>\n",
    "</div>"
   ]
  },
  {
   "cell_type": "markdown",
   "metadata": {},
   "source": [
    "### Анализ данных о количестве игр, выходящих по годам"
   ]
  },
  {
   "cell_type": "markdown",
   "metadata": {},
   "source": [
    "Рассмотрим сколько игр выпускалось в разные годы.\n",
    "Определим за какой период нам важны данные для дальнейшего анализа."
   ]
  },
  {
   "cell_type": "code",
   "execution_count": 23,
   "metadata": {},
   "outputs": [
    {
     "data": {
      "text/plain": [
       "2008    1427\n",
       "2009    1426\n",
       "2010    1255\n",
       "2007    1197\n",
       "2011    1136\n",
       "2006    1006\n",
       "2005     939\n",
       "2002     829\n",
       "2003     775\n",
       "2004     762\n",
       "Name: year_of_release, dtype: int64"
      ]
     },
     "execution_count": 23,
     "metadata": {},
     "output_type": "execute_result"
    }
   ],
   "source": [
    "#выясним в какие годы выходило больше всего игр\n",
    "data['year_of_release'].value_counts().head(10)"
   ]
  },
  {
   "cell_type": "markdown",
   "metadata": {},
   "source": [
    "Больше всего игр выходило в 2006-2011 годах, но по условиям задачи мы проводим анализ для прогноза на 2017.\n",
    "Посмотрим более делатально распределение."
   ]
  },
  {
   "cell_type": "code",
   "execution_count": 24,
   "metadata": {},
   "outputs": [
    {
     "data": {
      "image/png": "[encoded data removed]",
      "text/plain": [
       "<Figure size 1584x720 with 1 Axes>"
      ]
     },
     "metadata": {
      "needs_background": "light"
     },
     "output_type": "display_data"
    }
   ],
   "source": [
    "#построим график распределения количества выходящих игр по годам\n",
    "data['year_of_release'].plot(kind='hist', bins=30, figsize=(22,10))\n",
    "plt.title('Количество игр в год')\n",
    "plt.xlabel('год')\n",
    "plt.ylabel('Количество игр')\n",
    "plt.grid()\n",
    "plt.locator_params(axis='x', nbins= 40)\n",
    "plt.show()"
   ]
  },
  {
   "cell_type": "markdown",
   "metadata": {},
   "source": [
    "Заметно снижение объема с начала 2012 года до 2015. \n",
    "В 2016 году наблюдается положительная динамика в сторону увеличения количества выпускаемых игр."
   ]
  },
  {
   "cell_type": "markdown",
   "metadata": {},
   "source": [
    "Больше всего игр выходило в 2006-2011 годах. Заметно снижение объема с начала 2012 года до 2015. В 2016 году наблюдается положительная динамика в сторону увеличения количества выпускаемых игр. Почему произошло резкое снижения количества выпускаемых игр - недостаточно данных для анализа, возможно какая-то из платформ исчезла или появилась новая активная, но не включенная в эти данные."
   ]
  },
  {
   "cell_type": "markdown",
   "metadata": {},
   "source": [
    "Для анализа будем опираться на данные за последние 3 года в первую очередь и за последние 10 лет во вторую очередь.\n",
    "Остальные данные я бы отбросила."
   ]
  },
  {
   "cell_type": "markdown",
   "metadata": {},
   "source": [
    "### Анализ игр по платформам"
   ]
  },
  {
   "cell_type": "markdown",
   "metadata": {},
   "source": [
    "#### Распределение количества игр по платформам"
   ]
  },
  {
   "cell_type": "code",
   "execution_count": 25,
   "metadata": {},
   "outputs": [
    {
     "data": {
      "image/png": "[encoded data removed]",
      "text/plain": [
       "<Figure size 576x360 with 1 Axes>"
      ]
     },
     "metadata": {
      "needs_background": "light"
     },
     "output_type": "display_data"
    }
   ],
   "source": [
    "#проверим на какой платформе чаще выходили игры\n",
    "data['platform'].value_counts().plot.bar(figsize=(8, 5), width=0.8)\n",
    "plt.title('количество игр')\n",
    "plt.xlabel('Платформ')\n",
    "plt.ylabel('Количество игр на разных платформах')\n",
    "plt.show()"
   ]
  },
  {
   "cell_type": "markdown",
   "metadata": {},
   "source": [
    "Больше всего игр выходило на платформах: PS2 и DS"
   ]
  },
  {
   "cell_type": "markdown",
   "metadata": {},
   "source": [
    "#### Выявление наиболее прибыльных платформ"
   ]
  },
  {
   "cell_type": "code",
   "execution_count": 26,
   "metadata": {},
   "outputs": [
    {
     "data": {
      "text/html": [
       "<div>\n",
       "<style scoped>\n",
       "    .dataframe tbody tr th:only-of-type {\n",
       "        vertical-align: middle;\n",
       "    }\n",
       "\n",
       "    .dataframe tbody tr th {\n",
       "        vertical-align: top;\n",
       "    }\n",
       "\n",
       "    .dataframe thead th {\n",
       "        text-align: right;\n",
       "    }\n",
       "</style>\n",
       "<table border=\"1\" class=\"dataframe\">\n",
       "  <thead>\n",
       "    <tr style=\"text-align: right;\">\n",
       "      <th></th>\n",
       "      <th>platform</th>\n",
       "      <th>total_sales</th>\n",
       "    </tr>\n",
       "  </thead>\n",
       "  <tbody>\n",
       "    <tr>\n",
       "      <th>0</th>\n",
       "      <td>PS2</td>\n",
       "      <td>1233.56</td>\n",
       "    </tr>\n",
       "    <tr>\n",
       "      <th>1</th>\n",
       "      <td>X360</td>\n",
       "      <td>961.24</td>\n",
       "    </tr>\n",
       "    <tr>\n",
       "      <th>2</th>\n",
       "      <td>PS3</td>\n",
       "      <td>931.33</td>\n",
       "    </tr>\n",
       "    <tr>\n",
       "      <th>3</th>\n",
       "      <td>Wii</td>\n",
       "      <td>891.18</td>\n",
       "    </tr>\n",
       "    <tr>\n",
       "      <th>4</th>\n",
       "      <td>DS</td>\n",
       "      <td>802.78</td>\n",
       "    </tr>\n",
       "    <tr>\n",
       "      <th>5</th>\n",
       "      <td>PS</td>\n",
       "      <td>727.58</td>\n",
       "    </tr>\n",
       "  </tbody>\n",
       "</table>\n",
       "</div>"
      ],
      "text/plain": [
       "  platform  total_sales\n",
       "0      PS2      1233.56\n",
       "1     X360       961.24\n",
       "2      PS3       931.33\n",
       "3      Wii       891.18\n",
       "4       DS       802.78\n",
       "5       PS       727.58"
      ]
     },
     "execution_count": 26,
     "metadata": {},
     "output_type": "execute_result"
    }
   ],
   "source": [
    "#создадим датафрейм, хранящий в себе платформу и прибыль\n",
    "platform_top_sales = pd.pivot_table(data, index='platform', values='total_sales', aggfunc='sum') \\\n",
    ".sort_values(by='total_sales', ascending=False)\n",
    "#в этом датафрейме оставлю только наиболее прибыльные 6 платформ\n",
    "platform_top_sales = platform_top_sales.head(6).reset_index()\n",
    "platform_top_sales"
   ]
  },
  {
   "cell_type": "code",
   "execution_count": 27,
   "metadata": {},
   "outputs": [
    {
     "data": {
      "text/plain": [
       "array(['PS2', 'X360', 'PS3', 'Wii', 'DS', 'PS'], dtype=object)"
      ]
     },
     "execution_count": 27,
     "metadata": {},
     "output_type": "execute_result"
    }
   ],
   "source": [
    "#сохраним список платформ из датафрейма выше\n",
    "platform_top_sales_unique = platform_top_sales['platform'].unique()\n",
    "platform_top_sales_unique"
   ]
  },
  {
   "cell_type": "code",
   "execution_count": 28,
   "metadata": {},
   "outputs": [
    {
     "data": {
      "text/plain": [
       "<AxesSubplot:title={'center':'Прибыльность платформ'}, xlabel='Платформа', ylabel='Количество продаж, млн'>"
      ]
     },
     "execution_count": 28,
     "metadata": {},
     "output_type": "execute_result"
    },
    {
     "data": {
      "image/png": "[encoded data removed]",
      "text/plain": [
       "<Figure size 720x360 with 1 Axes>"
      ]
     },
     "metadata": {
      "needs_background": "light"
     },
     "output_type": "display_data"
    }
   ],
   "source": [
    "#выстроим диаграмму 6 топовых по прибыли платоформ\n",
    "data.groupby('platform')['total_sales'].sum().sort_values(ascending=False) \\\n",
    ".plot(kind='bar',figsize=(10,5), xlabel='Платформа', ylabel='Количество продаж, млн', title = \"Прибыльность платформ\", width=0.8)"
   ]
  },
  {
   "cell_type": "markdown",
   "metadata": {},
   "source": [
    "Самые прибыльные платформы - PS2, X360, PS3, Wii, DS, PS"
   ]
  },
  {
   "cell_type": "markdown",
   "metadata": {},
   "source": [
    "#### Определение срока \"жизни\"  платформы"
   ]
  },
  {
   "cell_type": "markdown",
   "metadata": {},
   "source": [
    "Выясним за какой срок появляются новые и исчезают старые платформы"
   ]
  },
  {
   "cell_type": "code",
   "execution_count": 29,
   "metadata": {},
   "outputs": [
    {
     "name": "stdout",
     "output_type": "stream",
     "text": [
      "Index(['min_year_of_release', 'max_year_of_release'], dtype='object')\n"
     ]
    }
   ],
   "source": [
    "#создадим датафрейм, который отразит нам годы появления первой и последней игрф по платформам\n",
    "platform_grouped = data.pivot_table(index=['platform'],values=['year_of_release'], aggfunc=[min, max])\n",
    "#уберем двойные названия колонок\n",
    "platform_grouped.columns = platform_grouped.columns.map('_'.join)\n",
    "print(platform_grouped.columns)"
   ]
  },
  {
   "cell_type": "code",
   "execution_count": 30,
   "metadata": {},
   "outputs": [
    {
     "data": {
      "text/plain": [
       "7.6"
      ]
     },
     "execution_count": 30,
     "metadata": {},
     "output_type": "execute_result"
    }
   ],
   "source": [
    "#посчитаем условный срок жизни платформы\n",
    "platform_grouped['alive'] = platform_grouped['max_year_of_release'] - platform_grouped['min_year_of_release']\n",
    "platform_grouped['alive'].mean().round(1)"
   ]
  },
  {
   "cell_type": "markdown",
   "metadata": {},
   "source": [
    "Средний срок жизни по всем платформам = 7,6 лет."
   ]
  },
  {
   "cell_type": "code",
   "execution_count": 31,
   "metadata": {},
   "outputs": [
    {
     "data": {
      "text/html": [
       "<div>\n",
       "<style scoped>\n",
       "    .dataframe tbody tr th:only-of-type {\n",
       "        vertical-align: middle;\n",
       "    }\n",
       "\n",
       "    .dataframe tbody tr th {\n",
       "        vertical-align: top;\n",
       "    }\n",
       "\n",
       "    .dataframe thead th {\n",
       "        text-align: right;\n",
       "    }\n",
       "</style>\n",
       "<table border=\"1\" class=\"dataframe\">\n",
       "  <thead>\n",
       "    <tr style=\"text-align: right;\">\n",
       "      <th></th>\n",
       "      <th>min_year_of_release</th>\n",
       "      <th>max_year_of_release</th>\n",
       "      <th>alive</th>\n",
       "    </tr>\n",
       "    <tr>\n",
       "      <th>platform</th>\n",
       "      <th></th>\n",
       "      <th></th>\n",
       "      <th></th>\n",
       "    </tr>\n",
       "  </thead>\n",
       "  <tbody>\n",
       "    <tr>\n",
       "      <th>2600</th>\n",
       "      <td>1980</td>\n",
       "      <td>1989</td>\n",
       "      <td>9</td>\n",
       "    </tr>\n",
       "    <tr>\n",
       "      <th>3DO</th>\n",
       "      <td>1994</td>\n",
       "      <td>1995</td>\n",
       "      <td>1</td>\n",
       "    </tr>\n",
       "    <tr>\n",
       "      <th>3DS</th>\n",
       "      <td>2011</td>\n",
       "      <td>2016</td>\n",
       "      <td>5</td>\n",
       "    </tr>\n",
       "    <tr>\n",
       "      <th>DC</th>\n",
       "      <td>1998</td>\n",
       "      <td>2008</td>\n",
       "      <td>10</td>\n",
       "    </tr>\n",
       "    <tr>\n",
       "      <th>DS</th>\n",
       "      <td>1985</td>\n",
       "      <td>2013</td>\n",
       "      <td>28</td>\n",
       "    </tr>\n",
       "    <tr>\n",
       "      <th>GB</th>\n",
       "      <td>1988</td>\n",
       "      <td>2001</td>\n",
       "      <td>13</td>\n",
       "    </tr>\n",
       "    <tr>\n",
       "      <th>GBA</th>\n",
       "      <td>2000</td>\n",
       "      <td>2007</td>\n",
       "      <td>7</td>\n",
       "    </tr>\n",
       "    <tr>\n",
       "      <th>GC</th>\n",
       "      <td>2001</td>\n",
       "      <td>2007</td>\n",
       "      <td>6</td>\n",
       "    </tr>\n",
       "    <tr>\n",
       "      <th>GEN</th>\n",
       "      <td>1990</td>\n",
       "      <td>1994</td>\n",
       "      <td>4</td>\n",
       "    </tr>\n",
       "    <tr>\n",
       "      <th>GG</th>\n",
       "      <td>1992</td>\n",
       "      <td>1992</td>\n",
       "      <td>0</td>\n",
       "    </tr>\n",
       "  </tbody>\n",
       "</table>\n",
       "</div>"
      ],
      "text/plain": [
       "          min_year_of_release  max_year_of_release  alive\n",
       "platform                                                 \n",
       "2600                     1980                 1989      9\n",
       "3DO                      1994                 1995      1\n",
       "3DS                      2011                 2016      5\n",
       "DC                       1998                 2008     10\n",
       "DS                       1985                 2013     28\n",
       "GB                       1988                 2001     13\n",
       "GBA                      2000                 2007      7\n",
       "GC                       2001                 2007      6\n",
       "GEN                      1990                 1994      4\n",
       "GG                       1992                 1992      0"
      ]
     },
     "execution_count": 31,
     "metadata": {},
     "output_type": "execute_result"
    }
   ],
   "source": [
    "platform_grouped.head(10)"
   ]
  },
  {
   "cell_type": "markdown",
   "metadata": {},
   "source": [
    "### Определение лидирующих платформ по продажам"
   ]
  },
  {
   "cell_type": "markdown",
   "metadata": {},
   "source": [
    "В п. 3.2.2 мы уже выяснили какие платформы являются самыми прибыльными. Визуализируем прибыль платформ по годам."
   ]
  },
  {
   "cell_type": "code",
   "execution_count": 32,
   "metadata": {},
   "outputs": [
    {
     "data": {
      "image/png": "[encoded data removed]",
      "text/plain": [
       "<Figure size 1080x360 with 1 Axes>"
      ]
     },
     "metadata": {
      "needs_background": "light"
     },
     "output_type": "display_data"
    },
    {
     "data": {
      "image/png": "[encoded data removed]",
      "text/plain": [
       "<Figure size 1080x360 with 1 Axes>"
      ]
     },
     "metadata": {
      "needs_background": "light"
     },
     "output_type": "display_data"
    },
    {
     "data": {
      "image/png": "[encoded data removed]",
      "text/plain": [
       "<Figure size 1080x360 with 1 Axes>"
      ]
     },
     "metadata": {
      "needs_background": "light"
     },
     "output_type": "display_data"
    },
    {
     "data": {
      "image/png": "[encoded data removed]",
      "text/plain": [
       "<Figure size 1080x360 with 1 Axes>"
      ]
     },
     "metadata": {
      "needs_background": "light"
     },
     "output_type": "display_data"
    },
    {
     "data": {
      "image/png": "[encoded data removed]",
      "text/plain": [
       "<Figure size 1080x360 with 1 Axes>"
      ]
     },
     "metadata": {
      "needs_background": "light"
     },
     "output_type": "display_data"
    },
    {
     "data": {
      "image/png": "[encoded data removed]",
      "text/plain": [
       "<Figure size 1080x360 with 1 Axes>"
      ]
     },
     "metadata": {
      "needs_background": "light"
     },
     "output_type": "display_data"
    }
   ],
   "source": [
    "#создадим цикл, как было рекомендовано куратором по выполнению проекта для каждой из топовых платформ\n",
    "for platform in platform_top_sales_unique:\n",
    "    data[data['platform'] == platform].pivot_table(index='year_of_release', values='total_sales', aggfunc='sum') \\\n",
    "    .plot(kind='bar', figsize=(15,5), xlabel='год', ylabel='Количество продаж, млн', width=0.9)\n",
    "    plt.title(platform)"
   ]
  },
  {
   "cell_type": "code",
   "execution_count": 33,
   "metadata": {},
   "outputs": [
    {
     "data": {
      "text/plain": [
       "<AxesSubplot:title={'center':'количество проданных копий игр на различных платформах в разрезе по годам'}, xlabel='год', ylabel='количество проданных копий'>"
      ]
     },
     "execution_count": 33,
     "metadata": {},
     "output_type": "execute_result"
    },
    {
     "data": {
      "image/png": "[encoded data removed]",
      "text/plain": [
       "<Figure size 1080x360 with 1 Axes>"
      ]
     },
     "metadata": {
      "needs_background": "light"
     },
     "output_type": "display_data"
    }
   ],
   "source": [
    "#в теории не нашла как построить совмещенные столбцатые диаграммы, поэтому построю сравнительную диаграмму лиенейного формата.\n",
    "#текущий год 2016 не берем в анализ, т.к. он не кончился.\n",
    "top6_data = data.query('platform in @platform_top_sales_unique and year_of_release >= 2006')\n",
    "top6_data_pivot_table = data.query('platform in @platform_top_sales_unique and year_of_release >= 2006').pivot_table(index='year_of_release', columns = 'platform', values='total_sales', aggfunc='sum').plot(figsize=(15, 5), xlabel = 'год', ylabel = \"количество проданных копий\", title = \"количество проданных копий игр на различных платформах в разрезе по годам\")\n",
    "top6_data_pivot_table"
   ]
  },
  {
   "cell_type": "markdown",
   "metadata": {},
   "source": [
    "На самых топовых платформах по суммам прибыли заметно существенное снижение доходности от игр за последние 10 лет."
   ]
  },
  {
   "cell_type": "markdown",
   "metadata": {},
   "source": [
    "Т.к. выше мы определяли средний срок жизни платформы - логично предположить, что есть те платформы, которые сейчас находятся на пике своей прибыли, но не попали в топ по суммарной прибыли.\n",
    "Это значит, что нам стоит сократить исследуемый период, чтобы отбросить те платформы, которые уже не пользуются высокой популярностью (старше 5 лет)"
   ]
  },
  {
   "cell_type": "code",
   "execution_count": 34,
   "metadata": {},
   "outputs": [
    {
     "data": {
      "text/plain": [
       "name                object\n",
       "platform            object\n",
       "year_of_release      int64\n",
       "genre               object\n",
       "na_sales           float64\n",
       "eu_sales           float64\n",
       "jp_sales           float64\n",
       "other_sales        float64\n",
       "critic_score       float64\n",
       "user_score         float64\n",
       "rating              object\n",
       "total_sales        float64\n",
       "dtype: object"
      ]
     },
     "execution_count": 34,
     "metadata": {},
     "output_type": "execute_result"
    }
   ],
   "source": [
    "data.dtypes"
   ]
  },
  {
   "cell_type": "code",
   "execution_count": 35,
   "metadata": {},
   "outputs": [
    {
     "data": {
      "text/html": [
       "<div>\n",
       "<style scoped>\n",
       "    .dataframe tbody tr th:only-of-type {\n",
       "        vertical-align: middle;\n",
       "    }\n",
       "\n",
       "    .dataframe tbody tr th {\n",
       "        vertical-align: top;\n",
       "    }\n",
       "\n",
       "    .dataframe thead th {\n",
       "        text-align: right;\n",
       "    }\n",
       "</style>\n",
       "<table border=\"1\" class=\"dataframe\">\n",
       "  <thead>\n",
       "    <tr style=\"text-align: right;\">\n",
       "      <th>platform</th>\n",
       "      <th>3DS</th>\n",
       "      <th>DS</th>\n",
       "      <th>PC</th>\n",
       "      <th>PS3</th>\n",
       "      <th>PS4</th>\n",
       "      <th>PSP</th>\n",
       "      <th>PSV</th>\n",
       "      <th>Wii</th>\n",
       "      <th>WiiU</th>\n",
       "      <th>X360</th>\n",
       "      <th>XOne</th>\n",
       "    </tr>\n",
       "    <tr>\n",
       "      <th>year_of_release</th>\n",
       "      <th></th>\n",
       "      <th></th>\n",
       "      <th></th>\n",
       "      <th></th>\n",
       "      <th></th>\n",
       "      <th></th>\n",
       "      <th></th>\n",
       "      <th></th>\n",
       "      <th></th>\n",
       "      <th></th>\n",
       "      <th></th>\n",
       "    </tr>\n",
       "  </thead>\n",
       "  <tbody>\n",
       "    <tr>\n",
       "      <th>2012</th>\n",
       "      <td>51.36</td>\n",
       "      <td>11.01</td>\n",
       "      <td>23.22</td>\n",
       "      <td>107.35</td>\n",
       "      <td>NaN</td>\n",
       "      <td>7.69</td>\n",
       "      <td>16.19</td>\n",
       "      <td>21.71</td>\n",
       "      <td>17.56</td>\n",
       "      <td>99.74</td>\n",
       "      <td>NaN</td>\n",
       "    </tr>\n",
       "    <tr>\n",
       "      <th>2013</th>\n",
       "      <td>56.57</td>\n",
       "      <td>1.54</td>\n",
       "      <td>12.38</td>\n",
       "      <td>113.25</td>\n",
       "      <td>25.99</td>\n",
       "      <td>3.14</td>\n",
       "      <td>10.59</td>\n",
       "      <td>8.59</td>\n",
       "      <td>21.65</td>\n",
       "      <td>88.58</td>\n",
       "      <td>18.96</td>\n",
       "    </tr>\n",
       "    <tr>\n",
       "      <th>2014</th>\n",
       "      <td>43.76</td>\n",
       "      <td>NaN</td>\n",
       "      <td>13.28</td>\n",
       "      <td>47.76</td>\n",
       "      <td>100.00</td>\n",
       "      <td>0.24</td>\n",
       "      <td>11.90</td>\n",
       "      <td>3.75</td>\n",
       "      <td>22.03</td>\n",
       "      <td>34.74</td>\n",
       "      <td>54.07</td>\n",
       "    </tr>\n",
       "    <tr>\n",
       "      <th>2015</th>\n",
       "      <td>27.78</td>\n",
       "      <td>NaN</td>\n",
       "      <td>8.52</td>\n",
       "      <td>16.82</td>\n",
       "      <td>118.90</td>\n",
       "      <td>0.12</td>\n",
       "      <td>6.25</td>\n",
       "      <td>1.14</td>\n",
       "      <td>16.35</td>\n",
       "      <td>11.96</td>\n",
       "      <td>60.14</td>\n",
       "    </tr>\n",
       "    <tr>\n",
       "      <th>2016</th>\n",
       "      <td>15.14</td>\n",
       "      <td>NaN</td>\n",
       "      <td>5.25</td>\n",
       "      <td>3.60</td>\n",
       "      <td>69.25</td>\n",
       "      <td>NaN</td>\n",
       "      <td>4.25</td>\n",
       "      <td>0.18</td>\n",
       "      <td>4.60</td>\n",
       "      <td>1.52</td>\n",
       "      <td>26.15</td>\n",
       "    </tr>\n",
       "  </tbody>\n",
       "</table>\n",
       "</div>"
      ],
      "text/plain": [
       "platform           3DS     DS     PC     PS3     PS4   PSP    PSV    Wii  \\\n",
       "year_of_release                                                            \n",
       "2012             51.36  11.01  23.22  107.35     NaN  7.69  16.19  21.71   \n",
       "2013             56.57   1.54  12.38  113.25   25.99  3.14  10.59   8.59   \n",
       "2014             43.76    NaN  13.28   47.76  100.00  0.24  11.90   3.75   \n",
       "2015             27.78    NaN   8.52   16.82  118.90  0.12   6.25   1.14   \n",
       "2016             15.14    NaN   5.25    3.60   69.25   NaN   4.25   0.18   \n",
       "\n",
       "platform          WiiU   X360   XOne  \n",
       "year_of_release                       \n",
       "2012             17.56  99.74    NaN  \n",
       "2013             21.65  88.58  18.96  \n",
       "2014             22.03  34.74  54.07  \n",
       "2015             16.35  11.96  60.14  \n",
       "2016              4.60   1.52  26.15  "
      ]
     },
     "execution_count": 35,
     "metadata": {},
     "output_type": "execute_result"
    }
   ],
   "source": [
    "allplatf_data = data.query('year_of_release >= 2012').pivot_table(index='year_of_release', columns = 'platform', \\\n",
    "                                                                  values='total_sales', aggfunc='sum')\n",
    "allplatf_data"
   ]
  },
  {
   "cell_type": "code",
   "execution_count": 36,
   "metadata": {},
   "outputs": [
    {
     "data": {
      "text/plain": [
       "<AxesSubplot:title={'center':'Динамика продаж на различных платформах по годам'}, xlabel='год', ylabel='Количество продаж, млн'>"
      ]
     },
     "execution_count": 36,
     "metadata": {},
     "output_type": "execute_result"
    },
    {
     "data": {
      "image/png": "[encoded data removed]",
      "text/plain": [
       "<Figure size 864x432 with 1 Axes>"
      ]
     },
     "metadata": {
      "needs_background": "light"
     },
     "output_type": "display_data"
    }
   ],
   "source": [
    "ticks = allplatf_data.index\n",
    "allplatf_data.plot(figsize=(12, 6), xticks=ticks, xlabel='год', \\\n",
    "                   ylabel='Количество продаж, млн', title = \"Динамика продаж на различных платформах по годам\")\n"
   ]
  },
  {
   "cell_type": "code",
   "execution_count": 37,
   "metadata": {},
   "outputs": [
    {
     "data": {
      "text/html": [
       "<div>\n",
       "<style scoped>\n",
       "    .dataframe tbody tr th:only-of-type {\n",
       "        vertical-align: middle;\n",
       "    }\n",
       "\n",
       "    .dataframe tbody tr th {\n",
       "        vertical-align: top;\n",
       "    }\n",
       "\n",
       "    .dataframe thead th {\n",
       "        text-align: right;\n",
       "    }\n",
       "</style>\n",
       "<table border=\"1\" class=\"dataframe\">\n",
       "  <thead>\n",
       "    <tr style=\"text-align: right;\">\n",
       "      <th>year_of_release</th>\n",
       "      <th>2015</th>\n",
       "    </tr>\n",
       "    <tr>\n",
       "      <th>platform</th>\n",
       "      <th></th>\n",
       "    </tr>\n",
       "  </thead>\n",
       "  <tbody>\n",
       "    <tr>\n",
       "      <th>3DS</th>\n",
       "      <td>27.78</td>\n",
       "    </tr>\n",
       "    <tr>\n",
       "      <th>PC</th>\n",
       "      <td>8.52</td>\n",
       "    </tr>\n",
       "    <tr>\n",
       "      <th>PS3</th>\n",
       "      <td>16.82</td>\n",
       "    </tr>\n",
       "    <tr>\n",
       "      <th>PS4</th>\n",
       "      <td>118.90</td>\n",
       "    </tr>\n",
       "    <tr>\n",
       "      <th>PSP</th>\n",
       "      <td>0.12</td>\n",
       "    </tr>\n",
       "    <tr>\n",
       "      <th>PSV</th>\n",
       "      <td>6.25</td>\n",
       "    </tr>\n",
       "    <tr>\n",
       "      <th>Wii</th>\n",
       "      <td>1.14</td>\n",
       "    </tr>\n",
       "    <tr>\n",
       "      <th>WiiU</th>\n",
       "      <td>16.35</td>\n",
       "    </tr>\n",
       "    <tr>\n",
       "      <th>X360</th>\n",
       "      <td>11.96</td>\n",
       "    </tr>\n",
       "    <tr>\n",
       "      <th>XOne</th>\n",
       "      <td>60.14</td>\n",
       "    </tr>\n",
       "  </tbody>\n",
       "</table>\n",
       "</div>"
      ],
      "text/plain": [
       "year_of_release    2015\n",
       "platform               \n",
       "3DS               27.78\n",
       "PC                 8.52\n",
       "PS3               16.82\n",
       "PS4              118.90\n",
       "PSP                0.12\n",
       "PSV                6.25\n",
       "Wii                1.14\n",
       "WiiU              16.35\n",
       "X360              11.96\n",
       "XOne              60.14"
      ]
     },
     "execution_count": 37,
     "metadata": {},
     "output_type": "execute_result"
    }
   ],
   "source": [
    "#from heapq import nlargest\n",
    "allplatf_data = data.query('year_of_release == 2015').pivot_table(index='platform', columns = 'year_of_release', values='total_sales', aggfunc='sum')\n",
    "allplatf_data"
   ]
  },
  {
   "cell_type": "markdown",
   "metadata": {},
   "source": [
    "Это было верное предположение для решения поставленной задачи. Стало заметным, что за последние 2 года набирают обороты в прибыли 2 платформы: PS4 и XOne."
   ]
  },
  {
   "cell_type": "markdown",
   "metadata": {},
   "source": [
    "#### Диаграмма размаха для прибыльности платформ"
   ]
  },
  {
   "cell_type": "markdown",
   "metadata": {},
   "source": [
    "Построим график «ящик с усами» по глобальным продажам игр в разбивке по платформам."
   ]
  },
  {
   "cell_type": "code",
   "execution_count": 38,
   "metadata": {},
   "outputs": [
    {
     "data": {
      "text/html": [
       "<div>\n",
       "<style scoped>\n",
       "    .dataframe tbody tr th:only-of-type {\n",
       "        vertical-align: middle;\n",
       "    }\n",
       "\n",
       "    .dataframe tbody tr th {\n",
       "        vertical-align: top;\n",
       "    }\n",
       "\n",
       "    .dataframe thead th {\n",
       "        text-align: right;\n",
       "    }\n",
       "</style>\n",
       "<table border=\"1\" class=\"dataframe\">\n",
       "  <thead>\n",
       "    <tr style=\"text-align: right;\">\n",
       "      <th></th>\n",
       "      <th>name</th>\n",
       "      <th>platform</th>\n",
       "      <th>year_of_release</th>\n",
       "      <th>genre</th>\n",
       "      <th>na_sales</th>\n",
       "      <th>eu_sales</th>\n",
       "      <th>jp_sales</th>\n",
       "      <th>other_sales</th>\n",
       "      <th>critic_score</th>\n",
       "      <th>user_score</th>\n",
       "      <th>rating</th>\n",
       "      <th>total_sales</th>\n",
       "    </tr>\n",
       "  </thead>\n",
       "  <tbody>\n",
       "    <tr>\n",
       "      <th>0</th>\n",
       "      <td>Grand Theft Auto V</td>\n",
       "      <td>PS3</td>\n",
       "      <td>2013</td>\n",
       "      <td>Action</td>\n",
       "      <td>7.02</td>\n",
       "      <td>9.09</td>\n",
       "      <td>0.98</td>\n",
       "      <td>3.96</td>\n",
       "      <td>97.0</td>\n",
       "      <td>8.2</td>\n",
       "      <td>M</td>\n",
       "      <td>21.05</td>\n",
       "    </tr>\n",
       "    <tr>\n",
       "      <th>1</th>\n",
       "      <td>Grand Theft Auto V</td>\n",
       "      <td>X360</td>\n",
       "      <td>2013</td>\n",
       "      <td>Action</td>\n",
       "      <td>9.66</td>\n",
       "      <td>5.14</td>\n",
       "      <td>0.06</td>\n",
       "      <td>1.41</td>\n",
       "      <td>97.0</td>\n",
       "      <td>8.1</td>\n",
       "      <td>M</td>\n",
       "      <td>16.27</td>\n",
       "    </tr>\n",
       "    <tr>\n",
       "      <th>2</th>\n",
       "      <td>Call of Duty: Black Ops II</td>\n",
       "      <td>PS3</td>\n",
       "      <td>2012</td>\n",
       "      <td>Shooter</td>\n",
       "      <td>4.99</td>\n",
       "      <td>5.73</td>\n",
       "      <td>0.65</td>\n",
       "      <td>2.42</td>\n",
       "      <td>83.0</td>\n",
       "      <td>5.3</td>\n",
       "      <td>M</td>\n",
       "      <td>13.79</td>\n",
       "    </tr>\n",
       "    <tr>\n",
       "      <th>3</th>\n",
       "      <td>Call of Duty: Black Ops II</td>\n",
       "      <td>X360</td>\n",
       "      <td>2012</td>\n",
       "      <td>Shooter</td>\n",
       "      <td>8.25</td>\n",
       "      <td>4.24</td>\n",
       "      <td>0.07</td>\n",
       "      <td>1.12</td>\n",
       "      <td>83.0</td>\n",
       "      <td>4.8</td>\n",
       "      <td>M</td>\n",
       "      <td>13.68</td>\n",
       "    </tr>\n",
       "    <tr>\n",
       "      <th>4</th>\n",
       "      <td>Call of Duty: Ghosts</td>\n",
       "      <td>X360</td>\n",
       "      <td>2013</td>\n",
       "      <td>Shooter</td>\n",
       "      <td>6.73</td>\n",
       "      <td>2.56</td>\n",
       "      <td>0.04</td>\n",
       "      <td>0.91</td>\n",
       "      <td>73.0</td>\n",
       "      <td>2.6</td>\n",
       "      <td>M</td>\n",
       "      <td>10.24</td>\n",
       "    </tr>\n",
       "    <tr>\n",
       "      <th>...</th>\n",
       "      <td>...</td>\n",
       "      <td>...</td>\n",
       "      <td>...</td>\n",
       "      <td>...</td>\n",
       "      <td>...</td>\n",
       "      <td>...</td>\n",
       "      <td>...</td>\n",
       "      <td>...</td>\n",
       "      <td>...</td>\n",
       "      <td>...</td>\n",
       "      <td>...</td>\n",
       "      <td>...</td>\n",
       "    </tr>\n",
       "    <tr>\n",
       "      <th>864</th>\n",
       "      <td>Tour de France 2014</td>\n",
       "      <td>PS3</td>\n",
       "      <td>2014</td>\n",
       "      <td>Sports</td>\n",
       "      <td>0.00</td>\n",
       "      <td>0.01</td>\n",
       "      <td>0.00</td>\n",
       "      <td>0.00</td>\n",
       "      <td>NaN</td>\n",
       "      <td>NaN</td>\n",
       "      <td>E</td>\n",
       "      <td>0.01</td>\n",
       "    </tr>\n",
       "    <tr>\n",
       "      <th>865</th>\n",
       "      <td>Ben 10 Omniverse 2</td>\n",
       "      <td>X360</td>\n",
       "      <td>2013</td>\n",
       "      <td>Action</td>\n",
       "      <td>0.00</td>\n",
       "      <td>0.01</td>\n",
       "      <td>0.00</td>\n",
       "      <td>0.00</td>\n",
       "      <td>NaN</td>\n",
       "      <td>5.1</td>\n",
       "      <td>E10+</td>\n",
       "      <td>0.01</td>\n",
       "    </tr>\n",
       "    <tr>\n",
       "      <th>866</th>\n",
       "      <td>Tsukigime Ranko's Longest Day</td>\n",
       "      <td>PS3</td>\n",
       "      <td>2014</td>\n",
       "      <td>Action</td>\n",
       "      <td>0.00</td>\n",
       "      <td>0.01</td>\n",
       "      <td>0.00</td>\n",
       "      <td>0.00</td>\n",
       "      <td>NaN</td>\n",
       "      <td>NaN</td>\n",
       "      <td>NaN</td>\n",
       "      <td>0.01</td>\n",
       "    </tr>\n",
       "    <tr>\n",
       "      <th>867</th>\n",
       "      <td>Dynasty Warriors: Eiketsuden</td>\n",
       "      <td>PS3</td>\n",
       "      <td>2016</td>\n",
       "      <td>Action</td>\n",
       "      <td>0.00</td>\n",
       "      <td>0.00</td>\n",
       "      <td>0.01</td>\n",
       "      <td>0.00</td>\n",
       "      <td>NaN</td>\n",
       "      <td>NaN</td>\n",
       "      <td>NaN</td>\n",
       "      <td>0.01</td>\n",
       "    </tr>\n",
       "    <tr>\n",
       "      <th>868</th>\n",
       "      <td>Samurai Warriors: Sanada Maru</td>\n",
       "      <td>PS3</td>\n",
       "      <td>2016</td>\n",
       "      <td>Action</td>\n",
       "      <td>0.00</td>\n",
       "      <td>0.00</td>\n",
       "      <td>0.01</td>\n",
       "      <td>0.00</td>\n",
       "      <td>NaN</td>\n",
       "      <td>NaN</td>\n",
       "      <td>NaN</td>\n",
       "      <td>0.01</td>\n",
       "    </tr>\n",
       "  </tbody>\n",
       "</table>\n",
       "<p>869 rows × 12 columns</p>\n",
       "</div>"
      ],
      "text/plain": [
       "                              name platform  year_of_release    genre  \\\n",
       "0               Grand Theft Auto V      PS3             2013   Action   \n",
       "1               Grand Theft Auto V     X360             2013   Action   \n",
       "2       Call of Duty: Black Ops II      PS3             2012  Shooter   \n",
       "3       Call of Duty: Black Ops II     X360             2012  Shooter   \n",
       "4             Call of Duty: Ghosts     X360             2013  Shooter   \n",
       "..                             ...      ...              ...      ...   \n",
       "864            Tour de France 2014      PS3             2014   Sports   \n",
       "865             Ben 10 Omniverse 2     X360             2013   Action   \n",
       "866  Tsukigime Ranko's Longest Day      PS3             2014   Action   \n",
       "867   Dynasty Warriors: Eiketsuden      PS3             2016   Action   \n",
       "868  Samurai Warriors: Sanada Maru      PS3             2016   Action   \n",
       "\n",
       "     na_sales  eu_sales  jp_sales  other_sales  critic_score  user_score  \\\n",
       "0        7.02      9.09      0.98         3.96          97.0         8.2   \n",
       "1        9.66      5.14      0.06         1.41          97.0         8.1   \n",
       "2        4.99      5.73      0.65         2.42          83.0         5.3   \n",
       "3        8.25      4.24      0.07         1.12          83.0         4.8   \n",
       "4        6.73      2.56      0.04         0.91          73.0         2.6   \n",
       "..        ...       ...       ...          ...           ...         ...   \n",
       "864      0.00      0.01      0.00         0.00           NaN         NaN   \n",
       "865      0.00      0.01      0.00         0.00           NaN         5.1   \n",
       "866      0.00      0.01      0.00         0.00           NaN         NaN   \n",
       "867      0.00      0.00      0.01         0.00           NaN         NaN   \n",
       "868      0.00      0.00      0.01         0.00           NaN         NaN   \n",
       "\n",
       "    rating  total_sales  \n",
       "0        M        21.05  \n",
       "1        M        16.27  \n",
       "2        M        13.79  \n",
       "3        M        13.68  \n",
       "4        M        10.24  \n",
       "..     ...          ...  \n",
       "864      E         0.01  \n",
       "865   E10+         0.01  \n",
       "866    NaN         0.01  \n",
       "867    NaN         0.01  \n",
       "868    NaN         0.01  \n",
       "\n",
       "[869 rows x 12 columns]"
      ]
     },
     "execution_count": 38,
     "metadata": {},
     "output_type": "execute_result"
    }
   ],
   "source": [
    "#создадим новый дата фрейм из ранее созданного среза top6_data (в котором хранятся данные по 6 топовым платформам)\n",
    "act_data = top6_data.query('year_of_release >= 2012').reset_index(drop=True)\n",
    "act_data"
   ]
  },
  {
   "cell_type": "code",
   "execution_count": 39,
   "metadata": {},
   "outputs": [
    {
     "data": {
      "image/png": "[encoded data removed]",
      "text/plain": [
       "<Figure size 1440x720 with 1 Axes>"
      ]
     },
     "metadata": {
      "needs_background": "light"
     },
     "output_type": "display_data"
    }
   ],
   "source": [
    "#построим диаграмму размаха для платформ\n",
    "plt.figure(figsize=(20, 10))\n",
    "\n",
    "sns.boxplot(data=act_data, x='platform', y='total_sales')\n",
    "\n",
    "plt.ylim(0, 3.5)\n",
    "\n",
    "plt.title('Диаграмма размаха по глобальным продажам игр')\n",
    "plt.xlabel('Продажи, млн.')\n",
    "plt.ylabel('Платформы')\n",
    "\n",
    "plt.show()"
   ]
  },
  {
   "cell_type": "code",
   "execution_count": 40,
   "metadata": {},
   "outputs": [
    {
     "data": {
      "text/html": [
       "<div>\n",
       "<style scoped>\n",
       "    .dataframe tbody tr th:only-of-type {\n",
       "        vertical-align: middle;\n",
       "    }\n",
       "\n",
       "    .dataframe tbody tr th {\n",
       "        vertical-align: top;\n",
       "    }\n",
       "\n",
       "    .dataframe thead th {\n",
       "        text-align: right;\n",
       "    }\n",
       "</style>\n",
       "<table border=\"1\" class=\"dataframe\">\n",
       "  <thead>\n",
       "    <tr style=\"text-align: right;\">\n",
       "      <th></th>\n",
       "      <th>count</th>\n",
       "      <th>mean</th>\n",
       "      <th>std</th>\n",
       "      <th>min</th>\n",
       "      <th>25%</th>\n",
       "      <th>50%</th>\n",
       "      <th>75%</th>\n",
       "      <th>max</th>\n",
       "    </tr>\n",
       "    <tr>\n",
       "      <th>platform</th>\n",
       "      <th></th>\n",
       "      <th></th>\n",
       "      <th></th>\n",
       "      <th></th>\n",
       "      <th></th>\n",
       "      <th></th>\n",
       "      <th></th>\n",
       "      <th></th>\n",
       "    </tr>\n",
       "  </thead>\n",
       "  <tbody>\n",
       "    <tr>\n",
       "      <th>DS</th>\n",
       "      <td>31.0</td>\n",
       "      <td>0.404839</td>\n",
       "      <td>1.439245</td>\n",
       "      <td>0.01</td>\n",
       "      <td>0.0200</td>\n",
       "      <td>0.05</td>\n",
       "      <td>0.1850</td>\n",
       "      <td>8.06</td>\n",
       "    </tr>\n",
       "    <tr>\n",
       "      <th>PS3</th>\n",
       "      <td>492.0</td>\n",
       "      <td>0.586951</td>\n",
       "      <td>1.464113</td>\n",
       "      <td>0.01</td>\n",
       "      <td>0.0500</td>\n",
       "      <td>0.20</td>\n",
       "      <td>0.6100</td>\n",
       "      <td>21.05</td>\n",
       "    </tr>\n",
       "    <tr>\n",
       "      <th>Wii</th>\n",
       "      <td>54.0</td>\n",
       "      <td>0.655000</td>\n",
       "      <td>1.165447</td>\n",
       "      <td>0.01</td>\n",
       "      <td>0.0625</td>\n",
       "      <td>0.18</td>\n",
       "      <td>0.6875</td>\n",
       "      <td>6.76</td>\n",
       "    </tr>\n",
       "    <tr>\n",
       "      <th>X360</th>\n",
       "      <td>292.0</td>\n",
       "      <td>0.810068</td>\n",
       "      <td>1.712069</td>\n",
       "      <td>0.01</td>\n",
       "      <td>0.1000</td>\n",
       "      <td>0.31</td>\n",
       "      <td>0.8700</td>\n",
       "      <td>16.27</td>\n",
       "    </tr>\n",
       "  </tbody>\n",
       "</table>\n",
       "</div>"
      ],
      "text/plain": [
       "          count      mean       std   min     25%   50%     75%    max\n",
       "platform                                                              \n",
       "DS         31.0  0.404839  1.439245  0.01  0.0200  0.05  0.1850   8.06\n",
       "PS3       492.0  0.586951  1.464113  0.01  0.0500  0.20  0.6100  21.05\n",
       "Wii        54.0  0.655000  1.165447  0.01  0.0625  0.18  0.6875   6.76\n",
       "X360      292.0  0.810068  1.712069  0.01  0.1000  0.31  0.8700  16.27"
      ]
     },
     "execution_count": 40,
     "metadata": {},
     "output_type": "execute_result"
    }
   ],
   "source": [
    "#выведем описание для данных по платформам из датафрейма в п.выше\n",
    "act_data.groupby('platform')['total_sales'].describe()"
   ]
  },
  {
   "cell_type": "code",
   "execution_count": 41,
   "metadata": {},
   "outputs": [],
   "source": [
    "#обновим датафрейм, который будет хранить данные по самым прибыльные платформам, представленных в выборке с 2006 года.\n",
    "#top6_data = data.query('platform in @platform_top_sales_unique and year_of_release >= 2006 and year_of_release < 2016')\n",
    "#top6_data"
   ]
  },
  {
   "cell_type": "markdown",
   "metadata": {},
   "source": [
    "Почти у всех платформ есть выбросы.\n",
    "Наибольшее стандартное отклонение наблюдается у платформ PS3 и X360."
   ]
  },
  {
   "cell_type": "markdown",
   "metadata": {},
   "source": [
    "### Оценка влияния на продажи внутри платформы = отзывы пользователей и критиков"
   ]
  },
  {
   "cell_type": "markdown",
   "metadata": {},
   "source": [
    "Посмотрим, как влияют на продажи внутри одной популярной платформы отзывы пользователей и критиков на примере платформы X360"
   ]
  },
  {
   "cell_type": "code",
   "execution_count": 42,
   "metadata": {},
   "outputs": [
    {
     "name": "stdout",
     "output_type": "stream",
     "text": [
      "Корреляция продаж с оценками от пользователей = 0.12\n"
     ]
    }
   ],
   "source": [
    "#Корреляция между оценками пользователей и продажами \n",
    "data_X360 = top6_data[top6_data['platform']=='X360']\n",
    "coor_user_data_X360 = data_X360['user_score'].corr(data_X360['total_sales']).round(2)\n",
    "print(f'Корреляция продаж с оценками от пользователей = {coor_user_data_X360}')"
   ]
  },
  {
   "cell_type": "code",
   "execution_count": 43,
   "metadata": {},
   "outputs": [
    {
     "name": "stdout",
     "output_type": "stream",
     "text": [
      "Корреляция продаж с оценками от критиков = 0.4\n"
     ]
    }
   ],
   "source": [
    "#Корреляция между оценками критиков и продажами \n",
    "coor_user_data_X360 = data_X360['critic_score'].corr(data_X360['total_sales']).round(2)\n",
    "print(f'Корреляция продаж с оценками от критиков = {coor_user_data_X360}')"
   ]
  },
  {
   "cell_type": "markdown",
   "metadata": {},
   "source": [
    "Корреляция продаж с оценками пользователей практически отсуствует = 0,01\n",
    "\n",
    "\n",
    "Корреляция продаж с оценками критиков более значимая = 0,39"
   ]
  },
  {
   "cell_type": "markdown",
   "metadata": {},
   "source": [
    "Построим диаграмму рассеяния и посчитаем корреляцию между отзывами и продажами."
   ]
  },
  {
   "cell_type": "code",
   "execution_count": 44,
   "metadata": {},
   "outputs": [
    {
     "data": {
      "text/plain": [
       "Text(0.5, 1.0, 'Влияние отзывов критиков на продажи')"
      ]
     },
     "execution_count": 44,
     "metadata": {},
     "output_type": "execute_result"
    },
    {
     "data": {
      "image/png": "[encoded data removed]",
      "text/plain": [
       "<Figure size 432x288 with 1 Axes>"
      ]
     },
     "metadata": {
      "needs_background": "light"
     },
     "output_type": "display_data"
    },
    {
     "data": {
      "image/png": "[encoded data removed]",
      "text/plain": [
       "<Figure size 432x288 with 1 Axes>"
      ]
     },
     "metadata": {
      "needs_background": "light"
     },
     "output_type": "display_data"
    }
   ],
   "source": [
    "data_X360.plot(x='total_sales', y='user_score', kind='scatter', ylabel='оценки пользователей', xlabel='Количество продаж, млн')\n",
    "plt.title('Влияние отзывов пользователей на продажи')\n",
    "\n",
    "data_X360.plot(x='total_sales', y='critic_score', kind='scatter', ylabel='оценки критиков', xlabel='Количество продаж, млн')\n",
    "plt.title('Влияние отзывов критиков на продажи')"
   ]
  },
  {
   "cell_type": "markdown",
   "metadata": {},
   "source": [
    "На первом графике видно бОльший разброс данных в оценках пользователей и прибыли."
   ]
  },
  {
   "cell_type": "markdown",
   "metadata": {},
   "source": [
    "Проверим корреляцию на других платформах"
   ]
  },
  {
   "cell_type": "code",
   "execution_count": 45,
   "metadata": {
    "scrolled": true
   },
   "outputs": [
    {
     "name": "stdout",
     "output_type": "stream",
     "text": [
      "Корреляция продаж с оценками от пользователей = 0.09\n"
     ]
    },
    {
     "data": {
      "image/png": "[encoded data removed]",
      "text/plain": [
       "<Figure size 432x288 with 1 Axes>"
      ]
     },
     "metadata": {
      "needs_background": "light"
     },
     "output_type": "display_data"
    }
   ],
   "source": [
    "data.plot(x='total_sales', y='user_score', kind='scatter', ylabel='оценки пользователей', xlabel='Количество продаж, млн')\n",
    "plt.title('Влияние отзывов пользователей на продажи')\n",
    "\n",
    "coor_user = data['user_score'].corr(data['total_sales']).round(2)\n",
    "print(f'Корреляция продаж с оценками от пользователей = {coor_user}')"
   ]
  },
  {
   "cell_type": "code",
   "execution_count": 46,
   "metadata": {},
   "outputs": [
    {
     "name": "stdout",
     "output_type": "stream",
     "text": [
      "Корреляция продаж с оценками от критиков = 0.25\n"
     ]
    },
    {
     "data": {
      "image/png": "[encoded data removed]",
      "text/plain": [
       "<Figure size 432x288 with 1 Axes>"
      ]
     },
     "metadata": {
      "needs_background": "light"
     },
     "output_type": "display_data"
    }
   ],
   "source": [
    "data.plot(x='total_sales', y='critic_score', kind='scatter', ylabel='оценки критиков', xlabel='Количество продаж, млн')\n",
    "plt.title('Влияние отзывов пользователей на продажи')\n",
    "\n",
    "coor_user = data['critic_score'].corr(data['total_sales']).round(2)\n",
    "print(f'Корреляция продаж с оценками от критиков = {coor_user}')"
   ]
  },
  {
   "cell_type": "code",
   "execution_count": 47,
   "metadata": {},
   "outputs": [
    {
     "name": "stdout",
     "output_type": "stream",
     "text": [
      "Корреляция продаж на платформе X360 с оценками от пользователей = 0.01\n",
      "Корреляция продаж на платформе X360 с оценками от критиков = 0.36\n",
      "_______________________________________________________________________________\n",
      "Корреляция продаж на платформе PS3 с оценками от пользователей = -0.01\n",
      "Корреляция продаж на платформе PS3 с оценками от критиков = 0.33\n",
      "_______________________________________________________________________________\n",
      "Корреляция продаж на платформе Wii с оценками от пользователей = 0.3\n",
      "Корреляция продаж на платформе Wii с оценками от критиков = -0.42\n"
     ]
    }
   ],
   "source": [
    "data_X360 = act_data[act_data['platform']=='X360']\n",
    "print(f'Корреляция продаж на платформе X360 с оценками от пользователей =', data_X360['user_score'].corr(data_X360['total_sales']).round(2))\n",
    "print(f'Корреляция продаж на платформе X360 с оценками от критиков =', data_X360['critic_score'].corr(data_X360['total_sales']).round(2))\n",
    "print('_______________________________________________________________________________')\n",
    "data_PS3 = act_data[act_data['platform']=='PS3']\n",
    "print(f'Корреляция продаж на платформе PS3 с оценками от пользователей =', data_PS3['user_score'].corr(data_PS3['total_sales']).round(2))\n",
    "print(f'Корреляция продаж на платформе PS3 с оценками от критиков =', data_PS3['critic_score'].corr(data_PS3['total_sales']).round(2))\n",
    "print('_______________________________________________________________________________')\n",
    "data_Wii = act_data[act_data['platform']=='Wii']\n",
    "print(f'Корреляция продаж на платформе Wii с оценками от пользователей =', data_Wii['user_score'].corr(data_Wii['total_sales']).round(2))\n",
    "print(f'Корреляция продаж на платформе Wii с оценками от критиков =', data_Wii['critic_score'].corr(data_Wii['total_sales']).round(2))"
   ]
  },
  {
   "cell_type": "code",
   "execution_count": 48,
   "metadata": {},
   "outputs": [
    {
     "name": "stdout",
     "output_type": "stream",
     "text": [
      "Корреляция продаж на платформе DS с оценками от пользователей = 0.88\n"
     ]
    }
   ],
   "source": [
    "data_DS = act_data[act_data['platform']=='DS']\n",
    "print(f'Корреляция продаж на платформе DS с оценками от пользователей =', data_DS['user_score'].corr(data_DS['total_sales']).round(2))\n",
    "#print(f'Корреляция продаж на платформе DS с оценками от критиков =', data_DS['critic_score'].corr(data_DS['total_sales']).round(2))"
   ]
  },
  {
   "cell_type": "markdown",
   "metadata": {},
   "source": [
    "Корреляцию продаж от оценок критиков для платформы DS невозможно расчитать (выводится значение nan если раскоментировать последнюю строку)"
   ]
  },
  {
   "cell_type": "code",
   "execution_count": 49,
   "metadata": {},
   "outputs": [
    {
     "data": {
      "text/html": [
       "<div>\n",
       "<style scoped>\n",
       "    .dataframe tbody tr th:only-of-type {\n",
       "        vertical-align: middle;\n",
       "    }\n",
       "\n",
       "    .dataframe tbody tr th {\n",
       "        vertical-align: top;\n",
       "    }\n",
       "\n",
       "    .dataframe thead th {\n",
       "        text-align: right;\n",
       "    }\n",
       "</style>\n",
       "<table border=\"1\" class=\"dataframe\">\n",
       "  <thead>\n",
       "    <tr style=\"text-align: right;\">\n",
       "      <th></th>\n",
       "      <th>name</th>\n",
       "      <th>platform</th>\n",
       "      <th>year_of_release</th>\n",
       "      <th>genre</th>\n",
       "      <th>na_sales</th>\n",
       "      <th>eu_sales</th>\n",
       "      <th>jp_sales</th>\n",
       "      <th>other_sales</th>\n",
       "      <th>critic_score</th>\n",
       "      <th>user_score</th>\n",
       "      <th>rating</th>\n",
       "      <th>total_sales</th>\n",
       "    </tr>\n",
       "  </thead>\n",
       "  <tbody>\n",
       "    <tr>\n",
       "      <th>130</th>\n",
       "      <td>Pokemon Conquest</td>\n",
       "      <td>DS</td>\n",
       "      <td>2012</td>\n",
       "      <td>Role-Playing</td>\n",
       "      <td>0.56</td>\n",
       "      <td>0.05</td>\n",
       "      <td>0.37</td>\n",
       "      <td>0.04</td>\n",
       "      <td>80.0</td>\n",
       "      <td>8.2</td>\n",
       "      <td>E</td>\n",
       "      <td>1.02</td>\n",
       "    </tr>\n",
       "  </tbody>\n",
       "</table>\n",
       "</div>"
      ],
      "text/plain": [
       "                 name platform  year_of_release         genre  na_sales  \\\n",
       "130  Pokemon Conquest       DS             2012  Role-Playing      0.56   \n",
       "\n",
       "     eu_sales  jp_sales  other_sales  critic_score  user_score rating  \\\n",
       "130      0.05      0.37         0.04          80.0         8.2      E   \n",
       "\n",
       "     total_sales  \n",
       "130         1.02  "
      ]
     },
     "execution_count": 49,
     "metadata": {},
     "output_type": "execute_result"
    }
   ],
   "source": [
    "data_DS = act_data[act_data['platform']=='DS']\n",
    "data_DS = data_DS.dropna(subset=['critic_score'])\n",
    "data_DS"
   ]
  },
  {
   "cell_type": "markdown",
   "metadata": {},
   "source": [
    "Это связано с тем, что у нас всего 1 оценка от критиков для этой платформы."
   ]
  },
  {
   "cell_type": "markdown",
   "metadata": {},
   "source": [
    "Для платформ PS3 и X360 наблюдается очень схожая корреляция продаж с оценками критиков, и также схожие корреляции продаж с оценками пользователей. На продажи незначительно влияют оценки критиков и совсем не влияют оценки пользователей.\n",
    "Для платформы Wii - корреляция оцннок пользователей с продажами и корреляция с оценок критиков имеет бОльшие значения, чем корреляции по тем же показателям для платформ PS3 и X360. Для платформы Wii на продажи незначительно влияют и оценки пользователей и оценки критиков (последние имеют обратную зависимость.)\n",
    "Для платформы DS возможно отследить только корреляцию продаж с оценками пользователей - она достаточно высокая = 0,88."
   ]
  },
  {
   "cell_type": "markdown",
   "metadata": {},
   "source": [
    "### Анализ жанров по вышедшим играм"
   ]
  },
  {
   "cell_type": "markdown",
   "metadata": {},
   "source": [
    "Определим какой жанр игры является самым прибыльным. Выявим выделяются ли жанры с высокими и низкими продажами."
   ]
  },
  {
   "cell_type": "code",
   "execution_count": 50,
   "metadata": {},
   "outputs": [
    {
     "data": {
      "text/plain": [
       "Action          308\n",
       "Sports          115\n",
       "Shooter          99\n",
       "Role-Playing     79\n",
       "Adventure        63\n",
       "Misc             53\n",
       "Fighting         49\n",
       "Racing           43\n",
       "Simulation       22\n",
       "Platform         21\n",
       "Strategy         11\n",
       "Puzzle            6\n",
       "Name: genre, dtype: int64"
      ]
     },
     "execution_count": 50,
     "metadata": {},
     "output_type": "execute_result"
    }
   ],
   "source": [
    "#выведем количество игри по жанрам за последние 10 лет\n",
    "act_data['genre'].value_counts()"
   ]
  },
  {
   "cell_type": "markdown",
   "metadata": {},
   "source": [
    "Лидер продаж - игра/игры в жанре Action, также большое количество игр выходило в жанрах: Sports, Misc и Adventure"
   ]
  },
  {
   "cell_type": "code",
   "execution_count": 51,
   "metadata": {},
   "outputs": [
    {
     "data": {
      "text/plain": [
       "<AxesSubplot:title={'center':'Динамика продаж игр с различными жанрами'}, xlabel='Жанр', ylabel='Количество продаж, млн'>"
      ]
     },
     "execution_count": 51,
     "metadata": {},
     "output_type": "execute_result"
    },
    {
     "data": {
      "image/png": "[encoded data removed]",
      "text/plain": [
       "<Figure size 720x360 with 1 Axes>"
      ]
     },
     "metadata": {
      "needs_background": "light"
     },
     "output_type": "display_data"
    }
   ],
   "source": [
    "#выстроим диаграмму прибыли от жанра\n",
    "act_data.groupby('genre')['total_sales'].mean().sort_values().plot(kind='bar',figsize=(10,5), xlabel='Жанр', ylabel='Количество продаж, млн', title = \"Динамика продаж игр с различными жанрами\", width=0.8)"
   ]
  },
  {
   "cell_type": "code",
   "execution_count": 52,
   "metadata": {},
   "outputs": [
    {
     "data": {
      "text/html": [
       "<div>\n",
       "<style scoped>\n",
       "    .dataframe tbody tr th:only-of-type {\n",
       "        vertical-align: middle;\n",
       "    }\n",
       "\n",
       "    .dataframe tbody tr th {\n",
       "        vertical-align: top;\n",
       "    }\n",
       "\n",
       "    .dataframe thead th {\n",
       "        text-align: right;\n",
       "    }\n",
       "</style>\n",
       "<table border=\"1\" class=\"dataframe\">\n",
       "  <thead>\n",
       "    <tr style=\"text-align: right;\">\n",
       "      <th></th>\n",
       "      <th>count</th>\n",
       "      <th>mean</th>\n",
       "      <th>std</th>\n",
       "      <th>min</th>\n",
       "      <th>25%</th>\n",
       "      <th>50%</th>\n",
       "      <th>75%</th>\n",
       "      <th>max</th>\n",
       "    </tr>\n",
       "    <tr>\n",
       "      <th>genre</th>\n",
       "      <th></th>\n",
       "      <th></th>\n",
       "      <th></th>\n",
       "      <th></th>\n",
       "      <th></th>\n",
       "      <th></th>\n",
       "      <th></th>\n",
       "      <th></th>\n",
       "    </tr>\n",
       "  </thead>\n",
       "  <tbody>\n",
       "    <tr>\n",
       "      <th>Action</th>\n",
       "      <td>308.0</td>\n",
       "      <td>0.681558</td>\n",
       "      <td>1.739841</td>\n",
       "      <td>0.01</td>\n",
       "      <td>0.0575</td>\n",
       "      <td>0.250</td>\n",
       "      <td>0.7900</td>\n",
       "      <td>21.05</td>\n",
       "    </tr>\n",
       "    <tr>\n",
       "      <th>Adventure</th>\n",
       "      <td>63.0</td>\n",
       "      <td>0.152540</td>\n",
       "      <td>0.274579</td>\n",
       "      <td>0.01</td>\n",
       "      <td>0.0200</td>\n",
       "      <td>0.050</td>\n",
       "      <td>0.1400</td>\n",
       "      <td>1.64</td>\n",
       "    </tr>\n",
       "    <tr>\n",
       "      <th>Fighting</th>\n",
       "      <td>49.0</td>\n",
       "      <td>0.325918</td>\n",
       "      <td>0.329955</td>\n",
       "      <td>0.01</td>\n",
       "      <td>0.0700</td>\n",
       "      <td>0.220</td>\n",
       "      <td>0.4900</td>\n",
       "      <td>1.38</td>\n",
       "    </tr>\n",
       "    <tr>\n",
       "      <th>Misc</th>\n",
       "      <td>53.0</td>\n",
       "      <td>0.793396</td>\n",
       "      <td>1.746001</td>\n",
       "      <td>0.02</td>\n",
       "      <td>0.0500</td>\n",
       "      <td>0.190</td>\n",
       "      <td>0.4300</td>\n",
       "      <td>9.18</td>\n",
       "    </tr>\n",
       "    <tr>\n",
       "      <th>Platform</th>\n",
       "      <td>21.0</td>\n",
       "      <td>0.444762</td>\n",
       "      <td>0.534290</td>\n",
       "      <td>0.01</td>\n",
       "      <td>0.1000</td>\n",
       "      <td>0.180</td>\n",
       "      <td>0.5800</td>\n",
       "      <td>2.15</td>\n",
       "    </tr>\n",
       "    <tr>\n",
       "      <th>Puzzle</th>\n",
       "      <td>6.0</td>\n",
       "      <td>0.133333</td>\n",
       "      <td>0.258431</td>\n",
       "      <td>0.01</td>\n",
       "      <td>0.0200</td>\n",
       "      <td>0.030</td>\n",
       "      <td>0.0475</td>\n",
       "      <td>0.66</td>\n",
       "    </tr>\n",
       "    <tr>\n",
       "      <th>Racing</th>\n",
       "      <td>43.0</td>\n",
       "      <td>0.464651</td>\n",
       "      <td>0.713300</td>\n",
       "      <td>0.01</td>\n",
       "      <td>0.0700</td>\n",
       "      <td>0.180</td>\n",
       "      <td>0.4850</td>\n",
       "      <td>3.23</td>\n",
       "    </tr>\n",
       "    <tr>\n",
       "      <th>Role-Playing</th>\n",
       "      <td>79.0</td>\n",
       "      <td>0.538734</td>\n",
       "      <td>1.025168</td>\n",
       "      <td>0.01</td>\n",
       "      <td>0.0650</td>\n",
       "      <td>0.190</td>\n",
       "      <td>0.7600</td>\n",
       "      <td>8.06</td>\n",
       "    </tr>\n",
       "    <tr>\n",
       "      <th>Shooter</th>\n",
       "      <td>99.0</td>\n",
       "      <td>1.344343</td>\n",
       "      <td>2.558171</td>\n",
       "      <td>0.01</td>\n",
       "      <td>0.1500</td>\n",
       "      <td>0.420</td>\n",
       "      <td>1.4150</td>\n",
       "      <td>13.79</td>\n",
       "    </tr>\n",
       "    <tr>\n",
       "      <th>Simulation</th>\n",
       "      <td>22.0</td>\n",
       "      <td>0.170000</td>\n",
       "      <td>0.136731</td>\n",
       "      <td>0.01</td>\n",
       "      <td>0.0575</td>\n",
       "      <td>0.135</td>\n",
       "      <td>0.2250</td>\n",
       "      <td>0.42</td>\n",
       "    </tr>\n",
       "    <tr>\n",
       "      <th>Sports</th>\n",
       "      <td>115.0</td>\n",
       "      <td>0.725565</td>\n",
       "      <td>1.023354</td>\n",
       "      <td>0.01</td>\n",
       "      <td>0.1050</td>\n",
       "      <td>0.390</td>\n",
       "      <td>0.8100</td>\n",
       "      <td>6.46</td>\n",
       "    </tr>\n",
       "    <tr>\n",
       "      <th>Strategy</th>\n",
       "      <td>11.0</td>\n",
       "      <td>0.249091</td>\n",
       "      <td>0.199923</td>\n",
       "      <td>0.01</td>\n",
       "      <td>0.0800</td>\n",
       "      <td>0.260</td>\n",
       "      <td>0.2950</td>\n",
       "      <td>0.62</td>\n",
       "    </tr>\n",
       "  </tbody>\n",
       "</table>\n",
       "</div>"
      ],
      "text/plain": [
       "              count      mean       std   min     25%    50%     75%    max\n",
       "genre                                                                      \n",
       "Action        308.0  0.681558  1.739841  0.01  0.0575  0.250  0.7900  21.05\n",
       "Adventure      63.0  0.152540  0.274579  0.01  0.0200  0.050  0.1400   1.64\n",
       "Fighting       49.0  0.325918  0.329955  0.01  0.0700  0.220  0.4900   1.38\n",
       "Misc           53.0  0.793396  1.746001  0.02  0.0500  0.190  0.4300   9.18\n",
       "Platform       21.0  0.444762  0.534290  0.01  0.1000  0.180  0.5800   2.15\n",
       "Puzzle          6.0  0.133333  0.258431  0.01  0.0200  0.030  0.0475   0.66\n",
       "Racing         43.0  0.464651  0.713300  0.01  0.0700  0.180  0.4850   3.23\n",
       "Role-Playing   79.0  0.538734  1.025168  0.01  0.0650  0.190  0.7600   8.06\n",
       "Shooter        99.0  1.344343  2.558171  0.01  0.1500  0.420  1.4150  13.79\n",
       "Simulation     22.0  0.170000  0.136731  0.01  0.0575  0.135  0.2250   0.42\n",
       "Sports        115.0  0.725565  1.023354  0.01  0.1050  0.390  0.8100   6.46\n",
       "Strategy       11.0  0.249091  0.199923  0.01  0.0800  0.260  0.2950   0.62"
      ]
     },
     "execution_count": 52,
     "metadata": {},
     "output_type": "execute_result"
    }
   ],
   "source": [
    "act_data.groupby('genre')['total_sales'].describe()"
   ]
  },
  {
   "cell_type": "markdown",
   "metadata": {},
   "source": [
    "Наиболее прибыльными являются игры жанров: Shooter и Misc.\n",
    "Наименее прибыльные жанры - Adventure и Pazzle"
   ]
  },
  {
   "cell_type": "markdown",
   "metadata": {},
   "source": [
    "### Общий вывод к шагу 3"
   ]
  },
  {
   "cell_type": "markdown",
   "metadata": {},
   "source": [
    "<div class=\"alert alert-block\" style=\"background-color: gainsboro\">\n",
    "<g> <p> Больше всего игр выходило в 2006-2011 годах. Заметно снижение объема с начала 2012 года до 2015. В 2016 году наблюдается положительная динамика в сторону увеличения количества выпускаемых игр, по сравнению с показателями 2012-2015 гг.\n",
    "<p> Больше всего игр выходило на платформах: PS2 и DS\n",
    "Средний срок жизни платформы = 7,6 лет.\n",
    "Самые прибыльные платформы - PS2, X360, PS3, Wii, DS, PS. За последние 2 года растут в прибыли 2 платформы: PS4 и XOne.\n",
    "<p>Было выявлено, что на прибыльность платформы больше влияет оценка от критиков, чем от пользователей.\n",
    "Для платформ PS3 и X360 наблюдается очень схожая корреляция продаж с оценками критиков, и также схожие корреляции продаж с оценками пользователей. На продажи незначительно влияют оценки критиков и совсем не влияют оценки пользователей.\n",
    "Для платформы Wii - корреляция оцннок пользователей с продажами и корреляция с оценок критиков имеет бОльшие значения, чем корреляции по тем же показателям для платформ PS3 и X360. Для платформы Wii на продажи незначительно влияют и оценки пользователей и оценки критиков (последние имеют обратную зависимость.)\n",
    "Для платформы DS возможно отследить только корреляцию продаж с оценками пользователей - она достаточно высокая = 0,88. <p>\n",
    "    \n",
    "<p>Наиболее прибыльными являются игры жанров: Shooter и Misc.\n",
    "Наименее прибыльные жанры - Adventure и Pazzle <g>\n",
    "</div>"
   ]
  },
  {
   "cell_type": "markdown",
   "metadata": {},
   "source": [
    "## Составление портрет пользователя каждого региона"
   ]
  },
  {
   "cell_type": "markdown",
   "metadata": {},
   "source": [
    "Всего у нас представлены данные по трем регионам\n",
    "- NA, Северная Америка\n",
    "- EU, Европа\n",
    "- JP, Япония\n",
    "\n",
    "Составим портрет пользователя для каждого региона"
   ]
  },
  {
   "cell_type": "markdown",
   "metadata": {},
   "source": [
    "### Самые популярные платформы (топ-5) по регионам. Различия в долях продаж"
   ]
  },
  {
   "cell_type": "markdown",
   "metadata": {},
   "source": [
    "В первоначальной таблице нам предоставлены продажи по этим трем регионам.\n",
    "Проанализируем доли продаж на 5 топовых платформах в каждом из регионов за последние 10 лет."
   ]
  },
  {
   "cell_type": "code",
   "execution_count": 53,
   "metadata": {},
   "outputs": [
    {
     "data": {
      "image/png": "[encoded data removed]",
      "text/plain": [
       "<Figure size 432x288 with 1 Axes>"
      ]
     },
     "metadata": {
      "needs_background": "light"
     },
     "output_type": "display_data"
    }
   ],
   "source": [
    "act_data.groupby(by='platform').agg({'jp_sales':'sum'}). \\\n",
    "sort_values(by='jp_sales', ascending=False).head().plot(kind='bar', xlabel = \"Платформа\", ylabel = \"Количество продаж, млн\")\n",
    "plt.show()"
   ]
  },
  {
   "cell_type": "markdown",
   "metadata": {},
   "source": [
    "В Японии наиболее прибыльными платформами являются: DS, 3DS, PS3, PSP, Wii"
   ]
  },
  {
   "cell_type": "code",
   "execution_count": 54,
   "metadata": {},
   "outputs": [
    {
     "data": {
      "image/png": "[encoded data removed]",
      "text/plain": [
       "<Figure size 432x288 with 1 Axes>"
      ]
     },
     "metadata": {
      "needs_background": "light"
     },
     "output_type": "display_data"
    }
   ],
   "source": [
    "act_data.groupby(by='platform').agg({'eu_sales':'sum'}).sort_values(by='eu_sales', ascending=False).head() \\\n",
    ".plot(kind='bar', xlabel = \"Платформа\", ylabel = \"Количество продаж, млн\")\n",
    "plt.show()"
   ]
  },
  {
   "cell_type": "markdown",
   "metadata": {},
   "source": [
    "В Европе наиболее прибыльными платформами являются: PS3, X360, Wii, DS, PS4"
   ]
  },
  {
   "cell_type": "code",
   "execution_count": 55,
   "metadata": {},
   "outputs": [
    {
     "data": {
      "image/png": "[encoded data removed]",
      "text/plain": [
       "<Figure size 432x288 with 1 Axes>"
      ]
     },
     "metadata": {
      "needs_background": "light"
     },
     "output_type": "display_data"
    }
   ],
   "source": [
    "act_data.groupby(by='platform').agg({'na_sales':'sum'}).sort_values(by='na_sales', ascending=False).head().\\\n",
    "plot(kind='bar', xlabel = \"Платформа\", ylabel = \"Количество продаж, млн\")\n",
    "plt.show()"
   ]
  },
  {
   "cell_type": "markdown",
   "metadata": {},
   "source": [
    "В Северной Америке наиболее прибыльными платформами являются: X360, Wii, PS3, DS, PS2"
   ]
  },
  {
   "cell_type": "markdown",
   "metadata": {},
   "source": [
    "### Самые популярные жанры (топ-5) по регионам"
   ]
  },
  {
   "cell_type": "code",
   "execution_count": 56,
   "metadata": {},
   "outputs": [
    {
     "data": {
      "image/png": "[encoded data removed]",
      "text/plain": [
       "<Figure size 432x288 with 1 Axes>"
      ]
     },
     "metadata": {
      "needs_background": "light"
     },
     "output_type": "display_data"
    }
   ],
   "source": [
    "act_data.groupby(by='genre').agg({'jp_sales':'sum'}).sort_values(by='jp_sales', ascending=False).head() \\\n",
    ".plot(kind='bar', xlabel = \"Жанр\", ylabel = \"Количество продаж, млн\")\n",
    "plt.show()"
   ]
  },
  {
   "cell_type": "markdown",
   "metadata": {},
   "source": [
    "В Японии самыми прибыльными жанрами за последние 10 лет являются: Role-Playing, Action, Misc, Spors, Platform"
   ]
  },
  {
   "cell_type": "code",
   "execution_count": 57,
   "metadata": {},
   "outputs": [
    {
     "data": {
      "image/png": "[encoded data removed]",
      "text/plain": [
       "<Figure size 432x288 with 1 Axes>"
      ]
     },
     "metadata": {
      "needs_background": "light"
     },
     "output_type": "display_data"
    }
   ],
   "source": [
    "act_data.groupby(by='genre').agg({'eu_sales':'sum'}).sort_values(by='eu_sales', ascending=False).head()\\\n",
    ".plot(kind='bar', xlabel = \"Жанр\", ylabel = \"Количество продаж, млн\")\n",
    "plt.show()"
   ]
  },
  {
   "cell_type": "markdown",
   "metadata": {},
   "source": [
    "В Европе самыми прибыльными жанрами за последние 10 лет являются: Action, Spors, Shooter, Misc, Racing"
   ]
  },
  {
   "cell_type": "code",
   "execution_count": 58,
   "metadata": {},
   "outputs": [
    {
     "data": {
      "image/png": "[encoded data removed]",
      "text/plain": [
       "<Figure size 432x288 with 1 Axes>"
      ]
     },
     "metadata": {
      "needs_background": "light"
     },
     "output_type": "display_data"
    }
   ],
   "source": [
    "act_data.groupby(by='genre').agg({'na_sales':'sum'}).sort_values(by='na_sales', ascending=False).head() \\\n",
    ".plot(kind='bar', xlabel = \"Жанр\", ylabel = \"Количество продаж, млн\")\n",
    "plt.show()"
   ]
  },
  {
   "cell_type": "markdown",
   "metadata": {},
   "source": [
    "В Северной Америке самыми прибыльными жанрами за последние 10 лет являются: Action, Spors, Shooter, Misc, Role-Playing"
   ]
  },
  {
   "cell_type": "markdown",
   "metadata": {},
   "source": [
    "### Выявление влияния рейтинга ESRB на продажи в регионах"
   ]
  },
  {
   "cell_type": "markdown",
   "metadata": {},
   "source": [
    "Вспомним расшифровки к рейтингам:\n",
    "    \n",
    "- «EC» («Early childhood») — «Для детей младшего возраста»\n",
    "- «E»(«Everyone») — «Для всех»\n",
    "- «E10+» («Everyone 10 and older») — «Для всех от 10 лет и старше»\n",
    "- «T» («Teen») — «Подросткам»\n",
    "- «M» («Mature») — «Для взрослых»\n",
    "- «AO» («Adults Only 18+») — «Только для взрослых»\n",
    "- «RP» («Rating Pending») — «Рейтинг ожидается»\n",
    "- K-A - старый вариант маркировки E (for everyone)"
   ]
  },
  {
   "cell_type": "code",
   "execution_count": 59,
   "metadata": {},
   "outputs": [
    {
     "data": {
      "image/png": "[encoded data removed]",
      "text/plain": [
       "<Figure size 432x288 with 1 Axes>"
      ]
     },
     "metadata": {
      "needs_background": "light"
     },
     "output_type": "display_data"
    }
   ],
   "source": [
    "act_data.groupby(by='rating').agg({'jp_sales':'sum'}).sort_values(by='jp_sales', ascending=False).head() \\\n",
    ".plot(kind='bar', xlabel = \"Рейтинг\", ylabel = \"Количество продаж, млн\")\n",
    "plt.show()"
   ]
  },
  {
   "cell_type": "markdown",
   "metadata": {},
   "source": [
    "Наиболее прибыльными в Японии являются игры с рейтингом ESRB - M и T, т.е. для взрослых и для подростков."
   ]
  },
  {
   "cell_type": "code",
   "execution_count": 60,
   "metadata": {},
   "outputs": [
    {
     "data": {
      "image/png": "[encoded data removed]",
      "text/plain": [
       "<Figure size 432x288 with 1 Axes>"
      ]
     },
     "metadata": {
      "needs_background": "light"
     },
     "output_type": "display_data"
    }
   ],
   "source": [
    "act_data.groupby(by='rating').agg({'eu_sales':'sum'}).sort_values(by='eu_sales', ascending=False).head() \\\n",
    ".plot(kind='bar', xlabel = \"Рейтинг\", ylabel = \"Количество продаж, млн\")\n",
    "plt.show()"
   ]
  },
  {
   "cell_type": "markdown",
   "metadata": {},
   "source": [
    "Наиболее прибыльными в Еврпе являются игры с рейтингом ESRB - М и E, т.е. для взрослых и для всех."
   ]
  },
  {
   "cell_type": "code",
   "execution_count": 61,
   "metadata": {},
   "outputs": [
    {
     "data": {
      "image/png": "[encoded data removed]",
      "text/plain": [
       "<Figure size 432x288 with 1 Axes>"
      ]
     },
     "metadata": {
      "needs_background": "light"
     },
     "output_type": "display_data"
    }
   ],
   "source": [
    "act_data.groupby(by='rating').agg({'na_sales':'sum'}).sort_values(by='na_sales', ascending=False).head() \\\n",
    ".plot(kind='bar', xlabel = \"Рейтинг\", ylabel = \"Количество продаж, млн\")\n",
    "plt.show()"
   ]
  },
  {
   "cell_type": "markdown",
   "metadata": {},
   "source": [
    "Наиболее прибыльными в Северной Америке являются игры с рейтингом ESRB - М и E, т.е. для взрослых и для всех."
   ]
  },
  {
   "cell_type": "markdown",
   "metadata": {},
   "source": [
    "### Общий вывод к Шагу 4"
   ]
  },
  {
   "cell_type": "markdown",
   "metadata": {},
   "source": [
    "<div class=\"alert alert-block\" style=\"background-color: gainsboro\">\n",
    "<g> \n",
    "<p>В Японии наиболее прибыльными платформами являются: DS, 3DS, PS3, PSP, Wii с жанрами: Role-Playing, Action, Misc, Spors, Platform с рейтингом ESRB - M и T, т.е. для взрослых и для подростков.\n",
    "<p>В Европе наиболее прибыльными платформами являются: PS3, X360, Wii, DS, PS4,с жанрами :Action, Spors, Shooter, Misc, Racing с рейтингом ESRB - М и E, т.е. для взрослых и для всех.\n",
    "<p>В Северной Америке наиболее прибыльными платформами являются: X360, Wii, PS3, DS, PS2: Action, Spors, Shooter, Misc, Role-Playing с рейтингом ESRB - М и E, т.е. для взрослых и для всех. <g>\n",
    "</div>"
   ]
  },
  {
   "cell_type": "markdown",
   "metadata": {},
   "source": [
    "## Шаг 5. Проверка гипотез"
   ]
  },
  {
   "cell_type": "markdown",
   "metadata": {},
   "source": [
    "<div class=\"alert alert-block\" style=\"background-color: gainsboro\">\n",
    "<g> \n",
    "<p>Проверим 2 гипотезы: \n",
    "        <p>Средние пользовательские рейтинги платформ Xbox One и PC одинаковые\n",
    "        <p>Средние пользовательские рейтинги жанров Action и Sports разные\n",
    "</div>"
   ]
  },
  {
   "cell_type": "markdown",
   "metadata": {},
   "source": [
    "Выборки независимы между собой, значит можно применить проверку гипотез аналогичную прошлому проекту и использовать значение p-value при alpha = 0.05. Если p-value окажется меньше него - отвергнем гипотезу"
   ]
  },
  {
   "cell_type": "markdown",
   "metadata": {},
   "source": [
    "### Проверка гипотезы: Средние пользовательские рейтинги платформ Xbox One и PC одинаковые"
   ]
  },
  {
   "cell_type": "markdown",
   "metadata": {},
   "source": [
    "За нулевую гипотезу возьмем: средние пользовательские рейтинги платформ Xbox One и PC одинаковые.\n",
    "\n",
    "За альтернативную гипотезу возьмем: средние пользовательские рейтинги платформ Xbox One и PC отличаются."
   ]
  },
  {
   "cell_type": "code",
   "execution_count": 62,
   "metadata": {},
   "outputs": [],
   "source": [
    "#создадим датафреймы, содержащие данные которые мы будем сравнивать с пороговым значением альфа.\n",
    "user_score_Xbox = data[(data['platform']=='XOne') & (data['year_of_release']>=2012)]['user_score'].dropna()\n",
    "user_score_PC = data[(data['platform']=='PC') & (data['year_of_release']>=2012)]['user_score'].dropna()"
   ]
  },
  {
   "cell_type": "code",
   "execution_count": 63,
   "metadata": {},
   "outputs": [
    {
     "name": "stdout",
     "output_type": "stream",
     "text": [
      "p-значение: 0.5535080500643661\n",
      "Не получилось отвергнуть нулевую гипотезу\n"
     ]
    }
   ],
   "source": [
    "alpha = 0.05\n",
    "\n",
    "results = st.ttest_ind(user_score_Xbox, user_score_PC,equal_var = True)\n",
    "\n",
    "print('p-значение:', results.pvalue)\n",
    "\n",
    "if (results.pvalue < alpha):\n",
    "    print(\"Отвергаем нулевую гипотезу\")\n",
    "else:\n",
    "    print(\"Не получилось отвергнуть нулевую гипотезу\") "
   ]
  },
  {
   "cell_type": "markdown",
   "metadata": {},
   "source": [
    "При пороговом значении и alpha = 0.05 и alpha = 0.01 мы не можем отвергнуть нулевую гипотезу о том, что средние пользовательские рейтинги платформ Xbox One и PC одинаковые за выбранный период.\n",
    "\n",
    "Средние пользовательские рейтинги платформ Xbox One и PC одинаковые. Возможно, XOne и PC имеют аналогичный набор игр."
   ]
  },
  {
   "cell_type": "markdown",
   "metadata": {},
   "source": [
    "### Проверка гипотезы: Средние пользовательские рейтинги жанров Action и Sports разные"
   ]
  },
  {
   "cell_type": "markdown",
   "metadata": {},
   "source": [
    "За нулевую гипотезу возьмем: средние пользовательские рейтинги жанров Action и Sports одинаковы\n",
    "\n",
    "За альтернативную гипотезу возьмем: средние пользовательские рейтинги жанров Action и Sports отличаются."
   ]
  },
  {
   "cell_type": "code",
   "execution_count": 64,
   "metadata": {},
   "outputs": [],
   "source": [
    "#создадим датафреймы, содержащие данные которые мы будем сравнивать с пороговым значением альфа.\n",
    "user_score_action = act_data[act_data['genre']==\"Action\"]['user_score'].dropna()\n",
    "user_score_sports = act_data[act_data['genre']==\"Sports\"]['user_score'].dropna()"
   ]
  },
  {
   "cell_type": "code",
   "execution_count": 65,
   "metadata": {},
   "outputs": [
    {
     "name": "stdout",
     "output_type": "stream",
     "text": [
      "p-значение: 1.0525579884377655e-09\n",
      "Отвергаем нулевую гипотезу\n"
     ]
    }
   ],
   "source": [
    "alpha = 0.05\n",
    "\n",
    "result = st.ttest_ind(user_score_action, user_score_sports, equal_var = False)\n",
    "\n",
    "print('p-значение:', result.pvalue)\n",
    "\n",
    "if (result.pvalue < alpha):\n",
    "    print(\"Отвергаем нулевую гипотезу\")\n",
    "else:\n",
    "    print(\"Не получилось отвергнуть нулевую гипотезу\") "
   ]
  },
  {
   "cell_type": "markdown",
   "metadata": {},
   "source": [
    "p-value крайне малое, округляя = нулю, это значит, что с 0% вероятностью мы можем получить наблюдаемые данные при условии, что нулевая гипотеза верна.\n",
    "Принять нулевую гипотезу мы не можем, статистическая значимость равенства средних не подтверждается.\n",
    "Значение alpha 0.05 или 0.01 здесь не будет иметь влияния на результат.\n",
    "\n",
    "Средние пользовательские рейтинги жанров Action и Sports отличаются."
   ]
  },
  {
   "cell_type": "markdown",
   "metadata": {},
   "source": [
    "### Общий вывод к Шагу 5"
   ]
  },
  {
   "cell_type": "markdown",
   "metadata": {},
   "source": [
    "<div class=\"alert alert-block\" style=\"background-color: gainsboro\">\n",
    "<g> \n",
    "<p> При пороговом значении alpha = 0.01: средние пользовательские рейтинги платформ Xbox One и PC одинаковые.\n",
    "    Возможно, XOne и PC имеют аналогичный набор игр.\n",
    "<p> Средние пользовательские рейтинги жанров Action и Sports отличаются. <g> </div>"
   ]
  },
  {
   "cell_type": "markdown",
   "metadata": {},
   "source": [
    "## Шаг 6. Общий вывод"
   ]
  },
  {
   "cell_type": "markdown",
   "metadata": {},
   "source": [
    "<div class=\"alert alert-block\" style=\"background-color: gainsboro\">\n",
    "<g> \n",
    "<p> В ходе выполнения проектной работы мы:\n",
    "    <p> Ознакомились с общей информацией о датасете, выявили пропуски и несоответствие типов данных. Заполнили некоторые пропуски, обнаружили необычное значени tbd - \"to be determined\" и заменили это значение на NaN.\n",
    "<p> В некоторых столбцах пропуски мы оставили незаполненными, чтобы не исказить статистику.\n",
    "<p> Также мы посчитали общее количество продаж по всем регионам и записали результат в столбец total_sales.\n",
    "    _____________________________________________________________________________________________________________________\n",
    "    \n",
    "<p> В ходе анализа были выявлены следующие факты:\n",
    "<p> Было обнаружено, что активный рост количества выпускаемых игр происходил с 1994 по 2011 гг., затем началось существенное снижение этого показателя, вплоть до 2015 года\n",
    "Самые популярные платформы для игр: PS2 и DS, они же и входят в топ-6 самых прибыльных платформ: PS2, X360, PS3, Wii, DS, PS. В среднем платформы \"живут\" 7,6 лет. А за последние 2 года набирают обороты в прибыли 2 платформы: PS4 и XOne.\n",
    "    _____________________________________________________________________________________________________________________       \n",
    "<p> На прибыльность платформ PS3 и X360 больше влияет оценка от критиков, чем от пользователей.\n",
    "Для платформ PS3 и X360 наблюдается очень схожая корреляция продаж с оценками критиков, и также схожие корреляции продаж с оценками пользователей. На продажи незначительно влияют оценки критиков и совсем не влияют оценки пользователей.\n",
    "Для платформы Wii - корреляция оцннок пользователей с продажами и корреляция с оценок критиков имеет бОльшие значения, чем корреляции по тем же показателям для платформ PS3 и X360. Для платформы Wii на продажи незначительно влияют и оценки пользователей и оценки критиков (последние имеют обратную зависимость.)\n",
    "Для платформы DS возможно отследить только корреляцию продаж с оценками пользователей - она достаточно высокая = 0,88.\n",
    "________________________________________________________________________________________________________________  \n",
    "<p>Наиболее прибыльными являются игры жанров: Shooter и Platform. Наименее прибыльные жанры - Adventure и Strategy.\n",
    "    \n",
    "<p> В Японии наиболее прибыльными платформами являются: DS, 3DS, PS3, PSP, Wii с жанрами: Role-Playing, Action, Misc, Spors, Platform с рейтингом ESRB - E и T, т.е. для подростков и для всех.\n",
    "<p> В Европе наиболее прибыльными платформами являются: PS3, X360, Wii, DS, PS4,с жанрами :Action, Spors, Shooter, Misc, Racing с рейтингом ESRB - E и M, т.е. для взрослых и для всех.\n",
    "<p> В Северной Америке наиболее прибыльными платформами являются: X360, Wii, PS3, DS, PS2: Action, Spors, Shooter, Misc, Role-Playing с рейтингом ESRB - E и M, т.е. для взрослых и для всех.\n",
    "В Японии вероятнее всего играми увлекаются подростки, а в Европе и Северной Америке - взрослые. _______________________________________________________________________________________________________\n",
    "    \n",
    "<p> Средние пользовательские рейтинги платформ Xbox One и PC одинаковые. Возможно, XOne и PC имеют аналогичный набор игр.\n",
    "<p> Средние пользовательские рейтинги жанров Action и Sports отличаются.     \n",
    "    _____________________________________________________________________________________________________________________\n",
    "<p> Потенциальная успешность игры в первую очереди зависит от региона пользователей, которые будут в неё играть. Во вторую очередь - от жанра предпочитаемого в определенном регионе. Также важно учитывать платформу, на которой будет выпущена игр, в приоритете размещать новую игру на тех платформах, которые сейчас находятся на пике прибыли, так как цикл жизни одной платформы очень короткий. <g> /div>"
   ]
  }
 ],
 "metadata": {
  "ExecuteTimeLog": [
   {
    "duration": 102,
    "start_time": "2023-09-25T07:23:17.409Z"
   },
   {
    "duration": 93,
    "start_time": "2023-09-25T07:31:16.366Z"
   },
   {
    "duration": 137,
    "start_time": "2023-09-25T07:36:10.499Z"
   },
   {
    "duration": 93,
    "start_time": "2023-09-25T07:39:13.454Z"
   },
   {
    "duration": 3,
    "start_time": "2023-09-25T07:49:13.672Z"
   },
   {
    "duration": 110,
    "start_time": "2023-09-25T07:49:38.010Z"
   },
   {
    "duration": 1587,
    "start_time": "2023-09-25T07:49:51.292Z"
   },
   {
    "duration": 4,
    "start_time": "2023-09-25T07:49:55.564Z"
   },
   {
    "duration": 201,
    "start_time": "2023-09-25T07:50:49.034Z"
   },
   {
    "duration": 5,
    "start_time": "2023-09-25T07:50:56.664Z"
   },
   {
    "duration": 186,
    "start_time": "2023-09-25T07:51:07.163Z"
   },
   {
    "duration": 59,
    "start_time": "2023-09-25T07:51:12.573Z"
   },
   {
    "duration": 5,
    "start_time": "2023-09-25T07:51:12.741Z"
   },
   {
    "duration": 4,
    "start_time": "2023-09-25T07:52:12.740Z"
   },
   {
    "duration": 4,
    "start_time": "2023-09-25T07:52:22.111Z"
   },
   {
    "duration": 4,
    "start_time": "2023-09-25T07:52:25.988Z"
   },
   {
    "duration": 4,
    "start_time": "2023-09-25T07:52:32.741Z"
   },
   {
    "duration": 5,
    "start_time": "2023-09-25T07:52:37.972Z"
   },
   {
    "duration": 5,
    "start_time": "2023-09-25T07:52:41.344Z"
   },
   {
    "duration": 18,
    "start_time": "2023-09-25T07:53:39.945Z"
   },
   {
    "duration": 17,
    "start_time": "2023-09-25T07:55:24.154Z"
   },
   {
    "duration": 30,
    "start_time": "2023-09-25T07:56:14.263Z"
   },
   {
    "duration": 92,
    "start_time": "2023-09-25T07:58:31.314Z"
   },
   {
    "duration": 98,
    "start_time": "2023-09-25T07:58:57.197Z"
   },
   {
    "duration": 4,
    "start_time": "2023-09-25T08:05:18.688Z"
   },
   {
    "duration": 4,
    "start_time": "2023-09-25T08:05:25.301Z"
   },
   {
    "duration": 12,
    "start_time": "2023-09-25T08:07:39.965Z"
   },
   {
    "duration": 4,
    "start_time": "2023-09-25T08:07:49.248Z"
   },
   {
    "duration": 5,
    "start_time": "2023-09-25T08:08:02.670Z"
   },
   {
    "duration": 4,
    "start_time": "2023-09-25T08:08:09.580Z"
   },
   {
    "duration": 3,
    "start_time": "2023-09-25T08:09:35.938Z"
   },
   {
    "duration": 5,
    "start_time": "2023-09-25T08:12:32.059Z"
   },
   {
    "duration": 6,
    "start_time": "2023-09-25T08:13:54.536Z"
   },
   {
    "duration": 2220,
    "start_time": "2023-09-25T08:15:01.765Z"
   },
   {
    "duration": 1874,
    "start_time": "2023-09-25T08:15:36.350Z"
   },
   {
    "duration": 1545,
    "start_time": "2023-09-25T08:15:57.637Z"
   },
   {
    "duration": 61,
    "start_time": "2023-09-25T08:15:59.184Z"
   },
   {
    "duration": 4,
    "start_time": "2023-09-25T08:15:59.247Z"
   },
   {
    "duration": 47,
    "start_time": "2023-09-25T08:15:59.254Z"
   },
   {
    "duration": 15,
    "start_time": "2023-09-25T08:15:59.303Z"
   },
   {
    "duration": 109,
    "start_time": "2023-09-25T08:15:59.320Z"
   },
   {
    "duration": 0,
    "start_time": "2023-09-25T08:15:59.430Z"
   },
   {
    "duration": 0,
    "start_time": "2023-09-25T08:15:59.432Z"
   },
   {
    "duration": 29,
    "start_time": "2023-09-25T08:16:20.009Z"
   },
   {
    "duration": 4,
    "start_time": "2023-09-25T08:16:23.571Z"
   },
   {
    "duration": 2095,
    "start_time": "2023-09-25T08:16:24.191Z"
   },
   {
    "duration": 5,
    "start_time": "2023-09-25T08:16:49.735Z"
   },
   {
    "duration": 23,
    "start_time": "2023-09-25T08:17:02.397Z"
   },
   {
    "duration": 5,
    "start_time": "2023-09-25T08:17:49.729Z"
   },
   {
    "duration": 37,
    "start_time": "2023-09-25T08:25:41.392Z"
   },
   {
    "duration": 29,
    "start_time": "2023-09-25T08:26:15.481Z"
   },
   {
    "duration": 10,
    "start_time": "2023-09-25T08:26:56.650Z"
   },
   {
    "duration": 121,
    "start_time": "2023-09-25T08:27:19.982Z"
   },
   {
    "duration": 5,
    "start_time": "2023-09-25T08:27:24.490Z"
   },
   {
    "duration": 4,
    "start_time": "2023-09-25T08:28:36.617Z"
   },
   {
    "duration": 10,
    "start_time": "2023-09-25T08:28:41.929Z"
   },
   {
    "duration": 12,
    "start_time": "2023-09-25T08:28:49.873Z"
   },
   {
    "duration": 11,
    "start_time": "2023-09-25T08:34:52.868Z"
   },
   {
    "duration": 8,
    "start_time": "2023-09-25T08:35:02.689Z"
   },
   {
    "duration": 4,
    "start_time": "2023-09-25T08:36:56.856Z"
   },
   {
    "duration": 4,
    "start_time": "2023-09-25T08:36:57.083Z"
   },
   {
    "duration": 3,
    "start_time": "2023-09-25T08:36:57.431Z"
   },
   {
    "duration": 5,
    "start_time": "2023-09-25T08:36:58.685Z"
   },
   {
    "duration": 3,
    "start_time": "2023-09-25T08:38:45.110Z"
   },
   {
    "duration": 3,
    "start_time": "2023-09-25T08:40:14.157Z"
   },
   {
    "duration": 18,
    "start_time": "2023-09-25T08:40:17.326Z"
   },
   {
    "duration": 116,
    "start_time": "2023-09-25T08:43:31.664Z"
   },
   {
    "duration": 97,
    "start_time": "2023-09-25T08:44:30.043Z"
   },
   {
    "duration": 3,
    "start_time": "2023-09-25T08:45:28.763Z"
   },
   {
    "duration": 5,
    "start_time": "2023-09-25T08:46:08.108Z"
   },
   {
    "duration": 6,
    "start_time": "2023-09-25T08:48:18.828Z"
   },
   {
    "duration": 1634,
    "start_time": "2023-09-25T08:53:04.307Z"
   },
   {
    "duration": 1507,
    "start_time": "2023-09-25T08:53:15.513Z"
   },
   {
    "duration": 14,
    "start_time": "2023-09-25T08:53:27.773Z"
   },
   {
    "duration": 48,
    "start_time": "2023-09-25T08:58:51.061Z"
   },
   {
    "duration": 13,
    "start_time": "2023-09-25T08:59:12.118Z"
   },
   {
    "duration": 23,
    "start_time": "2023-09-25T08:59:25.406Z"
   },
   {
    "duration": 3,
    "start_time": "2023-09-25T10:13:03.270Z"
   },
   {
    "duration": 4,
    "start_time": "2023-09-25T10:17:16.550Z"
   },
   {
    "duration": 26,
    "start_time": "2023-09-25T10:21:57.318Z"
   },
   {
    "duration": 10,
    "start_time": "2023-09-25T10:24:32.244Z"
   },
   {
    "duration": 9,
    "start_time": "2023-09-25T10:27:15.916Z"
   },
   {
    "duration": 8,
    "start_time": "2023-09-25T10:27:25.562Z"
   },
   {
    "duration": 9,
    "start_time": "2023-09-25T10:27:45.346Z"
   },
   {
    "duration": 7,
    "start_time": "2023-09-25T10:27:48.486Z"
   },
   {
    "duration": 89,
    "start_time": "2023-09-25T10:27:56.246Z"
   },
   {
    "duration": 8,
    "start_time": "2023-09-25T10:27:56.433Z"
   },
   {
    "duration": 1457,
    "start_time": "2023-09-25T10:28:11.458Z"
   },
   {
    "duration": 59,
    "start_time": "2023-09-25T10:28:12.917Z"
   },
   {
    "duration": 4,
    "start_time": "2023-09-25T10:28:12.978Z"
   },
   {
    "duration": 22,
    "start_time": "2023-09-25T10:28:12.984Z"
   },
   {
    "duration": 10,
    "start_time": "2023-09-25T10:28:13.008Z"
   },
   {
    "duration": 51,
    "start_time": "2023-09-25T10:28:13.020Z"
   },
   {
    "duration": 19,
    "start_time": "2023-09-25T10:28:13.072Z"
   },
   {
    "duration": 3,
    "start_time": "2023-09-25T10:28:13.093Z"
   },
   {
    "duration": 1626,
    "start_time": "2023-09-25T10:28:13.097Z"
   },
   {
    "duration": 0,
    "start_time": "2023-09-25T10:28:14.726Z"
   },
   {
    "duration": 0,
    "start_time": "2023-09-25T10:28:14.728Z"
   },
   {
    "duration": 0,
    "start_time": "2023-09-25T10:28:14.729Z"
   },
   {
    "duration": 0,
    "start_time": "2023-09-25T10:28:14.730Z"
   },
   {
    "duration": 0,
    "start_time": "2023-09-25T10:28:14.732Z"
   },
   {
    "duration": 0,
    "start_time": "2023-09-25T10:28:14.733Z"
   },
   {
    "duration": 0,
    "start_time": "2023-09-25T10:28:14.735Z"
   },
   {
    "duration": 0,
    "start_time": "2023-09-25T10:28:14.736Z"
   },
   {
    "duration": 0,
    "start_time": "2023-09-25T10:28:14.737Z"
   },
   {
    "duration": 0,
    "start_time": "2023-09-25T10:28:14.739Z"
   },
   {
    "duration": 1628,
    "start_time": "2023-09-25T10:28:30.825Z"
   },
   {
    "duration": 33,
    "start_time": "2023-09-25T10:28:35.266Z"
   },
   {
    "duration": 15,
    "start_time": "2023-09-25T10:29:11.126Z"
   },
   {
    "duration": 20,
    "start_time": "2023-09-25T10:29:17.710Z"
   },
   {
    "duration": 5,
    "start_time": "2023-09-25T10:29:21.018Z"
   },
   {
    "duration": 5,
    "start_time": "2023-09-25T10:29:22.957Z"
   },
   {
    "duration": 2,
    "start_time": "2023-09-25T10:29:23.560Z"
   },
   {
    "duration": 7,
    "start_time": "2023-09-25T10:29:24.359Z"
   },
   {
    "duration": 6,
    "start_time": "2023-09-25T10:29:25.018Z"
   },
   {
    "duration": 5,
    "start_time": "2023-09-25T10:29:25.443Z"
   },
   {
    "duration": 2,
    "start_time": "2023-09-25T10:29:26.560Z"
   },
   {
    "duration": 8,
    "start_time": "2023-09-25T10:29:27.805Z"
   },
   {
    "duration": 165,
    "start_time": "2023-09-25T10:30:53.930Z"
   },
   {
    "duration": 10,
    "start_time": "2023-09-25T10:31:08.875Z"
   },
   {
    "duration": 3,
    "start_time": "2023-09-25T10:31:11.671Z"
   },
   {
    "duration": 2,
    "start_time": "2023-09-25T10:31:13.378Z"
   },
   {
    "duration": 98,
    "start_time": "2023-09-25T10:31:14.609Z"
   },
   {
    "duration": 23,
    "start_time": "2023-09-25T10:31:25.871Z"
   },
   {
    "duration": 5,
    "start_time": "2023-09-25T10:37:18.000Z"
   },
   {
    "duration": 3,
    "start_time": "2023-09-25T10:38:03.674Z"
   },
   {
    "duration": 11,
    "start_time": "2023-09-25T10:38:05.573Z"
   },
   {
    "duration": 24,
    "start_time": "2023-09-25T10:38:13.339Z"
   },
   {
    "duration": 3,
    "start_time": "2023-09-25T10:38:18.409Z"
   },
   {
    "duration": 21,
    "start_time": "2023-09-25T10:40:01.587Z"
   },
   {
    "duration": 3,
    "start_time": "2023-09-25T10:40:01.752Z"
   },
   {
    "duration": 32,
    "start_time": "2023-09-25T10:57:00.416Z"
   },
   {
    "duration": 29,
    "start_time": "2023-09-25T10:57:31.662Z"
   },
   {
    "duration": 11,
    "start_time": "2023-09-25T10:59:22.491Z"
   },
   {
    "duration": 452,
    "start_time": "2023-09-25T10:59:38.856Z"
   },
   {
    "duration": 158,
    "start_time": "2023-09-25T11:01:04.445Z"
   },
   {
    "duration": 362,
    "start_time": "2023-09-25T11:01:11.042Z"
   },
   {
    "duration": 379,
    "start_time": "2023-09-25T11:01:27.349Z"
   },
   {
    "duration": 10,
    "start_time": "2023-09-25T11:02:02.259Z"
   },
   {
    "duration": 7,
    "start_time": "2023-09-25T11:02:13.218Z"
   },
   {
    "duration": 1361,
    "start_time": "2023-09-25T11:04:44.833Z"
   },
   {
    "duration": 60,
    "start_time": "2023-09-25T11:04:46.196Z"
   },
   {
    "duration": 4,
    "start_time": "2023-09-25T11:04:46.259Z"
   },
   {
    "duration": 24,
    "start_time": "2023-09-25T11:04:46.266Z"
   },
   {
    "duration": 13,
    "start_time": "2023-09-25T11:04:46.292Z"
   },
   {
    "duration": 60,
    "start_time": "2023-09-25T11:04:46.307Z"
   },
   {
    "duration": 19,
    "start_time": "2023-09-25T11:04:46.368Z"
   },
   {
    "duration": 26,
    "start_time": "2023-09-25T11:04:46.388Z"
   },
   {
    "duration": 39,
    "start_time": "2023-09-25T11:04:46.416Z"
   },
   {
    "duration": 26,
    "start_time": "2023-09-25T11:04:46.458Z"
   },
   {
    "duration": 4,
    "start_time": "2023-09-25T11:04:46.486Z"
   },
   {
    "duration": 15,
    "start_time": "2023-09-25T11:04:46.491Z"
   },
   {
    "duration": 5,
    "start_time": "2023-09-25T11:04:46.508Z"
   },
   {
    "duration": 11,
    "start_time": "2023-09-25T11:04:46.514Z"
   },
   {
    "duration": 11,
    "start_time": "2023-09-25T11:04:46.527Z"
   },
   {
    "duration": 18,
    "start_time": "2023-09-25T11:04:46.540Z"
   },
   {
    "duration": 8,
    "start_time": "2023-09-25T11:04:46.560Z"
   },
   {
    "duration": 42,
    "start_time": "2023-09-25T11:04:46.569Z"
   },
   {
    "duration": 3,
    "start_time": "2023-09-25T11:04:46.613Z"
   },
   {
    "duration": 31,
    "start_time": "2023-09-25T11:04:46.618Z"
   },
   {
    "duration": 6,
    "start_time": "2023-09-25T11:04:46.651Z"
   },
   {
    "duration": 0,
    "start_time": "2023-09-25T11:07:03.883Z"
   },
   {
    "duration": 0,
    "start_time": "2023-09-25T11:07:03.885Z"
   },
   {
    "duration": 0,
    "start_time": "2023-09-25T11:07:03.887Z"
   },
   {
    "duration": 306,
    "start_time": "2023-09-25T11:07:06.009Z"
   },
   {
    "duration": 178,
    "start_time": "2023-09-25T11:07:15.669Z"
   },
   {
    "duration": 203,
    "start_time": "2023-09-25T11:07:21.691Z"
   },
   {
    "duration": 240,
    "start_time": "2023-09-25T11:07:30.190Z"
   },
   {
    "duration": 228,
    "start_time": "2023-09-25T11:07:40.533Z"
   },
   {
    "duration": 205,
    "start_time": "2023-09-25T11:08:45.167Z"
   },
   {
    "duration": 191,
    "start_time": "2023-09-25T11:09:06.972Z"
   },
   {
    "duration": 10,
    "start_time": "2023-09-25T11:14:58.978Z"
   },
   {
    "duration": 214,
    "start_time": "2023-09-25T11:14:59.342Z"
   },
   {
    "duration": 350,
    "start_time": "2023-09-25T11:17:30.031Z"
   },
   {
    "duration": 308,
    "start_time": "2023-09-25T11:18:09.480Z"
   },
   {
    "duration": 1028,
    "start_time": "2023-09-25T11:18:48.338Z"
   },
   {
    "duration": 189,
    "start_time": "2023-09-25T11:19:06.985Z"
   },
   {
    "duration": 183,
    "start_time": "2023-09-25T11:19:15.196Z"
   },
   {
    "duration": 1080,
    "start_time": "2023-09-25T11:25:48.524Z"
   },
   {
    "duration": 1054,
    "start_time": "2023-09-25T11:26:58.459Z"
   },
   {
    "duration": 1016,
    "start_time": "2023-09-25T11:27:08.480Z"
   },
   {
    "duration": 100,
    "start_time": "2023-09-25T11:28:50.603Z"
   },
   {
    "duration": 18,
    "start_time": "2023-09-25T11:28:56.125Z"
   },
   {
    "duration": 942,
    "start_time": "2023-09-25T11:29:04.970Z"
   },
   {
    "duration": 972,
    "start_time": "2023-09-25T11:29:29.489Z"
   },
   {
    "duration": 986,
    "start_time": "2023-09-25T11:29:36.085Z"
   },
   {
    "duration": 932,
    "start_time": "2023-09-25T11:29:44.110Z"
   },
   {
    "duration": 13,
    "start_time": "2023-09-25T11:30:59.830Z"
   },
   {
    "duration": 950,
    "start_time": "2023-09-25T11:31:06.699Z"
   },
   {
    "duration": 21,
    "start_time": "2023-09-25T11:31:48.921Z"
   },
   {
    "duration": 958,
    "start_time": "2023-09-25T11:31:52.304Z"
   },
   {
    "duration": 305,
    "start_time": "2023-09-25T11:33:45.101Z"
   },
   {
    "duration": 90,
    "start_time": "2023-09-25T11:33:46.364Z"
   },
   {
    "duration": 27,
    "start_time": "2023-09-25T11:36:07.122Z"
   },
   {
    "duration": 19,
    "start_time": "2023-09-25T11:40:47.868Z"
   },
   {
    "duration": 13,
    "start_time": "2023-09-25T11:41:01.216Z"
   },
   {
    "duration": 13,
    "start_time": "2023-09-25T11:41:44.994Z"
   },
   {
    "duration": 10,
    "start_time": "2023-09-25T11:43:29.232Z"
   },
   {
    "duration": 12,
    "start_time": "2023-09-25T11:43:50.735Z"
   },
   {
    "duration": 11,
    "start_time": "2023-09-25T11:47:52.740Z"
   },
   {
    "duration": 11,
    "start_time": "2023-09-25T11:48:01.708Z"
   },
   {
    "duration": 99,
    "start_time": "2023-09-25T11:48:38.614Z"
   },
   {
    "duration": 10,
    "start_time": "2023-09-25T11:48:57.297Z"
   },
   {
    "duration": 1312,
    "start_time": "2023-09-25T11:49:13.897Z"
   },
   {
    "duration": 64,
    "start_time": "2023-09-25T11:49:15.212Z"
   },
   {
    "duration": 4,
    "start_time": "2023-09-25T11:49:15.278Z"
   },
   {
    "duration": 30,
    "start_time": "2023-09-25T11:49:15.284Z"
   },
   {
    "duration": 25,
    "start_time": "2023-09-25T11:49:15.316Z"
   },
   {
    "duration": 56,
    "start_time": "2023-09-25T11:49:15.342Z"
   },
   {
    "duration": 20,
    "start_time": "2023-09-25T11:49:15.400Z"
   },
   {
    "duration": 23,
    "start_time": "2023-09-25T11:49:15.422Z"
   },
   {
    "duration": 31,
    "start_time": "2023-09-25T11:49:15.447Z"
   },
   {
    "duration": 46,
    "start_time": "2023-09-25T11:49:15.480Z"
   },
   {
    "duration": 11,
    "start_time": "2023-09-25T11:49:15.528Z"
   },
   {
    "duration": 33,
    "start_time": "2023-09-25T11:49:15.540Z"
   },
   {
    "duration": 23,
    "start_time": "2023-09-25T11:49:15.575Z"
   },
   {
    "duration": 37,
    "start_time": "2023-09-25T11:49:15.601Z"
   },
   {
    "duration": 33,
    "start_time": "2023-09-25T11:49:15.640Z"
   },
   {
    "duration": 33,
    "start_time": "2023-09-25T11:49:15.675Z"
   },
   {
    "duration": 29,
    "start_time": "2023-09-25T11:49:15.710Z"
   },
   {
    "duration": 28,
    "start_time": "2023-09-25T11:49:15.741Z"
   },
   {
    "duration": 16,
    "start_time": "2023-09-25T11:49:15.771Z"
   },
   {
    "duration": 48,
    "start_time": "2023-09-25T11:49:15.789Z"
   },
   {
    "duration": 7,
    "start_time": "2023-09-25T11:49:15.839Z"
   },
   {
    "duration": 209,
    "start_time": "2023-09-25T11:49:15.847Z"
   },
   {
    "duration": 324,
    "start_time": "2023-09-25T11:49:16.058Z"
   },
   {
    "duration": 967,
    "start_time": "2023-09-25T11:49:16.384Z"
   },
   {
    "duration": 118,
    "start_time": "2023-09-25T11:49:17.357Z"
   },
   {
    "duration": 22,
    "start_time": "2023-09-25T11:49:38.048Z"
   },
   {
    "duration": 143,
    "start_time": "2023-09-25T11:50:22.115Z"
   },
   {
    "duration": 21,
    "start_time": "2023-09-25T11:50:54.055Z"
   },
   {
    "duration": 21,
    "start_time": "2023-09-25T11:51:02.198Z"
   },
   {
    "duration": 20,
    "start_time": "2023-09-25T11:51:06.918Z"
   },
   {
    "duration": 16,
    "start_time": "2023-09-25T11:51:12.206Z"
   },
   {
    "duration": 20,
    "start_time": "2023-09-25T11:51:35.013Z"
   },
   {
    "duration": 4,
    "start_time": "2023-09-25T11:51:44.106Z"
   },
   {
    "duration": 20,
    "start_time": "2023-09-25T11:51:48.100Z"
   },
   {
    "duration": 19,
    "start_time": "2023-09-25T11:51:56.583Z"
   },
   {
    "duration": 19,
    "start_time": "2023-09-25T11:52:04.902Z"
   },
   {
    "duration": 16,
    "start_time": "2023-09-25T11:52:20.938Z"
   },
   {
    "duration": 370,
    "start_time": "2023-09-25T11:52:57.590Z"
   },
   {
    "duration": 1884,
    "start_time": "2023-09-25T11:53:14.832Z"
   },
   {
    "duration": 390,
    "start_time": "2023-09-25T11:53:46.397Z"
   },
   {
    "duration": 971,
    "start_time": "2023-09-25T11:55:16.454Z"
   },
   {
    "duration": 16,
    "start_time": "2023-09-25T11:57:09.449Z"
   },
   {
    "duration": 301,
    "start_time": "2023-09-25T12:00:29.870Z"
   },
   {
    "duration": 299,
    "start_time": "2023-09-25T12:01:09.898Z"
   },
   {
    "duration": 15,
    "start_time": "2023-09-25T12:01:27.937Z"
   },
   {
    "duration": 294,
    "start_time": "2023-09-25T12:01:34.422Z"
   },
   {
    "duration": 295,
    "start_time": "2023-09-25T12:01:40.861Z"
   },
   {
    "duration": 387,
    "start_time": "2023-09-25T12:01:45.378Z"
   },
   {
    "duration": 295,
    "start_time": "2023-09-25T12:03:19.538Z"
   },
   {
    "duration": 14,
    "start_time": "2023-09-25T12:03:57.593Z"
   },
   {
    "duration": 97,
    "start_time": "2023-09-25T12:04:10.066Z"
   },
   {
    "duration": 106,
    "start_time": "2023-09-25T12:04:17.198Z"
   },
   {
    "duration": 303,
    "start_time": "2023-09-25T12:04:23.972Z"
   },
   {
    "duration": 319,
    "start_time": "2023-09-25T12:05:57.649Z"
   },
   {
    "duration": 2,
    "start_time": "2023-09-25T12:07:37.273Z"
   },
   {
    "duration": 19,
    "start_time": "2023-09-25T12:11:10.069Z"
   },
   {
    "duration": 16,
    "start_time": "2023-09-25T12:11:32.124Z"
   },
   {
    "duration": 836,
    "start_time": "2023-09-25T12:12:55.748Z"
   },
   {
    "duration": 303,
    "start_time": "2023-09-25T12:13:04.968Z"
   },
   {
    "duration": 309,
    "start_time": "2023-09-25T12:13:21.238Z"
   },
   {
    "duration": 15,
    "start_time": "2023-09-25T12:21:45.248Z"
   },
   {
    "duration": 1430,
    "start_time": "2023-09-25T12:22:03.115Z"
   },
   {
    "duration": 1238,
    "start_time": "2023-09-25T12:22:14.321Z"
   },
   {
    "duration": 1506,
    "start_time": "2023-09-25T12:22:27.999Z"
   },
   {
    "duration": 1286,
    "start_time": "2023-09-25T12:22:41.834Z"
   },
   {
    "duration": 29,
    "start_time": "2023-09-25T12:23:11.070Z"
   },
   {
    "duration": 29,
    "start_time": "2023-09-25T12:23:20.154Z"
   },
   {
    "duration": 18,
    "start_time": "2023-09-25T12:24:31.194Z"
   },
   {
    "duration": 19,
    "start_time": "2023-09-25T12:24:51.954Z"
   },
   {
    "duration": 1310,
    "start_time": "2023-09-25T12:25:01.967Z"
   },
   {
    "duration": 1252,
    "start_time": "2023-09-25T12:25:15.504Z"
   },
   {
    "duration": 599,
    "start_time": "2023-09-25T12:25:59.166Z"
   },
   {
    "duration": 37,
    "start_time": "2023-09-25T12:26:03.169Z"
   },
   {
    "duration": 369,
    "start_time": "2023-09-25T12:26:11.410Z"
   },
   {
    "duration": 29,
    "start_time": "2023-09-25T12:26:25.627Z"
   },
   {
    "duration": 4,
    "start_time": "2023-09-25T12:26:46.425Z"
   },
   {
    "duration": 429,
    "start_time": "2023-09-25T12:26:56.159Z"
   },
   {
    "duration": 9,
    "start_time": "2023-09-25T12:28:17.356Z"
   },
   {
    "duration": 14,
    "start_time": "2023-09-25T12:28:53.220Z"
   },
   {
    "duration": 49,
    "start_time": "2023-09-25T12:31:33.221Z"
   },
   {
    "duration": 9,
    "start_time": "2023-09-25T12:32:19.453Z"
   },
   {
    "duration": 8,
    "start_time": "2023-09-25T12:32:30.829Z"
   },
   {
    "duration": 6,
    "start_time": "2023-09-25T12:33:29.428Z"
   },
   {
    "duration": 9,
    "start_time": "2023-09-25T12:33:43.797Z"
   },
   {
    "duration": 12,
    "start_time": "2023-09-25T12:34:26.540Z"
   },
   {
    "duration": 13,
    "start_time": "2023-09-25T12:34:35.091Z"
   },
   {
    "duration": 12,
    "start_time": "2023-09-25T12:34:56.347Z"
   },
   {
    "duration": 4,
    "start_time": "2023-09-25T12:36:46.463Z"
   },
   {
    "duration": 6,
    "start_time": "2023-09-25T12:37:04.165Z"
   },
   {
    "duration": 4,
    "start_time": "2023-09-25T12:37:47.306Z"
   },
   {
    "duration": 1473,
    "start_time": "2023-09-25T12:38:09.651Z"
   },
   {
    "duration": 62,
    "start_time": "2023-09-25T12:38:11.126Z"
   },
   {
    "duration": 5,
    "start_time": "2023-09-25T12:38:11.190Z"
   },
   {
    "duration": 39,
    "start_time": "2023-09-25T12:38:11.198Z"
   },
   {
    "duration": 29,
    "start_time": "2023-09-25T12:38:11.239Z"
   },
   {
    "duration": 30,
    "start_time": "2023-09-25T12:38:11.271Z"
   },
   {
    "duration": 18,
    "start_time": "2023-09-25T12:38:11.303Z"
   },
   {
    "duration": 3,
    "start_time": "2023-09-25T12:38:11.323Z"
   },
   {
    "duration": 40,
    "start_time": "2023-09-25T12:38:11.328Z"
   },
   {
    "duration": 23,
    "start_time": "2023-09-25T12:38:11.372Z"
   },
   {
    "duration": 5,
    "start_time": "2023-09-25T12:38:11.397Z"
   },
   {
    "duration": 16,
    "start_time": "2023-09-25T12:38:11.404Z"
   },
   {
    "duration": 10,
    "start_time": "2023-09-25T12:38:11.421Z"
   },
   {
    "duration": 28,
    "start_time": "2023-09-25T12:38:11.433Z"
   },
   {
    "duration": 15,
    "start_time": "2023-09-25T12:38:11.463Z"
   },
   {
    "duration": 9,
    "start_time": "2023-09-25T12:38:11.481Z"
   },
   {
    "duration": 5,
    "start_time": "2023-09-25T12:38:11.492Z"
   },
   {
    "duration": 24,
    "start_time": "2023-09-25T12:38:11.499Z"
   },
   {
    "duration": 3,
    "start_time": "2023-09-25T12:38:11.526Z"
   },
   {
    "duration": 29,
    "start_time": "2023-09-25T12:38:11.556Z"
   },
   {
    "duration": 9,
    "start_time": "2023-09-25T12:38:11.587Z"
   },
   {
    "duration": 233,
    "start_time": "2023-09-25T12:38:11.598Z"
   },
   {
    "duration": 345,
    "start_time": "2023-09-25T12:38:11.834Z"
   },
   {
    "duration": 17,
    "start_time": "2023-09-25T12:38:12.181Z"
   },
   {
    "duration": 326,
    "start_time": "2023-09-25T12:38:12.200Z"
   },
   {
    "duration": 4,
    "start_time": "2023-09-25T12:38:12.528Z"
   },
   {
    "duration": 456,
    "start_time": "2023-09-25T12:38:12.535Z"
   },
   {
    "duration": 505,
    "start_time": "2023-09-25T12:38:12.995Z"
   },
   {
    "duration": 118,
    "start_time": "2023-09-25T12:39:00.688Z"
   },
   {
    "duration": 16,
    "start_time": "2023-09-25T12:39:14.587Z"
   },
   {
    "duration": 4,
    "start_time": "2023-09-25T12:39:21.285Z"
   },
   {
    "duration": 27,
    "start_time": "2023-09-25T12:40:08.642Z"
   },
   {
    "duration": 16,
    "start_time": "2023-09-25T12:40:45.675Z"
   },
   {
    "duration": 12,
    "start_time": "2023-09-25T12:41:01.821Z"
   },
   {
    "duration": 12,
    "start_time": "2023-09-25T12:41:21.093Z"
   },
   {
    "duration": 1436,
    "start_time": "2023-09-25T12:41:34.630Z"
   },
   {
    "duration": 64,
    "start_time": "2023-09-25T12:41:36.068Z"
   },
   {
    "duration": 4,
    "start_time": "2023-09-25T12:41:36.134Z"
   },
   {
    "duration": 31,
    "start_time": "2023-09-25T12:41:36.140Z"
   },
   {
    "duration": 23,
    "start_time": "2023-09-25T12:41:36.174Z"
   },
   {
    "duration": 62,
    "start_time": "2023-09-25T12:41:36.199Z"
   },
   {
    "duration": 45,
    "start_time": "2023-09-25T12:41:36.263Z"
   },
   {
    "duration": 4,
    "start_time": "2023-09-25T12:41:36.310Z"
   },
   {
    "duration": 33,
    "start_time": "2023-09-25T12:41:36.316Z"
   },
   {
    "duration": 36,
    "start_time": "2023-09-25T12:41:36.351Z"
   },
   {
    "duration": 5,
    "start_time": "2023-09-25T12:41:36.389Z"
   },
   {
    "duration": 13,
    "start_time": "2023-09-25T12:41:36.395Z"
   },
   {
    "duration": 36,
    "start_time": "2023-09-25T12:41:36.410Z"
   },
   {
    "duration": 9,
    "start_time": "2023-09-25T12:41:36.449Z"
   },
   {
    "duration": 11,
    "start_time": "2023-09-25T12:41:36.460Z"
   },
   {
    "duration": 31,
    "start_time": "2023-09-25T12:41:36.473Z"
   },
   {
    "duration": 8,
    "start_time": "2023-09-25T12:41:36.506Z"
   },
   {
    "duration": 35,
    "start_time": "2023-09-25T12:41:36.516Z"
   },
   {
    "duration": 10,
    "start_time": "2023-09-25T12:41:36.553Z"
   },
   {
    "duration": 55,
    "start_time": "2023-09-25T12:41:36.565Z"
   },
   {
    "duration": 7,
    "start_time": "2023-09-25T12:41:36.622Z"
   },
   {
    "duration": 210,
    "start_time": "2023-09-25T12:41:36.631Z"
   },
   {
    "duration": 372,
    "start_time": "2023-09-25T12:41:36.843Z"
   },
   {
    "duration": 18,
    "start_time": "2023-09-25T12:41:37.218Z"
   },
   {
    "duration": 336,
    "start_time": "2023-09-25T12:41:37.238Z"
   },
   {
    "duration": 12,
    "start_time": "2023-09-25T12:41:37.576Z"
   },
   {
    "duration": 432,
    "start_time": "2023-09-25T12:41:37.590Z"
   },
   {
    "duration": 526,
    "start_time": "2023-09-25T12:41:38.024Z"
   },
   {
    "duration": 18,
    "start_time": "2023-09-25T12:41:46.311Z"
   },
   {
    "duration": 112,
    "start_time": "2023-09-25T12:42:40.218Z"
   },
   {
    "duration": 106,
    "start_time": "2023-09-25T12:42:55.128Z"
   },
   {
    "duration": 96,
    "start_time": "2023-09-25T12:45:41.835Z"
   },
   {
    "duration": 92,
    "start_time": "2023-09-25T12:45:58.863Z"
   },
   {
    "duration": 24,
    "start_time": "2023-09-25T12:46:20.554Z"
   },
   {
    "duration": 1642,
    "start_time": "2023-09-25T12:48:09.518Z"
   },
   {
    "duration": 41,
    "start_time": "2023-09-25T12:48:33.785Z"
   },
   {
    "duration": 28,
    "start_time": "2023-09-25T12:49:06.624Z"
   },
   {
    "duration": 3,
    "start_time": "2023-09-25T12:50:42.121Z"
   },
   {
    "duration": 4,
    "start_time": "2023-09-25T12:50:47.961Z"
   },
   {
    "duration": 16,
    "start_time": "2023-09-25T12:52:23.377Z"
   },
   {
    "duration": 23,
    "start_time": "2023-09-25T12:52:26.933Z"
   },
   {
    "duration": 12,
    "start_time": "2023-09-25T12:52:27.806Z"
   },
   {
    "duration": 12,
    "start_time": "2023-09-25T12:52:42.912Z"
   },
   {
    "duration": 12,
    "start_time": "2023-09-25T12:53:08.628Z"
   },
   {
    "duration": 9,
    "start_time": "2023-09-25T12:53:50.032Z"
   },
   {
    "duration": 40,
    "start_time": "2023-09-25T12:56:41.260Z"
   },
   {
    "duration": 13,
    "start_time": "2023-09-25T12:57:00.984Z"
   },
   {
    "duration": 20,
    "start_time": "2023-09-25T12:57:09.233Z"
   },
   {
    "duration": 7,
    "start_time": "2023-09-25T12:57:09.439Z"
   },
   {
    "duration": 1367,
    "start_time": "2023-09-25T12:57:21.241Z"
   },
   {
    "duration": 66,
    "start_time": "2023-09-25T12:57:22.610Z"
   },
   {
    "duration": 5,
    "start_time": "2023-09-25T12:57:22.679Z"
   },
   {
    "duration": 36,
    "start_time": "2023-09-25T12:57:22.686Z"
   },
   {
    "duration": 20,
    "start_time": "2023-09-25T12:57:22.724Z"
   },
   {
    "duration": 43,
    "start_time": "2023-09-25T12:57:22.746Z"
   },
   {
    "duration": 19,
    "start_time": "2023-09-25T12:57:22.791Z"
   },
   {
    "duration": 13,
    "start_time": "2023-09-25T12:57:22.812Z"
   },
   {
    "duration": 55,
    "start_time": "2023-09-25T12:57:22.828Z"
   },
   {
    "duration": 23,
    "start_time": "2023-09-25T12:57:22.891Z"
   },
   {
    "duration": 6,
    "start_time": "2023-09-25T12:57:22.916Z"
   },
   {
    "duration": 25,
    "start_time": "2023-09-25T12:57:22.924Z"
   },
   {
    "duration": 34,
    "start_time": "2023-09-25T12:57:22.951Z"
   },
   {
    "duration": 31,
    "start_time": "2023-09-25T12:57:22.987Z"
   },
   {
    "duration": 14,
    "start_time": "2023-09-25T12:57:23.020Z"
   },
   {
    "duration": 30,
    "start_time": "2023-09-25T12:57:23.036Z"
   },
   {
    "duration": 37,
    "start_time": "2023-09-25T12:57:23.068Z"
   },
   {
    "duration": 56,
    "start_time": "2023-09-25T12:57:23.107Z"
   },
   {
    "duration": 4,
    "start_time": "2023-09-25T12:57:23.164Z"
   },
   {
    "duration": 47,
    "start_time": "2023-09-25T12:57:23.170Z"
   },
   {
    "duration": 8,
    "start_time": "2023-09-25T12:57:23.218Z"
   },
   {
    "duration": 248,
    "start_time": "2023-09-25T12:57:23.228Z"
   },
   {
    "duration": 359,
    "start_time": "2023-09-25T12:57:23.478Z"
   },
   {
    "duration": 31,
    "start_time": "2023-09-25T12:57:23.839Z"
   },
   {
    "duration": 330,
    "start_time": "2023-09-25T12:57:23.872Z"
   },
   {
    "duration": 22,
    "start_time": "2023-09-25T12:57:24.203Z"
   },
   {
    "duration": 7,
    "start_time": "2023-09-25T12:57:24.226Z"
   },
   {
    "duration": 11,
    "start_time": "2023-09-25T12:57:24.258Z"
   },
   {
    "duration": 149,
    "start_time": "2023-09-25T12:57:24.271Z"
   },
   {
    "duration": 0,
    "start_time": "2023-09-25T12:57:24.422Z"
   },
   {
    "duration": 0,
    "start_time": "2023-09-25T12:57:24.424Z"
   },
   {
    "duration": 11,
    "start_time": "2023-09-25T12:58:09.445Z"
   },
   {
    "duration": 6,
    "start_time": "2023-09-25T13:00:24.442Z"
   },
   {
    "duration": 103,
    "start_time": "2023-09-25T13:02:08.297Z"
   },
   {
    "duration": 397,
    "start_time": "2023-09-25T13:02:14.308Z"
   },
   {
    "duration": 20,
    "start_time": "2023-09-25T13:02:35.590Z"
   },
   {
    "duration": 20,
    "start_time": "2023-09-25T13:02:58.836Z"
   },
   {
    "duration": 518,
    "start_time": "2023-09-25T13:03:02.713Z"
   },
   {
    "duration": 1519,
    "start_time": "2023-09-25T13:03:33.658Z"
   },
   {
    "duration": 437,
    "start_time": "2023-09-25T13:03:42.892Z"
   },
   {
    "duration": 421,
    "start_time": "2023-09-25T13:06:00.783Z"
   },
   {
    "duration": 39,
    "start_time": "2023-09-25T13:10:28.872Z"
   },
   {
    "duration": 397,
    "start_time": "2023-09-25T13:10:32.782Z"
   },
   {
    "duration": 113,
    "start_time": "2023-09-25T13:10:40.668Z"
   },
   {
    "duration": 28,
    "start_time": "2023-09-25T13:11:03.902Z"
   },
   {
    "duration": 24,
    "start_time": "2023-09-25T13:11:13.945Z"
   },
   {
    "duration": 420,
    "start_time": "2023-09-25T13:11:28.516Z"
   },
   {
    "duration": 9,
    "start_time": "2023-09-26T09:47:27.221Z"
   },
   {
    "duration": 46,
    "start_time": "2023-09-26T09:47:44.692Z"
   },
   {
    "duration": 7,
    "start_time": "2023-09-26T09:48:26.747Z"
   },
   {
    "duration": 1355,
    "start_time": "2023-09-26T09:48:37.105Z"
   },
   {
    "duration": 112,
    "start_time": "2023-09-26T09:48:38.461Z"
   },
   {
    "duration": 5,
    "start_time": "2023-09-26T09:48:38.574Z"
   },
   {
    "duration": 25,
    "start_time": "2023-09-26T09:48:38.581Z"
   },
   {
    "duration": 20,
    "start_time": "2023-09-26T09:48:38.609Z"
   },
   {
    "duration": 61,
    "start_time": "2023-09-26T09:48:38.631Z"
   },
   {
    "duration": 15,
    "start_time": "2023-09-26T09:48:38.694Z"
   },
   {
    "duration": 16,
    "start_time": "2023-09-26T09:48:38.711Z"
   },
   {
    "duration": 40,
    "start_time": "2023-09-26T09:48:38.729Z"
   },
   {
    "duration": 44,
    "start_time": "2023-09-26T09:48:38.771Z"
   },
   {
    "duration": 4,
    "start_time": "2023-09-26T09:48:38.816Z"
   },
   {
    "duration": 27,
    "start_time": "2023-09-26T09:48:38.822Z"
   },
   {
    "duration": 33,
    "start_time": "2023-09-26T09:48:38.851Z"
   },
   {
    "duration": 19,
    "start_time": "2023-09-26T09:48:38.886Z"
   },
   {
    "duration": 56,
    "start_time": "2023-09-26T09:48:38.906Z"
   },
   {
    "duration": 22,
    "start_time": "2023-09-26T09:48:38.964Z"
   },
   {
    "duration": 20,
    "start_time": "2023-09-26T09:48:38.988Z"
   },
   {
    "duration": 42,
    "start_time": "2023-09-26T09:48:39.010Z"
   },
   {
    "duration": 3,
    "start_time": "2023-09-26T09:48:39.054Z"
   },
   {
    "duration": 35,
    "start_time": "2023-09-26T09:48:39.059Z"
   },
   {
    "duration": 20,
    "start_time": "2023-09-26T09:48:39.096Z"
   },
   {
    "duration": 189,
    "start_time": "2023-09-26T09:48:39.118Z"
   },
   {
    "duration": 294,
    "start_time": "2023-09-26T09:48:39.309Z"
   },
   {
    "duration": 14,
    "start_time": "2023-09-26T09:48:39.605Z"
   },
   {
    "duration": 358,
    "start_time": "2023-09-26T09:48:39.620Z"
   },
   {
    "duration": 19,
    "start_time": "2023-09-26T09:48:39.980Z"
   },
   {
    "duration": 41,
    "start_time": "2023-09-26T09:48:40.000Z"
   },
   {
    "duration": 87,
    "start_time": "2023-09-26T09:48:40.044Z"
   },
   {
    "duration": 0,
    "start_time": "2023-09-26T09:48:40.132Z"
   },
   {
    "duration": 0,
    "start_time": "2023-09-26T09:48:40.133Z"
   },
   {
    "duration": 0,
    "start_time": "2023-09-26T09:48:40.135Z"
   },
   {
    "duration": 0,
    "start_time": "2023-09-26T09:48:40.136Z"
   },
   {
    "duration": 0,
    "start_time": "2023-09-26T09:48:40.137Z"
   },
   {
    "duration": 4,
    "start_time": "2023-09-26T09:49:05.385Z"
   },
   {
    "duration": 71,
    "start_time": "2023-09-26T09:49:05.391Z"
   },
   {
    "duration": 4,
    "start_time": "2023-09-26T09:49:05.464Z"
   },
   {
    "duration": 52,
    "start_time": "2023-09-26T09:49:05.471Z"
   },
   {
    "duration": 9,
    "start_time": "2023-09-26T09:49:05.526Z"
   },
   {
    "duration": 24,
    "start_time": "2023-09-26T09:49:05.537Z"
   },
   {
    "duration": 17,
    "start_time": "2023-09-26T09:49:05.563Z"
   },
   {
    "duration": 10,
    "start_time": "2023-09-26T09:49:05.581Z"
   },
   {
    "duration": 22,
    "start_time": "2023-09-26T09:49:05.592Z"
   },
   {
    "duration": 19,
    "start_time": "2023-09-26T09:49:05.617Z"
   },
   {
    "duration": 3,
    "start_time": "2023-09-26T09:49:05.638Z"
   },
   {
    "duration": 33,
    "start_time": "2023-09-26T09:49:05.642Z"
   },
   {
    "duration": 7,
    "start_time": "2023-09-26T09:49:05.677Z"
   },
   {
    "duration": 19,
    "start_time": "2023-09-26T09:49:05.685Z"
   },
   {
    "duration": 5,
    "start_time": "2023-09-26T09:49:05.706Z"
   },
   {
    "duration": 16,
    "start_time": "2023-09-26T09:49:05.712Z"
   },
   {
    "duration": 4,
    "start_time": "2023-09-26T09:49:05.730Z"
   },
   {
    "duration": 27,
    "start_time": "2023-09-26T09:49:05.735Z"
   },
   {
    "duration": 6,
    "start_time": "2023-09-26T09:49:05.764Z"
   },
   {
    "duration": 45,
    "start_time": "2023-09-26T09:49:05.771Z"
   },
   {
    "duration": 6,
    "start_time": "2023-09-26T09:49:05.818Z"
   },
   {
    "duration": 219,
    "start_time": "2023-09-26T09:49:05.826Z"
   },
   {
    "duration": 436,
    "start_time": "2023-09-26T09:49:06.047Z"
   },
   {
    "duration": 20,
    "start_time": "2023-09-26T09:49:06.485Z"
   },
   {
    "duration": 284,
    "start_time": "2023-09-26T09:49:06.507Z"
   },
   {
    "duration": 15,
    "start_time": "2023-09-26T09:49:06.793Z"
   },
   {
    "duration": 5,
    "start_time": "2023-09-26T09:49:06.810Z"
   },
   {
    "duration": 6,
    "start_time": "2023-09-26T09:49:12.548Z"
   },
   {
    "duration": 8,
    "start_time": "2023-09-26T09:49:13.461Z"
   },
   {
    "duration": 348,
    "start_time": "2023-09-26T09:49:15.671Z"
   },
   {
    "duration": 321,
    "start_time": "2023-09-26T09:49:17.012Z"
   },
   {
    "duration": 6,
    "start_time": "2023-09-26T09:49:17.383Z"
   },
   {
    "duration": 159,
    "start_time": "2023-09-26T09:49:17.580Z"
   },
   {
    "duration": 175,
    "start_time": "2023-09-26T09:49:49.928Z"
   },
   {
    "duration": 36,
    "start_time": "2023-09-26T09:50:38.603Z"
   },
   {
    "duration": 61,
    "start_time": "2023-09-26T09:51:25.669Z"
   },
   {
    "duration": 1204,
    "start_time": "2023-09-26T09:57:47.124Z"
   },
   {
    "duration": 56,
    "start_time": "2023-09-26T09:57:48.330Z"
   },
   {
    "duration": 5,
    "start_time": "2023-09-26T09:57:48.387Z"
   },
   {
    "duration": 38,
    "start_time": "2023-09-26T09:57:48.394Z"
   },
   {
    "duration": 11,
    "start_time": "2023-09-26T09:57:48.434Z"
   },
   {
    "duration": 25,
    "start_time": "2023-09-26T09:57:48.447Z"
   },
   {
    "duration": 19,
    "start_time": "2023-09-26T09:57:48.475Z"
   },
   {
    "duration": 2,
    "start_time": "2023-09-26T09:57:48.497Z"
   },
   {
    "duration": 43,
    "start_time": "2023-09-26T09:57:48.501Z"
   },
   {
    "duration": 29,
    "start_time": "2023-09-26T09:57:48.548Z"
   },
   {
    "duration": 4,
    "start_time": "2023-09-26T09:57:48.578Z"
   },
   {
    "duration": 12,
    "start_time": "2023-09-26T09:57:48.584Z"
   },
   {
    "duration": 3,
    "start_time": "2023-09-26T09:57:48.598Z"
   },
   {
    "duration": 23,
    "start_time": "2023-09-26T09:57:48.603Z"
   },
   {
    "duration": 8,
    "start_time": "2023-09-26T09:57:48.629Z"
   },
   {
    "duration": 13,
    "start_time": "2023-09-26T09:57:48.639Z"
   },
   {
    "duration": 10,
    "start_time": "2023-09-26T09:57:48.654Z"
   },
   {
    "duration": 33,
    "start_time": "2023-09-26T09:57:48.666Z"
   },
   {
    "duration": 3,
    "start_time": "2023-09-26T09:57:48.700Z"
   },
   {
    "duration": 37,
    "start_time": "2023-09-26T09:57:48.705Z"
   },
   {
    "duration": 11,
    "start_time": "2023-09-26T09:57:48.743Z"
   },
   {
    "duration": 179,
    "start_time": "2023-09-26T09:57:48.755Z"
   },
   {
    "duration": 309,
    "start_time": "2023-09-26T09:57:48.936Z"
   },
   {
    "duration": 20,
    "start_time": "2023-09-26T09:57:49.249Z"
   },
   {
    "duration": 341,
    "start_time": "2023-09-26T09:57:49.271Z"
   },
   {
    "duration": 18,
    "start_time": "2023-09-26T09:57:49.614Z"
   },
   {
    "duration": 16,
    "start_time": "2023-09-26T09:57:49.634Z"
   },
   {
    "duration": 17,
    "start_time": "2023-09-26T09:57:49.653Z"
   },
   {
    "duration": 12,
    "start_time": "2023-09-26T09:57:49.671Z"
   },
   {
    "duration": 184,
    "start_time": "2023-09-26T09:57:49.685Z"
   },
   {
    "duration": 238,
    "start_time": "2023-09-26T09:57:49.871Z"
   },
   {
    "duration": 196590,
    "start_time": "2023-09-26T10:01:37.136Z"
   },
   {
    "duration": 54016,
    "start_time": "2023-09-26T10:05:40.477Z"
   },
   {
    "duration": 57595,
    "start_time": "2023-09-26T10:08:51.875Z"
   },
   {
    "duration": 15,
    "start_time": "2023-09-26T10:15:50.711Z"
   },
   {
    "duration": 18,
    "start_time": "2023-09-26T10:16:03.812Z"
   },
   {
    "duration": 5893,
    "start_time": "2023-09-26T10:16:16.021Z"
   },
   {
    "duration": 85,
    "start_time": "2023-09-26T10:16:49.218Z"
   },
   {
    "duration": 191,
    "start_time": "2023-09-26T10:16:56.901Z"
   },
   {
    "duration": 200,
    "start_time": "2023-09-26T10:17:12.369Z"
   },
   {
    "duration": 92,
    "start_time": "2023-09-26T10:20:48.181Z"
   },
   {
    "duration": 9,
    "start_time": "2023-09-26T10:21:18.928Z"
   },
   {
    "duration": 12,
    "start_time": "2023-09-26T10:26:45.493Z"
   },
   {
    "duration": 19,
    "start_time": "2023-09-26T10:26:52.517Z"
   },
   {
    "duration": 25,
    "start_time": "2023-09-26T10:27:10.795Z"
   },
   {
    "duration": 10,
    "start_time": "2023-09-26T10:34:55.039Z"
   },
   {
    "duration": 150,
    "start_time": "2023-09-26T10:35:04.407Z"
   },
   {
    "duration": 14,
    "start_time": "2023-09-26T10:35:10.884Z"
   },
   {
    "duration": 17,
    "start_time": "2023-09-26T10:35:16.134Z"
   },
   {
    "duration": 11,
    "start_time": "2023-09-26T10:35:39.858Z"
   },
   {
    "duration": 26,
    "start_time": "2023-09-26T10:35:46.335Z"
   },
   {
    "duration": 24,
    "start_time": "2023-09-26T10:37:11.403Z"
   },
   {
    "duration": 1303,
    "start_time": "2023-09-26T10:38:22.907Z"
   },
   {
    "duration": 54,
    "start_time": "2023-09-26T10:38:24.212Z"
   },
   {
    "duration": 5,
    "start_time": "2023-09-26T10:38:24.268Z"
   },
   {
    "duration": 37,
    "start_time": "2023-09-26T10:38:24.275Z"
   },
   {
    "duration": 30,
    "start_time": "2023-09-26T10:38:24.314Z"
   },
   {
    "duration": 24,
    "start_time": "2023-09-26T10:38:24.346Z"
   },
   {
    "duration": 32,
    "start_time": "2023-09-26T10:38:24.372Z"
   },
   {
    "duration": 27,
    "start_time": "2023-09-26T10:38:24.406Z"
   },
   {
    "duration": 19,
    "start_time": "2023-09-26T10:38:24.434Z"
   },
   {
    "duration": 47,
    "start_time": "2023-09-26T10:38:24.456Z"
   },
   {
    "duration": 4,
    "start_time": "2023-09-26T10:38:24.504Z"
   },
   {
    "duration": 50,
    "start_time": "2023-09-26T10:38:24.509Z"
   },
   {
    "duration": 45,
    "start_time": "2023-09-26T10:38:24.561Z"
   },
   {
    "duration": 48,
    "start_time": "2023-09-26T10:38:24.608Z"
   },
   {
    "duration": 27,
    "start_time": "2023-09-26T10:38:24.658Z"
   },
   {
    "duration": 28,
    "start_time": "2023-09-26T10:38:24.686Z"
   },
   {
    "duration": 15,
    "start_time": "2023-09-26T10:38:24.716Z"
   },
   {
    "duration": 54,
    "start_time": "2023-09-26T10:38:24.733Z"
   },
   {
    "duration": 12,
    "start_time": "2023-09-26T10:38:24.789Z"
   },
   {
    "duration": 67,
    "start_time": "2023-09-26T10:38:24.802Z"
   },
   {
    "duration": 6,
    "start_time": "2023-09-26T10:38:24.871Z"
   },
   {
    "duration": 183,
    "start_time": "2023-09-26T10:38:24.879Z"
   },
   {
    "duration": 301,
    "start_time": "2023-09-26T10:38:25.064Z"
   },
   {
    "duration": 15,
    "start_time": "2023-09-26T10:38:25.367Z"
   },
   {
    "duration": 172,
    "start_time": "2023-09-26T10:38:25.384Z"
   },
   {
    "duration": 23,
    "start_time": "2023-09-26T10:38:25.557Z"
   },
   {
    "duration": 6,
    "start_time": "2023-09-26T10:38:25.582Z"
   },
   {
    "duration": 34,
    "start_time": "2023-09-26T10:38:25.592Z"
   },
   {
    "duration": 125,
    "start_time": "2023-09-26T10:38:25.628Z"
   },
   {
    "duration": 28,
    "start_time": "2023-09-26T10:38:34.072Z"
   },
   {
    "duration": 28,
    "start_time": "2023-09-26T10:38:56.502Z"
   },
   {
    "duration": 26,
    "start_time": "2023-09-26T10:39:03.243Z"
   },
   {
    "duration": 33,
    "start_time": "2023-09-26T10:40:03.222Z"
   },
   {
    "duration": 3835,
    "start_time": "2023-09-26T10:40:17.551Z"
   },
   {
    "duration": 2179,
    "start_time": "2023-09-26T10:40:52.247Z"
   },
   {
    "duration": 19,
    "start_time": "2023-09-26T10:41:33.097Z"
   },
   {
    "duration": 1651,
    "start_time": "2023-09-26T10:41:53.255Z"
   },
   {
    "duration": 21,
    "start_time": "2023-09-26T10:42:45.240Z"
   },
   {
    "duration": 21,
    "start_time": "2023-09-26T10:42:49.064Z"
   },
   {
    "duration": 14,
    "start_time": "2023-09-26T10:42:55.368Z"
   },
   {
    "duration": 21,
    "start_time": "2023-09-26T10:43:17.728Z"
   },
   {
    "duration": 19,
    "start_time": "2023-09-26T10:43:26.357Z"
   },
   {
    "duration": 18,
    "start_time": "2023-09-26T10:43:39.238Z"
   },
   {
    "duration": 14,
    "start_time": "2023-09-26T10:43:46.370Z"
   },
   {
    "duration": 13,
    "start_time": "2023-09-26T10:43:55.565Z"
   },
   {
    "duration": 14,
    "start_time": "2023-09-26T10:44:17.538Z"
   },
   {
    "duration": 15,
    "start_time": "2023-09-26T10:45:04.575Z"
   },
   {
    "duration": 3,
    "start_time": "2023-09-26T10:45:17.929Z"
   },
   {
    "duration": 5,
    "start_time": "2023-09-26T10:45:24.161Z"
   },
   {
    "duration": 216,
    "start_time": "2023-09-26T10:45:45.361Z"
   },
   {
    "duration": 214,
    "start_time": "2023-09-26T10:46:01.089Z"
   },
   {
    "duration": 16,
    "start_time": "2023-09-26T10:46:44.505Z"
   },
   {
    "duration": 1169,
    "start_time": "2023-09-26T10:47:56.774Z"
   },
   {
    "duration": 788,
    "start_time": "2023-09-26T10:53:16.236Z"
   },
   {
    "duration": 28,
    "start_time": "2023-09-26T10:53:56.297Z"
   },
   {
    "duration": 114,
    "start_time": "2023-09-26T10:54:31.266Z"
   },
   {
    "duration": 269,
    "start_time": "2023-09-26T10:54:42.845Z"
   },
   {
    "duration": 242,
    "start_time": "2023-09-26T10:54:53.889Z"
   },
   {
    "duration": 202,
    "start_time": "2023-09-26T10:55:16.519Z"
   },
   {
    "duration": 34,
    "start_time": "2023-09-26T10:56:23.105Z"
   },
   {
    "duration": 34,
    "start_time": "2023-09-26T10:56:31.579Z"
   },
   {
    "duration": 32,
    "start_time": "2023-09-26T10:56:38.596Z"
   },
   {
    "duration": 42,
    "start_time": "2023-09-26T10:56:42.353Z"
   },
   {
    "duration": 32,
    "start_time": "2023-09-26T10:56:53.707Z"
   },
   {
    "duration": 43,
    "start_time": "2023-09-26T10:57:00.835Z"
   },
   {
    "duration": 59,
    "start_time": "2023-09-26T10:57:16.149Z"
   },
   {
    "duration": 35,
    "start_time": "2023-09-26T10:57:30.575Z"
   },
   {
    "duration": 48,
    "start_time": "2023-09-26T10:59:27.624Z"
   },
   {
    "duration": 35,
    "start_time": "2023-09-26T10:59:33.476Z"
   },
   {
    "duration": 135,
    "start_time": "2023-09-26T10:59:43.373Z"
   },
   {
    "duration": 179,
    "start_time": "2023-09-26T10:59:56.841Z"
   },
   {
    "duration": 611,
    "start_time": "2023-09-26T11:00:03.592Z"
   },
   {
    "duration": 82,
    "start_time": "2023-09-26T11:00:08.880Z"
   },
   {
    "duration": 29,
    "start_time": "2023-09-26T11:00:25.285Z"
   },
   {
    "duration": 39,
    "start_time": "2023-09-26T11:00:39.969Z"
   },
   {
    "duration": 30,
    "start_time": "2023-09-26T11:01:09.679Z"
   },
   {
    "duration": 30,
    "start_time": "2023-09-26T11:02:23.710Z"
   },
   {
    "duration": 1555,
    "start_time": "2023-09-26T11:02:34.376Z"
   },
   {
    "duration": 86,
    "start_time": "2023-09-26T11:02:35.933Z"
   },
   {
    "duration": 5,
    "start_time": "2023-09-26T11:02:36.022Z"
   },
   {
    "duration": 67,
    "start_time": "2023-09-26T11:02:36.030Z"
   },
   {
    "duration": 35,
    "start_time": "2023-09-26T11:02:36.099Z"
   },
   {
    "duration": 36,
    "start_time": "2023-09-26T11:02:36.136Z"
   },
   {
    "duration": 25,
    "start_time": "2023-09-26T11:02:36.174Z"
   },
   {
    "duration": 3,
    "start_time": "2023-09-26T11:02:36.201Z"
   },
   {
    "duration": 24,
    "start_time": "2023-09-26T11:02:36.205Z"
   },
   {
    "duration": 46,
    "start_time": "2023-09-26T11:02:36.231Z"
   },
   {
    "duration": 17,
    "start_time": "2023-09-26T11:02:36.279Z"
   },
   {
    "duration": 18,
    "start_time": "2023-09-26T11:02:36.298Z"
   },
   {
    "duration": 5,
    "start_time": "2023-09-26T11:02:36.317Z"
   },
   {
    "duration": 24,
    "start_time": "2023-09-26T11:02:36.324Z"
   },
   {
    "duration": 33,
    "start_time": "2023-09-26T11:02:36.355Z"
   },
   {
    "duration": 11,
    "start_time": "2023-09-26T11:02:36.391Z"
   },
   {
    "duration": 14,
    "start_time": "2023-09-26T11:02:36.406Z"
   },
   {
    "duration": 41,
    "start_time": "2023-09-26T11:02:36.423Z"
   },
   {
    "duration": 6,
    "start_time": "2023-09-26T11:02:36.467Z"
   },
   {
    "duration": 41,
    "start_time": "2023-09-26T11:02:36.477Z"
   },
   {
    "duration": 6,
    "start_time": "2023-09-26T11:02:36.520Z"
   },
   {
    "duration": 208,
    "start_time": "2023-09-26T11:02:36.527Z"
   },
   {
    "duration": 349,
    "start_time": "2023-09-26T11:02:36.737Z"
   },
   {
    "duration": 16,
    "start_time": "2023-09-26T11:02:37.088Z"
   },
   {
    "duration": 183,
    "start_time": "2023-09-26T11:02:37.105Z"
   },
   {
    "duration": 325,
    "start_time": "2023-09-26T11:02:37.289Z"
   },
   {
    "duration": 19,
    "start_time": "2023-09-26T11:02:37.615Z"
   },
   {
    "duration": 33,
    "start_time": "2023-09-26T11:02:37.635Z"
   },
   {
    "duration": 16,
    "start_time": "2023-09-26T11:02:37.670Z"
   },
   {
    "duration": 1358,
    "start_time": "2023-09-26T11:02:37.688Z"
   },
   {
    "duration": 260,
    "start_time": "2023-09-26T11:02:39.049Z"
   },
   {
    "duration": 240,
    "start_time": "2023-09-26T11:02:56.648Z"
   },
   {
    "duration": 203,
    "start_time": "2023-09-26T11:04:40.633Z"
   },
   {
    "duration": 290,
    "start_time": "2023-09-26T11:06:21.218Z"
   },
   {
    "duration": 211,
    "start_time": "2023-09-26T11:12:05.290Z"
   },
   {
    "duration": 192,
    "start_time": "2023-09-26T11:13:52.700Z"
   },
   {
    "duration": 444,
    "start_time": "2023-09-26T11:14:23.324Z"
   },
   {
    "duration": 295,
    "start_time": "2023-09-26T11:14:34.820Z"
   },
   {
    "duration": 274,
    "start_time": "2023-09-26T11:14:41.506Z"
   },
   {
    "duration": 297,
    "start_time": "2023-09-26T11:17:05.349Z"
   },
   {
    "duration": 374,
    "start_time": "2023-09-26T11:17:09.842Z"
   },
   {
    "duration": 290,
    "start_time": "2023-09-26T11:18:25.021Z"
   },
   {
    "duration": 448,
    "start_time": "2023-09-26T11:20:16.042Z"
   },
   {
    "duration": 292,
    "start_time": "2023-09-26T11:20:42.745Z"
   },
   {
    "duration": 288,
    "start_time": "2023-09-26T11:25:28.727Z"
   },
   {
    "duration": 292,
    "start_time": "2023-09-26T11:25:39.476Z"
   },
   {
    "duration": 14,
    "start_time": "2023-09-26T11:26:43.074Z"
   },
   {
    "duration": 34,
    "start_time": "2023-09-26T11:26:53.166Z"
   },
   {
    "duration": 19,
    "start_time": "2023-09-26T11:27:22.989Z"
   },
   {
    "duration": 22,
    "start_time": "2023-09-26T11:27:28.077Z"
   },
   {
    "duration": 26,
    "start_time": "2023-09-26T11:27:50.838Z"
   },
   {
    "duration": 24,
    "start_time": "2023-09-26T11:28:00.042Z"
   },
   {
    "duration": 4,
    "start_time": "2023-09-26T11:28:27.015Z"
   },
   {
    "duration": 25,
    "start_time": "2023-09-26T11:28:29.618Z"
   },
   {
    "duration": 25,
    "start_time": "2023-09-26T11:28:57.592Z"
   },
   {
    "duration": 21,
    "start_time": "2023-09-26T11:29:09.103Z"
   },
   {
    "duration": 20,
    "start_time": "2023-09-26T11:29:13.020Z"
   },
   {
    "duration": 18,
    "start_time": "2023-09-26T11:29:23.931Z"
   },
   {
    "duration": 18,
    "start_time": "2023-09-26T11:29:38.210Z"
   },
   {
    "duration": 20,
    "start_time": "2023-09-26T11:29:49.261Z"
   },
   {
    "duration": 18,
    "start_time": "2023-09-26T11:29:54.927Z"
   },
   {
    "duration": 17,
    "start_time": "2023-09-26T11:29:59.782Z"
   },
   {
    "duration": 272,
    "start_time": "2023-09-26T11:30:25.669Z"
   },
   {
    "duration": 27,
    "start_time": "2023-09-26T11:31:47.050Z"
   },
   {
    "duration": 23,
    "start_time": "2023-09-26T11:35:47.492Z"
   },
   {
    "duration": 34,
    "start_time": "2023-09-26T11:36:08.109Z"
   },
   {
    "duration": 22,
    "start_time": "2023-09-26T11:36:12.102Z"
   },
   {
    "duration": 17,
    "start_time": "2023-09-26T11:36:18.925Z"
   },
   {
    "duration": 11,
    "start_time": "2023-09-26T11:38:16.307Z"
   },
   {
    "duration": 11,
    "start_time": "2023-09-26T11:38:23.625Z"
   },
   {
    "duration": 17,
    "start_time": "2023-09-26T11:38:41.371Z"
   },
   {
    "duration": 18,
    "start_time": "2023-09-26T11:38:58.240Z"
   },
   {
    "duration": 15,
    "start_time": "2023-09-26T11:39:12.422Z"
   },
   {
    "duration": 10,
    "start_time": "2023-09-26T11:40:45.499Z"
   },
   {
    "duration": 11,
    "start_time": "2023-09-26T11:41:32.108Z"
   },
   {
    "duration": 2378,
    "start_time": "2023-09-26T11:43:33.036Z"
   },
   {
    "duration": 12,
    "start_time": "2023-09-26T11:45:15.414Z"
   },
   {
    "duration": 11,
    "start_time": "2023-09-26T11:45:24.865Z"
   },
   {
    "duration": 11,
    "start_time": "2023-09-26T11:45:35.935Z"
   },
   {
    "duration": 9,
    "start_time": "2023-09-26T11:45:54.205Z"
   },
   {
    "duration": 1350,
    "start_time": "2023-09-26T11:46:04.793Z"
   },
   {
    "duration": 75,
    "start_time": "2023-09-26T11:46:06.146Z"
   },
   {
    "duration": 5,
    "start_time": "2023-09-26T11:46:06.223Z"
   },
   {
    "duration": 44,
    "start_time": "2023-09-26T11:46:06.230Z"
   },
   {
    "duration": 30,
    "start_time": "2023-09-26T11:46:06.276Z"
   },
   {
    "duration": 54,
    "start_time": "2023-09-26T11:46:06.311Z"
   },
   {
    "duration": 33,
    "start_time": "2023-09-26T11:46:06.367Z"
   },
   {
    "duration": 3,
    "start_time": "2023-09-26T11:46:06.402Z"
   },
   {
    "duration": 65,
    "start_time": "2023-09-26T11:46:06.408Z"
   },
   {
    "duration": 38,
    "start_time": "2023-09-26T11:46:06.476Z"
   },
   {
    "duration": 5,
    "start_time": "2023-09-26T11:46:06.516Z"
   },
   {
    "duration": 15,
    "start_time": "2023-09-26T11:46:06.523Z"
   },
   {
    "duration": 6,
    "start_time": "2023-09-26T11:46:06.540Z"
   },
   {
    "duration": 34,
    "start_time": "2023-09-26T11:46:06.548Z"
   },
   {
    "duration": 6,
    "start_time": "2023-09-26T11:46:06.584Z"
   },
   {
    "duration": 17,
    "start_time": "2023-09-26T11:46:06.591Z"
   },
   {
    "duration": 11,
    "start_time": "2023-09-26T11:46:06.609Z"
   },
   {
    "duration": 35,
    "start_time": "2023-09-26T11:46:06.622Z"
   },
   {
    "duration": 4,
    "start_time": "2023-09-26T11:46:06.659Z"
   },
   {
    "duration": 40,
    "start_time": "2023-09-26T11:46:06.666Z"
   },
   {
    "duration": 9,
    "start_time": "2023-09-26T11:46:06.708Z"
   },
   {
    "duration": 251,
    "start_time": "2023-09-26T11:46:06.719Z"
   },
   {
    "duration": 374,
    "start_time": "2023-09-26T11:46:06.973Z"
   },
   {
    "duration": 26,
    "start_time": "2023-09-26T11:46:07.349Z"
   },
   {
    "duration": 16,
    "start_time": "2023-09-26T11:46:07.377Z"
   },
   {
    "duration": 187,
    "start_time": "2023-09-26T11:46:07.396Z"
   },
   {
    "duration": 16,
    "start_time": "2023-09-26T11:46:07.584Z"
   },
   {
    "duration": 6,
    "start_time": "2023-09-26T11:46:07.603Z"
   },
   {
    "duration": 24,
    "start_time": "2023-09-26T11:46:07.610Z"
   },
   {
    "duration": 1289,
    "start_time": "2023-09-26T11:46:07.636Z"
   },
   {
    "duration": 213,
    "start_time": "2023-09-26T11:46:08.928Z"
   },
   {
    "duration": 293,
    "start_time": "2023-09-26T11:46:09.143Z"
   },
   {
    "duration": 30,
    "start_time": "2023-09-26T11:46:09.438Z"
   },
   {
    "duration": 26,
    "start_time": "2023-09-26T11:46:09.470Z"
   },
   {
    "duration": 128,
    "start_time": "2023-09-26T11:46:09.497Z"
   },
   {
    "duration": 19,
    "start_time": "2023-09-26T11:49:02.165Z"
   },
   {
    "duration": 25,
    "start_time": "2023-09-26T11:49:15.697Z"
   },
   {
    "duration": 13,
    "start_time": "2023-09-26T11:51:29.029Z"
   },
   {
    "duration": 23,
    "start_time": "2023-09-26T11:51:38.401Z"
   },
   {
    "duration": 22,
    "start_time": "2023-09-26T11:52:10.082Z"
   },
   {
    "duration": 346,
    "start_time": "2023-09-26T11:52:19.005Z"
   },
   {
    "duration": 304,
    "start_time": "2023-09-26T11:53:36.885Z"
   },
   {
    "duration": 371,
    "start_time": "2023-09-26T11:53:55.798Z"
   },
   {
    "duration": 408,
    "start_time": "2023-09-26T11:54:34.525Z"
   },
   {
    "duration": 211,
    "start_time": "2023-09-26T11:56:14.931Z"
   },
   {
    "duration": 56,
    "start_time": "2023-09-26T11:56:23.046Z"
   },
   {
    "duration": 36,
    "start_time": "2023-09-26T11:56:55.612Z"
   },
   {
    "duration": 25,
    "start_time": "2023-09-26T11:57:55.769Z"
   },
   {
    "duration": 22,
    "start_time": "2023-09-26T11:58:21.584Z"
   },
   {
    "duration": 30,
    "start_time": "2023-09-26T11:58:47.333Z"
   },
   {
    "duration": 231,
    "start_time": "2023-09-26T11:58:55.084Z"
   },
   {
    "duration": 22,
    "start_time": "2023-09-26T11:59:11.516Z"
   },
   {
    "duration": 282,
    "start_time": "2023-09-26T11:59:11.866Z"
   },
   {
    "duration": 27,
    "start_time": "2023-09-26T11:59:14.178Z"
   },
   {
    "duration": 232,
    "start_time": "2023-09-26T11:59:14.503Z"
   },
   {
    "duration": 232,
    "start_time": "2023-09-26T11:59:24.270Z"
   },
   {
    "duration": 224,
    "start_time": "2023-09-26T11:59:38.706Z"
   },
   {
    "duration": 240,
    "start_time": "2023-09-26T11:59:44.423Z"
   },
   {
    "duration": 41,
    "start_time": "2023-09-26T12:03:45.019Z"
   },
   {
    "duration": 466,
    "start_time": "2023-09-26T12:03:47.918Z"
   },
   {
    "duration": 11,
    "start_time": "2023-09-26T12:08:44.407Z"
   },
   {
    "duration": 49,
    "start_time": "2023-09-26T12:08:51.630Z"
   },
   {
    "duration": 15,
    "start_time": "2023-09-26T12:15:58.811Z"
   },
   {
    "duration": 8,
    "start_time": "2023-09-26T12:16:02.931Z"
   },
   {
    "duration": 171,
    "start_time": "2023-09-26T12:17:14.044Z"
   },
   {
    "duration": 177,
    "start_time": "2023-09-26T12:17:22.833Z"
   },
   {
    "duration": 327,
    "start_time": "2023-09-26T12:17:34.804Z"
   },
   {
    "duration": 121,
    "start_time": "2023-09-26T12:18:08.379Z"
   },
   {
    "duration": 9,
    "start_time": "2023-09-26T12:18:16.779Z"
   },
   {
    "duration": 8,
    "start_time": "2023-09-26T12:18:25.581Z"
   },
   {
    "duration": 10,
    "start_time": "2023-09-26T12:18:35.464Z"
   },
   {
    "duration": 2043,
    "start_time": "2023-09-26T12:19:28.481Z"
   },
   {
    "duration": 3439,
    "start_time": "2023-09-26T12:20:01.309Z"
   },
   {
    "duration": 6591,
    "start_time": "2023-09-26T12:20:08.534Z"
   },
   {
    "duration": 2581,
    "start_time": "2023-09-26T12:20:38.906Z"
   },
   {
    "duration": 578,
    "start_time": "2023-09-26T12:21:00.027Z"
   },
   {
    "duration": 736,
    "start_time": "2023-09-26T12:21:12.580Z"
   },
   {
    "duration": 482,
    "start_time": "2023-09-26T12:21:21.813Z"
   },
   {
    "duration": 12,
    "start_time": "2023-09-26T12:21:32.239Z"
   },
   {
    "duration": 871,
    "start_time": "2023-09-26T12:21:35.943Z"
   },
   {
    "duration": 4,
    "start_time": "2023-09-26T12:22:34.318Z"
   },
   {
    "duration": 794,
    "start_time": "2023-09-26T12:22:39.507Z"
   },
   {
    "duration": 9,
    "start_time": "2023-09-26T12:23:36.309Z"
   },
   {
    "duration": 13,
    "start_time": "2023-09-26T12:24:02.263Z"
   },
   {
    "duration": 14,
    "start_time": "2023-09-26T12:24:14.732Z"
   },
   {
    "duration": 143,
    "start_time": "2023-09-26T12:25:11.893Z"
   },
   {
    "duration": 116,
    "start_time": "2023-09-26T12:25:38.586Z"
   },
   {
    "duration": 250,
    "start_time": "2023-09-26T12:27:16.576Z"
   },
   {
    "duration": 245,
    "start_time": "2023-09-26T12:27:28.565Z"
   },
   {
    "duration": 254,
    "start_time": "2023-09-26T12:27:41.780Z"
   },
   {
    "duration": 132,
    "start_time": "2023-09-26T12:33:53.096Z"
   },
   {
    "duration": 137,
    "start_time": "2023-09-26T12:34:19.915Z"
   },
   {
    "duration": 136,
    "start_time": "2023-09-26T12:35:13.785Z"
   },
   {
    "duration": 173,
    "start_time": "2023-09-26T12:35:40.011Z"
   },
   {
    "duration": 133,
    "start_time": "2023-09-26T12:35:44.175Z"
   },
   {
    "duration": 8,
    "start_time": "2023-09-26T12:42:50.162Z"
   },
   {
    "duration": 7,
    "start_time": "2023-09-26T12:43:23.133Z"
   },
   {
    "duration": 226,
    "start_time": "2023-09-26T12:48:34.371Z"
   },
   {
    "duration": 52,
    "start_time": "2023-09-26T12:49:37.474Z"
   },
   {
    "duration": 10,
    "start_time": "2023-09-26T12:50:19.485Z"
   },
   {
    "duration": 295,
    "start_time": "2023-09-26T12:50:39.695Z"
   },
   {
    "duration": 38,
    "start_time": "2023-09-26T12:51:12.446Z"
   },
   {
    "duration": 1453,
    "start_time": "2023-09-26T12:59:34.963Z"
   },
   {
    "duration": 63,
    "start_time": "2023-09-26T12:59:36.418Z"
   },
   {
    "duration": 5,
    "start_time": "2023-09-26T12:59:36.482Z"
   },
   {
    "duration": 24,
    "start_time": "2023-09-26T12:59:36.489Z"
   },
   {
    "duration": 16,
    "start_time": "2023-09-26T12:59:36.515Z"
   },
   {
    "duration": 58,
    "start_time": "2023-09-26T12:59:36.532Z"
   },
   {
    "duration": 18,
    "start_time": "2023-09-26T12:59:36.592Z"
   },
   {
    "duration": 2,
    "start_time": "2023-09-26T12:59:36.612Z"
   },
   {
    "duration": 26,
    "start_time": "2023-09-26T12:59:36.615Z"
   },
   {
    "duration": 29,
    "start_time": "2023-09-26T12:59:36.643Z"
   },
   {
    "duration": 5,
    "start_time": "2023-09-26T12:59:36.674Z"
   },
   {
    "duration": 8,
    "start_time": "2023-09-26T12:59:36.681Z"
   },
   {
    "duration": 3,
    "start_time": "2023-09-26T12:59:36.691Z"
   },
   {
    "duration": 7,
    "start_time": "2023-09-26T12:59:36.697Z"
   },
   {
    "duration": 6,
    "start_time": "2023-09-26T12:59:36.706Z"
   },
   {
    "duration": 37,
    "start_time": "2023-09-26T12:59:36.713Z"
   },
   {
    "duration": 8,
    "start_time": "2023-09-26T12:59:36.755Z"
   },
   {
    "duration": 35,
    "start_time": "2023-09-26T12:59:36.764Z"
   },
   {
    "duration": 3,
    "start_time": "2023-09-26T12:59:36.801Z"
   },
   {
    "duration": 50,
    "start_time": "2023-09-26T12:59:36.805Z"
   },
   {
    "duration": 13,
    "start_time": "2023-09-26T12:59:36.856Z"
   },
   {
    "duration": 199,
    "start_time": "2023-09-26T12:59:36.871Z"
   },
   {
    "duration": 305,
    "start_time": "2023-09-26T12:59:37.072Z"
   },
   {
    "duration": 16,
    "start_time": "2023-09-26T12:59:37.379Z"
   },
   {
    "duration": 19,
    "start_time": "2023-09-26T12:59:37.397Z"
   },
   {
    "duration": 167,
    "start_time": "2023-09-26T12:59:37.417Z"
   },
   {
    "duration": 17,
    "start_time": "2023-09-26T12:59:37.586Z"
   },
   {
    "duration": 6,
    "start_time": "2023-09-26T12:59:37.604Z"
   },
   {
    "duration": 14,
    "start_time": "2023-09-26T12:59:37.612Z"
   },
   {
    "duration": 1241,
    "start_time": "2023-09-26T12:59:37.628Z"
   },
   {
    "duration": 205,
    "start_time": "2023-09-26T12:59:38.871Z"
   },
   {
    "duration": 293,
    "start_time": "2023-09-26T12:59:39.078Z"
   },
   {
    "duration": 20,
    "start_time": "2023-09-26T12:59:39.373Z"
   },
   {
    "duration": 22,
    "start_time": "2023-09-26T12:59:39.395Z"
   },
   {
    "duration": 399,
    "start_time": "2023-09-26T12:59:39.419Z"
   },
   {
    "duration": 65,
    "start_time": "2023-09-26T12:59:39.820Z"
   },
   {
    "duration": 25,
    "start_time": "2023-09-26T12:59:39.887Z"
   },
   {
    "duration": 249,
    "start_time": "2023-09-26T12:59:39.914Z"
   },
   {
    "duration": 13,
    "start_time": "2023-09-26T12:59:40.164Z"
   },
   {
    "duration": 299,
    "start_time": "2023-09-26T12:59:40.179Z"
   },
   {
    "duration": 140,
    "start_time": "2023-09-26T12:59:40.482Z"
   },
   {
    "duration": 163,
    "start_time": "2023-09-26T12:59:40.623Z"
   },
   {
    "duration": 7,
    "start_time": "2023-09-26T12:59:40.787Z"
   },
   {
    "duration": 215,
    "start_time": "2023-09-26T12:59:40.796Z"
   },
   {
    "duration": 48,
    "start_time": "2023-09-26T12:59:41.014Z"
   },
   {
    "duration": 544,
    "start_time": "2023-09-26T14:50:09.229Z"
   },
   {
    "duration": 401,
    "start_time": "2023-09-26T14:51:21.277Z"
   },
   {
    "duration": 424,
    "start_time": "2023-09-26T14:51:30.029Z"
   },
   {
    "duration": 162,
    "start_time": "2023-09-26T15:12:42.336Z"
   },
   {
    "duration": 134,
    "start_time": "2023-09-26T15:26:23.528Z"
   },
   {
    "duration": 116,
    "start_time": "2023-09-26T15:39:31.097Z"
   },
   {
    "duration": 116,
    "start_time": "2023-09-26T15:58:34.561Z"
   },
   {
    "duration": 112,
    "start_time": "2023-09-26T15:58:38.894Z"
   },
   {
    "duration": 117,
    "start_time": "2023-09-26T15:59:11.852Z"
   },
   {
    "duration": 18,
    "start_time": "2023-09-26T16:20:19.273Z"
   },
   {
    "duration": 140,
    "start_time": "2023-09-26T16:20:29.386Z"
   },
   {
    "duration": 14,
    "start_time": "2023-09-26T17:24:57.023Z"
   },
   {
    "duration": 235,
    "start_time": "2023-09-26T17:25:04.971Z"
   },
   {
    "duration": 97,
    "start_time": "2023-09-26T17:25:58.859Z"
   },
   {
    "duration": 131,
    "start_time": "2023-09-26T17:33:55.414Z"
   },
   {
    "duration": 112,
    "start_time": "2023-09-26T17:35:40.069Z"
   },
   {
    "duration": 132,
    "start_time": "2023-09-26T17:37:38.514Z"
   },
   {
    "duration": 128,
    "start_time": "2023-09-26T17:58:38.663Z"
   },
   {
    "duration": 9,
    "start_time": "2023-09-26T18:29:09.873Z"
   },
   {
    "duration": 7,
    "start_time": "2023-09-26T18:29:14.611Z"
   },
   {
    "duration": 6,
    "start_time": "2023-09-26T18:29:15.130Z"
   },
   {
    "duration": 5,
    "start_time": "2023-09-26T18:29:31.964Z"
   },
   {
    "duration": 12,
    "start_time": "2023-09-26T18:30:32.230Z"
   },
   {
    "duration": 8,
    "start_time": "2023-09-26T18:30:41.248Z"
   },
   {
    "duration": 4,
    "start_time": "2023-09-26T18:30:43.150Z"
   },
   {
    "duration": 5,
    "start_time": "2023-09-26T18:30:58.967Z"
   },
   {
    "duration": 5,
    "start_time": "2023-09-26T18:31:15.552Z"
   },
   {
    "duration": 7,
    "start_time": "2023-09-26T18:31:22.250Z"
   },
   {
    "duration": 5,
    "start_time": "2023-09-26T18:31:33.189Z"
   },
   {
    "duration": 5,
    "start_time": "2023-09-26T18:31:50.409Z"
   },
   {
    "duration": 6,
    "start_time": "2023-09-26T18:31:56.513Z"
   },
   {
    "duration": 6,
    "start_time": "2023-09-26T18:32:42.429Z"
   },
   {
    "duration": 5,
    "start_time": "2023-09-26T18:32:53.295Z"
   },
   {
    "duration": 35,
    "start_time": "2023-09-26T18:33:59.061Z"
   },
   {
    "duration": 11,
    "start_time": "2023-09-26T18:34:05.394Z"
   },
   {
    "duration": 6,
    "start_time": "2023-09-26T18:34:08.456Z"
   },
   {
    "duration": 5,
    "start_time": "2023-09-26T18:34:16.419Z"
   },
   {
    "duration": 7,
    "start_time": "2023-09-26T18:34:37.377Z"
   },
   {
    "duration": 6,
    "start_time": "2023-09-26T18:34:38.706Z"
   },
   {
    "duration": 5,
    "start_time": "2023-09-26T18:34:47.177Z"
   },
   {
    "duration": 5,
    "start_time": "2023-09-26T18:39:57.311Z"
   },
   {
    "duration": 4,
    "start_time": "2023-09-26T18:39:58.892Z"
   },
   {
    "duration": 5,
    "start_time": "2023-09-26T18:40:10.963Z"
   },
   {
    "duration": 280,
    "start_time": "2023-09-26T18:46:15.071Z"
   },
   {
    "duration": 1228,
    "start_time": "2023-09-26T18:46:37.535Z"
   },
   {
    "duration": 55,
    "start_time": "2023-09-26T18:46:38.765Z"
   },
   {
    "duration": 4,
    "start_time": "2023-09-26T18:46:38.822Z"
   },
   {
    "duration": 21,
    "start_time": "2023-09-26T18:46:38.827Z"
   },
   {
    "duration": 9,
    "start_time": "2023-09-26T18:46:38.850Z"
   },
   {
    "duration": 21,
    "start_time": "2023-09-26T18:46:38.861Z"
   },
   {
    "duration": 22,
    "start_time": "2023-09-26T18:46:38.884Z"
   },
   {
    "duration": 4,
    "start_time": "2023-09-26T18:46:38.908Z"
   },
   {
    "duration": 12,
    "start_time": "2023-09-26T18:46:38.914Z"
   },
   {
    "duration": 19,
    "start_time": "2023-09-26T18:46:38.949Z"
   },
   {
    "duration": 4,
    "start_time": "2023-09-26T18:46:38.970Z"
   },
   {
    "duration": 11,
    "start_time": "2023-09-26T18:46:38.976Z"
   },
   {
    "duration": 12,
    "start_time": "2023-09-26T18:46:38.989Z"
   },
   {
    "duration": 10,
    "start_time": "2023-09-26T18:46:39.003Z"
   },
   {
    "duration": 14,
    "start_time": "2023-09-26T18:46:39.015Z"
   },
   {
    "duration": 21,
    "start_time": "2023-09-26T18:46:39.031Z"
   },
   {
    "duration": 5,
    "start_time": "2023-09-26T18:46:39.054Z"
   },
   {
    "duration": 27,
    "start_time": "2023-09-26T18:46:39.061Z"
   },
   {
    "duration": 7,
    "start_time": "2023-09-26T18:46:39.090Z"
   },
   {
    "duration": 28,
    "start_time": "2023-09-26T18:46:39.099Z"
   },
   {
    "duration": 5,
    "start_time": "2023-09-26T18:46:39.129Z"
   },
   {
    "duration": 184,
    "start_time": "2023-09-26T18:46:39.136Z"
   },
   {
    "duration": 274,
    "start_time": "2023-09-26T18:46:39.322Z"
   },
   {
    "duration": 20,
    "start_time": "2023-09-26T18:46:39.597Z"
   },
   {
    "duration": 4,
    "start_time": "2023-09-26T18:46:39.619Z"
   },
   {
    "duration": 177,
    "start_time": "2023-09-26T18:46:39.625Z"
   },
   {
    "duration": 17,
    "start_time": "2023-09-26T18:46:39.803Z"
   },
   {
    "duration": 5,
    "start_time": "2023-09-26T18:46:39.823Z"
   },
   {
    "duration": 14,
    "start_time": "2023-09-26T18:46:39.850Z"
   },
   {
    "duration": 1206,
    "start_time": "2023-09-26T18:46:39.866Z"
   },
   {
    "duration": 194,
    "start_time": "2023-09-26T18:46:41.074Z"
   },
   {
    "duration": 262,
    "start_time": "2023-09-26T18:46:41.270Z"
   },
   {
    "duration": 27,
    "start_time": "2023-09-26T18:46:41.533Z"
   },
   {
    "duration": 22,
    "start_time": "2023-09-26T18:46:41.561Z"
   },
   {
    "duration": 353,
    "start_time": "2023-09-26T18:46:41.584Z"
   },
   {
    "duration": 55,
    "start_time": "2023-09-26T18:46:41.939Z"
   },
   {
    "duration": 24,
    "start_time": "2023-09-26T18:46:41.996Z"
   },
   {
    "duration": 241,
    "start_time": "2023-09-26T18:46:42.021Z"
   },
   {
    "duration": 13,
    "start_time": "2023-09-26T18:46:42.264Z"
   },
   {
    "duration": 262,
    "start_time": "2023-09-26T18:46:42.278Z"
   },
   {
    "duration": 170,
    "start_time": "2023-09-26T18:46:42.541Z"
   },
   {
    "duration": 146,
    "start_time": "2023-09-26T18:46:42.713Z"
   },
   {
    "duration": 7,
    "start_time": "2023-09-26T18:46:42.861Z"
   },
   {
    "duration": 199,
    "start_time": "2023-09-26T18:46:42.869Z"
   },
   {
    "duration": 35,
    "start_time": "2023-09-26T18:46:43.070Z"
   },
   {
    "duration": 130,
    "start_time": "2023-09-26T18:46:43.106Z"
   },
   {
    "duration": 235,
    "start_time": "2023-09-26T18:46:43.238Z"
   },
   {
    "duration": 124,
    "start_time": "2023-09-26T18:46:43.475Z"
   },
   {
    "duration": 132,
    "start_time": "2023-09-26T18:46:43.601Z"
   },
   {
    "duration": 145,
    "start_time": "2023-09-26T18:46:43.734Z"
   },
   {
    "duration": 128,
    "start_time": "2023-09-26T18:46:43.880Z"
   },
   {
    "duration": 124,
    "start_time": "2023-09-26T18:46:44.010Z"
   },
   {
    "duration": 120,
    "start_time": "2023-09-26T18:46:44.136Z"
   },
   {
    "duration": 140,
    "start_time": "2023-09-26T18:46:44.258Z"
   },
   {
    "duration": 8,
    "start_time": "2023-09-26T18:46:44.400Z"
   },
   {
    "duration": 25,
    "start_time": "2023-09-26T18:46:44.410Z"
   },
   {
    "duration": 33,
    "start_time": "2023-09-26T18:46:44.437Z"
   },
   {
    "duration": 5,
    "start_time": "2023-09-26T18:49:27.507Z"
   },
   {
    "duration": 1478,
    "start_time": "2023-09-26T18:50:06.683Z"
   },
   {
    "duration": 283,
    "start_time": "2023-09-26T18:50:32.021Z"
   },
   {
    "duration": 10,
    "start_time": "2023-09-26T18:50:53.920Z"
   },
   {
    "duration": 5,
    "start_time": "2023-09-26T18:51:44.544Z"
   },
   {
    "duration": 6,
    "start_time": "2023-09-26T18:51:58.481Z"
   },
   {
    "duration": 247,
    "start_time": "2023-09-26T18:51:58.648Z"
   },
   {
    "duration": 268,
    "start_time": "2023-09-26T18:53:51.885Z"
   },
   {
    "duration": 350,
    "start_time": "2023-09-26T18:54:09.229Z"
   },
   {
    "duration": 267,
    "start_time": "2023-09-26T18:54:29.978Z"
   },
   {
    "duration": 268,
    "start_time": "2023-09-26T18:55:33.182Z"
   },
   {
    "duration": 274,
    "start_time": "2023-09-26T18:55:53.103Z"
   },
   {
    "duration": 257,
    "start_time": "2023-09-26T18:56:21.142Z"
   },
   {
    "duration": 26,
    "start_time": "2023-09-26T18:56:35.916Z"
   },
   {
    "duration": 1608,
    "start_time": "2023-09-26T18:56:41.265Z"
   },
   {
    "duration": 91,
    "start_time": "2023-09-26T18:57:47.614Z"
   },
   {
    "duration": 84,
    "start_time": "2023-09-26T18:57:54.686Z"
   },
   {
    "duration": 1329,
    "start_time": "2023-09-26T18:58:04.495Z"
   },
   {
    "duration": 1375,
    "start_time": "2023-09-26T18:58:20.741Z"
   },
   {
    "duration": 26,
    "start_time": "2023-09-26T18:58:27.227Z"
   },
   {
    "duration": 27,
    "start_time": "2023-09-26T18:58:42.254Z"
   },
   {
    "duration": 257,
    "start_time": "2023-09-26T18:58:50.935Z"
   },
   {
    "duration": 26,
    "start_time": "2023-09-26T18:59:09.157Z"
   },
   {
    "duration": 261,
    "start_time": "2023-09-26T18:59:17.405Z"
   },
   {
    "duration": 1387,
    "start_time": "2023-09-26T18:59:31.218Z"
   },
   {
    "duration": 26,
    "start_time": "2023-09-26T18:59:39.499Z"
   },
   {
    "duration": 258,
    "start_time": "2023-09-26T18:59:43.211Z"
   },
   {
    "duration": 31,
    "start_time": "2023-09-26T19:00:00.413Z"
   },
   {
    "duration": 221,
    "start_time": "2023-09-26T19:00:06.796Z"
   },
   {
    "duration": 25,
    "start_time": "2023-09-26T19:00:23.127Z"
   },
   {
    "duration": 253,
    "start_time": "2023-09-26T19:00:23.715Z"
   },
   {
    "duration": 18,
    "start_time": "2023-09-26T19:00:26.869Z"
   },
   {
    "duration": 24,
    "start_time": "2023-09-26T19:00:45.296Z"
   },
   {
    "duration": 26,
    "start_time": "2023-09-26T19:00:53.107Z"
   },
   {
    "duration": 284,
    "start_time": "2023-09-26T19:00:55.443Z"
   },
   {
    "duration": 19,
    "start_time": "2023-09-26T19:01:08.672Z"
   },
   {
    "duration": 4,
    "start_time": "2023-09-26T19:01:49.244Z"
   },
   {
    "duration": 21,
    "start_time": "2023-09-26T19:01:52.207Z"
   },
   {
    "duration": 21,
    "start_time": "2023-09-26T19:02:37.494Z"
   },
   {
    "duration": 26,
    "start_time": "2023-09-26T19:02:48.224Z"
   },
   {
    "duration": 23,
    "start_time": "2023-09-26T19:02:54.416Z"
   },
   {
    "duration": 25,
    "start_time": "2023-09-26T19:02:58.524Z"
   },
   {
    "duration": 112,
    "start_time": "2023-09-26T19:04:10.908Z"
   },
   {
    "duration": 16,
    "start_time": "2023-09-26T19:04:22.068Z"
   },
   {
    "duration": 1616,
    "start_time": "2023-09-26T19:04:44.602Z"
   },
   {
    "duration": 18,
    "start_time": "2023-09-26T19:04:55.237Z"
   },
   {
    "duration": 52,
    "start_time": "2023-09-27T06:24:42.085Z"
   },
   {
    "duration": 1556,
    "start_time": "2023-09-27T06:24:59.990Z"
   },
   {
    "duration": 105,
    "start_time": "2023-09-27T06:25:01.549Z"
   },
   {
    "duration": 172,
    "start_time": "2023-09-27T06:25:01.656Z"
   },
   {
    "duration": 150,
    "start_time": "2023-09-27T06:25:01.831Z"
   },
   {
    "duration": 175,
    "start_time": "2023-09-27T06:25:01.983Z"
   },
   {
    "duration": 299,
    "start_time": "2023-09-27T06:25:02.161Z"
   },
   {
    "duration": 96,
    "start_time": "2023-09-27T06:25:02.463Z"
   },
   {
    "duration": 151,
    "start_time": "2023-09-27T06:25:02.561Z"
   },
   {
    "duration": 533,
    "start_time": "2023-09-27T06:25:02.714Z"
   },
   {
    "duration": 721,
    "start_time": "2023-09-27T06:25:03.250Z"
   },
   {
    "duration": 12,
    "start_time": "2023-09-27T06:25:03.973Z"
   },
   {
    "duration": 28,
    "start_time": "2023-09-27T06:25:03.987Z"
   },
   {
    "duration": 29,
    "start_time": "2023-09-27T06:25:04.017Z"
   },
   {
    "duration": 59,
    "start_time": "2023-09-27T06:25:04.048Z"
   },
   {
    "duration": 12,
    "start_time": "2023-09-27T06:25:04.108Z"
   },
   {
    "duration": 327,
    "start_time": "2023-09-27T06:25:04.123Z"
   },
   {
    "duration": 247,
    "start_time": "2023-09-27T06:25:04.452Z"
   },
   {
    "duration": 40,
    "start_time": "2023-09-27T06:25:04.701Z"
   },
   {
    "duration": 10,
    "start_time": "2023-09-27T06:25:04.742Z"
   },
   {
    "duration": 53,
    "start_time": "2023-09-27T06:25:04.753Z"
   },
   {
    "duration": 10,
    "start_time": "2023-09-27T06:25:04.808Z"
   },
   {
    "duration": 213,
    "start_time": "2023-09-27T06:25:04.819Z"
   },
   {
    "duration": 350,
    "start_time": "2023-09-27T06:25:05.034Z"
   },
   {
    "duration": 24,
    "start_time": "2023-09-27T06:25:05.386Z"
   },
   {
    "duration": 27,
    "start_time": "2023-09-27T06:25:05.412Z"
   },
   {
    "duration": 331,
    "start_time": "2023-09-27T06:25:05.441Z"
   },
   {
    "duration": 19,
    "start_time": "2023-09-27T06:25:05.774Z"
   },
   {
    "duration": 21,
    "start_time": "2023-09-27T06:25:05.809Z"
   },
   {
    "duration": 22,
    "start_time": "2023-09-27T06:25:05.832Z"
   },
   {
    "duration": 1332,
    "start_time": "2023-09-27T06:25:05.855Z"
   },
   {
    "duration": 224,
    "start_time": "2023-09-27T06:25:07.188Z"
   },
   {
    "duration": 5,
    "start_time": "2023-09-27T06:25:07.414Z"
   },
   {
    "duration": 102,
    "start_time": "2023-09-27T06:25:07.421Z"
   },
   {
    "duration": 305,
    "start_time": "2023-09-27T06:25:07.524Z"
   },
   {
    "duration": 20,
    "start_time": "2023-09-27T06:25:07.831Z"
   },
   {
    "duration": 25,
    "start_time": "2023-09-27T06:25:07.853Z"
   },
   {
    "duration": 429,
    "start_time": "2023-09-27T06:25:07.880Z"
   },
   {
    "duration": 51,
    "start_time": "2023-09-27T06:25:08.311Z"
   },
   {
    "duration": 27,
    "start_time": "2023-09-27T06:25:08.363Z"
   },
   {
    "duration": 281,
    "start_time": "2023-09-27T06:25:08.409Z"
   },
   {
    "duration": 21,
    "start_time": "2023-09-27T06:25:08.692Z"
   },
   {
    "duration": 374,
    "start_time": "2023-09-27T06:25:08.715Z"
   },
   {
    "duration": 162,
    "start_time": "2023-09-27T06:25:09.090Z"
   },
   {
    "duration": 167,
    "start_time": "2023-09-27T06:25:09.254Z"
   },
   {
    "duration": 7,
    "start_time": "2023-09-27T06:25:09.423Z"
   },
   {
    "duration": 215,
    "start_time": "2023-09-27T06:25:09.432Z"
   },
   {
    "duration": 40,
    "start_time": "2023-09-27T06:25:09.649Z"
   },
   {
    "duration": 151,
    "start_time": "2023-09-27T06:25:09.691Z"
   },
   {
    "duration": 246,
    "start_time": "2023-09-27T06:25:09.843Z"
   },
   {
    "duration": 143,
    "start_time": "2023-09-27T06:25:10.090Z"
   },
   {
    "duration": 154,
    "start_time": "2023-09-27T06:25:10.235Z"
   },
   {
    "duration": 151,
    "start_time": "2023-09-27T06:25:10.391Z"
   },
   {
    "duration": 144,
    "start_time": "2023-09-27T06:25:10.545Z"
   },
   {
    "duration": 142,
    "start_time": "2023-09-27T06:25:10.690Z"
   },
   {
    "duration": 133,
    "start_time": "2023-09-27T06:25:10.834Z"
   },
   {
    "duration": 150,
    "start_time": "2023-09-27T06:25:10.968Z"
   },
   {
    "duration": 9,
    "start_time": "2023-09-27T06:25:11.119Z"
   },
   {
    "duration": 24,
    "start_time": "2023-09-27T06:25:11.130Z"
   },
   {
    "duration": 38,
    "start_time": "2023-09-27T06:25:11.156Z"
   },
   {
    "duration": 530,
    "start_time": "2023-09-27T06:25:11.196Z"
   },
   {
    "duration": 8,
    "start_time": "2023-09-27T06:25:34.980Z"
   },
   {
    "duration": 23,
    "start_time": "2023-09-27T06:29:16.210Z"
   },
   {
    "duration": 11,
    "start_time": "2023-09-27T06:29:44.333Z"
   },
   {
    "duration": 13,
    "start_time": "2023-09-27T06:30:08.754Z"
   },
   {
    "duration": 12,
    "start_time": "2023-09-27T06:30:19.858Z"
   },
   {
    "duration": 9,
    "start_time": "2023-09-27T06:30:24.383Z"
   },
   {
    "duration": 10,
    "start_time": "2023-09-27T06:31:41.454Z"
   },
   {
    "duration": 8,
    "start_time": "2023-09-27T06:31:47.186Z"
   },
   {
    "duration": 10,
    "start_time": "2023-09-27T06:32:51.892Z"
   },
   {
    "duration": 10,
    "start_time": "2023-09-27T06:33:26.242Z"
   },
   {
    "duration": 10,
    "start_time": "2023-09-27T06:34:34.407Z"
   },
   {
    "duration": 10,
    "start_time": "2023-09-27T06:34:51.411Z"
   },
   {
    "duration": 9,
    "start_time": "2023-09-27T06:34:51.605Z"
   },
   {
    "duration": 5,
    "start_time": "2023-09-27T06:35:10.971Z"
   },
   {
    "duration": 11,
    "start_time": "2023-09-27T06:35:40.687Z"
   },
   {
    "duration": 6,
    "start_time": "2023-09-27T06:35:41.759Z"
   },
   {
    "duration": 6,
    "start_time": "2023-09-27T06:36:10.777Z"
   },
   {
    "duration": 15,
    "start_time": "2023-09-27T06:36:19.201Z"
   },
   {
    "duration": 6,
    "start_time": "2023-09-27T06:36:26.336Z"
   },
   {
    "duration": 6,
    "start_time": "2023-09-27T06:36:46.862Z"
   },
   {
    "duration": 14,
    "start_time": "2023-09-27T06:37:38.316Z"
   },
   {
    "duration": 85,
    "start_time": "2023-09-27T06:37:57.383Z"
   },
   {
    "duration": 14,
    "start_time": "2023-09-27T06:38:02.685Z"
   },
   {
    "duration": 5,
    "start_time": "2023-09-27T06:38:05.895Z"
   },
   {
    "duration": 14,
    "start_time": "2023-09-27T06:39:35.018Z"
   },
   {
    "duration": 5,
    "start_time": "2023-09-27T06:39:38.416Z"
   },
   {
    "duration": 5,
    "start_time": "2023-09-27T06:40:11.015Z"
   },
   {
    "duration": 17,
    "start_time": "2023-09-27T06:40:19.646Z"
   },
   {
    "duration": 5,
    "start_time": "2023-09-27T06:40:20.352Z"
   },
   {
    "duration": 6,
    "start_time": "2023-09-27T06:40:28.777Z"
   },
   {
    "duration": 12,
    "start_time": "2023-09-27T06:41:36.098Z"
   },
   {
    "duration": 9,
    "start_time": "2023-09-27T06:41:42.364Z"
   },
   {
    "duration": 7,
    "start_time": "2023-09-27T06:42:21.225Z"
   },
   {
    "duration": 6,
    "start_time": "2023-09-27T06:42:30.293Z"
   },
   {
    "duration": 80,
    "start_time": "2023-09-27T06:49:17.090Z"
   },
   {
    "duration": 1567,
    "start_time": "2023-09-27T07:03:37.099Z"
   },
   {
    "duration": 62,
    "start_time": "2023-09-27T07:03:38.668Z"
   },
   {
    "duration": 5,
    "start_time": "2023-09-27T07:03:38.732Z"
   },
   {
    "duration": 20,
    "start_time": "2023-09-27T07:03:38.740Z"
   },
   {
    "duration": 11,
    "start_time": "2023-09-27T07:03:38.763Z"
   },
   {
    "duration": 53,
    "start_time": "2023-09-27T07:03:38.776Z"
   },
   {
    "duration": 19,
    "start_time": "2023-09-27T07:03:38.831Z"
   },
   {
    "duration": 4,
    "start_time": "2023-09-27T07:03:38.852Z"
   },
   {
    "duration": 22,
    "start_time": "2023-09-27T07:03:38.858Z"
   },
   {
    "duration": 47,
    "start_time": "2023-09-27T07:03:38.883Z"
   },
   {
    "duration": 7,
    "start_time": "2023-09-27T07:03:38.932Z"
   },
   {
    "duration": 7,
    "start_time": "2023-09-27T07:03:38.940Z"
   },
   {
    "duration": 12,
    "start_time": "2023-09-27T07:03:38.949Z"
   },
   {
    "duration": 11,
    "start_time": "2023-09-27T07:03:38.963Z"
   },
   {
    "duration": 36,
    "start_time": "2023-09-27T07:03:38.976Z"
   },
   {
    "duration": 30,
    "start_time": "2023-09-27T07:03:39.015Z"
   },
   {
    "duration": 13,
    "start_time": "2023-09-27T07:03:39.047Z"
   },
   {
    "duration": 65,
    "start_time": "2023-09-27T07:03:39.062Z"
   },
   {
    "duration": 3,
    "start_time": "2023-09-27T07:03:39.129Z"
   },
   {
    "duration": 41,
    "start_time": "2023-09-27T07:03:39.134Z"
   },
   {
    "duration": 8,
    "start_time": "2023-09-27T07:03:39.177Z"
   },
   {
    "duration": 232,
    "start_time": "2023-09-27T07:03:39.186Z"
   },
   {
    "duration": 353,
    "start_time": "2023-09-27T07:03:39.420Z"
   },
   {
    "duration": 19,
    "start_time": "2023-09-27T07:03:39.775Z"
   },
   {
    "duration": 5,
    "start_time": "2023-09-27T07:03:39.810Z"
   },
   {
    "duration": 200,
    "start_time": "2023-09-27T07:03:39.817Z"
   },
   {
    "duration": 21,
    "start_time": "2023-09-27T07:03:40.019Z"
   },
   {
    "duration": 48,
    "start_time": "2023-09-27T07:03:40.046Z"
   },
   {
    "duration": 38,
    "start_time": "2023-09-27T07:03:40.096Z"
   },
   {
    "duration": 1457,
    "start_time": "2023-09-27T07:03:40.136Z"
   },
   {
    "duration": 243,
    "start_time": "2023-09-27T07:03:41.596Z"
   },
   {
    "duration": 7,
    "start_time": "2023-09-27T07:03:41.841Z"
   },
   {
    "duration": 40,
    "start_time": "2023-09-27T07:03:41.851Z"
   },
   {
    "duration": 330,
    "start_time": "2023-09-27T07:03:41.893Z"
   },
   {
    "duration": 22,
    "start_time": "2023-09-27T07:03:42.225Z"
   },
   {
    "duration": 46,
    "start_time": "2023-09-27T07:03:42.249Z"
   },
   {
    "duration": 531,
    "start_time": "2023-09-27T07:03:42.297Z"
   },
   {
    "duration": 50,
    "start_time": "2023-09-27T07:03:42.830Z"
   },
   {
    "duration": 50,
    "start_time": "2023-09-27T07:03:42.882Z"
   },
   {
    "duration": 299,
    "start_time": "2023-09-27T07:03:42.934Z"
   },
   {
    "duration": 14,
    "start_time": "2023-09-27T07:03:43.234Z"
   },
   {
    "duration": 370,
    "start_time": "2023-09-27T07:03:43.249Z"
   },
   {
    "duration": 159,
    "start_time": "2023-09-27T07:03:43.621Z"
   },
   {
    "duration": 165,
    "start_time": "2023-09-27T07:03:43.782Z"
   },
   {
    "duration": 6,
    "start_time": "2023-09-27T07:03:43.949Z"
   },
   {
    "duration": 208,
    "start_time": "2023-09-27T07:03:43.957Z"
   },
   {
    "duration": 45,
    "start_time": "2023-09-27T07:03:44.167Z"
   },
   {
    "duration": 145,
    "start_time": "2023-09-27T07:03:44.213Z"
   },
   {
    "duration": 251,
    "start_time": "2023-09-27T07:03:44.360Z"
   },
   {
    "duration": 143,
    "start_time": "2023-09-27T07:03:44.613Z"
   },
   {
    "duration": 188,
    "start_time": "2023-09-27T07:03:44.759Z"
   },
   {
    "duration": 185,
    "start_time": "2023-09-27T07:03:44.950Z"
   },
   {
    "duration": 165,
    "start_time": "2023-09-27T07:03:45.137Z"
   },
   {
    "duration": 185,
    "start_time": "2023-09-27T07:03:45.304Z"
   },
   {
    "duration": 150,
    "start_time": "2023-09-27T07:03:45.492Z"
   },
   {
    "duration": 184,
    "start_time": "2023-09-27T07:03:45.644Z"
   },
   {
    "duration": 9,
    "start_time": "2023-09-27T07:03:45.830Z"
   },
   {
    "duration": 28,
    "start_time": "2023-09-27T07:03:45.840Z"
   },
   {
    "duration": 14,
    "start_time": "2023-09-27T07:03:45.870Z"
   },
   {
    "duration": 36,
    "start_time": "2023-09-27T07:03:45.886Z"
   },
   {
    "duration": 6,
    "start_time": "2023-09-27T07:03:45.924Z"
   },
   {
    "duration": 161,
    "start_time": "2023-09-27T07:03:45.932Z"
   },
   {
    "duration": 395,
    "start_time": "2023-09-27T07:06:13.286Z"
   },
   {
    "duration": 1459,
    "start_time": "2023-09-27T07:15:10.617Z"
   },
   {
    "duration": 60,
    "start_time": "2023-09-27T07:15:12.079Z"
   },
   {
    "duration": 5,
    "start_time": "2023-09-27T07:15:12.141Z"
   },
   {
    "duration": 25,
    "start_time": "2023-09-27T07:15:12.148Z"
   },
   {
    "duration": 12,
    "start_time": "2023-09-27T07:15:12.175Z"
   },
   {
    "duration": 40,
    "start_time": "2023-09-27T07:15:12.189Z"
   },
   {
    "duration": 18,
    "start_time": "2023-09-27T07:15:12.231Z"
   },
   {
    "duration": 3,
    "start_time": "2023-09-27T07:15:12.251Z"
   },
   {
    "duration": 15,
    "start_time": "2023-09-27T07:15:12.256Z"
   },
   {
    "duration": 51,
    "start_time": "2023-09-27T07:15:12.274Z"
   },
   {
    "duration": 5,
    "start_time": "2023-09-27T07:15:12.327Z"
   },
   {
    "duration": 7,
    "start_time": "2023-09-27T07:15:12.335Z"
   },
   {
    "duration": 5,
    "start_time": "2023-09-27T07:15:12.344Z"
   },
   {
    "duration": 38,
    "start_time": "2023-09-27T07:15:12.351Z"
   },
   {
    "duration": 18,
    "start_time": "2023-09-27T07:15:12.392Z"
   },
   {
    "duration": 6,
    "start_time": "2023-09-27T07:15:12.413Z"
   },
   {
    "duration": 3,
    "start_time": "2023-09-27T07:15:12.422Z"
   },
   {
    "duration": 41,
    "start_time": "2023-09-27T07:15:12.427Z"
   },
   {
    "duration": 4,
    "start_time": "2023-09-27T07:15:12.471Z"
   },
   {
    "duration": 53,
    "start_time": "2023-09-27T07:15:12.509Z"
   },
   {
    "duration": 14,
    "start_time": "2023-09-27T07:15:12.565Z"
   },
   {
    "duration": 268,
    "start_time": "2023-09-27T07:15:12.582Z"
   },
   {
    "duration": 346,
    "start_time": "2023-09-27T07:15:12.852Z"
   },
   {
    "duration": 22,
    "start_time": "2023-09-27T07:15:13.200Z"
   },
   {
    "duration": 6,
    "start_time": "2023-09-27T07:15:13.223Z"
   },
   {
    "duration": 188,
    "start_time": "2023-09-27T07:15:13.230Z"
   },
   {
    "duration": 20,
    "start_time": "2023-09-27T07:15:13.420Z"
   },
   {
    "duration": 7,
    "start_time": "2023-09-27T07:15:13.444Z"
   },
   {
    "duration": 22,
    "start_time": "2023-09-27T07:15:13.453Z"
   },
   {
    "duration": 1400,
    "start_time": "2023-09-27T07:15:13.477Z"
   },
   {
    "duration": 247,
    "start_time": "2023-09-27T07:15:14.879Z"
   },
   {
    "duration": 6,
    "start_time": "2023-09-27T07:15:15.129Z"
   },
   {
    "duration": 51,
    "start_time": "2023-09-27T07:15:15.138Z"
   },
   {
    "duration": 351,
    "start_time": "2023-09-27T07:15:15.209Z"
   },
   {
    "duration": 23,
    "start_time": "2023-09-27T07:15:15.562Z"
   },
   {
    "duration": 59,
    "start_time": "2023-09-27T07:15:15.587Z"
   },
   {
    "duration": 485,
    "start_time": "2023-09-27T07:15:15.648Z"
   },
   {
    "duration": 80,
    "start_time": "2023-09-27T07:15:16.135Z"
   },
   {
    "duration": 30,
    "start_time": "2023-09-27T07:15:16.217Z"
   },
   {
    "duration": 303,
    "start_time": "2023-09-27T07:15:16.250Z"
   },
   {
    "duration": 20,
    "start_time": "2023-09-27T07:15:16.556Z"
   },
   {
    "duration": 331,
    "start_time": "2023-09-27T07:15:16.578Z"
   },
   {
    "duration": 172,
    "start_time": "2023-09-27T07:15:16.911Z"
   },
   {
    "duration": 170,
    "start_time": "2023-09-27T07:15:17.085Z"
   },
   {
    "duration": 9,
    "start_time": "2023-09-27T07:15:17.258Z"
   },
   {
    "duration": 230,
    "start_time": "2023-09-27T07:15:17.269Z"
   },
   {
    "duration": 47,
    "start_time": "2023-09-27T07:15:17.501Z"
   },
   {
    "duration": 170,
    "start_time": "2023-09-27T07:15:17.550Z"
   },
   {
    "duration": 262,
    "start_time": "2023-09-27T07:15:17.722Z"
   },
   {
    "duration": 159,
    "start_time": "2023-09-27T07:15:17.986Z"
   },
   {
    "duration": 170,
    "start_time": "2023-09-27T07:15:18.147Z"
   },
   {
    "duration": 179,
    "start_time": "2023-09-27T07:15:18.319Z"
   },
   {
    "duration": 165,
    "start_time": "2023-09-27T07:15:18.500Z"
   },
   {
    "duration": 159,
    "start_time": "2023-09-27T07:15:18.667Z"
   },
   {
    "duration": 151,
    "start_time": "2023-09-27T07:15:18.828Z"
   },
   {
    "duration": 175,
    "start_time": "2023-09-27T07:15:18.981Z"
   },
   {
    "duration": 9,
    "start_time": "2023-09-27T07:15:19.158Z"
   },
   {
    "duration": 6,
    "start_time": "2023-09-27T07:15:19.169Z"
   },
   {
    "duration": 8,
    "start_time": "2023-09-27T07:15:19.176Z"
   },
   {
    "duration": 49,
    "start_time": "2023-09-27T07:15:19.186Z"
   },
   {
    "duration": 10,
    "start_time": "2023-09-27T07:15:19.237Z"
   },
   {
    "duration": 89,
    "start_time": "2023-09-27T07:15:19.249Z"
   },
   {
    "duration": 1345,
    "start_time": "2023-09-27T08:12:38.971Z"
   },
   {
    "duration": 199,
    "start_time": "2023-09-27T08:12:40.318Z"
   },
   {
    "duration": 4,
    "start_time": "2023-09-27T08:12:40.519Z"
   },
   {
    "duration": 27,
    "start_time": "2023-09-27T08:12:40.525Z"
   },
   {
    "duration": 14,
    "start_time": "2023-09-27T08:12:40.574Z"
   },
   {
    "duration": 24,
    "start_time": "2023-09-27T08:12:40.589Z"
   },
   {
    "duration": 16,
    "start_time": "2023-09-27T08:12:40.615Z"
   },
   {
    "duration": 3,
    "start_time": "2023-09-27T08:12:40.632Z"
   },
   {
    "duration": 22,
    "start_time": "2023-09-27T08:12:40.644Z"
   },
   {
    "duration": 48,
    "start_time": "2023-09-27T08:12:40.669Z"
   },
   {
    "duration": 5,
    "start_time": "2023-09-27T08:12:40.719Z"
   },
   {
    "duration": 11,
    "start_time": "2023-09-27T08:12:40.725Z"
   },
   {
    "duration": 4,
    "start_time": "2023-09-27T08:12:40.738Z"
   },
   {
    "duration": 23,
    "start_time": "2023-09-27T08:12:40.744Z"
   },
   {
    "duration": 6,
    "start_time": "2023-09-27T08:12:40.769Z"
   },
   {
    "duration": 17,
    "start_time": "2023-09-27T08:12:40.777Z"
   },
   {
    "duration": 3,
    "start_time": "2023-09-27T08:12:40.796Z"
   },
   {
    "duration": 25,
    "start_time": "2023-09-27T08:12:40.800Z"
   },
   {
    "duration": 3,
    "start_time": "2023-09-27T08:12:40.827Z"
   },
   {
    "duration": 41,
    "start_time": "2023-09-27T08:12:40.831Z"
   },
   {
    "duration": 9,
    "start_time": "2023-09-27T08:12:40.877Z"
   },
   {
    "duration": 199,
    "start_time": "2023-09-27T08:12:40.888Z"
   },
   {
    "duration": 313,
    "start_time": "2023-09-27T08:12:41.093Z"
   },
   {
    "duration": 18,
    "start_time": "2023-09-27T08:12:41.408Z"
   },
   {
    "duration": 31,
    "start_time": "2023-09-27T08:12:41.428Z"
   },
   {
    "duration": 155,
    "start_time": "2023-09-27T08:12:41.466Z"
   },
   {
    "duration": 34,
    "start_time": "2023-09-27T08:12:41.622Z"
   },
   {
    "duration": 10,
    "start_time": "2023-09-27T08:12:41.662Z"
   },
   {
    "duration": 18,
    "start_time": "2023-09-27T08:12:41.673Z"
   },
   {
    "duration": 1391,
    "start_time": "2023-09-27T08:12:41.693Z"
   },
   {
    "duration": 215,
    "start_time": "2023-09-27T08:12:43.089Z"
   },
   {
    "duration": 5,
    "start_time": "2023-09-27T08:12:43.306Z"
   },
   {
    "duration": 42,
    "start_time": "2023-09-27T08:12:43.313Z"
   },
   {
    "duration": 305,
    "start_time": "2023-09-27T08:12:43.356Z"
   },
   {
    "duration": 22,
    "start_time": "2023-09-27T08:12:43.663Z"
   },
   {
    "duration": 22,
    "start_time": "2023-09-27T08:12:43.687Z"
   },
   {
    "duration": 471,
    "start_time": "2023-09-27T08:12:43.710Z"
   },
   {
    "duration": 55,
    "start_time": "2023-09-27T08:12:44.183Z"
   },
   {
    "duration": 43,
    "start_time": "2023-09-27T08:12:44.240Z"
   },
   {
    "duration": 316,
    "start_time": "2023-09-27T08:12:44.285Z"
   },
   {
    "duration": 12,
    "start_time": "2023-09-27T08:12:44.605Z"
   },
   {
    "duration": 301,
    "start_time": "2023-09-27T08:12:44.618Z"
   },
   {
    "duration": 199,
    "start_time": "2023-09-27T08:12:44.922Z"
   },
   {
    "duration": 179,
    "start_time": "2023-09-27T08:12:45.122Z"
   },
   {
    "duration": 7,
    "start_time": "2023-09-27T08:12:45.303Z"
   },
   {
    "duration": 208,
    "start_time": "2023-09-27T08:12:45.312Z"
   },
   {
    "duration": 69,
    "start_time": "2023-09-27T08:12:45.523Z"
   },
   {
    "duration": 181,
    "start_time": "2023-09-27T08:12:45.594Z"
   },
   {
    "duration": 243,
    "start_time": "2023-09-27T08:12:45.776Z"
   },
   {
    "duration": 165,
    "start_time": "2023-09-27T08:12:46.021Z"
   },
   {
    "duration": 232,
    "start_time": "2023-09-27T08:12:46.189Z"
   },
   {
    "duration": 165,
    "start_time": "2023-09-27T08:12:46.424Z"
   },
   {
    "duration": 165,
    "start_time": "2023-09-27T08:12:46.590Z"
   },
   {
    "duration": 142,
    "start_time": "2023-09-27T08:12:46.763Z"
   },
   {
    "duration": 147,
    "start_time": "2023-09-27T08:12:46.907Z"
   },
   {
    "duration": 196,
    "start_time": "2023-09-27T08:12:47.060Z"
   },
   {
    "duration": 21,
    "start_time": "2023-09-27T08:12:47.262Z"
   },
   {
    "duration": 11,
    "start_time": "2023-09-27T08:12:47.285Z"
   },
   {
    "duration": 16,
    "start_time": "2023-09-27T08:12:47.300Z"
   },
   {
    "duration": 39,
    "start_time": "2023-09-27T08:12:47.318Z"
   },
   {
    "duration": 14,
    "start_time": "2023-09-27T08:12:47.366Z"
   },
   {
    "duration": 1401,
    "start_time": "2023-09-27T11:44:21.439Z"
   },
   {
    "duration": 209,
    "start_time": "2023-09-27T11:47:57.330Z"
   },
   {
    "duration": 5,
    "start_time": "2023-09-27T11:48:03.769Z"
   },
   {
    "duration": 101,
    "start_time": "2023-09-27T11:50:27.666Z"
   },
   {
    "duration": 108,
    "start_time": "2023-09-27T11:54:28.932Z"
   },
   {
    "duration": 11,
    "start_time": "2023-09-27T11:54:51.108Z"
   },
   {
    "duration": 11,
    "start_time": "2023-09-27T11:57:40.992Z"
   },
   {
    "duration": 20,
    "start_time": "2023-09-27T11:59:13.419Z"
   },
   {
    "duration": 1537,
    "start_time": "2023-09-27T11:59:39.242Z"
   },
   {
    "duration": 1247,
    "start_time": "2023-09-27T11:59:48.420Z"
   },
   {
    "duration": 68,
    "start_time": "2023-09-27T11:59:49.669Z"
   },
   {
    "duration": 6,
    "start_time": "2023-09-27T11:59:49.739Z"
   },
   {
    "duration": 40,
    "start_time": "2023-09-27T11:59:49.748Z"
   },
   {
    "duration": 31,
    "start_time": "2023-09-27T11:59:49.791Z"
   },
   {
    "duration": 70,
    "start_time": "2023-09-27T11:59:49.824Z"
   },
   {
    "duration": 25,
    "start_time": "2023-09-27T11:59:49.896Z"
   },
   {
    "duration": 15,
    "start_time": "2023-09-27T11:59:49.922Z"
   },
   {
    "duration": 17,
    "start_time": "2023-09-27T11:59:49.939Z"
   },
   {
    "duration": 35,
    "start_time": "2023-09-27T11:59:49.959Z"
   },
   {
    "duration": 51,
    "start_time": "2023-09-27T11:59:49.997Z"
   },
   {
    "duration": 174,
    "start_time": "2023-09-27T11:59:50.050Z"
   },
   {
    "duration": 0,
    "start_time": "2023-09-27T11:59:50.228Z"
   },
   {
    "duration": 0,
    "start_time": "2023-09-27T11:59:50.229Z"
   },
   {
    "duration": 0,
    "start_time": "2023-09-27T11:59:50.230Z"
   },
   {
    "duration": 0,
    "start_time": "2023-09-27T11:59:50.231Z"
   },
   {
    "duration": 0,
    "start_time": "2023-09-27T11:59:50.232Z"
   },
   {
    "duration": 0,
    "start_time": "2023-09-27T11:59:50.233Z"
   },
   {
    "duration": 0,
    "start_time": "2023-09-27T11:59:50.234Z"
   },
   {
    "duration": 0,
    "start_time": "2023-09-27T11:59:50.235Z"
   },
   {
    "duration": 0,
    "start_time": "2023-09-27T11:59:50.236Z"
   },
   {
    "duration": 0,
    "start_time": "2023-09-27T11:59:50.237Z"
   },
   {
    "duration": 0,
    "start_time": "2023-09-27T11:59:50.239Z"
   },
   {
    "duration": 0,
    "start_time": "2023-09-27T11:59:50.240Z"
   },
   {
    "duration": 0,
    "start_time": "2023-09-27T11:59:50.242Z"
   },
   {
    "duration": 0,
    "start_time": "2023-09-27T11:59:50.243Z"
   },
   {
    "duration": 0,
    "start_time": "2023-09-27T11:59:50.244Z"
   },
   {
    "duration": 0,
    "start_time": "2023-09-27T11:59:50.245Z"
   },
   {
    "duration": 0,
    "start_time": "2023-09-27T11:59:50.246Z"
   },
   {
    "duration": 0,
    "start_time": "2023-09-27T11:59:50.247Z"
   },
   {
    "duration": 0,
    "start_time": "2023-09-27T11:59:50.248Z"
   },
   {
    "duration": 0,
    "start_time": "2023-09-27T11:59:50.250Z"
   },
   {
    "duration": 0,
    "start_time": "2023-09-27T11:59:50.251Z"
   },
   {
    "duration": 0,
    "start_time": "2023-09-27T11:59:50.252Z"
   },
   {
    "duration": 0,
    "start_time": "2023-09-27T11:59:50.253Z"
   },
   {
    "duration": 0,
    "start_time": "2023-09-27T11:59:50.254Z"
   },
   {
    "duration": 0,
    "start_time": "2023-09-27T11:59:50.255Z"
   },
   {
    "duration": 0,
    "start_time": "2023-09-27T11:59:50.257Z"
   },
   {
    "duration": 0,
    "start_time": "2023-09-27T11:59:50.313Z"
   },
   {
    "duration": 0,
    "start_time": "2023-09-27T11:59:50.314Z"
   },
   {
    "duration": 0,
    "start_time": "2023-09-27T11:59:50.315Z"
   },
   {
    "duration": 0,
    "start_time": "2023-09-27T11:59:50.317Z"
   },
   {
    "duration": 0,
    "start_time": "2023-09-27T11:59:50.318Z"
   },
   {
    "duration": 0,
    "start_time": "2023-09-27T11:59:50.319Z"
   },
   {
    "duration": 0,
    "start_time": "2023-09-27T11:59:50.320Z"
   },
   {
    "duration": 0,
    "start_time": "2023-09-27T11:59:50.322Z"
   },
   {
    "duration": 0,
    "start_time": "2023-09-27T11:59:50.323Z"
   },
   {
    "duration": 0,
    "start_time": "2023-09-27T11:59:50.323Z"
   },
   {
    "duration": 0,
    "start_time": "2023-09-27T11:59:50.325Z"
   },
   {
    "duration": 0,
    "start_time": "2023-09-27T11:59:50.326Z"
   },
   {
    "duration": 0,
    "start_time": "2023-09-27T11:59:50.327Z"
   },
   {
    "duration": 0,
    "start_time": "2023-09-27T11:59:50.328Z"
   },
   {
    "duration": 0,
    "start_time": "2023-09-27T11:59:50.329Z"
   },
   {
    "duration": 0,
    "start_time": "2023-09-27T11:59:50.330Z"
   },
   {
    "duration": 0,
    "start_time": "2023-09-27T11:59:50.331Z"
   },
   {
    "duration": 0,
    "start_time": "2023-09-27T11:59:50.333Z"
   },
   {
    "duration": 0,
    "start_time": "2023-09-27T11:59:50.334Z"
   },
   {
    "duration": 0,
    "start_time": "2023-09-27T11:59:50.335Z"
   },
   {
    "duration": 0,
    "start_time": "2023-09-27T11:59:50.336Z"
   },
   {
    "duration": 0,
    "start_time": "2023-09-27T11:59:50.337Z"
   },
   {
    "duration": 0,
    "start_time": "2023-09-27T11:59:50.338Z"
   },
   {
    "duration": 0,
    "start_time": "2023-09-27T11:59:50.340Z"
   },
   {
    "duration": 0,
    "start_time": "2023-09-27T11:59:50.341Z"
   },
   {
    "duration": 15,
    "start_time": "2023-09-27T12:00:09.153Z"
   },
   {
    "duration": 15,
    "start_time": "2023-09-27T12:00:13.260Z"
   },
   {
    "duration": 72,
    "start_time": "2023-09-27T12:01:59.235Z"
   },
   {
    "duration": 7,
    "start_time": "2023-09-27T12:02:37.354Z"
   },
   {
    "duration": 22,
    "start_time": "2023-09-27T12:02:50.604Z"
   },
   {
    "duration": 20,
    "start_time": "2023-09-27T12:03:43.692Z"
   },
   {
    "duration": 3,
    "start_time": "2023-09-27T12:03:46.262Z"
   },
   {
    "duration": 9,
    "start_time": "2023-09-27T12:03:49.111Z"
   },
   {
    "duration": 8,
    "start_time": "2023-09-27T12:03:50.934Z"
   },
   {
    "duration": 5,
    "start_time": "2023-09-27T12:03:52.299Z"
   },
   {
    "duration": 3,
    "start_time": "2023-09-27T12:03:53.432Z"
   },
   {
    "duration": 21,
    "start_time": "2023-09-27T12:03:57.809Z"
   },
   {
    "duration": 19,
    "start_time": "2023-09-27T12:04:16.933Z"
   },
   {
    "duration": 3,
    "start_time": "2023-09-27T12:04:20.206Z"
   },
   {
    "duration": 26,
    "start_time": "2023-09-27T12:04:28.575Z"
   },
   {
    "duration": 19,
    "start_time": "2023-09-27T12:04:33.950Z"
   },
   {
    "duration": 19,
    "start_time": "2023-09-27T12:07:02.428Z"
   },
   {
    "duration": 8,
    "start_time": "2023-09-27T12:07:08.278Z"
   },
   {
    "duration": 21,
    "start_time": "2023-09-27T12:07:08.440Z"
   },
   {
    "duration": 17,
    "start_time": "2023-09-27T12:08:21.709Z"
   },
   {
    "duration": 16,
    "start_time": "2023-09-27T12:08:29.189Z"
   },
   {
    "duration": 1163,
    "start_time": "2023-09-27T12:08:35.041Z"
   },
   {
    "duration": 52,
    "start_time": "2023-09-27T12:08:36.206Z"
   },
   {
    "duration": 4,
    "start_time": "2023-09-27T12:08:36.260Z"
   },
   {
    "duration": 33,
    "start_time": "2023-09-27T12:08:36.266Z"
   },
   {
    "duration": 23,
    "start_time": "2023-09-27T12:08:36.301Z"
   },
   {
    "duration": 24,
    "start_time": "2023-09-27T12:08:36.326Z"
   },
   {
    "duration": 31,
    "start_time": "2023-09-27T12:08:36.352Z"
   },
   {
    "duration": 19,
    "start_time": "2023-09-27T12:08:36.385Z"
   },
   {
    "duration": 24,
    "start_time": "2023-09-27T12:08:36.406Z"
   },
   {
    "duration": 25,
    "start_time": "2023-09-27T12:08:36.433Z"
   },
   {
    "duration": 4,
    "start_time": "2023-09-27T12:08:36.460Z"
   },
   {
    "duration": 33,
    "start_time": "2023-09-27T12:08:36.466Z"
   },
   {
    "duration": 22,
    "start_time": "2023-09-27T12:08:36.501Z"
   },
   {
    "duration": 29,
    "start_time": "2023-09-27T12:08:36.525Z"
   },
   {
    "duration": 28,
    "start_time": "2023-09-27T12:08:36.556Z"
   },
   {
    "duration": 22,
    "start_time": "2023-09-27T12:08:36.586Z"
   },
   {
    "duration": 3,
    "start_time": "2023-09-27T12:08:36.610Z"
   },
   {
    "duration": 21,
    "start_time": "2023-09-27T12:08:36.615Z"
   },
   {
    "duration": 4,
    "start_time": "2023-09-27T12:08:36.637Z"
   },
   {
    "duration": 41,
    "start_time": "2023-09-27T12:08:36.642Z"
   },
   {
    "duration": 19,
    "start_time": "2023-09-27T12:08:36.685Z"
   },
   {
    "duration": 19,
    "start_time": "2023-09-27T12:08:36.713Z"
   },
   {
    "duration": 11,
    "start_time": "2023-09-27T12:08:36.733Z"
   },
   {
    "duration": 177,
    "start_time": "2023-09-27T12:08:36.746Z"
   },
   {
    "duration": 282,
    "start_time": "2023-09-27T12:08:36.925Z"
   },
   {
    "duration": 16,
    "start_time": "2023-09-27T12:08:37.209Z"
   },
   {
    "duration": 10,
    "start_time": "2023-09-27T12:08:37.226Z"
   },
   {
    "duration": 152,
    "start_time": "2023-09-27T12:08:37.240Z"
   },
   {
    "duration": 24,
    "start_time": "2023-09-27T12:08:37.394Z"
   },
   {
    "duration": 6,
    "start_time": "2023-09-27T12:08:37.420Z"
   },
   {
    "duration": 17,
    "start_time": "2023-09-27T12:08:37.427Z"
   },
   {
    "duration": 1152,
    "start_time": "2023-09-27T12:08:37.446Z"
   },
   {
    "duration": 276,
    "start_time": "2023-09-27T12:08:38.600Z"
   },
   {
    "duration": 6,
    "start_time": "2023-09-27T12:08:38.877Z"
   },
   {
    "duration": 39,
    "start_time": "2023-09-27T12:08:38.884Z"
   },
   {
    "duration": 288,
    "start_time": "2023-09-27T12:08:38.925Z"
   },
   {
    "duration": 18,
    "start_time": "2023-09-27T12:08:39.215Z"
   },
   {
    "duration": 45,
    "start_time": "2023-09-27T12:08:39.235Z"
   },
   {
    "duration": 432,
    "start_time": "2023-09-27T12:08:39.282Z"
   },
   {
    "duration": 60,
    "start_time": "2023-09-27T12:08:39.715Z"
   },
   {
    "duration": 277,
    "start_time": "2023-09-27T12:08:39.777Z"
   },
   {
    "duration": 243,
    "start_time": "2023-09-27T12:08:40.056Z"
   },
   {
    "duration": 17,
    "start_time": "2023-09-27T12:08:40.301Z"
   },
   {
    "duration": 287,
    "start_time": "2023-09-27T12:08:40.320Z"
   },
   {
    "duration": 154,
    "start_time": "2023-09-27T12:08:40.612Z"
   },
   {
    "duration": 160,
    "start_time": "2023-09-27T12:08:40.768Z"
   },
   {
    "duration": 7,
    "start_time": "2023-09-27T12:08:40.930Z"
   },
   {
    "duration": 201,
    "start_time": "2023-09-27T12:08:40.938Z"
   },
   {
    "duration": 39,
    "start_time": "2023-09-27T12:08:41.140Z"
   },
   {
    "duration": 144,
    "start_time": "2023-09-27T12:08:41.180Z"
   },
   {
    "duration": 134,
    "start_time": "2023-09-27T12:08:41.326Z"
   },
   {
    "duration": 233,
    "start_time": "2023-09-27T12:08:41.461Z"
   },
   {
    "duration": 147,
    "start_time": "2023-09-27T12:08:41.696Z"
   },
   {
    "duration": 140,
    "start_time": "2023-09-27T12:08:41.846Z"
   },
   {
    "duration": 131,
    "start_time": "2023-09-27T12:08:41.988Z"
   },
   {
    "duration": 132,
    "start_time": "2023-09-27T12:08:42.121Z"
   },
   {
    "duration": 133,
    "start_time": "2023-09-27T12:08:42.255Z"
   },
   {
    "duration": 147,
    "start_time": "2023-09-27T12:08:42.391Z"
   },
   {
    "duration": 9,
    "start_time": "2023-09-27T12:08:42.540Z"
   },
   {
    "duration": 29,
    "start_time": "2023-09-27T12:08:42.551Z"
   },
   {
    "duration": 9,
    "start_time": "2023-09-27T12:08:42.582Z"
   },
   {
    "duration": 26,
    "start_time": "2023-09-27T12:08:42.592Z"
   },
   {
    "duration": 6,
    "start_time": "2023-09-27T12:08:42.620Z"
   },
   {
    "duration": 268,
    "start_time": "2023-09-27T12:11:40.677Z"
   },
   {
    "duration": 174,
    "start_time": "2023-09-27T12:12:05.353Z"
   },
   {
    "duration": 138,
    "start_time": "2023-09-27T12:13:13.790Z"
   },
   {
    "duration": 153,
    "start_time": "2023-09-27T12:13:20.252Z"
   },
   {
    "duration": 301,
    "start_time": "2023-09-27T12:13:26.772Z"
   },
   {
    "duration": 160,
    "start_time": "2023-09-27T12:14:56.014Z"
   },
   {
    "duration": 157,
    "start_time": "2023-09-27T12:15:11.051Z"
   },
   {
    "duration": 143,
    "start_time": "2023-09-27T12:16:04.953Z"
   },
   {
    "duration": 220,
    "start_time": "2023-09-27T12:16:16.498Z"
   },
   {
    "duration": 346,
    "start_time": "2023-09-27T12:16:22.737Z"
   },
   {
    "duration": 276,
    "start_time": "2023-09-27T12:16:32.401Z"
   },
   {
    "duration": 344,
    "start_time": "2023-09-27T12:17:16.245Z"
   },
   {
    "duration": 269,
    "start_time": "2023-09-27T12:17:51.312Z"
   },
   {
    "duration": 273,
    "start_time": "2023-09-27T12:17:57.346Z"
   },
   {
    "duration": 454,
    "start_time": "2023-09-27T12:18:02.242Z"
   },
   {
    "duration": 373,
    "start_time": "2023-09-27T12:18:11.502Z"
   },
   {
    "duration": 396,
    "start_time": "2023-09-27T12:18:17.319Z"
   },
   {
    "duration": 390,
    "start_time": "2023-09-27T12:18:23.352Z"
   },
   {
    "duration": 356,
    "start_time": "2023-09-27T12:18:28.171Z"
   },
   {
    "duration": 277,
    "start_time": "2023-09-27T12:19:49.766Z"
   },
   {
    "duration": 134,
    "start_time": "2023-09-27T12:23:13.507Z"
   },
   {
    "duration": 88,
    "start_time": "2023-09-27T12:23:23.276Z"
   },
   {
    "duration": 1208,
    "start_time": "2023-09-28T06:47:51.415Z"
   },
   {
    "duration": 58,
    "start_time": "2023-09-28T06:47:52.624Z"
   },
   {
    "duration": 5,
    "start_time": "2023-09-28T06:47:52.683Z"
   },
   {
    "duration": 33,
    "start_time": "2023-09-28T06:47:52.690Z"
   },
   {
    "duration": 12,
    "start_time": "2023-09-28T06:47:52.725Z"
   },
   {
    "duration": 38,
    "start_time": "2023-09-28T06:47:52.739Z"
   },
   {
    "duration": 17,
    "start_time": "2023-09-28T06:47:52.778Z"
   },
   {
    "duration": 14,
    "start_time": "2023-09-28T06:47:52.796Z"
   },
   {
    "duration": 37,
    "start_time": "2023-09-28T06:47:52.811Z"
   },
   {
    "duration": 58,
    "start_time": "2023-09-28T06:47:52.850Z"
   },
   {
    "duration": 4,
    "start_time": "2023-09-28T06:47:52.910Z"
   },
   {
    "duration": 49,
    "start_time": "2023-09-28T06:47:52.915Z"
   },
   {
    "duration": 6,
    "start_time": "2023-09-28T06:47:52.966Z"
   },
   {
    "duration": 29,
    "start_time": "2023-09-28T06:47:52.974Z"
   },
   {
    "duration": 49,
    "start_time": "2023-09-28T06:47:53.005Z"
   },
   {
    "duration": 61,
    "start_time": "2023-09-28T06:47:53.056Z"
   },
   {
    "duration": 31,
    "start_time": "2023-09-28T06:47:53.119Z"
   },
   {
    "duration": 42,
    "start_time": "2023-09-28T06:47:53.152Z"
   },
   {
    "duration": 4,
    "start_time": "2023-09-28T06:47:53.196Z"
   },
   {
    "duration": 51,
    "start_time": "2023-09-28T06:47:53.202Z"
   },
   {
    "duration": 33,
    "start_time": "2023-09-28T06:47:53.255Z"
   },
   {
    "duration": 20,
    "start_time": "2023-09-28T06:47:53.290Z"
   },
   {
    "duration": 7,
    "start_time": "2023-09-28T06:47:53.312Z"
   },
   {
    "duration": 414,
    "start_time": "2023-09-28T06:47:53.321Z"
   },
   {
    "duration": 302,
    "start_time": "2023-09-28T06:47:53.737Z"
   },
   {
    "duration": 17,
    "start_time": "2023-09-28T06:47:54.041Z"
   },
   {
    "duration": 8,
    "start_time": "2023-09-28T06:47:54.060Z"
   },
   {
    "duration": 96,
    "start_time": "2023-09-28T06:47:54.072Z"
   },
   {
    "duration": 0,
    "start_time": "2023-09-28T06:47:54.170Z"
   },
   {
    "duration": 0,
    "start_time": "2023-09-28T06:47:54.171Z"
   },
   {
    "duration": 0,
    "start_time": "2023-09-28T06:47:54.173Z"
   },
   {
    "duration": 0,
    "start_time": "2023-09-28T06:47:54.175Z"
   },
   {
    "duration": 0,
    "start_time": "2023-09-28T06:47:54.176Z"
   },
   {
    "duration": 0,
    "start_time": "2023-09-28T06:47:54.178Z"
   },
   {
    "duration": 0,
    "start_time": "2023-09-28T06:47:54.180Z"
   },
   {
    "duration": 0,
    "start_time": "2023-09-28T06:47:54.181Z"
   },
   {
    "duration": 0,
    "start_time": "2023-09-28T06:47:54.183Z"
   },
   {
    "duration": 0,
    "start_time": "2023-09-28T06:47:54.184Z"
   },
   {
    "duration": 0,
    "start_time": "2023-09-28T06:47:54.185Z"
   },
   {
    "duration": 0,
    "start_time": "2023-09-28T06:47:54.187Z"
   },
   {
    "duration": 0,
    "start_time": "2023-09-28T06:47:54.188Z"
   },
   {
    "duration": 0,
    "start_time": "2023-09-28T06:47:54.190Z"
   },
   {
    "duration": 0,
    "start_time": "2023-09-28T06:47:54.192Z"
   },
   {
    "duration": 0,
    "start_time": "2023-09-28T06:47:54.193Z"
   },
   {
    "duration": 0,
    "start_time": "2023-09-28T06:47:54.195Z"
   },
   {
    "duration": 0,
    "start_time": "2023-09-28T06:47:54.196Z"
   },
   {
    "duration": 0,
    "start_time": "2023-09-28T06:47:54.198Z"
   },
   {
    "duration": 0,
    "start_time": "2023-09-28T06:47:54.200Z"
   },
   {
    "duration": 0,
    "start_time": "2023-09-28T06:47:54.201Z"
   },
   {
    "duration": 1,
    "start_time": "2023-09-28T06:47:54.202Z"
   },
   {
    "duration": 0,
    "start_time": "2023-09-28T06:47:54.205Z"
   },
   {
    "duration": 0,
    "start_time": "2023-09-28T06:47:54.207Z"
   },
   {
    "duration": 0,
    "start_time": "2023-09-28T06:47:54.208Z"
   },
   {
    "duration": 0,
    "start_time": "2023-09-28T06:47:54.213Z"
   },
   {
    "duration": 0,
    "start_time": "2023-09-28T06:47:54.215Z"
   },
   {
    "duration": 0,
    "start_time": "2023-09-28T06:47:54.216Z"
   },
   {
    "duration": 0,
    "start_time": "2023-09-28T06:47:54.218Z"
   },
   {
    "duration": 0,
    "start_time": "2023-09-28T06:47:54.219Z"
   },
   {
    "duration": 0,
    "start_time": "2023-09-28T06:47:54.221Z"
   },
   {
    "duration": 0,
    "start_time": "2023-09-28T06:47:54.223Z"
   },
   {
    "duration": 0,
    "start_time": "2023-09-28T06:47:54.224Z"
   },
   {
    "duration": 0,
    "start_time": "2023-09-28T06:47:54.226Z"
   },
   {
    "duration": 0,
    "start_time": "2023-09-28T06:47:54.227Z"
   },
   {
    "duration": 94,
    "start_time": "2023-09-28T06:50:42.531Z"
   },
   {
    "duration": 10,
    "start_time": "2023-09-28T07:02:23.670Z"
   },
   {
    "duration": 11,
    "start_time": "2023-09-28T07:02:34.298Z"
   },
   {
    "duration": 11,
    "start_time": "2023-09-28T07:03:12.985Z"
   },
   {
    "duration": 13,
    "start_time": "2023-09-28T07:03:13.540Z"
   },
   {
    "duration": 1172,
    "start_time": "2023-09-28T07:04:42.361Z"
   },
   {
    "duration": 56,
    "start_time": "2023-09-28T07:04:43.535Z"
   },
   {
    "duration": 4,
    "start_time": "2023-09-28T07:04:43.592Z"
   },
   {
    "duration": 30,
    "start_time": "2023-09-28T07:04:43.598Z"
   },
   {
    "duration": 14,
    "start_time": "2023-09-28T07:04:43.630Z"
   },
   {
    "duration": 30,
    "start_time": "2023-09-28T07:04:43.646Z"
   },
   {
    "duration": 17,
    "start_time": "2023-09-28T07:04:43.677Z"
   },
   {
    "duration": 17,
    "start_time": "2023-09-28T07:04:43.695Z"
   },
   {
    "duration": 16,
    "start_time": "2023-09-28T07:04:43.715Z"
   },
   {
    "duration": 24,
    "start_time": "2023-09-28T07:04:43.733Z"
   },
   {
    "duration": 4,
    "start_time": "2023-09-28T07:04:43.758Z"
   },
   {
    "duration": 23,
    "start_time": "2023-09-28T07:04:43.764Z"
   },
   {
    "duration": 3,
    "start_time": "2023-09-28T07:04:43.788Z"
   },
   {
    "duration": 24,
    "start_time": "2023-09-28T07:04:43.792Z"
   },
   {
    "duration": 6,
    "start_time": "2023-09-28T07:04:43.818Z"
   },
   {
    "duration": 10,
    "start_time": "2023-09-28T07:04:43.825Z"
   },
   {
    "duration": 10,
    "start_time": "2023-09-28T07:04:43.836Z"
   },
   {
    "duration": 37,
    "start_time": "2023-09-28T07:04:43.848Z"
   },
   {
    "duration": 3,
    "start_time": "2023-09-28T07:04:43.886Z"
   },
   {
    "duration": 31,
    "start_time": "2023-09-28T07:04:43.891Z"
   },
   {
    "duration": 22,
    "start_time": "2023-09-28T07:04:43.924Z"
   },
   {
    "duration": 12,
    "start_time": "2023-09-28T07:04:43.948Z"
   },
   {
    "duration": 15,
    "start_time": "2023-09-28T07:04:43.961Z"
   },
   {
    "duration": 27,
    "start_time": "2023-09-28T07:04:43.978Z"
   },
   {
    "duration": 389,
    "start_time": "2023-09-28T07:04:44.014Z"
   },
   {
    "duration": 285,
    "start_time": "2023-09-28T07:04:44.405Z"
   },
   {
    "duration": 24,
    "start_time": "2023-09-28T07:04:44.692Z"
   },
   {
    "duration": 4,
    "start_time": "2023-09-28T07:04:44.720Z"
   },
   {
    "duration": 96,
    "start_time": "2023-09-28T07:04:44.726Z"
   },
   {
    "duration": 0,
    "start_time": "2023-09-28T07:04:44.824Z"
   },
   {
    "duration": 0,
    "start_time": "2023-09-28T07:04:44.825Z"
   },
   {
    "duration": 0,
    "start_time": "2023-09-28T07:04:44.826Z"
   },
   {
    "duration": 0,
    "start_time": "2023-09-28T07:04:44.827Z"
   },
   {
    "duration": 0,
    "start_time": "2023-09-28T07:04:44.828Z"
   },
   {
    "duration": 0,
    "start_time": "2023-09-28T07:04:44.829Z"
   },
   {
    "duration": 0,
    "start_time": "2023-09-28T07:04:44.830Z"
   },
   {
    "duration": 0,
    "start_time": "2023-09-28T07:04:44.831Z"
   },
   {
    "duration": 0,
    "start_time": "2023-09-28T07:04:44.832Z"
   },
   {
    "duration": 0,
    "start_time": "2023-09-28T07:04:44.833Z"
   },
   {
    "duration": 0,
    "start_time": "2023-09-28T07:04:44.834Z"
   },
   {
    "duration": 0,
    "start_time": "2023-09-28T07:04:44.835Z"
   },
   {
    "duration": 0,
    "start_time": "2023-09-28T07:04:44.837Z"
   },
   {
    "duration": 0,
    "start_time": "2023-09-28T07:04:44.838Z"
   },
   {
    "duration": 0,
    "start_time": "2023-09-28T07:04:44.839Z"
   },
   {
    "duration": 0,
    "start_time": "2023-09-28T07:04:44.840Z"
   },
   {
    "duration": 0,
    "start_time": "2023-09-28T07:04:44.841Z"
   },
   {
    "duration": 0,
    "start_time": "2023-09-28T07:04:44.842Z"
   },
   {
    "duration": 0,
    "start_time": "2023-09-28T07:04:44.843Z"
   },
   {
    "duration": 0,
    "start_time": "2023-09-28T07:04:44.844Z"
   },
   {
    "duration": 0,
    "start_time": "2023-09-28T07:04:44.845Z"
   },
   {
    "duration": 0,
    "start_time": "2023-09-28T07:04:44.845Z"
   },
   {
    "duration": 0,
    "start_time": "2023-09-28T07:04:44.846Z"
   },
   {
    "duration": 0,
    "start_time": "2023-09-28T07:04:44.847Z"
   },
   {
    "duration": 0,
    "start_time": "2023-09-28T07:04:44.848Z"
   },
   {
    "duration": 0,
    "start_time": "2023-09-28T07:04:44.849Z"
   },
   {
    "duration": 0,
    "start_time": "2023-09-28T07:04:44.851Z"
   },
   {
    "duration": 0,
    "start_time": "2023-09-28T07:04:44.852Z"
   },
   {
    "duration": 0,
    "start_time": "2023-09-28T07:04:44.853Z"
   },
   {
    "duration": 0,
    "start_time": "2023-09-28T07:04:44.854Z"
   },
   {
    "duration": 0,
    "start_time": "2023-09-28T07:04:44.855Z"
   },
   {
    "duration": 0,
    "start_time": "2023-09-28T07:04:44.856Z"
   },
   {
    "duration": 0,
    "start_time": "2023-09-28T07:04:44.857Z"
   },
   {
    "duration": 0,
    "start_time": "2023-09-28T07:04:44.858Z"
   },
   {
    "duration": 0,
    "start_time": "2023-09-28T07:04:44.859Z"
   },
   {
    "duration": 284,
    "start_time": "2023-09-28T07:27:40.641Z"
   },
   {
    "duration": 96,
    "start_time": "2023-09-28T07:33:47.693Z"
   },
   {
    "duration": 1249,
    "start_time": "2023-09-28T07:37:33.392Z"
   },
   {
    "duration": 58,
    "start_time": "2023-09-28T07:37:34.643Z"
   },
   {
    "duration": 4,
    "start_time": "2023-09-28T07:37:34.702Z"
   },
   {
    "duration": 30,
    "start_time": "2023-09-28T07:37:34.708Z"
   },
   {
    "duration": 10,
    "start_time": "2023-09-28T07:37:34.740Z"
   },
   {
    "duration": 32,
    "start_time": "2023-09-28T07:37:34.751Z"
   },
   {
    "duration": 31,
    "start_time": "2023-09-28T07:37:34.784Z"
   },
   {
    "duration": 2,
    "start_time": "2023-09-28T07:37:34.817Z"
   },
   {
    "duration": 14,
    "start_time": "2023-09-28T07:37:34.821Z"
   },
   {
    "duration": 21,
    "start_time": "2023-09-28T07:37:34.840Z"
   },
   {
    "duration": 5,
    "start_time": "2023-09-28T07:37:34.863Z"
   },
   {
    "duration": 47,
    "start_time": "2023-09-28T07:37:34.870Z"
   },
   {
    "duration": 2,
    "start_time": "2023-09-28T07:37:34.920Z"
   },
   {
    "duration": 17,
    "start_time": "2023-09-28T07:37:34.924Z"
   },
   {
    "duration": 9,
    "start_time": "2023-09-28T07:37:34.943Z"
   },
   {
    "duration": 9,
    "start_time": "2023-09-28T07:37:34.954Z"
   },
   {
    "duration": 5,
    "start_time": "2023-09-28T07:37:34.965Z"
   },
   {
    "duration": 29,
    "start_time": "2023-09-28T07:37:34.972Z"
   },
   {
    "duration": 3,
    "start_time": "2023-09-28T07:37:35.014Z"
   },
   {
    "duration": 47,
    "start_time": "2023-09-28T07:37:35.019Z"
   },
   {
    "duration": 19,
    "start_time": "2023-09-28T07:37:35.067Z"
   },
   {
    "duration": 10,
    "start_time": "2023-09-28T07:37:35.087Z"
   },
   {
    "duration": 32,
    "start_time": "2023-09-28T07:37:35.099Z"
   },
   {
    "duration": 31,
    "start_time": "2023-09-28T07:37:35.133Z"
   },
   {
    "duration": 431,
    "start_time": "2023-09-28T07:37:35.166Z"
   },
   {
    "duration": 295,
    "start_time": "2023-09-28T07:37:35.600Z"
   },
   {
    "duration": 19,
    "start_time": "2023-09-28T07:37:35.897Z"
   },
   {
    "duration": 37,
    "start_time": "2023-09-28T07:37:35.922Z"
   },
   {
    "duration": 95,
    "start_time": "2023-09-28T07:37:35.961Z"
   },
   {
    "duration": 0,
    "start_time": "2023-09-28T07:37:36.058Z"
   },
   {
    "duration": 0,
    "start_time": "2023-09-28T07:37:36.059Z"
   },
   {
    "duration": 0,
    "start_time": "2023-09-28T07:37:36.061Z"
   },
   {
    "duration": 0,
    "start_time": "2023-09-28T07:37:36.062Z"
   },
   {
    "duration": 0,
    "start_time": "2023-09-28T07:37:36.064Z"
   },
   {
    "duration": 0,
    "start_time": "2023-09-28T07:37:36.065Z"
   },
   {
    "duration": 0,
    "start_time": "2023-09-28T07:37:36.067Z"
   },
   {
    "duration": 0,
    "start_time": "2023-09-28T07:37:36.069Z"
   },
   {
    "duration": 0,
    "start_time": "2023-09-28T07:37:36.071Z"
   },
   {
    "duration": 0,
    "start_time": "2023-09-28T07:37:36.072Z"
   },
   {
    "duration": 0,
    "start_time": "2023-09-28T07:37:36.074Z"
   },
   {
    "duration": 0,
    "start_time": "2023-09-28T07:37:36.076Z"
   },
   {
    "duration": 0,
    "start_time": "2023-09-28T07:37:36.077Z"
   },
   {
    "duration": 0,
    "start_time": "2023-09-28T07:37:36.079Z"
   },
   {
    "duration": 0,
    "start_time": "2023-09-28T07:37:36.080Z"
   },
   {
    "duration": 1,
    "start_time": "2023-09-28T07:37:36.082Z"
   },
   {
    "duration": 0,
    "start_time": "2023-09-28T07:37:36.084Z"
   },
   {
    "duration": 0,
    "start_time": "2023-09-28T07:37:36.086Z"
   },
   {
    "duration": 0,
    "start_time": "2023-09-28T07:37:36.087Z"
   },
   {
    "duration": 0,
    "start_time": "2023-09-28T07:37:36.089Z"
   },
   {
    "duration": 0,
    "start_time": "2023-09-28T07:37:36.090Z"
   },
   {
    "duration": 0,
    "start_time": "2023-09-28T07:37:36.091Z"
   },
   {
    "duration": 0,
    "start_time": "2023-09-28T07:37:36.093Z"
   },
   {
    "duration": 0,
    "start_time": "2023-09-28T07:37:36.095Z"
   },
   {
    "duration": 0,
    "start_time": "2023-09-28T07:37:36.114Z"
   },
   {
    "duration": 0,
    "start_time": "2023-09-28T07:37:36.115Z"
   },
   {
    "duration": 0,
    "start_time": "2023-09-28T07:37:36.117Z"
   },
   {
    "duration": 0,
    "start_time": "2023-09-28T07:37:36.119Z"
   },
   {
    "duration": 0,
    "start_time": "2023-09-28T07:37:36.120Z"
   },
   {
    "duration": 0,
    "start_time": "2023-09-28T07:37:36.121Z"
   },
   {
    "duration": 0,
    "start_time": "2023-09-28T07:37:36.123Z"
   },
   {
    "duration": 0,
    "start_time": "2023-09-28T07:37:36.124Z"
   },
   {
    "duration": 0,
    "start_time": "2023-09-28T07:37:36.126Z"
   },
   {
    "duration": 0,
    "start_time": "2023-09-28T07:37:36.128Z"
   },
   {
    "duration": 0,
    "start_time": "2023-09-28T07:37:36.129Z"
   },
   {
    "duration": 18,
    "start_time": "2023-09-28T07:41:06.114Z"
   },
   {
    "duration": 13,
    "start_time": "2023-09-28T07:41:54.898Z"
   },
   {
    "duration": 9,
    "start_time": "2023-09-28T07:41:55.804Z"
   },
   {
    "duration": 1241,
    "start_time": "2023-09-28T07:42:32.991Z"
   },
   {
    "duration": 55,
    "start_time": "2023-09-28T07:42:34.234Z"
   },
   {
    "duration": 4,
    "start_time": "2023-09-28T07:42:34.291Z"
   },
   {
    "duration": 18,
    "start_time": "2023-09-28T07:42:34.297Z"
   },
   {
    "duration": 11,
    "start_time": "2023-09-28T07:42:34.316Z"
   },
   {
    "duration": 26,
    "start_time": "2023-09-28T07:42:34.328Z"
   },
   {
    "duration": 16,
    "start_time": "2023-09-28T07:42:34.355Z"
   },
   {
    "duration": 5,
    "start_time": "2023-09-28T07:42:34.373Z"
   },
   {
    "duration": 38,
    "start_time": "2023-09-28T07:42:34.380Z"
   },
   {
    "duration": 22,
    "start_time": "2023-09-28T07:42:34.421Z"
   },
   {
    "duration": 4,
    "start_time": "2023-09-28T07:42:34.445Z"
   },
   {
    "duration": 24,
    "start_time": "2023-09-28T07:42:34.450Z"
   },
   {
    "duration": 11,
    "start_time": "2023-09-28T07:42:34.476Z"
   },
   {
    "duration": 12,
    "start_time": "2023-09-28T07:42:34.489Z"
   },
   {
    "duration": 7,
    "start_time": "2023-09-28T07:42:34.514Z"
   },
   {
    "duration": 5,
    "start_time": "2023-09-28T07:42:34.522Z"
   },
   {
    "duration": 10,
    "start_time": "2023-09-28T07:42:34.529Z"
   },
   {
    "duration": 24,
    "start_time": "2023-09-28T07:42:34.541Z"
   },
   {
    "duration": 13,
    "start_time": "2023-09-28T07:42:34.566Z"
   },
   {
    "duration": 44,
    "start_time": "2023-09-28T07:42:34.580Z"
   },
   {
    "duration": 19,
    "start_time": "2023-09-28T07:42:34.625Z"
   },
   {
    "duration": 9,
    "start_time": "2023-09-28T07:42:34.646Z"
   },
   {
    "duration": 18,
    "start_time": "2023-09-28T07:42:34.657Z"
   },
   {
    "duration": 11,
    "start_time": "2023-09-28T07:42:34.676Z"
   },
   {
    "duration": 436,
    "start_time": "2023-09-28T07:42:34.689Z"
   },
   {
    "duration": 293,
    "start_time": "2023-09-28T07:42:35.127Z"
   },
   {
    "duration": 16,
    "start_time": "2023-09-28T07:42:35.422Z"
   },
   {
    "duration": 10,
    "start_time": "2023-09-28T07:42:35.442Z"
   },
   {
    "duration": 117,
    "start_time": "2023-09-28T07:42:35.453Z"
   },
   {
    "duration": 0,
    "start_time": "2023-09-28T07:42:35.572Z"
   },
   {
    "duration": 0,
    "start_time": "2023-09-28T07:42:35.573Z"
   },
   {
    "duration": 0,
    "start_time": "2023-09-28T07:42:35.574Z"
   },
   {
    "duration": 0,
    "start_time": "2023-09-28T07:42:35.575Z"
   },
   {
    "duration": 0,
    "start_time": "2023-09-28T07:42:35.576Z"
   },
   {
    "duration": 0,
    "start_time": "2023-09-28T07:42:35.577Z"
   },
   {
    "duration": 0,
    "start_time": "2023-09-28T07:42:35.578Z"
   },
   {
    "duration": 0,
    "start_time": "2023-09-28T07:42:35.579Z"
   },
   {
    "duration": 0,
    "start_time": "2023-09-28T07:42:35.580Z"
   },
   {
    "duration": 0,
    "start_time": "2023-09-28T07:42:35.581Z"
   },
   {
    "duration": 0,
    "start_time": "2023-09-28T07:42:35.582Z"
   },
   {
    "duration": 0,
    "start_time": "2023-09-28T07:42:35.583Z"
   },
   {
    "duration": 0,
    "start_time": "2023-09-28T07:42:35.584Z"
   },
   {
    "duration": 0,
    "start_time": "2023-09-28T07:42:35.585Z"
   },
   {
    "duration": 0,
    "start_time": "2023-09-28T07:42:35.587Z"
   },
   {
    "duration": 0,
    "start_time": "2023-09-28T07:42:35.587Z"
   },
   {
    "duration": 0,
    "start_time": "2023-09-28T07:42:35.588Z"
   },
   {
    "duration": 0,
    "start_time": "2023-09-28T07:42:35.589Z"
   },
   {
    "duration": 0,
    "start_time": "2023-09-28T07:42:35.590Z"
   },
   {
    "duration": 0,
    "start_time": "2023-09-28T07:42:35.591Z"
   },
   {
    "duration": 0,
    "start_time": "2023-09-28T07:42:35.592Z"
   },
   {
    "duration": 0,
    "start_time": "2023-09-28T07:42:35.593Z"
   },
   {
    "duration": 0,
    "start_time": "2023-09-28T07:42:35.594Z"
   },
   {
    "duration": 0,
    "start_time": "2023-09-28T07:42:35.595Z"
   },
   {
    "duration": 0,
    "start_time": "2023-09-28T07:42:35.596Z"
   },
   {
    "duration": 0,
    "start_time": "2023-09-28T07:42:35.597Z"
   },
   {
    "duration": 0,
    "start_time": "2023-09-28T07:42:35.598Z"
   },
   {
    "duration": 0,
    "start_time": "2023-09-28T07:42:35.599Z"
   },
   {
    "duration": 0,
    "start_time": "2023-09-28T07:42:35.601Z"
   },
   {
    "duration": 0,
    "start_time": "2023-09-28T07:42:35.602Z"
   },
   {
    "duration": 0,
    "start_time": "2023-09-28T07:42:35.604Z"
   },
   {
    "duration": 0,
    "start_time": "2023-09-28T07:42:35.606Z"
   },
   {
    "duration": 0,
    "start_time": "2023-09-28T07:42:35.607Z"
   },
   {
    "duration": 0,
    "start_time": "2023-09-28T07:42:35.608Z"
   },
   {
    "duration": 0,
    "start_time": "2023-09-28T07:42:35.610Z"
   },
   {
    "duration": 17,
    "start_time": "2023-09-28T07:44:21.308Z"
   },
   {
    "duration": 96,
    "start_time": "2023-09-28T07:45:12.627Z"
   },
   {
    "duration": 9,
    "start_time": "2023-09-28T07:45:19.731Z"
   },
   {
    "duration": 10,
    "start_time": "2023-09-28T07:45:45.151Z"
   },
   {
    "duration": 186,
    "start_time": "2023-09-28T07:52:02.452Z"
   },
   {
    "duration": 1248,
    "start_time": "2023-09-28T07:52:19.799Z"
   },
   {
    "duration": 925,
    "start_time": "2023-09-28T07:52:31.288Z"
   },
   {
    "duration": 1244,
    "start_time": "2023-09-28T07:53:50.297Z"
   },
   {
    "duration": 56,
    "start_time": "2023-09-28T07:53:51.543Z"
   },
   {
    "duration": 5,
    "start_time": "2023-09-28T07:53:51.601Z"
   },
   {
    "duration": 37,
    "start_time": "2023-09-28T07:53:51.608Z"
   },
   {
    "duration": 19,
    "start_time": "2023-09-28T07:53:51.646Z"
   },
   {
    "duration": 72,
    "start_time": "2023-09-28T07:53:51.667Z"
   },
   {
    "duration": 32,
    "start_time": "2023-09-28T07:53:51.741Z"
   },
   {
    "duration": 26,
    "start_time": "2023-09-28T07:53:51.775Z"
   },
   {
    "duration": 60,
    "start_time": "2023-09-28T07:53:51.803Z"
   },
   {
    "duration": 50,
    "start_time": "2023-09-28T07:53:51.866Z"
   },
   {
    "duration": 13,
    "start_time": "2023-09-28T07:53:51.918Z"
   },
   {
    "duration": 48,
    "start_time": "2023-09-28T07:53:51.933Z"
   },
   {
    "duration": 40,
    "start_time": "2023-09-28T07:53:51.982Z"
   },
   {
    "duration": 58,
    "start_time": "2023-09-28T07:53:52.023Z"
   },
   {
    "duration": 48,
    "start_time": "2023-09-28T07:53:52.083Z"
   },
   {
    "duration": 60,
    "start_time": "2023-09-28T07:53:52.133Z"
   },
   {
    "duration": 36,
    "start_time": "2023-09-28T07:53:52.195Z"
   },
   {
    "duration": 35,
    "start_time": "2023-09-28T07:53:52.233Z"
   },
   {
    "duration": 50,
    "start_time": "2023-09-28T07:53:52.270Z"
   },
   {
    "duration": 114,
    "start_time": "2023-09-28T07:53:52.322Z"
   },
   {
    "duration": 35,
    "start_time": "2023-09-28T07:53:52.438Z"
   },
   {
    "duration": 27,
    "start_time": "2023-09-28T07:53:52.475Z"
   },
   {
    "duration": 38,
    "start_time": "2023-09-28T07:53:52.504Z"
   },
   {
    "duration": 34,
    "start_time": "2023-09-28T07:53:52.544Z"
   },
   {
    "duration": 413,
    "start_time": "2023-09-28T07:53:52.580Z"
   },
   {
    "duration": 290,
    "start_time": "2023-09-28T07:53:52.995Z"
   },
   {
    "duration": 17,
    "start_time": "2023-09-28T07:53:53.286Z"
   },
   {
    "duration": 5,
    "start_time": "2023-09-28T07:53:53.316Z"
   },
   {
    "duration": 820,
    "start_time": "2023-09-28T07:53:53.322Z"
   },
   {
    "duration": 17,
    "start_time": "2023-09-28T07:53:54.144Z"
   },
   {
    "duration": 13,
    "start_time": "2023-09-28T07:53:54.163Z"
   },
   {
    "duration": 16,
    "start_time": "2023-09-28T07:53:54.177Z"
   },
   {
    "duration": 1258,
    "start_time": "2023-09-28T07:53:54.194Z"
   },
   {
    "duration": 217,
    "start_time": "2023-09-28T07:53:55.454Z"
   },
   {
    "duration": 5,
    "start_time": "2023-09-28T07:53:55.673Z"
   },
   {
    "duration": 41,
    "start_time": "2023-09-28T07:53:55.679Z"
   },
   {
    "duration": 269,
    "start_time": "2023-09-28T07:53:55.722Z"
   },
   {
    "duration": 26,
    "start_time": "2023-09-28T07:53:55.992Z"
   },
   {
    "duration": 39,
    "start_time": "2023-09-28T07:53:56.019Z"
   },
   {
    "duration": 375,
    "start_time": "2023-09-28T07:53:56.059Z"
   },
   {
    "duration": 46,
    "start_time": "2023-09-28T07:53:56.436Z"
   },
   {
    "duration": 40,
    "start_time": "2023-09-28T07:53:56.483Z"
   },
   {
    "duration": 264,
    "start_time": "2023-09-28T07:53:56.524Z"
   },
   {
    "duration": 12,
    "start_time": "2023-09-28T07:53:56.790Z"
   },
   {
    "duration": 282,
    "start_time": "2023-09-28T07:53:56.813Z"
   },
   {
    "duration": 166,
    "start_time": "2023-09-28T07:53:57.096Z"
   },
   {
    "duration": 155,
    "start_time": "2023-09-28T07:53:57.263Z"
   },
   {
    "duration": 7,
    "start_time": "2023-09-28T07:53:57.420Z"
   },
   {
    "duration": 390,
    "start_time": "2023-09-28T07:53:57.428Z"
   },
   {
    "duration": 40,
    "start_time": "2023-09-28T07:53:57.820Z"
   },
   {
    "duration": 170,
    "start_time": "2023-09-28T07:53:57.862Z"
   },
   {
    "duration": 146,
    "start_time": "2023-09-28T07:53:58.033Z"
   },
   {
    "duration": 152,
    "start_time": "2023-09-28T07:53:58.181Z"
   },
   {
    "duration": 189,
    "start_time": "2023-09-28T07:53:58.335Z"
   },
   {
    "duration": 306,
    "start_time": "2023-09-28T07:53:58.525Z"
   },
   {
    "duration": 310,
    "start_time": "2023-09-28T07:53:58.833Z"
   },
   {
    "duration": 286,
    "start_time": "2023-09-28T07:53:59.144Z"
   },
   {
    "duration": 295,
    "start_time": "2023-09-28T07:53:59.431Z"
   },
   {
    "duration": 302,
    "start_time": "2023-09-28T07:53:59.727Z"
   },
   {
    "duration": 9,
    "start_time": "2023-09-28T07:54:00.031Z"
   },
   {
    "duration": 86,
    "start_time": "2023-09-28T07:54:00.041Z"
   },
   {
    "duration": 43,
    "start_time": "2023-09-28T07:54:00.129Z"
   },
   {
    "duration": 52,
    "start_time": "2023-09-28T07:54:00.174Z"
   },
   {
    "duration": 72,
    "start_time": "2023-09-28T07:54:00.227Z"
   },
   {
    "duration": 265,
    "start_time": "2023-09-28T07:55:19.227Z"
   },
   {
    "duration": 332,
    "start_time": "2023-09-28T07:55:53.932Z"
   },
   {
    "duration": 247,
    "start_time": "2023-09-28T07:56:11.124Z"
   },
   {
    "duration": 267,
    "start_time": "2023-09-28T07:56:33.174Z"
   },
   {
    "duration": 100,
    "start_time": "2023-09-28T07:58:54.611Z"
   },
   {
    "duration": 277,
    "start_time": "2023-09-28T07:59:14.515Z"
   },
   {
    "duration": 262,
    "start_time": "2023-09-28T07:59:50.435Z"
   },
   {
    "duration": 196,
    "start_time": "2023-09-28T08:01:18.388Z"
   },
   {
    "duration": 217,
    "start_time": "2023-09-28T08:01:52.546Z"
   },
   {
    "duration": 303,
    "start_time": "2023-09-28T08:02:08.285Z"
   },
   {
    "duration": 97,
    "start_time": "2023-09-28T08:03:28.606Z"
   },
   {
    "duration": 157,
    "start_time": "2023-09-28T08:03:43.746Z"
   },
   {
    "duration": 1343,
    "start_time": "2023-09-28T08:04:03.197Z"
   },
   {
    "duration": 55,
    "start_time": "2023-09-28T08:04:04.542Z"
   },
   {
    "duration": 4,
    "start_time": "2023-09-28T08:04:04.599Z"
   },
   {
    "duration": 35,
    "start_time": "2023-09-28T08:04:04.605Z"
   },
   {
    "duration": 23,
    "start_time": "2023-09-28T08:04:04.641Z"
   },
   {
    "duration": 50,
    "start_time": "2023-09-28T08:04:04.666Z"
   },
   {
    "duration": 22,
    "start_time": "2023-09-28T08:04:04.717Z"
   },
   {
    "duration": 22,
    "start_time": "2023-09-28T08:04:04.741Z"
   },
   {
    "duration": 34,
    "start_time": "2023-09-28T08:04:04.765Z"
   },
   {
    "duration": 64,
    "start_time": "2023-09-28T08:04:04.801Z"
   },
   {
    "duration": 37,
    "start_time": "2023-09-28T08:04:04.867Z"
   },
   {
    "duration": 48,
    "start_time": "2023-09-28T08:04:04.906Z"
   },
   {
    "duration": 53,
    "start_time": "2023-09-28T08:04:04.956Z"
   },
   {
    "duration": 42,
    "start_time": "2023-09-28T08:04:05.011Z"
   },
   {
    "duration": 34,
    "start_time": "2023-09-28T08:04:05.055Z"
   },
   {
    "duration": 52,
    "start_time": "2023-09-28T08:04:05.091Z"
   },
   {
    "duration": 262,
    "start_time": "2023-09-28T08:04:05.145Z"
   },
   {
    "duration": 188,
    "start_time": "2023-09-28T08:04:05.408Z"
   },
   {
    "duration": 265,
    "start_time": "2023-09-28T08:04:05.598Z"
   },
   {
    "duration": 138,
    "start_time": "2023-09-28T08:04:05.865Z"
   },
   {
    "duration": 212,
    "start_time": "2023-09-28T08:04:06.005Z"
   },
   {
    "duration": 27,
    "start_time": "2023-09-28T08:04:06.219Z"
   },
   {
    "duration": 38,
    "start_time": "2023-09-28T08:04:06.248Z"
   },
   {
    "duration": 5,
    "start_time": "2023-09-28T08:04:06.288Z"
   },
   {
    "duration": 392,
    "start_time": "2023-09-28T08:04:06.295Z"
   },
   {
    "duration": 276,
    "start_time": "2023-09-28T08:04:06.688Z"
   },
   {
    "duration": 16,
    "start_time": "2023-09-28T08:04:06.966Z"
   },
   {
    "duration": 49,
    "start_time": "2023-09-28T08:04:06.985Z"
   },
   {
    "duration": 307,
    "start_time": "2023-09-28T08:04:07.035Z"
   },
   {
    "duration": 18,
    "start_time": "2023-09-28T08:04:07.344Z"
   },
   {
    "duration": 35,
    "start_time": "2023-09-28T08:04:07.363Z"
   },
   {
    "duration": 29,
    "start_time": "2023-09-28T08:04:07.400Z"
   },
   {
    "duration": 1275,
    "start_time": "2023-09-28T08:04:07.430Z"
   },
   {
    "duration": 265,
    "start_time": "2023-09-28T08:04:08.706Z"
   },
   {
    "duration": 6,
    "start_time": "2023-09-28T08:04:08.973Z"
   },
   {
    "duration": 94,
    "start_time": "2023-09-28T08:04:08.980Z"
   },
   {
    "duration": 278,
    "start_time": "2023-09-28T08:04:09.076Z"
   },
   {
    "duration": 18,
    "start_time": "2023-09-28T08:04:09.356Z"
   },
   {
    "duration": 38,
    "start_time": "2023-09-28T08:04:09.376Z"
   },
   {
    "duration": 423,
    "start_time": "2023-09-28T08:04:09.416Z"
   },
   {
    "duration": 48,
    "start_time": "2023-09-28T08:04:09.840Z"
   },
   {
    "duration": 43,
    "start_time": "2023-09-28T08:04:09.889Z"
   },
   {
    "duration": 249,
    "start_time": "2023-09-28T08:04:09.933Z"
   },
   {
    "duration": 13,
    "start_time": "2023-09-28T08:04:10.183Z"
   },
   {
    "duration": 282,
    "start_time": "2023-09-28T08:04:10.198Z"
   },
   {
    "duration": 151,
    "start_time": "2023-09-28T08:04:10.481Z"
   },
   {
    "duration": 152,
    "start_time": "2023-09-28T08:04:10.634Z"
   },
   {
    "duration": 7,
    "start_time": "2023-09-28T08:04:10.787Z"
   },
   {
    "duration": 192,
    "start_time": "2023-09-28T08:04:10.795Z"
   },
   {
    "duration": 48,
    "start_time": "2023-09-28T08:04:10.988Z"
   },
   {
    "duration": 239,
    "start_time": "2023-09-28T08:04:11.037Z"
   },
   {
    "duration": 129,
    "start_time": "2023-09-28T08:04:11.278Z"
   },
   {
    "duration": 131,
    "start_time": "2023-09-28T08:04:11.413Z"
   },
   {
    "duration": 139,
    "start_time": "2023-09-28T08:04:11.546Z"
   },
   {
    "duration": 138,
    "start_time": "2023-09-28T08:04:11.686Z"
   },
   {
    "duration": 131,
    "start_time": "2023-09-28T08:04:11.825Z"
   },
   {
    "duration": 139,
    "start_time": "2023-09-28T08:04:11.957Z"
   },
   {
    "duration": 128,
    "start_time": "2023-09-28T08:04:12.098Z"
   },
   {
    "duration": 142,
    "start_time": "2023-09-28T08:04:12.228Z"
   },
   {
    "duration": 8,
    "start_time": "2023-09-28T08:04:12.372Z"
   },
   {
    "duration": 30,
    "start_time": "2023-09-28T08:04:12.381Z"
   },
   {
    "duration": 32,
    "start_time": "2023-09-28T08:04:12.413Z"
   },
   {
    "duration": 17,
    "start_time": "2023-09-28T08:04:12.447Z"
   },
   {
    "duration": 15,
    "start_time": "2023-09-28T08:04:12.466Z"
   },
   {
    "duration": 28,
    "start_time": "2023-09-28T08:06:05.358Z"
   },
   {
    "duration": 106,
    "start_time": "2023-09-28T08:06:43.631Z"
   },
   {
    "duration": 118,
    "start_time": "2023-09-28T08:11:04.003Z"
   },
   {
    "duration": 120,
    "start_time": "2023-09-28T08:11:09.864Z"
   },
   {
    "duration": 29,
    "start_time": "2023-09-28T08:11:37.474Z"
   },
   {
    "duration": 30,
    "start_time": "2023-09-28T08:25:36.110Z"
   },
   {
    "duration": 304,
    "start_time": "2023-09-28T08:25:38.069Z"
   },
   {
    "duration": 27,
    "start_time": "2023-09-28T08:33:32.457Z"
   },
   {
    "duration": 28,
    "start_time": "2023-09-28T08:33:41.702Z"
   },
   {
    "duration": 26,
    "start_time": "2023-09-28T08:35:28.682Z"
   },
   {
    "duration": 222,
    "start_time": "2023-09-28T08:35:32.416Z"
   },
   {
    "duration": 25,
    "start_time": "2023-09-28T08:35:41.956Z"
   },
   {
    "duration": 27,
    "start_time": "2023-09-28T08:36:05.592Z"
   },
   {
    "duration": 24,
    "start_time": "2023-09-28T08:36:08.647Z"
   },
   {
    "duration": 318,
    "start_time": "2023-09-28T08:36:46.398Z"
   },
   {
    "duration": 26,
    "start_time": "2023-09-28T08:36:57.757Z"
   },
   {
    "duration": 3,
    "start_time": "2023-09-28T08:37:39.009Z"
   },
   {
    "duration": 115,
    "start_time": "2023-09-28T08:38:50.403Z"
   },
   {
    "duration": 199,
    "start_time": "2023-09-28T08:39:10.493Z"
   },
   {
    "duration": 202,
    "start_time": "2023-09-28T08:39:23.129Z"
   },
   {
    "duration": 212,
    "start_time": "2023-09-28T08:41:15.185Z"
   },
   {
    "duration": 25,
    "start_time": "2023-09-28T08:41:53.412Z"
   },
   {
    "duration": 224,
    "start_time": "2023-09-28T08:41:55.804Z"
   },
   {
    "duration": 25,
    "start_time": "2023-09-28T08:42:45.261Z"
   },
   {
    "duration": 246,
    "start_time": "2023-09-28T08:42:46.985Z"
   },
   {
    "duration": 27,
    "start_time": "2023-09-28T08:43:07.611Z"
   },
   {
    "duration": 218,
    "start_time": "2023-09-28T08:43:13.395Z"
   },
   {
    "duration": 12,
    "start_time": "2023-09-28T08:44:04.359Z"
   },
   {
    "duration": 104,
    "start_time": "2023-09-28T08:45:16.171Z"
   },
   {
    "duration": 102,
    "start_time": "2023-09-28T08:49:25.707Z"
   },
   {
    "duration": 108,
    "start_time": "2023-09-28T08:49:43.336Z"
   },
   {
    "duration": 140,
    "start_time": "2023-09-28T08:49:53.724Z"
   },
   {
    "duration": 142,
    "start_time": "2023-09-28T08:50:04.649Z"
   },
   {
    "duration": 105,
    "start_time": "2023-09-28T08:51:24.595Z"
   },
   {
    "duration": 393,
    "start_time": "2023-09-28T08:51:29.175Z"
   },
   {
    "duration": 282,
    "start_time": "2023-09-28T08:51:38.683Z"
   },
   {
    "duration": 217,
    "start_time": "2023-09-28T08:51:54.218Z"
   },
   {
    "duration": 279,
    "start_time": "2023-09-28T08:53:39.272Z"
   },
   {
    "duration": 12,
    "start_time": "2023-09-28T08:58:14.295Z"
   },
   {
    "duration": 22,
    "start_time": "2023-09-28T08:58:25.511Z"
   },
   {
    "duration": 523,
    "start_time": "2023-09-28T08:58:29.143Z"
   },
   {
    "duration": 337,
    "start_time": "2023-09-28T08:58:44.566Z"
   },
   {
    "duration": 361,
    "start_time": "2023-09-28T08:58:59.186Z"
   },
   {
    "duration": 337,
    "start_time": "2023-09-28T08:59:13.302Z"
   },
   {
    "duration": 21,
    "start_time": "2023-09-28T08:59:28.626Z"
   },
   {
    "duration": 19,
    "start_time": "2023-09-28T09:00:15.221Z"
   },
   {
    "duration": 7,
    "start_time": "2023-09-28T09:01:12.109Z"
   },
   {
    "duration": 313,
    "start_time": "2023-09-28T09:01:22.356Z"
   },
   {
    "duration": 12,
    "start_time": "2023-09-28T09:01:47.475Z"
   },
   {
    "duration": 15,
    "start_time": "2023-09-28T09:02:09.312Z"
   },
   {
    "duration": 17,
    "start_time": "2023-09-28T09:02:16.596Z"
   },
   {
    "duration": 281,
    "start_time": "2023-09-28T09:03:15.938Z"
   },
   {
    "duration": 15,
    "start_time": "2023-09-28T09:03:33.284Z"
   },
   {
    "duration": 22,
    "start_time": "2023-09-28T09:05:00.724Z"
   },
   {
    "duration": 5,
    "start_time": "2023-09-28T09:05:23.627Z"
   },
   {
    "duration": 6,
    "start_time": "2023-09-28T09:05:52.213Z"
   },
   {
    "duration": 313,
    "start_time": "2023-09-28T09:06:53.392Z"
   },
   {
    "duration": 4,
    "start_time": "2023-09-28T09:13:21.164Z"
   },
   {
    "duration": 16,
    "start_time": "2023-09-28T09:13:40.962Z"
   },
   {
    "duration": 96,
    "start_time": "2023-09-28T09:16:07.652Z"
   },
   {
    "duration": 272,
    "start_time": "2023-09-28T09:16:26.456Z"
   },
   {
    "duration": 104,
    "start_time": "2023-09-28T09:16:39.715Z"
   },
   {
    "duration": 96,
    "start_time": "2023-09-28T09:17:05.483Z"
   },
   {
    "duration": 6,
    "start_time": "2023-09-28T09:17:12.187Z"
   },
   {
    "duration": 6,
    "start_time": "2023-09-28T09:17:18.020Z"
   },
   {
    "duration": 107,
    "start_time": "2023-09-28T09:18:03.754Z"
   },
   {
    "duration": 8,
    "start_time": "2023-09-28T09:18:14.909Z"
   },
   {
    "duration": 7,
    "start_time": "2023-09-28T09:18:41.451Z"
   },
   {
    "duration": 235,
    "start_time": "2023-09-28T09:18:57.597Z"
   },
   {
    "duration": 18,
    "start_time": "2023-09-28T09:19:16.273Z"
   },
   {
    "duration": 138,
    "start_time": "2023-09-28T09:19:20.509Z"
   },
   {
    "duration": 15,
    "start_time": "2023-09-28T09:19:24.429Z"
   },
   {
    "duration": 15,
    "start_time": "2023-09-28T09:19:27.747Z"
   },
   {
    "duration": 12,
    "start_time": "2023-09-28T09:19:32.495Z"
   },
   {
    "duration": 12,
    "start_time": "2023-09-28T09:19:52.804Z"
   },
   {
    "duration": 237,
    "start_time": "2023-09-28T09:19:59.510Z"
   },
   {
    "duration": 12,
    "start_time": "2023-09-28T09:20:03.102Z"
   },
   {
    "duration": 16,
    "start_time": "2023-09-28T09:20:32.847Z"
   },
   {
    "duration": 21,
    "start_time": "2023-09-28T09:21:04.031Z"
   },
   {
    "duration": 17,
    "start_time": "2023-09-28T09:21:34.639Z"
   },
   {
    "duration": 19,
    "start_time": "2023-09-28T09:22:11.817Z"
   },
   {
    "duration": 20,
    "start_time": "2023-09-28T09:22:30.730Z"
   },
   {
    "duration": 434,
    "start_time": "2023-09-28T09:22:42.486Z"
   },
   {
    "duration": 225,
    "start_time": "2023-09-28T09:24:12.408Z"
   },
   {
    "duration": 382,
    "start_time": "2023-09-28T09:25:00.806Z"
   },
   {
    "duration": 18,
    "start_time": "2023-09-28T09:25:19.444Z"
   },
   {
    "duration": 18,
    "start_time": "2023-09-28T11:02:49.176Z"
   },
   {
    "duration": 20,
    "start_time": "2023-09-28T11:04:51.912Z"
   },
   {
    "duration": 25,
    "start_time": "2023-09-28T11:07:13.520Z"
   },
   {
    "duration": 14,
    "start_time": "2023-09-28T11:07:45.683Z"
   },
   {
    "duration": 1205,
    "start_time": "2023-09-28T11:08:06.311Z"
   },
   {
    "duration": 53,
    "start_time": "2023-09-28T11:08:07.518Z"
   },
   {
    "duration": 3,
    "start_time": "2023-09-28T11:08:07.573Z"
   },
   {
    "duration": 37,
    "start_time": "2023-09-28T11:08:07.578Z"
   },
   {
    "duration": 56,
    "start_time": "2023-09-28T11:08:07.617Z"
   },
   {
    "duration": 40,
    "start_time": "2023-09-28T11:08:07.675Z"
   },
   {
    "duration": 25,
    "start_time": "2023-09-28T11:08:07.717Z"
   },
   {
    "duration": 17,
    "start_time": "2023-09-28T11:08:07.744Z"
   },
   {
    "duration": 53,
    "start_time": "2023-09-28T11:08:07.762Z"
   },
   {
    "duration": 40,
    "start_time": "2023-09-28T11:08:07.817Z"
   },
   {
    "duration": 32,
    "start_time": "2023-09-28T11:08:07.859Z"
   },
   {
    "duration": 42,
    "start_time": "2023-09-28T11:08:07.893Z"
   },
   {
    "duration": 16,
    "start_time": "2023-09-28T11:08:07.937Z"
   },
   {
    "duration": 26,
    "start_time": "2023-09-28T11:08:07.955Z"
   },
   {
    "duration": 48,
    "start_time": "2023-09-28T11:08:07.982Z"
   },
   {
    "duration": 41,
    "start_time": "2023-09-28T11:08:08.032Z"
   },
   {
    "duration": 26,
    "start_time": "2023-09-28T11:08:08.075Z"
   },
   {
    "duration": 22,
    "start_time": "2023-09-28T11:08:08.102Z"
   },
   {
    "duration": 4,
    "start_time": "2023-09-28T11:08:08.125Z"
   },
   {
    "duration": 40,
    "start_time": "2023-09-28T11:08:08.130Z"
   },
   {
    "duration": 19,
    "start_time": "2023-09-28T11:08:08.172Z"
   },
   {
    "duration": 20,
    "start_time": "2023-09-28T11:08:08.193Z"
   },
   {
    "duration": 21,
    "start_time": "2023-09-28T11:08:08.215Z"
   },
   {
    "duration": 27,
    "start_time": "2023-09-28T11:08:08.238Z"
   },
   {
    "duration": 412,
    "start_time": "2023-09-28T11:08:08.267Z"
   },
   {
    "duration": 280,
    "start_time": "2023-09-28T11:08:08.680Z"
   },
   {
    "duration": 18,
    "start_time": "2023-09-28T11:08:08.962Z"
   },
   {
    "duration": 26,
    "start_time": "2023-09-28T11:08:08.985Z"
   },
   {
    "duration": 275,
    "start_time": "2023-09-28T11:08:09.012Z"
   },
   {
    "duration": 26,
    "start_time": "2023-09-28T11:08:09.289Z"
   },
   {
    "duration": 26,
    "start_time": "2023-09-28T11:08:09.317Z"
   },
   {
    "duration": 46,
    "start_time": "2023-09-28T11:08:09.345Z"
   },
   {
    "duration": 1235,
    "start_time": "2023-09-28T11:08:09.393Z"
   },
   {
    "duration": 245,
    "start_time": "2023-09-28T11:08:10.630Z"
   },
   {
    "duration": 5,
    "start_time": "2023-09-28T11:08:10.877Z"
   },
   {
    "duration": 84,
    "start_time": "2023-09-28T11:08:10.883Z"
   },
   {
    "duration": 339,
    "start_time": "2023-09-28T11:08:10.969Z"
   },
   {
    "duration": 19,
    "start_time": "2023-09-28T11:08:11.314Z"
   },
   {
    "duration": 112,
    "start_time": "2023-09-28T11:08:11.335Z"
   },
   {
    "duration": 0,
    "start_time": "2023-09-28T11:08:11.449Z"
   },
   {
    "duration": 0,
    "start_time": "2023-09-28T11:08:11.450Z"
   },
   {
    "duration": 0,
    "start_time": "2023-09-28T11:08:11.451Z"
   },
   {
    "duration": 0,
    "start_time": "2023-09-28T11:08:11.453Z"
   },
   {
    "duration": 0,
    "start_time": "2023-09-28T11:08:11.454Z"
   },
   {
    "duration": 0,
    "start_time": "2023-09-28T11:08:11.455Z"
   },
   {
    "duration": 0,
    "start_time": "2023-09-28T11:08:11.456Z"
   },
   {
    "duration": 0,
    "start_time": "2023-09-28T11:08:11.457Z"
   },
   {
    "duration": 0,
    "start_time": "2023-09-28T11:08:11.459Z"
   },
   {
    "duration": 0,
    "start_time": "2023-09-28T11:08:11.459Z"
   },
   {
    "duration": 0,
    "start_time": "2023-09-28T11:08:11.460Z"
   },
   {
    "duration": 0,
    "start_time": "2023-09-28T11:08:11.461Z"
   },
   {
    "duration": 0,
    "start_time": "2023-09-28T11:08:11.463Z"
   },
   {
    "duration": 0,
    "start_time": "2023-09-28T11:08:11.464Z"
   },
   {
    "duration": 0,
    "start_time": "2023-09-28T11:08:11.465Z"
   },
   {
    "duration": 0,
    "start_time": "2023-09-28T11:08:11.466Z"
   },
   {
    "duration": 0,
    "start_time": "2023-09-28T11:08:11.467Z"
   },
   {
    "duration": 0,
    "start_time": "2023-09-28T11:08:11.468Z"
   },
   {
    "duration": 0,
    "start_time": "2023-09-28T11:08:11.469Z"
   },
   {
    "duration": 0,
    "start_time": "2023-09-28T11:08:11.470Z"
   },
   {
    "duration": 0,
    "start_time": "2023-09-28T11:08:11.471Z"
   },
   {
    "duration": 0,
    "start_time": "2023-09-28T11:08:11.514Z"
   },
   {
    "duration": 0,
    "start_time": "2023-09-28T11:08:11.515Z"
   },
   {
    "duration": 0,
    "start_time": "2023-09-28T11:08:11.516Z"
   },
   {
    "duration": 0,
    "start_time": "2023-09-28T11:08:11.517Z"
   },
   {
    "duration": 0,
    "start_time": "2023-09-28T11:08:11.518Z"
   },
   {
    "duration": 0,
    "start_time": "2023-09-28T11:08:11.519Z"
   },
   {
    "duration": 0,
    "start_time": "2023-09-28T11:08:11.520Z"
   },
   {
    "duration": 10,
    "start_time": "2023-09-28T11:09:46.807Z"
   },
   {
    "duration": 18,
    "start_time": "2023-09-28T11:24:47.659Z"
   },
   {
    "duration": 6,
    "start_time": "2023-09-28T11:27:20.999Z"
   },
   {
    "duration": 6,
    "start_time": "2023-09-28T11:27:21.960Z"
   },
   {
    "duration": 14,
    "start_time": "2023-09-28T11:27:41.183Z"
   },
   {
    "duration": 5,
    "start_time": "2023-09-28T11:27:48.622Z"
   },
   {
    "duration": 1229,
    "start_time": "2023-09-28T11:28:02.712Z"
   },
   {
    "duration": 55,
    "start_time": "2023-09-28T11:28:03.943Z"
   },
   {
    "duration": 5,
    "start_time": "2023-09-28T11:28:04.000Z"
   },
   {
    "duration": 47,
    "start_time": "2023-09-28T11:28:04.007Z"
   },
   {
    "duration": 25,
    "start_time": "2023-09-28T11:28:04.056Z"
   },
   {
    "duration": 46,
    "start_time": "2023-09-28T11:28:04.083Z"
   },
   {
    "duration": 25,
    "start_time": "2023-09-28T11:28:04.131Z"
   },
   {
    "duration": 5,
    "start_time": "2023-09-28T11:28:04.158Z"
   },
   {
    "duration": 35,
    "start_time": "2023-09-28T11:28:04.164Z"
   },
   {
    "duration": 33,
    "start_time": "2023-09-28T11:28:04.201Z"
   },
   {
    "duration": 4,
    "start_time": "2023-09-28T11:28:04.236Z"
   },
   {
    "duration": 38,
    "start_time": "2023-09-28T11:28:04.242Z"
   },
   {
    "duration": 2,
    "start_time": "2023-09-28T11:28:04.282Z"
   },
   {
    "duration": 20,
    "start_time": "2023-09-28T11:28:04.287Z"
   },
   {
    "duration": 29,
    "start_time": "2023-09-28T11:28:04.309Z"
   },
   {
    "duration": 29,
    "start_time": "2023-09-28T11:28:04.340Z"
   },
   {
    "duration": 149,
    "start_time": "2023-09-28T11:28:04.371Z"
   },
   {
    "duration": 0,
    "start_time": "2023-09-28T11:28:04.524Z"
   },
   {
    "duration": 0,
    "start_time": "2023-09-28T11:28:04.525Z"
   },
   {
    "duration": 0,
    "start_time": "2023-09-28T11:28:04.527Z"
   },
   {
    "duration": 0,
    "start_time": "2023-09-28T11:28:04.529Z"
   },
   {
    "duration": 0,
    "start_time": "2023-09-28T11:28:04.530Z"
   },
   {
    "duration": 0,
    "start_time": "2023-09-28T11:28:04.532Z"
   },
   {
    "duration": 0,
    "start_time": "2023-09-28T11:28:04.533Z"
   },
   {
    "duration": 0,
    "start_time": "2023-09-28T11:28:04.535Z"
   },
   {
    "duration": 0,
    "start_time": "2023-09-28T11:28:04.536Z"
   },
   {
    "duration": 0,
    "start_time": "2023-09-28T11:28:04.538Z"
   },
   {
    "duration": 0,
    "start_time": "2023-09-28T11:28:04.539Z"
   },
   {
    "duration": 0,
    "start_time": "2023-09-28T11:28:04.541Z"
   },
   {
    "duration": 0,
    "start_time": "2023-09-28T11:28:04.542Z"
   },
   {
    "duration": 0,
    "start_time": "2023-09-28T11:28:04.544Z"
   },
   {
    "duration": 0,
    "start_time": "2023-09-28T11:28:04.545Z"
   },
   {
    "duration": 0,
    "start_time": "2023-09-28T11:28:04.546Z"
   },
   {
    "duration": 0,
    "start_time": "2023-09-28T11:28:04.548Z"
   },
   {
    "duration": 0,
    "start_time": "2023-09-28T11:28:04.549Z"
   },
   {
    "duration": 0,
    "start_time": "2023-09-28T11:28:04.551Z"
   },
   {
    "duration": 0,
    "start_time": "2023-09-28T11:28:04.552Z"
   },
   {
    "duration": 0,
    "start_time": "2023-09-28T11:28:04.555Z"
   },
   {
    "duration": 0,
    "start_time": "2023-09-28T11:28:04.556Z"
   },
   {
    "duration": 0,
    "start_time": "2023-09-28T11:28:04.558Z"
   },
   {
    "duration": 0,
    "start_time": "2023-09-28T11:28:04.619Z"
   },
   {
    "duration": 0,
    "start_time": "2023-09-28T11:28:04.620Z"
   },
   {
    "duration": 0,
    "start_time": "2023-09-28T11:28:04.621Z"
   },
   {
    "duration": 0,
    "start_time": "2023-09-28T11:28:04.622Z"
   },
   {
    "duration": 0,
    "start_time": "2023-09-28T11:28:04.623Z"
   },
   {
    "duration": 0,
    "start_time": "2023-09-28T11:28:04.624Z"
   },
   {
    "duration": 0,
    "start_time": "2023-09-28T11:28:04.625Z"
   },
   {
    "duration": 0,
    "start_time": "2023-09-28T11:28:04.627Z"
   },
   {
    "duration": 0,
    "start_time": "2023-09-28T11:28:04.628Z"
   },
   {
    "duration": 0,
    "start_time": "2023-09-28T11:28:04.629Z"
   },
   {
    "duration": 0,
    "start_time": "2023-09-28T11:28:04.630Z"
   },
   {
    "duration": 0,
    "start_time": "2023-09-28T11:28:04.631Z"
   },
   {
    "duration": 0,
    "start_time": "2023-09-28T11:28:04.632Z"
   },
   {
    "duration": 0,
    "start_time": "2023-09-28T11:28:04.633Z"
   },
   {
    "duration": 0,
    "start_time": "2023-09-28T11:28:04.634Z"
   },
   {
    "duration": 0,
    "start_time": "2023-09-28T11:28:04.635Z"
   },
   {
    "duration": 0,
    "start_time": "2023-09-28T11:28:04.637Z"
   },
   {
    "duration": 0,
    "start_time": "2023-09-28T11:28:04.638Z"
   },
   {
    "duration": 0,
    "start_time": "2023-09-28T11:28:04.639Z"
   },
   {
    "duration": 0,
    "start_time": "2023-09-28T11:28:04.640Z"
   },
   {
    "duration": 0,
    "start_time": "2023-09-28T11:28:04.641Z"
   },
   {
    "duration": 0,
    "start_time": "2023-09-28T11:28:04.656Z"
   },
   {
    "duration": 0,
    "start_time": "2023-09-28T11:28:04.657Z"
   },
   {
    "duration": 0,
    "start_time": "2023-09-28T11:28:04.659Z"
   },
   {
    "duration": 0,
    "start_time": "2023-09-28T11:28:04.660Z"
   },
   {
    "duration": 0,
    "start_time": "2023-09-28T11:28:04.661Z"
   },
   {
    "duration": 0,
    "start_time": "2023-09-28T11:28:04.714Z"
   },
   {
    "duration": 0,
    "start_time": "2023-09-28T11:28:04.715Z"
   },
   {
    "duration": 17,
    "start_time": "2023-09-28T11:28:28.884Z"
   },
   {
    "duration": 1207,
    "start_time": "2023-09-28T11:28:41.475Z"
   },
   {
    "duration": 59,
    "start_time": "2023-09-28T11:28:42.684Z"
   },
   {
    "duration": 4,
    "start_time": "2023-09-28T11:28:42.745Z"
   },
   {
    "duration": 42,
    "start_time": "2023-09-28T11:28:42.751Z"
   },
   {
    "duration": 33,
    "start_time": "2023-09-28T11:28:42.795Z"
   },
   {
    "duration": 78,
    "start_time": "2023-09-28T11:28:42.830Z"
   },
   {
    "duration": 54,
    "start_time": "2023-09-28T11:28:42.910Z"
   },
   {
    "duration": 9,
    "start_time": "2023-09-28T11:28:42.966Z"
   },
   {
    "duration": 51,
    "start_time": "2023-09-28T11:28:42.976Z"
   },
   {
    "duration": 78,
    "start_time": "2023-09-28T11:28:43.030Z"
   },
   {
    "duration": 24,
    "start_time": "2023-09-28T11:28:43.109Z"
   },
   {
    "duration": 49,
    "start_time": "2023-09-28T11:28:43.135Z"
   },
   {
    "duration": 55,
    "start_time": "2023-09-28T11:28:43.186Z"
   },
   {
    "duration": 37,
    "start_time": "2023-09-28T11:28:43.243Z"
   },
   {
    "duration": 69,
    "start_time": "2023-09-28T11:28:43.282Z"
   },
   {
    "duration": 54,
    "start_time": "2023-09-28T11:28:43.353Z"
   },
   {
    "duration": 25,
    "start_time": "2023-09-28T11:28:43.409Z"
   },
   {
    "duration": 84,
    "start_time": "2023-09-28T11:28:43.436Z"
   },
   {
    "duration": 18,
    "start_time": "2023-09-28T11:28:43.522Z"
   },
   {
    "duration": 55,
    "start_time": "2023-09-28T11:28:43.542Z"
   },
   {
    "duration": 23,
    "start_time": "2023-09-28T11:28:43.599Z"
   },
   {
    "duration": 16,
    "start_time": "2023-09-28T11:28:43.624Z"
   },
   {
    "duration": 36,
    "start_time": "2023-09-28T11:28:43.642Z"
   },
   {
    "duration": 46,
    "start_time": "2023-09-28T11:28:43.679Z"
   },
   {
    "duration": 462,
    "start_time": "2023-09-28T11:28:43.727Z"
   },
   {
    "duration": 300,
    "start_time": "2023-09-28T11:28:44.191Z"
   },
   {
    "duration": 24,
    "start_time": "2023-09-28T11:28:44.493Z"
   },
   {
    "duration": 5,
    "start_time": "2023-09-28T11:28:44.521Z"
   },
   {
    "duration": 299,
    "start_time": "2023-09-28T11:28:44.528Z"
   },
   {
    "duration": 18,
    "start_time": "2023-09-28T11:28:44.829Z"
   },
   {
    "duration": 10,
    "start_time": "2023-09-28T11:28:44.849Z"
   },
   {
    "duration": 10,
    "start_time": "2023-09-28T11:28:44.861Z"
   },
   {
    "duration": 1325,
    "start_time": "2023-09-28T11:28:44.873Z"
   },
   {
    "duration": 259,
    "start_time": "2023-09-28T11:28:46.200Z"
   },
   {
    "duration": 6,
    "start_time": "2023-09-28T11:28:46.461Z"
   },
   {
    "duration": 45,
    "start_time": "2023-09-28T11:28:46.468Z"
   },
   {
    "duration": 302,
    "start_time": "2023-09-28T11:28:46.514Z"
   },
   {
    "duration": 21,
    "start_time": "2023-09-28T11:28:46.817Z"
   },
   {
    "duration": 117,
    "start_time": "2023-09-28T11:28:46.839Z"
   },
   {
    "duration": 0,
    "start_time": "2023-09-28T11:28:46.957Z"
   },
   {
    "duration": 0,
    "start_time": "2023-09-28T11:28:46.958Z"
   },
   {
    "duration": 0,
    "start_time": "2023-09-28T11:28:46.960Z"
   },
   {
    "duration": 0,
    "start_time": "2023-09-28T11:28:46.961Z"
   },
   {
    "duration": 0,
    "start_time": "2023-09-28T11:28:46.962Z"
   },
   {
    "duration": 0,
    "start_time": "2023-09-28T11:28:46.962Z"
   },
   {
    "duration": 0,
    "start_time": "2023-09-28T11:28:46.963Z"
   },
   {
    "duration": 0,
    "start_time": "2023-09-28T11:28:46.964Z"
   },
   {
    "duration": 0,
    "start_time": "2023-09-28T11:28:46.965Z"
   },
   {
    "duration": 0,
    "start_time": "2023-09-28T11:28:46.966Z"
   },
   {
    "duration": 0,
    "start_time": "2023-09-28T11:28:46.967Z"
   },
   {
    "duration": 0,
    "start_time": "2023-09-28T11:28:46.968Z"
   },
   {
    "duration": 0,
    "start_time": "2023-09-28T11:28:46.969Z"
   },
   {
    "duration": 0,
    "start_time": "2023-09-28T11:28:46.970Z"
   },
   {
    "duration": 0,
    "start_time": "2023-09-28T11:28:46.971Z"
   },
   {
    "duration": 1,
    "start_time": "2023-09-28T11:28:46.971Z"
   },
   {
    "duration": 0,
    "start_time": "2023-09-28T11:28:46.972Z"
   },
   {
    "duration": 0,
    "start_time": "2023-09-28T11:28:46.973Z"
   },
   {
    "duration": 0,
    "start_time": "2023-09-28T11:28:46.974Z"
   },
   {
    "duration": 0,
    "start_time": "2023-09-28T11:28:46.975Z"
   },
   {
    "duration": 0,
    "start_time": "2023-09-28T11:28:46.976Z"
   },
   {
    "duration": 0,
    "start_time": "2023-09-28T11:28:46.977Z"
   },
   {
    "duration": 0,
    "start_time": "2023-09-28T11:28:46.978Z"
   },
   {
    "duration": 0,
    "start_time": "2023-09-28T11:28:47.014Z"
   },
   {
    "duration": 0,
    "start_time": "2023-09-28T11:28:47.015Z"
   },
   {
    "duration": 0,
    "start_time": "2023-09-28T11:28:47.016Z"
   },
   {
    "duration": 0,
    "start_time": "2023-09-28T11:28:47.017Z"
   },
   {
    "duration": 0,
    "start_time": "2023-09-28T11:28:47.017Z"
   },
   {
    "duration": 261,
    "start_time": "2023-09-28T11:29:59.968Z"
   },
   {
    "duration": 5,
    "start_time": "2023-09-28T11:30:00.231Z"
   },
   {
    "duration": 68,
    "start_time": "2023-09-28T11:30:00.237Z"
   },
   {
    "duration": 310,
    "start_time": "2023-09-28T11:30:00.307Z"
   },
   {
    "duration": 19,
    "start_time": "2023-09-28T11:30:00.619Z"
   },
   {
    "duration": 59,
    "start_time": "2023-09-28T11:30:00.640Z"
   },
   {
    "duration": 239,
    "start_time": "2023-09-28T11:30:00.701Z"
   },
   {
    "duration": 28,
    "start_time": "2023-09-28T11:30:00.942Z"
   },
   {
    "duration": 23,
    "start_time": "2023-09-28T11:30:00.972Z"
   },
   {
    "duration": 67,
    "start_time": "2023-09-28T11:30:00.998Z"
   },
   {
    "duration": 55,
    "start_time": "2023-09-28T11:30:01.067Z"
   },
   {
    "duration": 374,
    "start_time": "2023-09-28T11:30:01.124Z"
   },
   {
    "duration": 0,
    "start_time": "2023-09-28T11:30:01.500Z"
   },
   {
    "duration": 1,
    "start_time": "2023-09-28T11:30:01.501Z"
   },
   {
    "duration": 0,
    "start_time": "2023-09-28T11:30:01.503Z"
   },
   {
    "duration": 0,
    "start_time": "2023-09-28T11:30:01.504Z"
   },
   {
    "duration": 0,
    "start_time": "2023-09-28T11:30:01.505Z"
   },
   {
    "duration": 0,
    "start_time": "2023-09-28T11:30:01.506Z"
   },
   {
    "duration": 0,
    "start_time": "2023-09-28T11:30:01.507Z"
   },
   {
    "duration": 0,
    "start_time": "2023-09-28T11:30:01.508Z"
   },
   {
    "duration": 0,
    "start_time": "2023-09-28T11:30:01.509Z"
   },
   {
    "duration": 0,
    "start_time": "2023-09-28T11:30:01.510Z"
   },
   {
    "duration": 0,
    "start_time": "2023-09-28T11:30:01.511Z"
   },
   {
    "duration": 0,
    "start_time": "2023-09-28T11:30:01.512Z"
   },
   {
    "duration": 0,
    "start_time": "2023-09-28T11:30:01.513Z"
   },
   {
    "duration": 0,
    "start_time": "2023-09-28T11:30:01.514Z"
   },
   {
    "duration": 0,
    "start_time": "2023-09-28T11:30:01.515Z"
   },
   {
    "duration": 0,
    "start_time": "2023-09-28T11:30:01.516Z"
   },
   {
    "duration": 0,
    "start_time": "2023-09-28T11:30:01.517Z"
   },
   {
    "duration": 0,
    "start_time": "2023-09-28T11:30:01.518Z"
   },
   {
    "duration": 0,
    "start_time": "2023-09-28T11:30:01.520Z"
   },
   {
    "duration": 0,
    "start_time": "2023-09-28T11:30:01.520Z"
   },
   {
    "duration": 0,
    "start_time": "2023-09-28T11:30:01.522Z"
   },
   {
    "duration": 0,
    "start_time": "2023-09-28T11:30:01.523Z"
   },
   {
    "duration": 18,
    "start_time": "2023-09-28T11:30:43.249Z"
   },
   {
    "duration": 237,
    "start_time": "2023-09-28T11:30:51.897Z"
   },
   {
    "duration": 15,
    "start_time": "2023-09-28T11:30:55.710Z"
   },
   {
    "duration": 20,
    "start_time": "2023-09-28T11:31:11.985Z"
   },
   {
    "duration": 19,
    "start_time": "2023-09-28T11:31:21.557Z"
   },
   {
    "duration": 18,
    "start_time": "2023-09-28T11:31:30.273Z"
   },
   {
    "duration": 14,
    "start_time": "2023-09-28T11:31:39.331Z"
   },
   {
    "duration": 13,
    "start_time": "2023-09-28T11:33:12.456Z"
   },
   {
    "duration": 11,
    "start_time": "2023-09-28T11:33:19.652Z"
   },
   {
    "duration": 9,
    "start_time": "2023-09-28T11:33:27.054Z"
   },
   {
    "duration": 247,
    "start_time": "2023-09-28T11:34:17.496Z"
   },
   {
    "duration": 223,
    "start_time": "2023-09-28T11:34:27.514Z"
   },
   {
    "duration": 10,
    "start_time": "2023-09-28T11:34:43.527Z"
   },
   {
    "duration": 22,
    "start_time": "2023-09-28T11:35:20.975Z"
   },
   {
    "duration": 2,
    "start_time": "2023-09-28T11:35:20.999Z"
   },
   {
    "duration": 7,
    "start_time": "2023-09-28T11:35:21.035Z"
   },
   {
    "duration": 10,
    "start_time": "2023-09-28T11:35:21.048Z"
   },
   {
    "duration": 241,
    "start_time": "2023-09-28T11:35:21.060Z"
   },
   {
    "duration": 0,
    "start_time": "2023-09-28T11:35:21.305Z"
   },
   {
    "duration": 0,
    "start_time": "2023-09-28T11:35:21.306Z"
   },
   {
    "duration": 0,
    "start_time": "2023-09-28T11:35:21.307Z"
   },
   {
    "duration": 0,
    "start_time": "2023-09-28T11:35:21.308Z"
   },
   {
    "duration": 0,
    "start_time": "2023-09-28T11:35:21.309Z"
   },
   {
    "duration": 0,
    "start_time": "2023-09-28T11:35:21.310Z"
   },
   {
    "duration": 0,
    "start_time": "2023-09-28T11:35:21.312Z"
   },
   {
    "duration": 0,
    "start_time": "2023-09-28T11:35:21.313Z"
   },
   {
    "duration": 0,
    "start_time": "2023-09-28T11:35:21.314Z"
   },
   {
    "duration": 0,
    "start_time": "2023-09-28T11:35:21.315Z"
   },
   {
    "duration": 0,
    "start_time": "2023-09-28T11:35:21.316Z"
   },
   {
    "duration": 0,
    "start_time": "2023-09-28T11:35:21.317Z"
   },
   {
    "duration": 0,
    "start_time": "2023-09-28T11:35:21.319Z"
   },
   {
    "duration": 0,
    "start_time": "2023-09-28T11:35:21.320Z"
   },
   {
    "duration": 0,
    "start_time": "2023-09-28T11:35:21.321Z"
   },
   {
    "duration": 164,
    "start_time": "2023-09-28T11:35:21.324Z"
   },
   {
    "duration": 134,
    "start_time": "2023-09-28T11:35:21.490Z"
   },
   {
    "duration": 7,
    "start_time": "2023-09-28T11:35:21.626Z"
   },
   {
    "duration": 38,
    "start_time": "2023-09-28T11:35:21.634Z"
   },
   {
    "duration": 0,
    "start_time": "2023-09-28T11:35:21.674Z"
   },
   {
    "duration": 0,
    "start_time": "2023-09-28T11:35:21.675Z"
   },
   {
    "duration": 0,
    "start_time": "2023-09-28T11:35:21.676Z"
   },
   {
    "duration": 6,
    "start_time": "2023-09-28T11:39:12.766Z"
   },
   {
    "duration": 6,
    "start_time": "2023-09-28T11:39:19.026Z"
   },
   {
    "duration": 27,
    "start_time": "2023-09-28T11:39:19.034Z"
   },
   {
    "duration": 46,
    "start_time": "2023-09-28T11:39:19.063Z"
   },
   {
    "duration": 33,
    "start_time": "2023-09-28T11:39:19.110Z"
   },
   {
    "duration": 45,
    "start_time": "2023-09-28T11:39:19.145Z"
   },
   {
    "duration": 8,
    "start_time": "2023-09-28T11:39:19.192Z"
   },
   {
    "duration": 46,
    "start_time": "2023-09-28T11:39:19.202Z"
   },
   {
    "duration": 12,
    "start_time": "2023-09-28T11:39:19.250Z"
   },
   {
    "duration": 11,
    "start_time": "2023-09-28T11:39:19.264Z"
   },
   {
    "duration": 19,
    "start_time": "2023-09-28T11:39:19.277Z"
   },
   {
    "duration": 5,
    "start_time": "2023-09-28T11:39:19.313Z"
   },
   {
    "duration": 422,
    "start_time": "2023-09-28T11:39:19.320Z"
   },
   {
    "duration": 382,
    "start_time": "2023-09-28T11:39:19.744Z"
   },
   {
    "duration": 15,
    "start_time": "2023-09-28T11:39:20.128Z"
   },
   {
    "duration": 11,
    "start_time": "2023-09-28T11:39:20.145Z"
   },
   {
    "duration": 273,
    "start_time": "2023-09-28T11:39:20.158Z"
   },
   {
    "duration": 19,
    "start_time": "2023-09-28T11:39:20.433Z"
   },
   {
    "duration": 6,
    "start_time": "2023-09-28T11:39:20.454Z"
   },
   {
    "duration": 38,
    "start_time": "2023-09-28T11:39:20.462Z"
   },
   {
    "duration": 1341,
    "start_time": "2023-09-28T11:39:20.502Z"
   },
   {
    "duration": 477,
    "start_time": "2023-09-28T11:39:21.845Z"
   },
   {
    "duration": 5,
    "start_time": "2023-09-28T11:39:22.324Z"
   },
   {
    "duration": 28,
    "start_time": "2023-09-28T11:39:22.331Z"
   },
   {
    "duration": 611,
    "start_time": "2023-09-28T11:39:22.414Z"
   },
   {
    "duration": 19,
    "start_time": "2023-09-28T11:39:23.027Z"
   },
   {
    "duration": 81,
    "start_time": "2023-09-28T11:39:23.048Z"
   },
   {
    "duration": 422,
    "start_time": "2023-09-28T11:39:23.131Z"
   },
   {
    "duration": 23,
    "start_time": "2023-09-28T11:39:23.555Z"
   },
   {
    "duration": 17,
    "start_time": "2023-09-28T11:39:23.581Z"
   },
   {
    "duration": 29,
    "start_time": "2023-09-28T11:39:23.600Z"
   },
   {
    "duration": 22,
    "start_time": "2023-09-28T11:39:23.631Z"
   },
   {
    "duration": 330,
    "start_time": "2023-09-28T11:39:23.654Z"
   },
   {
    "duration": 0,
    "start_time": "2023-09-28T11:39:23.985Z"
   },
   {
    "duration": 0,
    "start_time": "2023-09-28T11:39:23.986Z"
   },
   {
    "duration": 0,
    "start_time": "2023-09-28T11:39:23.987Z"
   },
   {
    "duration": 0,
    "start_time": "2023-09-28T11:39:23.988Z"
   },
   {
    "duration": 0,
    "start_time": "2023-09-28T11:39:23.990Z"
   },
   {
    "duration": 0,
    "start_time": "2023-09-28T11:39:23.991Z"
   },
   {
    "duration": 0,
    "start_time": "2023-09-28T11:39:23.992Z"
   },
   {
    "duration": 0,
    "start_time": "2023-09-28T11:39:23.993Z"
   },
   {
    "duration": 0,
    "start_time": "2023-09-28T11:39:23.994Z"
   },
   {
    "duration": 0,
    "start_time": "2023-09-28T11:39:23.995Z"
   },
   {
    "duration": 0,
    "start_time": "2023-09-28T11:39:23.996Z"
   },
   {
    "duration": 0,
    "start_time": "2023-09-28T11:39:23.997Z"
   },
   {
    "duration": 0,
    "start_time": "2023-09-28T11:39:23.998Z"
   },
   {
    "duration": 0,
    "start_time": "2023-09-28T11:39:23.999Z"
   },
   {
    "duration": 0,
    "start_time": "2023-09-28T11:39:24.000Z"
   },
   {
    "duration": 0,
    "start_time": "2023-09-28T11:39:24.001Z"
   },
   {
    "duration": 0,
    "start_time": "2023-09-28T11:39:24.002Z"
   },
   {
    "duration": 0,
    "start_time": "2023-09-28T11:39:24.004Z"
   },
   {
    "duration": 0,
    "start_time": "2023-09-28T11:39:24.004Z"
   },
   {
    "duration": 0,
    "start_time": "2023-09-28T11:39:24.006Z"
   },
   {
    "duration": 0,
    "start_time": "2023-09-28T11:39:24.006Z"
   },
   {
    "duration": 0,
    "start_time": "2023-09-28T11:39:24.008Z"
   },
   {
    "duration": 4,
    "start_time": "2023-09-28T11:41:13.588Z"
   },
   {
    "duration": 6,
    "start_time": "2023-09-28T11:41:19.697Z"
   },
   {
    "duration": 25,
    "start_time": "2023-09-28T11:41:19.706Z"
   },
   {
    "duration": 19,
    "start_time": "2023-09-28T11:41:19.733Z"
   },
   {
    "duration": 17,
    "start_time": "2023-09-28T11:41:19.754Z"
   },
   {
    "duration": 24,
    "start_time": "2023-09-28T11:41:19.774Z"
   },
   {
    "duration": 3,
    "start_time": "2023-09-28T11:41:19.800Z"
   },
   {
    "duration": 29,
    "start_time": "2023-09-28T11:41:19.805Z"
   },
   {
    "duration": 13,
    "start_time": "2023-09-28T11:41:19.836Z"
   },
   {
    "duration": 14,
    "start_time": "2023-09-28T11:41:19.851Z"
   },
   {
    "duration": 162,
    "start_time": "2023-09-28T11:41:19.867Z"
   },
   {
    "duration": 6,
    "start_time": "2023-09-28T11:41:20.032Z"
   },
   {
    "duration": 403,
    "start_time": "2023-09-28T11:41:20.040Z"
   },
   {
    "duration": 293,
    "start_time": "2023-09-28T11:41:20.444Z"
   },
   {
    "duration": 17,
    "start_time": "2023-09-28T11:41:20.739Z"
   },
   {
    "duration": 65,
    "start_time": "2023-09-28T11:41:20.758Z"
   },
   {
    "duration": 321,
    "start_time": "2023-09-28T11:41:20.825Z"
   },
   {
    "duration": 18,
    "start_time": "2023-09-28T11:41:21.148Z"
   },
   {
    "duration": 11,
    "start_time": "2023-09-28T11:41:21.168Z"
   },
   {
    "duration": 30,
    "start_time": "2023-09-28T11:41:21.181Z"
   },
   {
    "duration": 1702,
    "start_time": "2023-09-28T11:41:21.212Z"
   },
   {
    "duration": 439,
    "start_time": "2023-09-28T11:41:22.916Z"
   },
   {
    "duration": 58,
    "start_time": "2023-09-28T11:41:23.357Z"
   },
   {
    "duration": 99,
    "start_time": "2023-09-28T11:41:23.416Z"
   },
   {
    "duration": 810,
    "start_time": "2023-09-28T11:41:23.516Z"
   },
   {
    "duration": 18,
    "start_time": "2023-09-28T11:41:24.328Z"
   },
   {
    "duration": 31,
    "start_time": "2023-09-28T11:41:24.348Z"
   },
   {
    "duration": 234,
    "start_time": "2023-09-28T11:41:24.381Z"
   },
   {
    "duration": 26,
    "start_time": "2023-09-28T11:41:24.618Z"
   },
   {
    "duration": 6,
    "start_time": "2023-09-28T11:41:24.648Z"
   },
   {
    "duration": 14,
    "start_time": "2023-09-28T11:41:24.655Z"
   },
   {
    "duration": 25,
    "start_time": "2023-09-28T11:41:24.671Z"
   },
   {
    "duration": 25,
    "start_time": "2023-09-28T11:41:24.698Z"
   },
   {
    "duration": 292,
    "start_time": "2023-09-28T11:41:24.724Z"
   },
   {
    "duration": 159,
    "start_time": "2023-09-28T11:41:25.018Z"
   },
   {
    "duration": 168,
    "start_time": "2023-09-28T11:41:25.178Z"
   },
   {
    "duration": 19,
    "start_time": "2023-09-28T11:41:25.348Z"
   },
   {
    "duration": 51,
    "start_time": "2023-09-28T11:41:25.369Z"
   },
   {
    "duration": 24,
    "start_time": "2023-09-28T11:41:25.422Z"
   },
   {
    "duration": 230,
    "start_time": "2023-09-28T11:41:25.448Z"
   },
   {
    "duration": 51,
    "start_time": "2023-09-28T11:41:25.680Z"
   },
   {
    "duration": 147,
    "start_time": "2023-09-28T11:41:25.733Z"
   },
   {
    "duration": 138,
    "start_time": "2023-09-28T11:41:25.882Z"
   },
   {
    "duration": 146,
    "start_time": "2023-09-28T11:41:26.022Z"
   },
   {
    "duration": 153,
    "start_time": "2023-09-28T11:41:26.170Z"
   },
   {
    "duration": 149,
    "start_time": "2023-09-28T11:41:26.324Z"
   },
   {
    "duration": 134,
    "start_time": "2023-09-28T11:41:26.474Z"
   },
   {
    "duration": 137,
    "start_time": "2023-09-28T11:41:26.612Z"
   },
   {
    "duration": 242,
    "start_time": "2023-09-28T11:41:26.751Z"
   },
   {
    "duration": 142,
    "start_time": "2023-09-28T11:41:26.995Z"
   },
   {
    "duration": 7,
    "start_time": "2023-09-28T11:41:27.138Z"
   },
   {
    "duration": 35,
    "start_time": "2023-09-28T11:41:27.147Z"
   },
   {
    "duration": 0,
    "start_time": "2023-09-28T11:41:27.183Z"
   },
   {
    "duration": 0,
    "start_time": "2023-09-28T11:41:27.185Z"
   },
   {
    "duration": 0,
    "start_time": "2023-09-28T11:41:27.186Z"
   },
   {
    "duration": 5,
    "start_time": "2023-09-28T11:42:01.664Z"
   },
   {
    "duration": 7,
    "start_time": "2023-09-28T11:42:08.668Z"
   },
   {
    "duration": 13,
    "start_time": "2023-09-28T11:42:09.286Z"
   },
   {
    "duration": 348,
    "start_time": "2023-09-28T11:42:09.745Z"
   },
   {
    "duration": 7,
    "start_time": "2023-09-28T11:42:22.330Z"
   },
   {
    "duration": 30,
    "start_time": "2023-09-28T11:42:22.339Z"
   },
   {
    "duration": 284,
    "start_time": "2023-09-28T11:42:22.371Z"
   },
   {
    "duration": 0,
    "start_time": "2023-09-28T11:42:22.657Z"
   },
   {
    "duration": 0,
    "start_time": "2023-09-28T11:42:22.659Z"
   },
   {
    "duration": 0,
    "start_time": "2023-09-28T11:42:22.660Z"
   },
   {
    "duration": 0,
    "start_time": "2023-09-28T11:42:22.661Z"
   },
   {
    "duration": 0,
    "start_time": "2023-09-28T11:42:22.663Z"
   },
   {
    "duration": 0,
    "start_time": "2023-09-28T11:42:22.664Z"
   },
   {
    "duration": 0,
    "start_time": "2023-09-28T11:42:22.665Z"
   },
   {
    "duration": 0,
    "start_time": "2023-09-28T11:42:22.666Z"
   },
   {
    "duration": 0,
    "start_time": "2023-09-28T11:42:22.667Z"
   },
   {
    "duration": 0,
    "start_time": "2023-09-28T11:42:22.668Z"
   },
   {
    "duration": 0,
    "start_time": "2023-09-28T11:42:22.669Z"
   },
   {
    "duration": 0,
    "start_time": "2023-09-28T11:42:22.670Z"
   },
   {
    "duration": 0,
    "start_time": "2023-09-28T11:42:22.671Z"
   },
   {
    "duration": 0,
    "start_time": "2023-09-28T11:42:22.672Z"
   },
   {
    "duration": 0,
    "start_time": "2023-09-28T11:42:22.673Z"
   },
   {
    "duration": 0,
    "start_time": "2023-09-28T11:42:22.674Z"
   },
   {
    "duration": 0,
    "start_time": "2023-09-28T11:42:22.675Z"
   },
   {
    "duration": 0,
    "start_time": "2023-09-28T11:42:22.676Z"
   },
   {
    "duration": 0,
    "start_time": "2023-09-28T11:42:22.677Z"
   },
   {
    "duration": 0,
    "start_time": "2023-09-28T11:42:22.679Z"
   },
   {
    "duration": 0,
    "start_time": "2023-09-28T11:42:22.679Z"
   },
   {
    "duration": 0,
    "start_time": "2023-09-28T11:42:22.680Z"
   },
   {
    "duration": 277,
    "start_time": "2023-09-28T11:43:00.172Z"
   },
   {
    "duration": 1216,
    "start_time": "2023-09-28T11:44:19.123Z"
   },
   {
    "duration": 57,
    "start_time": "2023-09-28T11:44:20.341Z"
   },
   {
    "duration": 4,
    "start_time": "2023-09-28T11:44:20.400Z"
   },
   {
    "duration": 22,
    "start_time": "2023-09-28T11:44:20.406Z"
   },
   {
    "duration": 10,
    "start_time": "2023-09-28T11:44:20.430Z"
   },
   {
    "duration": 54,
    "start_time": "2023-09-28T11:44:20.442Z"
   },
   {
    "duration": 47,
    "start_time": "2023-09-28T11:44:20.498Z"
   },
   {
    "duration": 13,
    "start_time": "2023-09-28T11:44:20.546Z"
   },
   {
    "duration": 58,
    "start_time": "2023-09-28T11:44:20.561Z"
   },
   {
    "duration": 226,
    "start_time": "2023-09-28T11:44:20.622Z"
   },
   {
    "duration": 111,
    "start_time": "2023-09-28T11:44:20.849Z"
   },
   {
    "duration": 71,
    "start_time": "2023-09-28T11:44:20.962Z"
   },
   {
    "duration": 3,
    "start_time": "2023-09-28T11:44:21.035Z"
   },
   {
    "duration": 28,
    "start_time": "2023-09-28T11:44:21.040Z"
   },
   {
    "duration": 32,
    "start_time": "2023-09-28T11:44:21.069Z"
   },
   {
    "duration": 29,
    "start_time": "2023-09-28T11:44:21.103Z"
   },
   {
    "duration": 29,
    "start_time": "2023-09-28T11:44:21.134Z"
   },
   {
    "duration": 82,
    "start_time": "2023-09-28T11:44:21.164Z"
   },
   {
    "duration": 47,
    "start_time": "2023-09-28T11:44:21.248Z"
   },
   {
    "duration": 25,
    "start_time": "2023-09-28T11:44:21.297Z"
   },
   {
    "duration": 65,
    "start_time": "2023-09-28T11:44:21.324Z"
   },
   {
    "duration": 36,
    "start_time": "2023-09-28T11:44:21.390Z"
   },
   {
    "duration": 25,
    "start_time": "2023-09-28T11:44:21.428Z"
   },
   {
    "duration": 79,
    "start_time": "2023-09-28T11:44:21.455Z"
   },
   {
    "duration": 41,
    "start_time": "2023-09-28T11:44:21.536Z"
   },
   {
    "duration": 436,
    "start_time": "2023-09-28T11:44:21.579Z"
   },
   {
    "duration": 292,
    "start_time": "2023-09-28T11:44:22.016Z"
   },
   {
    "duration": 19,
    "start_time": "2023-09-28T11:44:22.313Z"
   },
   {
    "duration": 4,
    "start_time": "2023-09-28T11:44:22.334Z"
   },
   {
    "duration": 384,
    "start_time": "2023-09-28T11:44:22.340Z"
   },
   {
    "duration": 18,
    "start_time": "2023-09-28T11:44:22.726Z"
   },
   {
    "duration": 12,
    "start_time": "2023-09-28T11:44:22.746Z"
   },
   {
    "duration": 58,
    "start_time": "2023-09-28T11:44:22.760Z"
   },
   {
    "duration": 2246,
    "start_time": "2023-09-28T11:44:22.820Z"
   },
   {
    "duration": 276,
    "start_time": "2023-09-28T11:44:25.067Z"
   },
   {
    "duration": 5,
    "start_time": "2023-09-28T11:44:25.345Z"
   },
   {
    "duration": 81,
    "start_time": "2023-09-28T11:44:25.352Z"
   },
   {
    "duration": 360,
    "start_time": "2023-09-28T11:44:25.435Z"
   },
   {
    "duration": 30,
    "start_time": "2023-09-28T11:44:25.797Z"
   },
   {
    "duration": 47,
    "start_time": "2023-09-28T11:44:25.828Z"
   },
   {
    "duration": 251,
    "start_time": "2023-09-28T11:44:25.877Z"
   },
   {
    "duration": 23,
    "start_time": "2023-09-28T11:44:26.129Z"
   },
   {
    "duration": 14,
    "start_time": "2023-09-28T11:44:26.153Z"
   },
   {
    "duration": 38,
    "start_time": "2023-09-28T11:44:26.169Z"
   },
   {
    "duration": 51,
    "start_time": "2023-09-28T11:44:26.209Z"
   },
   {
    "duration": 62,
    "start_time": "2023-09-28T11:44:26.262Z"
   },
   {
    "duration": 297,
    "start_time": "2023-09-28T11:44:26.326Z"
   },
   {
    "duration": 164,
    "start_time": "2023-09-28T11:44:26.625Z"
   },
   {
    "duration": 168,
    "start_time": "2023-09-28T11:44:26.791Z"
   },
   {
    "duration": 21,
    "start_time": "2023-09-28T11:44:26.961Z"
   },
   {
    "duration": 293,
    "start_time": "2023-09-28T11:44:26.984Z"
   },
   {
    "duration": 34,
    "start_time": "2023-09-28T11:44:27.280Z"
   },
   {
    "duration": 211,
    "start_time": "2023-09-28T11:44:27.316Z"
   },
   {
    "duration": 42,
    "start_time": "2023-09-28T11:44:27.529Z"
   },
   {
    "duration": 159,
    "start_time": "2023-09-28T11:44:27.573Z"
   },
   {
    "duration": 141,
    "start_time": "2023-09-28T11:44:27.734Z"
   },
   {
    "duration": 241,
    "start_time": "2023-09-28T11:44:27.877Z"
   },
   {
    "duration": 165,
    "start_time": "2023-09-28T11:44:28.120Z"
   },
   {
    "duration": 157,
    "start_time": "2023-09-28T11:44:28.287Z"
   },
   {
    "duration": 145,
    "start_time": "2023-09-28T11:44:28.447Z"
   },
   {
    "duration": 149,
    "start_time": "2023-09-28T11:44:28.595Z"
   },
   {
    "duration": 135,
    "start_time": "2023-09-28T11:44:28.746Z"
   },
   {
    "duration": 142,
    "start_time": "2023-09-28T11:44:28.883Z"
   },
   {
    "duration": 7,
    "start_time": "2023-09-28T11:44:29.027Z"
   },
   {
    "duration": 127,
    "start_time": "2023-09-28T11:44:29.036Z"
   },
   {
    "duration": 0,
    "start_time": "2023-09-28T11:44:29.166Z"
   },
   {
    "duration": 1,
    "start_time": "2023-09-28T11:44:29.167Z"
   },
   {
    "duration": 0,
    "start_time": "2023-09-28T11:44:29.169Z"
   },
   {
    "duration": 4,
    "start_time": "2023-09-28T11:45:26.152Z"
   },
   {
    "duration": 20,
    "start_time": "2023-09-28T11:45:51.767Z"
   },
   {
    "duration": 22,
    "start_time": "2023-09-28T11:46:15.393Z"
   },
   {
    "duration": 20,
    "start_time": "2023-09-28T11:46:23.423Z"
   },
   {
    "duration": 15,
    "start_time": "2023-09-28T11:47:12.627Z"
   },
   {
    "duration": 8,
    "start_time": "2023-09-28T11:47:19.542Z"
   },
   {
    "duration": 28,
    "start_time": "2023-09-28T11:47:21.844Z"
   },
   {
    "duration": 14,
    "start_time": "2023-09-28T11:49:08.608Z"
   },
   {
    "duration": 10,
    "start_time": "2023-09-28T11:53:45.206Z"
   },
   {
    "duration": 19,
    "start_time": "2023-09-28T11:54:05.256Z"
   },
   {
    "duration": 7,
    "start_time": "2023-09-28T11:54:59.322Z"
   },
   {
    "duration": 28,
    "start_time": "2023-09-28T11:55:23.268Z"
   },
   {
    "duration": 7,
    "start_time": "2023-09-28T11:55:36.191Z"
   },
   {
    "duration": 7,
    "start_time": "2023-09-28T11:55:40.094Z"
   },
   {
    "duration": 18,
    "start_time": "2023-09-28T11:55:48.558Z"
   },
   {
    "duration": 23,
    "start_time": "2023-09-28T11:56:54.479Z"
   },
   {
    "duration": 21,
    "start_time": "2023-09-28T11:57:20.906Z"
   },
   {
    "duration": 8,
    "start_time": "2023-09-28T11:57:38.332Z"
   },
   {
    "duration": 17,
    "start_time": "2023-09-28T11:58:00.911Z"
   },
   {
    "duration": 6,
    "start_time": "2023-09-28T11:58:16.648Z"
   },
   {
    "duration": 1200,
    "start_time": "2023-09-28T12:07:38.249Z"
   },
   {
    "duration": 56,
    "start_time": "2023-09-28T12:07:39.451Z"
   },
   {
    "duration": 28,
    "start_time": "2023-09-28T12:07:39.511Z"
   },
   {
    "duration": 55,
    "start_time": "2023-09-28T12:07:39.541Z"
   },
   {
    "duration": 57,
    "start_time": "2023-09-28T12:07:39.598Z"
   },
   {
    "duration": 29,
    "start_time": "2023-09-28T12:07:39.661Z"
   },
   {
    "duration": 25,
    "start_time": "2023-09-28T12:07:39.691Z"
   },
   {
    "duration": 19,
    "start_time": "2023-09-28T12:07:39.718Z"
   },
   {
    "duration": 14,
    "start_time": "2023-09-28T12:07:39.740Z"
   },
   {
    "duration": 42,
    "start_time": "2023-09-28T12:07:39.756Z"
   },
   {
    "duration": 4,
    "start_time": "2023-09-28T12:07:39.800Z"
   },
   {
    "duration": 33,
    "start_time": "2023-09-28T12:07:39.806Z"
   },
   {
    "duration": 2,
    "start_time": "2023-09-28T12:07:39.841Z"
   },
   {
    "duration": 43,
    "start_time": "2023-09-28T12:07:39.845Z"
   },
   {
    "duration": 17,
    "start_time": "2023-09-28T12:07:39.890Z"
   },
   {
    "duration": 14,
    "start_time": "2023-09-28T12:07:39.909Z"
   },
   {
    "duration": 18,
    "start_time": "2023-09-28T12:07:39.924Z"
   },
   {
    "duration": 19,
    "start_time": "2023-09-28T12:07:39.944Z"
   },
   {
    "duration": 31,
    "start_time": "2023-09-28T12:07:39.965Z"
   },
   {
    "duration": 3,
    "start_time": "2023-09-28T12:07:39.997Z"
   },
   {
    "duration": 55,
    "start_time": "2023-09-28T12:07:40.002Z"
   },
   {
    "duration": 19,
    "start_time": "2023-09-28T12:07:40.059Z"
   },
   {
    "duration": 10,
    "start_time": "2023-09-28T12:07:40.080Z"
   },
   {
    "duration": 30,
    "start_time": "2023-09-28T12:07:40.091Z"
   },
   {
    "duration": 21,
    "start_time": "2023-09-28T12:07:40.123Z"
   },
   {
    "duration": 408,
    "start_time": "2023-09-28T12:07:40.146Z"
   },
   {
    "duration": 280,
    "start_time": "2023-09-28T12:07:40.559Z"
   },
   {
    "duration": 18,
    "start_time": "2023-09-28T12:07:40.841Z"
   },
   {
    "duration": 31,
    "start_time": "2023-09-28T12:07:40.861Z"
   },
   {
    "duration": 283,
    "start_time": "2023-09-28T12:07:40.894Z"
   },
   {
    "duration": 18,
    "start_time": "2023-09-28T12:07:41.178Z"
   },
   {
    "duration": 21,
    "start_time": "2023-09-28T12:07:41.198Z"
   },
   {
    "duration": 10,
    "start_time": "2023-09-28T12:07:41.221Z"
   },
   {
    "duration": 1252,
    "start_time": "2023-09-28T12:07:41.233Z"
   },
   {
    "duration": 261,
    "start_time": "2023-09-28T12:07:42.486Z"
   },
   {
    "duration": 6,
    "start_time": "2023-09-28T12:07:42.750Z"
   },
   {
    "duration": 92,
    "start_time": "2023-09-28T12:07:42.758Z"
   },
   {
    "duration": 354,
    "start_time": "2023-09-28T12:07:42.851Z"
   },
   {
    "duration": 22,
    "start_time": "2023-09-28T12:07:43.207Z"
   },
   {
    "duration": 25,
    "start_time": "2023-09-28T12:07:43.231Z"
   },
   {
    "duration": 243,
    "start_time": "2023-09-28T12:07:43.258Z"
   },
   {
    "duration": 30,
    "start_time": "2023-09-28T12:07:43.503Z"
   },
   {
    "duration": 3,
    "start_time": "2023-09-28T12:07:43.534Z"
   },
   {
    "duration": 11,
    "start_time": "2023-09-28T12:07:43.538Z"
   },
   {
    "duration": 43,
    "start_time": "2023-09-28T12:07:43.551Z"
   },
   {
    "duration": 21,
    "start_time": "2023-09-28T12:07:43.596Z"
   },
   {
    "duration": 322,
    "start_time": "2023-09-28T12:07:43.619Z"
   },
   {
    "duration": 161,
    "start_time": "2023-09-28T12:07:43.943Z"
   },
   {
    "duration": 166,
    "start_time": "2023-09-28T12:07:44.114Z"
   },
   {
    "duration": 16,
    "start_time": "2023-09-28T12:07:44.282Z"
   },
   {
    "duration": 7,
    "start_time": "2023-09-28T12:07:44.314Z"
   },
   {
    "duration": 33,
    "start_time": "2023-09-28T12:07:44.323Z"
   },
   {
    "duration": 21,
    "start_time": "2023-09-28T12:07:44.358Z"
   },
   {
    "duration": 219,
    "start_time": "2023-09-28T12:07:44.381Z"
   },
   {
    "duration": 46,
    "start_time": "2023-09-28T12:07:44.602Z"
   },
   {
    "duration": 142,
    "start_time": "2023-09-28T12:07:44.649Z"
   },
   {
    "duration": 135,
    "start_time": "2023-09-28T12:07:44.793Z"
   },
   {
    "duration": 243,
    "start_time": "2023-09-28T12:07:44.929Z"
   },
   {
    "duration": 293,
    "start_time": "2023-09-28T12:07:45.174Z"
   },
   {
    "duration": 153,
    "start_time": "2023-09-28T12:07:45.469Z"
   },
   {
    "duration": 141,
    "start_time": "2023-09-28T12:07:45.624Z"
   },
   {
    "duration": 146,
    "start_time": "2023-09-28T12:07:45.767Z"
   },
   {
    "duration": 126,
    "start_time": "2023-09-28T12:07:45.915Z"
   },
   {
    "duration": 139,
    "start_time": "2023-09-28T12:07:46.043Z"
   },
   {
    "duration": 6,
    "start_time": "2023-09-28T12:07:46.184Z"
   },
   {
    "duration": 152,
    "start_time": "2023-09-28T12:07:46.192Z"
   },
   {
    "duration": 0,
    "start_time": "2023-09-28T12:07:46.346Z"
   },
   {
    "duration": 0,
    "start_time": "2023-09-28T12:07:46.347Z"
   },
   {
    "duration": 0,
    "start_time": "2023-09-28T12:07:46.349Z"
   },
   {
    "duration": 1264,
    "start_time": "2023-09-28T12:09:49.019Z"
   },
   {
    "duration": 113,
    "start_time": "2023-09-28T12:10:30.462Z"
   },
   {
    "duration": 266,
    "start_time": "2023-09-28T12:10:41.701Z"
   },
   {
    "duration": 168,
    "start_time": "2023-09-28T12:11:22.452Z"
   },
   {
    "duration": 161,
    "start_time": "2023-09-28T12:11:31.291Z"
   },
   {
    "duration": 157,
    "start_time": "2023-09-28T12:11:37.275Z"
   },
   {
    "duration": 1302,
    "start_time": "2023-09-28T12:11:42.549Z"
   },
   {
    "duration": 59,
    "start_time": "2023-09-28T12:11:43.853Z"
   },
   {
    "duration": 5,
    "start_time": "2023-09-28T12:11:43.914Z"
   },
   {
    "duration": 37,
    "start_time": "2023-09-28T12:11:43.922Z"
   },
   {
    "duration": 30,
    "start_time": "2023-09-28T12:11:43.961Z"
   },
   {
    "duration": 48,
    "start_time": "2023-09-28T12:11:43.992Z"
   },
   {
    "duration": 17,
    "start_time": "2023-09-28T12:11:44.042Z"
   },
   {
    "duration": 7,
    "start_time": "2023-09-28T12:11:44.061Z"
   },
   {
    "duration": 17,
    "start_time": "2023-09-28T12:11:44.070Z"
   },
   {
    "duration": 36,
    "start_time": "2023-09-28T12:11:44.091Z"
   },
   {
    "duration": 5,
    "start_time": "2023-09-28T12:11:44.129Z"
   },
   {
    "duration": 29,
    "start_time": "2023-09-28T12:11:44.135Z"
   },
   {
    "duration": 2,
    "start_time": "2023-09-28T12:11:44.166Z"
   },
   {
    "duration": 14,
    "start_time": "2023-09-28T12:11:44.169Z"
   },
   {
    "duration": 37,
    "start_time": "2023-09-28T12:11:44.185Z"
   },
   {
    "duration": 8,
    "start_time": "2023-09-28T12:11:44.224Z"
   },
   {
    "duration": 12,
    "start_time": "2023-09-28T12:11:44.234Z"
   },
   {
    "duration": 15,
    "start_time": "2023-09-28T12:11:44.248Z"
   },
   {
    "duration": 27,
    "start_time": "2023-09-28T12:11:44.265Z"
   },
   {
    "duration": 3,
    "start_time": "2023-09-28T12:11:44.294Z"
   },
   {
    "duration": 33,
    "start_time": "2023-09-28T12:11:44.299Z"
   },
   {
    "duration": 19,
    "start_time": "2023-09-28T12:11:44.333Z"
   },
   {
    "duration": 9,
    "start_time": "2023-09-28T12:11:44.354Z"
   },
   {
    "duration": 28,
    "start_time": "2023-09-28T12:11:44.365Z"
   },
   {
    "duration": 19,
    "start_time": "2023-09-28T12:11:44.395Z"
   },
   {
    "duration": 410,
    "start_time": "2023-09-28T12:11:44.416Z"
   },
   {
    "duration": 306,
    "start_time": "2023-09-28T12:11:44.828Z"
   },
   {
    "duration": 17,
    "start_time": "2023-09-28T12:11:45.139Z"
   },
   {
    "duration": 116,
    "start_time": "2023-09-28T12:11:45.157Z"
   },
   {
    "duration": 384,
    "start_time": "2023-09-28T12:11:45.275Z"
   },
   {
    "duration": 19,
    "start_time": "2023-09-28T12:11:45.661Z"
   },
   {
    "duration": 36,
    "start_time": "2023-09-28T12:11:45.681Z"
   },
   {
    "duration": 58,
    "start_time": "2023-09-28T12:11:45.719Z"
   },
   {
    "duration": 1360,
    "start_time": "2023-09-28T12:11:45.778Z"
   },
   {
    "duration": 259,
    "start_time": "2023-09-28T12:11:47.140Z"
   },
   {
    "duration": 6,
    "start_time": "2023-09-28T12:11:47.401Z"
   },
   {
    "duration": 109,
    "start_time": "2023-09-28T12:11:47.409Z"
   },
   {
    "duration": 318,
    "start_time": "2023-09-28T12:11:47.520Z"
   },
   {
    "duration": 21,
    "start_time": "2023-09-28T12:11:47.840Z"
   },
   {
    "duration": 86,
    "start_time": "2023-09-28T12:11:47.863Z"
   },
   {
    "duration": 291,
    "start_time": "2023-09-28T12:11:47.951Z"
   },
   {
    "duration": 23,
    "start_time": "2023-09-28T12:11:48.244Z"
   },
   {
    "duration": 5,
    "start_time": "2023-09-28T12:11:48.268Z"
   },
   {
    "duration": 31,
    "start_time": "2023-09-28T12:11:48.274Z"
   },
   {
    "duration": 37,
    "start_time": "2023-09-28T12:11:48.307Z"
   },
   {
    "duration": 33,
    "start_time": "2023-09-28T12:11:48.347Z"
   },
   {
    "duration": 287,
    "start_time": "2023-09-28T12:11:48.382Z"
   },
   {
    "duration": 166,
    "start_time": "2023-09-28T12:11:48.671Z"
   },
   {
    "duration": 292,
    "start_time": "2023-09-28T12:11:48.839Z"
   },
   {
    "duration": 15,
    "start_time": "2023-09-28T12:11:49.132Z"
   },
   {
    "duration": 110,
    "start_time": "2023-09-28T12:11:49.148Z"
   },
   {
    "duration": 74,
    "start_time": "2023-09-28T12:11:49.260Z"
   },
   {
    "duration": 27,
    "start_time": "2023-09-28T12:11:49.335Z"
   },
   {
    "duration": 391,
    "start_time": "2023-09-28T12:11:49.364Z"
   },
   {
    "duration": 92,
    "start_time": "2023-09-28T12:11:49.757Z"
   },
   {
    "duration": 298,
    "start_time": "2023-09-28T12:11:49.851Z"
   },
   {
    "duration": 292,
    "start_time": "2023-09-28T12:11:50.151Z"
   },
   {
    "duration": 347,
    "start_time": "2023-09-28T12:11:50.445Z"
   },
   {
    "duration": 156,
    "start_time": "2023-09-28T12:11:50.794Z"
   },
   {
    "duration": 151,
    "start_time": "2023-09-28T12:11:50.952Z"
   },
   {
    "duration": 143,
    "start_time": "2023-09-28T12:11:51.105Z"
   },
   {
    "duration": 139,
    "start_time": "2023-09-28T12:11:51.250Z"
   },
   {
    "duration": 136,
    "start_time": "2023-09-28T12:11:51.391Z"
   },
   {
    "duration": 139,
    "start_time": "2023-09-28T12:11:51.529Z"
   },
   {
    "duration": 6,
    "start_time": "2023-09-28T12:11:51.670Z"
   },
   {
    "duration": 134,
    "start_time": "2023-09-28T12:11:51.678Z"
   },
   {
    "duration": 0,
    "start_time": "2023-09-28T12:11:51.814Z"
   },
   {
    "duration": 0,
    "start_time": "2023-09-28T12:11:51.815Z"
   },
   {
    "duration": 0,
    "start_time": "2023-09-28T12:11:51.816Z"
   },
   {
    "duration": 1285,
    "start_time": "2023-09-28T12:12:12.688Z"
   },
   {
    "duration": 58,
    "start_time": "2023-09-28T12:12:13.975Z"
   },
   {
    "duration": 4,
    "start_time": "2023-09-28T12:12:14.035Z"
   },
   {
    "duration": 28,
    "start_time": "2023-09-28T12:12:14.041Z"
   },
   {
    "duration": 10,
    "start_time": "2023-09-28T12:12:14.071Z"
   },
   {
    "duration": 39,
    "start_time": "2023-09-28T12:12:14.083Z"
   },
   {
    "duration": 57,
    "start_time": "2023-09-28T12:12:14.124Z"
   },
   {
    "duration": 3,
    "start_time": "2023-09-28T12:12:14.182Z"
   },
   {
    "duration": 24,
    "start_time": "2023-09-28T12:12:14.186Z"
   },
   {
    "duration": 21,
    "start_time": "2023-09-28T12:12:14.213Z"
   },
   {
    "duration": 220,
    "start_time": "2023-09-28T12:12:14.235Z"
   },
   {
    "duration": 74,
    "start_time": "2023-09-28T12:12:14.457Z"
   },
   {
    "duration": 2,
    "start_time": "2023-09-28T12:12:14.533Z"
   },
   {
    "duration": 109,
    "start_time": "2023-09-28T12:12:14.536Z"
   },
   {
    "duration": 99,
    "start_time": "2023-09-28T12:12:14.647Z"
   },
   {
    "duration": 39,
    "start_time": "2023-09-28T12:12:14.748Z"
   },
   {
    "duration": 34,
    "start_time": "2023-09-28T12:12:14.789Z"
   },
   {
    "duration": 10,
    "start_time": "2023-09-28T12:12:14.825Z"
   },
   {
    "duration": 36,
    "start_time": "2023-09-28T12:12:14.837Z"
   },
   {
    "duration": 4,
    "start_time": "2023-09-28T12:12:14.875Z"
   },
   {
    "duration": 54,
    "start_time": "2023-09-28T12:12:14.881Z"
   },
   {
    "duration": 19,
    "start_time": "2023-09-28T12:12:14.936Z"
   },
   {
    "duration": 19,
    "start_time": "2023-09-28T12:12:14.957Z"
   },
   {
    "duration": 30,
    "start_time": "2023-09-28T12:12:14.977Z"
   },
   {
    "duration": 98,
    "start_time": "2023-09-28T12:12:15.012Z"
   },
   {
    "duration": 463,
    "start_time": "2023-09-28T12:12:15.112Z"
   },
   {
    "duration": 294,
    "start_time": "2023-09-28T12:12:15.578Z"
   },
   {
    "duration": 17,
    "start_time": "2023-09-28T12:12:15.876Z"
   },
   {
    "duration": 23,
    "start_time": "2023-09-28T12:12:15.894Z"
   },
   {
    "duration": 319,
    "start_time": "2023-09-28T12:12:15.919Z"
   },
   {
    "duration": 19,
    "start_time": "2023-09-28T12:12:16.240Z"
   },
   {
    "duration": 66,
    "start_time": "2023-09-28T12:12:16.261Z"
   },
   {
    "duration": 33,
    "start_time": "2023-09-28T12:12:16.328Z"
   },
   {
    "duration": 1370,
    "start_time": "2023-09-28T12:12:16.363Z"
   },
   {
    "duration": 264,
    "start_time": "2023-09-28T12:12:17.735Z"
   },
   {
    "duration": 5,
    "start_time": "2023-09-28T12:12:18.001Z"
   },
   {
    "duration": 56,
    "start_time": "2023-09-28T12:12:18.007Z"
   },
   {
    "duration": 408,
    "start_time": "2023-09-28T12:12:18.064Z"
   },
   {
    "duration": 19,
    "start_time": "2023-09-28T12:12:18.473Z"
   },
   {
    "duration": 79,
    "start_time": "2023-09-28T12:12:18.494Z"
   },
   {
    "duration": 260,
    "start_time": "2023-09-28T12:12:18.575Z"
   },
   {
    "duration": 24,
    "start_time": "2023-09-28T12:12:18.837Z"
   },
   {
    "duration": 10,
    "start_time": "2023-09-28T12:12:18.863Z"
   },
   {
    "duration": 35,
    "start_time": "2023-09-28T12:12:18.875Z"
   },
   {
    "duration": 37,
    "start_time": "2023-09-28T12:12:18.911Z"
   },
   {
    "duration": 75,
    "start_time": "2023-09-28T12:12:18.950Z"
   },
   {
    "duration": 302,
    "start_time": "2023-09-28T12:12:19.027Z"
   },
   {
    "duration": 159,
    "start_time": "2023-09-28T12:12:19.331Z"
   },
   {
    "duration": 193,
    "start_time": "2023-09-28T12:12:19.491Z"
   },
   {
    "duration": 29,
    "start_time": "2023-09-28T12:12:19.686Z"
   },
   {
    "duration": 6,
    "start_time": "2023-09-28T12:12:19.717Z"
   },
   {
    "duration": 29,
    "start_time": "2023-09-28T12:12:19.725Z"
   },
   {
    "duration": 31,
    "start_time": "2023-09-28T12:12:19.757Z"
   },
   {
    "duration": 452,
    "start_time": "2023-09-28T12:12:19.790Z"
   },
   {
    "duration": 92,
    "start_time": "2023-09-28T12:12:20.243Z"
   },
   {
    "duration": 288,
    "start_time": "2023-09-28T12:12:20.337Z"
   },
   {
    "duration": 286,
    "start_time": "2023-09-28T12:12:20.627Z"
   },
   {
    "duration": 499,
    "start_time": "2023-09-28T12:12:20.915Z"
   },
   {
    "duration": 300,
    "start_time": "2023-09-28T12:12:21.416Z"
   },
   {
    "duration": 187,
    "start_time": "2023-09-28T12:12:21.717Z"
   },
   {
    "duration": 152,
    "start_time": "2023-09-28T12:12:21.906Z"
   },
   {
    "duration": 170,
    "start_time": "2023-09-28T12:12:22.060Z"
   },
   {
    "duration": 135,
    "start_time": "2023-09-28T12:12:22.232Z"
   },
   {
    "duration": 144,
    "start_time": "2023-09-28T12:12:22.369Z"
   },
   {
    "duration": 7,
    "start_time": "2023-09-28T12:12:22.514Z"
   },
   {
    "duration": 190,
    "start_time": "2023-09-28T12:12:22.523Z"
   },
   {
    "duration": 0,
    "start_time": "2023-09-28T12:12:22.715Z"
   },
   {
    "duration": 0,
    "start_time": "2023-09-28T12:12:22.716Z"
   },
   {
    "duration": 0,
    "start_time": "2023-09-28T12:12:22.718Z"
   },
   {
    "duration": 209,
    "start_time": "2023-09-28T12:13:08.204Z"
   },
   {
    "duration": 121,
    "start_time": "2023-09-28T12:14:09.501Z"
   },
   {
    "duration": 109,
    "start_time": "2023-09-28T12:15:08.630Z"
   },
   {
    "duration": 136,
    "start_time": "2023-09-28T12:15:21.517Z"
   },
   {
    "duration": 304,
    "start_time": "2023-09-28T12:16:02.823Z"
   },
   {
    "duration": 306,
    "start_time": "2023-09-28T12:16:54.786Z"
   },
   {
    "duration": 148,
    "start_time": "2023-09-28T12:17:17.448Z"
   },
   {
    "duration": 149,
    "start_time": "2023-09-28T12:17:32.908Z"
   },
   {
    "duration": 126,
    "start_time": "2023-09-28T12:17:54.570Z"
   },
   {
    "duration": 235,
    "start_time": "2023-09-28T12:20:25.698Z"
   },
   {
    "duration": 139,
    "start_time": "2023-09-28T12:21:02.713Z"
   },
   {
    "duration": 140,
    "start_time": "2023-09-28T12:21:18.643Z"
   },
   {
    "duration": 134,
    "start_time": "2023-09-28T12:22:40.865Z"
   },
   {
    "duration": 4,
    "start_time": "2023-09-28T12:23:04.888Z"
   },
   {
    "duration": 138,
    "start_time": "2023-09-28T12:23:08.036Z"
   },
   {
    "duration": 131,
    "start_time": "2023-09-28T12:23:19.890Z"
   },
   {
    "duration": 135,
    "start_time": "2023-09-28T12:23:33.168Z"
   },
   {
    "duration": 11,
    "start_time": "2023-09-28T12:25:25.578Z"
   },
   {
    "duration": 5,
    "start_time": "2023-09-28T12:25:30.312Z"
   },
   {
    "duration": 1235,
    "start_time": "2023-09-28T12:27:47.972Z"
   },
   {
    "duration": 5,
    "start_time": "2023-09-28T12:32:00.791Z"
   },
   {
    "duration": 6,
    "start_time": "2023-09-28T12:32:03.926Z"
   },
   {
    "duration": 5,
    "start_time": "2023-09-28T12:32:04.498Z"
   },
   {
    "duration": 5,
    "start_time": "2023-09-28T12:32:57.591Z"
   },
   {
    "duration": 4,
    "start_time": "2023-09-28T12:32:58.089Z"
   },
   {
    "duration": 4,
    "start_time": "2023-09-28T12:32:59.211Z"
   },
   {
    "duration": 1267,
    "start_time": "2023-09-28T12:33:17.384Z"
   },
   {
    "duration": 59,
    "start_time": "2023-09-28T12:33:18.653Z"
   },
   {
    "duration": 5,
    "start_time": "2023-09-28T12:33:18.713Z"
   },
   {
    "duration": 44,
    "start_time": "2023-09-28T12:33:18.720Z"
   },
   {
    "duration": 27,
    "start_time": "2023-09-28T12:33:18.765Z"
   },
   {
    "duration": 43,
    "start_time": "2023-09-28T12:33:18.794Z"
   },
   {
    "duration": 33,
    "start_time": "2023-09-28T12:33:18.839Z"
   },
   {
    "duration": 19,
    "start_time": "2023-09-28T12:33:18.874Z"
   },
   {
    "duration": 43,
    "start_time": "2023-09-28T12:33:18.895Z"
   },
   {
    "duration": 40,
    "start_time": "2023-09-28T12:33:18.941Z"
   },
   {
    "duration": 15,
    "start_time": "2023-09-28T12:33:18.983Z"
   },
   {
    "duration": 36,
    "start_time": "2023-09-28T12:33:19.000Z"
   },
   {
    "duration": 21,
    "start_time": "2023-09-28T12:33:19.038Z"
   },
   {
    "duration": 13,
    "start_time": "2023-09-28T12:33:19.061Z"
   },
   {
    "duration": 36,
    "start_time": "2023-09-28T12:33:19.076Z"
   },
   {
    "duration": 20,
    "start_time": "2023-09-28T12:33:19.113Z"
   },
   {
    "duration": 49,
    "start_time": "2023-09-28T12:33:19.135Z"
   },
   {
    "duration": 23,
    "start_time": "2023-09-28T12:33:19.186Z"
   },
   {
    "duration": 54,
    "start_time": "2023-09-28T12:33:19.210Z"
   },
   {
    "duration": 28,
    "start_time": "2023-09-28T12:33:19.265Z"
   },
   {
    "duration": 21,
    "start_time": "2023-09-28T12:33:19.295Z"
   },
   {
    "duration": 44,
    "start_time": "2023-09-28T12:33:19.318Z"
   },
   {
    "duration": 17,
    "start_time": "2023-09-28T12:33:19.364Z"
   },
   {
    "duration": 472,
    "start_time": "2023-09-28T12:33:19.383Z"
   },
   {
    "duration": 297,
    "start_time": "2023-09-28T12:33:19.857Z"
   },
   {
    "duration": 16,
    "start_time": "2023-09-28T12:33:20.156Z"
   },
   {
    "duration": 6,
    "start_time": "2023-09-28T12:33:20.175Z"
   },
   {
    "duration": 320,
    "start_time": "2023-09-28T12:33:20.187Z"
   },
   {
    "duration": 21,
    "start_time": "2023-09-28T12:33:20.508Z"
   },
   {
    "duration": 26,
    "start_time": "2023-09-28T12:33:20.531Z"
   },
   {
    "duration": 15,
    "start_time": "2023-09-28T12:33:20.558Z"
   },
   {
    "duration": 1303,
    "start_time": "2023-09-28T12:33:20.575Z"
   },
   {
    "duration": 247,
    "start_time": "2023-09-28T12:33:21.880Z"
   },
   {
    "duration": 5,
    "start_time": "2023-09-28T12:33:22.129Z"
   },
   {
    "duration": 30,
    "start_time": "2023-09-28T12:33:22.136Z"
   },
   {
    "duration": 309,
    "start_time": "2023-09-28T12:33:22.169Z"
   },
   {
    "duration": 19,
    "start_time": "2023-09-28T12:33:22.480Z"
   },
   {
    "duration": 37,
    "start_time": "2023-09-28T12:33:22.500Z"
   },
   {
    "duration": 226,
    "start_time": "2023-09-28T12:33:22.538Z"
   },
   {
    "duration": 24,
    "start_time": "2023-09-28T12:33:22.766Z"
   },
   {
    "duration": 38,
    "start_time": "2023-09-28T12:33:22.791Z"
   },
   {
    "duration": 13,
    "start_time": "2023-09-28T12:33:22.831Z"
   },
   {
    "duration": 36,
    "start_time": "2023-09-28T12:33:22.846Z"
   },
   {
    "duration": 27,
    "start_time": "2023-09-28T12:33:22.883Z"
   },
   {
    "duration": 304,
    "start_time": "2023-09-28T12:33:22.912Z"
   },
   {
    "duration": 158,
    "start_time": "2023-09-28T12:33:23.218Z"
   },
   {
    "duration": 160,
    "start_time": "2023-09-28T12:33:23.377Z"
   },
   {
    "duration": 14,
    "start_time": "2023-09-28T12:33:23.539Z"
   },
   {
    "duration": 25,
    "start_time": "2023-09-28T12:33:23.554Z"
   },
   {
    "duration": 32,
    "start_time": "2023-09-28T12:33:23.581Z"
   },
   {
    "duration": 24,
    "start_time": "2023-09-28T12:33:23.614Z"
   },
   {
    "duration": 214,
    "start_time": "2023-09-28T12:33:23.640Z"
   },
   {
    "duration": 42,
    "start_time": "2023-09-28T12:33:23.857Z"
   },
   {
    "duration": 173,
    "start_time": "2023-09-28T12:33:23.901Z"
   },
   {
    "duration": 133,
    "start_time": "2023-09-28T12:33:24.076Z"
   },
   {
    "duration": 244,
    "start_time": "2023-09-28T12:33:24.212Z"
   },
   {
    "duration": 152,
    "start_time": "2023-09-28T12:33:24.457Z"
   },
   {
    "duration": 155,
    "start_time": "2023-09-28T12:33:24.613Z"
   },
   {
    "duration": 148,
    "start_time": "2023-09-28T12:33:24.770Z"
   },
   {
    "duration": 146,
    "start_time": "2023-09-28T12:33:24.919Z"
   },
   {
    "duration": 129,
    "start_time": "2023-09-28T12:33:25.067Z"
   },
   {
    "duration": 145,
    "start_time": "2023-09-28T12:33:25.198Z"
   },
   {
    "duration": 5,
    "start_time": "2023-09-28T12:33:25.344Z"
   },
   {
    "duration": 10,
    "start_time": "2023-09-28T12:33:25.351Z"
   },
   {
    "duration": 6,
    "start_time": "2023-09-28T12:33:25.363Z"
   },
   {
    "duration": 10,
    "start_time": "2023-09-28T12:33:25.371Z"
   },
   {
    "duration": 13,
    "start_time": "2023-09-28T12:33:25.382Z"
   },
   {
    "duration": 5,
    "start_time": "2023-09-28T12:33:54.934Z"
   },
   {
    "duration": 5,
    "start_time": "2023-09-28T12:33:55.474Z"
   },
   {
    "duration": 4,
    "start_time": "2023-09-28T12:34:27.923Z"
   },
   {
    "duration": 4,
    "start_time": "2023-09-28T12:34:35.285Z"
   },
   {
    "duration": 4,
    "start_time": "2023-09-28T12:35:28.925Z"
   },
   {
    "duration": 8,
    "start_time": "2023-09-28T12:36:49.980Z"
   },
   {
    "duration": 5,
    "start_time": "2023-09-28T12:36:50.768Z"
   },
   {
    "duration": 5,
    "start_time": "2023-09-28T12:36:51.980Z"
   },
   {
    "duration": 6,
    "start_time": "2023-09-28T12:36:52.968Z"
   },
   {
    "duration": 5,
    "start_time": "2023-09-28T12:36:55.781Z"
   },
   {
    "duration": 109,
    "start_time": "2023-09-28T12:39:01.589Z"
   },
   {
    "duration": 11,
    "start_time": "2023-09-28T12:39:19.477Z"
   },
   {
    "duration": 8,
    "start_time": "2023-09-28T12:39:24.611Z"
   },
   {
    "duration": 10,
    "start_time": "2023-09-28T12:39:30.809Z"
   },
   {
    "duration": 5,
    "start_time": "2023-09-28T12:39:37.212Z"
   },
   {
    "duration": 9,
    "start_time": "2023-09-28T12:39:52.938Z"
   },
   {
    "duration": 9,
    "start_time": "2023-09-28T12:40:12.928Z"
   },
   {
    "duration": 5,
    "start_time": "2023-09-28T12:40:14.755Z"
   },
   {
    "duration": 1203,
    "start_time": "2023-09-28T12:40:40.927Z"
   },
   {
    "duration": 56,
    "start_time": "2023-09-28T12:40:42.132Z"
   },
   {
    "duration": 31,
    "start_time": "2023-09-28T12:40:42.190Z"
   },
   {
    "duration": 83,
    "start_time": "2023-09-28T12:40:42.223Z"
   },
   {
    "duration": 28,
    "start_time": "2023-09-28T12:40:42.307Z"
   },
   {
    "duration": 43,
    "start_time": "2023-09-28T12:40:42.337Z"
   },
   {
    "duration": 63,
    "start_time": "2023-09-28T12:40:42.382Z"
   },
   {
    "duration": 14,
    "start_time": "2023-09-28T12:40:42.447Z"
   },
   {
    "duration": 25,
    "start_time": "2023-09-28T12:40:42.463Z"
   },
   {
    "duration": 22,
    "start_time": "2023-09-28T12:40:42.490Z"
   },
   {
    "duration": 4,
    "start_time": "2023-09-28T12:40:42.513Z"
   },
   {
    "duration": 52,
    "start_time": "2023-09-28T12:40:42.519Z"
   },
   {
    "duration": 5,
    "start_time": "2023-09-28T12:40:42.573Z"
   },
   {
    "duration": 38,
    "start_time": "2023-09-28T12:40:42.580Z"
   },
   {
    "duration": 32,
    "start_time": "2023-09-28T12:40:42.620Z"
   },
   {
    "duration": 21,
    "start_time": "2023-09-28T12:40:42.654Z"
   },
   {
    "duration": 34,
    "start_time": "2023-09-28T12:40:42.677Z"
   },
   {
    "duration": 4,
    "start_time": "2023-09-28T12:40:42.713Z"
   },
   {
    "duration": 33,
    "start_time": "2023-09-28T12:40:42.720Z"
   },
   {
    "duration": 21,
    "start_time": "2023-09-28T12:40:42.755Z"
   },
   {
    "duration": 35,
    "start_time": "2023-09-28T12:40:42.778Z"
   },
   {
    "duration": 19,
    "start_time": "2023-09-28T12:40:42.815Z"
   },
   {
    "duration": 5,
    "start_time": "2023-09-28T12:40:42.837Z"
   },
   {
    "duration": 429,
    "start_time": "2023-09-28T12:40:42.844Z"
   },
   {
    "duration": 312,
    "start_time": "2023-09-28T12:40:43.275Z"
   },
   {
    "duration": 26,
    "start_time": "2023-09-28T12:40:43.589Z"
   },
   {
    "duration": 6,
    "start_time": "2023-09-28T12:40:43.617Z"
   },
   {
    "duration": 335,
    "start_time": "2023-09-28T12:40:43.628Z"
   },
   {
    "duration": 18,
    "start_time": "2023-09-28T12:40:43.965Z"
   },
   {
    "duration": 12,
    "start_time": "2023-09-28T12:40:43.985Z"
   },
   {
    "duration": 17,
    "start_time": "2023-09-28T12:40:43.999Z"
   },
   {
    "duration": 1314,
    "start_time": "2023-09-28T12:40:44.017Z"
   },
   {
    "duration": 254,
    "start_time": "2023-09-28T12:40:45.333Z"
   },
   {
    "duration": 5,
    "start_time": "2023-09-28T12:40:45.589Z"
   },
   {
    "duration": 49,
    "start_time": "2023-09-28T12:40:45.596Z"
   },
   {
    "duration": 310,
    "start_time": "2023-09-28T12:40:45.647Z"
   },
   {
    "duration": 19,
    "start_time": "2023-09-28T12:40:45.959Z"
   },
   {
    "duration": 41,
    "start_time": "2023-09-28T12:40:45.979Z"
   },
   {
    "duration": 242,
    "start_time": "2023-09-28T12:40:46.022Z"
   },
   {
    "duration": 23,
    "start_time": "2023-09-28T12:40:46.266Z"
   },
   {
    "duration": 24,
    "start_time": "2023-09-28T12:40:46.291Z"
   },
   {
    "duration": 81,
    "start_time": "2023-09-28T12:40:46.317Z"
   },
   {
    "duration": 53,
    "start_time": "2023-09-28T12:40:46.399Z"
   },
   {
    "duration": 27,
    "start_time": "2023-09-28T12:40:46.454Z"
   },
   {
    "duration": 307,
    "start_time": "2023-09-28T12:40:46.482Z"
   },
   {
    "duration": 169,
    "start_time": "2023-09-28T12:40:46.792Z"
   },
   {
    "duration": 164,
    "start_time": "2023-09-28T12:40:46.963Z"
   },
   {
    "duration": 15,
    "start_time": "2023-09-28T12:40:47.129Z"
   },
   {
    "duration": 224,
    "start_time": "2023-09-28T12:40:47.145Z"
   },
   {
    "duration": 19,
    "start_time": "2023-09-28T12:40:47.371Z"
   },
   {
    "duration": 14,
    "start_time": "2023-09-28T12:40:47.391Z"
   },
   {
    "duration": 229,
    "start_time": "2023-09-28T12:40:47.407Z"
   },
   {
    "duration": 38,
    "start_time": "2023-09-28T12:40:47.637Z"
   },
   {
    "duration": 153,
    "start_time": "2023-09-28T12:40:47.677Z"
   },
   {
    "duration": 135,
    "start_time": "2023-09-28T12:40:47.832Z"
   },
   {
    "duration": 243,
    "start_time": "2023-09-28T12:40:47.970Z"
   },
   {
    "duration": 159,
    "start_time": "2023-09-28T12:40:48.215Z"
   },
   {
    "duration": 152,
    "start_time": "2023-09-28T12:40:48.376Z"
   },
   {
    "duration": 150,
    "start_time": "2023-09-28T12:40:48.530Z"
   },
   {
    "duration": 150,
    "start_time": "2023-09-28T12:40:48.682Z"
   },
   {
    "duration": 131,
    "start_time": "2023-09-28T12:40:48.833Z"
   },
   {
    "duration": 138,
    "start_time": "2023-09-28T12:40:48.966Z"
   },
   {
    "duration": 12,
    "start_time": "2023-09-28T12:40:49.106Z"
   },
   {
    "duration": 39,
    "start_time": "2023-09-28T12:40:49.119Z"
   },
   {
    "duration": 40,
    "start_time": "2023-09-28T12:40:49.159Z"
   },
   {
    "duration": 15,
    "start_time": "2023-09-28T12:40:49.201Z"
   },
   {
    "duration": 27,
    "start_time": "2023-09-28T12:40:49.217Z"
   },
   {
    "duration": 10,
    "start_time": "2023-09-28T12:41:45.557Z"
   },
   {
    "duration": 5,
    "start_time": "2023-09-28T12:41:47.566Z"
   },
   {
    "duration": 6,
    "start_time": "2023-09-28T12:42:00.856Z"
   },
   {
    "duration": 9,
    "start_time": "2023-09-28T12:43:07.166Z"
   },
   {
    "duration": 5,
    "start_time": "2023-09-28T12:43:07.702Z"
   },
   {
    "duration": 10,
    "start_time": "2023-09-28T12:54:43.243Z"
   },
   {
    "duration": 5,
    "start_time": "2023-09-28T12:54:44.920Z"
   },
   {
    "duration": 6,
    "start_time": "2023-09-28T12:56:57.757Z"
   },
   {
    "duration": 5,
    "start_time": "2023-09-28T12:56:58.616Z"
   },
   {
    "duration": 6,
    "start_time": "2023-09-28T12:57:22.300Z"
   },
   {
    "duration": 5,
    "start_time": "2023-09-28T12:57:23.070Z"
   },
   {
    "duration": 6,
    "start_time": "2023-09-28T12:57:25.219Z"
   },
   {
    "duration": 5,
    "start_time": "2023-09-28T12:57:26.019Z"
   },
   {
    "duration": 125,
    "start_time": "2023-09-28T12:58:17.298Z"
   },
   {
    "duration": 263,
    "start_time": "2023-09-28T17:01:47.023Z"
   },
   {
    "duration": 63,
    "start_time": "2023-09-28T17:05:32.529Z"
   },
   {
    "duration": 282,
    "start_time": "2023-09-28T17:05:42.435Z"
   },
   {
    "duration": 141,
    "start_time": "2023-09-28T17:16:37.072Z"
   },
   {
    "duration": 152,
    "start_time": "2023-09-28T17:16:47.172Z"
   },
   {
    "duration": 1176,
    "start_time": "2023-09-28T17:16:56.869Z"
   },
   {
    "duration": 58,
    "start_time": "2023-09-28T17:16:58.047Z"
   },
   {
    "duration": 6,
    "start_time": "2023-09-28T17:16:58.107Z"
   },
   {
    "duration": 64,
    "start_time": "2023-09-28T17:16:58.115Z"
   },
   {
    "duration": 69,
    "start_time": "2023-09-28T17:16:58.181Z"
   },
   {
    "duration": 82,
    "start_time": "2023-09-28T17:16:58.252Z"
   },
   {
    "duration": 57,
    "start_time": "2023-09-28T17:16:58.336Z"
   },
   {
    "duration": 46,
    "start_time": "2023-09-28T17:16:58.394Z"
   },
   {
    "duration": 46,
    "start_time": "2023-09-28T17:16:58.441Z"
   },
   {
    "duration": 75,
    "start_time": "2023-09-28T17:16:58.490Z"
   },
   {
    "duration": 28,
    "start_time": "2023-09-28T17:16:58.567Z"
   },
   {
    "duration": 45,
    "start_time": "2023-09-28T17:16:58.597Z"
   },
   {
    "duration": 2,
    "start_time": "2023-09-28T17:16:58.644Z"
   },
   {
    "duration": 10,
    "start_time": "2023-09-28T17:16:58.647Z"
   },
   {
    "duration": 20,
    "start_time": "2023-09-28T17:16:58.659Z"
   },
   {
    "duration": 11,
    "start_time": "2023-09-28T17:16:58.681Z"
   },
   {
    "duration": 31,
    "start_time": "2023-09-28T17:16:58.694Z"
   },
   {
    "duration": 3,
    "start_time": "2023-09-28T17:16:58.726Z"
   },
   {
    "duration": 38,
    "start_time": "2023-09-28T17:16:58.731Z"
   },
   {
    "duration": 19,
    "start_time": "2023-09-28T17:16:58.770Z"
   },
   {
    "duration": 22,
    "start_time": "2023-09-28T17:16:58.791Z"
   },
   {
    "duration": 18,
    "start_time": "2023-09-28T17:16:58.815Z"
   },
   {
    "duration": 10,
    "start_time": "2023-09-28T17:16:58.834Z"
   },
   {
    "duration": 414,
    "start_time": "2023-09-28T17:16:58.845Z"
   },
   {
    "duration": 267,
    "start_time": "2023-09-28T17:16:59.260Z"
   },
   {
    "duration": 15,
    "start_time": "2023-09-28T17:16:59.529Z"
   },
   {
    "duration": 4,
    "start_time": "2023-09-28T17:16:59.546Z"
   },
   {
    "duration": 327,
    "start_time": "2023-09-28T17:16:59.554Z"
   },
   {
    "duration": 17,
    "start_time": "2023-09-28T17:16:59.883Z"
   },
   {
    "duration": 74,
    "start_time": "2023-09-28T17:16:59.901Z"
   },
   {
    "duration": 36,
    "start_time": "2023-09-28T17:16:59.976Z"
   },
   {
    "duration": 1398,
    "start_time": "2023-09-28T17:17:00.014Z"
   },
   {
    "duration": 425,
    "start_time": "2023-09-28T17:17:01.414Z"
   },
   {
    "duration": 5,
    "start_time": "2023-09-28T17:17:01.841Z"
   },
   {
    "duration": 377,
    "start_time": "2023-09-28T17:17:01.848Z"
   },
   {
    "duration": 757,
    "start_time": "2023-09-28T17:17:02.226Z"
   },
   {
    "duration": 30,
    "start_time": "2023-09-28T17:17:02.984Z"
   },
   {
    "duration": 33,
    "start_time": "2023-09-28T17:17:03.016Z"
   },
   {
    "duration": 281,
    "start_time": "2023-09-28T17:17:03.050Z"
   },
   {
    "duration": 25,
    "start_time": "2023-09-28T17:17:03.333Z"
   },
   {
    "duration": 47,
    "start_time": "2023-09-28T17:17:03.360Z"
   },
   {
    "duration": 168,
    "start_time": "2023-09-28T17:17:03.408Z"
   },
   {
    "duration": 31,
    "start_time": "2023-09-28T17:17:03.578Z"
   },
   {
    "duration": 21,
    "start_time": "2023-09-28T17:17:03.611Z"
   },
   {
    "duration": 284,
    "start_time": "2023-09-28T17:17:03.633Z"
   },
   {
    "duration": 146,
    "start_time": "2023-09-28T17:17:03.919Z"
   },
   {
    "duration": 138,
    "start_time": "2023-09-28T17:17:04.066Z"
   },
   {
    "duration": 17,
    "start_time": "2023-09-28T17:17:04.206Z"
   },
   {
    "duration": 16,
    "start_time": "2023-09-28T17:17:04.224Z"
   },
   {
    "duration": 22,
    "start_time": "2023-09-28T17:17:04.241Z"
   },
   {
    "duration": 13,
    "start_time": "2023-09-28T17:17:04.264Z"
   },
   {
    "duration": 203,
    "start_time": "2023-09-28T17:17:04.279Z"
   },
   {
    "duration": 50,
    "start_time": "2023-09-28T17:17:04.484Z"
   },
   {
    "duration": 141,
    "start_time": "2023-09-28T17:17:04.536Z"
   },
   {
    "duration": 126,
    "start_time": "2023-09-28T17:17:04.678Z"
   },
   {
    "duration": 235,
    "start_time": "2023-09-28T17:17:04.806Z"
   },
   {
    "duration": 139,
    "start_time": "2023-09-28T17:17:05.043Z"
   },
   {
    "duration": 136,
    "start_time": "2023-09-28T17:17:05.183Z"
   },
   {
    "duration": 129,
    "start_time": "2023-09-28T17:17:05.321Z"
   },
   {
    "duration": 125,
    "start_time": "2023-09-28T17:17:05.451Z"
   },
   {
    "duration": 125,
    "start_time": "2023-09-28T17:17:05.577Z"
   },
   {
    "duration": 131,
    "start_time": "2023-09-28T17:17:05.704Z"
   },
   {
    "duration": 6,
    "start_time": "2023-09-28T17:17:05.836Z"
   },
   {
    "duration": 126,
    "start_time": "2023-09-28T17:17:05.843Z"
   },
   {
    "duration": 0,
    "start_time": "2023-09-28T17:17:05.971Z"
   },
   {
    "duration": 0,
    "start_time": "2023-09-28T17:17:05.972Z"
   },
   {
    "duration": 159,
    "start_time": "2023-09-28T17:17:13.726Z"
   },
   {
    "duration": 154,
    "start_time": "2023-09-28T17:17:20.037Z"
   },
   {
    "duration": 3,
    "start_time": "2023-09-28T17:17:33.574Z"
   },
   {
    "duration": 90,
    "start_time": "2023-09-28T17:17:33.580Z"
   },
   {
    "duration": 3,
    "start_time": "2023-09-28T17:17:33.672Z"
   },
   {
    "duration": 36,
    "start_time": "2023-09-28T17:17:33.677Z"
   },
   {
    "duration": 15,
    "start_time": "2023-09-28T17:17:33.715Z"
   },
   {
    "duration": 33,
    "start_time": "2023-09-28T17:17:33.732Z"
   },
   {
    "duration": 27,
    "start_time": "2023-09-28T17:17:33.767Z"
   },
   {
    "duration": 10,
    "start_time": "2023-09-28T17:17:33.796Z"
   },
   {
    "duration": 18,
    "start_time": "2023-09-28T17:17:33.807Z"
   },
   {
    "duration": 24,
    "start_time": "2023-09-28T17:17:33.826Z"
   },
   {
    "duration": 17,
    "start_time": "2023-09-28T17:17:33.854Z"
   },
   {
    "duration": 38,
    "start_time": "2023-09-28T17:17:33.874Z"
   },
   {
    "duration": 13,
    "start_time": "2023-09-28T17:17:33.914Z"
   },
   {
    "duration": 25,
    "start_time": "2023-09-28T17:17:33.929Z"
   },
   {
    "duration": 12,
    "start_time": "2023-09-28T17:17:33.956Z"
   },
   {
    "duration": 8,
    "start_time": "2023-09-28T17:17:33.970Z"
   },
   {
    "duration": 47,
    "start_time": "2023-09-28T17:17:33.980Z"
   },
   {
    "duration": 3,
    "start_time": "2023-09-28T17:17:34.029Z"
   },
   {
    "duration": 44,
    "start_time": "2023-09-28T17:17:34.034Z"
   },
   {
    "duration": 22,
    "start_time": "2023-09-28T17:17:34.079Z"
   },
   {
    "duration": 8,
    "start_time": "2023-09-28T17:17:34.103Z"
   },
   {
    "duration": 23,
    "start_time": "2023-09-28T17:17:34.113Z"
   },
   {
    "duration": 16,
    "start_time": "2023-09-28T17:17:34.138Z"
   },
   {
    "duration": 343,
    "start_time": "2023-09-28T17:17:34.155Z"
   },
   {
    "duration": 257,
    "start_time": "2023-09-28T17:17:34.500Z"
   },
   {
    "duration": 15,
    "start_time": "2023-09-28T17:17:34.759Z"
   },
   {
    "duration": 11,
    "start_time": "2023-09-28T17:17:34.776Z"
   },
   {
    "duration": 354,
    "start_time": "2023-09-28T17:17:34.788Z"
   },
   {
    "duration": 17,
    "start_time": "2023-09-28T17:17:35.144Z"
   },
   {
    "duration": 64,
    "start_time": "2023-09-28T17:17:35.162Z"
   },
   {
    "duration": 60,
    "start_time": "2023-09-28T17:17:35.227Z"
   },
   {
    "duration": 1152,
    "start_time": "2023-09-28T17:17:35.289Z"
   },
   {
    "duration": 212,
    "start_time": "2023-09-28T17:17:36.443Z"
   },
   {
    "duration": 5,
    "start_time": "2023-09-28T17:17:36.657Z"
   },
   {
    "duration": 35,
    "start_time": "2023-09-28T17:17:36.663Z"
   },
   {
    "duration": 273,
    "start_time": "2023-09-28T17:17:36.700Z"
   },
   {
    "duration": 265,
    "start_time": "2023-09-28T17:17:38.273Z"
   },
   {
    "duration": 266,
    "start_time": "2023-09-28T17:17:42.292Z"
   },
   {
    "duration": 1484,
    "start_time": "2023-09-28T17:28:45.954Z"
   },
   {
    "duration": 1596,
    "start_time": "2023-09-28T17:29:12.754Z"
   },
   {
    "duration": 281,
    "start_time": "2023-09-28T17:29:28.991Z"
   },
   {
    "duration": 1448,
    "start_time": "2023-09-28T17:30:33.610Z"
   },
   {
    "duration": 1462,
    "start_time": "2023-09-28T17:31:04.999Z"
   },
   {
    "duration": 305,
    "start_time": "2023-09-28T17:32:36.836Z"
   },
   {
    "duration": 389,
    "start_time": "2023-09-28T17:33:04.585Z"
   },
   {
    "duration": 317,
    "start_time": "2023-09-28T17:33:27.827Z"
   },
   {
    "duration": 1477,
    "start_time": "2023-09-28T17:33:46.988Z"
   },
   {
    "duration": 1442,
    "start_time": "2023-09-28T17:34:16.443Z"
   },
   {
    "duration": 321,
    "start_time": "2023-09-28T17:34:33.598Z"
   },
   {
    "duration": 276,
    "start_time": "2023-09-28T17:34:54.330Z"
   },
   {
    "duration": 275,
    "start_time": "2023-09-28T17:35:04.502Z"
   },
   {
    "duration": 306,
    "start_time": "2023-09-28T17:36:00.165Z"
   },
   {
    "duration": 310,
    "start_time": "2023-09-28T17:36:27.464Z"
   },
   {
    "duration": 269,
    "start_time": "2023-09-28T17:37:21.790Z"
   },
   {
    "duration": 253,
    "start_time": "2023-09-28T17:37:45.273Z"
   },
   {
    "duration": 249,
    "start_time": "2023-09-28T17:39:22.164Z"
   },
   {
    "duration": 1085,
    "start_time": "2023-09-28T17:50:22.426Z"
   },
   {
    "duration": 53,
    "start_time": "2023-09-28T17:50:23.513Z"
   },
   {
    "duration": 3,
    "start_time": "2023-09-28T17:50:23.570Z"
   },
   {
    "duration": 24,
    "start_time": "2023-09-28T17:50:23.575Z"
   },
   {
    "duration": 10,
    "start_time": "2023-09-28T17:50:23.600Z"
   },
   {
    "duration": 44,
    "start_time": "2023-09-28T17:50:23.612Z"
   },
   {
    "duration": 16,
    "start_time": "2023-09-28T17:50:23.657Z"
   },
   {
    "duration": 14,
    "start_time": "2023-09-28T17:50:23.675Z"
   },
   {
    "duration": 17,
    "start_time": "2023-09-28T17:50:23.691Z"
   },
   {
    "duration": 43,
    "start_time": "2023-09-28T17:50:23.710Z"
   },
   {
    "duration": 4,
    "start_time": "2023-09-28T17:50:23.755Z"
   },
   {
    "duration": 32,
    "start_time": "2023-09-28T17:50:23.761Z"
   },
   {
    "duration": 5,
    "start_time": "2023-09-28T17:50:23.795Z"
   },
   {
    "duration": 27,
    "start_time": "2023-09-28T17:50:23.802Z"
   },
   {
    "duration": 101,
    "start_time": "2023-09-28T17:50:23.831Z"
   },
   {
    "duration": 55,
    "start_time": "2023-09-28T17:50:23.935Z"
   },
   {
    "duration": 55,
    "start_time": "2023-09-28T17:50:23.991Z"
   },
   {
    "duration": 3,
    "start_time": "2023-09-28T17:50:24.048Z"
   },
   {
    "duration": 26,
    "start_time": "2023-09-28T17:50:24.052Z"
   },
   {
    "duration": 16,
    "start_time": "2023-09-28T17:50:24.080Z"
   },
   {
    "duration": 13,
    "start_time": "2023-09-28T17:50:24.097Z"
   },
   {
    "duration": 31,
    "start_time": "2023-09-28T17:50:24.111Z"
   },
   {
    "duration": 36,
    "start_time": "2023-09-28T17:50:24.143Z"
   },
   {
    "duration": 360,
    "start_time": "2023-09-28T17:50:24.181Z"
   },
   {
    "duration": 249,
    "start_time": "2023-09-28T17:50:24.543Z"
   },
   {
    "duration": 23,
    "start_time": "2023-09-28T17:50:24.793Z"
   },
   {
    "duration": 15,
    "start_time": "2023-09-28T17:50:24.819Z"
   },
   {
    "duration": 287,
    "start_time": "2023-09-28T17:50:24.835Z"
   },
   {
    "duration": 18,
    "start_time": "2023-09-28T17:50:25.123Z"
   },
   {
    "duration": 43,
    "start_time": "2023-09-28T17:50:25.142Z"
   },
   {
    "duration": 26,
    "start_time": "2023-09-28T17:50:25.186Z"
   },
   {
    "duration": 1422,
    "start_time": "2023-09-28T17:50:25.214Z"
   },
   {
    "duration": 393,
    "start_time": "2023-09-28T17:50:26.638Z"
   },
   {
    "duration": 5,
    "start_time": "2023-09-28T17:50:27.033Z"
   },
   {
    "duration": 76,
    "start_time": "2023-09-28T17:50:27.040Z"
   },
   {
    "duration": 596,
    "start_time": "2023-09-28T17:50:27.117Z"
   },
   {
    "duration": 19,
    "start_time": "2023-09-28T17:50:27.715Z"
   },
   {
    "duration": 26,
    "start_time": "2023-09-28T17:50:27.735Z"
   },
   {
    "duration": 439,
    "start_time": "2023-09-28T17:50:27.814Z"
   },
   {
    "duration": 76,
    "start_time": "2023-09-28T17:50:28.255Z"
   },
   {
    "duration": 2,
    "start_time": "2023-09-28T17:50:28.332Z"
   },
   {
    "duration": 80,
    "start_time": "2023-09-28T17:50:28.336Z"
   },
   {
    "duration": 11,
    "start_time": "2023-09-28T17:50:28.418Z"
   },
   {
    "duration": 18,
    "start_time": "2023-09-28T17:50:28.431Z"
   },
   {
    "duration": 488,
    "start_time": "2023-09-28T17:50:28.450Z"
   },
   {
    "duration": 161,
    "start_time": "2023-09-28T17:50:28.941Z"
   },
   {
    "duration": 170,
    "start_time": "2023-09-28T17:50:29.104Z"
   },
   {
    "duration": 14,
    "start_time": "2023-09-28T17:50:29.276Z"
   },
   {
    "duration": 24,
    "start_time": "2023-09-28T17:50:29.292Z"
   },
   {
    "duration": 18,
    "start_time": "2023-09-28T17:50:29.317Z"
   },
   {
    "duration": 22,
    "start_time": "2023-09-28T17:50:29.336Z"
   },
   {
    "duration": 243,
    "start_time": "2023-09-28T17:50:29.360Z"
   },
   {
    "duration": 53,
    "start_time": "2023-09-28T17:50:29.605Z"
   },
   {
    "duration": 148,
    "start_time": "2023-09-28T17:50:29.660Z"
   },
   {
    "duration": 137,
    "start_time": "2023-09-28T17:50:29.813Z"
   },
   {
    "duration": 247,
    "start_time": "2023-09-28T17:50:29.952Z"
   },
   {
    "duration": 155,
    "start_time": "2023-09-28T17:50:30.201Z"
   },
   {
    "duration": 262,
    "start_time": "2023-09-28T17:50:30.357Z"
   },
   {
    "duration": 187,
    "start_time": "2023-09-28T17:50:30.621Z"
   },
   {
    "duration": 183,
    "start_time": "2023-09-28T17:50:30.812Z"
   },
   {
    "duration": 138,
    "start_time": "2023-09-28T17:50:30.997Z"
   },
   {
    "duration": 146,
    "start_time": "2023-09-28T17:50:31.136Z"
   },
   {
    "duration": 5,
    "start_time": "2023-09-28T17:50:31.284Z"
   },
   {
    "duration": 138,
    "start_time": "2023-09-28T17:50:31.291Z"
   },
   {
    "duration": 0,
    "start_time": "2023-09-28T17:50:31.430Z"
   },
   {
    "duration": 0,
    "start_time": "2023-09-28T17:50:31.432Z"
   },
   {
    "duration": 246,
    "start_time": "2023-09-28T17:52:07.114Z"
   },
   {
    "duration": 233,
    "start_time": "2023-09-28T17:52:17.394Z"
   },
   {
    "duration": 89,
    "start_time": "2023-09-28T17:52:29.628Z"
   },
   {
    "duration": 1121,
    "start_time": "2023-09-28T17:52:35.343Z"
   },
   {
    "duration": 1056,
    "start_time": "2023-09-28T17:52:42.123Z"
   },
   {
    "duration": 102,
    "start_time": "2023-09-28T17:52:49.671Z"
   },
   {
    "duration": 1079,
    "start_time": "2023-09-28T17:52:55.142Z"
   },
   {
    "duration": 26,
    "start_time": "2023-09-28T17:53:03.928Z"
   },
   {
    "duration": 23,
    "start_time": "2023-09-28T17:53:21.153Z"
   },
   {
    "duration": 304,
    "start_time": "2023-09-28T17:53:24.757Z"
   },
   {
    "duration": 6,
    "start_time": "2023-09-28T17:54:14.980Z"
   },
   {
    "duration": 5,
    "start_time": "2023-09-28T17:54:15.471Z"
   },
   {
    "duration": 5,
    "start_time": "2023-09-28T17:54:35.592Z"
   },
   {
    "duration": 14,
    "start_time": "2023-09-28T17:54:36.731Z"
   },
   {
    "duration": 181,
    "start_time": "2023-09-28T17:54:58.611Z"
   },
   {
    "duration": 5,
    "start_time": "2023-09-28T17:55:40.191Z"
   },
   {
    "duration": 4,
    "start_time": "2023-09-28T17:55:40.781Z"
   },
   {
    "duration": 1131,
    "start_time": "2023-09-28T17:55:56.672Z"
   },
   {
    "duration": 55,
    "start_time": "2023-09-28T17:55:57.805Z"
   },
   {
    "duration": 4,
    "start_time": "2023-09-28T17:55:57.862Z"
   },
   {
    "duration": 19,
    "start_time": "2023-09-28T17:55:57.868Z"
   },
   {
    "duration": 14,
    "start_time": "2023-09-28T17:55:57.889Z"
   },
   {
    "duration": 38,
    "start_time": "2023-09-28T17:55:57.905Z"
   },
   {
    "duration": 27,
    "start_time": "2023-09-28T17:55:57.945Z"
   },
   {
    "duration": 11,
    "start_time": "2023-09-28T17:55:57.974Z"
   },
   {
    "duration": 17,
    "start_time": "2023-09-28T17:55:57.987Z"
   },
   {
    "duration": 35,
    "start_time": "2023-09-28T17:55:58.008Z"
   },
   {
    "duration": 4,
    "start_time": "2023-09-28T17:55:58.045Z"
   },
   {
    "duration": 58,
    "start_time": "2023-09-28T17:55:58.051Z"
   },
   {
    "duration": 11,
    "start_time": "2023-09-28T17:55:58.111Z"
   },
   {
    "duration": 57,
    "start_time": "2023-09-28T17:55:58.123Z"
   },
   {
    "duration": 53,
    "start_time": "2023-09-28T17:55:58.182Z"
   },
   {
    "duration": 22,
    "start_time": "2023-09-28T17:55:58.237Z"
   },
   {
    "duration": 27,
    "start_time": "2023-09-28T17:55:58.261Z"
   },
   {
    "duration": 45,
    "start_time": "2023-09-28T17:55:58.290Z"
   },
   {
    "duration": 70,
    "start_time": "2023-09-28T17:55:58.337Z"
   },
   {
    "duration": 44,
    "start_time": "2023-09-28T17:55:58.409Z"
   },
   {
    "duration": 28,
    "start_time": "2023-09-28T17:55:58.455Z"
   },
   {
    "duration": 58,
    "start_time": "2023-09-28T17:55:58.485Z"
   },
   {
    "duration": 54,
    "start_time": "2023-09-28T17:55:58.545Z"
   },
   {
    "duration": 427,
    "start_time": "2023-09-28T17:55:58.601Z"
   },
   {
    "duration": 261,
    "start_time": "2023-09-28T17:55:59.030Z"
   },
   {
    "duration": 21,
    "start_time": "2023-09-28T17:55:59.293Z"
   },
   {
    "duration": 4,
    "start_time": "2023-09-28T17:55:59.316Z"
   },
   {
    "duration": 271,
    "start_time": "2023-09-28T17:55:59.325Z"
   },
   {
    "duration": 24,
    "start_time": "2023-09-28T17:55:59.598Z"
   },
   {
    "duration": 10,
    "start_time": "2023-09-28T17:55:59.624Z"
   },
   {
    "duration": 24,
    "start_time": "2023-09-28T17:55:59.635Z"
   },
   {
    "duration": 1378,
    "start_time": "2023-09-28T17:55:59.661Z"
   },
   {
    "duration": 426,
    "start_time": "2023-09-28T17:56:01.041Z"
   },
   {
    "duration": 23,
    "start_time": "2023-09-28T17:56:01.513Z"
   },
   {
    "duration": 405,
    "start_time": "2023-09-28T17:56:01.538Z"
   },
   {
    "duration": 398,
    "start_time": "2023-09-28T17:56:01.945Z"
   },
   {
    "duration": 88,
    "start_time": "2023-09-28T17:56:02.344Z"
   },
   {
    "duration": 270,
    "start_time": "2023-09-28T17:56:02.434Z"
   },
   {
    "duration": 638,
    "start_time": "2023-09-28T17:56:02.706Z"
   },
   {
    "duration": 573,
    "start_time": "2023-09-28T17:56:03.346Z"
   },
   {
    "duration": 282,
    "start_time": "2023-09-28T17:56:03.921Z"
   },
   {
    "duration": 61,
    "start_time": "2023-09-28T17:56:04.205Z"
   },
   {
    "duration": 75,
    "start_time": "2023-09-28T17:56:04.268Z"
   },
   {
    "duration": 289,
    "start_time": "2023-09-28T17:56:04.345Z"
   },
   {
    "duration": 142,
    "start_time": "2023-09-28T17:56:04.636Z"
   },
   {
    "duration": 145,
    "start_time": "2023-09-28T17:56:04.780Z"
   },
   {
    "duration": 12,
    "start_time": "2023-09-28T17:56:04.927Z"
   },
   {
    "duration": 19,
    "start_time": "2023-09-28T17:56:04.940Z"
   },
   {
    "duration": 26,
    "start_time": "2023-09-28T17:56:04.961Z"
   },
   {
    "duration": 19,
    "start_time": "2023-09-28T17:56:04.989Z"
   },
   {
    "duration": 190,
    "start_time": "2023-09-28T17:56:05.010Z"
   },
   {
    "duration": 36,
    "start_time": "2023-09-28T17:56:05.202Z"
   },
   {
    "duration": 236,
    "start_time": "2023-09-28T17:56:05.240Z"
   },
   {
    "duration": 202,
    "start_time": "2023-09-28T17:56:05.478Z"
   },
   {
    "duration": 233,
    "start_time": "2023-09-28T17:56:05.682Z"
   },
   {
    "duration": 138,
    "start_time": "2023-09-28T17:56:05.916Z"
   },
   {
    "duration": 137,
    "start_time": "2023-09-28T17:56:06.056Z"
   },
   {
    "duration": 127,
    "start_time": "2023-09-28T17:56:06.194Z"
   },
   {
    "duration": 201,
    "start_time": "2023-09-28T17:56:06.323Z"
   },
   {
    "duration": 119,
    "start_time": "2023-09-28T17:56:06.526Z"
   },
   {
    "duration": 126,
    "start_time": "2023-09-28T17:56:06.646Z"
   },
   {
    "duration": 5,
    "start_time": "2023-09-28T17:56:06.774Z"
   },
   {
    "duration": 39,
    "start_time": "2023-09-28T17:56:06.780Z"
   },
   {
    "duration": 44,
    "start_time": "2023-09-28T17:56:06.821Z"
   },
   {
    "duration": 27,
    "start_time": "2023-09-28T17:56:06.866Z"
   },
   {
    "duration": 5,
    "start_time": "2023-09-28T17:56:32.921Z"
   },
   {
    "duration": 9,
    "start_time": "2023-09-28T17:57:04.773Z"
   },
   {
    "duration": 5,
    "start_time": "2023-09-28T17:57:06.451Z"
   },
   {
    "duration": 9,
    "start_time": "2023-09-28T17:57:15.060Z"
   },
   {
    "duration": 5,
    "start_time": "2023-09-28T17:57:15.580Z"
   },
   {
    "duration": 5,
    "start_time": "2023-09-28T17:57:18.964Z"
   },
   {
    "duration": 4,
    "start_time": "2023-09-28T17:57:19.725Z"
   },
   {
    "duration": 1134,
    "start_time": "2023-09-28T17:58:32.374Z"
   },
   {
    "duration": 53,
    "start_time": "2023-09-28T17:58:33.509Z"
   },
   {
    "duration": 14,
    "start_time": "2023-09-28T17:58:33.564Z"
   },
   {
    "duration": 27,
    "start_time": "2023-09-28T17:58:33.580Z"
   },
   {
    "duration": 10,
    "start_time": "2023-09-28T17:58:33.608Z"
   },
   {
    "duration": 28,
    "start_time": "2023-09-28T17:58:33.620Z"
   },
   {
    "duration": 14,
    "start_time": "2023-09-28T17:58:33.649Z"
   },
   {
    "duration": 3,
    "start_time": "2023-09-28T17:58:33.664Z"
   },
   {
    "duration": 19,
    "start_time": "2023-09-28T17:58:33.668Z"
   },
   {
    "duration": 33,
    "start_time": "2023-09-28T17:58:33.690Z"
   },
   {
    "duration": 3,
    "start_time": "2023-09-28T17:58:33.725Z"
   },
   {
    "duration": 35,
    "start_time": "2023-09-28T17:58:33.729Z"
   },
   {
    "duration": 2,
    "start_time": "2023-09-28T17:58:33.766Z"
   },
   {
    "duration": 14,
    "start_time": "2023-09-28T17:58:33.769Z"
   },
   {
    "duration": 11,
    "start_time": "2023-09-28T17:58:33.785Z"
   },
   {
    "duration": 6,
    "start_time": "2023-09-28T17:58:33.797Z"
   },
   {
    "duration": 23,
    "start_time": "2023-09-28T17:58:33.804Z"
   },
   {
    "duration": 4,
    "start_time": "2023-09-28T17:58:33.828Z"
   },
   {
    "duration": 23,
    "start_time": "2023-09-28T17:58:33.833Z"
   },
   {
    "duration": 19,
    "start_time": "2023-09-28T17:58:33.858Z"
   },
   {
    "duration": 34,
    "start_time": "2023-09-28T17:58:33.879Z"
   },
   {
    "duration": 18,
    "start_time": "2023-09-28T17:58:33.915Z"
   },
   {
    "duration": 9,
    "start_time": "2023-09-28T17:58:33.934Z"
   },
   {
    "duration": 368,
    "start_time": "2023-09-28T17:58:33.945Z"
   },
   {
    "duration": 254,
    "start_time": "2023-09-28T17:58:34.314Z"
   },
   {
    "duration": 15,
    "start_time": "2023-09-28T17:58:34.569Z"
   },
   {
    "duration": 6,
    "start_time": "2023-09-28T17:58:34.586Z"
   },
   {
    "duration": 270,
    "start_time": "2023-09-28T17:58:34.595Z"
   },
   {
    "duration": 16,
    "start_time": "2023-09-28T17:58:34.866Z"
   },
   {
    "duration": 19,
    "start_time": "2023-09-28T17:58:34.883Z"
   },
   {
    "duration": 20,
    "start_time": "2023-09-28T17:58:34.904Z"
   },
   {
    "duration": 1180,
    "start_time": "2023-09-28T17:58:34.925Z"
   },
   {
    "duration": 233,
    "start_time": "2023-09-28T17:58:36.106Z"
   },
   {
    "duration": 6,
    "start_time": "2023-09-28T17:58:36.340Z"
   },
   {
    "duration": 43,
    "start_time": "2023-09-28T17:58:36.347Z"
   },
   {
    "duration": 246,
    "start_time": "2023-09-28T17:58:36.392Z"
   },
   {
    "duration": 17,
    "start_time": "2023-09-28T17:58:36.640Z"
   },
   {
    "duration": 27,
    "start_time": "2023-09-28T17:58:36.658Z"
   },
   {
    "duration": 213,
    "start_time": "2023-09-28T17:58:36.686Z"
   },
   {
    "duration": 28,
    "start_time": "2023-09-28T17:58:36.901Z"
   },
   {
    "duration": 5,
    "start_time": "2023-09-28T17:58:36.931Z"
   },
   {
    "duration": 14,
    "start_time": "2023-09-28T17:58:36.938Z"
   },
   {
    "duration": 23,
    "start_time": "2023-09-28T17:58:36.954Z"
   },
   {
    "duration": 244,
    "start_time": "2023-09-28T17:58:36.978Z"
   },
   {
    "duration": 148,
    "start_time": "2023-09-28T17:58:37.223Z"
   },
   {
    "duration": 135,
    "start_time": "2023-09-28T17:58:37.372Z"
   },
   {
    "duration": 13,
    "start_time": "2023-09-28T17:58:37.512Z"
   },
   {
    "duration": 20,
    "start_time": "2023-09-28T17:58:37.527Z"
   },
   {
    "duration": 18,
    "start_time": "2023-09-28T17:58:37.548Z"
   },
   {
    "duration": 14,
    "start_time": "2023-09-28T17:58:37.567Z"
   },
   {
    "duration": 193,
    "start_time": "2023-09-28T17:58:37.582Z"
   },
   {
    "duration": 44,
    "start_time": "2023-09-28T17:58:37.777Z"
   },
   {
    "duration": 137,
    "start_time": "2023-09-28T17:58:37.823Z"
   },
   {
    "duration": 132,
    "start_time": "2023-09-28T17:58:37.961Z"
   },
   {
    "duration": 223,
    "start_time": "2023-09-28T17:58:38.095Z"
   },
   {
    "duration": 135,
    "start_time": "2023-09-28T17:58:38.320Z"
   },
   {
    "duration": 130,
    "start_time": "2023-09-28T17:58:38.456Z"
   },
   {
    "duration": 125,
    "start_time": "2023-09-28T17:58:38.588Z"
   },
   {
    "duration": 125,
    "start_time": "2023-09-28T17:58:38.715Z"
   },
   {
    "duration": 122,
    "start_time": "2023-09-28T17:58:38.841Z"
   },
   {
    "duration": 123,
    "start_time": "2023-09-28T17:58:38.965Z"
   },
   {
    "duration": 23,
    "start_time": "2023-09-28T17:58:39.090Z"
   },
   {
    "duration": 5,
    "start_time": "2023-09-28T17:58:39.115Z"
   },
   {
    "duration": 31,
    "start_time": "2023-09-28T17:58:39.121Z"
   },
   {
    "duration": 14,
    "start_time": "2023-09-28T17:58:39.154Z"
   },
   {
    "duration": 1161,
    "start_time": "2023-09-29T08:33:25.565Z"
   },
   {
    "duration": 177,
    "start_time": "2023-09-29T08:33:26.728Z"
   },
   {
    "duration": 4,
    "start_time": "2023-09-29T08:33:26.907Z"
   },
   {
    "duration": 24,
    "start_time": "2023-09-29T08:33:26.913Z"
   },
   {
    "duration": 9,
    "start_time": "2023-09-29T08:33:26.938Z"
   },
   {
    "duration": 26,
    "start_time": "2023-09-29T08:33:26.948Z"
   },
   {
    "duration": 15,
    "start_time": "2023-09-29T08:33:26.975Z"
   },
   {
    "duration": 2,
    "start_time": "2023-09-29T08:33:26.991Z"
   },
   {
    "duration": 12,
    "start_time": "2023-09-29T08:33:26.994Z"
   },
   {
    "duration": 44,
    "start_time": "2023-09-29T08:33:27.009Z"
   },
   {
    "duration": 5,
    "start_time": "2023-09-29T08:33:27.055Z"
   },
   {
    "duration": 18,
    "start_time": "2023-09-29T08:33:27.062Z"
   },
   {
    "duration": 2,
    "start_time": "2023-09-29T08:33:27.082Z"
   },
   {
    "duration": 9,
    "start_time": "2023-09-29T08:33:27.086Z"
   },
   {
    "duration": 9,
    "start_time": "2023-09-29T08:33:27.097Z"
   },
   {
    "duration": 9,
    "start_time": "2023-09-29T08:33:27.108Z"
   },
   {
    "duration": 41,
    "start_time": "2023-09-29T08:33:27.119Z"
   },
   {
    "duration": 4,
    "start_time": "2023-09-29T08:33:27.162Z"
   },
   {
    "duration": 23,
    "start_time": "2023-09-29T08:33:27.168Z"
   },
   {
    "duration": 18,
    "start_time": "2023-09-29T08:33:27.193Z"
   },
   {
    "duration": 34,
    "start_time": "2023-09-29T08:33:27.213Z"
   },
   {
    "duration": 18,
    "start_time": "2023-09-29T08:33:27.249Z"
   },
   {
    "duration": 14,
    "start_time": "2023-09-29T08:33:27.269Z"
   },
   {
    "duration": 352,
    "start_time": "2023-09-29T08:33:27.285Z"
   },
   {
    "duration": 256,
    "start_time": "2023-09-29T08:33:27.638Z"
   },
   {
    "duration": 15,
    "start_time": "2023-09-29T08:33:27.896Z"
   },
   {
    "duration": 4,
    "start_time": "2023-09-29T08:33:27.912Z"
   },
   {
    "duration": 264,
    "start_time": "2023-09-29T08:33:27.919Z"
   },
   {
    "duration": 21,
    "start_time": "2023-09-29T08:33:28.185Z"
   },
   {
    "duration": 5,
    "start_time": "2023-09-29T08:33:28.208Z"
   },
   {
    "duration": 9,
    "start_time": "2023-09-29T08:33:28.215Z"
   },
   {
    "duration": 1158,
    "start_time": "2023-09-29T08:33:28.244Z"
   },
   {
    "duration": 246,
    "start_time": "2023-09-29T08:33:29.404Z"
   },
   {
    "duration": 5,
    "start_time": "2023-09-29T08:33:29.651Z"
   },
   {
    "duration": 26,
    "start_time": "2023-09-29T08:33:29.657Z"
   },
   {
    "duration": 264,
    "start_time": "2023-09-29T08:33:29.685Z"
   },
   {
    "duration": 21,
    "start_time": "2023-09-29T08:33:29.951Z"
   },
   {
    "duration": 34,
    "start_time": "2023-09-29T08:33:29.974Z"
   },
   {
    "duration": 254,
    "start_time": "2023-09-29T08:33:30.009Z"
   },
   {
    "duration": 21,
    "start_time": "2023-09-29T08:33:30.265Z"
   },
   {
    "duration": 40,
    "start_time": "2023-09-29T08:33:30.288Z"
   },
   {
    "duration": 96,
    "start_time": "2023-09-29T08:33:30.330Z"
   },
   {
    "duration": 36,
    "start_time": "2023-09-29T08:33:30.428Z"
   },
   {
    "duration": 331,
    "start_time": "2023-09-29T08:33:30.466Z"
   },
   {
    "duration": 156,
    "start_time": "2023-09-29T08:33:30.799Z"
   },
   {
    "duration": 139,
    "start_time": "2023-09-29T08:33:30.957Z"
   },
   {
    "duration": 14,
    "start_time": "2023-09-29T08:33:31.098Z"
   },
   {
    "duration": 47,
    "start_time": "2023-09-29T08:33:31.114Z"
   },
   {
    "duration": 37,
    "start_time": "2023-09-29T08:33:31.163Z"
   },
   {
    "duration": 39,
    "start_time": "2023-09-29T08:33:31.201Z"
   },
   {
    "duration": 232,
    "start_time": "2023-09-29T08:33:31.242Z"
   },
   {
    "duration": 35,
    "start_time": "2023-09-29T08:33:31.475Z"
   },
   {
    "duration": 144,
    "start_time": "2023-09-29T08:33:31.512Z"
   },
   {
    "duration": 125,
    "start_time": "2023-09-29T08:33:31.658Z"
   },
   {
    "duration": 237,
    "start_time": "2023-09-29T08:33:31.785Z"
   },
   {
    "duration": 130,
    "start_time": "2023-09-29T08:33:32.023Z"
   },
   {
    "duration": 167,
    "start_time": "2023-09-29T08:33:32.155Z"
   },
   {
    "duration": 145,
    "start_time": "2023-09-29T08:33:32.324Z"
   },
   {
    "duration": 150,
    "start_time": "2023-09-29T08:33:32.471Z"
   },
   {
    "duration": 132,
    "start_time": "2023-09-29T08:33:32.623Z"
   },
   {
    "duration": 145,
    "start_time": "2023-09-29T08:33:32.757Z"
   },
   {
    "duration": 8,
    "start_time": "2023-09-29T08:33:32.904Z"
   },
   {
    "duration": 5,
    "start_time": "2023-09-29T08:33:32.913Z"
   },
   {
    "duration": 8,
    "start_time": "2023-09-29T08:33:32.920Z"
   },
   {
    "duration": 6,
    "start_time": "2023-09-29T08:33:32.944Z"
   }
  ],
  "kernelspec": {
   "display_name": "Python 3 (ipykernel)",
   "language": "python",
   "name": "python3"
  },
  "language_info": {
   "codemirror_mode": {
    "name": "ipython",
    "version": 3
   },
   "file_extension": ".py",
   "mimetype": "text/x-python",
   "name": "python",
   "nbconvert_exporter": "python",
   "pygments_lexer": "ipython3",
   "version": "3.9.5"
  },
  "toc": {
   "base_numbering": 1,
   "nav_menu": {},
   "number_sections": true,
   "sideBar": true,
   "skip_h1_title": true,
   "title_cell": "Table of Contents",
   "title_sidebar": "Contents",
   "toc_cell": false,
   "toc_position": {
    "height": "calc(100% - 180px)",
    "left": "10px",
    "top": "150px",
    "width": "646.521px"
   },
   "toc_section_display": true,
   "toc_window_display": true
  }
 },
 "nbformat": 4,
 "nbformat_minor": 4
}
