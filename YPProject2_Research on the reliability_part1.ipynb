{
 "cells": [
  {
   "cell_type": "markdown",
   "id": "4f11de00",
   "metadata": {
    "deletable": false,
    "editable": false,
    "id": "4f11de00"
   },
   "source": [
    "# Исследование надежности заемщиков"
   ]
  },
  {
   "cell_type": "markdown",
   "id": "f09d6878",
   "metadata": {
    "deletable": false,
    "editable": false,
    "id": "f09d6878"
   },
   "source": [
    "Это первая часть проекта, она будет проверена автоматически. Вторую часть проверит ревьюер. "
   ]
  },
  {
   "cell_type": "markdown",
   "id": "c073bb9c-0f2c-4549-a0c7-27bd6352b037",
   "metadata": {},
   "source": [
    "**Описание проекта** \n",
    "<p>Заказчик — кредитный отдел банка. Нужно разобраться, влияет ли семейное положение и количество детей клиента на факт погашения кредита в срок. Входные данные от банка — статистика о платёжеспособности клиентов.\n",
    "Результаты исследования будут учтены при построении модели кредитного скоринга — специальной системы, которая оценивает способность потенциального заёмщика вернуть кредит банку."
   ]
  },
  {
   "cell_type": "markdown",
   "id": "9d31587c-8b18-4527-9a9d-4ba38543ee2d",
   "metadata": {},
   "source": [
    "**Описание данных**\n",
    "\n",
    "- children — количество детей в семье\n",
    "- days_employed — общий трудовой стаж в днях\n",
    "- dob_years — возраст клиента в годах\n",
    "- education — уровень образования клиента\n",
    "- education_id — идентификатор уровня образования\n",
    "- family_status — семейное положение\n",
    "- family_status_id — идентификатор семейного положения\n",
    "- gender — пол клиента\n",
    "- income_type — тип занятости\n",
    "- debt — имел ли задолженность по возврату кредитов\n",
    "- total_income — ежемесячный доход\n",
    "- purpose — цель получения кредита"
   ]
  },
  {
   "cell_type": "markdown",
   "id": "516620ee",
   "metadata": {
    "deletable": false,
    "editable": false,
    "id": "516620ee"
   },
   "source": [
    "## Откройте таблицу и изучите общую информацию о данных"
   ]
  },
  {
   "cell_type": "markdown",
   "id": "76a8a9ce",
   "metadata": {
    "deletable": false,
    "editable": false,
    "id": "76a8a9ce",
    "tags": [
     "start_task"
    ]
   },
   "source": [
    "**Задание 1. Импортируйте библиотеку pandas. Считайте данные из csv-файла в датафрейм и сохраните в переменную `data`. Путь к файлу:**\n",
    "\n",
    "`/datasets/data.csv`"
   ]
  },
  {
   "cell_type": "code",
   "execution_count": 1,
   "id": "fab207d0",
   "metadata": {
    "id": "fab207d0"
   },
   "outputs": [],
   "source": [
    "import pandas as pd\n",
    "# импортируйте библиотеку pandas"
   ]
  },
  {
   "cell_type": "code",
   "execution_count": 2,
   "id": "6c82b607",
   "metadata": {
    "id": "6c82b607"
   },
   "outputs": [],
   "source": [
    "data = pd.read_csv('/datasets/data.csv')\n",
    "# прочитайте csv-файл"
   ]
  },
  {
   "cell_type": "markdown",
   "id": "08bbb5b3",
   "metadata": {
    "deletable": false,
    "editable": false,
    "id": "08bbb5b3",
    "tags": [
     "start_task"
    ]
   },
   "source": [
    "**Задание 2. Выведите первые 20 строчек датафрейма `data` на экран.**"
   ]
  },
  {
   "cell_type": "code",
   "execution_count": 3,
   "id": "4ff33b36",
   "metadata": {
    "id": "4ff33b36"
   },
   "outputs": [
    {
     "name": "stdout",
     "output_type": "stream",
     "text": [
      "    children  days_employed  dob_years            education  education_id  \\\n",
      "0          1   -8437.673028         42               высшее             0   \n",
      "1          1   -4024.803754         36              среднее             1   \n",
      "2          0   -5623.422610         33              Среднее             1   \n",
      "3          3   -4124.747207         32              среднее             1   \n",
      "4          0  340266.072047         53              среднее             1   \n",
      "5          0    -926.185831         27               высшее             0   \n",
      "6          0   -2879.202052         43               высшее             0   \n",
      "7          0    -152.779569         50              СРЕДНЕЕ             1   \n",
      "8          2   -6929.865299         35               ВЫСШЕЕ             0   \n",
      "9          0   -2188.756445         41              среднее             1   \n",
      "10         2   -4171.483647         36               высшее             0   \n",
      "11         0    -792.701887         40              среднее             1   \n",
      "12         0            NaN         65              среднее             1   \n",
      "13         0   -1846.641941         54  неоконченное высшее             2   \n",
      "14         0   -1844.956182         56               высшее             0   \n",
      "15         1    -972.364419         26              среднее             1   \n",
      "16         0   -1719.934226         35              среднее             1   \n",
      "17         0   -2369.999720         33               высшее             0   \n",
      "18         0  400281.136913         53              среднее             1   \n",
      "19         0  -10038.818549         48              СРЕДНЕЕ             1   \n",
      "\n",
      "       family_status  family_status_id gender income_type  debt  \\\n",
      "0    женат / замужем                 0      F   сотрудник     0   \n",
      "1    женат / замужем                 0      F   сотрудник     0   \n",
      "2    женат / замужем                 0      M   сотрудник     0   \n",
      "3    женат / замужем                 0      M   сотрудник     0   \n",
      "4   гражданский брак                 1      F   пенсионер     0   \n",
      "5   гражданский брак                 1      M   компаньон     0   \n",
      "6    женат / замужем                 0      F   компаньон     0   \n",
      "7    женат / замужем                 0      M   сотрудник     0   \n",
      "8   гражданский брак                 1      F   сотрудник     0   \n",
      "9    женат / замужем                 0      M   сотрудник     0   \n",
      "10   женат / замужем                 0      M   компаньон     0   \n",
      "11   женат / замужем                 0      F   сотрудник     0   \n",
      "12  гражданский брак                 1      M   пенсионер     0   \n",
      "13   женат / замужем                 0      F   сотрудник     0   \n",
      "14  гражданский брак                 1      F   компаньон     1   \n",
      "15   женат / замужем                 0      F   сотрудник     0   \n",
      "16   женат / замужем                 0      F   сотрудник     0   \n",
      "17  гражданский брак                 1      M   сотрудник     0   \n",
      "18    вдовец / вдова                 2      F   пенсионер     0   \n",
      "19         в разводе                 3      F   сотрудник     0   \n",
      "\n",
      "     total_income                                 purpose  \n",
      "0   253875.639453                           покупка жилья  \n",
      "1   112080.014102                 приобретение автомобиля  \n",
      "2   145885.952297                           покупка жилья  \n",
      "3   267628.550329              дополнительное образование  \n",
      "4   158616.077870                         сыграть свадьбу  \n",
      "5   255763.565419                           покупка жилья  \n",
      "6   240525.971920                       операции с жильем  \n",
      "7   135823.934197                             образование  \n",
      "8    95856.832424                   на проведение свадьбы  \n",
      "9   144425.938277                 покупка жилья для семьи  \n",
      "10  113943.491460                    покупка недвижимости  \n",
      "11   77069.234271       покупка коммерческой недвижимости  \n",
      "12            NaN                         сыграть свадьбу  \n",
      "13  130458.228857                 приобретение автомобиля  \n",
      "14  165127.911772              покупка жилой недвижимости  \n",
      "15  116820.904450  строительство собственной недвижимости  \n",
      "16  289202.704229                            недвижимость  \n",
      "17   90410.586745              строительство недвижимости  \n",
      "18   56823.777243      на покупку подержанного автомобиля  \n",
      "19  242831.107982            на покупку своего автомобиля  \n"
     ]
    }
   ],
   "source": [
    "print(data.head(20))\n",
    "# ваш код здесь"
   ]
  },
  {
   "cell_type": "markdown",
   "id": "c8f382ae",
   "metadata": {
    "deletable": false,
    "editable": false,
    "id": "c8f382ae",
    "tags": [
     "start_task"
    ]
   },
   "source": [
    "**Задание 3. Выведите основную информацию о датафрейме с помощью метода `info()`.**"
   ]
  },
  {
   "cell_type": "code",
   "execution_count": 4,
   "id": "e1ed9908",
   "metadata": {
    "id": "e1ed9908"
   },
   "outputs": [
    {
     "name": "stdout",
     "output_type": "stream",
     "text": [
      "<class 'pandas.core.frame.DataFrame'>\n",
      "RangeIndex: 21525 entries, 0 to 21524\n",
      "Data columns (total 12 columns):\n",
      " #   Column            Non-Null Count  Dtype  \n",
      "---  ------            --------------  -----  \n",
      " 0   children          21525 non-null  int64  \n",
      " 1   days_employed     19351 non-null  float64\n",
      " 2   dob_years         21525 non-null  int64  \n",
      " 3   education         21525 non-null  object \n",
      " 4   education_id      21525 non-null  int64  \n",
      " 5   family_status     21525 non-null  object \n",
      " 6   family_status_id  21525 non-null  int64  \n",
      " 7   gender            21525 non-null  object \n",
      " 8   income_type       21525 non-null  object \n",
      " 9   debt              21525 non-null  int64  \n",
      " 10  total_income      19351 non-null  float64\n",
      " 11  purpose           21525 non-null  object \n",
      "dtypes: float64(2), int64(5), object(5)\n",
      "memory usage: 2.0+ MB\n",
      "None\n"
     ]
    }
   ],
   "source": [
    "print(data.info())\n",
    "# ваш код здесь"
   ]
  },
  {
   "cell_type": "markdown",
   "id": "f969a1cd",
   "metadata": {
    "deletable": false,
    "editable": false,
    "id": "f969a1cd"
   },
   "source": [
    "## Предобработка данных"
   ]
  },
  {
   "cell_type": "markdown",
   "id": "7283e864",
   "metadata": {
    "deletable": false,
    "editable": false,
    "id": "7283e864"
   },
   "source": [
    "### Удаление пропусков"
   ]
  },
  {
   "cell_type": "markdown",
   "id": "c9a0745e",
   "metadata": {
    "deletable": false,
    "editable": false,
    "id": "c9a0745e",
    "tags": [
     "start_task"
    ]
   },
   "source": [
    "**Задание 4. Выведите количество пропущенных значений для каждого столбца. Используйте комбинацию двух методов.**"
   ]
  },
  {
   "cell_type": "code",
   "execution_count": 5,
   "id": "b7a096e1",
   "metadata": {
    "id": "b7a096e1"
   },
   "outputs": [
    {
     "data": {
      "text/plain": [
       "children               0\n",
       "days_employed       2174\n",
       "dob_years              0\n",
       "education              0\n",
       "education_id           0\n",
       "family_status          0\n",
       "family_status_id       0\n",
       "gender                 0\n",
       "income_type            0\n",
       "debt                   0\n",
       "total_income        2174\n",
       "purpose                0\n",
       "dtype: int64"
      ]
     },
     "execution_count": 5,
     "metadata": {},
     "output_type": "execute_result"
    }
   ],
   "source": [
    "data.isna().sum()\n",
    "# ваш код здесь"
   ]
  },
  {
   "cell_type": "markdown",
   "id": "c2578616",
   "metadata": {
    "deletable": false,
    "editable": false,
    "id": "c2578616",
    "tags": [
     "start_task"
    ]
   },
   "source": [
    "**Задание 5. В двух столбцах есть пропущенные значения. Один из них — `days_employed`. Пропуски в этом столбце вы обработаете на следующем этапе. Другой столбец с пропущенными значениями — `total_income` — хранит данные о доходах. На сумму дохода сильнее всего влияет тип занятости, поэтому заполнить пропуски в этом столбце нужно медианным значением по каждому типу из столбца `income_type`. Например, у человека с типом занятости `сотрудник` пропуск в столбце `total_income` должен быть заполнен медианным доходом среди всех записей с тем же типом.**"
   ]
  },
  {
   "cell_type": "code",
   "execution_count": 6,
   "id": "e8afc4bc",
   "metadata": {
    "id": "e8afc4bc"
   },
   "outputs": [
    {
     "data": {
      "text/plain": [
       "children               0\n",
       "days_employed       2174\n",
       "dob_years              0\n",
       "education              0\n",
       "education_id           0\n",
       "family_status          0\n",
       "family_status_id       0\n",
       "gender                 0\n",
       "income_type            0\n",
       "debt                   0\n",
       "total_income           0\n",
       "purpose                0\n",
       "dtype: int64"
      ]
     },
     "execution_count": 6,
     "metadata": {},
     "output_type": "execute_result"
    }
   ],
   "source": [
    "for i in data['income_type'].unique():\n",
    "    data.loc[(data['income_type'] == i) & (data['total_income'].isna()), 'total_income'] = data.loc[(data['income_type'] == i), 'total_income'].median()\n",
    "data.isna().sum()\n",
    "# ваш код здесь"
   ]
  },
  {
   "cell_type": "markdown",
   "id": "ae986d46",
   "metadata": {
    "deletable": false,
    "editable": false,
    "id": "ae986d46"
   },
   "source": [
    "### Обработка аномальных значений"
   ]
  },
  {
   "cell_type": "markdown",
   "id": "b049cbae",
   "metadata": {
    "deletable": false,
    "editable": false,
    "id": "b049cbae",
    "tags": [
     "start_task"
    ]
   },
   "source": [
    "**Задание 6. В данных могут встречаться артефакты (аномалии) — значения, которые не отражают действительность и появились по какой-то ошибке. Таким артефактом будет отрицательное количество дней трудового стажа в столбце `days_employed`. Для реальных данных это нормально. Обработайте значения в этом столбце: замените все отрицательные значения положительными с помощью метода `abs()`.**"
   ]
  },
  {
   "cell_type": "code",
   "execution_count": 7,
   "id": "187779b0",
   "metadata": {
    "id": "187779b0"
   },
   "outputs": [],
   "source": [
    "data['days_employed'] = data['days_employed'].abs()\n",
    "# ваш код здесь"
   ]
  },
  {
   "cell_type": "markdown",
   "id": "a13054c2",
   "metadata": {
    "deletable": false,
    "editable": false,
    "id": "a13054c2",
    "tags": [
     "start_task"
    ]
   },
   "source": [
    "**Задание 7. Для каждого типа занятости выведите медианное значение трудового стажа `days_employed` в днях.**"
   ]
  },
  {
   "cell_type": "code",
   "execution_count": 8,
   "id": "f3f5810c",
   "metadata": {
    "id": "f3f5810c"
   },
   "outputs": [
    {
     "data": {
      "text/plain": [
       "income_type\n",
       "безработный        366413.652744\n",
       "в декрете            3296.759962\n",
       "госслужащий          2689.368353\n",
       "компаньон            1547.382223\n",
       "пенсионер          365213.306266\n",
       "предприниматель       520.848083\n",
       "сотрудник            1574.202821\n",
       "студент               578.751554\n",
       "Name: days_employed, dtype: float64"
      ]
     },
     "execution_count": 8,
     "metadata": {},
     "output_type": "execute_result"
    }
   ],
   "source": [
    "'''for i in data['income_type'].unique():\n",
    "    data.loc[(data['income_type'] == i) & (data['days_employed'].isna()), 'days_employed'] = data.loc[(data['income_type'] == i), 'days_employed'].median()\n",
    "print(data.groupby('income_type')['days_employed'])'''\n",
    "# ваш код здесь\n",
    "\n",
    "data.groupby('income_type')['days_employed'].agg('median')\n",
    "# ваш код здесь"
   ]
  },
  {
   "cell_type": "markdown",
   "id": "dbc3168c",
   "metadata": {
    "deletable": false,
    "editable": false,
    "id": "dbc3168c"
   },
   "source": [
    "У двух типов (безработные и пенсионеры) получатся аномально большие значения. Исправить такие значения сложно, поэтому оставьте их как есть."
   ]
  },
  {
   "cell_type": "markdown",
   "id": "ff4378c2",
   "metadata": {
    "deletable": false,
    "editable": false,
    "id": "ff4378c2",
    "tags": [
     "start_task"
    ]
   },
   "source": [
    "**Задание 8. Выведите перечень уникальных значений столбца `children`.**"
   ]
  },
  {
   "cell_type": "code",
   "execution_count": 9,
   "id": "9bd0c232",
   "metadata": {
    "id": "9bd0c232"
   },
   "outputs": [
    {
     "name": "stdout",
     "output_type": "stream",
     "text": [
      "[ 1  0  3  2 -1  4 20  5]\n"
     ]
    }
   ],
   "source": [
    "print(data['children'].unique())\n",
    "# ваш код здесь"
   ]
  },
  {
   "cell_type": "markdown",
   "id": "8e911990",
   "metadata": {
    "deletable": false,
    "editable": false,
    "id": "8e911990",
    "tags": [
     "start_task"
    ]
   },
   "source": [
    "**Задание 9. В столбце `children` есть два аномальных значения. Удалите строки, в которых встречаются такие аномальные значения из датафрейма `data`.**"
   ]
  },
  {
   "cell_type": "code",
   "execution_count": 10,
   "id": "6d5ba289",
   "metadata": {
    "id": "6d5ba289"
   },
   "outputs": [
    {
     "name": "stdout",
     "output_type": "stream",
     "text": [
      "[1 0 3 2 4 5]\n"
     ]
    }
   ],
   "source": [
    "data = data[(data['children'] != -1)&(data['children'] != 20)]\n",
    "print(data['children'].unique())\n",
    "# ваш код здесь"
   ]
  },
  {
   "cell_type": "markdown",
   "id": "18d77455",
   "metadata": {
    "deletable": false,
    "editable": false,
    "id": "18d77455",
    "tags": [
     "start_task"
    ]
   },
   "source": [
    "**Задание 10. Ещё раз выведите перечень уникальных значений столбца `children`, чтобы убедиться, что артефакты удалены.**"
   ]
  },
  {
   "cell_type": "code",
   "execution_count": 11,
   "id": "2c5fa92c",
   "metadata": {
    "id": "2c5fa92c"
   },
   "outputs": [
    {
     "name": "stdout",
     "output_type": "stream",
     "text": [
      "[1 0 3 2 4 5]\n"
     ]
    }
   ],
   "source": [
    "print(data['children'].unique())\n",
    "# ваш код здесь"
   ]
  },
  {
   "cell_type": "markdown",
   "id": "0ec07dee",
   "metadata": {
    "deletable": false,
    "editable": false,
    "id": "0ec07dee"
   },
   "source": [
    "### Удаление пропусков (продолжение)"
   ]
  },
  {
   "cell_type": "markdown",
   "id": "0fc3ae3f",
   "metadata": {
    "deletable": false,
    "editable": false,
    "id": "0fc3ae3f",
    "tags": [
     "start_task"
    ]
   },
   "source": [
    "**Задание 11. Заполните пропуски в столбце `days_employed` медианными значениями по каждому типу занятости `income_type`.**"
   ]
  },
  {
   "cell_type": "code",
   "execution_count": 12,
   "id": "e2aea7ac",
   "metadata": {
    "id": "e2aea7ac"
   },
   "outputs": [
    {
     "data": {
      "text/plain": [
       "children            0\n",
       "days_employed       0\n",
       "dob_years           0\n",
       "education           0\n",
       "education_id        0\n",
       "family_status       0\n",
       "family_status_id    0\n",
       "gender              0\n",
       "income_type         0\n",
       "debt                0\n",
       "total_income        0\n",
       "purpose             0\n",
       "dtype: int64"
      ]
     },
     "execution_count": 12,
     "metadata": {},
     "output_type": "execute_result"
    }
   ],
   "source": [
    "for i in data['income_type'].unique():\n",
    "    data.loc[(data['income_type'] == i) & (data['days_employed'].isna()), 'days_employed'] = data.loc[(data['income_type'] == i), 'days_employed'].median()\n",
    "data.isna().sum()\n",
    "# ваш код здесь"
   ]
  },
  {
   "cell_type": "markdown",
   "id": "97b0b795",
   "metadata": {
    "deletable": false,
    "editable": false,
    "id": "97b0b795",
    "tags": [
     "start_task"
    ]
   },
   "source": [
    "**Задание 12. Убедитесь, что все пропуски заполнены. Проверьте себя и ещё раз выведите количество пропущенных значений для каждого столбца с помощью двух методов.**"
   ]
  },
  {
   "cell_type": "code",
   "execution_count": 13,
   "id": "79632a21",
   "metadata": {
    "id": "79632a21"
   },
   "outputs": [
    {
     "name": "stdout",
     "output_type": "stream",
     "text": [
      "0\n",
      "children            0\n",
      "days_employed       0\n",
      "dob_years           0\n",
      "education           0\n",
      "education_id        0\n",
      "family_status       0\n",
      "family_status_id    0\n",
      "gender              0\n",
      "income_type         0\n",
      "debt                0\n",
      "total_income        0\n",
      "purpose             0\n",
      "dtype: int64\n"
     ]
    }
   ],
   "source": [
    "print(data['income_type'].isna().sum())\n",
    "print(data.isna().sum())\n",
    "# ваш код здесь"
   ]
  },
  {
   "cell_type": "markdown",
   "id": "bd4aeb20",
   "metadata": {
    "deletable": false,
    "editable": false,
    "id": "bd4aeb20"
   },
   "source": [
    "### Изменение типов данных"
   ]
  },
  {
   "cell_type": "markdown",
   "id": "963bfa58",
   "metadata": {
    "deletable": false,
    "editable": false,
    "id": "963bfa58",
    "tags": [
     "start_task"
    ]
   },
   "source": [
    "**Задание 13. Замените вещественный тип данных в столбце `total_income` на целочисленный с помощью метода `astype()`.**"
   ]
  },
  {
   "cell_type": "code",
   "execution_count": 14,
   "id": "73da6ea0",
   "metadata": {
    "id": "73da6ea0"
   },
   "outputs": [],
   "source": [
    "data['total_income'] = data['total_income'].astype(int)\n",
    "# ваш код здесь"
   ]
  },
  {
   "cell_type": "markdown",
   "id": "d290239e",
   "metadata": {
    "deletable": false,
    "editable": false,
    "id": "d290239e"
   },
   "source": [
    "### Обработка дубликатов"
   ]
  },
  {
   "cell_type": "markdown",
   "id": "1b5844fd",
   "metadata": {
    "deletable": false,
    "editable": false,
    "id": "1b5844fd",
    "tags": [
     "start_task"
    ]
   },
   "source": [
    "**Задание 14. Обработайте неявные дубликаты в столбце `education`. В этом столбце есть одни и те же значения, но записанные по-разному: с использованием заглавных и строчных букв. Приведите их к нижнему регистру.**"
   ]
  },
  {
   "cell_type": "code",
   "execution_count": 15,
   "id": "3f2504b3",
   "metadata": {
    "id": "3f2504b3"
   },
   "outputs": [],
   "source": [
    "data['education'] = data['education'].str.lower()\n",
    "# ваш код здесь"
   ]
  },
  {
   "cell_type": "markdown",
   "id": "4c22acbc",
   "metadata": {
    "deletable": false,
    "editable": false,
    "id": "4c22acbc",
    "tags": [
     "start_task"
    ]
   },
   "source": [
    "**Задание 15. Выведите на экран количество строк-дубликатов в данных. Если такие строки присутствуют, удалите их.**"
   ]
  },
  {
   "cell_type": "code",
   "execution_count": 16,
   "id": "d34a4325",
   "metadata": {
    "id": "d34a4325"
   },
   "outputs": [
    {
     "data": {
      "text/plain": [
       "71"
      ]
     },
     "execution_count": 16,
     "metadata": {},
     "output_type": "execute_result"
    }
   ],
   "source": [
    "data.duplicated().sum()\n",
    "# посчитайте дубликаты"
   ]
  },
  {
   "cell_type": "code",
   "execution_count": 17,
   "id": "6e1a6499",
   "metadata": {
    "id": "6e1a6499"
   },
   "outputs": [],
   "source": [
    "data = data.drop_duplicates()\n",
    "# удалите дубликаты"
   ]
  },
  {
   "cell_type": "markdown",
   "id": "e5686ccc",
   "metadata": {
    "deletable": false,
    "editable": false,
    "id": "e5686ccc"
   },
   "source": [
    "### Категоризация данных"
   ]
  },
  {
   "cell_type": "markdown",
   "id": "636e9acd",
   "metadata": {
    "deletable": false,
    "editable": false,
    "id": "636e9acd",
    "tags": [
     "start_task"
    ]
   },
   "source": [
    "**Задание 16. На основании диапазонов, указанных ниже, создайте в датафрейме `data` столбец `total_income_category` с категориями:**\n",
    "\n",
    "- 0–30000 — `'E'`;\n",
    "- 30001–50000 — `'D'`;\n",
    "- 50001–200000 — `'C'`;\n",
    "- 200001–1000000 — `'B'`;\n",
    "- 1000001 и выше — `'A'`.\n",
    "\n",
    "\n",
    "**Например, кредитополучателю с доходом 25000 нужно назначить категорию `'E'`, а клиенту, получающему 235000, — `'B'`. Используйте собственную функцию с именем `categorize_income()` и метод `apply()`.**"
   ]
  },
  {
   "cell_type": "code",
   "execution_count": 18,
   "id": "880a77e5",
   "metadata": {
    "id": "880a77e5"
   },
   "outputs": [
    {
     "name": "stdout",
     "output_type": "stream",
     "text": [
      "  total_income_category  total_income\n",
      "0                     B        253875\n",
      "1                     C        112080\n",
      "2                     C        145885\n",
      "3                     B        267628\n",
      "4                     C        158616\n",
      "5                     B        255763\n",
      "6                     B        240525\n",
      "7                     C        135823\n",
      "8                     C         95856\n",
      "9                     C        144425\n"
     ]
    }
   ],
   "source": [
    "# создайте функцию categorize_income()\n",
    "def categorize_income(i):\n",
    "    if i <= 30000:\n",
    "        return('E')\n",
    "    if i <= 50000:\n",
    "        return('D')\n",
    "    if i <= 200000:\n",
    "        return('C')\n",
    "    if i <= 1000000:\n",
    "        return('B')\n",
    "    if i > 1000000:\n",
    "        return('A')\n",
    "\n",
    "data['total_income_category'] = data['total_income'].apply(categorize_income)\n",
    "print(data[['total_income_category','total_income']].head(10))"
   ]
  },
  {
   "cell_type": "code",
   "execution_count": 19,
   "id": "6f25f161",
   "metadata": {
    "id": "6f25f161"
   },
   "outputs": [],
   "source": [
    "data['total_income_category'] = data['total_income'].apply(categorize_income)# примените функцию методом apply()"
   ]
  },
  {
   "cell_type": "markdown",
   "id": "3363b685",
   "metadata": {
    "deletable": false,
    "editable": false,
    "id": "3363b685",
    "tags": [
     "start_task"
    ]
   },
   "source": [
    "**Задание 17. Выведите на экран перечень уникальных целей взятия кредита из столбца `purpose`.**"
   ]
  },
  {
   "cell_type": "code",
   "execution_count": 20,
   "id": "e59f2c15",
   "metadata": {
    "id": "e59f2c15"
   },
   "outputs": [
    {
     "name": "stdout",
     "output_type": "stream",
     "text": [
      "['покупка жилья' 'приобретение автомобиля' 'дополнительное образование'\n",
      " 'сыграть свадьбу' 'операции с жильем' 'образование'\n",
      " 'на проведение свадьбы' 'покупка жилья для семьи' 'покупка недвижимости'\n",
      " 'покупка коммерческой недвижимости' 'покупка жилой недвижимости'\n",
      " 'строительство собственной недвижимости' 'недвижимость'\n",
      " 'строительство недвижимости' 'на покупку подержанного автомобиля'\n",
      " 'на покупку своего автомобиля' 'операции с коммерческой недвижимостью'\n",
      " 'строительство жилой недвижимости' 'жилье'\n",
      " 'операции со своей недвижимостью' 'автомобили' 'заняться образованием'\n",
      " 'сделка с подержанным автомобилем' 'получение образования' 'автомобиль'\n",
      " 'свадьба' 'получение дополнительного образования' 'покупка своего жилья'\n",
      " 'операции с недвижимостью' 'получение высшего образования'\n",
      " 'свой автомобиль' 'сделка с автомобилем' 'профильное образование'\n",
      " 'высшее образование' 'покупка жилья для сдачи' 'на покупку автомобиля'\n",
      " 'ремонт жилью' 'заняться высшим образованием']\n"
     ]
    }
   ],
   "source": [
    "print(data['purpose'].unique())\n",
    "# ваш код здесь"
   ]
  },
  {
   "cell_type": "markdown",
   "id": "bb33e847",
   "metadata": {
    "deletable": false,
    "editable": false,
    "id": "bb33e847",
    "tags": [
     "start_task"
    ]
   },
   "source": [
    "**Задание 18. Создайте функцию, которая на основании данных из столбца `purpose` сформирует новый столбец `purpose_category`, в который войдут следующие категории:**\n",
    "\n",
    "- `'операции с автомобилем'`,\n",
    "- `'операции с недвижимостью'`,\n",
    "- `'проведение свадьбы'`,\n",
    "- `'получение образования'`.\n",
    "\n",
    "**Например, если в столбце `purpose` находится подстрока `'на покупку автомобиля'`, то в столбце `purpose_category` должна появиться строка `'операции с автомобилем'`.**\n",
    "\n",
    "**Используйте собственную функцию с именем `categorize_purpose()` и метод `apply()`. Изучите данные в столбце `purpose` и определите, какие подстроки помогут вам правильно определить категорию.**"
   ]
  },
  {
   "cell_type": "code",
   "execution_count": 29,
   "id": "63909b83",
   "metadata": {
    "id": "63909b83"
   },
   "outputs": [],
   "source": [
    "# создайте функцию categorize_purpose()\n",
    "def categorize_purpose(str):\n",
    "    if 'авто' in str:\n",
    "        return 'операции с автомобилем'\n",
    "    elif 'жиль' in str:\n",
    "        return 'операции с недвижимостью'\n",
    "    elif 'недвиж' in str:\n",
    "        return 'операции с недвижимостью'\n",
    "    elif 'свадьб' in str:\n",
    "        return 'проведение свадьбы'\n",
    "    elif 'образ' in str:\n",
    "        return 'получение образования'\n",
    "    else:\n",
    "        return 'прочее'"
   ]
  },
  {
   "cell_type": "code",
   "execution_count": 28,
   "id": "7cb4a81d",
   "metadata": {
    "id": "7cb4a81d"
   },
   "outputs": [],
   "source": [
    "data['purpose_category'] = data['purpose'].apply(categorize_purpose)\n",
    "# примените функцию методом apply()"
   ]
  }
 ],
 "metadata": {
  "ExecuteTimeLog": [
   {
    "duration": 82,
    "start_time": "2023-08-17T11:17:17.242Z"
   },
   {
    "duration": 453,
    "start_time": "2023-08-17T11:17:22.100Z"
   },
   {
    "duration": 275,
    "start_time": "2023-08-17T11:17:24.287Z"
   },
   {
    "duration": 17,
    "start_time": "2023-08-17T11:17:26.594Z"
   },
   {
    "duration": 23,
    "start_time": "2023-08-17T11:17:34.397Z"
   },
   {
    "duration": 18,
    "start_time": "2023-08-17T11:19:10.840Z"
   },
   {
    "duration": 46,
    "start_time": "2023-08-17T11:53:20.987Z"
   },
   {
    "duration": 8,
    "start_time": "2023-08-17T12:11:32.094Z"
   },
   {
    "duration": 5,
    "start_time": "2023-08-17T12:13:02.368Z"
   },
   {
    "duration": 55,
    "start_time": "2023-08-17T12:17:47.221Z"
   },
   {
    "duration": 910,
    "start_time": "2023-08-17T12:18:07.312Z"
   },
   {
    "duration": 20,
    "start_time": "2023-08-17T12:18:50.162Z"
   },
   {
    "duration": 12,
    "start_time": "2023-08-17T12:19:00.190Z"
   },
   {
    "duration": 12,
    "start_time": "2023-08-17T12:19:08.014Z"
   },
   {
    "duration": 457,
    "start_time": "2023-08-17T12:19:22.589Z"
   },
   {
    "duration": 86,
    "start_time": "2023-08-17T12:19:23.049Z"
   },
   {
    "duration": 150,
    "start_time": "2023-08-17T12:19:23.137Z"
   },
   {
    "duration": 29,
    "start_time": "2023-08-17T12:19:23.289Z"
   },
   {
    "duration": 22,
    "start_time": "2023-08-17T12:19:23.321Z"
   },
   {
    "duration": 51,
    "start_time": "2023-08-17T12:19:23.345Z"
   },
   {
    "duration": 4,
    "start_time": "2023-08-17T12:19:23.398Z"
   },
   {
    "duration": 24,
    "start_time": "2023-08-17T12:19:23.404Z"
   },
   {
    "duration": 10,
    "start_time": "2023-08-17T12:19:23.430Z"
   },
   {
    "duration": 27,
    "start_time": "2023-08-17T12:19:23.442Z"
   },
   {
    "duration": 12,
    "start_time": "2023-08-17T12:19:23.471Z"
   },
   {
    "duration": 4,
    "start_time": "2023-08-17T12:19:23.486Z"
   },
   {
    "duration": 18,
    "start_time": "2023-08-17T12:19:23.492Z"
   },
   {
    "duration": 30,
    "start_time": "2023-08-17T12:19:23.515Z"
   },
   {
    "duration": 12,
    "start_time": "2023-08-17T12:19:23.547Z"
   },
   {
    "duration": 14,
    "start_time": "2023-08-17T12:19:23.561Z"
   },
   {
    "duration": 6,
    "start_time": "2023-08-17T12:19:23.577Z"
   },
   {
    "duration": 5,
    "start_time": "2023-08-17T12:19:23.585Z"
   },
   {
    "duration": 8,
    "start_time": "2023-08-17T12:19:23.592Z"
   },
   {
    "duration": 9,
    "start_time": "2023-08-17T12:19:23.602Z"
   },
   {
    "duration": 5,
    "start_time": "2023-08-17T12:19:23.613Z"
   },
   {
    "duration": 7,
    "start_time": "2023-08-17T12:19:23.620Z"
   },
   {
    "duration": 8,
    "start_time": "2023-08-17T12:19:29.833Z"
   },
   {
    "duration": 4,
    "start_time": "2023-08-17T12:19:52.165Z"
   },
   {
    "duration": 8,
    "start_time": "2023-08-17T12:20:11.854Z"
   },
   {
    "duration": 4,
    "start_time": "2023-08-17T12:20:15.936Z"
   },
   {
    "duration": 64,
    "start_time": "2023-08-17T12:22:23.550Z"
   },
   {
    "duration": 64,
    "start_time": "2023-08-17T12:22:45.124Z"
   },
   {
    "duration": 6,
    "start_time": "2023-08-17T12:24:45.087Z"
   },
   {
    "duration": 7,
    "start_time": "2023-08-17T12:25:23.899Z"
   },
   {
    "duration": 10,
    "start_time": "2023-08-17T12:25:51.282Z"
   },
   {
    "duration": 7,
    "start_time": "2023-08-17T12:26:18.609Z"
   },
   {
    "duration": 8,
    "start_time": "2023-08-17T12:27:49.895Z"
   },
   {
    "duration": 16,
    "start_time": "2023-08-17T12:31:46.268Z"
   },
   {
    "duration": 12,
    "start_time": "2023-08-17T12:31:53.182Z"
   },
   {
    "duration": 51,
    "start_time": "2023-08-17T12:35:22.359Z"
   },
   {
    "duration": 9,
    "start_time": "2023-08-17T12:36:07.537Z"
   },
   {
    "duration": 5,
    "start_time": "2023-08-17T12:37:50.381Z"
   },
   {
    "duration": 4,
    "start_time": "2023-08-17T12:40:04.438Z"
   },
   {
    "duration": 6,
    "start_time": "2023-08-17T12:40:14.318Z"
   },
   {
    "duration": 104,
    "start_time": "2023-08-17T12:41:33.264Z"
   },
   {
    "duration": 4,
    "start_time": "2023-08-17T12:44:28.922Z"
   },
   {
    "duration": 11,
    "start_time": "2023-08-17T12:45:56.521Z"
   },
   {
    "duration": 16,
    "start_time": "2023-08-17T12:46:36.803Z"
   },
   {
    "duration": 43,
    "start_time": "2023-08-17T12:48:43.609Z"
   },
   {
    "duration": 25,
    "start_time": "2023-08-17T12:49:10.963Z"
   },
   {
    "duration": 20,
    "start_time": "2023-08-17T12:50:32.438Z"
   },
   {
    "duration": 10,
    "start_time": "2023-08-17T12:59:19.495Z"
   },
   {
    "duration": 21,
    "start_time": "2023-08-17T12:59:39.721Z"
   },
   {
    "duration": 21,
    "start_time": "2023-08-17T13:00:58.992Z"
   },
   {
    "duration": 13,
    "start_time": "2023-08-17T13:01:17.622Z"
   },
   {
    "duration": 15,
    "start_time": "2023-08-17T13:01:42.489Z"
   },
   {
    "duration": 10,
    "start_time": "2023-08-17T13:03:15.522Z"
   },
   {
    "duration": 6,
    "start_time": "2023-08-17T13:03:54.543Z"
   },
   {
    "duration": 13,
    "start_time": "2023-08-18T08:05:48.091Z"
   },
   {
    "duration": 78,
    "start_time": "2023-08-18T08:09:45.204Z"
   },
   {
    "duration": 517,
    "start_time": "2023-08-18T08:09:51.811Z"
   },
   {
    "duration": 473,
    "start_time": "2023-08-18T08:09:52.334Z"
   },
   {
    "duration": 15,
    "start_time": "2023-08-18T08:09:52.808Z"
   },
   {
    "duration": 35,
    "start_time": "2023-08-18T08:09:52.836Z"
   },
   {
    "duration": 23,
    "start_time": "2023-08-18T08:09:52.874Z"
   },
   {
    "duration": 81,
    "start_time": "2023-08-18T08:09:52.900Z"
   },
   {
    "duration": 8,
    "start_time": "2023-08-18T08:09:52.983Z"
   },
   {
    "duration": 28,
    "start_time": "2023-08-18T08:09:52.994Z"
   },
   {
    "duration": 27,
    "start_time": "2023-08-18T08:09:53.024Z"
   },
   {
    "duration": 22,
    "start_time": "2023-08-18T08:09:53.060Z"
   },
   {
    "duration": 29,
    "start_time": "2023-08-18T08:09:53.084Z"
   },
   {
    "duration": 74,
    "start_time": "2023-08-18T08:09:53.115Z"
   },
   {
    "duration": 11,
    "start_time": "2023-08-18T08:09:53.191Z"
   },
   {
    "duration": 17,
    "start_time": "2023-08-18T08:09:53.203Z"
   },
   {
    "duration": 50,
    "start_time": "2023-08-18T08:09:53.222Z"
   },
   {
    "duration": 29,
    "start_time": "2023-08-18T08:09:53.274Z"
   },
   {
    "duration": 18,
    "start_time": "2023-08-18T08:09:53.305Z"
   },
   {
    "duration": 38,
    "start_time": "2023-08-18T08:09:53.332Z"
   },
   {
    "duration": 46,
    "start_time": "2023-08-18T08:09:53.372Z"
   },
   {
    "duration": 24,
    "start_time": "2023-08-18T08:09:53.421Z"
   },
   {
    "duration": 9,
    "start_time": "2023-08-18T08:09:53.448Z"
   },
   {
    "duration": 40,
    "start_time": "2023-08-18T08:09:53.463Z"
   },
   {
    "duration": 17,
    "start_time": "2023-08-18T08:10:13.975Z"
   },
   {
    "duration": 9,
    "start_time": "2023-08-18T08:10:26.684Z"
   },
   {
    "duration": 6,
    "start_time": "2023-08-18T08:10:28.693Z"
   },
   {
    "duration": 29,
    "start_time": "2023-08-18T08:12:56.407Z"
   },
   {
    "duration": 33,
    "start_time": "2023-08-18T08:14:05.411Z"
   },
   {
    "duration": 8,
    "start_time": "2023-08-18T08:14:43.367Z"
   },
   {
    "duration": 4,
    "start_time": "2023-08-18T08:19:27.271Z"
   }
  ],
  "colab": {
   "provenance": []
  },
  "kernelspec": {
   "display_name": "Python 3 (ipykernel)",
   "language": "python",
   "name": "python3"
  },
  "language_info": {
   "codemirror_mode": {
    "name": "ipython",
    "version": 3
   },
   "file_extension": ".py",
   "mimetype": "text/x-python",
   "name": "python",
   "nbconvert_exporter": "python",
   "pygments_lexer": "ipython3",
   "version": "3.9.5"
  },
  "toc": {
   "base_numbering": 1,
   "nav_menu": {},
   "number_sections": true,
   "sideBar": true,
   "skip_h1_title": true,
   "title_cell": "Table of Contents",
   "title_sidebar": "Contents",
   "toc_cell": false,
   "toc_position": {},
   "toc_section_display": true,
   "toc_window_display": false
  }
 },
 "nbformat": 4,
 "nbformat_minor": 5
}
