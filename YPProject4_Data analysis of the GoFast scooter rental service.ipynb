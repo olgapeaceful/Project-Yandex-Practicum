{
 "cells": [
  {
   "cell_type": "markdown",
   "id": "77865634",
   "metadata": {},
   "source": [
    "# Анализ данных сервиса аренды самокатов GoFast"
   ]
  },
  {
   "cell_type": "markdown",
   "id": "9496eaf3",
   "metadata": {},
   "source": [
    "**Описание проекта**\n",
    "\n",
    "Вы аналитик популярного сервиса аренды самокатов GoFast.\n",
    "Вам передали данные о некоторых пользователях из нескольких городов, а также об их поездках. Проанализируйте данные и проверьте некоторые гипотезы, которые могут помочь бизнесу вырасти.\n",
    "\n",
    "Чтобы совершать поездки по городу, пользователи сервиса GoFast пользуются мобильным приложением.\n",
    "Сервисом можно пользоваться:\n",
    "- без подписки\n",
    "- абонентская плата отсутствует;\n",
    "- стоимость одной минуты поездки — 8 рублей;\n",
    "- стоимость старта (начала поездки) — 50 рублей;\n",
    "- с подпиской Ultra абонентская плата — 199 рублей в месяц;\n",
    "- стоимость одной минуты поездки — 6 рублей;\n",
    "- стоимость старта — бесплатно.\n",
    "\n",
    "**Описание данных**\n",
    "\n",
    "В основных данных есть информация о пользователях, их поездках и подписках.\n",
    "\n",
    "Пользователи — **users_go.csv**\n",
    "- user_id\tуникальный идентификатор пользователя\n",
    "- name\tимя пользователя\n",
    "- age\tвозраст\n",
    "- city\tгород\n",
    "- subscription_type\tтип подписки (free, ultra)\n",
    "\n",
    "Поездки — **rides_go.csv**\n",
    "- user_id\tуникальный идентификатор пользователя\n",
    "- distance\tрасстояние, которое пользователь проехал в текущей сессии (в метрах)\n",
    "- duration\tпродолжительность сессии (в минутах) — время с того момента, как пользователь нажал кнопку «Начать поездку» до момента, как он нажал кнопку «Завершить поездку»\n",
    "- date\tдата совершения поездки\n",
    "\n",
    "Подписки — **subscriptions_go.csv**\n",
    "- subscription_type\tтип подписки\n",
    "- minute_price\tстоимость одной минуты поездки по данной подписке\n",
    "- start_ride_price\tстоимость начала поездки\n",
    "- subscription_fee\tстоимость ежемесячного платежа"
   ]
  },
  {
   "cell_type": "markdown",
   "id": "63901d5a",
   "metadata": {},
   "source": [
    "Задачи, поставленные в данном проекте:\n",
    "\n",
    "Изучите общую информацию о каждом датафрейме.\n",
    "Приведите столбец date к типу даты pandas.\n",
    "Создайте новый столбец с номером месяца на основе столбца date.\n",
    "Проверьте наличие пропущенных значений и дубликатов в датафреймах. Обработайте их, если такие значения присутствуют.\n",
    "\n",
    "Опишите и визуализируйте общую информацию о пользователях и поездках:\n",
    "\n",
    "частота встречаемости городов;\n",
    "соотношение пользователей с подпиской и без подписки;\n",
    "возраст пользователей;\n",
    "расстояние, которое пользователь преодолел за одну поездку;\n",
    "продолжительность поездок.\n",
    "\n",
    "Объедините данные о пользователях, поездках и подписках в один датафрейм.\n",
    "Создайте ещё два датафрейма из датафрейма, созданного на предыдущем этапе:\n",
    "c данными о пользователях без подписки;\n",
    "с данными о пользователях с подпиской.\n",
    "Визуализируйте информацию о расстоянии и времени поездок для пользователей обеих категорий.\n",
    "\n",
    "Создайте датафрейм с агрегированными данными о поездках на основе датафрейма с объединёнными данными из предыдущего шага: найдите суммарное расстояние, количество поездок и суммарное время для каждого пользователя за каждый месяц. В этот же датафрейм добавьте столбец с помесячной выручкой, которую принёс каждый пользователь.\n",
    "\n",
    "Проверить следующие гипотезы:\n",
    "- тратят ли пользователи с подпиской больше времени на поездки?\n",
    "- превышает ли среднее расстояние, которое проезжают пользователи с подпиской за одну поездку 3130 м?\n",
    "- помесячная выручка от пользователей с подпиской выше, чем выручка от пользователей без подписки?\n",
    "\n",
    "Выполнить 2 задачи по биномиальному распределению"
   ]
  },
  {
   "cell_type": "markdown",
   "id": "c42cbe00",
   "metadata": {},
   "source": [
    "## Шаг 1. Загрузка данных"
   ]
  },
  {
   "cell_type": "code",
   "execution_count": 1,
   "id": "501b8855",
   "metadata": {},
   "outputs": [],
   "source": [
    "#сразу заберем нужные нам для проекта библиотеки и инструменты из них, как было рекомендовано в прошлом проекте\n",
    "\n",
    "import pandas as pd\n",
    "import matplotlib.pyplot as plt\n",
    "import seaborn as sns\n",
    "import plotly.express as px\n",
    "import numpy as np\n",
    "import math\n",
    "from scipy import stats as st\n",
    "from math import factorial\n",
    "from scipy.stats import binom\n",
    "from scipy.stats import norm"
   ]
  },
  {
   "cell_type": "markdown",
   "id": "f233a7f6",
   "metadata": {},
   "source": [
    "### Общая информация о таблицах"
   ]
  },
  {
   "cell_type": "markdown",
   "id": "c058392b",
   "metadata": {},
   "source": [
    "<div class=\"alert alert-block\" style=\"background-color: gainsboro\">\n",
    "<g>\n",
    "\n",
    "<p>Откроем таблицу и изучим общую информацию о данных.\n",
    "\n",
    "<p>Считаем данные из csv-файлов в датафреймы и сохраним в переменные.\n",
    "\n",
    "<p>Выведем общую информацию о таблицах, чтобы понять с каким типом данных будем работать в каждом столбце методом info().\n",
    "\n",
    "<p>Дополнительно проанализируем общие столбцы, по которым соединим все таблицы в одну для удобства анализа. </g>\n",
    "</div>"
   ]
  },
  {
   "cell_type": "code",
   "execution_count": 2,
   "id": "ba3f1356",
   "metadata": {
    "scrolled": true
   },
   "outputs": [
    {
     "name": "stdout",
     "output_type": "stream",
     "text": [
      "Index(['user_id', 'name', 'age', 'city', 'subscription_type'], dtype='object')\n",
      "___________________________________\n",
      "<class 'pandas.core.frame.DataFrame'>\n",
      "RangeIndex: 1565 entries, 0 to 1564\n",
      "Data columns (total 5 columns):\n",
      " #   Column             Non-Null Count  Dtype \n",
      "---  ------             --------------  ----- \n",
      " 0   user_id            1565 non-null   int64 \n",
      " 1   name               1565 non-null   object\n",
      " 2   age                1565 non-null   int64 \n",
      " 3   city               1565 non-null   object\n",
      " 4   subscription_type  1565 non-null   object\n",
      "dtypes: int64(2), object(3)\n",
      "memory usage: 61.3+ KB\n",
      "None\n",
      "___________________________________\n",
      "user_id              0\n",
      "name                 0\n",
      "age                  0\n",
      "city                 0\n",
      "subscription_type    0\n",
      "dtype: int64\n",
      "___________________________________\n"
     ]
    },
    {
     "data": {
      "text/html": [
       "<div>\n",
       "<style scoped>\n",
       "    .dataframe tbody tr th:only-of-type {\n",
       "        vertical-align: middle;\n",
       "    }\n",
       "\n",
       "    .dataframe tbody tr th {\n",
       "        vertical-align: top;\n",
       "    }\n",
       "\n",
       "    .dataframe thead th {\n",
       "        text-align: right;\n",
       "    }\n",
       "</style>\n",
       "<table border=\"1\" class=\"dataframe\">\n",
       "  <thead>\n",
       "    <tr style=\"text-align: right;\">\n",
       "      <th></th>\n",
       "      <th>user_id</th>\n",
       "      <th>name</th>\n",
       "      <th>age</th>\n",
       "      <th>city</th>\n",
       "      <th>subscription_type</th>\n",
       "    </tr>\n",
       "  </thead>\n",
       "  <tbody>\n",
       "    <tr>\n",
       "      <th>0</th>\n",
       "      <td>1</td>\n",
       "      <td>Кира</td>\n",
       "      <td>22</td>\n",
       "      <td>Тюмень</td>\n",
       "      <td>ultra</td>\n",
       "    </tr>\n",
       "    <tr>\n",
       "      <th>1</th>\n",
       "      <td>2</td>\n",
       "      <td>Станислав</td>\n",
       "      <td>31</td>\n",
       "      <td>Омск</td>\n",
       "      <td>ultra</td>\n",
       "    </tr>\n",
       "    <tr>\n",
       "      <th>2</th>\n",
       "      <td>3</td>\n",
       "      <td>Алексей</td>\n",
       "      <td>20</td>\n",
       "      <td>Москва</td>\n",
       "      <td>ultra</td>\n",
       "    </tr>\n",
       "    <tr>\n",
       "      <th>3</th>\n",
       "      <td>4</td>\n",
       "      <td>Константин</td>\n",
       "      <td>26</td>\n",
       "      <td>Ростов-на-Дону</td>\n",
       "      <td>ultra</td>\n",
       "    </tr>\n",
       "    <tr>\n",
       "      <th>4</th>\n",
       "      <td>5</td>\n",
       "      <td>Адель</td>\n",
       "      <td>28</td>\n",
       "      <td>Омск</td>\n",
       "      <td>ultra</td>\n",
       "    </tr>\n",
       "    <tr>\n",
       "      <th>...</th>\n",
       "      <td>...</td>\n",
       "      <td>...</td>\n",
       "      <td>...</td>\n",
       "      <td>...</td>\n",
       "      <td>...</td>\n",
       "    </tr>\n",
       "    <tr>\n",
       "      <th>1560</th>\n",
       "      <td>829</td>\n",
       "      <td>Федор</td>\n",
       "      <td>29</td>\n",
       "      <td>Пятигорск</td>\n",
       "      <td>free</td>\n",
       "    </tr>\n",
       "    <tr>\n",
       "      <th>1561</th>\n",
       "      <td>809</td>\n",
       "      <td>Юрий</td>\n",
       "      <td>26</td>\n",
       "      <td>Сочи</td>\n",
       "      <td>free</td>\n",
       "    </tr>\n",
       "    <tr>\n",
       "      <th>1562</th>\n",
       "      <td>307</td>\n",
       "      <td>Ясмина</td>\n",
       "      <td>19</td>\n",
       "      <td>Краснодар</td>\n",
       "      <td>ultra</td>\n",
       "    </tr>\n",
       "    <tr>\n",
       "      <th>1563</th>\n",
       "      <td>47</td>\n",
       "      <td>Юрий</td>\n",
       "      <td>28</td>\n",
       "      <td>Тюмень</td>\n",
       "      <td>ultra</td>\n",
       "    </tr>\n",
       "    <tr>\n",
       "      <th>1564</th>\n",
       "      <td>1045</td>\n",
       "      <td>Артемий</td>\n",
       "      <td>28</td>\n",
       "      <td>Ростов-на-Дону</td>\n",
       "      <td>free</td>\n",
       "    </tr>\n",
       "  </tbody>\n",
       "</table>\n",
       "<p>1565 rows × 5 columns</p>\n",
       "</div>"
      ],
      "text/plain": [
       "      user_id        name  age            city subscription_type\n",
       "0           1        Кира   22          Тюмень             ultra\n",
       "1           2   Станислав   31            Омск             ultra\n",
       "2           3     Алексей   20          Москва             ultra\n",
       "3           4  Константин   26  Ростов-на-Дону             ultra\n",
       "4           5       Адель   28            Омск             ultra\n",
       "...       ...         ...  ...             ...               ...\n",
       "1560      829       Федор   29       Пятигорск              free\n",
       "1561      809        Юрий   26            Сочи              free\n",
       "1562      307      Ясмина   19       Краснодар             ultra\n",
       "1563       47        Юрий   28          Тюмень             ultra\n",
       "1564     1045     Артемий   28  Ростов-на-Дону              free\n",
       "\n",
       "[1565 rows x 5 columns]"
      ]
     },
     "execution_count": 2,
     "metadata": {},
     "output_type": "execute_result"
    }
   ],
   "source": [
    "data_users_go = pd.read_csv('/datasets/users_go.csv')\n",
    "print(data_users_go.columns)\n",
    "print('___________________________________')\n",
    "print(data_users_go.info())\n",
    "print('___________________________________')\n",
    "print(data_users_go.isna().sum().sort_values(ascending=False))\n",
    "print('___________________________________')\n",
    "pd.set_option('display.max_columns', None)\n",
    "data_users_go"
   ]
  },
  {
   "cell_type": "markdown",
   "id": "56eca5ad",
   "metadata": {},
   "source": [
    "<div class=\"alert alert-block\" style=\"background-color: gainsboro\">\n",
    "<g>Пропущенных значений в data_users_go нет.</g>\n",
    "</div>"
   ]
  },
  {
   "cell_type": "code",
   "execution_count": 3,
   "id": "77d1c001",
   "metadata": {},
   "outputs": [
    {
     "name": "stdout",
     "output_type": "stream",
     "text": [
      "Index(['user_id', 'distance', 'duration', 'date'], dtype='object')\n",
      "___________________________________\n",
      "<class 'pandas.core.frame.DataFrame'>\n",
      "RangeIndex: 18068 entries, 0 to 18067\n",
      "Data columns (total 4 columns):\n",
      " #   Column    Non-Null Count  Dtype  \n",
      "---  ------    --------------  -----  \n",
      " 0   user_id   18068 non-null  int64  \n",
      " 1   distance  18068 non-null  float64\n",
      " 2   duration  18068 non-null  float64\n",
      " 3   date      18068 non-null  object \n",
      "dtypes: float64(2), int64(1), object(1)\n",
      "memory usage: 564.8+ KB\n",
      "None\n",
      "___________________________________\n",
      "user_id     0\n",
      "distance    0\n",
      "duration    0\n",
      "date        0\n",
      "dtype: int64\n",
      "___________________________________\n"
     ]
    },
    {
     "data": {
      "text/html": [
       "<div>\n",
       "<style scoped>\n",
       "    .dataframe tbody tr th:only-of-type {\n",
       "        vertical-align: middle;\n",
       "    }\n",
       "\n",
       "    .dataframe tbody tr th {\n",
       "        vertical-align: top;\n",
       "    }\n",
       "\n",
       "    .dataframe thead th {\n",
       "        text-align: right;\n",
       "    }\n",
       "</style>\n",
       "<table border=\"1\" class=\"dataframe\">\n",
       "  <thead>\n",
       "    <tr style=\"text-align: right;\">\n",
       "      <th></th>\n",
       "      <th>user_id</th>\n",
       "      <th>distance</th>\n",
       "      <th>duration</th>\n",
       "      <th>date</th>\n",
       "    </tr>\n",
       "  </thead>\n",
       "  <tbody>\n",
       "    <tr>\n",
       "      <th>0</th>\n",
       "      <td>1</td>\n",
       "      <td>4409.919140</td>\n",
       "      <td>25.599769</td>\n",
       "      <td>2021-01-01</td>\n",
       "    </tr>\n",
       "    <tr>\n",
       "      <th>1</th>\n",
       "      <td>1</td>\n",
       "      <td>2617.592153</td>\n",
       "      <td>15.816871</td>\n",
       "      <td>2021-01-18</td>\n",
       "    </tr>\n",
       "    <tr>\n",
       "      <th>2</th>\n",
       "      <td>1</td>\n",
       "      <td>754.159807</td>\n",
       "      <td>6.232113</td>\n",
       "      <td>2021-04-20</td>\n",
       "    </tr>\n",
       "    <tr>\n",
       "      <th>3</th>\n",
       "      <td>1</td>\n",
       "      <td>2694.783254</td>\n",
       "      <td>18.511000</td>\n",
       "      <td>2021-08-11</td>\n",
       "    </tr>\n",
       "    <tr>\n",
       "      <th>4</th>\n",
       "      <td>1</td>\n",
       "      <td>4028.687306</td>\n",
       "      <td>26.265803</td>\n",
       "      <td>2021-08-28</td>\n",
       "    </tr>\n",
       "    <tr>\n",
       "      <th>...</th>\n",
       "      <td>...</td>\n",
       "      <td>...</td>\n",
       "      <td>...</td>\n",
       "      <td>...</td>\n",
       "    </tr>\n",
       "    <tr>\n",
       "      <th>18063</th>\n",
       "      <td>1534</td>\n",
       "      <td>3781.098080</td>\n",
       "      <td>19.822962</td>\n",
       "      <td>2021-11-04</td>\n",
       "    </tr>\n",
       "    <tr>\n",
       "      <th>18064</th>\n",
       "      <td>1534</td>\n",
       "      <td>2840.423057</td>\n",
       "      <td>21.409799</td>\n",
       "      <td>2021-11-16</td>\n",
       "    </tr>\n",
       "    <tr>\n",
       "      <th>18065</th>\n",
       "      <td>1534</td>\n",
       "      <td>3826.185507</td>\n",
       "      <td>18.435051</td>\n",
       "      <td>2021-11-18</td>\n",
       "    </tr>\n",
       "    <tr>\n",
       "      <th>18066</th>\n",
       "      <td>1534</td>\n",
       "      <td>2902.308661</td>\n",
       "      <td>16.674362</td>\n",
       "      <td>2021-11-27</td>\n",
       "    </tr>\n",
       "    <tr>\n",
       "      <th>18067</th>\n",
       "      <td>1534</td>\n",
       "      <td>2371.711192</td>\n",
       "      <td>15.893917</td>\n",
       "      <td>2021-12-29</td>\n",
       "    </tr>\n",
       "  </tbody>\n",
       "</table>\n",
       "<p>18068 rows × 4 columns</p>\n",
       "</div>"
      ],
      "text/plain": [
       "       user_id     distance   duration        date\n",
       "0            1  4409.919140  25.599769  2021-01-01\n",
       "1            1  2617.592153  15.816871  2021-01-18\n",
       "2            1   754.159807   6.232113  2021-04-20\n",
       "3            1  2694.783254  18.511000  2021-08-11\n",
       "4            1  4028.687306  26.265803  2021-08-28\n",
       "...        ...          ...        ...         ...\n",
       "18063     1534  3781.098080  19.822962  2021-11-04\n",
       "18064     1534  2840.423057  21.409799  2021-11-16\n",
       "18065     1534  3826.185507  18.435051  2021-11-18\n",
       "18066     1534  2902.308661  16.674362  2021-11-27\n",
       "18067     1534  2371.711192  15.893917  2021-12-29\n",
       "\n",
       "[18068 rows x 4 columns]"
      ]
     },
     "execution_count": 3,
     "metadata": {},
     "output_type": "execute_result"
    }
   ],
   "source": [
    "data_rides_go = pd.read_csv('/datasets/rides_go.csv')\n",
    "print(data_rides_go.columns)\n",
    "print('___________________________________')\n",
    "print(data_rides_go.info())\n",
    "print('___________________________________')\n",
    "print(data_rides_go.isna().sum().sort_values(ascending=False))\n",
    "print('___________________________________')\n",
    "pd.set_option('display.max_columns', None)\n",
    "data_rides_go"
   ]
  },
  {
   "cell_type": "markdown",
   "id": "a348d94c",
   "metadata": {},
   "source": [
    "<div class=\"alert alert-block\" style=\"background-color: gainsboro\">\n",
    "<g>В таблице rides_go.csv нет пропущенных значений.\n",
    "\n",
    "В таблицах  rides_go.csv и users_go.csv есть общий столбец user_id.</g>\n",
    "</div>"
   ]
  },
  {
   "cell_type": "code",
   "execution_count": 4,
   "id": "f319dc20",
   "metadata": {},
   "outputs": [
    {
     "name": "stdout",
     "output_type": "stream",
     "text": [
      "Index(['subscription_type', 'minute_price', 'start_ride_price',\n",
      "       'subscription_fee'],\n",
      "      dtype='object')\n",
      "___________________________________\n",
      "<class 'pandas.core.frame.DataFrame'>\n",
      "RangeIndex: 2 entries, 0 to 1\n",
      "Data columns (total 4 columns):\n",
      " #   Column             Non-Null Count  Dtype \n",
      "---  ------             --------------  ----- \n",
      " 0   subscription_type  2 non-null      object\n",
      " 1   minute_price       2 non-null      int64 \n",
      " 2   start_ride_price   2 non-null      int64 \n",
      " 3   subscription_fee   2 non-null      int64 \n",
      "dtypes: int64(3), object(1)\n",
      "memory usage: 192.0+ bytes\n",
      "None\n",
      "___________________________________\n",
      "subscription_type    0\n",
      "minute_price         0\n",
      "start_ride_price     0\n",
      "subscription_fee     0\n",
      "dtype: int64\n",
      "___________________________________\n"
     ]
    },
    {
     "data": {
      "text/html": [
       "<div>\n",
       "<style scoped>\n",
       "    .dataframe tbody tr th:only-of-type {\n",
       "        vertical-align: middle;\n",
       "    }\n",
       "\n",
       "    .dataframe tbody tr th {\n",
       "        vertical-align: top;\n",
       "    }\n",
       "\n",
       "    .dataframe thead th {\n",
       "        text-align: right;\n",
       "    }\n",
       "</style>\n",
       "<table border=\"1\" class=\"dataframe\">\n",
       "  <thead>\n",
       "    <tr style=\"text-align: right;\">\n",
       "      <th></th>\n",
       "      <th>subscription_type</th>\n",
       "      <th>minute_price</th>\n",
       "      <th>start_ride_price</th>\n",
       "      <th>subscription_fee</th>\n",
       "    </tr>\n",
       "  </thead>\n",
       "  <tbody>\n",
       "    <tr>\n",
       "      <th>0</th>\n",
       "      <td>free</td>\n",
       "      <td>8</td>\n",
       "      <td>50</td>\n",
       "      <td>0</td>\n",
       "    </tr>\n",
       "    <tr>\n",
       "      <th>1</th>\n",
       "      <td>ultra</td>\n",
       "      <td>6</td>\n",
       "      <td>0</td>\n",
       "      <td>199</td>\n",
       "    </tr>\n",
       "  </tbody>\n",
       "</table>\n",
       "</div>"
      ],
      "text/plain": [
       "  subscription_type  minute_price  start_ride_price  subscription_fee\n",
       "0              free             8                50                 0\n",
       "1             ultra             6                 0               199"
      ]
     },
     "execution_count": 4,
     "metadata": {},
     "output_type": "execute_result"
    }
   ],
   "source": [
    "data_subscriptions_go = pd.read_csv('/datasets/subscriptions_go.csv')\n",
    "print(data_subscriptions_go.columns)\n",
    "print('___________________________________')\n",
    "print(data_subscriptions_go.info())\n",
    "print('___________________________________')\n",
    "print(data_subscriptions_go.isna().sum().sort_values(ascending=False))\n",
    "print('___________________________________')\n",
    "pd.set_option('display.max_columns', None)\n",
    "data_subscriptions_go"
   ]
  },
  {
   "cell_type": "markdown",
   "id": "25bee9cc",
   "metadata": {},
   "source": [
    "<div class=\"alert alert-block\" style=\"background-color: gainsboro\">\n",
    "<g>В таблице data_subscriptions_go нет пропущенных значений.\n",
    "\n",
    "В таблицах data_subscriptions_go и users_go.csv есть общий столбец subscription_type.\n",
    "В таблицах data_subscriptions_go и data_rides_go.csv нет общих столбцов.</g>\n",
    "</div>"
   ]
  },
  {
   "cell_type": "markdown",
   "id": "bc044b78",
   "metadata": {},
   "source": [
    "### Таблица с пользователями"
   ]
  },
  {
   "cell_type": "markdown",
   "id": "247db027",
   "metadata": {},
   "source": [
    "Более детально проанализируем значения из первой таблицы data_users_go.\n",
    "Из столбцов 'user_id', 'name', 'age', 'city', 'subscription_type' в первую очередь нас интересуют столбцы, которые содержат: возраст и город."
   ]
  },
  {
   "cell_type": "markdown",
   "id": "05c31827",
   "metadata": {},
   "source": [
    "#### Таблица с пользователями, данные о городе"
   ]
  },
  {
   "cell_type": "code",
   "execution_count": 5,
   "id": "41c303a3",
   "metadata": {},
   "outputs": [
    {
     "name": "stdout",
     "output_type": "stream",
     "text": [
      "Москва            172\n",
      "Тюмень            185\n",
      "Омск              186\n",
      "Сочи              192\n",
      "Краснодар         196\n",
      "Ростов-на-Дону    202\n",
      "Екатеринбург      206\n",
      "Пятигорск         226\n",
      "Name: city, dtype: int64\n"
     ]
    }
   ],
   "source": [
    "print(data_users_go['city'].value_counts().sort_values())"
   ]
  },
  {
   "cell_type": "markdown",
   "id": "d6816424",
   "metadata": {},
   "source": [
    "<div class=\"alert alert-block\" style=\"background-color: gainsboro\">\n",
    "<g>Всего представлены данные по 8-ми городам.\n",
    "Данных больше всего из Пятигорска и меньше всего из Москвы.</g>\n",
    "</div>"
   ]
  },
  {
   "cell_type": "markdown",
   "id": "094b3005",
   "metadata": {},
   "source": [
    "#### Таблица с пользователями, данные о видах подписки"
   ]
  },
  {
   "cell_type": "code",
   "execution_count": 6,
   "id": "150167ea",
   "metadata": {},
   "outputs": [
    {
     "name": "stdout",
     "output_type": "stream",
     "text": [
      "ultra    719\n",
      "free     846\n",
      "Name: subscription_type, dtype: int64\n"
     ]
    }
   ],
   "source": [
    "print(data_users_go['subscription_type'].value_counts().sort_values())"
   ]
  },
  {
   "cell_type": "markdown",
   "id": "f9f75238",
   "metadata": {},
   "source": [
    "<div class=\"alert alert-block\" style=\"background-color: gainsboro\">\n",
    "<g> Больше всего пользователей с типом подписки free, чуть меньше с видом подписки ultra  </g>\n",
    "</div>"
   ]
  },
  {
   "cell_type": "markdown",
   "id": "e08e377a",
   "metadata": {},
   "source": [
    "<div class=\"alert alert-block\" style=\"background-color: gainsboro\">\n",
    "<g> Всего представлены данные по 8-ми городам.\n",
    "Данных больше всего из Пятигорска и меньше всего из Москвы.\n",
    "Больше всего пользователей в возрасте  от 23 до 27 лет.\n",
    "Больше всего пользователей с типом подписки free, чуть меньше с видом подписки ultra\n",
    "</g>\n",
    "</div>"
   ]
  },
  {
   "cell_type": "markdown",
   "id": "1dbd9c8b",
   "metadata": {},
   "source": [
    "### Таблица с поездками"
   ]
  },
  {
   "cell_type": "markdown",
   "id": "d29bf913",
   "metadata": {},
   "source": [
    "Более детально проанализируем значения из второй таблицы rides_go.\n",
    "Из столбцов 'user_id', 'distance', 'duration', 'date' в первую очередь нас интересуют столбцы, которые содержат: длительность поездки и user_id."
   ]
  },
  {
   "cell_type": "markdown",
   "id": "b6a1b369",
   "metadata": {},
   "source": [
    "#### Таблица с поездками данные о длительности"
   ]
  },
  {
   "cell_type": "code",
   "execution_count": 7,
   "id": "5d1099fc",
   "metadata": {},
   "outputs": [
    {
     "data": {
      "image/png": "[encoded data removed]",
      "text/plain": [
       "<Figure size 432x288 with 1 Axes>"
      ]
     },
     "metadata": {
      "needs_background": "light"
     },
     "output_type": "display_data"
    }
   ],
   "source": [
    "plt.hist(data_rides_go['duration'], bins = 100)\n",
    "plt.title('Длительность поездки')\n",
    "plt.xlabel('Длительность')\n",
    "plt.ylabel('Количество пользователей')\n",
    "plt.grid()\n",
    "plt.show()"
   ]
  },
  {
   "cell_type": "markdown",
   "id": "dc8a9e00",
   "metadata": {},
   "source": [
    "<div class=\"alert alert-block\" style=\"background-color: gainsboro\">\n",
    "<g> Видим, что есть пик длительности поездок у 0, распределение остальных значений близко к нормальному.\n",
    "    Далее проанализируем пик около 0</g>\n",
    "</div>"
   ]
  },
  {
   "cell_type": "markdown",
   "id": "80d6d604",
   "metadata": {},
   "source": [
    "#### Таблица с поездками данные о user_id"
   ]
  },
  {
   "cell_type": "markdown",
   "id": "bb6e83ab",
   "metadata": {},
   "source": [
    "Проверим есть ли у нас лидеры по количеству поездок, если да, то их нужно будет проанализировать отдельно"
   ]
  },
  {
   "cell_type": "code",
   "execution_count": 8,
   "id": "fd47a60f",
   "metadata": {},
   "outputs": [
    {
     "data": {
      "text/plain": [
       "1236    27\n",
       "1063    26\n",
       "783     26\n",
       "1204    24\n",
       "1149    23\n",
       "716     23\n",
       "1531    23\n",
       "1030    23\n",
       "1252    22\n",
       "919     22\n",
       "871     22\n",
       "1361    22\n",
       "1217    22\n",
       "831     22\n",
       "898     22\n",
       "Name: user_id, dtype: int64"
      ]
     },
     "execution_count": 8,
     "metadata": {},
     "output_type": "execute_result"
    }
   ],
   "source": [
    "top_riders = data_rides_go['user_id'].value_counts().sort_values(ascending=False).head(15)\n",
    "top_riders"
   ]
  },
  {
   "cell_type": "markdown",
   "id": "0003f395",
   "metadata": {},
   "source": [
    "<div class=\"alert alert-block\" style=\"background-color: gainsboro\">\n",
    "<g> Выдающихся пользователей нет, чье количество поездок было бы аномально высоким  </g>\n",
    "</div>"
   ]
  },
  {
   "cell_type": "markdown",
   "id": "199d03b3",
   "metadata": {},
   "source": [
    "### Таблица с подписками"
   ]
  },
  {
   "cell_type": "markdown",
   "id": "d681dbc9",
   "metadata": {},
   "source": [
    "Данные в таблице data_subscriptions_go довольно однообразные как мы увидели в пункте 1.1, детальный анализ проведем в третьем шаге Исследовательский анализ данных."
   ]
  },
  {
   "cell_type": "markdown",
   "id": "04cc63cc",
   "metadata": {},
   "source": [
    "**Общий вывод по Шагу 1:**"
   ]
  },
  {
   "cell_type": "markdown",
   "id": "cf47facd",
   "metadata": {},
   "source": [
    "<div class=\"alert alert-block\" style=\"background-color: gainsboro\">\n",
    "<g> Есть пик длительности поездок у 0, распределение остальных значений близко к нормальному.\n",
    "    Выдающихся пользователей нет, чье количество поездок было бы аномально высоким.\n",
    "    Всего представлены данные по 8-ми городам.\n",
    "Данных больше всего из Пятигорска и меньше всего из Москвы.\n",
    "Больше всего пользователей в возрасте  от 23 до 27 лет.\n",
    "Больше всего пользователей с типом подписки free, чуть меньше с видом подписки ultra\n",
    "    </g>\n",
    "</div>"
   ]
  },
  {
   "cell_type": "markdown",
   "id": "e95ebca7",
   "metadata": {},
   "source": [
    "## Шаг 2. Предобработка данных"
   ]
  },
  {
   "cell_type": "markdown",
   "id": "937a2e0b",
   "metadata": {},
   "source": [
    "Пропуски в таблицах отсуствуют как мы увидели в п.1.1.. Значит будем обрабатывать только типы значений в столбцах, а также поищем дубликаты."
   ]
  },
  {
   "cell_type": "markdown",
   "id": "305c7708",
   "metadata": {},
   "source": [
    "### Изменение типа данных в столбце date"
   ]
  },
  {
   "cell_type": "markdown",
   "id": "fb46fdaa",
   "metadata": {},
   "source": [
    "Приведем столбец date из таблицы data_riders к типу данных datatime."
   ]
  },
  {
   "cell_type": "code",
   "execution_count": 9,
   "id": "0ef23219",
   "metadata": {},
   "outputs": [],
   "source": [
    "data_rides_go['date'] = pd.to_datetime(data_rides_go['date'], format = '%Y-%m-%d')"
   ]
  },
  {
   "cell_type": "code",
   "execution_count": 10,
   "id": "4408ff92",
   "metadata": {},
   "outputs": [
    {
     "name": "stdout",
     "output_type": "stream",
     "text": [
      "<class 'pandas.core.frame.DataFrame'>\n",
      "RangeIndex: 18068 entries, 0 to 18067\n",
      "Data columns (total 4 columns):\n",
      " #   Column    Non-Null Count  Dtype         \n",
      "---  ------    --------------  -----         \n",
      " 0   user_id   18068 non-null  int64         \n",
      " 1   distance  18068 non-null  float64       \n",
      " 2   duration  18068 non-null  float64       \n",
      " 3   date      18068 non-null  datetime64[ns]\n",
      "dtypes: datetime64[ns](1), float64(2), int64(1)\n",
      "memory usage: 564.8 KB\n"
     ]
    },
    {
     "data": {
      "text/html": [
       "<div>\n",
       "<style scoped>\n",
       "    .dataframe tbody tr th:only-of-type {\n",
       "        vertical-align: middle;\n",
       "    }\n",
       "\n",
       "    .dataframe tbody tr th {\n",
       "        vertical-align: top;\n",
       "    }\n",
       "\n",
       "    .dataframe thead th {\n",
       "        text-align: right;\n",
       "    }\n",
       "</style>\n",
       "<table border=\"1\" class=\"dataframe\">\n",
       "  <thead>\n",
       "    <tr style=\"text-align: right;\">\n",
       "      <th></th>\n",
       "      <th>user_id</th>\n",
       "      <th>distance</th>\n",
       "      <th>duration</th>\n",
       "      <th>date</th>\n",
       "    </tr>\n",
       "  </thead>\n",
       "  <tbody>\n",
       "    <tr>\n",
       "      <th>0</th>\n",
       "      <td>1</td>\n",
       "      <td>4409.919140</td>\n",
       "      <td>25.599769</td>\n",
       "      <td>2021-01-01</td>\n",
       "    </tr>\n",
       "    <tr>\n",
       "      <th>1</th>\n",
       "      <td>1</td>\n",
       "      <td>2617.592153</td>\n",
       "      <td>15.816871</td>\n",
       "      <td>2021-01-18</td>\n",
       "    </tr>\n",
       "    <tr>\n",
       "      <th>2</th>\n",
       "      <td>1</td>\n",
       "      <td>754.159807</td>\n",
       "      <td>6.232113</td>\n",
       "      <td>2021-04-20</td>\n",
       "    </tr>\n",
       "    <tr>\n",
       "      <th>3</th>\n",
       "      <td>1</td>\n",
       "      <td>2694.783254</td>\n",
       "      <td>18.511000</td>\n",
       "      <td>2021-08-11</td>\n",
       "    </tr>\n",
       "    <tr>\n",
       "      <th>4</th>\n",
       "      <td>1</td>\n",
       "      <td>4028.687306</td>\n",
       "      <td>26.265803</td>\n",
       "      <td>2021-08-28</td>\n",
       "    </tr>\n",
       "    <tr>\n",
       "      <th>...</th>\n",
       "      <td>...</td>\n",
       "      <td>...</td>\n",
       "      <td>...</td>\n",
       "      <td>...</td>\n",
       "    </tr>\n",
       "    <tr>\n",
       "      <th>18063</th>\n",
       "      <td>1534</td>\n",
       "      <td>3781.098080</td>\n",
       "      <td>19.822962</td>\n",
       "      <td>2021-11-04</td>\n",
       "    </tr>\n",
       "    <tr>\n",
       "      <th>18064</th>\n",
       "      <td>1534</td>\n",
       "      <td>2840.423057</td>\n",
       "      <td>21.409799</td>\n",
       "      <td>2021-11-16</td>\n",
       "    </tr>\n",
       "    <tr>\n",
       "      <th>18065</th>\n",
       "      <td>1534</td>\n",
       "      <td>3826.185507</td>\n",
       "      <td>18.435051</td>\n",
       "      <td>2021-11-18</td>\n",
       "    </tr>\n",
       "    <tr>\n",
       "      <th>18066</th>\n",
       "      <td>1534</td>\n",
       "      <td>2902.308661</td>\n",
       "      <td>16.674362</td>\n",
       "      <td>2021-11-27</td>\n",
       "    </tr>\n",
       "    <tr>\n",
       "      <th>18067</th>\n",
       "      <td>1534</td>\n",
       "      <td>2371.711192</td>\n",
       "      <td>15.893917</td>\n",
       "      <td>2021-12-29</td>\n",
       "    </tr>\n",
       "  </tbody>\n",
       "</table>\n",
       "<p>18068 rows × 4 columns</p>\n",
       "</div>"
      ],
      "text/plain": [
       "       user_id     distance   duration       date\n",
       "0            1  4409.919140  25.599769 2021-01-01\n",
       "1            1  2617.592153  15.816871 2021-01-18\n",
       "2            1   754.159807   6.232113 2021-04-20\n",
       "3            1  2694.783254  18.511000 2021-08-11\n",
       "4            1  4028.687306  26.265803 2021-08-28\n",
       "...        ...          ...        ...        ...\n",
       "18063     1534  3781.098080  19.822962 2021-11-04\n",
       "18064     1534  2840.423057  21.409799 2021-11-16\n",
       "18065     1534  3826.185507  18.435051 2021-11-18\n",
       "18066     1534  2902.308661  16.674362 2021-11-27\n",
       "18067     1534  2371.711192  15.893917 2021-12-29\n",
       "\n",
       "[18068 rows x 4 columns]"
      ]
     },
     "execution_count": 10,
     "metadata": {},
     "output_type": "execute_result"
    }
   ],
   "source": [
    "#проверим работу\n",
    "data_rides_go.info()\n",
    "\n",
    "data_rides_go"
   ]
  },
  {
   "cell_type": "markdown",
   "id": "154aca06",
   "metadata": {},
   "source": [
    "<div class=\"alert alert-block\" style=\"background-color: gainsboro\">\n",
    "<g> Столбец date из таблицы data_riders приведен к типу данных datatime.  </g>\n",
    "</div>"
   ]
  },
  {
   "cell_type": "markdown",
   "id": "cb583c62",
   "metadata": {},
   "source": [
    "### Добавление новых столбцов years и month"
   ]
  },
  {
   "cell_type": "markdown",
   "id": "74c579ed",
   "metadata": {},
   "source": [
    "Проверим за какие года представлены данные в таблице"
   ]
  },
  {
   "cell_type": "code",
   "execution_count": 11,
   "id": "74e0029f",
   "metadata": {},
   "outputs": [
    {
     "data": {
      "text/plain": [
       "array([2021])"
      ]
     },
     "execution_count": 11,
     "metadata": {},
     "output_type": "execute_result"
    }
   ],
   "source": [
    "data_rides_go['date'].dt.year.unique()"
   ]
  },
  {
   "cell_type": "markdown",
   "id": "9e838a5d",
   "metadata": {},
   "source": [
    "Данные указаны только за один год, значит добавление столбца с годом не потребуется."
   ]
  },
  {
   "cell_type": "markdown",
   "id": "1c90e4ca",
   "metadata": {},
   "source": [
    "Добавим столбец с месяцем"
   ]
  },
  {
   "cell_type": "code",
   "execution_count": 12,
   "id": "b580384f",
   "metadata": {},
   "outputs": [],
   "source": [
    "data_rides_go['month'] = data_rides_go['date'].dt.month\n",
    "#добавим столбец с месяцем"
   ]
  },
  {
   "cell_type": "code",
   "execution_count": 13,
   "id": "baa866f1",
   "metadata": {},
   "outputs": [
    {
     "data": {
      "text/plain": [
       "array([ 1,  4,  8, 10, 11, 12,  3,  6,  7,  2,  5,  9])"
      ]
     },
     "execution_count": 13,
     "metadata": {},
     "output_type": "execute_result"
    }
   ],
   "source": [
    "data_rides_go['month'].unique()"
   ]
  },
  {
   "cell_type": "markdown",
   "id": "bab22a9f",
   "metadata": {},
   "source": [
    "<div class=\"alert alert-block\" style=\"background-color: gainsboro\">\n",
    "<g> Столбец с месяцем использования самокатов - добавлен.  </g>\n",
    "</div>"
   ]
  },
  {
   "cell_type": "markdown",
   "id": "b17e7d7b",
   "metadata": {},
   "source": [
    "### Проверка дубликатов"
   ]
  },
  {
   "cell_type": "markdown",
   "id": "3e7218a7",
   "metadata": {},
   "source": [
    "Проверим дубликаты в каждой таблице"
   ]
  },
  {
   "cell_type": "code",
   "execution_count": 14,
   "id": "79c44941",
   "metadata": {},
   "outputs": [
    {
     "name": "stdout",
     "output_type": "stream",
     "text": [
      "0\n",
      "___________________________________\n",
      "0\n",
      "___________________________________\n",
      "31\n"
     ]
    }
   ],
   "source": [
    "print(data_rides_go.duplicated().sum())\n",
    "print('___________________________________')\n",
    "print(data_subscriptions_go.duplicated().sum())\n",
    "print('___________________________________')\n",
    "print(data_users_go.duplicated().sum())"
   ]
  },
  {
   "cell_type": "markdown",
   "id": "3cfe9820",
   "metadata": {},
   "source": [
    "Теперь избавимся от выявленных дубликатов в таблице data_users_go"
   ]
  },
  {
   "cell_type": "code",
   "execution_count": 15,
   "id": "c7e04804",
   "metadata": {},
   "outputs": [
    {
     "name": "stdout",
     "output_type": "stream",
     "text": [
      "0\n"
     ]
    }
   ],
   "source": [
    "data_users_go.drop_duplicates(inplace=True)\n",
    "print(data_users_go.duplicated().sum())"
   ]
  },
  {
   "cell_type": "markdown",
   "id": "8762b859",
   "metadata": {},
   "source": [
    "<div class=\"alert alert-block\" style=\"background-color: gainsboro\">\n",
    "<g> Дубликаты из таблицы data_users_go удалены. В остальных двух - отсуствуют  </g>\n",
    "</div>"
   ]
  },
  {
   "cell_type": "markdown",
   "id": "40e7d8c1",
   "metadata": {},
   "source": [
    "**Общий вывод по Шагу 2:**"
   ]
  },
  {
   "cell_type": "markdown",
   "id": "92b9e9c0",
   "metadata": {},
   "source": [
    "<div class=\"alert alert-block\" style=\"background-color: gainsboro\">\n",
    "<g> Столбец date из таблицы data_riders приведен к типу данных datatime.\n",
    "В таблицу data_rides_go добавлен столбец с месяцем.\n",
    "Дубликаты из таблицы data_users_go удалены.\n",
    "</g>\n",
    "</div>"
   ]
  },
  {
   "cell_type": "markdown",
   "id": "212593c7",
   "metadata": {},
   "source": [
    "## Шаг 3. Исследовательский анализ данных"
   ]
  },
  {
   "cell_type": "markdown",
   "id": "56ef336d",
   "metadata": {},
   "source": [
    "### Визуализация данных в таблице data_users_go по столбцу 'city'"
   ]
  },
  {
   "cell_type": "markdown",
   "id": "4e468379",
   "metadata": {},
   "source": [
    "Ранее мы уже смотрели распределение пользователей по городам, приведем эти данные в % соотношение в круговой диаграмме для наглядности."
   ]
  },
  {
   "cell_type": "code",
   "execution_count": 16,
   "id": "ea7fcf10",
   "metadata": {},
   "outputs": [
    {
     "data": {
      "text/plain": [
       "Пятигорск         14.0\n",
       "Екатеринбург      13.0\n",
       "Ростов-на-Дону    13.0\n",
       "Краснодар         13.0\n",
       "Сочи              12.0\n",
       "Омск              12.0\n",
       "Тюмень            12.0\n",
       "Москва            11.0\n",
       "Name: city, dtype: float64"
      ]
     },
     "execution_count": 16,
     "metadata": {},
     "output_type": "execute_result"
    }
   ],
   "source": [
    "\"\"\"для удобства создадим новый датафрейк,\n",
    "который будет хранить в себе изначально данные о городах и количестве пользователей в них\"\"\"\n",
    "data_city_count_users = data_users_go['city'].value_counts()\n",
    "\n",
    "#добавим столбец с % соотношением пользователей по городам\n",
    "data_city_count_users['rate'] = round(data_users_go['city'].value_counts() / data_city_count_users.sum(), 2) * 100\n",
    "data_city_count_users['rate']"
   ]
  },
  {
   "cell_type": "code",
   "execution_count": 17,
   "id": "4c40dd99",
   "metadata": {},
   "outputs": [
    {
     "data": {
      "image/png": "[encoded data removed]",
      "text/plain": [
       "<Figure size 432x432 with 1 Axes>"
      ]
     },
     "metadata": {},
     "output_type": "display_data"
    }
   ],
   "source": [
    "#создадим круговую диаграмму\n",
    "data_users_go['city'].value_counts().plot(\n",
    "    kind = 'pie', \n",
    "    y = data_city_count_users,\n",
    "    autopct = '%1.0f%%',\n",
    "    figsize=(6,6), \n",
    "    title = 'Распределение пользователей по городам');"
   ]
  },
  {
   "cell_type": "code",
   "execution_count": 18,
   "id": "197791bc",
   "metadata": {},
   "outputs": [
    {
     "data": {
      "image/png": "[encoded data removed]",
      "text/plain": [
       "<Figure size 576x360 with 1 Axes>"
      ]
     },
     "metadata": {
      "needs_background": "light"
     },
     "output_type": "display_data"
    }
   ],
   "source": [
    "data_users_go['city'].value_counts().plot.bar(figsize=(8, 5), legend=True)\n",
    "plt.title('Количество пользователей по городам')\n",
    "plt.xlabel('Город')\n",
    "plt.ylabel('Количество пользователей ')\n",
    "plt.grid()\n",
    "plt.show()"
   ]
  },
  {
   "cell_type": "markdown",
   "id": "404ab5a8",
   "metadata": {},
   "source": [
    "<div class=\"alert alert-block\" style=\"background-color: gainsboro\">\n",
    "<g> Пользователи по городам распределены практически равномерно </g>\n",
    "</div>"
   ]
  },
  {
   "cell_type": "markdown",
   "id": "62bdb4ff",
   "metadata": {},
   "source": [
    "### Визуализация данных в таблице data_users_go по столбцу 'subscription_type'"
   ]
  },
  {
   "cell_type": "markdown",
   "id": "c5147c14",
   "metadata": {},
   "source": [
    "Произведем аналогичные операции в столбце subscription_type"
   ]
  },
  {
   "cell_type": "code",
   "execution_count": 19,
   "id": "2ec3e6bb",
   "metadata": {},
   "outputs": [
    {
     "data": {
      "image/png": "[encoded data removed]",
      "text/plain": [
       "<Figure size 432x432 with 1 Axes>"
      ]
     },
     "metadata": {},
     "output_type": "display_data"
    }
   ],
   "source": [
    "#выделим в отдельный датафрейм данные о количестве пользователей с разными типами подписки\n",
    "data_users_count_subscription = data_users_go['subscription_type'].value_counts()\n",
    "\n",
    "data_users_go['subscription_type'].value_counts().plot(\n",
    "    kind = 'pie', \n",
    "    y = data_users_count_subscription, \n",
    "    autopct = '%1.0f%%', \n",
    "    figsize=(6,6),\n",
    "    title = 'Процентное соотношение пользователей в зависимости от типа подписки');\n"
   ]
  },
  {
   "cell_type": "markdown",
   "id": "7edd32dc",
   "metadata": {},
   "source": [
    "<div class=\"alert alert-block\" style=\"background-color: gainsboro\">\n",
    "<g> Пользователей с тарифом Free 54%, а с тарифом Ultra 46% </g>\n",
    "</div>"
   ]
  },
  {
   "cell_type": "markdown",
   "id": "28a604e8",
   "metadata": {},
   "source": [
    "### Визуализация данных в таблице data_users_go по столбцу 'age'"
   ]
  },
  {
   "cell_type": "markdown",
   "id": "fe81e0e3",
   "metadata": {},
   "source": [
    "Так как возрастов может быть довольно много, более наглядно их отобразить в виде диаграммы, которая нам их автоматически сгруппирует.\n",
    "Потроим гистограмму распределения по возрастам"
   ]
  },
  {
   "cell_type": "code",
   "execution_count": 20,
   "id": "1a0a195c",
   "metadata": {},
   "outputs": [
    {
     "data": {
      "image/png": "[encoded data removed]",
      "text/plain": [
       "<Figure size 432x288 with 1 Axes>"
      ]
     },
     "metadata": {
      "needs_background": "light"
     },
     "output_type": "display_data"
    }
   ],
   "source": [
    "plt.hist(data_users_go['age'], bins = 30)\n",
    "plt.title('Возраст пользователей')\n",
    "plt.xlabel('Возраст')\n",
    "plt.ylabel('Количество пользователей')\n",
    "plt.grid()\n",
    "plt.show()"
   ]
  },
  {
   "cell_type": "code",
   "execution_count": 21,
   "id": "44b36a0b",
   "metadata": {},
   "outputs": [
    {
     "data": {
      "text/plain": [
       "25    145\n",
       "24    132\n",
       "26    131\n",
       "23    129\n",
       "27    119\n",
       "22    119\n",
       "28    112\n",
       "21     93\n",
       "20     71\n",
       "30     68\n",
       "29     68\n",
       "31     48\n",
       "19     47\n",
       "18     46\n",
       "32     41\n",
       "Name: age, dtype: int64"
      ]
     },
     "execution_count": 21,
     "metadata": {},
     "output_type": "execute_result"
    }
   ],
   "source": [
    "count_users_by_age = data_users_go['age'].value_counts()\n",
    "count_users_by_age.head(15)"
   ]
  },
  {
   "cell_type": "markdown",
   "id": "d022539b",
   "metadata": {},
   "source": [
    "<div class=\"alert alert-block\" style=\"background-color: gainsboro\">\n",
    "<g> Больше всего пользователей в возрасте  от 23 до 27 лет. </g>\n",
    "</div>"
   ]
  },
  {
   "cell_type": "markdown",
   "id": "14584984",
   "metadata": {},
   "source": [
    "### Визуализация данных в таблице data_rides_go по столбцу 'distance'"
   ]
  },
  {
   "cell_type": "code",
   "execution_count": 22,
   "id": "2429def7",
   "metadata": {},
   "outputs": [
    {
     "data": {
      "text/plain": [
       "11555     0.9\n",
       "9541      2.6\n",
       "13690     4.3\n",
       "8658      6.8\n",
       "7841      7.1\n",
       "8906     11.3\n",
       "8324     12.2\n",
       "13940    15.0\n",
       "15626    15.4\n",
       "11862    15.6\n",
       "Name: distance, dtype: float64"
      ]
     },
     "execution_count": 22,
     "metadata": {},
     "output_type": "execute_result"
    }
   ],
   "source": [
    "#округлим значения, представленные в таблице\n",
    "round(data_rides_go['distance'].sort_values(), 1).head(10)"
   ]
  },
  {
   "cell_type": "code",
   "execution_count": 23,
   "id": "c92179c8",
   "metadata": {},
   "outputs": [
    {
     "data": {
      "image/png": "[encoded data removed]",
      "text/plain": [
       "<Figure size 720x360 with 1 Axes>"
      ]
     },
     "metadata": {
      "needs_background": "light"
     },
     "output_type": "display_data"
    },
    {
     "data": {
      "text/plain": [
       "count    18068.000000\n",
       "mean      3070.659976\n",
       "std       1116.831209\n",
       "min          0.855683\n",
       "25%       2543.226360\n",
       "50%       3133.609994\n",
       "75%       3776.222735\n",
       "max       7211.007745\n",
       "Name: distance, dtype: float64"
      ]
     },
     "execution_count": 23,
     "metadata": {},
     "output_type": "execute_result"
    }
   ],
   "source": [
    "#создадим диаграмму размаха для столбца distance\n",
    "\n",
    "data_rides_go.boxplot(column=['distance'], figsize=(10,5), grid=True)\n",
    "plt.ylabel('Расстояние, м')\n",
    "plt.title('Диаграмма размаха расстояния за поездку')\n",
    "plt.show()\n",
    "\n",
    "#выведем описание диаграммы\n",
    "data_rides_go['distance'].describe()"
   ]
  },
  {
   "cell_type": "code",
   "execution_count": 24,
   "id": "9715d263",
   "metadata": {},
   "outputs": [
    {
     "data": {
      "image/png": "[encoded data removed]",
      "text/plain": [
       "<Figure size 432x288 with 1 Axes>"
      ]
     },
     "metadata": {
      "needs_background": "light"
     },
     "output_type": "display_data"
    },
    {
     "data": {
      "text/plain": [
       "<Figure size 1440x2160 with 0 Axes>"
      ]
     },
     "metadata": {},
     "output_type": "display_data"
    },
    {
     "data": {
      "text/plain": [
       "count    18068.000000\n",
       "mean      3070.659976\n",
       "std       1116.831209\n",
       "min          0.855683\n",
       "25%       2543.226360\n",
       "50%       3133.609994\n",
       "75%       3776.222735\n",
       "max       7211.007745\n",
       "Name: distance, dtype: float64"
      ]
     },
     "execution_count": 24,
     "metadata": {},
     "output_type": "execute_result"
    }
   ],
   "source": [
    "plt.hist(data_rides_go['distance'], bins=100)\n",
    "plt.title('График распределения расстояний за поездку')\n",
    "plt.xlabel('Время поездки, мин')\n",
    "plt.ylabel('Расстояние, м')\n",
    "plt.figure(figsize=(20,30))\n",
    "plt.show()\n",
    "\n",
    "#выведем описание диаграммы\n",
    "data_rides_go['distance'].describe()"
   ]
  },
  {
   "cell_type": "markdown",
   "id": "df60000e",
   "metadata": {},
   "source": [
    "<div class=\"alert alert-block\" style=\"background-color: gainsboro\">\n",
    "<g> Из представленных данных без отсечений можно сделать следующие выводы:\n",
    "Пользователи в среднем за одну поездку преодолевают 3,1 км.\n",
    "Максимально пользователем было преодолено 7.21 км, минимально 0,85 км. \n",
    "75% пользователей преодолевают расстояние до 3,77 </g>\n",
    "</div>"
   ]
  },
  {
   "cell_type": "markdown",
   "id": "4cf72814",
   "metadata": {},
   "source": [
    "### Визуализация данных в таблице data_rides_go по столбцу 'duration'"
   ]
  },
  {
   "cell_type": "code",
   "execution_count": 25,
   "id": "d2612866",
   "metadata": {},
   "outputs": [
    {
     "data": {
      "text/plain": [
       "4215     40.82\n",
       "4709     39.87\n",
       "2623     39.53\n",
       "1998     38.35\n",
       "6453     38.27\n",
       "         ...  \n",
       "6768      0.50\n",
       "7883      0.50\n",
       "16179     0.50\n",
       "9497      0.50\n",
       "16704     0.50\n",
       "Name: duration, Length: 18068, dtype: float64"
      ]
     },
     "execution_count": 25,
     "metadata": {},
     "output_type": "execute_result"
    }
   ],
   "source": [
    "#округлим значения, представленные в таблице\n",
    "round(data_rides_go['duration'].sort_values(ascending=False), 2)"
   ]
  },
  {
   "cell_type": "code",
   "execution_count": 26,
   "id": "f486c895",
   "metadata": {},
   "outputs": [
    {
     "data": {
      "text/plain": [
       "count    18068.000000\n",
       "mean        17.805011\n",
       "std          6.091051\n",
       "min          0.500000\n",
       "25%         13.597563\n",
       "50%         17.678395\n",
       "75%         21.724800\n",
       "max         40.823963\n",
       "Name: duration, dtype: float64"
      ]
     },
     "execution_count": 26,
     "metadata": {},
     "output_type": "execute_result"
    },
    {
     "data": {
      "image/png": "[encoded data removed]",
      "text/plain": [
       "<Figure size 432x288 with 1 Axes>"
      ]
     },
     "metadata": {
      "needs_background": "light"
     },
     "output_type": "display_data"
    }
   ],
   "source": [
    "#создадим диаграмму размаха для столбца distance\n",
    "\n",
    "sns.boxplot(x = data_rides_go['duration'], color='blue')\n",
    "plt.title('Время, проведенное в поездке')\n",
    "plt.xlabel('Время, мин')\n",
    "\n",
    "#выведем описание диаграммы\n",
    "data_rides_go['duration'].describe()"
   ]
  },
  {
   "cell_type": "code",
   "execution_count": 27,
   "id": "77d32135",
   "metadata": {},
   "outputs": [
    {
     "data": {
      "image/png": "[encoded data removed]",
      "text/plain": [
       "<Figure size 432x288 with 1 Axes>"
      ]
     },
     "metadata": {
      "needs_background": "light"
     },
     "output_type": "display_data"
    }
   ],
   "source": [
    "plt.hist(data_rides_go['duration'], bins = 40)\n",
    "plt.title('Диаграмма зависимости количества пользователей от длительности поездки')\n",
    "plt.xlabel('Время, мин')\n",
    "plt.ylabel('Количество пользователей')\n",
    "plt.show()"
   ]
  },
  {
   "cell_type": "markdown",
   "id": "c937c21d",
   "metadata": {},
   "source": [
    "<div class=\"alert alert-block\" style=\"background-color: gainsboro\">\n",
    "<g> В среднем пользователи используют самокат 17,8 мин.\n",
    "Максимально 40 минут. И минимально ровно 0.5 мин.  т.е. 30 секунд, скорее всего это связано с тем, что каждому пользователю дается 30 секунд на проверку самоката и замену при необходимости. В дальнейшем такие поездки мы исключим из анализа\n",
    "\n",
    "</g>\n",
    "</div>"
   ]
  },
  {
   "cell_type": "markdown",
   "id": "52a32492",
   "metadata": {},
   "source": [
    "**Общий вывод по Шагу 3:**"
   ]
  },
  {
   "cell_type": "markdown",
   "id": "16f5b76e",
   "metadata": {},
   "source": [
    "<div class=\"alert alert-block\" style=\"background-color: gainsboro\">\n",
    "<g> Пользователи по городам в выборке распределены практически равномерно.\n",
    "    Пользователей с тарифом Free 54%, а с тарифом Ultra 46%.\n",
    "    Больше всего пользователей в возрасте  от 23 до 27 лет.\n",
    "    В среднем за одну поездку люди преодолевают 3,1 км. Максимально пользователем было преодолено 7.21 км, минимально 0,85 км.\n",
    "    В среднем пользователи используют самокат 17,8 мин.\n",
    "    Максимально 40 минут.\n",
    "</g>\n",
    "</div>"
   ]
  },
  {
   "cell_type": "markdown",
   "id": "4ef51331",
   "metadata": {},
   "source": [
    "## Шаг 4. Объединение данных"
   ]
  },
  {
   "cell_type": "markdown",
   "id": "71f4e359",
   "metadata": {},
   "source": [
    "### Объединение данных в одну таблицу"
   ]
  },
  {
   "cell_type": "markdown",
   "id": "fbe6afb7",
   "metadata": {},
   "source": [
    "Объединим данные о пользователях, поездках и подписках в один датафрейм методом merge"
   ]
  },
  {
   "cell_type": "code",
   "execution_count": 28,
   "id": "835aed3e",
   "metadata": {},
   "outputs": [
    {
     "data": {
      "text/plain": [
       "(18068, 12)"
      ]
     },
     "execution_count": 28,
     "metadata": {},
     "output_type": "execute_result"
    }
   ],
   "source": [
    "#не знаю как сделать это в один шаг, поэтому сделала в несколько\n",
    "good_data = data_users_go.merge(data_rides_go)\n",
    "good_data = good_data.merge(data_subscriptions_go)\n",
    "good_data.shape"
   ]
  },
  {
   "cell_type": "code",
   "execution_count": 29,
   "id": "b0cfc801",
   "metadata": {},
   "outputs": [
    {
     "data": {
      "text/html": [
       "<div>\n",
       "<style scoped>\n",
       "    .dataframe tbody tr th:only-of-type {\n",
       "        vertical-align: middle;\n",
       "    }\n",
       "\n",
       "    .dataframe tbody tr th {\n",
       "        vertical-align: top;\n",
       "    }\n",
       "\n",
       "    .dataframe thead th {\n",
       "        text-align: right;\n",
       "    }\n",
       "</style>\n",
       "<table border=\"1\" class=\"dataframe\">\n",
       "  <thead>\n",
       "    <tr style=\"text-align: right;\">\n",
       "      <th></th>\n",
       "      <th>user_id</th>\n",
       "      <th>name</th>\n",
       "      <th>age</th>\n",
       "      <th>city</th>\n",
       "      <th>subscription_type</th>\n",
       "      <th>distance</th>\n",
       "      <th>duration</th>\n",
       "      <th>date</th>\n",
       "      <th>month</th>\n",
       "      <th>minute_price</th>\n",
       "      <th>start_ride_price</th>\n",
       "      <th>subscription_fee</th>\n",
       "    </tr>\n",
       "  </thead>\n",
       "  <tbody>\n",
       "    <tr>\n",
       "      <th>0</th>\n",
       "      <td>1</td>\n",
       "      <td>Кира</td>\n",
       "      <td>22</td>\n",
       "      <td>Тюмень</td>\n",
       "      <td>ultra</td>\n",
       "      <td>4409.919140</td>\n",
       "      <td>25.599769</td>\n",
       "      <td>2021-01-01</td>\n",
       "      <td>1</td>\n",
       "      <td>6</td>\n",
       "      <td>0</td>\n",
       "      <td>199</td>\n",
       "    </tr>\n",
       "    <tr>\n",
       "      <th>1</th>\n",
       "      <td>1</td>\n",
       "      <td>Кира</td>\n",
       "      <td>22</td>\n",
       "      <td>Тюмень</td>\n",
       "      <td>ultra</td>\n",
       "      <td>2617.592153</td>\n",
       "      <td>15.816871</td>\n",
       "      <td>2021-01-18</td>\n",
       "      <td>1</td>\n",
       "      <td>6</td>\n",
       "      <td>0</td>\n",
       "      <td>199</td>\n",
       "    </tr>\n",
       "    <tr>\n",
       "      <th>2</th>\n",
       "      <td>1</td>\n",
       "      <td>Кира</td>\n",
       "      <td>22</td>\n",
       "      <td>Тюмень</td>\n",
       "      <td>ultra</td>\n",
       "      <td>754.159807</td>\n",
       "      <td>6.232113</td>\n",
       "      <td>2021-04-20</td>\n",
       "      <td>4</td>\n",
       "      <td>6</td>\n",
       "      <td>0</td>\n",
       "      <td>199</td>\n",
       "    </tr>\n",
       "    <tr>\n",
       "      <th>3</th>\n",
       "      <td>1</td>\n",
       "      <td>Кира</td>\n",
       "      <td>22</td>\n",
       "      <td>Тюмень</td>\n",
       "      <td>ultra</td>\n",
       "      <td>2694.783254</td>\n",
       "      <td>18.511000</td>\n",
       "      <td>2021-08-11</td>\n",
       "      <td>8</td>\n",
       "      <td>6</td>\n",
       "      <td>0</td>\n",
       "      <td>199</td>\n",
       "    </tr>\n",
       "    <tr>\n",
       "      <th>4</th>\n",
       "      <td>1</td>\n",
       "      <td>Кира</td>\n",
       "      <td>22</td>\n",
       "      <td>Тюмень</td>\n",
       "      <td>ultra</td>\n",
       "      <td>4028.687306</td>\n",
       "      <td>26.265803</td>\n",
       "      <td>2021-08-28</td>\n",
       "      <td>8</td>\n",
       "      <td>6</td>\n",
       "      <td>0</td>\n",
       "      <td>199</td>\n",
       "    </tr>\n",
       "  </tbody>\n",
       "</table>\n",
       "</div>"
      ],
      "text/plain": [
       "   user_id  name  age    city subscription_type     distance   duration  \\\n",
       "0        1  Кира   22  Тюмень             ultra  4409.919140  25.599769   \n",
       "1        1  Кира   22  Тюмень             ultra  2617.592153  15.816871   \n",
       "2        1  Кира   22  Тюмень             ultra   754.159807   6.232113   \n",
       "3        1  Кира   22  Тюмень             ultra  2694.783254  18.511000   \n",
       "4        1  Кира   22  Тюмень             ultra  4028.687306  26.265803   \n",
       "\n",
       "        date  month  minute_price  start_ride_price  subscription_fee  \n",
       "0 2021-01-01      1             6                 0               199  \n",
       "1 2021-01-18      1             6                 0               199  \n",
       "2 2021-04-20      4             6                 0               199  \n",
       "3 2021-08-11      8             6                 0               199  \n",
       "4 2021-08-28      8             6                 0               199  "
      ]
     },
     "execution_count": 29,
     "metadata": {},
     "output_type": "execute_result"
    }
   ],
   "source": [
    "pd.set_option('display.max_columns', None)\n",
    "good_data.head()"
   ]
  },
  {
   "cell_type": "code",
   "execution_count": 30,
   "id": "c335a34c",
   "metadata": {},
   "outputs": [
    {
     "data": {
      "text/plain": [
       "user_id              0\n",
       "name                 0\n",
       "age                  0\n",
       "city                 0\n",
       "subscription_type    0\n",
       "distance             0\n",
       "duration             0\n",
       "date                 0\n",
       "month                0\n",
       "minute_price         0\n",
       "start_ride_price     0\n",
       "subscription_fee     0\n",
       "dtype: int64"
      ]
     },
     "execution_count": 30,
     "metadata": {},
     "output_type": "execute_result"
    }
   ],
   "source": [
    "#проверим пропуски в новом датафрейме\n",
    "good_data.isnull().sum()"
   ]
  },
  {
   "cell_type": "code",
   "execution_count": 31,
   "id": "9b8597eb",
   "metadata": {},
   "outputs": [],
   "source": [
    "#удалим неуспешные поездки - т.е. те, которые продлились менее 30 секунд\n",
    "#good_data.drop(good_data[good_data['duration'] <= 0.5].index, inplace = True)"
   ]
  },
  {
   "cell_type": "code",
   "execution_count": 32,
   "id": "e90f79e8",
   "metadata": {},
   "outputs": [],
   "source": [
    "#ch_shape = 1 - 17973 / 18068\n",
    "#ch_shape"
   ]
  },
  {
   "cell_type": "markdown",
   "id": "4f0b369e",
   "metadata": {},
   "source": [
    "Разделим наш получившийся сводный дата фрейм на два: с типом подписки free и с типом подписки ultra.\n",
    "И проанализируем данные из этих датафреймов отдельно исходя из задания проекта:\n",
    "Визуализируйте информацию о расстоянии и времени поездок для пользователей обеих категорий."
   ]
  },
  {
   "cell_type": "code",
   "execution_count": 33,
   "id": "48b35b6b",
   "metadata": {},
   "outputs": [],
   "source": [
    "good_data_free = good_data.query(\"`subscription_type` == 'free'\")\n",
    "good_data_ultra = good_data.query(\"`subscription_type` == 'ultra'\")"
   ]
  },
  {
   "cell_type": "markdown",
   "id": "ab844d60",
   "metadata": {},
   "source": [
    "### Визуализация данных о пользователях с типом подписки free"
   ]
  },
  {
   "cell_type": "markdown",
   "id": "6563f544",
   "metadata": {},
   "source": [
    "#### Визуализация данных о пользователях с типом подписки free по расстоянию"
   ]
  },
  {
   "cell_type": "code",
   "execution_count": 34,
   "id": "546636ea",
   "metadata": {},
   "outputs": [
    {
     "data": {
      "image/png": "[encoded data removed]",
      "text/plain": [
       "<Figure size 432x288 with 1 Axes>"
      ]
     },
     "metadata": {
      "needs_background": "light"
     },
     "output_type": "display_data"
    },
    {
     "data": {
      "text/plain": [
       "count    11568.000000\n",
       "mean      3045.495282\n",
       "std       1246.173806\n",
       "min          0.855683\n",
       "25%       2366.562689\n",
       "50%       3114.648465\n",
       "75%       3905.697894\n",
       "max       7211.007745\n",
       "Name: distance, dtype: float64"
      ]
     },
     "execution_count": 34,
     "metadata": {},
     "output_type": "execute_result"
    }
   ],
   "source": [
    "plt.hist(good_data_free['distance'], bins=40, range = (0, 7000))\n",
    "plt.title('Расстояние, тариф free')\n",
    "plt.xlabel('Расстояние, м')\n",
    "plt.ylabel('Количество поездок')\n",
    "plt.show()\n",
    "\n",
    "#выведем описание диаграммы\n",
    "good_data_free['distance'].describe()"
   ]
  },
  {
   "cell_type": "markdown",
   "id": "98c11cb2",
   "metadata": {},
   "source": [
    "<div class=\"alert alert-block\" style=\"background-color: gainsboro\">\n",
    "<g> В среднем с типом подписки free проезжают 3,1 км. \n",
    "    Большая часть пользователей используют самокат на расстояние 2,4 - 3,9 км</g>\n",
    "</div>"
   ]
  },
  {
   "cell_type": "markdown",
   "id": "847ec297",
   "metadata": {},
   "source": [
    "#### Визуализация данных о пользователях с типом подписки free по времени поездки"
   ]
  },
  {
   "cell_type": "code",
   "execution_count": 35,
   "id": "374eefe1",
   "metadata": {},
   "outputs": [
    {
     "data": {
      "image/png": "[encoded data removed]",
      "text/plain": [
       "<Figure size 432x288 with 1 Axes>"
      ]
     },
     "metadata": {
      "needs_background": "light"
     },
     "output_type": "display_data"
    },
    {
     "data": {
      "text/plain": [
       "<Figure size 1440x1440 with 0 Axes>"
      ]
     },
     "metadata": {},
     "output_type": "display_data"
    },
    {
     "data": {
      "text/plain": [
       "count    11568.000000\n",
       "mean        17.390909\n",
       "std          6.326803\n",
       "min          0.500000\n",
       "25%         12.958437\n",
       "50%         17.326890\n",
       "75%         21.594071\n",
       "max         34.948498\n",
       "Name: duration, dtype: float64"
      ]
     },
     "execution_count": 35,
     "metadata": {},
     "output_type": "execute_result"
    }
   ],
   "source": [
    "plt.hist(good_data_free['duration'], bins=30, range = (0, 35))\n",
    "plt.title('Время, тариф free')\n",
    "plt.xlabel('Время поездки, мин')\n",
    "plt.ylabel('Количество поездок')\n",
    "plt.figure(figsize=(20,20))\n",
    "plt.show()\n",
    "\n",
    "#выведем описание диаграммы\n",
    "good_data_free['duration'].describe()"
   ]
  },
  {
   "cell_type": "markdown",
   "id": "127d6b4d",
   "metadata": {},
   "source": [
    "Да, так действительно легче делать выводы о двух выборках!"
   ]
  },
  {
   "cell_type": "markdown",
   "id": "31804886",
   "metadata": {},
   "source": [
    "<div class=\"alert alert-block\" style=\"background-color: gainsboro\">\n",
    "<g> В среднем с типом подписки free пользователи используют самокат 17,4 мин. \n",
    "    Большая часть пользователей используют самокат от 13-ти до 22-х минут </g>\n",
    "</div>"
   ]
  },
  {
   "cell_type": "markdown",
   "id": "7bcc741b",
   "metadata": {},
   "source": [
    "### Визуализация данных о пользователях с типом подписки ultra"
   ]
  },
  {
   "cell_type": "markdown",
   "id": "3e96a144",
   "metadata": {},
   "source": [
    "#### Визуализация данных о пользователях с типом подписки ultra по расстоянию"
   ]
  },
  {
   "cell_type": "code",
   "execution_count": 36,
   "id": "83665da4",
   "metadata": {},
   "outputs": [
    {
     "data": {
      "image/png": "[encoded data removed]",
      "text/plain": [
       "<Figure size 432x288 with 1 Axes>"
      ]
     },
     "metadata": {
      "needs_background": "light"
     },
     "output_type": "display_data"
    },
    {
     "data": {
      "text/plain": [
       "count    6500.000000\n",
       "mean     3115.445388\n",
       "std       836.895330\n",
       "min       244.210438\n",
       "25%      2785.444017\n",
       "50%      3148.637229\n",
       "75%      3560.574425\n",
       "max      5699.769662\n",
       "Name: distance, dtype: float64"
      ]
     },
     "execution_count": 36,
     "metadata": {},
     "output_type": "execute_result"
    }
   ],
   "source": [
    "plt.hist(good_data_ultra['distance'], bins=40, range = (0, 7000))\n",
    "plt.title('Расстояние, тариф free')\n",
    "plt.xlabel('Расстояние, м')\n",
    "plt.ylabel('Количество поездок')\n",
    "plt.show()\n",
    "\n",
    "#выведем описание диаграммы\n",
    "good_data_ultra['distance'].describe()"
   ]
  },
  {
   "cell_type": "markdown",
   "id": "41a71a7e",
   "metadata": {},
   "source": [
    "<div class=\"alert alert-block\" style=\"background-color: gainsboro\">\n",
    "<g> В среднем с типом подписки ultra проезжают 3,15 км. \n",
    "    Есть два пиковых значения в диаграмме, значит можем предположить, что есть две группы пользователей:\n",
    "    та, которая использует самокат на очень короткие расстояния до 1,5 км.\n",
    "    и та, которая использует самокат на более длительные расстояния от 2,3-х до 5-ти км.\n",
    "    Большая часть пользователей используют самокат на расстояние от 2,8 до 3,6 км.\n",
    "    </g>\n",
    "</div>"
   ]
  },
  {
   "cell_type": "markdown",
   "id": "d5deda34",
   "metadata": {},
   "source": [
    "#### Визуализация данных о пользователях с типом подписки ultra по времени использования"
   ]
  },
  {
   "cell_type": "code",
   "execution_count": 37,
   "id": "bf498f41",
   "metadata": {},
   "outputs": [
    {
     "data": {
      "image/png": "[encoded data removed]",
      "text/plain": [
       "<Figure size 432x288 with 1 Axes>"
      ]
     },
     "metadata": {
      "needs_background": "light"
     },
     "output_type": "display_data"
    },
    {
     "data": {
      "text/plain": [
       "<Figure size 1440x1440 with 0 Axes>"
      ]
     },
     "metadata": {},
     "output_type": "display_data"
    },
    {
     "data": {
      "text/plain": [
       "count    6500.000000\n",
       "mean       18.541985\n",
       "std         5.572048\n",
       "min         3.760353\n",
       "25%        14.524654\n",
       "50%        18.178153\n",
       "75%        21.884129\n",
       "max        40.823963\n",
       "Name: duration, dtype: float64"
      ]
     },
     "execution_count": 37,
     "metadata": {},
     "output_type": "execute_result"
    }
   ],
   "source": [
    "plt.hist(good_data_ultra['duration'], bins=30, range = (0, 35))\n",
    "plt.title('Время, тариф ultra')\n",
    "plt.xlabel('Время поездки, мин')\n",
    "plt.ylabel('Количество поездок')\n",
    "plt.figure(figsize=(20,20))\n",
    "plt.show()\n",
    "\n",
    "#выведем описание диаграммы\n",
    "good_data_ultra['duration'].describe()"
   ]
  },
  {
   "cell_type": "markdown",
   "id": "08098c02",
   "metadata": {},
   "source": [
    "<div class=\"alert alert-block\" style=\"background-color: gainsboro\">\n",
    "<g> В среднем с типом подписки ultra пользователи используют самокат 18,18 мин.\n",
    "    Большая часть пользователей пользуются самокатом 14,5 - 21,9 мин </g>\n",
    "</div>"
   ]
  },
  {
   "cell_type": "code",
   "execution_count": 38,
   "id": "995e22b0",
   "metadata": {},
   "outputs": [
    {
     "data": {
      "image/png": "[encoded data removed]",
      "text/plain": [
       "<Figure size 432x288 with 1 Axes>"
      ]
     },
     "metadata": {
      "needs_background": "light"
     },
     "output_type": "display_data"
    },
    {
     "data": {
      "text/plain": [
       "count    6500.000000\n",
       "mean     3115.445388\n",
       "std       836.895330\n",
       "min       244.210438\n",
       "25%      2785.444017\n",
       "50%      3148.637229\n",
       "75%      3560.574425\n",
       "max      5699.769662\n",
       "Name: distance, dtype: float64"
      ]
     },
     "execution_count": 38,
     "metadata": {},
     "output_type": "execute_result"
    }
   ],
   "source": [
    "plt.hist(good_data_free['distance'], bins=40, range = (0, 7000))\n",
    "plt.hist(good_data_ultra['distance'], bins=40, range = (0, 7000), alpha = 0.7)\n",
    "\n",
    "plt.title('Графики распределения количества поездок в засимости от их расстояния в разных тарифах')\n",
    "plt.xlabel('Расстояние, м')\n",
    "plt.ylabel('Количество поездок')\n",
    "plt.show()\n",
    "\n",
    "#выведем описание диаграммы\n",
    "good_data_free['distance'].describe()\n",
    "\n",
    "#выведем описание диаграммы\n",
    "good_data_ultra['distance'].describe()"
   ]
  },
  {
   "cell_type": "code",
   "execution_count": 39,
   "id": "9838f329",
   "metadata": {},
   "outputs": [
    {
     "data": {
      "image/png": "[encoded data removed]",
      "text/plain": [
       "<Figure size 432x288 with 1 Axes>"
      ]
     },
     "metadata": {
      "needs_background": "light"
     },
     "output_type": "display_data"
    },
    {
     "data": {
      "text/plain": [
       "count    6500.000000\n",
       "mean     3115.445388\n",
       "std       836.895330\n",
       "min       244.210438\n",
       "25%      2785.444017\n",
       "50%      3148.637229\n",
       "75%      3560.574425\n",
       "max      5699.769662\n",
       "Name: distance, dtype: float64"
      ]
     },
     "execution_count": 39,
     "metadata": {},
     "output_type": "execute_result"
    }
   ],
   "source": [
    "plt.hist(good_data_free['duration'], bins=40, range = (0, 50))\n",
    "plt.hist(good_data_ultra['duration'], bins=40, range = (0, 50), alpha = 0.7)\n",
    "\n",
    "plt.title('Графики распределения количества поездок в засимости от их расстояния в разных тарифах')\n",
    "plt.xlabel('Расстояние, м')\n",
    "plt.ylabel('Количество поездок')\n",
    "plt.show()\n",
    "\n",
    "#выведем описание диаграммы\n",
    "good_data_free['distance'].describe()\n",
    "\n",
    "#выведем описание диаграммы\n",
    "good_data_ultra['distance'].describe()"
   ]
  },
  {
   "cell_type": "markdown",
   "id": "24f87a98",
   "metadata": {},
   "source": [
    "**Общий вывод по Шагу 4:**"
   ]
  },
  {
   "cell_type": "markdown",
   "id": "fa384ebc",
   "metadata": {},
   "source": [
    "<div class=\"alert alert-block\" style=\"background-color: gainsboro\">\n",
    "<g> Для подписки типа free: в среднем с типом подписки free проезжают 3,11 км. В среднем с типом подписки free пользователи используют самокат 17,4 мин.Большая часть пользователей используют самокат от 13-ти до 22-х минут.\n",
    "Для подписки типа ultra: В среднем с типом подписки ultra проезжают 3,15 км. В среднем с типом подписки ultra пользователи используют самокат 18,18 мин.Большая часть пользователейс типом подписки ultra  пользуются самокатом 14,5 - 21,9 мин\n",
    "    \n",
    "Сравнивая пользователей с разными типами подписок можно предположить, что: пользователи с типом подписки ultra, преодолевают незначительно, но бОльшие расстояния, чем с типом подписки free. Время использования самокатов практически идентично, но пользователи с типом подписки ultra незначительно, но длительнее используют самокат. </g>\n",
    "</div>"
   ]
  },
  {
   "cell_type": "markdown",
   "id": "402d620f",
   "metadata": {},
   "source": [
    "## Шаг 5. Подсчёт выручки"
   ]
  },
  {
   "cell_type": "markdown",
   "id": "4239ca71",
   "metadata": {},
   "source": [
    "Создадим датафрейм с агрегированными данными о поездках на основе датафрейма с объединёнными данными из шага 4 через сводную таблицу: найдем суммарное расстояние, количество поездок и суммарное время для каждого пользователя за каждый месяц."
   ]
  },
  {
   "cell_type": "code",
   "execution_count": 40,
   "id": "7c720284",
   "metadata": {},
   "outputs": [],
   "source": [
    "#Добавлю значения переменных для каждого из тарифов:\n",
    "\n",
    "#subscription_type = free\n",
    "fee_free = 0 #абонентская плата\n",
    "emp_free = 8 #стоимость каждой минуты использования\n",
    "startpay_free = 50 #стоимость старта\n",
    "\n",
    "#subscription_type = ultra\n",
    "fee_ultra = 199 #абонентская плата\n",
    "emp_ultra = 6 #стоимость каждой минуты использования\n",
    "startpay_ultra = 0 #стоимость старта"
   ]
  },
  {
   "cell_type": "code",
   "execution_count": 41,
   "id": "cd3a76f1",
   "metadata": {},
   "outputs": [],
   "source": [
    "#Округлим значения длительности поездки до ближайшего целого\n",
    "good_data['duration'] = np.ceil(good_data['duration'])"
   ]
  },
  {
   "cell_type": "code",
   "execution_count": 42,
   "id": "9bf67802",
   "metadata": {},
   "outputs": [],
   "source": [
    "total_data = pd.pivot_table(good_data, index=['month', 'user_id'],\n",
    "                           values = ['distance', 'duration', 'name', 'subscription_type'],\n",
    "                           aggfunc = {'distance': sum, 'duration' : sum, 'name' : len, 'subscription_type' : min})\n",
    "\n",
    "#если будет возможность, то мне было бы интересно узнать как вернее было бы определить для столбцов с булевым значением,\n",
    "#которое может меняться в зависимости от месяца использования"
   ]
  },
  {
   "cell_type": "code",
   "execution_count": 43,
   "id": "2b69dfc3",
   "metadata": {},
   "outputs": [],
   "source": [
    "total_data.rename(columns = {'name' : 'count_name'}, inplace = True)"
   ]
  },
  {
   "cell_type": "code",
   "execution_count": 44,
   "id": "724fbc51",
   "metadata": {},
   "outputs": [
    {
     "data": {
      "text/html": [
       "<div>\n",
       "<style scoped>\n",
       "    .dataframe tbody tr th:only-of-type {\n",
       "        vertical-align: middle;\n",
       "    }\n",
       "\n",
       "    .dataframe tbody tr th {\n",
       "        vertical-align: top;\n",
       "    }\n",
       "\n",
       "    .dataframe thead th {\n",
       "        text-align: right;\n",
       "    }\n",
       "</style>\n",
       "<table border=\"1\" class=\"dataframe\">\n",
       "  <thead>\n",
       "    <tr style=\"text-align: right;\">\n",
       "      <th></th>\n",
       "      <th></th>\n",
       "      <th>distance</th>\n",
       "      <th>duration</th>\n",
       "      <th>count_name</th>\n",
       "      <th>subscription_type</th>\n",
       "    </tr>\n",
       "    <tr>\n",
       "      <th>month</th>\n",
       "      <th>user_id</th>\n",
       "      <th></th>\n",
       "      <th></th>\n",
       "      <th></th>\n",
       "      <th></th>\n",
       "    </tr>\n",
       "  </thead>\n",
       "  <tbody>\n",
       "    <tr>\n",
       "      <th rowspan=\"10\" valign=\"top\">1</th>\n",
       "      <th>1</th>\n",
       "      <td>7027.511294</td>\n",
       "      <td>42.0</td>\n",
       "      <td>2</td>\n",
       "      <td>ultra</td>\n",
       "    </tr>\n",
       "    <tr>\n",
       "      <th>1061</th>\n",
       "      <td>12637.249630</td>\n",
       "      <td>43.0</td>\n",
       "      <td>3</td>\n",
       "      <td>free</td>\n",
       "    </tr>\n",
       "    <tr>\n",
       "      <th>1063</th>\n",
       "      <td>3276.362299</td>\n",
       "      <td>10.0</td>\n",
       "      <td>1</td>\n",
       "      <td>free</td>\n",
       "    </tr>\n",
       "    <tr>\n",
       "      <th>1064</th>\n",
       "      <td>5297.324649</td>\n",
       "      <td>15.0</td>\n",
       "      <td>1</td>\n",
       "      <td>free</td>\n",
       "    </tr>\n",
       "    <tr>\n",
       "      <th>1065</th>\n",
       "      <td>14547.099333</td>\n",
       "      <td>99.0</td>\n",
       "      <td>4</td>\n",
       "      <td>free</td>\n",
       "    </tr>\n",
       "    <tr>\n",
       "      <th>1066</th>\n",
       "      <td>2809.064949</td>\n",
       "      <td>19.0</td>\n",
       "      <td>1</td>\n",
       "      <td>free</td>\n",
       "    </tr>\n",
       "    <tr>\n",
       "      <th>1067</th>\n",
       "      <td>3864.900780</td>\n",
       "      <td>22.0</td>\n",
       "      <td>1</td>\n",
       "      <td>free</td>\n",
       "    </tr>\n",
       "    <tr>\n",
       "      <th>1069</th>\n",
       "      <td>7007.076943</td>\n",
       "      <td>53.0</td>\n",
       "      <td>3</td>\n",
       "      <td>free</td>\n",
       "    </tr>\n",
       "    <tr>\n",
       "      <th>1071</th>\n",
       "      <td>3635.094136</td>\n",
       "      <td>15.0</td>\n",
       "      <td>1</td>\n",
       "      <td>free</td>\n",
       "    </tr>\n",
       "    <tr>\n",
       "      <th>1072</th>\n",
       "      <td>2498.615999</td>\n",
       "      <td>11.0</td>\n",
       "      <td>1</td>\n",
       "      <td>free</td>\n",
       "    </tr>\n",
       "  </tbody>\n",
       "</table>\n",
       "</div>"
      ],
      "text/plain": [
       "                   distance  duration  count_name subscription_type\n",
       "month user_id                                                      \n",
       "1     1         7027.511294      42.0           2             ultra\n",
       "      1061     12637.249630      43.0           3              free\n",
       "      1063      3276.362299      10.0           1              free\n",
       "      1064      5297.324649      15.0           1              free\n",
       "      1065     14547.099333      99.0           4              free\n",
       "      1066      2809.064949      19.0           1              free\n",
       "      1067      3864.900780      22.0           1              free\n",
       "      1069      7007.076943      53.0           3              free\n",
       "      1071      3635.094136      15.0           1              free\n",
       "      1072      2498.615999      11.0           1              free"
      ]
     },
     "execution_count": 44,
     "metadata": {},
     "output_type": "execute_result"
    }
   ],
   "source": [
    "#выведем получившиеся данные в таблице в зависимости от месяца использования\n",
    "total_data.sort_values(by='month').head(10)"
   ]
  },
  {
   "cell_type": "code",
   "execution_count": 45,
   "id": "7dbf51af",
   "metadata": {},
   "outputs": [
    {
     "data": {
      "text/html": [
       "<div>\n",
       "<style scoped>\n",
       "    .dataframe tbody tr th:only-of-type {\n",
       "        vertical-align: middle;\n",
       "    }\n",
       "\n",
       "    .dataframe tbody tr th {\n",
       "        vertical-align: top;\n",
       "    }\n",
       "\n",
       "    .dataframe thead th {\n",
       "        text-align: right;\n",
       "    }\n",
       "</style>\n",
       "<table border=\"1\" class=\"dataframe\">\n",
       "  <thead>\n",
       "    <tr style=\"text-align: right;\">\n",
       "      <th></th>\n",
       "      <th></th>\n",
       "      <th>distance</th>\n",
       "      <th>duration</th>\n",
       "      <th>count_name</th>\n",
       "      <th>subscription_type</th>\n",
       "      <th>revenue_per_month</th>\n",
       "    </tr>\n",
       "    <tr>\n",
       "      <th>month</th>\n",
       "      <th>user_id</th>\n",
       "      <th></th>\n",
       "      <th></th>\n",
       "      <th></th>\n",
       "      <th></th>\n",
       "      <th></th>\n",
       "    </tr>\n",
       "  </thead>\n",
       "  <tbody>\n",
       "    <tr>\n",
       "      <th rowspan=\"5\" valign=\"top\">1</th>\n",
       "      <th>1</th>\n",
       "      <td>7027.511294</td>\n",
       "      <td>42.0</td>\n",
       "      <td>2</td>\n",
       "      <td>ultra</td>\n",
       "      <td>451.0</td>\n",
       "    </tr>\n",
       "    <tr>\n",
       "      <th>3</th>\n",
       "      <td>3061.777147</td>\n",
       "      <td>13.0</td>\n",
       "      <td>1</td>\n",
       "      <td>ultra</td>\n",
       "      <td>277.0</td>\n",
       "    </tr>\n",
       "    <tr>\n",
       "      <th>5</th>\n",
       "      <td>3914.646990</td>\n",
       "      <td>13.0</td>\n",
       "      <td>1</td>\n",
       "      <td>ultra</td>\n",
       "      <td>277.0</td>\n",
       "    </tr>\n",
       "    <tr>\n",
       "      <th>7</th>\n",
       "      <td>6478.080979</td>\n",
       "      <td>28.0</td>\n",
       "      <td>2</td>\n",
       "      <td>ultra</td>\n",
       "      <td>367.0</td>\n",
       "    </tr>\n",
       "    <tr>\n",
       "      <th>12</th>\n",
       "      <td>3577.151148</td>\n",
       "      <td>33.0</td>\n",
       "      <td>1</td>\n",
       "      <td>ultra</td>\n",
       "      <td>397.0</td>\n",
       "    </tr>\n",
       "  </tbody>\n",
       "</table>\n",
       "</div>"
      ],
      "text/plain": [
       "                  distance  duration  count_name subscription_type  \\\n",
       "month user_id                                                        \n",
       "1     1        7027.511294      42.0           2             ultra   \n",
       "      3        3061.777147      13.0           1             ultra   \n",
       "      5        3914.646990      13.0           1             ultra   \n",
       "      7        6478.080979      28.0           2             ultra   \n",
       "      12       3577.151148      33.0           1             ultra   \n",
       "\n",
       "               revenue_per_month  \n",
       "month user_id                     \n",
       "1     1                    451.0  \n",
       "      3                    277.0  \n",
       "      5                    277.0  \n",
       "      7                    367.0  \n",
       "      12                   397.0  "
      ]
     },
     "execution_count": 45,
     "metadata": {},
     "output_type": "execute_result"
    }
   ],
   "source": [
    "#добавим столбец с ежемесячной выручкой по типам тарифа:\n",
    "\n",
    "def revenue(row):\n",
    "    if row['subscription_type'] == 'ultra':\n",
    "        return emp_ultra * row['duration'] + fee_ultra\n",
    "    elif row['subscription_type'] == 'free':\n",
    "        return emp_free * row['duration'] + startpay_free * row['count_name']\n",
    "    else:\n",
    "        return 'Not subscription type'\n",
    "    \n",
    "\n",
    "total_data['revenue_per_month'] = total_data.apply(revenue, axis=1)\n",
    "total_data.head()"
   ]
  },
  {
   "cell_type": "markdown",
   "id": "e13b41fc",
   "metadata": {},
   "source": [
    "**Общий вывод по Шагу 5:**"
   ]
  },
  {
   "cell_type": "markdown",
   "id": "e4d22e62",
   "metadata": {},
   "source": [
    "<div class=\"alert alert-block\" style=\"background-color: gainsboro\">\n",
    "<g> Мы нашли суммарное расстояние, количество поездок и суммарное время для каждого пользователя за каждый месяц. Также добавили столбец с помесячной выручкой, которую принес каждый пользователь. </g>\n",
    "</div>"
   ]
  },
  {
   "cell_type": "markdown",
   "id": "41545ac0",
   "metadata": {},
   "source": [
    "## Шаг 6. Проверка гипотез"
   ]
  },
  {
   "cell_type": "markdown",
   "id": "75def91c",
   "metadata": {},
   "source": [
    "Продакт-менеджеры сервиса хотят увеличить количество пользователей с подпиской. Для этого они будут проводить различные акции, но сначала нужно выяснить несколько важных моментов, которые мы проанализируем с помощью проверок нескольких гипотез:\n",
    "\n",
    "- тратят ли пользователи с подпиской больше времени на поездки?\n",
    "- превышает ли среднее расстояние, которое проезжают пользователи с подпиской за одну поездку 3130 м?\n",
    "- помесячная выручка от пользователей с подпиской выше, чем выручка от пользователей без подписки?"
   ]
  },
  {
   "cell_type": "markdown",
   "id": "3dfd189f",
   "metadata": {},
   "source": [
    "### Проверка гипотезы: тратят ли пользователи с подпиской больше времени на поездки?"
   ]
  },
  {
   "cell_type": "markdown",
   "id": "afd0199f",
   "metadata": {},
   "source": [
    "Проверим гипотезу: пользователи с подпиской тратят больше времени на поездки, чем пользователи на бесплатном тарифе.\n",
    "- За нулевую гипотезу возьмем: время использования самоката с типом подписки ultra равно времени использования самоката с типом подписки free\n",
    "- За альтернативную гипотезу возьмем: время использования самоката с типом подписки ultra больше времени использования самоката с типом подписки free"
   ]
  },
  {
   "cell_type": "code",
   "execution_count": 46,
   "id": "ce2b2f76",
   "metadata": {},
   "outputs": [
    {
     "name": "stdout",
     "output_type": "stream",
     "text": [
      "1.2804098316645618e-34\n",
      "Отвергаем нулевую гипотезу\n",
      "среднее значение для столбца с длительностью поездки в тарифом free = 17.39\n",
      "среднее значение для столбца с длительностью поездки в тарифом ultra = 18.54\n"
     ]
    }
   ],
   "source": [
    "ultra = good_data_ultra['duration'] \n",
    "free = good_data_free['duration']\n",
    "results = st.ttest_ind(ultra, free, alternative = 'greater')\n",
    "alpha = 0.05\n",
    "\n",
    "print(results.pvalue)\n",
    "\n",
    "if results.pvalue < alpha:\n",
    "    print('Отвергаем нулевую гипотезу')\n",
    "else:\n",
    "    print('Не удалось отвергнуть нулевую гипотезу')\n",
    "\n",
    "good_data_free_mean=good_data_free['duration'].mean().round(2)\n",
    "good_data_ultra_mean=good_data_ultra['duration'].mean().round(2)    \n",
    "print(f'среднее значение для столбца с длительностью поездки в тарифом free = {good_data_free_mean}')\n",
    "print(f'среднее значение для столбца с длительностью поездки в тарифом ultra = {good_data_ultra_mean}')"
   ]
  },
  {
   "cell_type": "markdown",
   "id": "a711bc0b",
   "metadata": {},
   "source": [
    "### Проверка гипотезы: превышает ли среднее расстояние, которое проезжают пользователи с подпиской за одну поездку 3130 м?\n"
   ]
  },
  {
   "cell_type": "markdown",
   "id": "3dcae930",
   "metadata": {},
   "source": [
    "Проверим гипотезу: превышает ли среднее расстояние, которое проезжают пользователи с подпиской за одну поездку 3130 м.?\n",
    "- За нулевую гипотезу возьмем: расстояние на подписке ultra = 3130 м.\n",
    "- За альтернативную гипотезу возьмем: расстояние на подписке ultra меньше 3130 м."
   ]
  },
  {
   "cell_type": "code",
   "execution_count": 47,
   "id": "9e36d871",
   "metadata": {},
   "outputs": [
    {
     "name": "stdout",
     "output_type": "stream",
     "text": [
      "0.9195368847849785\n",
      "Не удалось отвергнуть нулевую гипотезу\n",
      "среднее значение для столбца с расстоянием одной поездки в тарифом ultra = 3115.45\n"
     ]
    }
   ],
   "source": [
    "#создадим датафрейс с расстоянием для пользователей с подпиской типа ultra\n",
    "data_ultra_dist = good_data_ultra['distance']\n",
    "\n",
    "hipo_value = 3130.0\n",
    "alpha = 0.05\n",
    "\n",
    "results = st.ttest_1samp(data_ultra_dist, hipo_value, alternative='greater')\n",
    "    \n",
    "print(results.pvalue)\n",
    "\n",
    "if (results.pvalue < alpha):\n",
    "    print('Отвергаем нулевую гипотезу')\n",
    "else:\n",
    "    print('Не удалось отвергнуть нулевую гипотезу')\n",
    "\n",
    "\n",
    "data_ultra_dist_mean = good_data_ultra['distance'].mean().round(2)\n",
    "\n",
    "print(f'среднее значение для столбца с расстоянием одной поездки в тарифом ultra = {data_ultra_dist_mean}')"
   ]
  },
  {
   "cell_type": "markdown",
   "id": "6d334c98",
   "metadata": {},
   "source": [
    "### Проверка гипотезы: помесячная выручка от пользователей с подпиской выше, чем выручка от пользователей без подписки?"
   ]
  },
  {
   "cell_type": "markdown",
   "id": "010444c5",
   "metadata": {},
   "source": [
    "Важно понять, тратят ли пользователи с подпиской больше времени на поездки?\n",
    "Если да, то пользователи с подпиской могут быть «выгоднее» для компании. Проверим эту гипотезу.\n",
    "- За нулевую гипотезу возьмем: выручка пользователей за месяц на подписке ultra равна выручке за месяц пользователей на подписке free\n",
    "- За альтернативную гипотезу возьмем: выручка пользователей за месяц на подписке ultra больше выручки за месяц пользователей на подписке free"
   ]
  },
  {
   "cell_type": "code",
   "execution_count": 48,
   "id": "8236faa0",
   "metadata": {},
   "outputs": [
    {
     "name": "stdout",
     "output_type": "stream",
     "text": [
      "1.8850394384715216e-31\n",
      "Отвергаем нулевую гипотезу\n"
     ]
    }
   ],
   "source": [
    "#создадим датафрейс с выручкой за месяц для пользователей с подпиской типа ultra\n",
    "data_ultra_per_month = total_data.loc[total_data['subscription_type'] == 'ultra', 'revenue_per_month']\n",
    "                        \n",
    "#создадим датафрейс с выручкой за месяц для пользователей с подпиской типа free\n",
    "data_free_per_month = total_data.loc[total_data['subscription_type'] == 'free', 'revenue_per_month'] \n",
    "\n",
    "\n",
    "results = st.ttest_ind(data_ultra_per_month, data_free_per_month, alternative = 'greater')\n",
    "alpha = 0.05\n",
    "print(results.pvalue)\n",
    "\n",
    "if results.pvalue < alpha:\n",
    "    print('Отвергаем нулевую гипотезу')\n",
    "else:\n",
    "    print('Не удалось отвергнуть нулевую гипотезу')"
   ]
  },
  {
   "cell_type": "code",
   "execution_count": 49,
   "id": "8421545d",
   "metadata": {},
   "outputs": [
    {
     "name": "stdout",
     "output_type": "stream",
     "text": [
      "Средняя выручка в месяц для пользователей с подпиской типа free: 328.64\n",
      "Средняя выручка в месяц для пользователей с подпиской типа ultra: 362.79\n"
     ]
    }
   ],
   "source": [
    "mean_free = data_free_per_month.mean().round(2)\n",
    "mean_ultra = data_ultra_per_month.mean().round(2)\n",
    "\n",
    "print(\"Средняя выручка в месяц для пользователей с подпиской типа free:\", mean_free)\n",
    "print(\"Средняя выручка в месяц для пользователей с подпиской типа ultra:\", mean_ultra)"
   ]
  },
  {
   "cell_type": "markdown",
   "id": "da1b7592",
   "metadata": {},
   "source": [
    "### Проверка гипотезы: снизилось ли количество обращений в тех поддержку после обновления сервера"
   ]
  },
  {
   "cell_type": "markdown",
   "id": "b4a9e6db",
   "metadata": {},
   "source": [
    "Представьте такую ситуацию: техническая команда сервиса обновила сервера, с которыми взаимодействует мобильное приложение. Она надеется, что из-за этого количество обращений в техподдержку значимо снизилось. Некоторый файл содержит для каждого пользователя данные о количестве обращений до обновления и после него."
   ]
  },
  {
   "cell_type": "markdown",
   "id": "8d6dc579",
   "metadata": {},
   "source": [
    "Так как у нас будут выборки с данными, которые зависят от факта - обновления сервера, предположу, что здесь стоит применить гипотезу о равенстве средних значения количество обращений в техподдержку до и после изменения для парных выборок.\n",
    "\n",
    "- За нулевую гипотезу возьмем: Среднее из первой выборке равно среднему из второй выборки\n",
    "- За альтернативную: Среднее из первой выборке не равно среднему из второй выборки\n",
    "\n",
    "Для этого нужно будет использовать метод scipy.stats.ttest_rel()"
   ]
  },
  {
   "cell_type": "markdown",
   "id": "789696aa",
   "metadata": {},
   "source": [
    "**Общий вывод по Шагу 6:**"
   ]
  },
  {
   "cell_type": "markdown",
   "id": "9a24c0cf",
   "metadata": {},
   "source": [
    "<div class=\"alert alert-block\" style=\"background-color: gainsboro\">\n",
    "<g> Пользователи с подпиской тратят больше времени на поездки, чем пользователи на бесплатном тарифе. Отвергли нулевую гипотезу\n",
    "Пользователи с подпиской проезжают расстояние, не превышающее 3130 метров за одну поездку. Не удалось отвергнуть нулевую гипотезу\n",
    "Помесячная выручка от пользователей с подпиской выше, чем выручка от пользователей без подписки. Отвергли нулевую гипотезу.\n",
    "    Для проверки гипотезы о снижении количества обращений необходимо будет нужно использовать метод scipy.stats.ttest_rel()\n",
    "    </g>\n",
    "</div>"
   ]
  },
  {
   "cell_type": "markdown",
   "id": "61213c5e",
   "metadata": {},
   "source": [
    "## Шаг 7. Распределения"
   ]
  },
  {
   "cell_type": "markdown",
   "id": "0b9bec54",
   "metadata": {},
   "source": [
    "### Задача 1 по биномиальному распределению"
   ]
  },
  {
   "cell_type": "markdown",
   "id": "6b5af9fb",
   "metadata": {},
   "source": [
    "Отделу маркетинга GoFast поставили задачу: нужно провести акцию с раздачей промокодов на один бесплатный месяц подписки, в рамках которой как минимум 100 существующих клиентов должны продлить эту подписку. То есть по завершении периода действия подписки пользователь может либо отказаться от неё, либо продлить, совершив соответствующий платёж. \n",
    "Эта акция уже проводилась ранее и по итогу выяснилось, что после бесплатного пробного периода подписку продлевают 10 % пользователей. Выясните, какое минимальное количество промокодов нужно разослать, чтобы вероятность не выполнить план была примерно 5 %. Подберите параметры распределения, описывающего эту ситуацию, постройте график распределения и сформулируйте ответ на вопрос о количестве промокодов."
   ]
  },
  {
   "cell_type": "markdown",
   "id": "da0d4db4",
   "metadata": {},
   "source": [
    "Биномиальное распределение описывает вероятность успеха в серии независимых бинарных экспериментов. В данном случае мы хотим определить количество клиентов, продлевших подписку после бесплатного периода, при заданном условии, что вероятность продления подписки равна 10%. \n",
    " \n",
    "Чтобы определить минимальное количество промокодов, нам нужно найти значение параметра N (количество промокодов), при котором вероятность не выполнить план (менее 100 клиентов продлевают подписку) составляет около 5%. \n",
    " \n",
    "Значит, стоить построить график распределения с использованием различных значений параметра N и найти такое значение, при котором вероятность опережения не выполнения плана составляет около 5%."
   ]
  },
  {
   "cell_type": "code",
   "execution_count": 50,
   "id": "74b411bc",
   "metadata": {},
   "outputs": [],
   "source": [
    "#Определим параметры биномиального распределения\n",
    "\n",
    "#вероятность успешного продления подписки\n",
    "p = 0.1\n",
    "#количество продлений подписки\n",
    "k = 100"
   ]
  },
  {
   "cell_type": "code",
   "execution_count": 51,
   "id": "881256ea",
   "metadata": {},
   "outputs": [
    {
     "data": {
      "image/png": "[encoded data removed]",
      "text/plain": [
       "<Figure size 432x288 with 1 Axes>"
      ]
     },
     "metadata": {
      "needs_background": "light"
     },
     "output_type": "display_data"
    }
   ],
   "source": [
    "\"\"\"Построим график распределения с использованием значений параметра N в диапазоне от 100 до 1565\n",
    "(возьму за максимальное значение общее количество строк в изначальной таблице)\"\"\"\n",
    "\n",
    "N_values = range(100, 1565) \n",
    "#взяла за максимальное значение количество строк в изначальной таблице\n",
    "cdf_values = [st.binom.cdf(k, N, p) for N in N_values] \n",
    "\n",
    "plt.plot(N_values, cdf_values) \n",
    "plt.yticks(np.arange(min(cdf_values), max(cdf_values)+0.1, 0.1))\n",
    "\n",
    "plt.xlabel('Количество промокодов (N)')\n",
    "plt.ylabel('Вероятность выполнения плана') \n",
    "plt.title('График распределения')\n",
    "plt.grid(b=True)\n",
    "\n",
    "plt.show() "
   ]
  },
  {
   "cell_type": "markdown",
   "id": "254a5335",
   "metadata": {},
   "source": [
    "По графику можно предположить, что количество промокодов, которые необходимо разослать примерно равно 1000.\n",
    "\n",
    "Найдем более точное значение параметра N, при котором вероятность не выполнить план (менее 100 продлений подписки) составляет около 5%.\n",
    "Я нашла метод np.abs() для нахождения ближайшего значения к 0.05 (5%) и функции np.argmin(), которая возвращает массив, содержащий индексы минимальных элементов."
   ]
  },
  {
   "cell_type": "code",
   "execution_count": 52,
   "id": "6e311102",
   "metadata": {},
   "outputs": [
    {
     "name": "stdout",
     "output_type": "stream",
     "text": [
      "Минимальное количество промокодов для отправки =  1172\n"
     ]
    }
   ],
   "source": [
    "N_value = N_values[np.abs(np.array(cdf_values) - 0.05).argmin()] \n",
    "print(\"Минимальное количество промокодов для отправки = \", N_value) "
   ]
  },
  {
   "cell_type": "markdown",
   "id": "fd4eae01",
   "metadata": {},
   "source": [
    "<div class=\"alert alert-block\" style=\"background-color: gainsboro\">\n",
    "<g> Минимальное количество промокодов, которые требуется разослать, чтобы вероятность не выполнить план по продлению подписки составляла примерно 5% =  1172 </g>\n",
    "</div>"
   ]
  },
  {
   "cell_type": "markdown",
   "id": "3bbb6004",
   "metadata": {},
   "source": [
    "### Задача 2 по биномиальному распределению"
   ]
  },
  {
   "cell_type": "markdown",
   "id": "32a3a057",
   "metadata": {},
   "source": [
    "Отдел маркетинга рассылает клиентам push-уведомления в мобильном приложении. Клиенты могут открыть его или не открывать. Известно, что уведомления открывают около 40 % получивших клиентов. Отдел планирует разослать 1 млн уведомлений. С помощью аппроксимации постройте примерный график распределения и оцените вероятность того, что уведомление откроют не более 399,5 тыс. пользователей."
   ]
  },
  {
   "cell_type": "markdown",
   "id": "b22a1156",
   "metadata": {},
   "source": [
    "Нам необходимо определить количество клиентов, которые откроют уведомление после разосланных 1 млн уведомлений, при условии, что вероятность открытия равна 0.4 (40% открывают уведомления)."
   ]
  },
  {
   "cell_type": "code",
   "execution_count": 53,
   "id": "aacca6b3",
   "metadata": {},
   "outputs": [],
   "source": [
    "#определим параметры нормального распределения\n",
    "\n",
    "# количество разосланных уведомлений\n",
    "n = 1000000\n",
    "\n",
    "# вероятность открытия уведомление\n",
    "p = 0.4"
   ]
  },
  {
   "cell_type": "code",
   "execution_count": 54,
   "id": "535e43e1",
   "metadata": {},
   "outputs": [
    {
     "name": "stdout",
     "output_type": "stream",
     "text": [
      "mu = 400000.0\n",
      "sigma = 489.89794855663564\n"
     ]
    }
   ],
   "source": [
    "#вычислим среднее значение и стандартное отклонение нормального распределения\n",
    "mu = n * p\n",
    "sigma = np.sqrt(n * p * (1 - p))\n",
    "\n",
    "print('mu =',mu)\n",
    "print('sigma =',sigma)"
   ]
  },
  {
   "cell_type": "code",
   "execution_count": 55,
   "id": "5f5d0c52",
   "metadata": {},
   "outputs": [
    {
     "name": "stdout",
     "output_type": "stream",
     "text": [
      "Вероятность того, что уведомление откроют не более 399,5 тыс. пользователей: 15.37%\n"
     ]
    }
   ],
   "source": [
    "#оценим вероятность того, что уведомление откроют не более 399,5 тыс. пользователей\n",
    "p_hipo = st.norm.cdf(399500, mu, sigma)\n",
    "p_hipo = \"{:.2%}\".format(p_hipo)\n",
    "\n",
    "print(\"Вероятность того, что уведомление откроют не более 399,5 тыс. пользователей:\", p_hipo)"
   ]
  },
  {
   "cell_type": "code",
   "execution_count": 56,
   "id": "e72378dc",
   "metadata": {},
   "outputs": [
    {
     "data": {
      "image/png": "[encoded data removed]",
      "text/plain": [
       "<Figure size 432x288 with 1 Axes>"
      ]
     },
     "metadata": {
      "needs_background": "light"
     },
     "output_type": "display_data"
    },
    {
     "name": "stdout",
     "output_type": "stream",
     "text": [
      "Условие выполняется\n"
     ]
    }
   ],
   "source": [
    "n = 1000000\n",
    "p = 0.4\n",
    "\n",
    "# границы промежутка, в котором будем строить аппроксимацию -\n",
    "# от n*p минус 4 ст.отклонения бином.распределения\n",
    "# до n*p плюс 4 ст.отклонения бином.распределения\n",
    "# (там, где вероятности значений почти не равны нулю)\n",
    "left = int(n * p - 4 * np.sqrt(n * p * (1 - p)))\n",
    "right = int(n * p + 4 * np.sqrt(n * p * (1 - p)))\n",
    "\n",
    "# зададим набор значений биномиальной величины на выбранном промежутке:\n",
    "# все неотрицательные целые числа от left до right\n",
    "x = list(range(max(0, left), right))\n",
    "# рисуем график биномиального распределения\n",
    "ax = plt.subplot()\n",
    "\n",
    "# используем синие о-образные маркеры и размер маркера 1\n",
    "ax.plot(x, binom.pmf(x, n, p), 'bo', ms=1, label='вероятности биномиального распределения')\n",
    "\n",
    "# зададим параметры нормального распределения равными\n",
    "# мат.ожиданию и дисперсии биномиального распределения\n",
    "mu = n * p\n",
    "sigma = np.sqrt(n * p * (1 - p))\n",
    " \n",
    "# рисуем график нормального распределения:\n",
    "# получим список из 50 чисел от left до right\n",
    "x = np.linspace(left, right, 50)\n",
    "# используем красную линию ширины 3 и прозрачности 0.3\n",
    "ax.plot(x, norm.pdf(x, mu, sigma), 'r-', lw=5, alpha=0.5, label='плотность вероятности нормального распределения')\n",
    " \n",
    "# зададим подписи по оси x в пределах ± 3 ст.отклонений от мат.ожидания\n",
    "# (последний аргумент в методе range - интервал между подписями)\n",
    "# x_ticks = list(range(int(mu - 3 * sigma), int(mu + 3 * sigma), 1))\n",
    "# ax.set_xticks(x_ticks)\n",
    "\n",
    "# настраиваем оптимальное расположение легенды и выводим график\n",
    "ax.legend(loc='best')\n",
    "plt.show()\n",
    "\n",
    "# выводим, выполняется ли наше условие аппроксимации:\n",
    "# лежит ли mu ± 3 sigma в промежутке от 0 до n:\n",
    "if (mu - (3 * sigma) >= 0) and ((mu + (3 * sigma) <= n)):\n",
    "    print('Условие выполняется')\n",
    "else:\n",
    "    print('Условие не выполняется')"
   ]
  },
  {
   "cell_type": "code",
   "execution_count": 57,
   "id": "0f9b7c8f",
   "metadata": {},
   "outputs": [],
   "source": [
    "#не нашла способа, чтобы уменьшить количество значений для xticks.\n",
    "#Буду признательна, если будет возможность подсказать.\n",
    "#Тот метод, что использовала раньше почему-то для данного графика не подходит."
   ]
  },
  {
   "cell_type": "markdown",
   "id": "d8a8898b",
   "metadata": {},
   "source": [
    "<div class=\"alert alert-block\" style=\"background-color: gainsboro\">\n",
    "<g>Вероятность того, что уведомление откроют не более 399,5 тыс. пользователей: 15.37% </g>\n",
    "</div>"
   ]
  },
  {
   "cell_type": "markdown",
   "id": "52a3ae95",
   "metadata": {},
   "source": [
    "# Общий вывод по проекту"
   ]
  },
  {
   "cell_type": "markdown",
   "id": "a10cb3c2",
   "metadata": {},
   "source": [
    "<div class=\"alert alert-block\" style=\"background-color: gainsboro\">\n",
    "<g> \n",
    "    <p>Всего в выборке представлены данные по 8-ми городам. Данных больше всего из Пятигорска и меньше всего из Москвы,\n",
    "но в целом пользователи по городам распределены практически равномерно. Пользователей с тарифом Free 54%, а с тарифом Ultra 46%. Основаная аудитория - от 23 до 27 лет. В среднем за одну поездку люди преодолевают 3,1 км и используют самокат 17,8 мин.\n",
    "    \n",
    "<p> Для анализа данных были совершены следующие действия с исходной таблицей:\n",
    "    удалены дубликаты, добавлены необходимые для анализа столбцы, а имеющиеся для анализа данные приведены к нужному формату.\n",
    "\n",
    "<p>Для подписки типа free: в среднем с типом подписки free проезжают 3,11 км.\n",
    "Для подписки типа ultra: В среднем с типом подписки ultra проезжают 3,15 км.\n",
    "В среднем с типом подписки free пользователи используют самокат 17,4 мин.\n",
    "В среднем с типом подписки ultra пользователи используют самокат 18,18 мин.\n",
    "    \n",
    "<p>Пользователи с типом подписки ultra, преодолевают незначительно, но бОльшие расстояния, чем с типом подписки free. Время использования самокатов практически идентично, но пользователи с типом подписки ultra незначительно, но длительнее используют самокат. \n",
    "    \n",
    "<p> В ходе проверки гипотез были получены следующие выводы:\n",
    "    \n",
    "Пользователи с подпиской тратят больше времени на поездки, чем пользователи на бесплатном тарифе.\n",
    "Пользователи с подпиской проезжают расстояние, не превышающее 3130 метров за одну поездку.\n",
    "Помесячная выручка от пользователей с подпиской выше, чем выручка от пользователей без подписки.\n",
    "    \n",
    "<p>По результатам выполнения задач, связанных с биномиальным распределением можно сделать следующие выводы:\n",
    "Минимальное количество промокодов, которые требуется разослать, чтобы вероятность не выполнить план по продлению подписки составляла примерно 5% = 1172. Вероятность того, что push-уведомления в мобильном приложении откроют не более 399,5 тыс. пользователей = 15.37% </g>\n",
    "</div>\n",
    "    "
   ]
  }
 ],
 "metadata": {
  "ExecuteTimeLog": [
   {
    "duration": 4,
    "start_time": "2023-09-20T11:58:29.790Z"
   },
   {
    "duration": 3,
    "start_time": "2023-09-20T11:58:33.723Z"
   },
   {
    "duration": 416,
    "start_time": "2023-09-20T12:02:11.016Z"
   },
   {
    "duration": 3,
    "start_time": "2023-09-20T12:02:22.021Z"
   },
   {
    "duration": 3,
    "start_time": "2023-09-20T12:10:02.502Z"
   },
   {
    "duration": 2,
    "start_time": "2023-09-20T12:13:00.840Z"
   },
   {
    "duration": 130,
    "start_time": "2023-09-20T12:14:14.228Z"
   },
   {
    "duration": 83,
    "start_time": "2023-09-20T12:14:51.663Z"
   },
   {
    "duration": 95,
    "start_time": "2023-09-20T12:15:34.082Z"
   },
   {
    "duration": 43,
    "start_time": "2023-09-20T12:15:45.326Z"
   },
   {
    "duration": 100,
    "start_time": "2023-09-20T12:16:09.511Z"
   },
   {
    "duration": 36,
    "start_time": "2023-09-20T12:16:18.248Z"
   },
   {
    "duration": 40,
    "start_time": "2023-09-20T12:16:35.305Z"
   },
   {
    "duration": 39,
    "start_time": "2023-09-20T12:16:43.510Z"
   },
   {
    "duration": 80,
    "start_time": "2023-09-20T12:16:48.909Z"
   },
   {
    "duration": 36,
    "start_time": "2023-09-20T12:17:04.035Z"
   },
   {
    "duration": 48,
    "start_time": "2023-09-20T12:17:31.026Z"
   },
   {
    "duration": 36,
    "start_time": "2023-09-20T12:18:14.771Z"
   },
   {
    "duration": 37,
    "start_time": "2023-09-20T12:18:22.561Z"
   },
   {
    "duration": 88,
    "start_time": "2023-09-20T12:18:47.495Z"
   },
   {
    "duration": 46,
    "start_time": "2023-09-20T12:19:02.789Z"
   },
   {
    "duration": 56,
    "start_time": "2023-09-20T12:44:44.638Z"
   },
   {
    "duration": 74,
    "start_time": "2023-09-20T12:46:25.165Z"
   },
   {
    "duration": 35,
    "start_time": "2023-09-20T12:47:56.382Z"
   },
   {
    "duration": 40,
    "start_time": "2023-09-20T12:51:00.975Z"
   },
   {
    "duration": 56,
    "start_time": "2023-09-20T12:51:20.672Z"
   },
   {
    "duration": 40,
    "start_time": "2023-09-20T12:51:56.528Z"
   },
   {
    "duration": 49,
    "start_time": "2023-09-20T12:53:17.147Z"
   },
   {
    "duration": 60,
    "start_time": "2023-09-20T12:54:37.138Z"
   },
   {
    "duration": 41,
    "start_time": "2023-09-20T12:55:53.080Z"
   },
   {
    "duration": 51,
    "start_time": "2023-09-20T12:58:48.275Z"
   },
   {
    "duration": 1087,
    "start_time": "2023-09-20T13:01:57.817Z"
   },
   {
    "duration": 3,
    "start_time": "2023-09-20T13:02:06.805Z"
   },
   {
    "duration": 3,
    "start_time": "2023-09-20T13:03:04.614Z"
   },
   {
    "duration": 171,
    "start_time": "2023-09-20T13:06:41.275Z"
   },
   {
    "duration": 212,
    "start_time": "2023-09-20T13:07:10.452Z"
   },
   {
    "duration": 11,
    "start_time": "2023-09-20T13:07:21.409Z"
   },
   {
    "duration": 261,
    "start_time": "2023-09-20T13:07:32.295Z"
   },
   {
    "duration": 146,
    "start_time": "2023-09-20T13:08:25.714Z"
   },
   {
    "duration": 176,
    "start_time": "2023-09-20T13:08:38.000Z"
   },
   {
    "duration": 1825,
    "start_time": "2023-09-20T13:11:16.426Z"
   },
   {
    "duration": 5,
    "start_time": "2023-09-20T13:11:28.019Z"
   },
   {
    "duration": 7,
    "start_time": "2023-09-20T13:11:38.913Z"
   },
   {
    "duration": 6,
    "start_time": "2023-09-20T13:11:47.977Z"
   },
   {
    "duration": 3,
    "start_time": "2023-09-20T13:12:23.994Z"
   },
   {
    "duration": 7,
    "start_time": "2023-09-20T13:12:27.118Z"
   },
   {
    "duration": 6,
    "start_time": "2023-09-20T13:14:04.006Z"
   },
   {
    "duration": 154,
    "start_time": "2023-09-20T13:15:24.822Z"
   },
   {
    "duration": 156,
    "start_time": "2023-09-20T13:15:50.908Z"
   },
   {
    "duration": 154,
    "start_time": "2023-09-20T13:15:59.515Z"
   },
   {
    "duration": 4,
    "start_time": "2023-09-20T13:17:30.516Z"
   },
   {
    "duration": 4,
    "start_time": "2023-09-20T13:17:34.269Z"
   },
   {
    "duration": 93,
    "start_time": "2023-09-20T13:17:35.855Z"
   },
   {
    "duration": 4,
    "start_time": "2023-09-20T13:17:41.621Z"
   },
   {
    "duration": 163,
    "start_time": "2023-09-20T13:17:45.065Z"
   },
   {
    "duration": 4,
    "start_time": "2023-09-20T13:17:45.671Z"
   },
   {
    "duration": 7,
    "start_time": "2023-09-20T13:18:01.627Z"
   },
   {
    "duration": 2,
    "start_time": "2023-09-20T13:20:53.268Z"
   },
   {
    "duration": 3,
    "start_time": "2023-09-20T13:20:56.041Z"
   },
   {
    "duration": 5,
    "start_time": "2023-09-20T13:23:20.833Z"
   },
   {
    "duration": 113,
    "start_time": "2023-09-20T13:25:48.503Z"
   },
   {
    "duration": 5,
    "start_time": "2023-09-20T13:26:12.415Z"
   },
   {
    "duration": 114,
    "start_time": "2023-09-20T13:27:23.406Z"
   },
   {
    "duration": 2177,
    "start_time": "2023-09-20T13:32:59.478Z"
   },
   {
    "duration": 3,
    "start_time": "2023-09-20T13:33:06.495Z"
   },
   {
    "duration": 174,
    "start_time": "2023-09-20T13:33:16.594Z"
   },
   {
    "duration": 195,
    "start_time": "2023-09-20T13:33:27.128Z"
   },
   {
    "duration": 269,
    "start_time": "2023-09-20T13:33:32.905Z"
   },
   {
    "duration": 3,
    "start_time": "2023-09-20T13:34:17.080Z"
   },
   {
    "duration": 116,
    "start_time": "2023-09-20T13:34:37.320Z"
   },
   {
    "duration": 90,
    "start_time": "2023-09-20T13:36:33.055Z"
   },
   {
    "duration": 10,
    "start_time": "2023-09-20T13:36:40.118Z"
   },
   {
    "duration": 10,
    "start_time": "2023-09-20T13:36:51.095Z"
   },
   {
    "duration": 11,
    "start_time": "2023-09-20T13:37:01.424Z"
   },
   {
    "duration": 5,
    "start_time": "2023-09-20T13:37:06.248Z"
   },
   {
    "duration": 6,
    "start_time": "2023-09-20T13:37:15.605Z"
   },
   {
    "duration": 6,
    "start_time": "2023-09-20T13:37:29.775Z"
   },
   {
    "duration": 6,
    "start_time": "2023-09-20T13:37:33.871Z"
   },
   {
    "duration": 7,
    "start_time": "2023-09-20T13:37:44.477Z"
   },
   {
    "duration": 96,
    "start_time": "2023-09-20T13:38:17.923Z"
   },
   {
    "duration": 3,
    "start_time": "2023-09-20T13:40:54.218Z"
   },
   {
    "duration": 6,
    "start_time": "2023-09-20T13:42:02.112Z"
   },
   {
    "duration": 142,
    "start_time": "2023-09-20T13:43:51.047Z"
   },
   {
    "duration": 95,
    "start_time": "2023-09-20T13:49:33.480Z"
   },
   {
    "duration": 3,
    "start_time": "2023-09-21T07:39:19.753Z"
   },
   {
    "duration": 109,
    "start_time": "2023-09-21T07:40:22.732Z"
   },
   {
    "duration": 47,
    "start_time": "2023-09-21T07:42:42.662Z"
   },
   {
    "duration": 1520,
    "start_time": "2023-09-21T07:42:51.397Z"
   },
   {
    "duration": 124,
    "start_time": "2023-09-21T07:42:52.919Z"
   },
   {
    "duration": 203,
    "start_time": "2023-09-21T07:42:53.044Z"
   },
   {
    "duration": 75,
    "start_time": "2023-09-21T07:42:53.249Z"
   },
   {
    "duration": 6,
    "start_time": "2023-09-21T07:42:53.326Z"
   },
   {
    "duration": 189,
    "start_time": "2023-09-21T07:42:53.334Z"
   },
   {
    "duration": 7,
    "start_time": "2023-09-21T07:42:53.525Z"
   },
   {
    "duration": 24,
    "start_time": "2023-09-21T07:42:53.533Z"
   },
   {
    "duration": 297,
    "start_time": "2023-09-21T07:42:53.559Z"
   },
   {
    "duration": 7,
    "start_time": "2023-09-21T07:42:53.859Z"
   },
   {
    "duration": 129,
    "start_time": "2023-09-21T07:42:53.868Z"
   },
   {
    "duration": 0,
    "start_time": "2023-09-21T07:42:53.999Z"
   },
   {
    "duration": 11,
    "start_time": "2023-09-21T07:43:53.704Z"
   },
   {
    "duration": 7,
    "start_time": "2023-09-21T07:44:39.462Z"
   },
   {
    "duration": 10,
    "start_time": "2023-09-21T07:44:41.727Z"
   },
   {
    "duration": 14,
    "start_time": "2023-09-21T07:44:45.280Z"
   },
   {
    "duration": 13,
    "start_time": "2023-09-21T07:47:21.135Z"
   },
   {
    "duration": 22,
    "start_time": "2023-09-21T07:47:29.573Z"
   },
   {
    "duration": 110,
    "start_time": "2023-09-21T07:48:35.676Z"
   },
   {
    "duration": 6,
    "start_time": "2023-09-21T08:01:54.385Z"
   },
   {
    "duration": 11,
    "start_time": "2023-09-21T08:01:57.993Z"
   },
   {
    "duration": 5,
    "start_time": "2023-09-21T08:03:01.829Z"
   },
   {
    "duration": 7,
    "start_time": "2023-09-21T08:03:20.929Z"
   },
   {
    "duration": 6,
    "start_time": "2023-09-21T08:04:27.750Z"
   },
   {
    "duration": 5,
    "start_time": "2023-09-21T08:06:05.526Z"
   },
   {
    "duration": 6,
    "start_time": "2023-09-21T08:06:19.222Z"
   },
   {
    "duration": 15,
    "start_time": "2023-09-21T08:08:19.551Z"
   },
   {
    "duration": 23,
    "start_time": "2023-09-21T08:08:20.241Z"
   },
   {
    "duration": 7,
    "start_time": "2023-09-21T08:08:25.463Z"
   },
   {
    "duration": 5,
    "start_time": "2023-09-21T08:08:27.688Z"
   },
   {
    "duration": 7,
    "start_time": "2023-09-21T08:08:28.978Z"
   },
   {
    "duration": 10,
    "start_time": "2023-09-21T08:13:11.515Z"
   },
   {
    "duration": 2,
    "start_time": "2023-09-21T08:13:17.698Z"
   },
   {
    "duration": 6,
    "start_time": "2023-09-21T08:13:43.221Z"
   },
   {
    "duration": 9,
    "start_time": "2023-09-21T08:14:02.134Z"
   },
   {
    "duration": 12,
    "start_time": "2023-09-21T08:15:45.787Z"
   },
   {
    "duration": 96,
    "start_time": "2023-09-21T08:16:16.427Z"
   },
   {
    "duration": 8,
    "start_time": "2023-09-21T08:17:09.011Z"
   },
   {
    "duration": 99,
    "start_time": "2023-09-21T08:17:53.822Z"
   },
   {
    "duration": 102,
    "start_time": "2023-09-21T08:20:27.685Z"
   },
   {
    "duration": 9,
    "start_time": "2023-09-21T08:20:37.531Z"
   },
   {
    "duration": 3,
    "start_time": "2023-09-21T08:24:40.423Z"
   },
   {
    "duration": 12,
    "start_time": "2023-09-21T08:34:59.112Z"
   },
   {
    "duration": 13,
    "start_time": "2023-09-21T08:35:25.163Z"
   },
   {
    "duration": 24,
    "start_time": "2023-09-21T08:35:32.508Z"
   },
   {
    "duration": 14,
    "start_time": "2023-09-21T08:37:59.582Z"
   },
   {
    "duration": 11,
    "start_time": "2023-09-21T08:38:08.917Z"
   },
   {
    "duration": 7,
    "start_time": "2023-09-21T08:38:21.624Z"
   },
   {
    "duration": 12,
    "start_time": "2023-09-21T08:38:38.792Z"
   },
   {
    "duration": 13,
    "start_time": "2023-09-21T08:38:51.110Z"
   },
   {
    "duration": 12,
    "start_time": "2023-09-21T08:41:04.265Z"
   },
   {
    "duration": 9,
    "start_time": "2023-09-21T08:41:17.545Z"
   },
   {
    "duration": 12,
    "start_time": "2023-09-21T08:43:48.142Z"
   },
   {
    "duration": 163,
    "start_time": "2023-09-21T08:44:14.132Z"
   },
   {
    "duration": 150,
    "start_time": "2023-09-21T08:44:35.281Z"
   },
   {
    "duration": 189,
    "start_time": "2023-09-21T08:44:42.082Z"
   },
   {
    "duration": 244,
    "start_time": "2023-09-21T08:44:51.741Z"
   },
   {
    "duration": 3,
    "start_time": "2023-09-21T08:46:53.603Z"
   },
   {
    "duration": 102,
    "start_time": "2023-09-21T08:47:25.321Z"
   },
   {
    "duration": 5,
    "start_time": "2023-09-21T08:48:59.806Z"
   },
   {
    "duration": 15,
    "start_time": "2023-09-21T08:49:43.631Z"
   },
   {
    "duration": 103,
    "start_time": "2023-09-21T08:49:53.368Z"
   },
   {
    "duration": 103,
    "start_time": "2023-09-21T08:50:01.155Z"
   },
   {
    "duration": 118,
    "start_time": "2023-09-21T08:51:52.789Z"
   },
   {
    "duration": 2,
    "start_time": "2023-09-21T08:53:00.199Z"
   },
   {
    "duration": 155,
    "start_time": "2023-09-21T08:54:07.135Z"
   },
   {
    "duration": 7,
    "start_time": "2023-09-21T08:56:01.694Z"
   },
   {
    "duration": 7,
    "start_time": "2023-09-21T08:57:58.391Z"
   },
   {
    "duration": 194,
    "start_time": "2023-09-21T08:58:16.538Z"
   },
   {
    "duration": 203,
    "start_time": "2023-09-21T08:58:23.157Z"
   },
   {
    "duration": 10,
    "start_time": "2023-09-21T09:01:44.896Z"
   },
   {
    "duration": 170,
    "start_time": "2023-09-21T09:02:58.271Z"
   },
   {
    "duration": 177,
    "start_time": "2023-09-21T09:03:56.242Z"
   },
   {
    "duration": 154,
    "start_time": "2023-09-21T09:04:09.447Z"
   },
   {
    "duration": 164,
    "start_time": "2023-09-21T09:06:27.322Z"
   },
   {
    "duration": 139,
    "start_time": "2023-09-21T09:07:13.831Z"
   },
   {
    "duration": 244,
    "start_time": "2023-09-21T09:15:17.005Z"
   },
   {
    "duration": 149,
    "start_time": "2023-09-21T09:15:28.076Z"
   },
   {
    "duration": 123,
    "start_time": "2023-09-21T09:16:39.793Z"
   },
   {
    "duration": 11,
    "start_time": "2023-09-21T09:17:57.631Z"
   },
   {
    "duration": 10,
    "start_time": "2023-09-21T09:18:05.882Z"
   },
   {
    "duration": 10,
    "start_time": "2023-09-21T09:18:13.002Z"
   },
   {
    "duration": 127,
    "start_time": "2023-09-21T09:18:17.842Z"
   },
   {
    "duration": 116,
    "start_time": "2023-09-21T09:21:14.316Z"
   },
   {
    "duration": 134,
    "start_time": "2023-09-21T09:21:23.104Z"
   },
   {
    "duration": 132,
    "start_time": "2023-09-21T09:21:36.583Z"
   },
   {
    "duration": 101,
    "start_time": "2023-09-21T09:28:02.270Z"
   },
   {
    "duration": 147,
    "start_time": "2023-09-21T09:33:11.593Z"
   },
   {
    "duration": 13,
    "start_time": "2023-09-21T09:37:50.496Z"
   },
   {
    "duration": 20,
    "start_time": "2023-09-21T09:39:01.412Z"
   },
   {
    "duration": 30,
    "start_time": "2023-09-21T09:39:34.862Z"
   },
   {
    "duration": 15,
    "start_time": "2023-09-21T09:39:46.199Z"
   },
   {
    "duration": 6,
    "start_time": "2023-09-21T09:45:27.062Z"
   },
   {
    "duration": 12,
    "start_time": "2023-09-21T09:46:16.915Z"
   },
   {
    "duration": 1447,
    "start_time": "2023-09-21T09:46:54.388Z"
   },
   {
    "duration": 62,
    "start_time": "2023-09-21T09:46:55.838Z"
   },
   {
    "duration": 59,
    "start_time": "2023-09-21T09:46:55.903Z"
   },
   {
    "duration": 36,
    "start_time": "2023-09-21T09:46:55.964Z"
   },
   {
    "duration": 5,
    "start_time": "2023-09-21T09:46:56.002Z"
   },
   {
    "duration": 31,
    "start_time": "2023-09-21T09:46:56.009Z"
   },
   {
    "duration": 344,
    "start_time": "2023-09-21T09:46:56.042Z"
   },
   {
    "duration": 7,
    "start_time": "2023-09-21T09:46:56.388Z"
   },
   {
    "duration": 28,
    "start_time": "2023-09-21T09:46:56.397Z"
   },
   {
    "duration": 21,
    "start_time": "2023-09-21T09:46:56.428Z"
   },
   {
    "duration": 19,
    "start_time": "2023-09-21T09:46:56.450Z"
   },
   {
    "duration": 21,
    "start_time": "2023-09-21T09:46:56.471Z"
   },
   {
    "duration": 10,
    "start_time": "2023-09-21T09:46:56.494Z"
   },
   {
    "duration": 108,
    "start_time": "2023-09-21T09:46:56.506Z"
   },
   {
    "duration": 0,
    "start_time": "2023-09-21T09:46:56.616Z"
   },
   {
    "duration": 0,
    "start_time": "2023-09-21T09:46:56.617Z"
   },
   {
    "duration": 0,
    "start_time": "2023-09-21T09:46:56.619Z"
   },
   {
    "duration": 0,
    "start_time": "2023-09-21T09:46:56.621Z"
   },
   {
    "duration": 0,
    "start_time": "2023-09-21T09:46:56.623Z"
   },
   {
    "duration": 0,
    "start_time": "2023-09-21T09:46:56.624Z"
   },
   {
    "duration": 0,
    "start_time": "2023-09-21T09:46:56.626Z"
   },
   {
    "duration": 0,
    "start_time": "2023-09-21T09:46:56.627Z"
   },
   {
    "duration": 0,
    "start_time": "2023-09-21T09:46:56.629Z"
   },
   {
    "duration": 0,
    "start_time": "2023-09-21T09:46:56.630Z"
   },
   {
    "duration": 0,
    "start_time": "2023-09-21T09:46:56.631Z"
   },
   {
    "duration": 0,
    "start_time": "2023-09-21T09:46:56.632Z"
   },
   {
    "duration": 0,
    "start_time": "2023-09-21T09:46:56.633Z"
   },
   {
    "duration": 0,
    "start_time": "2023-09-21T09:46:56.635Z"
   },
   {
    "duration": 0,
    "start_time": "2023-09-21T09:46:56.635Z"
   },
   {
    "duration": 114,
    "start_time": "2023-09-21T09:47:13.309Z"
   },
   {
    "duration": 20,
    "start_time": "2023-09-21T09:47:16.488Z"
   },
   {
    "duration": 16,
    "start_time": "2023-09-21T09:47:17.001Z"
   },
   {
    "duration": 17,
    "start_time": "2023-09-21T09:47:18.390Z"
   },
   {
    "duration": 222,
    "start_time": "2023-09-21T09:47:19.700Z"
   },
   {
    "duration": 3,
    "start_time": "2023-09-21T09:48:02.517Z"
   },
   {
    "duration": 212,
    "start_time": "2023-09-21T09:49:00.870Z"
   },
   {
    "duration": 211,
    "start_time": "2023-09-21T09:49:10.064Z"
   },
   {
    "duration": 226,
    "start_time": "2023-09-21T09:49:15.370Z"
   },
   {
    "duration": 317,
    "start_time": "2023-09-21T09:49:21.358Z"
   },
   {
    "duration": 211,
    "start_time": "2023-09-21T09:49:29.127Z"
   },
   {
    "duration": 214,
    "start_time": "2023-09-21T09:49:36.720Z"
   },
   {
    "duration": 294,
    "start_time": "2023-09-21T09:49:42.486Z"
   },
   {
    "duration": 210,
    "start_time": "2023-09-21T09:49:49.573Z"
   },
   {
    "duration": 222,
    "start_time": "2023-09-21T09:49:55.752Z"
   },
   {
    "duration": 3,
    "start_time": "2023-09-21T09:50:02.249Z"
   },
   {
    "duration": 13,
    "start_time": "2023-09-21T09:50:09.934Z"
   },
   {
    "duration": 201,
    "start_time": "2023-09-21T09:50:31.295Z"
   },
   {
    "duration": 234,
    "start_time": "2023-09-21T09:51:14.043Z"
   },
   {
    "duration": 215,
    "start_time": "2023-09-21T09:54:58.120Z"
   },
   {
    "duration": 201,
    "start_time": "2023-09-21T09:58:05.444Z"
   },
   {
    "duration": 120,
    "start_time": "2023-09-21T10:01:41.121Z"
   },
   {
    "duration": 200,
    "start_time": "2023-09-21T10:02:17.296Z"
   },
   {
    "duration": 111,
    "start_time": "2023-09-21T10:04:43.226Z"
   },
   {
    "duration": 301,
    "start_time": "2023-09-21T10:06:54.586Z"
   },
   {
    "duration": 114,
    "start_time": "2023-09-21T10:06:58.080Z"
   },
   {
    "duration": 164,
    "start_time": "2023-09-21T10:08:14.581Z"
   },
   {
    "duration": 155,
    "start_time": "2023-09-21T10:18:30.424Z"
   },
   {
    "duration": 977,
    "start_time": "2023-09-21T10:57:43.329Z"
   },
   {
    "duration": 980,
    "start_time": "2023-09-21T10:59:53.715Z"
   },
   {
    "duration": 1027,
    "start_time": "2023-09-21T11:02:56.475Z"
   },
   {
    "duration": 4,
    "start_time": "2023-09-21T11:02:57.505Z"
   },
   {
    "duration": 27,
    "start_time": "2023-09-21T11:02:57.510Z"
   },
   {
    "duration": 16,
    "start_time": "2023-09-21T11:02:57.921Z"
   },
   {
    "duration": 5,
    "start_time": "2023-09-21T11:05:08.056Z"
   },
   {
    "duration": 157,
    "start_time": "2023-09-21T11:05:48.289Z"
   },
   {
    "duration": 177,
    "start_time": "2023-09-21T11:05:59.129Z"
   },
   {
    "duration": 15,
    "start_time": "2023-09-21T11:07:49.604Z"
   },
   {
    "duration": 3,
    "start_time": "2023-09-21T11:14:23.732Z"
   },
   {
    "duration": 3,
    "start_time": "2023-09-21T11:14:28.518Z"
   },
   {
    "duration": 3,
    "start_time": "2023-09-21T11:18:58.169Z"
   },
   {
    "duration": 2,
    "start_time": "2023-09-21T11:27:13.996Z"
   },
   {
    "duration": 13,
    "start_time": "2023-09-21T11:34:45.017Z"
   },
   {
    "duration": 7,
    "start_time": "2023-09-21T11:35:58.645Z"
   },
   {
    "duration": 3,
    "start_time": "2023-09-21T11:45:36.882Z"
   },
   {
    "duration": 6,
    "start_time": "2023-09-21T11:46:11.214Z"
   },
   {
    "duration": 6,
    "start_time": "2023-09-21T12:02:46.333Z"
   },
   {
    "duration": 12,
    "start_time": "2023-09-21T12:07:31.691Z"
   },
   {
    "duration": 111,
    "start_time": "2023-09-21T12:25:18.895Z"
   },
   {
    "duration": 111,
    "start_time": "2023-09-21T12:26:27.289Z"
   },
   {
    "duration": 14,
    "start_time": "2023-09-21T12:36:58.749Z"
   },
   {
    "duration": 382,
    "start_time": "2023-09-21T12:37:10.472Z"
   },
   {
    "duration": 328,
    "start_time": "2023-09-21T12:37:33.517Z"
   },
   {
    "duration": 13,
    "start_time": "2023-09-21T12:38:10.647Z"
   },
   {
    "duration": 6,
    "start_time": "2023-09-21T12:38:23.182Z"
   },
   {
    "duration": 14,
    "start_time": "2023-09-21T12:42:53.458Z"
   },
   {
    "duration": 12,
    "start_time": "2023-09-21T12:43:15.932Z"
   },
   {
    "duration": 11,
    "start_time": "2023-09-21T12:43:24.270Z"
   },
   {
    "duration": 166,
    "start_time": "2023-09-21T12:44:55.916Z"
   },
   {
    "duration": 13,
    "start_time": "2023-09-21T12:49:14.578Z"
   },
   {
    "duration": 1467,
    "start_time": "2023-09-21T12:49:25.269Z"
   },
   {
    "duration": 65,
    "start_time": "2023-09-21T12:49:26.738Z"
   },
   {
    "duration": 63,
    "start_time": "2023-09-21T12:49:26.806Z"
   },
   {
    "duration": 34,
    "start_time": "2023-09-21T12:49:26.876Z"
   },
   {
    "duration": 5,
    "start_time": "2023-09-21T12:49:26.912Z"
   },
   {
    "duration": 11,
    "start_time": "2023-09-21T12:49:26.919Z"
   },
   {
    "duration": 345,
    "start_time": "2023-09-21T12:49:26.932Z"
   },
   {
    "duration": 7,
    "start_time": "2023-09-21T12:49:27.279Z"
   },
   {
    "duration": 9,
    "start_time": "2023-09-21T12:49:27.288Z"
   },
   {
    "duration": 23,
    "start_time": "2023-09-21T12:49:27.300Z"
   },
   {
    "duration": 32,
    "start_time": "2023-09-21T12:49:27.325Z"
   },
   {
    "duration": 6,
    "start_time": "2023-09-21T12:49:27.373Z"
   },
   {
    "duration": 7,
    "start_time": "2023-09-21T12:49:27.381Z"
   },
   {
    "duration": 13,
    "start_time": "2023-09-21T12:49:27.390Z"
   },
   {
    "duration": 8,
    "start_time": "2023-09-21T12:49:27.405Z"
   },
   {
    "duration": 12,
    "start_time": "2023-09-21T12:49:27.415Z"
   },
   {
    "duration": 187,
    "start_time": "2023-09-21T12:49:27.428Z"
   },
   {
    "duration": 118,
    "start_time": "2023-09-21T12:49:27.617Z"
   },
   {
    "duration": 201,
    "start_time": "2023-09-21T12:49:27.736Z"
   },
   {
    "duration": 7,
    "start_time": "2023-09-21T12:49:27.938Z"
   },
   {
    "duration": 17,
    "start_time": "2023-09-21T12:49:27.959Z"
   },
   {
    "duration": 200,
    "start_time": "2023-09-21T12:49:27.978Z"
   },
   {
    "duration": 9,
    "start_time": "2023-09-21T12:49:28.181Z"
   },
   {
    "duration": 135,
    "start_time": "2023-09-21T12:49:28.191Z"
   },
   {
    "duration": 39,
    "start_time": "2023-09-21T12:49:28.328Z"
   },
   {
    "duration": 21,
    "start_time": "2023-09-21T12:49:28.370Z"
   },
   {
    "duration": 25,
    "start_time": "2023-09-21T12:49:28.393Z"
   },
   {
    "duration": 315,
    "start_time": "2023-09-21T12:49:28.422Z"
   },
   {
    "duration": 261,
    "start_time": "2023-09-21T12:49:28.738Z"
   },
   {
    "duration": 271,
    "start_time": "2023-09-21T12:49:29.002Z"
   },
   {
    "duration": 209,
    "start_time": "2023-09-21T12:49:29.275Z"
   },
   {
    "duration": 1007,
    "start_time": "2023-09-21T12:49:29.486Z"
   },
   {
    "duration": 3,
    "start_time": "2023-09-21T12:49:30.495Z"
   },
   {
    "duration": 101,
    "start_time": "2023-09-21T12:49:30.500Z"
   },
   {
    "duration": 210,
    "start_time": "2023-09-21T12:49:30.603Z"
   },
   {
    "duration": 269,
    "start_time": "2023-09-21T12:49:30.815Z"
   },
   {
    "duration": 6,
    "start_time": "2023-09-21T12:49:31.086Z"
   },
   {
    "duration": 47,
    "start_time": "2023-09-21T12:49:31.094Z"
   },
   {
    "duration": 66,
    "start_time": "2023-09-21T12:49:31.143Z"
   },
   {
    "duration": 379,
    "start_time": "2023-09-21T12:49:31.211Z"
   },
   {
    "duration": 53,
    "start_time": "2023-09-21T18:32:21.373Z"
   },
   {
    "duration": 6,
    "start_time": "2023-09-21T18:33:38.173Z"
   },
   {
    "duration": 7,
    "start_time": "2023-09-21T18:33:56.101Z"
   },
   {
    "duration": 1574,
    "start_time": "2023-09-21T18:34:03.286Z"
   },
   {
    "duration": 107,
    "start_time": "2023-09-21T18:34:04.862Z"
   },
   {
    "duration": 97,
    "start_time": "2023-09-21T18:34:04.971Z"
   },
   {
    "duration": 72,
    "start_time": "2023-09-21T18:34:05.070Z"
   },
   {
    "duration": 6,
    "start_time": "2023-09-21T18:34:05.143Z"
   },
   {
    "duration": 15,
    "start_time": "2023-09-21T18:34:05.151Z"
   },
   {
    "duration": 351,
    "start_time": "2023-09-21T18:34:05.168Z"
   },
   {
    "duration": 6,
    "start_time": "2023-09-21T18:34:05.521Z"
   },
   {
    "duration": 9,
    "start_time": "2023-09-21T18:34:05.529Z"
   },
   {
    "duration": 27,
    "start_time": "2023-09-21T18:34:05.541Z"
   },
   {
    "duration": 14,
    "start_time": "2023-09-21T18:34:05.570Z"
   },
   {
    "duration": 29,
    "start_time": "2023-09-21T18:34:05.586Z"
   },
   {
    "duration": 19,
    "start_time": "2023-09-21T18:34:05.617Z"
   },
   {
    "duration": 12,
    "start_time": "2023-09-21T18:34:05.638Z"
   },
   {
    "duration": 9,
    "start_time": "2023-09-21T18:34:05.652Z"
   },
   {
    "duration": 52,
    "start_time": "2023-09-21T18:34:05.663Z"
   },
   {
    "duration": 192,
    "start_time": "2023-09-21T18:34:05.717Z"
   },
   {
    "duration": 113,
    "start_time": "2023-09-21T18:34:05.911Z"
   },
   {
    "duration": 197,
    "start_time": "2023-09-21T18:34:06.026Z"
   },
   {
    "duration": 7,
    "start_time": "2023-09-21T18:34:06.226Z"
   },
   {
    "duration": 9,
    "start_time": "2023-09-21T18:34:06.235Z"
   },
   {
    "duration": 180,
    "start_time": "2023-09-21T18:34:06.246Z"
   },
   {
    "duration": 9,
    "start_time": "2023-09-21T18:34:06.428Z"
   },
   {
    "duration": 144,
    "start_time": "2023-09-21T18:34:06.439Z"
   },
   {
    "duration": 27,
    "start_time": "2023-09-21T18:34:06.585Z"
   },
   {
    "duration": 13,
    "start_time": "2023-09-21T18:34:06.614Z"
   },
   {
    "duration": 21,
    "start_time": "2023-09-21T18:34:06.629Z"
   },
   {
    "duration": 306,
    "start_time": "2023-09-21T18:34:06.654Z"
   },
   {
    "duration": 202,
    "start_time": "2023-09-21T18:34:06.962Z"
   },
   {
    "duration": 211,
    "start_time": "2023-09-21T18:34:07.166Z"
   },
   {
    "duration": 203,
    "start_time": "2023-09-21T18:34:07.379Z"
   },
   {
    "duration": 944,
    "start_time": "2023-09-21T18:34:07.583Z"
   },
   {
    "duration": 4,
    "start_time": "2023-09-21T18:34:08.529Z"
   },
   {
    "duration": 7,
    "start_time": "2023-09-21T18:34:08.534Z"
   },
   {
    "duration": 15,
    "start_time": "2023-09-21T18:34:08.543Z"
   },
   {
    "duration": 181,
    "start_time": "2023-09-21T18:34:08.560Z"
   },
   {
    "duration": 7,
    "start_time": "2023-09-21T18:34:08.743Z"
   },
   {
    "duration": 9,
    "start_time": "2023-09-21T18:34:08.752Z"
   },
   {
    "duration": 18,
    "start_time": "2023-09-21T18:34:08.763Z"
   },
   {
    "duration": 33,
    "start_time": "2023-09-21T18:34:08.783Z"
   },
   {
    "duration": 3,
    "start_time": "2023-09-21T18:34:08.818Z"
   },
   {
    "duration": 12,
    "start_time": "2023-09-21T18:34:18.798Z"
   },
   {
    "duration": 10,
    "start_time": "2023-09-21T18:36:30.385Z"
   },
   {
    "duration": 12,
    "start_time": "2023-09-21T18:36:42.834Z"
   },
   {
    "duration": 2,
    "start_time": "2023-09-21T18:37:49.678Z"
   },
   {
    "duration": 116,
    "start_time": "2023-09-21T18:40:54.479Z"
   },
   {
    "duration": 336,
    "start_time": "2023-09-21T18:42:18.589Z"
   },
   {
    "duration": 5,
    "start_time": "2023-09-21T18:45:53.684Z"
   },
   {
    "duration": 4,
    "start_time": "2023-09-21T18:46:11.290Z"
   },
   {
    "duration": 4,
    "start_time": "2023-09-21T18:47:23.342Z"
   },
   {
    "duration": 76,
    "start_time": "2023-09-21T18:47:54.498Z"
   },
   {
    "duration": 87,
    "start_time": "2023-09-21T18:47:58.319Z"
   },
   {
    "duration": 3,
    "start_time": "2023-09-21T18:48:15.941Z"
   },
   {
    "duration": 5,
    "start_time": "2023-09-21T18:48:23.390Z"
   },
   {
    "duration": 331,
    "start_time": "2023-09-21T18:51:25.722Z"
   },
   {
    "duration": 451,
    "start_time": "2023-09-21T19:03:00.517Z"
   },
   {
    "duration": 325,
    "start_time": "2023-09-21T19:03:27.255Z"
   },
   {
    "duration": 359,
    "start_time": "2023-09-21T19:03:55.006Z"
   },
   {
    "duration": 327,
    "start_time": "2023-09-21T19:04:53.486Z"
   },
   {
    "duration": 329,
    "start_time": "2023-09-21T19:05:08.186Z"
   },
   {
    "duration": 346,
    "start_time": "2023-09-21T19:05:16.723Z"
   },
   {
    "duration": 340,
    "start_time": "2023-09-21T19:05:34.851Z"
   },
   {
    "duration": 310,
    "start_time": "2023-09-21T19:06:58.536Z"
   },
   {
    "duration": 304,
    "start_time": "2023-09-21T19:07:05.924Z"
   },
   {
    "duration": 291,
    "start_time": "2023-09-21T19:07:11.154Z"
   },
   {
    "duration": 368,
    "start_time": "2023-09-21T19:07:21.750Z"
   },
   {
    "duration": 0,
    "start_time": "2023-09-21T19:08:18.416Z"
   },
   {
    "duration": 1351,
    "start_time": "2023-09-21T19:08:49.775Z"
   },
   {
    "duration": 56,
    "start_time": "2023-09-21T19:08:51.128Z"
   },
   {
    "duration": 54,
    "start_time": "2023-09-21T19:08:51.185Z"
   },
   {
    "duration": 50,
    "start_time": "2023-09-21T19:08:51.242Z"
   },
   {
    "duration": 44,
    "start_time": "2023-09-21T19:08:51.294Z"
   },
   {
    "duration": 25,
    "start_time": "2023-09-21T19:08:51.340Z"
   },
   {
    "duration": 325,
    "start_time": "2023-09-21T19:08:51.366Z"
   },
   {
    "duration": 17,
    "start_time": "2023-09-21T19:08:51.693Z"
   },
   {
    "duration": 29,
    "start_time": "2023-09-21T19:08:51.712Z"
   },
   {
    "duration": 52,
    "start_time": "2023-09-21T19:08:51.743Z"
   },
   {
    "duration": 16,
    "start_time": "2023-09-21T19:08:51.797Z"
   },
   {
    "duration": 61,
    "start_time": "2023-09-21T19:08:51.815Z"
   },
   {
    "duration": 26,
    "start_time": "2023-09-21T19:08:51.878Z"
   },
   {
    "duration": 22,
    "start_time": "2023-09-21T19:08:51.906Z"
   },
   {
    "duration": 31,
    "start_time": "2023-09-21T19:08:51.930Z"
   },
   {
    "duration": 27,
    "start_time": "2023-09-21T19:08:51.963Z"
   },
   {
    "duration": 182,
    "start_time": "2023-09-21T19:08:51.992Z"
   },
   {
    "duration": 117,
    "start_time": "2023-09-21T19:08:52.176Z"
   },
   {
    "duration": 218,
    "start_time": "2023-09-21T19:08:52.295Z"
   },
   {
    "duration": 7,
    "start_time": "2023-09-21T19:08:52.516Z"
   },
   {
    "duration": 34,
    "start_time": "2023-09-21T19:08:52.526Z"
   },
   {
    "duration": 193,
    "start_time": "2023-09-21T19:08:52.562Z"
   },
   {
    "duration": 7,
    "start_time": "2023-09-21T19:08:52.757Z"
   },
   {
    "duration": 126,
    "start_time": "2023-09-21T19:08:52.766Z"
   },
   {
    "duration": 26,
    "start_time": "2023-09-21T19:08:52.894Z"
   },
   {
    "duration": 14,
    "start_time": "2023-09-21T19:08:52.921Z"
   },
   {
    "duration": 35,
    "start_time": "2023-09-21T19:08:52.936Z"
   },
   {
    "duration": 285,
    "start_time": "2023-09-21T19:08:52.974Z"
   },
   {
    "duration": 224,
    "start_time": "2023-09-21T19:08:53.261Z"
   },
   {
    "duration": 216,
    "start_time": "2023-09-21T19:08:53.487Z"
   },
   {
    "duration": 194,
    "start_time": "2023-09-21T19:08:53.704Z"
   },
   {
    "duration": 926,
    "start_time": "2023-09-21T19:08:53.900Z"
   },
   {
    "duration": 3,
    "start_time": "2023-09-21T19:08:54.827Z"
   },
   {
    "duration": 16,
    "start_time": "2023-09-21T19:08:54.832Z"
   },
   {
    "duration": 41,
    "start_time": "2023-09-21T19:08:54.850Z"
   },
   {
    "duration": 158,
    "start_time": "2023-09-21T19:08:54.893Z"
   },
   {
    "duration": 5,
    "start_time": "2023-09-21T19:08:55.053Z"
   },
   {
    "duration": 14,
    "start_time": "2023-09-21T19:08:55.061Z"
   },
   {
    "duration": 36,
    "start_time": "2023-09-21T19:08:55.076Z"
   },
   {
    "duration": 17,
    "start_time": "2023-09-21T19:08:55.114Z"
   },
   {
    "duration": 483,
    "start_time": "2023-09-21T19:08:55.134Z"
   },
   {
    "duration": 0,
    "start_time": "2023-09-21T19:08:55.619Z"
   },
   {
    "duration": 30687,
    "start_time": "2023-09-21T19:09:30.938Z"
   },
   {
    "duration": 0,
    "start_time": "2023-09-21T19:10:33.732Z"
   },
   {
    "duration": 17040,
    "start_time": "2023-09-21T19:10:34.687Z"
   },
   {
    "duration": 291,
    "start_time": "2023-09-21T19:11:13.628Z"
   },
   {
    "duration": 365,
    "start_time": "2023-09-21T19:11:25.052Z"
   },
   {
    "duration": 351,
    "start_time": "2023-09-21T19:11:38.398Z"
   },
   {
    "duration": 4,
    "start_time": "2023-09-21T19:13:00.116Z"
   },
   {
    "duration": 2,
    "start_time": "2023-09-21T19:17:27.184Z"
   },
   {
    "duration": 3,
    "start_time": "2023-09-21T19:18:27.992Z"
   },
   {
    "duration": 118,
    "start_time": "2023-09-21T19:18:28.531Z"
   },
   {
    "duration": 3,
    "start_time": "2023-09-21T19:22:05.952Z"
   },
   {
    "duration": 4,
    "start_time": "2023-09-21T19:23:20.968Z"
   },
   {
    "duration": 4,
    "start_time": "2023-09-21T19:23:33.733Z"
   },
   {
    "duration": 11,
    "start_time": "2023-09-21T19:25:06.096Z"
   },
   {
    "duration": 5,
    "start_time": "2023-09-21T19:25:10.534Z"
   },
   {
    "duration": 5,
    "start_time": "2023-09-21T19:26:24.559Z"
   },
   {
    "duration": 4,
    "start_time": "2023-09-21T19:26:32.846Z"
   },
   {
    "duration": 5,
    "start_time": "2023-09-21T19:26:38.257Z"
   },
   {
    "duration": 6,
    "start_time": "2023-09-21T19:26:44.581Z"
   },
   {
    "duration": 119,
    "start_time": "2023-09-21T19:28:09.382Z"
   },
   {
    "duration": 81,
    "start_time": "2023-09-21T19:28:13.684Z"
   },
   {
    "duration": 6,
    "start_time": "2023-09-21T19:28:24.989Z"
   },
   {
    "duration": 85,
    "start_time": "2023-09-21T19:28:42.058Z"
   },
   {
    "duration": 80,
    "start_time": "2023-09-21T19:29:32.590Z"
   },
   {
    "duration": 13,
    "start_time": "2023-09-21T19:29:36.523Z"
   },
   {
    "duration": 4,
    "start_time": "2023-09-21T19:29:46.384Z"
   },
   {
    "duration": 5,
    "start_time": "2023-09-21T19:30:26.846Z"
   },
   {
    "duration": 77,
    "start_time": "2023-09-21T19:32:36.895Z"
   },
   {
    "duration": 30,
    "start_time": "2023-09-21T19:38:36.042Z"
   },
   {
    "duration": 40,
    "start_time": "2023-09-21T19:38:50.699Z"
   },
   {
    "duration": 5,
    "start_time": "2023-09-21T19:38:54.040Z"
   },
   {
    "duration": 208,
    "start_time": "2023-09-21T19:38:54.048Z"
   },
   {
    "duration": 133,
    "start_time": "2023-09-21T19:38:54.258Z"
   },
   {
    "duration": 33,
    "start_time": "2023-09-21T19:38:54.393Z"
   },
   {
    "duration": 6,
    "start_time": "2023-09-21T19:38:54.428Z"
   },
   {
    "duration": 10,
    "start_time": "2023-09-21T19:38:54.436Z"
   },
   {
    "duration": 318,
    "start_time": "2023-09-21T19:38:54.448Z"
   },
   {
    "duration": 8,
    "start_time": "2023-09-21T19:38:54.769Z"
   },
   {
    "duration": 9,
    "start_time": "2023-09-21T19:38:54.781Z"
   },
   {
    "duration": 22,
    "start_time": "2023-09-21T19:38:54.810Z"
   },
   {
    "duration": 8,
    "start_time": "2023-09-21T19:38:54.835Z"
   },
   {
    "duration": 11,
    "start_time": "2023-09-21T19:38:54.845Z"
   },
   {
    "duration": 5,
    "start_time": "2023-09-21T19:38:54.859Z"
   },
   {
    "duration": 53,
    "start_time": "2023-09-21T19:38:54.866Z"
   },
   {
    "duration": 10,
    "start_time": "2023-09-21T19:38:54.922Z"
   },
   {
    "duration": 21,
    "start_time": "2023-09-21T19:38:54.933Z"
   },
   {
    "duration": 168,
    "start_time": "2023-09-21T19:38:54.956Z"
   },
   {
    "duration": 125,
    "start_time": "2023-09-21T19:38:55.127Z"
   },
   {
    "duration": 223,
    "start_time": "2023-09-21T19:38:55.254Z"
   },
   {
    "duration": 7,
    "start_time": "2023-09-21T19:38:55.479Z"
   },
   {
    "duration": 22,
    "start_time": "2023-09-21T19:38:55.488Z"
   },
   {
    "duration": 172,
    "start_time": "2023-09-21T19:38:55.512Z"
   },
   {
    "duration": 26,
    "start_time": "2023-09-21T19:38:55.686Z"
   },
   {
    "duration": 137,
    "start_time": "2023-09-21T19:38:55.716Z"
   },
   {
    "duration": 1318,
    "start_time": "2023-09-21T19:39:13.460Z"
   },
   {
    "duration": 60,
    "start_time": "2023-09-21T19:39:14.780Z"
   },
   {
    "duration": 57,
    "start_time": "2023-09-21T19:39:14.841Z"
   },
   {
    "duration": 40,
    "start_time": "2023-09-21T19:39:14.900Z"
   },
   {
    "duration": 6,
    "start_time": "2023-09-21T19:39:14.943Z"
   },
   {
    "duration": 8,
    "start_time": "2023-09-21T19:39:14.951Z"
   },
   {
    "duration": 356,
    "start_time": "2023-09-21T19:39:14.962Z"
   },
   {
    "duration": 11,
    "start_time": "2023-09-21T19:39:15.320Z"
   },
   {
    "duration": 35,
    "start_time": "2023-09-21T19:39:15.333Z"
   },
   {
    "duration": 46,
    "start_time": "2023-09-21T19:39:15.371Z"
   },
   {
    "duration": 30,
    "start_time": "2023-09-21T19:39:15.420Z"
   },
   {
    "duration": 38,
    "start_time": "2023-09-21T19:39:15.452Z"
   },
   {
    "duration": 18,
    "start_time": "2023-09-21T19:39:15.492Z"
   },
   {
    "duration": 28,
    "start_time": "2023-09-21T19:39:15.512Z"
   },
   {
    "duration": 8,
    "start_time": "2023-09-21T19:39:15.542Z"
   },
   {
    "duration": 19,
    "start_time": "2023-09-21T19:39:15.552Z"
   },
   {
    "duration": 170,
    "start_time": "2023-09-21T19:39:15.573Z"
   },
   {
    "duration": 126,
    "start_time": "2023-09-21T19:39:15.746Z"
   },
   {
    "duration": 211,
    "start_time": "2023-09-21T19:39:15.875Z"
   },
   {
    "duration": 8,
    "start_time": "2023-09-21T19:39:16.088Z"
   },
   {
    "duration": 9,
    "start_time": "2023-09-21T19:39:16.110Z"
   },
   {
    "duration": 181,
    "start_time": "2023-09-21T19:39:16.121Z"
   },
   {
    "duration": 12,
    "start_time": "2023-09-21T19:39:16.304Z"
   },
   {
    "duration": 142,
    "start_time": "2023-09-21T19:39:16.318Z"
   },
   {
    "duration": 29,
    "start_time": "2023-09-21T19:39:16.462Z"
   },
   {
    "duration": 26,
    "start_time": "2023-09-21T19:39:16.493Z"
   },
   {
    "duration": 108,
    "start_time": "2023-09-21T19:39:16.521Z"
   },
   {
    "duration": 213,
    "start_time": "2023-09-21T19:39:16.632Z"
   },
   {
    "duration": 201,
    "start_time": "2023-09-21T19:39:16.847Z"
   },
   {
    "duration": 232,
    "start_time": "2023-09-21T19:39:17.049Z"
   },
   {
    "duration": 206,
    "start_time": "2023-09-21T19:39:17.282Z"
   },
   {
    "duration": 73,
    "start_time": "2023-09-21T19:39:17.490Z"
   },
   {
    "duration": 3,
    "start_time": "2023-09-21T19:39:17.565Z"
   },
   {
    "duration": 17,
    "start_time": "2023-09-21T19:39:17.570Z"
   },
   {
    "duration": 31,
    "start_time": "2023-09-21T19:39:17.589Z"
   },
   {
    "duration": 36,
    "start_time": "2023-09-21T19:39:17.622Z"
   },
   {
    "duration": 24,
    "start_time": "2023-09-21T19:39:17.660Z"
   },
   {
    "duration": 26,
    "start_time": "2023-09-21T19:39:17.687Z"
   },
   {
    "duration": 24,
    "start_time": "2023-09-21T19:39:17.715Z"
   },
   {
    "duration": 120,
    "start_time": "2023-09-21T19:39:17.741Z"
   },
   {
    "duration": 0,
    "start_time": "2023-09-21T19:39:17.863Z"
   },
   {
    "duration": 0,
    "start_time": "2023-09-21T19:39:17.865Z"
   },
   {
    "duration": 0,
    "start_time": "2023-09-21T19:39:17.866Z"
   },
   {
    "duration": 0,
    "start_time": "2023-09-21T19:39:17.867Z"
   },
   {
    "duration": 26,
    "start_time": "2023-09-21T19:40:47.806Z"
   },
   {
    "duration": 14,
    "start_time": "2023-09-21T19:40:53.032Z"
   },
   {
    "duration": 11,
    "start_time": "2023-09-21T19:40:55.431Z"
   },
   {
    "duration": 213,
    "start_time": "2023-09-21T19:40:57.029Z"
   },
   {
    "duration": 214,
    "start_time": "2023-09-21T19:41:48.904Z"
   },
   {
    "duration": 199,
    "start_time": "2023-09-21T19:41:53.751Z"
   },
   {
    "duration": 217,
    "start_time": "2023-09-21T19:42:29.486Z"
   },
   {
    "duration": 22,
    "start_time": "2023-09-21T19:49:00.239Z"
   },
   {
    "duration": 3,
    "start_time": "2023-09-21T19:50:03.202Z"
   },
   {
    "duration": 15,
    "start_time": "2023-09-21T19:50:07.599Z"
   },
   {
    "duration": 14,
    "start_time": "2023-09-21T19:50:34.037Z"
   },
   {
    "duration": 282,
    "start_time": "2023-09-21T19:51:47.092Z"
   },
   {
    "duration": 180,
    "start_time": "2023-09-21T19:52:14.765Z"
   },
   {
    "duration": 181,
    "start_time": "2023-09-21T19:52:20.292Z"
   },
   {
    "duration": 1465,
    "start_time": "2023-09-21T19:53:03.399Z"
   },
   {
    "duration": 58,
    "start_time": "2023-09-21T19:53:04.866Z"
   },
   {
    "duration": 55,
    "start_time": "2023-09-21T19:53:04.926Z"
   },
   {
    "duration": 32,
    "start_time": "2023-09-21T19:53:04.984Z"
   },
   {
    "duration": 5,
    "start_time": "2023-09-21T19:53:05.018Z"
   },
   {
    "duration": 26,
    "start_time": "2023-09-21T19:53:05.025Z"
   },
   {
    "duration": 359,
    "start_time": "2023-09-21T19:53:05.053Z"
   },
   {
    "duration": 7,
    "start_time": "2023-09-21T19:53:05.414Z"
   },
   {
    "duration": 12,
    "start_time": "2023-09-21T19:53:05.423Z"
   },
   {
    "duration": 27,
    "start_time": "2023-09-21T19:53:05.439Z"
   },
   {
    "duration": 7,
    "start_time": "2023-09-21T19:53:05.467Z"
   },
   {
    "duration": 6,
    "start_time": "2023-09-21T19:53:05.510Z"
   },
   {
    "duration": 5,
    "start_time": "2023-09-21T19:53:05.518Z"
   },
   {
    "duration": 13,
    "start_time": "2023-09-21T19:53:05.525Z"
   },
   {
    "duration": 7,
    "start_time": "2023-09-21T19:53:05.540Z"
   },
   {
    "duration": 12,
    "start_time": "2023-09-21T19:53:05.549Z"
   },
   {
    "duration": 192,
    "start_time": "2023-09-21T19:53:05.563Z"
   },
   {
    "duration": 111,
    "start_time": "2023-09-21T19:53:05.757Z"
   },
   {
    "duration": 197,
    "start_time": "2023-09-21T19:53:05.870Z"
   },
   {
    "duration": 6,
    "start_time": "2023-09-21T19:53:06.069Z"
   },
   {
    "duration": 12,
    "start_time": "2023-09-21T19:53:06.077Z"
   },
   {
    "duration": 172,
    "start_time": "2023-09-21T19:53:06.091Z"
   },
   {
    "duration": 7,
    "start_time": "2023-09-21T19:53:06.265Z"
   },
   {
    "duration": 141,
    "start_time": "2023-09-21T19:53:06.274Z"
   },
   {
    "duration": 24,
    "start_time": "2023-09-21T19:53:06.417Z"
   },
   {
    "duration": 21,
    "start_time": "2023-09-21T19:53:06.443Z"
   },
   {
    "duration": 128,
    "start_time": "2023-09-21T19:53:06.466Z"
   },
   {
    "duration": 214,
    "start_time": "2023-09-21T19:53:06.598Z"
   },
   {
    "duration": 211,
    "start_time": "2023-09-21T19:53:06.814Z"
   },
   {
    "duration": 222,
    "start_time": "2023-09-21T19:53:07.027Z"
   },
   {
    "duration": 204,
    "start_time": "2023-09-21T19:53:07.251Z"
   },
   {
    "duration": 930,
    "start_time": "2023-09-21T19:53:07.456Z"
   },
   {
    "duration": 4,
    "start_time": "2023-09-21T19:53:08.388Z"
   },
   {
    "duration": 25,
    "start_time": "2023-09-21T19:53:08.393Z"
   },
   {
    "duration": 19,
    "start_time": "2023-09-21T19:53:08.419Z"
   },
   {
    "duration": 161,
    "start_time": "2023-09-21T19:53:08.440Z"
   },
   {
    "duration": 16,
    "start_time": "2023-09-21T19:53:08.603Z"
   },
   {
    "duration": 7,
    "start_time": "2023-09-21T19:53:08.622Z"
   },
   {
    "duration": 25,
    "start_time": "2023-09-21T19:53:08.632Z"
   },
   {
    "duration": 145,
    "start_time": "2023-09-21T19:53:08.661Z"
   },
   {
    "duration": 0,
    "start_time": "2023-09-21T19:53:08.808Z"
   },
   {
    "duration": 0,
    "start_time": "2023-09-21T19:53:08.810Z"
   },
   {
    "duration": 0,
    "start_time": "2023-09-21T19:53:08.811Z"
   },
   {
    "duration": 0,
    "start_time": "2023-09-21T19:53:08.812Z"
   },
   {
    "duration": 0,
    "start_time": "2023-09-21T19:53:08.814Z"
   },
   {
    "duration": 3,
    "start_time": "2023-09-21T19:53:43.345Z"
   },
   {
    "duration": 354,
    "start_time": "2023-09-21T19:53:43.991Z"
   },
   {
    "duration": 4,
    "start_time": "2023-09-21T19:53:46.012Z"
   },
   {
    "duration": 3,
    "start_time": "2023-09-21T19:53:48.450Z"
   },
   {
    "duration": 4,
    "start_time": "2023-09-21T19:53:48.877Z"
   },
   {
    "duration": 5,
    "start_time": "2023-09-21T19:53:49.348Z"
   },
   {
    "duration": 192,
    "start_time": "2023-09-21T19:53:49.878Z"
   },
   {
    "duration": 171,
    "start_time": "2023-09-21T19:55:06.733Z"
   },
   {
    "duration": 5,
    "start_time": "2023-09-21T19:56:55.243Z"
   },
   {
    "duration": 36822,
    "start_time": "2023-09-21T19:56:59.921Z"
   },
   {
    "duration": 4,
    "start_time": "2023-09-21T19:58:44.860Z"
   },
   {
    "duration": 5,
    "start_time": "2023-09-21T19:58:45.890Z"
   },
   {
    "duration": 14,
    "start_time": "2023-09-21T19:59:19.359Z"
   },
   {
    "duration": 13,
    "start_time": "2023-09-21T19:59:36.979Z"
   },
   {
    "duration": 4,
    "start_time": "2023-09-21T19:59:46.783Z"
   },
   {
    "duration": 185,
    "start_time": "2023-09-21T20:00:06.114Z"
   },
   {
    "duration": 1437,
    "start_time": "2023-09-21T20:00:48.322Z"
   },
   {
    "duration": 59,
    "start_time": "2023-09-21T20:00:49.761Z"
   },
   {
    "duration": 57,
    "start_time": "2023-09-21T20:00:49.822Z"
   },
   {
    "duration": 32,
    "start_time": "2023-09-21T20:00:49.882Z"
   },
   {
    "duration": 19,
    "start_time": "2023-09-21T20:00:49.916Z"
   },
   {
    "duration": 33,
    "start_time": "2023-09-21T20:00:49.937Z"
   },
   {
    "duration": 361,
    "start_time": "2023-09-21T20:00:49.972Z"
   },
   {
    "duration": 7,
    "start_time": "2023-09-21T20:00:50.335Z"
   },
   {
    "duration": 63,
    "start_time": "2023-09-21T20:00:50.343Z"
   },
   {
    "duration": 36,
    "start_time": "2023-09-21T20:00:50.409Z"
   },
   {
    "duration": 12,
    "start_time": "2023-09-21T20:00:50.447Z"
   },
   {
    "duration": 31,
    "start_time": "2023-09-21T20:00:50.461Z"
   },
   {
    "duration": 38,
    "start_time": "2023-09-21T20:00:50.494Z"
   },
   {
    "duration": 40,
    "start_time": "2023-09-21T20:00:50.534Z"
   },
   {
    "duration": 40,
    "start_time": "2023-09-21T20:00:50.577Z"
   },
   {
    "duration": 41,
    "start_time": "2023-09-21T20:00:50.619Z"
   },
   {
    "duration": 158,
    "start_time": "2023-09-21T20:00:50.662Z"
   },
   {
    "duration": 116,
    "start_time": "2023-09-21T20:00:50.822Z"
   },
   {
    "duration": 212,
    "start_time": "2023-09-21T20:00:50.940Z"
   },
   {
    "duration": 6,
    "start_time": "2023-09-21T20:00:51.154Z"
   },
   {
    "duration": 49,
    "start_time": "2023-09-21T20:00:51.163Z"
   },
   {
    "duration": 197,
    "start_time": "2023-09-21T20:00:51.215Z"
   },
   {
    "duration": 10,
    "start_time": "2023-09-21T20:00:51.414Z"
   },
   {
    "duration": 145,
    "start_time": "2023-09-21T20:00:51.425Z"
   },
   {
    "duration": 37,
    "start_time": "2023-09-21T20:00:51.572Z"
   },
   {
    "duration": 29,
    "start_time": "2023-09-21T20:00:51.611Z"
   },
   {
    "duration": 115,
    "start_time": "2023-09-21T20:00:51.642Z"
   },
   {
    "duration": 233,
    "start_time": "2023-09-21T20:00:51.761Z"
   },
   {
    "duration": 250,
    "start_time": "2023-09-21T20:00:51.996Z"
   },
   {
    "duration": 343,
    "start_time": "2023-09-21T20:00:52.249Z"
   },
   {
    "duration": 261,
    "start_time": "2023-09-21T20:00:52.595Z"
   },
   {
    "duration": 949,
    "start_time": "2023-09-21T20:00:52.858Z"
   },
   {
    "duration": 4,
    "start_time": "2023-09-21T20:00:53.810Z"
   },
   {
    "duration": 14,
    "start_time": "2023-09-21T20:00:53.816Z"
   },
   {
    "duration": 31,
    "start_time": "2023-09-21T20:00:53.832Z"
   },
   {
    "duration": 178,
    "start_time": "2023-09-21T20:00:53.865Z"
   },
   {
    "duration": 6,
    "start_time": "2023-09-21T20:00:54.045Z"
   },
   {
    "duration": 23,
    "start_time": "2023-09-21T20:00:54.053Z"
   },
   {
    "duration": 30,
    "start_time": "2023-09-21T20:00:54.078Z"
   },
   {
    "duration": 4,
    "start_time": "2023-09-21T20:00:54.110Z"
   },
   {
    "duration": 374,
    "start_time": "2023-09-21T20:00:54.116Z"
   },
   {
    "duration": 4,
    "start_time": "2023-09-21T20:00:54.493Z"
   },
   {
    "duration": 3,
    "start_time": "2023-09-21T20:00:54.510Z"
   },
   {
    "duration": 7,
    "start_time": "2023-09-21T20:00:54.514Z"
   },
   {
    "duration": 8,
    "start_time": "2023-09-21T20:00:54.522Z"
   },
   {
    "duration": 37542,
    "start_time": "2023-09-21T20:00:54.532Z"
   },
   {
    "duration": 37726,
    "start_time": "2023-09-21T20:02:01.040Z"
   },
   {
    "duration": 37313,
    "start_time": "2023-09-21T20:03:18.388Z"
   },
   {
    "duration": 39017,
    "start_time": "2023-09-21T20:04:34.040Z"
   },
   {
    "duration": 37082,
    "start_time": "2023-09-21T20:12:25.647Z"
   },
   {
    "duration": 36532,
    "start_time": "2023-09-21T20:13:58.755Z"
   },
   {
    "duration": 37021,
    "start_time": "2023-09-21T20:19:13.911Z"
   },
   {
    "duration": 3860,
    "start_time": "2023-09-21T20:22:05.050Z"
   },
   {
    "duration": 86,
    "start_time": "2023-09-21T20:27:26.293Z"
   },
   {
    "duration": 96,
    "start_time": "2023-09-21T20:28:36.701Z"
   },
   {
    "duration": 1350,
    "start_time": "2023-09-21T20:30:25.722Z"
   },
   {
    "duration": 56,
    "start_time": "2023-09-21T20:30:27.074Z"
   },
   {
    "duration": 49,
    "start_time": "2023-09-21T20:30:27.133Z"
   },
   {
    "duration": 33,
    "start_time": "2023-09-21T20:30:27.185Z"
   },
   {
    "duration": 6,
    "start_time": "2023-09-21T20:30:27.219Z"
   },
   {
    "duration": 33,
    "start_time": "2023-09-21T20:30:27.226Z"
   },
   {
    "duration": 308,
    "start_time": "2023-09-21T20:30:27.260Z"
   },
   {
    "duration": 7,
    "start_time": "2023-09-21T20:30:27.570Z"
   },
   {
    "duration": 12,
    "start_time": "2023-09-21T20:30:27.578Z"
   },
   {
    "duration": 21,
    "start_time": "2023-09-21T20:30:27.609Z"
   },
   {
    "duration": 6,
    "start_time": "2023-09-21T20:30:27.632Z"
   },
   {
    "duration": 6,
    "start_time": "2023-09-21T20:30:27.639Z"
   },
   {
    "duration": 4,
    "start_time": "2023-09-21T20:30:27.647Z"
   },
   {
    "duration": 13,
    "start_time": "2023-09-21T20:30:27.653Z"
   },
   {
    "duration": 43,
    "start_time": "2023-09-21T20:30:27.668Z"
   },
   {
    "duration": 12,
    "start_time": "2023-09-21T20:30:27.713Z"
   },
   {
    "duration": 183,
    "start_time": "2023-09-21T20:30:27.726Z"
   },
   {
    "duration": 107,
    "start_time": "2023-09-21T20:30:27.911Z"
   },
   {
    "duration": 199,
    "start_time": "2023-09-21T20:30:28.020Z"
   },
   {
    "duration": 7,
    "start_time": "2023-09-21T20:30:28.222Z"
   },
   {
    "duration": 58,
    "start_time": "2023-09-21T20:30:28.231Z"
   },
   {
    "duration": 167,
    "start_time": "2023-09-21T20:30:28.291Z"
   },
   {
    "duration": 10,
    "start_time": "2023-09-21T20:30:28.460Z"
   },
   {
    "duration": 147,
    "start_time": "2023-09-21T20:30:28.472Z"
   },
   {
    "duration": 25,
    "start_time": "2023-09-21T20:30:28.621Z"
   },
   {
    "duration": 13,
    "start_time": "2023-09-21T20:30:28.648Z"
   },
   {
    "duration": 115,
    "start_time": "2023-09-21T20:30:28.663Z"
   },
   {
    "duration": 209,
    "start_time": "2023-09-21T20:30:28.782Z"
   },
   {
    "duration": 227,
    "start_time": "2023-09-21T20:30:28.993Z"
   },
   {
    "duration": 217,
    "start_time": "2023-09-21T20:30:29.223Z"
   },
   {
    "duration": 202,
    "start_time": "2023-09-21T20:30:29.442Z"
   },
   {
    "duration": 921,
    "start_time": "2023-09-21T20:30:29.646Z"
   },
   {
    "duration": 4,
    "start_time": "2023-09-21T20:30:30.570Z"
   },
   {
    "duration": 36,
    "start_time": "2023-09-21T20:30:30.576Z"
   },
   {
    "duration": 33,
    "start_time": "2023-09-21T20:30:30.614Z"
   },
   {
    "duration": 155,
    "start_time": "2023-09-21T20:30:30.648Z"
   },
   {
    "duration": 7,
    "start_time": "2023-09-21T20:30:30.805Z"
   },
   {
    "duration": 39,
    "start_time": "2023-09-21T20:30:30.814Z"
   },
   {
    "duration": 38,
    "start_time": "2023-09-21T20:30:30.855Z"
   },
   {
    "duration": 52,
    "start_time": "2023-09-21T20:30:30.894Z"
   },
   {
    "duration": 376,
    "start_time": "2023-09-21T20:30:30.948Z"
   },
   {
    "duration": 4,
    "start_time": "2023-09-21T20:30:31.326Z"
   },
   {
    "duration": 40,
    "start_time": "2023-09-21T20:30:31.331Z"
   },
   {
    "duration": 55,
    "start_time": "2023-09-21T20:30:31.373Z"
   },
   {
    "duration": 36,
    "start_time": "2023-09-21T20:30:31.429Z"
   },
   {
    "duration": 36532,
    "start_time": "2023-09-21T20:30:31.467Z"
   },
   {
    "duration": 3,
    "start_time": "2023-09-21T20:31:08.001Z"
   },
   {
    "duration": 1490,
    "start_time": "2023-09-21T22:05:46.029Z"
   },
   {
    "duration": 57,
    "start_time": "2023-09-21T22:05:47.521Z"
   },
   {
    "duration": 52,
    "start_time": "2023-09-21T22:05:47.580Z"
   },
   {
    "duration": 31,
    "start_time": "2023-09-21T22:05:47.634Z"
   },
   {
    "duration": 5,
    "start_time": "2023-09-21T22:05:47.667Z"
   },
   {
    "duration": 19,
    "start_time": "2023-09-21T22:05:47.674Z"
   },
   {
    "duration": 289,
    "start_time": "2023-09-21T22:05:47.694Z"
   },
   {
    "duration": 7,
    "start_time": "2023-09-21T22:05:47.985Z"
   },
   {
    "duration": 22,
    "start_time": "2023-09-21T22:05:47.993Z"
   },
   {
    "duration": 91,
    "start_time": "2023-09-21T22:05:48.018Z"
   },
   {
    "duration": 92,
    "start_time": "2023-09-21T22:05:48.110Z"
   },
   {
    "duration": 39,
    "start_time": "2023-09-21T22:05:48.204Z"
   },
   {
    "duration": 14,
    "start_time": "2023-09-21T22:05:48.245Z"
   },
   {
    "duration": 20,
    "start_time": "2023-09-21T22:05:48.261Z"
   },
   {
    "duration": 8,
    "start_time": "2023-09-21T22:05:48.283Z"
   },
   {
    "duration": 19,
    "start_time": "2023-09-21T22:05:48.292Z"
   },
   {
    "duration": 155,
    "start_time": "2023-09-21T22:05:48.313Z"
   },
   {
    "duration": 115,
    "start_time": "2023-09-21T22:05:48.469Z"
   },
   {
    "duration": 188,
    "start_time": "2023-09-21T22:05:48.586Z"
   },
   {
    "duration": 6,
    "start_time": "2023-09-21T22:05:48.775Z"
   },
   {
    "duration": 21,
    "start_time": "2023-09-21T22:05:48.783Z"
   },
   {
    "duration": 164,
    "start_time": "2023-09-21T22:05:48.810Z"
   },
   {
    "duration": 9,
    "start_time": "2023-09-21T22:05:48.976Z"
   },
   {
    "duration": 143,
    "start_time": "2023-09-21T22:05:48.987Z"
   },
   {
    "duration": 25,
    "start_time": "2023-09-21T22:05:49.132Z"
   },
   {
    "duration": 14,
    "start_time": "2023-09-21T22:05:49.159Z"
   },
   {
    "duration": 115,
    "start_time": "2023-09-21T22:05:49.176Z"
   },
   {
    "duration": 200,
    "start_time": "2023-09-21T22:05:49.295Z"
   },
   {
    "duration": 212,
    "start_time": "2023-09-21T22:05:49.497Z"
   },
   {
    "duration": 204,
    "start_time": "2023-09-21T22:05:49.711Z"
   },
   {
    "duration": 201,
    "start_time": "2023-09-21T22:05:49.917Z"
   },
   {
    "duration": 937,
    "start_time": "2023-09-21T22:05:50.120Z"
   },
   {
    "duration": 3,
    "start_time": "2023-09-21T22:05:51.059Z"
   },
   {
    "duration": 18,
    "start_time": "2023-09-21T22:05:51.064Z"
   },
   {
    "duration": 37,
    "start_time": "2023-09-21T22:05:51.084Z"
   },
   {
    "duration": 164,
    "start_time": "2023-09-21T22:05:51.123Z"
   },
   {
    "duration": 5,
    "start_time": "2023-09-21T22:05:51.288Z"
   },
   {
    "duration": 30,
    "start_time": "2023-09-21T22:05:51.295Z"
   },
   {
    "duration": 17,
    "start_time": "2023-09-21T22:05:51.327Z"
   },
   {
    "duration": 12,
    "start_time": "2023-09-21T22:05:51.346Z"
   },
   {
    "duration": 351,
    "start_time": "2023-09-21T22:05:51.360Z"
   },
   {
    "duration": 4,
    "start_time": "2023-09-21T22:05:51.713Z"
   },
   {
    "duration": 37,
    "start_time": "2023-09-21T22:05:51.719Z"
   },
   {
    "duration": 76,
    "start_time": "2023-09-21T22:05:51.758Z"
   },
   {
    "duration": 33,
    "start_time": "2023-09-21T22:05:51.836Z"
   },
   {
    "duration": 35724,
    "start_time": "2023-09-21T22:05:51.871Z"
   },
   {
    "duration": 13,
    "start_time": "2023-09-21T22:06:27.596Z"
   },
   {
    "duration": 35612,
    "start_time": "2023-09-21T22:07:46.242Z"
   },
   {
    "duration": 203,
    "start_time": "2023-09-21T22:08:34.419Z"
   },
   {
    "duration": 1396,
    "start_time": "2023-09-21T22:10:19.342Z"
   },
   {
    "duration": 56,
    "start_time": "2023-09-21T22:10:20.740Z"
   },
   {
    "duration": 58,
    "start_time": "2023-09-21T22:10:20.798Z"
   },
   {
    "duration": 57,
    "start_time": "2023-09-21T22:10:20.859Z"
   },
   {
    "duration": 20,
    "start_time": "2023-09-21T22:10:20.918Z"
   },
   {
    "duration": 35,
    "start_time": "2023-09-21T22:10:20.939Z"
   },
   {
    "duration": 448,
    "start_time": "2023-09-21T22:10:21.010Z"
   },
   {
    "duration": 7,
    "start_time": "2023-09-21T22:10:21.459Z"
   },
   {
    "duration": 25,
    "start_time": "2023-09-21T22:10:21.467Z"
   },
   {
    "duration": 22,
    "start_time": "2023-09-21T22:10:21.496Z"
   },
   {
    "duration": 7,
    "start_time": "2023-09-21T22:10:21.520Z"
   },
   {
    "duration": 9,
    "start_time": "2023-09-21T22:10:21.529Z"
   },
   {
    "duration": 16,
    "start_time": "2023-09-21T22:10:21.540Z"
   },
   {
    "duration": 16,
    "start_time": "2023-09-21T22:10:21.558Z"
   },
   {
    "duration": 8,
    "start_time": "2023-09-21T22:10:21.576Z"
   },
   {
    "duration": 11,
    "start_time": "2023-09-21T22:10:21.585Z"
   },
   {
    "duration": 170,
    "start_time": "2023-09-21T22:10:21.598Z"
   },
   {
    "duration": 190,
    "start_time": "2023-09-21T22:10:21.770Z"
   },
   {
    "duration": 214,
    "start_time": "2023-09-21T22:10:22.010Z"
   },
   {
    "duration": 6,
    "start_time": "2023-09-21T22:10:22.226Z"
   },
   {
    "duration": 20,
    "start_time": "2023-09-21T22:10:22.234Z"
   },
   {
    "duration": 172,
    "start_time": "2023-09-21T22:10:22.256Z"
   },
   {
    "duration": 11,
    "start_time": "2023-09-21T22:10:22.431Z"
   },
   {
    "duration": 196,
    "start_time": "2023-09-21T22:10:22.444Z"
   },
   {
    "duration": 24,
    "start_time": "2023-09-21T22:10:22.642Z"
   },
   {
    "duration": 13,
    "start_time": "2023-09-21T22:10:22.668Z"
   },
   {
    "duration": 100,
    "start_time": "2023-09-21T22:10:22.682Z"
   },
   {
    "duration": 328,
    "start_time": "2023-09-21T22:10:22.809Z"
   },
   {
    "duration": 208,
    "start_time": "2023-09-21T22:10:23.139Z"
   },
   {
    "duration": 236,
    "start_time": "2023-09-21T22:10:23.349Z"
   },
   {
    "duration": 233,
    "start_time": "2023-09-21T22:10:23.587Z"
   },
   {
    "duration": 1444,
    "start_time": "2023-09-21T22:10:23.821Z"
   },
   {
    "duration": 3,
    "start_time": "2023-09-21T22:10:25.267Z"
   },
   {
    "duration": 14,
    "start_time": "2023-09-21T22:10:25.272Z"
   },
   {
    "duration": 21,
    "start_time": "2023-09-21T22:10:25.291Z"
   },
   {
    "duration": 175,
    "start_time": "2023-09-21T22:10:25.314Z"
   },
   {
    "duration": 7,
    "start_time": "2023-09-21T22:10:25.491Z"
   },
   {
    "duration": 7,
    "start_time": "2023-09-21T22:10:25.510Z"
   },
   {
    "duration": 17,
    "start_time": "2023-09-21T22:10:25.518Z"
   },
   {
    "duration": 5,
    "start_time": "2023-09-21T22:10:25.537Z"
   },
   {
    "duration": 343,
    "start_time": "2023-09-21T22:10:25.544Z"
   },
   {
    "duration": 5,
    "start_time": "2023-09-21T22:10:25.889Z"
   },
   {
    "duration": 3,
    "start_time": "2023-09-21T22:10:25.910Z"
   },
   {
    "duration": 6,
    "start_time": "2023-09-21T22:10:25.915Z"
   },
   {
    "duration": 8,
    "start_time": "2023-09-21T22:10:25.923Z"
   },
   {
    "duration": 36832,
    "start_time": "2023-09-21T22:10:25.933Z"
   },
   {
    "duration": 2,
    "start_time": "2023-09-21T22:11:02.767Z"
   },
   {
    "duration": 196,
    "start_time": "2023-09-22T07:16:59.318Z"
   },
   {
    "duration": 170,
    "start_time": "2023-09-22T07:17:17.641Z"
   },
   {
    "duration": 170,
    "start_time": "2023-09-22T07:22:12.304Z"
   },
   {
    "duration": 174,
    "start_time": "2023-09-22T07:24:02.158Z"
   },
   {
    "duration": 192,
    "start_time": "2023-09-22T07:24:54.301Z"
   },
   {
    "duration": 2134,
    "start_time": "2023-09-22T07:25:34.987Z"
   },
   {
    "duration": 218,
    "start_time": "2023-09-22T07:25:37.125Z"
   },
   {
    "duration": 0,
    "start_time": "2023-09-22T07:25:37.348Z"
   },
   {
    "duration": 0,
    "start_time": "2023-09-22T07:25:37.351Z"
   },
   {
    "duration": 0,
    "start_time": "2023-09-22T07:25:37.353Z"
   },
   {
    "duration": 0,
    "start_time": "2023-09-22T07:25:37.355Z"
   },
   {
    "duration": 0,
    "start_time": "2023-09-22T07:25:37.357Z"
   },
   {
    "duration": 0,
    "start_time": "2023-09-22T07:25:37.358Z"
   },
   {
    "duration": 0,
    "start_time": "2023-09-22T07:25:37.360Z"
   },
   {
    "duration": 0,
    "start_time": "2023-09-22T07:25:37.364Z"
   },
   {
    "duration": 0,
    "start_time": "2023-09-22T07:25:37.366Z"
   },
   {
    "duration": 0,
    "start_time": "2023-09-22T07:25:37.368Z"
   },
   {
    "duration": 0,
    "start_time": "2023-09-22T07:25:37.371Z"
   },
   {
    "duration": 0,
    "start_time": "2023-09-22T07:25:37.374Z"
   },
   {
    "duration": 0,
    "start_time": "2023-09-22T07:25:37.379Z"
   },
   {
    "duration": 0,
    "start_time": "2023-09-22T07:25:37.380Z"
   },
   {
    "duration": 0,
    "start_time": "2023-09-22T07:25:37.383Z"
   },
   {
    "duration": 0,
    "start_time": "2023-09-22T07:25:37.387Z"
   },
   {
    "duration": 0,
    "start_time": "2023-09-22T07:25:37.389Z"
   },
   {
    "duration": 0,
    "start_time": "2023-09-22T07:25:37.391Z"
   },
   {
    "duration": 0,
    "start_time": "2023-09-22T07:25:37.393Z"
   },
   {
    "duration": 0,
    "start_time": "2023-09-22T07:25:37.394Z"
   },
   {
    "duration": 0,
    "start_time": "2023-09-22T07:25:37.396Z"
   },
   {
    "duration": 0,
    "start_time": "2023-09-22T07:25:37.397Z"
   },
   {
    "duration": 0,
    "start_time": "2023-09-22T07:25:37.398Z"
   },
   {
    "duration": 0,
    "start_time": "2023-09-22T07:25:37.404Z"
   },
   {
    "duration": 0,
    "start_time": "2023-09-22T07:25:37.405Z"
   },
   {
    "duration": 0,
    "start_time": "2023-09-22T07:25:37.407Z"
   },
   {
    "duration": 0,
    "start_time": "2023-09-22T07:25:37.409Z"
   },
   {
    "duration": 0,
    "start_time": "2023-09-22T07:25:37.411Z"
   },
   {
    "duration": 0,
    "start_time": "2023-09-22T07:25:37.412Z"
   },
   {
    "duration": 0,
    "start_time": "2023-09-22T07:25:37.434Z"
   },
   {
    "duration": 0,
    "start_time": "2023-09-22T07:25:37.435Z"
   },
   {
    "duration": 0,
    "start_time": "2023-09-22T07:25:37.445Z"
   },
   {
    "duration": 0,
    "start_time": "2023-09-22T07:25:37.447Z"
   },
   {
    "duration": 0,
    "start_time": "2023-09-22T07:25:37.448Z"
   },
   {
    "duration": 0,
    "start_time": "2023-09-22T07:25:37.449Z"
   },
   {
    "duration": 1,
    "start_time": "2023-09-22T07:25:37.450Z"
   },
   {
    "duration": 0,
    "start_time": "2023-09-22T07:25:37.452Z"
   },
   {
    "duration": 0,
    "start_time": "2023-09-22T07:25:37.469Z"
   },
   {
    "duration": 0,
    "start_time": "2023-09-22T07:25:37.470Z"
   },
   {
    "duration": 0,
    "start_time": "2023-09-22T07:25:37.471Z"
   },
   {
    "duration": 0,
    "start_time": "2023-09-22T07:25:37.473Z"
   },
   {
    "duration": 0,
    "start_time": "2023-09-22T07:25:37.475Z"
   },
   {
    "duration": 0,
    "start_time": "2023-09-22T07:25:37.481Z"
   },
   {
    "duration": 0,
    "start_time": "2023-09-22T07:25:37.483Z"
   },
   {
    "duration": 0,
    "start_time": "2023-09-22T07:25:37.485Z"
   },
   {
    "duration": 0,
    "start_time": "2023-09-22T07:25:37.489Z"
   },
   {
    "duration": 0,
    "start_time": "2023-09-22T07:25:37.490Z"
   },
   {
    "duration": 184,
    "start_time": "2023-09-22T07:26:14.996Z"
   },
   {
    "duration": 4,
    "start_time": "2023-09-22T07:26:23.102Z"
   },
   {
    "duration": 185,
    "start_time": "2023-09-22T07:26:23.112Z"
   },
   {
    "duration": 188,
    "start_time": "2023-09-22T07:26:23.300Z"
   },
   {
    "duration": 123,
    "start_time": "2023-09-22T07:26:23.490Z"
   },
   {
    "duration": 6,
    "start_time": "2023-09-22T07:26:23.616Z"
   },
   {
    "duration": 19,
    "start_time": "2023-09-22T07:26:23.623Z"
   },
   {
    "duration": 448,
    "start_time": "2023-09-22T07:26:23.646Z"
   },
   {
    "duration": 8,
    "start_time": "2023-09-22T07:26:24.099Z"
   },
   {
    "duration": 110,
    "start_time": "2023-09-22T07:26:24.108Z"
   },
   {
    "duration": 148,
    "start_time": "2023-09-22T07:26:24.220Z"
   },
   {
    "duration": 16,
    "start_time": "2023-09-22T07:26:24.382Z"
   },
   {
    "duration": 47,
    "start_time": "2023-09-22T07:26:24.400Z"
   },
   {
    "duration": 39,
    "start_time": "2023-09-22T07:26:24.452Z"
   },
   {
    "duration": 19,
    "start_time": "2023-09-22T07:26:24.493Z"
   },
   {
    "duration": 26,
    "start_time": "2023-09-22T07:26:24.514Z"
   },
   {
    "duration": 25,
    "start_time": "2023-09-22T07:26:24.541Z"
   },
   {
    "duration": 238,
    "start_time": "2023-09-22T07:26:24.569Z"
   },
   {
    "duration": 197,
    "start_time": "2023-09-22T07:26:24.811Z"
   },
   {
    "duration": 0,
    "start_time": "2023-09-22T07:26:25.012Z"
   },
   {
    "duration": 0,
    "start_time": "2023-09-22T07:26:25.013Z"
   },
   {
    "duration": 1,
    "start_time": "2023-09-22T07:26:25.014Z"
   },
   {
    "duration": 0,
    "start_time": "2023-09-22T07:26:25.016Z"
   },
   {
    "duration": 0,
    "start_time": "2023-09-22T07:26:25.018Z"
   },
   {
    "duration": 0,
    "start_time": "2023-09-22T07:26:25.019Z"
   },
   {
    "duration": 0,
    "start_time": "2023-09-22T07:26:25.021Z"
   },
   {
    "duration": 0,
    "start_time": "2023-09-22T07:26:25.022Z"
   },
   {
    "duration": 0,
    "start_time": "2023-09-22T07:26:25.024Z"
   },
   {
    "duration": 0,
    "start_time": "2023-09-22T07:26:25.025Z"
   },
   {
    "duration": 0,
    "start_time": "2023-09-22T07:26:25.026Z"
   },
   {
    "duration": 0,
    "start_time": "2023-09-22T07:26:25.027Z"
   },
   {
    "duration": 0,
    "start_time": "2023-09-22T07:26:25.031Z"
   },
   {
    "duration": 0,
    "start_time": "2023-09-22T07:26:25.034Z"
   },
   {
    "duration": 0,
    "start_time": "2023-09-22T07:26:25.036Z"
   },
   {
    "duration": 0,
    "start_time": "2023-09-22T07:26:25.038Z"
   },
   {
    "duration": 0,
    "start_time": "2023-09-22T07:26:25.041Z"
   },
   {
    "duration": 0,
    "start_time": "2023-09-22T07:26:25.043Z"
   },
   {
    "duration": 0,
    "start_time": "2023-09-22T07:26:25.046Z"
   },
   {
    "duration": 0,
    "start_time": "2023-09-22T07:26:25.048Z"
   },
   {
    "duration": 0,
    "start_time": "2023-09-22T07:26:25.050Z"
   },
   {
    "duration": 0,
    "start_time": "2023-09-22T07:26:25.053Z"
   },
   {
    "duration": 0,
    "start_time": "2023-09-22T07:26:25.055Z"
   },
   {
    "duration": 0,
    "start_time": "2023-09-22T07:26:25.057Z"
   },
   {
    "duration": 0,
    "start_time": "2023-09-22T07:26:25.059Z"
   },
   {
    "duration": 0,
    "start_time": "2023-09-22T07:26:25.064Z"
   },
   {
    "duration": 0,
    "start_time": "2023-09-22T07:26:25.066Z"
   },
   {
    "duration": 0,
    "start_time": "2023-09-22T07:26:25.068Z"
   },
   {
    "duration": 0,
    "start_time": "2023-09-22T07:26:25.070Z"
   },
   {
    "duration": 0,
    "start_time": "2023-09-22T07:26:25.073Z"
   },
   {
    "duration": 223,
    "start_time": "2023-09-22T07:27:56.709Z"
   },
   {
    "duration": 30,
    "start_time": "2023-09-22T07:28:26.323Z"
   },
   {
    "duration": 274,
    "start_time": "2023-09-22T07:28:46.142Z"
   },
   {
    "duration": 250,
    "start_time": "2023-09-22T07:30:17.048Z"
   },
   {
    "duration": 605,
    "start_time": "2023-09-22T07:30:38.762Z"
   },
   {
    "duration": 392,
    "start_time": "2023-09-22T07:30:56.303Z"
   },
   {
    "duration": 239,
    "start_time": "2023-09-22T07:31:05.464Z"
   },
   {
    "duration": 241,
    "start_time": "2023-09-22T07:31:11.355Z"
   },
   {
    "duration": 226,
    "start_time": "2023-09-22T07:32:29.017Z"
   },
   {
    "duration": 346,
    "start_time": "2023-09-22T07:32:36.544Z"
   },
   {
    "duration": 224,
    "start_time": "2023-09-22T07:32:42.414Z"
   },
   {
    "duration": 194,
    "start_time": "2023-09-22T07:33:07.481Z"
   },
   {
    "duration": 214,
    "start_time": "2023-09-22T07:34:08.884Z"
   },
   {
    "duration": 293,
    "start_time": "2023-09-22T07:35:44.960Z"
   },
   {
    "duration": 263,
    "start_time": "2023-09-22T07:35:51.693Z"
   },
   {
    "duration": 278,
    "start_time": "2023-09-22T07:35:57.754Z"
   },
   {
    "duration": 32,
    "start_time": "2023-09-22T07:41:48.892Z"
   },
   {
    "duration": 185,
    "start_time": "2023-09-22T07:45:01.367Z"
   },
   {
    "duration": 245,
    "start_time": "2023-09-22T07:45:08.654Z"
   },
   {
    "duration": 224,
    "start_time": "2023-09-22T07:45:23.579Z"
   },
   {
    "duration": 236,
    "start_time": "2023-09-22T07:45:30.051Z"
   },
   {
    "duration": 21,
    "start_time": "2023-09-22T07:49:07.461Z"
   },
   {
    "duration": 245,
    "start_time": "2023-09-22T07:49:50.039Z"
   },
   {
    "duration": 189,
    "start_time": "2023-09-22T07:51:17.751Z"
   },
   {
    "duration": 218,
    "start_time": "2023-09-22T07:51:22.295Z"
   },
   {
    "duration": 260,
    "start_time": "2023-09-22T07:53:00.977Z"
   },
   {
    "duration": 259,
    "start_time": "2023-09-22T07:54:03.903Z"
   },
   {
    "duration": 358,
    "start_time": "2023-09-22T07:54:26.147Z"
   },
   {
    "duration": 2997,
    "start_time": "2023-09-22T07:54:35.311Z"
   },
   {
    "duration": 16,
    "start_time": "2023-09-22T07:55:23.850Z"
   },
   {
    "duration": 3111,
    "start_time": "2023-09-22T07:56:18.108Z"
   },
   {
    "duration": 3163,
    "start_time": "2023-09-22T07:56:29.754Z"
   },
   {
    "duration": 4007,
    "start_time": "2023-09-22T07:56:55.255Z"
   },
   {
    "duration": 8,
    "start_time": "2023-09-22T07:57:14.926Z"
   },
   {
    "duration": 114,
    "start_time": "2023-09-22T07:57:14.942Z"
   },
   {
    "duration": 86,
    "start_time": "2023-09-22T07:57:15.064Z"
   },
   {
    "duration": 59,
    "start_time": "2023-09-22T07:57:15.153Z"
   },
   {
    "duration": 7,
    "start_time": "2023-09-22T07:57:15.216Z"
   },
   {
    "duration": 29,
    "start_time": "2023-09-22T07:57:15.227Z"
   },
   {
    "duration": 674,
    "start_time": "2023-09-22T07:57:15.262Z"
   },
   {
    "duration": 8,
    "start_time": "2023-09-22T07:57:15.938Z"
   },
   {
    "duration": 82,
    "start_time": "2023-09-22T07:57:15.948Z"
   },
   {
    "duration": 142,
    "start_time": "2023-09-22T07:57:16.033Z"
   },
   {
    "duration": 16,
    "start_time": "2023-09-22T07:57:16.180Z"
   },
   {
    "duration": 13,
    "start_time": "2023-09-22T07:57:16.199Z"
   },
   {
    "duration": 17,
    "start_time": "2023-09-22T07:57:16.214Z"
   },
   {
    "duration": 24,
    "start_time": "2023-09-22T07:57:16.234Z"
   },
   {
    "duration": 26,
    "start_time": "2023-09-22T07:57:16.260Z"
   },
   {
    "duration": 38,
    "start_time": "2023-09-22T07:57:16.288Z"
   },
   {
    "duration": 260,
    "start_time": "2023-09-22T07:57:16.328Z"
   },
   {
    "duration": 7,
    "start_time": "2023-09-22T07:57:16.590Z"
   },
   {
    "duration": 4146,
    "start_time": "2023-09-22T07:57:16.599Z"
   },
   {
    "duration": 0,
    "start_time": "2023-09-22T07:57:20.760Z"
   },
   {
    "duration": 0,
    "start_time": "2023-09-22T07:57:20.765Z"
   },
   {
    "duration": 0,
    "start_time": "2023-09-22T07:57:20.766Z"
   },
   {
    "duration": 0,
    "start_time": "2023-09-22T07:57:20.767Z"
   },
   {
    "duration": 0,
    "start_time": "2023-09-22T07:57:20.768Z"
   },
   {
    "duration": 0,
    "start_time": "2023-09-22T07:57:20.773Z"
   },
   {
    "duration": 0,
    "start_time": "2023-09-22T07:57:20.774Z"
   },
   {
    "duration": 0,
    "start_time": "2023-09-22T07:57:20.788Z"
   },
   {
    "duration": 0,
    "start_time": "2023-09-22T07:57:20.790Z"
   },
   {
    "duration": 0,
    "start_time": "2023-09-22T07:57:20.791Z"
   },
   {
    "duration": 0,
    "start_time": "2023-09-22T07:57:20.792Z"
   },
   {
    "duration": 0,
    "start_time": "2023-09-22T07:57:20.792Z"
   },
   {
    "duration": 0,
    "start_time": "2023-09-22T07:57:20.794Z"
   },
   {
    "duration": 0,
    "start_time": "2023-09-22T07:57:20.795Z"
   },
   {
    "duration": 1,
    "start_time": "2023-09-22T07:57:20.795Z"
   },
   {
    "duration": 0,
    "start_time": "2023-09-22T07:57:20.799Z"
   },
   {
    "duration": 0,
    "start_time": "2023-09-22T07:57:20.800Z"
   },
   {
    "duration": 0,
    "start_time": "2023-09-22T07:57:20.802Z"
   },
   {
    "duration": 0,
    "start_time": "2023-09-22T07:57:20.804Z"
   },
   {
    "duration": 0,
    "start_time": "2023-09-22T07:57:20.806Z"
   },
   {
    "duration": 0,
    "start_time": "2023-09-22T07:57:20.807Z"
   },
   {
    "duration": 0,
    "start_time": "2023-09-22T07:57:20.809Z"
   },
   {
    "duration": 0,
    "start_time": "2023-09-22T07:57:20.811Z"
   },
   {
    "duration": 0,
    "start_time": "2023-09-22T07:57:20.813Z"
   },
   {
    "duration": 0,
    "start_time": "2023-09-22T07:57:20.815Z"
   },
   {
    "duration": 0,
    "start_time": "2023-09-22T07:57:20.817Z"
   },
   {
    "duration": 0,
    "start_time": "2023-09-22T07:57:20.818Z"
   },
   {
    "duration": 0,
    "start_time": "2023-09-22T07:57:20.820Z"
   },
   {
    "duration": 0,
    "start_time": "2023-09-22T07:57:20.822Z"
   },
   {
    "duration": 0,
    "start_time": "2023-09-22T07:57:20.824Z"
   },
   {
    "duration": 0,
    "start_time": "2023-09-22T07:57:20.825Z"
   },
   {
    "duration": 2900,
    "start_time": "2023-09-22T07:57:32.352Z"
   },
   {
    "duration": 3178,
    "start_time": "2023-09-22T07:57:53.247Z"
   },
   {
    "duration": 534,
    "start_time": "2023-09-22T07:58:25.046Z"
   },
   {
    "duration": 434,
    "start_time": "2023-09-22T07:58:48.643Z"
   },
   {
    "duration": 555,
    "start_time": "2023-09-22T07:59:02.204Z"
   },
   {
    "duration": 250,
    "start_time": "2023-09-22T08:01:27.872Z"
   },
   {
    "duration": 209,
    "start_time": "2023-09-22T08:03:01.375Z"
   },
   {
    "duration": 169,
    "start_time": "2023-09-22T08:04:14.313Z"
   },
   {
    "duration": 17,
    "start_time": "2023-09-22T08:05:07.152Z"
   },
   {
    "duration": 14,
    "start_time": "2023-09-22T08:08:20.004Z"
   },
   {
    "duration": 229,
    "start_time": "2023-09-22T08:08:33.583Z"
   },
   {
    "duration": 309,
    "start_time": "2023-09-22T08:08:45.809Z"
   },
   {
    "duration": 251,
    "start_time": "2023-09-22T08:09:52.047Z"
   },
   {
    "duration": 337,
    "start_time": "2023-09-22T08:13:02.251Z"
   },
   {
    "duration": 546,
    "start_time": "2023-09-22T08:14:09.247Z"
   },
   {
    "duration": 463,
    "start_time": "2023-09-22T08:14:18.818Z"
   },
   {
    "duration": 287,
    "start_time": "2023-09-22T08:15:04.928Z"
   },
   {
    "duration": 365,
    "start_time": "2023-09-22T08:16:41.248Z"
   },
   {
    "duration": 1538,
    "start_time": "2023-09-22T08:27:36.971Z"
   },
   {
    "duration": 64,
    "start_time": "2023-09-22T08:27:38.511Z"
   },
   {
    "duration": 81,
    "start_time": "2023-09-22T08:27:38.577Z"
   },
   {
    "duration": 34,
    "start_time": "2023-09-22T08:27:38.664Z"
   },
   {
    "duration": 5,
    "start_time": "2023-09-22T08:27:38.700Z"
   },
   {
    "duration": 31,
    "start_time": "2023-09-22T08:27:38.707Z"
   },
   {
    "duration": 326,
    "start_time": "2023-09-22T08:27:38.741Z"
   },
   {
    "duration": 7,
    "start_time": "2023-09-22T08:27:39.069Z"
   },
   {
    "duration": 18,
    "start_time": "2023-09-22T08:27:39.078Z"
   },
   {
    "duration": 43,
    "start_time": "2023-09-22T08:27:39.100Z"
   },
   {
    "duration": 7,
    "start_time": "2023-09-22T08:27:39.147Z"
   },
   {
    "duration": 8,
    "start_time": "2023-09-22T08:27:39.157Z"
   },
   {
    "duration": 6,
    "start_time": "2023-09-22T08:27:39.167Z"
   },
   {
    "duration": 26,
    "start_time": "2023-09-22T08:27:39.175Z"
   },
   {
    "duration": 28,
    "start_time": "2023-09-22T08:27:39.203Z"
   },
   {
    "duration": 19,
    "start_time": "2023-09-22T08:27:39.239Z"
   },
   {
    "duration": 175,
    "start_time": "2023-09-22T08:27:39.261Z"
   },
   {
    "duration": 212,
    "start_time": "2023-09-22T08:27:39.438Z"
   },
   {
    "duration": 129,
    "start_time": "2023-09-22T08:27:39.651Z"
   },
   {
    "duration": 267,
    "start_time": "2023-09-22T08:27:39.782Z"
   },
   {
    "duration": 7,
    "start_time": "2023-09-22T08:27:40.051Z"
   },
   {
    "duration": 73,
    "start_time": "2023-09-22T08:27:40.061Z"
   },
   {
    "duration": 246,
    "start_time": "2023-09-22T08:27:40.135Z"
   },
   {
    "duration": 514,
    "start_time": "2023-09-22T08:27:40.384Z"
   },
   {
    "duration": 24,
    "start_time": "2023-09-22T08:27:40.901Z"
   },
   {
    "duration": 179,
    "start_time": "2023-09-22T08:27:40.927Z"
   },
   {
    "duration": 1572,
    "start_time": "2023-09-22T08:31:17.622Z"
   },
   {
    "duration": 63,
    "start_time": "2023-09-22T08:31:19.196Z"
   },
   {
    "duration": 54,
    "start_time": "2023-09-22T08:31:19.261Z"
   },
   {
    "duration": 42,
    "start_time": "2023-09-22T08:31:19.317Z"
   },
   {
    "duration": 6,
    "start_time": "2023-09-22T08:31:19.362Z"
   },
   {
    "duration": 23,
    "start_time": "2023-09-22T08:31:19.370Z"
   },
   {
    "duration": 371,
    "start_time": "2023-09-22T08:31:19.395Z"
   },
   {
    "duration": 9,
    "start_time": "2023-09-22T08:31:19.768Z"
   },
   {
    "duration": 29,
    "start_time": "2023-09-22T08:31:19.779Z"
   },
   {
    "duration": 34,
    "start_time": "2023-09-22T08:31:19.812Z"
   },
   {
    "duration": 8,
    "start_time": "2023-09-22T08:31:19.850Z"
   },
   {
    "duration": 7,
    "start_time": "2023-09-22T08:31:19.860Z"
   },
   {
    "duration": 17,
    "start_time": "2023-09-22T08:31:19.869Z"
   },
   {
    "duration": 11,
    "start_time": "2023-09-22T08:31:19.889Z"
   },
   {
    "duration": 35,
    "start_time": "2023-09-22T08:31:19.902Z"
   },
   {
    "duration": 19,
    "start_time": "2023-09-22T08:31:19.939Z"
   },
   {
    "duration": 200,
    "start_time": "2023-09-22T08:31:19.960Z"
   },
   {
    "duration": 261,
    "start_time": "2023-09-22T08:31:20.162Z"
   },
   {
    "duration": 149,
    "start_time": "2023-09-22T08:31:20.425Z"
   },
   {
    "duration": 236,
    "start_time": "2023-09-22T08:31:20.575Z"
   },
   {
    "duration": 19,
    "start_time": "2023-09-22T08:31:20.812Z"
   },
   {
    "duration": 110,
    "start_time": "2023-09-22T08:31:20.833Z"
   },
   {
    "duration": 225,
    "start_time": "2023-09-22T08:31:20.945Z"
   },
   {
    "duration": 481,
    "start_time": "2023-09-22T08:31:21.172Z"
   },
   {
    "duration": 8,
    "start_time": "2023-09-22T08:31:21.655Z"
   },
   {
    "duration": 171,
    "start_time": "2023-09-22T08:31:21.666Z"
   },
   {
    "duration": 222,
    "start_time": "2023-09-22T08:31:21.846Z"
   },
   {
    "duration": 28,
    "start_time": "2023-09-22T08:31:22.074Z"
   },
   {
    "duration": 22,
    "start_time": "2023-09-22T08:31:22.104Z"
   },
   {
    "duration": 26,
    "start_time": "2023-09-22T08:31:22.128Z"
   },
   {
    "duration": 298,
    "start_time": "2023-09-22T08:31:22.157Z"
   },
   {
    "duration": 234,
    "start_time": "2023-09-22T08:31:22.457Z"
   },
   {
    "duration": 290,
    "start_time": "2023-09-22T08:31:22.692Z"
   },
   {
    "duration": 220,
    "start_time": "2023-09-22T08:31:22.985Z"
   },
   {
    "duration": 1071,
    "start_time": "2023-09-22T08:31:23.207Z"
   },
   {
    "duration": 4,
    "start_time": "2023-09-22T08:31:24.280Z"
   },
   {
    "duration": 81,
    "start_time": "2023-09-22T08:31:24.286Z"
   },
   {
    "duration": 92,
    "start_time": "2023-09-22T08:31:24.370Z"
   },
   {
    "duration": 189,
    "start_time": "2023-09-22T08:31:24.465Z"
   },
   {
    "duration": 8,
    "start_time": "2023-09-22T08:31:24.656Z"
   },
   {
    "duration": 22,
    "start_time": "2023-09-22T08:31:24.667Z"
   },
   {
    "duration": 25,
    "start_time": "2023-09-22T08:31:24.691Z"
   },
   {
    "duration": 24,
    "start_time": "2023-09-22T08:31:24.718Z"
   },
   {
    "duration": 410,
    "start_time": "2023-09-22T08:31:24.744Z"
   },
   {
    "duration": 4,
    "start_time": "2023-09-22T08:31:25.156Z"
   },
   {
    "duration": 26,
    "start_time": "2023-09-22T08:31:25.162Z"
   },
   {
    "duration": 16,
    "start_time": "2023-09-22T08:31:25.190Z"
   },
   {
    "duration": 33,
    "start_time": "2023-09-22T08:31:25.207Z"
   },
   {
    "duration": 45782,
    "start_time": "2023-09-22T08:31:25.242Z"
   },
   {
    "duration": 3,
    "start_time": "2023-09-22T08:32:11.026Z"
   },
   {
    "duration": 260,
    "start_time": "2023-09-22T08:32:56.604Z"
   },
   {
    "duration": 220,
    "start_time": "2023-09-22T08:33:21.966Z"
   },
   {
    "duration": 283,
    "start_time": "2023-09-22T08:36:17.723Z"
   },
   {
    "duration": 126,
    "start_time": "2023-09-22T08:37:22.765Z"
   },
   {
    "duration": 468,
    "start_time": "2023-09-22T08:37:30.111Z"
   },
   {
    "duration": 240,
    "start_time": "2023-09-22T08:38:16.559Z"
   },
   {
    "duration": 321,
    "start_time": "2023-09-22T08:41:07.890Z"
   },
   {
    "duration": 513,
    "start_time": "2023-09-22T08:41:18.358Z"
   },
   {
    "duration": 312,
    "start_time": "2023-09-22T08:41:41.256Z"
   },
   {
    "duration": 313,
    "start_time": "2023-09-22T08:41:47.920Z"
   },
   {
    "duration": 319,
    "start_time": "2023-09-22T08:42:24.075Z"
   },
   {
    "duration": 276,
    "start_time": "2023-09-22T08:43:03.625Z"
   },
   {
    "duration": 433,
    "start_time": "2023-09-22T08:43:26.775Z"
   },
   {
    "duration": 4,
    "start_time": "2023-09-22T08:54:12.493Z"
   },
   {
    "duration": 967,
    "start_time": "2023-09-22T08:54:13.295Z"
   },
   {
    "duration": 6,
    "start_time": "2023-09-22T08:54:16.229Z"
   },
   {
    "duration": 13,
    "start_time": "2023-09-22T08:54:20.302Z"
   },
   {
    "duration": 192,
    "start_time": "2023-09-22T08:54:22.470Z"
   },
   {
    "duration": 125,
    "start_time": "2023-09-22T08:57:06.668Z"
   },
   {
    "duration": 217,
    "start_time": "2023-09-22T08:57:14.977Z"
   },
   {
    "duration": 4,
    "start_time": "2023-09-22T08:57:15.565Z"
   },
   {
    "duration": 8,
    "start_time": "2023-09-22T08:57:33.625Z"
   },
   {
    "duration": 4,
    "start_time": "2023-09-22T08:57:34.602Z"
   },
   {
    "duration": 1117,
    "start_time": "2023-09-22T08:57:34.998Z"
   },
   {
    "duration": 8,
    "start_time": "2023-09-22T08:57:36.133Z"
   },
   {
    "duration": 18,
    "start_time": "2023-09-22T08:57:37.517Z"
   },
   {
    "duration": 243,
    "start_time": "2023-09-22T08:57:38.863Z"
   },
   {
    "duration": 7,
    "start_time": "2023-09-22T08:59:29.698Z"
   },
   {
    "duration": 8,
    "start_time": "2023-09-22T09:01:43.292Z"
   },
   {
    "duration": 6,
    "start_time": "2023-09-22T09:02:11.702Z"
   },
   {
    "duration": 7,
    "start_time": "2023-09-22T09:05:18.367Z"
   },
   {
    "duration": 6,
    "start_time": "2023-09-22T09:06:10.708Z"
   },
   {
    "duration": 202,
    "start_time": "2023-09-22T09:08:46.237Z"
   },
   {
    "duration": 9,
    "start_time": "2023-09-22T09:13:45.457Z"
   },
   {
    "duration": 9,
    "start_time": "2023-09-22T09:18:54.847Z"
   },
   {
    "duration": 4,
    "start_time": "2023-09-22T09:19:04.101Z"
   },
   {
    "duration": 7,
    "start_time": "2023-09-22T09:19:21.230Z"
   },
   {
    "duration": 1438,
    "start_time": "2023-09-22T09:19:29.918Z"
   },
   {
    "duration": 53,
    "start_time": "2023-09-22T09:19:31.358Z"
   },
   {
    "duration": 81,
    "start_time": "2023-09-22T09:19:31.413Z"
   },
   {
    "duration": 39,
    "start_time": "2023-09-22T09:19:31.497Z"
   },
   {
    "duration": 23,
    "start_time": "2023-09-22T09:19:31.539Z"
   },
   {
    "duration": 22,
    "start_time": "2023-09-22T09:19:31.564Z"
   },
   {
    "duration": 396,
    "start_time": "2023-09-22T09:19:31.587Z"
   },
   {
    "duration": 6,
    "start_time": "2023-09-22T09:19:31.985Z"
   },
   {
    "duration": 150,
    "start_time": "2023-09-22T09:19:31.993Z"
   },
   {
    "duration": 31,
    "start_time": "2023-09-22T09:19:32.145Z"
   },
   {
    "duration": 6,
    "start_time": "2023-09-22T09:19:32.177Z"
   },
   {
    "duration": 9,
    "start_time": "2023-09-22T09:19:32.185Z"
   },
   {
    "duration": 16,
    "start_time": "2023-09-22T09:19:32.196Z"
   },
   {
    "duration": 26,
    "start_time": "2023-09-22T09:19:32.213Z"
   },
   {
    "duration": 7,
    "start_time": "2023-09-22T09:19:32.241Z"
   },
   {
    "duration": 11,
    "start_time": "2023-09-22T09:19:32.250Z"
   },
   {
    "duration": 185,
    "start_time": "2023-09-22T09:19:32.262Z"
   },
   {
    "duration": 197,
    "start_time": "2023-09-22T09:19:32.449Z"
   },
   {
    "duration": 109,
    "start_time": "2023-09-22T09:19:32.648Z"
   },
   {
    "duration": 197,
    "start_time": "2023-09-22T09:19:32.759Z"
   },
   {
    "duration": 6,
    "start_time": "2023-09-22T09:19:32.958Z"
   },
   {
    "duration": 30,
    "start_time": "2023-09-22T09:19:32.965Z"
   },
   {
    "duration": 175,
    "start_time": "2023-09-22T09:19:32.997Z"
   },
   {
    "duration": 367,
    "start_time": "2023-09-22T09:19:33.174Z"
   },
   {
    "duration": 14,
    "start_time": "2023-09-22T09:19:33.543Z"
   },
   {
    "duration": 128,
    "start_time": "2023-09-22T09:19:33.559Z"
   },
   {
    "duration": 205,
    "start_time": "2023-09-22T09:19:33.689Z"
   },
   {
    "duration": 17,
    "start_time": "2023-09-22T09:19:33.898Z"
   },
   {
    "duration": 23,
    "start_time": "2023-09-22T09:19:33.917Z"
   },
   {
    "duration": 39,
    "start_time": "2023-09-22T09:19:33.942Z"
   },
   {
    "duration": 10,
    "start_time": "2023-09-22T09:19:33.983Z"
   },
   {
    "duration": 33,
    "start_time": "2023-09-22T09:19:33.995Z"
   },
   {
    "duration": 24,
    "start_time": "2023-09-22T09:19:34.030Z"
   },
   {
    "duration": 205,
    "start_time": "2023-09-22T09:19:34.056Z"
   },
   {
    "duration": 203,
    "start_time": "2023-09-22T09:19:34.263Z"
   },
   {
    "duration": 214,
    "start_time": "2023-09-22T09:19:34.468Z"
   },
   {
    "duration": 197,
    "start_time": "2023-09-22T09:19:34.684Z"
   },
   {
    "duration": 280,
    "start_time": "2023-09-22T09:19:34.882Z"
   },
   {
    "duration": 339,
    "start_time": "2023-09-22T09:19:35.164Z"
   },
   {
    "duration": 3,
    "start_time": "2023-09-22T09:19:35.504Z"
   },
   {
    "duration": 120,
    "start_time": "2023-09-22T09:19:35.526Z"
   },
   {
    "duration": 0,
    "start_time": "2023-09-22T09:19:35.648Z"
   },
   {
    "duration": 0,
    "start_time": "2023-09-22T09:19:35.649Z"
   },
   {
    "duration": 0,
    "start_time": "2023-09-22T09:19:35.650Z"
   },
   {
    "duration": 0,
    "start_time": "2023-09-22T09:19:35.651Z"
   },
   {
    "duration": 0,
    "start_time": "2023-09-22T09:19:35.653Z"
   },
   {
    "duration": 0,
    "start_time": "2023-09-22T09:19:35.654Z"
   },
   {
    "duration": 0,
    "start_time": "2023-09-22T09:19:35.655Z"
   },
   {
    "duration": 0,
    "start_time": "2023-09-22T09:19:35.656Z"
   },
   {
    "duration": 0,
    "start_time": "2023-09-22T09:19:35.657Z"
   },
   {
    "duration": 0,
    "start_time": "2023-09-22T09:19:35.659Z"
   },
   {
    "duration": 0,
    "start_time": "2023-09-22T09:19:35.660Z"
   },
   {
    "duration": 0,
    "start_time": "2023-09-22T09:19:35.661Z"
   },
   {
    "duration": 0,
    "start_time": "2023-09-22T09:19:35.662Z"
   },
   {
    "duration": 0,
    "start_time": "2023-09-22T09:19:35.663Z"
   },
   {
    "duration": 0,
    "start_time": "2023-09-22T09:19:35.665Z"
   },
   {
    "duration": 19,
    "start_time": "2023-09-22T09:19:54.135Z"
   },
   {
    "duration": 11,
    "start_time": "2023-09-22T09:19:54.573Z"
   },
   {
    "duration": 10,
    "start_time": "2023-09-22T09:19:55.585Z"
   },
   {
    "duration": 8,
    "start_time": "2023-09-22T09:19:57.995Z"
   },
   {
    "duration": 4,
    "start_time": "2023-09-22T09:19:58.506Z"
   },
   {
    "duration": 17,
    "start_time": "2023-09-22T09:20:14.503Z"
   },
   {
    "duration": 17,
    "start_time": "2023-09-22T09:20:34.580Z"
   },
   {
    "duration": 12,
    "start_time": "2023-09-22T09:20:35.200Z"
   },
   {
    "duration": 10,
    "start_time": "2023-09-22T09:20:36.038Z"
   },
   {
    "duration": 9,
    "start_time": "2023-09-22T09:20:36.239Z"
   },
   {
    "duration": 4,
    "start_time": "2023-09-22T09:20:36.670Z"
   },
   {
    "duration": 4,
    "start_time": "2023-09-22T09:20:37.738Z"
   },
   {
    "duration": 9,
    "start_time": "2023-09-22T09:22:37.910Z"
   },
   {
    "duration": 9,
    "start_time": "2023-09-22T09:22:51.757Z"
   },
   {
    "duration": 9,
    "start_time": "2023-09-22T09:23:06.674Z"
   },
   {
    "duration": 1375,
    "start_time": "2023-09-22T09:23:17.860Z"
   },
   {
    "duration": 57,
    "start_time": "2023-09-22T09:23:19.238Z"
   },
   {
    "duration": 58,
    "start_time": "2023-09-22T09:23:19.297Z"
   },
   {
    "duration": 32,
    "start_time": "2023-09-22T09:23:19.357Z"
   },
   {
    "duration": 33,
    "start_time": "2023-09-22T09:23:19.390Z"
   },
   {
    "duration": 49,
    "start_time": "2023-09-22T09:23:19.425Z"
   },
   {
    "duration": 318,
    "start_time": "2023-09-22T09:23:19.476Z"
   },
   {
    "duration": 8,
    "start_time": "2023-09-22T09:23:19.795Z"
   },
   {
    "duration": 31,
    "start_time": "2023-09-22T09:23:19.805Z"
   },
   {
    "duration": 56,
    "start_time": "2023-09-22T09:23:19.845Z"
   },
   {
    "duration": 17,
    "start_time": "2023-09-22T09:23:19.903Z"
   },
   {
    "duration": 33,
    "start_time": "2023-09-22T09:23:19.922Z"
   },
   {
    "duration": 61,
    "start_time": "2023-09-22T09:23:19.958Z"
   },
   {
    "duration": 157,
    "start_time": "2023-09-22T09:23:20.022Z"
   },
   {
    "duration": 167,
    "start_time": "2023-09-22T09:23:20.181Z"
   },
   {
    "duration": 215,
    "start_time": "2023-09-22T09:23:20.351Z"
   },
   {
    "duration": 303,
    "start_time": "2023-09-22T09:23:20.568Z"
   },
   {
    "duration": 330,
    "start_time": "2023-09-22T09:23:20.874Z"
   },
   {
    "duration": 154,
    "start_time": "2023-09-22T09:23:21.207Z"
   },
   {
    "duration": 217,
    "start_time": "2023-09-22T09:23:21.363Z"
   },
   {
    "duration": 7,
    "start_time": "2023-09-22T09:23:21.583Z"
   },
   {
    "duration": 16,
    "start_time": "2023-09-22T09:23:21.592Z"
   },
   {
    "duration": 246,
    "start_time": "2023-09-22T09:23:21.624Z"
   },
   {
    "duration": 479,
    "start_time": "2023-09-22T09:23:21.872Z"
   },
   {
    "duration": 10,
    "start_time": "2023-09-22T09:23:22.354Z"
   },
   {
    "duration": 138,
    "start_time": "2023-09-22T09:23:22.366Z"
   },
   {
    "duration": 247,
    "start_time": "2023-09-22T09:23:22.506Z"
   },
   {
    "duration": 19,
    "start_time": "2023-09-22T09:23:22.757Z"
   },
   {
    "duration": 29,
    "start_time": "2023-09-22T09:23:22.778Z"
   },
   {
    "duration": 51,
    "start_time": "2023-09-22T09:23:22.809Z"
   },
   {
    "duration": 31,
    "start_time": "2023-09-22T09:23:22.863Z"
   },
   {
    "duration": 64,
    "start_time": "2023-09-22T09:23:22.897Z"
   },
   {
    "duration": 154,
    "start_time": "2023-09-22T09:23:22.964Z"
   },
   {
    "duration": 0,
    "start_time": "2023-09-22T09:23:23.119Z"
   },
   {
    "duration": 0,
    "start_time": "2023-09-22T09:23:23.121Z"
   },
   {
    "duration": 0,
    "start_time": "2023-09-22T09:23:23.123Z"
   },
   {
    "duration": 0,
    "start_time": "2023-09-22T09:23:23.124Z"
   },
   {
    "duration": 0,
    "start_time": "2023-09-22T09:23:23.125Z"
   },
   {
    "duration": 0,
    "start_time": "2023-09-22T09:23:23.126Z"
   },
   {
    "duration": 0,
    "start_time": "2023-09-22T09:23:23.127Z"
   },
   {
    "duration": 0,
    "start_time": "2023-09-22T09:23:23.132Z"
   },
   {
    "duration": 0,
    "start_time": "2023-09-22T09:23:23.134Z"
   },
   {
    "duration": 0,
    "start_time": "2023-09-22T09:23:23.136Z"
   },
   {
    "duration": 0,
    "start_time": "2023-09-22T09:23:23.137Z"
   },
   {
    "duration": 0,
    "start_time": "2023-09-22T09:23:23.137Z"
   },
   {
    "duration": 0,
    "start_time": "2023-09-22T09:23:23.138Z"
   },
   {
    "duration": 0,
    "start_time": "2023-09-22T09:23:23.139Z"
   },
   {
    "duration": 0,
    "start_time": "2023-09-22T09:23:23.140Z"
   },
   {
    "duration": 0,
    "start_time": "2023-09-22T09:23:23.141Z"
   },
   {
    "duration": 0,
    "start_time": "2023-09-22T09:23:23.142Z"
   },
   {
    "duration": 0,
    "start_time": "2023-09-22T09:23:23.143Z"
   },
   {
    "duration": 0,
    "start_time": "2023-09-22T09:23:23.144Z"
   },
   {
    "duration": 0,
    "start_time": "2023-09-22T09:23:23.145Z"
   },
   {
    "duration": 0,
    "start_time": "2023-09-22T09:23:23.146Z"
   },
   {
    "duration": 0,
    "start_time": "2023-09-22T09:23:23.153Z"
   },
   {
    "duration": 0,
    "start_time": "2023-09-22T09:23:23.155Z"
   },
   {
    "duration": 0,
    "start_time": "2023-09-22T09:23:23.157Z"
   },
   {
    "duration": 20,
    "start_time": "2023-09-22T09:24:02.269Z"
   },
   {
    "duration": 25,
    "start_time": "2023-09-22T09:24:03.118Z"
   },
   {
    "duration": 16,
    "start_time": "2023-09-22T09:24:04.127Z"
   },
   {
    "duration": 8,
    "start_time": "2023-09-22T09:24:04.741Z"
   },
   {
    "duration": 5,
    "start_time": "2023-09-22T09:24:05.748Z"
   },
   {
    "duration": 3,
    "start_time": "2023-09-22T09:24:24.470Z"
   },
   {
    "duration": 5,
    "start_time": "2023-09-22T09:24:31.699Z"
   },
   {
    "duration": 5,
    "start_time": "2023-09-22T09:24:43.871Z"
   },
   {
    "duration": 258,
    "start_time": "2023-09-22T09:26:22.807Z"
   },
   {
    "duration": 85,
    "start_time": "2023-09-22T09:34:50.392Z"
   },
   {
    "duration": 17,
    "start_time": "2023-09-22T09:35:05.923Z"
   },
   {
    "duration": 1283,
    "start_time": "2023-09-22T09:35:12.457Z"
   },
   {
    "duration": 52,
    "start_time": "2023-09-22T09:35:13.742Z"
   },
   {
    "duration": 57,
    "start_time": "2023-09-22T09:35:13.796Z"
   },
   {
    "duration": 36,
    "start_time": "2023-09-22T09:35:13.855Z"
   },
   {
    "duration": 45,
    "start_time": "2023-09-22T09:35:13.893Z"
   },
   {
    "duration": 13,
    "start_time": "2023-09-22T09:35:13.940Z"
   },
   {
    "duration": 298,
    "start_time": "2023-09-22T09:35:13.954Z"
   },
   {
    "duration": 6,
    "start_time": "2023-09-22T09:35:14.254Z"
   },
   {
    "duration": 13,
    "start_time": "2023-09-22T09:35:14.262Z"
   },
   {
    "duration": 22,
    "start_time": "2023-09-22T09:35:14.278Z"
   },
   {
    "duration": 23,
    "start_time": "2023-09-22T09:35:14.302Z"
   },
   {
    "duration": 7,
    "start_time": "2023-09-22T09:35:14.330Z"
   },
   {
    "duration": 23,
    "start_time": "2023-09-22T09:35:14.339Z"
   },
   {
    "duration": 13,
    "start_time": "2023-09-22T09:35:14.364Z"
   },
   {
    "duration": 7,
    "start_time": "2023-09-22T09:35:14.378Z"
   },
   {
    "duration": 22,
    "start_time": "2023-09-22T09:35:14.386Z"
   },
   {
    "duration": 175,
    "start_time": "2023-09-22T09:35:14.410Z"
   },
   {
    "duration": 191,
    "start_time": "2023-09-22T09:35:14.587Z"
   },
   {
    "duration": 103,
    "start_time": "2023-09-22T09:35:14.780Z"
   },
   {
    "duration": 194,
    "start_time": "2023-09-22T09:35:14.885Z"
   },
   {
    "duration": 6,
    "start_time": "2023-09-22T09:35:15.081Z"
   },
   {
    "duration": 72,
    "start_time": "2023-09-22T09:35:15.088Z"
   },
   {
    "duration": 213,
    "start_time": "2023-09-22T09:35:15.162Z"
   },
   {
    "duration": 390,
    "start_time": "2023-09-22T09:35:15.377Z"
   },
   {
    "duration": 9,
    "start_time": "2023-09-22T09:35:15.770Z"
   },
   {
    "duration": 187,
    "start_time": "2023-09-22T09:35:15.781Z"
   },
   {
    "duration": 242,
    "start_time": "2023-09-22T09:35:15.970Z"
   },
   {
    "duration": 29,
    "start_time": "2023-09-22T09:35:16.216Z"
   },
   {
    "duration": 67,
    "start_time": "2023-09-22T09:35:16.246Z"
   },
   {
    "duration": 28,
    "start_time": "2023-09-22T09:35:16.315Z"
   },
   {
    "duration": 30,
    "start_time": "2023-09-22T09:35:16.344Z"
   },
   {
    "duration": 14,
    "start_time": "2023-09-22T09:35:16.375Z"
   },
   {
    "duration": 38,
    "start_time": "2023-09-22T09:35:16.391Z"
   },
   {
    "duration": 76,
    "start_time": "2023-09-22T09:35:16.435Z"
   },
   {
    "duration": 297,
    "start_time": "2023-09-22T09:35:16.513Z"
   },
   {
    "duration": 250,
    "start_time": "2023-09-22T09:35:16.812Z"
   },
   {
    "duration": 212,
    "start_time": "2023-09-22T09:35:17.063Z"
   },
   {
    "duration": 188,
    "start_time": "2023-09-22T09:35:17.277Z"
   },
   {
    "duration": 276,
    "start_time": "2023-09-22T09:35:17.466Z"
   },
   {
    "duration": 360,
    "start_time": "2023-09-22T09:35:17.744Z"
   },
   {
    "duration": 3,
    "start_time": "2023-09-22T09:35:18.105Z"
   },
   {
    "duration": 238,
    "start_time": "2023-09-22T09:35:18.109Z"
   },
   {
    "duration": 0,
    "start_time": "2023-09-22T09:35:18.349Z"
   },
   {
    "duration": 0,
    "start_time": "2023-09-22T09:35:18.351Z"
   },
   {
    "duration": 0,
    "start_time": "2023-09-22T09:35:18.352Z"
   },
   {
    "duration": 0,
    "start_time": "2023-09-22T09:35:18.353Z"
   },
   {
    "duration": 0,
    "start_time": "2023-09-22T09:35:18.354Z"
   },
   {
    "duration": 0,
    "start_time": "2023-09-22T09:35:18.355Z"
   },
   {
    "duration": 0,
    "start_time": "2023-09-22T09:35:18.356Z"
   },
   {
    "duration": 0,
    "start_time": "2023-09-22T09:35:18.358Z"
   },
   {
    "duration": 0,
    "start_time": "2023-09-22T09:35:18.359Z"
   },
   {
    "duration": 0,
    "start_time": "2023-09-22T09:35:18.360Z"
   },
   {
    "duration": 0,
    "start_time": "2023-09-22T09:35:18.361Z"
   },
   {
    "duration": 0,
    "start_time": "2023-09-22T09:35:18.362Z"
   },
   {
    "duration": 0,
    "start_time": "2023-09-22T09:35:18.363Z"
   },
   {
    "duration": 0,
    "start_time": "2023-09-22T09:35:18.364Z"
   },
   {
    "duration": 0,
    "start_time": "2023-09-22T09:35:18.365Z"
   },
   {
    "duration": 4,
    "start_time": "2023-09-22T09:36:16.073Z"
   },
   {
    "duration": 887,
    "start_time": "2023-09-22T09:36:17.383Z"
   },
   {
    "duration": 17,
    "start_time": "2023-09-22T09:36:40.322Z"
   },
   {
    "duration": 8,
    "start_time": "2023-09-22T09:38:47.934Z"
   },
   {
    "duration": 2080,
    "start_time": "2023-09-22T09:39:07.774Z"
   },
   {
    "duration": 12,
    "start_time": "2023-09-22T09:56:57.015Z"
   },
   {
    "duration": 14,
    "start_time": "2023-09-22T09:57:11.638Z"
   },
   {
    "duration": 16,
    "start_time": "2023-09-22T09:57:35.913Z"
   },
   {
    "duration": 12,
    "start_time": "2023-09-22T09:59:09.033Z"
   },
   {
    "duration": 12,
    "start_time": "2023-09-22T10:03:50.717Z"
   },
   {
    "duration": 11,
    "start_time": "2023-09-22T10:12:03.208Z"
   },
   {
    "duration": 5,
    "start_time": "2023-09-22T10:12:09.695Z"
   },
   {
    "duration": 9,
    "start_time": "2023-09-22T10:52:04.362Z"
   },
   {
    "duration": 105,
    "start_time": "2023-09-22T10:52:51.627Z"
   },
   {
    "duration": 89,
    "start_time": "2023-09-22T10:59:13.361Z"
   },
   {
    "duration": 11,
    "start_time": "2023-09-22T11:01:02.838Z"
   },
   {
    "duration": 11,
    "start_time": "2023-09-22T11:01:08.652Z"
   },
   {
    "duration": 7,
    "start_time": "2023-09-22T11:01:24.981Z"
   },
   {
    "duration": 10,
    "start_time": "2023-09-22T11:02:03.665Z"
   },
   {
    "duration": 7,
    "start_time": "2023-09-22T11:02:19.711Z"
   },
   {
    "duration": 7,
    "start_time": "2023-09-22T11:03:37.751Z"
   },
   {
    "duration": 1174,
    "start_time": "2023-09-22T11:04:18.630Z"
   },
   {
    "duration": 1462,
    "start_time": "2023-09-22T11:04:38.955Z"
   },
   {
    "duration": 7,
    "start_time": "2023-09-22T11:04:53.940Z"
   },
   {
    "duration": 6,
    "start_time": "2023-09-22T11:05:17.265Z"
   },
   {
    "duration": 8,
    "start_time": "2023-09-22T11:05:41.328Z"
   },
   {
    "duration": 8,
    "start_time": "2023-09-22T11:06:05.569Z"
   },
   {
    "duration": 1685,
    "start_time": "2023-09-22T11:06:25.021Z"
   },
   {
    "duration": 2240,
    "start_time": "2023-09-22T11:06:52.648Z"
   },
   {
    "duration": 1730,
    "start_time": "2023-09-22T11:06:55.916Z"
   },
   {
    "duration": 4,
    "start_time": "2023-09-22T11:07:01.004Z"
   },
   {
    "duration": 114,
    "start_time": "2023-09-22T11:07:01.020Z"
   },
   {
    "duration": 74,
    "start_time": "2023-09-22T11:07:01.136Z"
   },
   {
    "duration": 84,
    "start_time": "2023-09-22T11:07:01.212Z"
   },
   {
    "duration": 13,
    "start_time": "2023-09-22T11:07:01.298Z"
   },
   {
    "duration": 60,
    "start_time": "2023-09-22T11:07:01.313Z"
   },
   {
    "duration": 306,
    "start_time": "2023-09-22T11:07:01.375Z"
   },
   {
    "duration": 6,
    "start_time": "2023-09-22T11:07:01.682Z"
   },
   {
    "duration": 12,
    "start_time": "2023-09-22T11:07:01.690Z"
   },
   {
    "duration": 35,
    "start_time": "2023-09-22T11:07:01.703Z"
   },
   {
    "duration": 9,
    "start_time": "2023-09-22T11:07:01.741Z"
   },
   {
    "duration": 9,
    "start_time": "2023-09-22T11:07:01.752Z"
   },
   {
    "duration": 18,
    "start_time": "2023-09-22T11:07:01.763Z"
   },
   {
    "duration": 29,
    "start_time": "2023-09-22T11:07:01.783Z"
   },
   {
    "duration": 25,
    "start_time": "2023-09-22T11:07:01.814Z"
   },
   {
    "duration": 16,
    "start_time": "2023-09-22T11:07:01.841Z"
   },
   {
    "duration": 162,
    "start_time": "2023-09-22T11:07:01.858Z"
   },
   {
    "duration": 177,
    "start_time": "2023-09-22T11:07:02.022Z"
   },
   {
    "duration": 111,
    "start_time": "2023-09-22T11:07:02.200Z"
   },
   {
    "duration": 227,
    "start_time": "2023-09-22T11:07:02.313Z"
   },
   {
    "duration": 5,
    "start_time": "2023-09-22T11:07:02.542Z"
   },
   {
    "duration": 16,
    "start_time": "2023-09-22T11:07:02.549Z"
   },
   {
    "duration": 163,
    "start_time": "2023-09-22T11:07:02.567Z"
   },
   {
    "duration": 325,
    "start_time": "2023-09-22T11:07:02.732Z"
   },
   {
    "duration": 8,
    "start_time": "2023-09-22T11:07:03.059Z"
   },
   {
    "duration": 131,
    "start_time": "2023-09-22T11:07:03.068Z"
   },
   {
    "duration": 299,
    "start_time": "2023-09-22T11:07:03.201Z"
   },
   {
    "duration": 26,
    "start_time": "2023-09-22T11:07:03.502Z"
   },
   {
    "duration": 12,
    "start_time": "2023-09-22T11:07:03.532Z"
   },
   {
    "duration": 18,
    "start_time": "2023-09-22T11:07:03.546Z"
   },
   {
    "duration": 11,
    "start_time": "2023-09-22T11:07:03.566Z"
   },
   {
    "duration": 8,
    "start_time": "2023-09-22T11:07:03.578Z"
   },
   {
    "duration": 5,
    "start_time": "2023-09-22T11:07:03.588Z"
   },
   {
    "duration": 31,
    "start_time": "2023-09-22T11:07:03.595Z"
   },
   {
    "duration": 188,
    "start_time": "2023-09-22T11:07:03.628Z"
   },
   {
    "duration": 189,
    "start_time": "2023-09-22T11:07:03.817Z"
   },
   {
    "duration": 200,
    "start_time": "2023-09-22T11:07:04.008Z"
   },
   {
    "duration": 189,
    "start_time": "2023-09-22T11:07:04.210Z"
   },
   {
    "duration": 265,
    "start_time": "2023-09-22T11:07:04.401Z"
   },
   {
    "duration": 238,
    "start_time": "2023-09-22T11:07:04.668Z"
   },
   {
    "duration": 4,
    "start_time": "2023-09-22T11:07:04.907Z"
   },
   {
    "duration": 25,
    "start_time": "2023-09-22T11:07:04.912Z"
   },
   {
    "duration": 852,
    "start_time": "2023-09-22T11:07:04.939Z"
   },
   {
    "duration": 6,
    "start_time": "2023-09-22T11:07:05.794Z"
   },
   {
    "duration": 32,
    "start_time": "2023-09-22T11:07:05.802Z"
   },
   {
    "duration": 193,
    "start_time": "2023-09-22T11:07:05.836Z"
   },
   {
    "duration": 8,
    "start_time": "2023-09-22T11:07:06.031Z"
   },
   {
    "duration": 184,
    "start_time": "2023-09-22T11:07:06.041Z"
   },
   {
    "duration": 150,
    "start_time": "2023-09-22T11:07:06.227Z"
   },
   {
    "duration": 92,
    "start_time": "2023-09-22T11:07:06.379Z"
   },
   {
    "duration": 335,
    "start_time": "2023-09-22T11:07:06.473Z"
   },
   {
    "duration": 5,
    "start_time": "2023-09-22T11:07:06.810Z"
   },
   {
    "duration": 40,
    "start_time": "2023-09-22T11:07:06.824Z"
   },
   {
    "duration": 30,
    "start_time": "2023-09-22T11:07:06.866Z"
   },
   {
    "duration": 41,
    "start_time": "2023-09-22T11:07:06.899Z"
   },
   {
    "duration": 315,
    "start_time": "2023-09-22T11:07:06.942Z"
   },
   {
    "duration": 2,
    "start_time": "2023-09-22T11:07:07.259Z"
   },
   {
    "duration": 7,
    "start_time": "2023-09-22T11:09:51.552Z"
   },
   {
    "duration": 11,
    "start_time": "2023-09-22T11:10:28.227Z"
   },
   {
    "duration": 11,
    "start_time": "2023-09-22T11:10:31.049Z"
   },
   {
    "duration": 11,
    "start_time": "2023-09-22T11:10:40.303Z"
   },
   {
    "duration": 21,
    "start_time": "2023-09-22T11:12:05.043Z"
   },
   {
    "duration": 16,
    "start_time": "2023-09-22T11:14:38.763Z"
   },
   {
    "duration": 9,
    "start_time": "2023-09-22T11:17:43.109Z"
   },
   {
    "duration": 104,
    "start_time": "2023-09-22T11:18:53.425Z"
   },
   {
    "duration": 7,
    "start_time": "2023-09-22T11:19:10.562Z"
   },
   {
    "duration": 147,
    "start_time": "2023-09-22T11:19:28.143Z"
   },
   {
    "duration": 1389,
    "start_time": "2023-09-22T11:19:57.693Z"
   },
   {
    "duration": 65,
    "start_time": "2023-09-22T11:19:59.084Z"
   },
   {
    "duration": 49,
    "start_time": "2023-09-22T11:19:59.151Z"
   },
   {
    "duration": 40,
    "start_time": "2023-09-22T11:19:59.202Z"
   },
   {
    "duration": 6,
    "start_time": "2023-09-22T11:19:59.252Z"
   },
   {
    "duration": 17,
    "start_time": "2023-09-22T11:19:59.259Z"
   },
   {
    "duration": 300,
    "start_time": "2023-09-22T11:19:59.277Z"
   },
   {
    "duration": 6,
    "start_time": "2023-09-22T11:19:59.579Z"
   },
   {
    "duration": 13,
    "start_time": "2023-09-22T11:19:59.586Z"
   },
   {
    "duration": 42,
    "start_time": "2023-09-22T11:19:59.602Z"
   },
   {
    "duration": 6,
    "start_time": "2023-09-22T11:19:59.651Z"
   },
   {
    "duration": 7,
    "start_time": "2023-09-22T11:19:59.659Z"
   },
   {
    "duration": 6,
    "start_time": "2023-09-22T11:19:59.668Z"
   },
   {
    "duration": 14,
    "start_time": "2023-09-22T11:19:59.675Z"
   },
   {
    "duration": 8,
    "start_time": "2023-09-22T11:19:59.691Z"
   },
   {
    "duration": 22,
    "start_time": "2023-09-22T11:19:59.727Z"
   },
   {
    "duration": 160,
    "start_time": "2023-09-22T11:19:59.751Z"
   },
   {
    "duration": 194,
    "start_time": "2023-09-22T11:19:59.913Z"
   },
   {
    "duration": 149,
    "start_time": "2023-09-22T11:20:00.109Z"
   },
   {
    "duration": 237,
    "start_time": "2023-09-22T11:20:00.259Z"
   },
   {
    "duration": 7,
    "start_time": "2023-09-22T11:20:00.498Z"
   },
   {
    "duration": 163,
    "start_time": "2023-09-22T11:20:00.506Z"
   },
   {
    "duration": 246,
    "start_time": "2023-09-22T11:20:00.671Z"
   },
   {
    "duration": 392,
    "start_time": "2023-09-22T11:20:00.919Z"
   },
   {
    "duration": 26,
    "start_time": "2023-09-22T11:20:01.312Z"
   },
   {
    "duration": 232,
    "start_time": "2023-09-22T11:20:01.339Z"
   },
   {
    "duration": 216,
    "start_time": "2023-09-22T11:20:01.572Z"
   },
   {
    "duration": 51,
    "start_time": "2023-09-22T11:20:01.793Z"
   },
   {
    "duration": 31,
    "start_time": "2023-09-22T11:20:01.846Z"
   },
   {
    "duration": 49,
    "start_time": "2023-09-22T11:20:01.878Z"
   },
   {
    "duration": 58,
    "start_time": "2023-09-22T11:20:01.928Z"
   },
   {
    "duration": 46,
    "start_time": "2023-09-22T11:20:01.988Z"
   },
   {
    "duration": 42,
    "start_time": "2023-09-22T11:20:02.039Z"
   },
   {
    "duration": 63,
    "start_time": "2023-09-22T11:20:02.083Z"
   },
   {
    "duration": 249,
    "start_time": "2023-09-22T11:20:02.151Z"
   },
   {
    "duration": 234,
    "start_time": "2023-09-22T11:20:02.402Z"
   },
   {
    "duration": 220,
    "start_time": "2023-09-22T11:20:02.638Z"
   },
   {
    "duration": 211,
    "start_time": "2023-09-22T11:20:02.860Z"
   },
   {
    "duration": 293,
    "start_time": "2023-09-22T11:20:03.072Z"
   },
   {
    "duration": 362,
    "start_time": "2023-09-22T11:20:03.366Z"
   },
   {
    "duration": 11,
    "start_time": "2023-09-22T11:20:03.737Z"
   },
   {
    "duration": 14,
    "start_time": "2023-09-22T11:20:03.750Z"
   },
   {
    "duration": 934,
    "start_time": "2023-09-22T11:20:03.766Z"
   },
   {
    "duration": 3,
    "start_time": "2023-09-22T11:20:04.702Z"
   },
   {
    "duration": 130,
    "start_time": "2023-09-22T11:20:04.707Z"
   },
   {
    "duration": 211,
    "start_time": "2023-09-22T11:20:04.839Z"
   },
   {
    "duration": 9,
    "start_time": "2023-09-22T11:20:05.052Z"
   },
   {
    "duration": 94,
    "start_time": "2023-09-22T11:20:05.062Z"
   },
   {
    "duration": 98,
    "start_time": "2023-09-22T11:20:05.158Z"
   },
   {
    "duration": 76,
    "start_time": "2023-09-22T11:20:05.258Z"
   },
   {
    "duration": 419,
    "start_time": "2023-09-22T11:20:05.341Z"
   },
   {
    "duration": 5,
    "start_time": "2023-09-22T11:20:05.762Z"
   },
   {
    "duration": 157,
    "start_time": "2023-09-22T11:20:05.769Z"
   },
   {
    "duration": 53,
    "start_time": "2023-09-22T11:20:05.928Z"
   },
   {
    "duration": 44,
    "start_time": "2023-09-22T11:20:05.983Z"
   },
   {
    "duration": 241,
    "start_time": "2023-09-22T11:20:06.035Z"
   },
   {
    "duration": 3,
    "start_time": "2023-09-22T11:20:06.277Z"
   },
   {
    "duration": 45,
    "start_time": "2023-09-22T17:09:04.407Z"
   },
   {
    "duration": 1266,
    "start_time": "2023-09-22T17:09:09.379Z"
   },
   {
    "duration": 51,
    "start_time": "2023-09-22T17:09:10.647Z"
   },
   {
    "duration": 47,
    "start_time": "2023-09-22T17:09:10.699Z"
   },
   {
    "duration": 28,
    "start_time": "2023-09-22T17:09:10.748Z"
   },
   {
    "duration": 5,
    "start_time": "2023-09-22T17:09:10.777Z"
   },
   {
    "duration": 18,
    "start_time": "2023-09-22T17:09:10.784Z"
   },
   {
    "duration": 354,
    "start_time": "2023-09-22T17:09:10.803Z"
   },
   {
    "duration": 5,
    "start_time": "2023-09-22T17:09:11.159Z"
   },
   {
    "duration": 21,
    "start_time": "2023-09-22T17:09:11.165Z"
   },
   {
    "duration": 20,
    "start_time": "2023-09-22T17:09:11.188Z"
   },
   {
    "duration": 11,
    "start_time": "2023-09-22T17:09:11.210Z"
   },
   {
    "duration": 8,
    "start_time": "2023-09-22T17:09:11.222Z"
   },
   {
    "duration": 13,
    "start_time": "2023-09-22T17:09:11.231Z"
   },
   {
    "duration": 10,
    "start_time": "2023-09-22T17:09:11.246Z"
   },
   {
    "duration": 11,
    "start_time": "2023-09-22T17:09:11.258Z"
   },
   {
    "duration": 11,
    "start_time": "2023-09-22T17:09:11.270Z"
   },
   {
    "duration": 152,
    "start_time": "2023-09-22T17:09:11.282Z"
   },
   {
    "duration": 184,
    "start_time": "2023-09-22T17:09:11.436Z"
   },
   {
    "duration": 100,
    "start_time": "2023-09-22T17:09:11.622Z"
   },
   {
    "duration": 167,
    "start_time": "2023-09-22T17:09:11.724Z"
   },
   {
    "duration": 5,
    "start_time": "2023-09-22T17:09:11.893Z"
   },
   {
    "duration": 16,
    "start_time": "2023-09-22T17:09:11.899Z"
   },
   {
    "duration": 150,
    "start_time": "2023-09-22T17:09:11.916Z"
   },
   {
    "duration": 331,
    "start_time": "2023-09-22T17:09:12.068Z"
   },
   {
    "duration": 7,
    "start_time": "2023-09-22T17:09:12.401Z"
   },
   {
    "duration": 152,
    "start_time": "2023-09-22T17:09:12.409Z"
   },
   {
    "duration": 406,
    "start_time": "2023-09-22T17:09:12.564Z"
   },
   {
    "duration": 72,
    "start_time": "2023-09-22T17:09:12.974Z"
   },
   {
    "duration": 16,
    "start_time": "2023-09-22T17:09:13.047Z"
   },
   {
    "duration": 10,
    "start_time": "2023-09-22T17:09:13.065Z"
   },
   {
    "duration": 67,
    "start_time": "2023-09-22T17:09:13.077Z"
   },
   {
    "duration": 4,
    "start_time": "2023-09-22T17:09:13.146Z"
   },
   {
    "duration": 25,
    "start_time": "2023-09-22T17:09:13.151Z"
   },
   {
    "duration": 26,
    "start_time": "2023-09-22T17:09:13.178Z"
   },
   {
    "duration": 377,
    "start_time": "2023-09-22T17:09:13.206Z"
   },
   {
    "duration": 382,
    "start_time": "2023-09-22T17:09:13.585Z"
   },
   {
    "duration": 426,
    "start_time": "2023-09-22T17:09:13.969Z"
   },
   {
    "duration": 189,
    "start_time": "2023-09-22T17:09:14.397Z"
   },
   {
    "duration": 263,
    "start_time": "2023-09-22T17:09:14.588Z"
   },
   {
    "duration": 324,
    "start_time": "2023-09-22T17:09:14.853Z"
   },
   {
    "duration": 3,
    "start_time": "2023-09-22T17:09:15.179Z"
   },
   {
    "duration": 9,
    "start_time": "2023-09-22T17:09:15.183Z"
   },
   {
    "duration": 814,
    "start_time": "2023-09-22T17:09:15.194Z"
   },
   {
    "duration": 3,
    "start_time": "2023-09-22T17:09:16.010Z"
   },
   {
    "duration": 13,
    "start_time": "2023-09-22T17:09:16.014Z"
   },
   {
    "duration": 152,
    "start_time": "2023-09-22T17:09:16.028Z"
   },
   {
    "duration": 8,
    "start_time": "2023-09-22T17:09:16.182Z"
   },
   {
    "duration": 8,
    "start_time": "2023-09-22T17:09:16.192Z"
   },
   {
    "duration": 13,
    "start_time": "2023-09-22T17:09:16.202Z"
   },
   {
    "duration": 3,
    "start_time": "2023-09-22T17:09:16.217Z"
   },
   {
    "duration": 23,
    "start_time": "2023-09-22T17:09:16.221Z"
   },
   {
    "duration": 328,
    "start_time": "2023-09-22T17:09:16.246Z"
   },
   {
    "duration": 4,
    "start_time": "2023-09-22T17:09:16.575Z"
   },
   {
    "duration": 6,
    "start_time": "2023-09-22T17:09:16.581Z"
   },
   {
    "duration": 7,
    "start_time": "2023-09-22T17:09:16.588Z"
   },
   {
    "duration": 4,
    "start_time": "2023-09-22T17:09:16.597Z"
   },
   {
    "duration": 215,
    "start_time": "2023-09-22T17:09:16.603Z"
   },
   {
    "duration": 2,
    "start_time": "2023-09-22T17:09:16.820Z"
   },
   {
    "duration": 1204,
    "start_time": "2023-09-22T17:11:24.736Z"
   },
   {
    "duration": 50,
    "start_time": "2023-09-22T17:11:25.942Z"
   },
   {
    "duration": 47,
    "start_time": "2023-09-22T17:11:25.993Z"
   },
   {
    "duration": 26,
    "start_time": "2023-09-22T17:11:26.042Z"
   },
   {
    "duration": 4,
    "start_time": "2023-09-22T17:11:26.070Z"
   },
   {
    "duration": 7,
    "start_time": "2023-09-22T17:11:26.076Z"
   },
   {
    "duration": 274,
    "start_time": "2023-09-22T17:11:26.085Z"
   },
   {
    "duration": 6,
    "start_time": "2023-09-22T17:11:26.362Z"
   },
   {
    "duration": 8,
    "start_time": "2023-09-22T17:11:26.369Z"
   },
   {
    "duration": 27,
    "start_time": "2023-09-22T17:11:26.379Z"
   },
   {
    "duration": 8,
    "start_time": "2023-09-22T17:11:26.408Z"
   },
   {
    "duration": 24,
    "start_time": "2023-09-22T17:11:26.418Z"
   },
   {
    "duration": 9,
    "start_time": "2023-09-22T17:11:26.444Z"
   },
   {
    "duration": 12,
    "start_time": "2023-09-22T17:11:26.454Z"
   },
   {
    "duration": 8,
    "start_time": "2023-09-22T17:11:26.468Z"
   },
   {
    "duration": 10,
    "start_time": "2023-09-22T17:11:26.477Z"
   },
   {
    "duration": 146,
    "start_time": "2023-09-22T17:11:26.489Z"
   },
   {
    "duration": 195,
    "start_time": "2023-09-22T17:11:26.636Z"
   },
   {
    "duration": 100,
    "start_time": "2023-09-22T17:11:26.832Z"
   },
   {
    "duration": 180,
    "start_time": "2023-09-22T17:11:26.944Z"
   },
   {
    "duration": 5,
    "start_time": "2023-09-22T17:11:27.126Z"
   },
   {
    "duration": 18,
    "start_time": "2023-09-22T17:11:27.132Z"
   },
   {
    "duration": 235,
    "start_time": "2023-09-22T17:11:27.152Z"
   },
   {
    "duration": 759,
    "start_time": "2023-09-22T17:11:27.388Z"
   },
   {
    "duration": 10,
    "start_time": "2023-09-22T17:11:28.149Z"
   },
   {
    "duration": 322,
    "start_time": "2023-09-22T17:11:28.160Z"
   },
   {
    "duration": 573,
    "start_time": "2023-09-22T17:11:28.484Z"
   },
   {
    "duration": 23,
    "start_time": "2023-09-22T17:11:29.062Z"
   },
   {
    "duration": 12,
    "start_time": "2023-09-22T17:11:29.087Z"
   },
   {
    "duration": 45,
    "start_time": "2023-09-22T17:11:29.101Z"
   },
   {
    "duration": 10,
    "start_time": "2023-09-22T17:11:29.148Z"
   },
   {
    "duration": 3,
    "start_time": "2023-09-22T17:11:29.159Z"
   },
   {
    "duration": 8,
    "start_time": "2023-09-22T17:11:29.163Z"
   },
   {
    "duration": 9,
    "start_time": "2023-09-22T17:11:29.173Z"
   },
   {
    "duration": 385,
    "start_time": "2023-09-22T17:11:29.184Z"
   },
   {
    "duration": 310,
    "start_time": "2023-09-22T17:11:29.571Z"
   },
   {
    "duration": 379,
    "start_time": "2023-09-22T17:11:29.882Z"
   },
   {
    "duration": 318,
    "start_time": "2023-09-22T17:11:30.263Z"
   },
   {
    "duration": 455,
    "start_time": "2023-09-22T17:11:30.583Z"
   },
   {
    "duration": 308,
    "start_time": "2023-09-22T17:11:31.040Z"
   },
   {
    "duration": 3,
    "start_time": "2023-09-22T17:11:31.350Z"
   },
   {
    "duration": 17,
    "start_time": "2023-09-22T17:11:31.354Z"
   },
   {
    "duration": 845,
    "start_time": "2023-09-22T17:11:31.372Z"
   },
   {
    "duration": 3,
    "start_time": "2023-09-22T17:11:32.219Z"
   },
   {
    "duration": 30,
    "start_time": "2023-09-22T17:11:32.224Z"
   },
   {
    "duration": 155,
    "start_time": "2023-09-22T17:11:32.256Z"
   },
   {
    "duration": 7,
    "start_time": "2023-09-22T17:11:32.412Z"
   },
   {
    "duration": 10,
    "start_time": "2023-09-22T17:11:32.420Z"
   },
   {
    "duration": 23,
    "start_time": "2023-09-22T17:11:32.431Z"
   },
   {
    "duration": 3,
    "start_time": "2023-09-22T17:11:32.457Z"
   },
   {
    "duration": 309,
    "start_time": "2023-09-22T17:11:32.462Z"
   },
   {
    "duration": 4,
    "start_time": "2023-09-22T17:11:32.773Z"
   },
   {
    "duration": 11,
    "start_time": "2023-09-22T17:11:32.779Z"
   },
   {
    "duration": 21,
    "start_time": "2023-09-22T17:11:32.791Z"
   },
   {
    "duration": 10,
    "start_time": "2023-09-22T17:11:32.813Z"
   },
   {
    "duration": 168,
    "start_time": "2023-09-22T17:11:32.825Z"
   },
   {
    "duration": 2,
    "start_time": "2023-09-22T17:11:32.995Z"
   },
   {
    "duration": 115,
    "start_time": "2023-09-22T17:12:38.481Z"
   },
   {
    "duration": 181,
    "start_time": "2023-09-22T17:12:45.686Z"
   },
   {
    "duration": 170,
    "start_time": "2023-09-22T17:12:53.296Z"
   },
   {
    "duration": 189,
    "start_time": "2023-09-22T17:13:13.333Z"
   },
   {
    "duration": 152,
    "start_time": "2023-09-22T17:14:34.659Z"
   },
   {
    "duration": 162,
    "start_time": "2023-09-22T17:14:47.177Z"
   },
   {
    "duration": 139,
    "start_time": "2023-09-22T17:15:03.437Z"
   },
   {
    "duration": 178,
    "start_time": "2023-09-22T17:15:13.453Z"
   },
   {
    "duration": 239,
    "start_time": "2023-09-22T17:15:35.098Z"
   },
   {
    "duration": 1299,
    "start_time": "2023-09-22T17:17:30.419Z"
   },
   {
    "duration": 51,
    "start_time": "2023-09-22T17:17:31.720Z"
   },
   {
    "duration": 49,
    "start_time": "2023-09-22T17:17:31.773Z"
   },
   {
    "duration": 27,
    "start_time": "2023-09-22T17:17:31.825Z"
   },
   {
    "duration": 5,
    "start_time": "2023-09-22T17:17:31.853Z"
   },
   {
    "duration": 11,
    "start_time": "2023-09-22T17:17:31.859Z"
   },
   {
    "duration": 249,
    "start_time": "2023-09-22T17:17:31.872Z"
   },
   {
    "duration": 6,
    "start_time": "2023-09-22T17:17:32.122Z"
   },
   {
    "duration": 37,
    "start_time": "2023-09-22T17:17:32.130Z"
   },
   {
    "duration": 19,
    "start_time": "2023-09-22T17:17:32.170Z"
   },
   {
    "duration": 7,
    "start_time": "2023-09-22T17:17:32.191Z"
   },
   {
    "duration": 5,
    "start_time": "2023-09-22T17:17:32.201Z"
   },
   {
    "duration": 5,
    "start_time": "2023-09-22T17:17:32.208Z"
   },
   {
    "duration": 14,
    "start_time": "2023-09-22T17:17:32.215Z"
   },
   {
    "duration": 8,
    "start_time": "2023-09-22T17:17:32.244Z"
   },
   {
    "duration": 11,
    "start_time": "2023-09-22T17:17:32.254Z"
   },
   {
    "duration": 171,
    "start_time": "2023-09-22T17:17:32.267Z"
   },
   {
    "duration": 181,
    "start_time": "2023-09-22T17:17:32.440Z"
   },
   {
    "duration": 93,
    "start_time": "2023-09-22T17:17:32.622Z"
   },
   {
    "duration": 162,
    "start_time": "2023-09-22T17:17:32.716Z"
   },
   {
    "duration": 6,
    "start_time": "2023-09-22T17:17:32.879Z"
   },
   {
    "duration": 13,
    "start_time": "2023-09-22T17:17:32.886Z"
   },
   {
    "duration": 147,
    "start_time": "2023-09-22T17:17:32.900Z"
   },
   {
    "duration": 315,
    "start_time": "2023-09-22T17:17:33.049Z"
   },
   {
    "duration": 7,
    "start_time": "2023-09-22T17:17:33.366Z"
   },
   {
    "duration": 120,
    "start_time": "2023-09-22T17:17:33.374Z"
   },
   {
    "duration": 212,
    "start_time": "2023-09-22T17:17:33.496Z"
   },
   {
    "duration": 19,
    "start_time": "2023-09-22T17:17:33.712Z"
   },
   {
    "duration": 21,
    "start_time": "2023-09-22T17:17:33.732Z"
   },
   {
    "duration": 9,
    "start_time": "2023-09-22T17:17:33.754Z"
   },
   {
    "duration": 7,
    "start_time": "2023-09-22T17:17:33.765Z"
   },
   {
    "duration": 4,
    "start_time": "2023-09-22T17:17:33.773Z"
   },
   {
    "duration": 5,
    "start_time": "2023-09-22T17:17:33.778Z"
   },
   {
    "duration": 9,
    "start_time": "2023-09-22T17:17:33.784Z"
   },
   {
    "duration": 214,
    "start_time": "2023-09-22T17:17:33.794Z"
   },
   {
    "duration": 288,
    "start_time": "2023-09-22T17:17:34.010Z"
   },
   {
    "duration": 207,
    "start_time": "2023-09-22T17:17:34.300Z"
   },
   {
    "duration": 185,
    "start_time": "2023-09-22T17:17:34.508Z"
   },
   {
    "duration": 288,
    "start_time": "2023-09-22T17:17:34.695Z"
   },
   {
    "duration": 354,
    "start_time": "2023-09-22T17:17:34.985Z"
   },
   {
    "duration": 4,
    "start_time": "2023-09-22T17:17:35.345Z"
   },
   {
    "duration": 43,
    "start_time": "2023-09-22T17:17:35.351Z"
   },
   {
    "duration": 833,
    "start_time": "2023-09-22T17:17:35.395Z"
   },
   {
    "duration": 3,
    "start_time": "2023-09-22T17:17:36.229Z"
   },
   {
    "duration": 16,
    "start_time": "2023-09-22T17:17:36.234Z"
   },
   {
    "duration": 151,
    "start_time": "2023-09-22T17:17:36.251Z"
   },
   {
    "duration": 7,
    "start_time": "2023-09-22T17:17:36.404Z"
   },
   {
    "duration": 31,
    "start_time": "2023-09-22T17:17:36.413Z"
   },
   {
    "duration": 14,
    "start_time": "2023-09-22T17:17:36.446Z"
   },
   {
    "duration": 142,
    "start_time": "2023-09-22T17:17:36.461Z"
   },
   {
    "duration": 339,
    "start_time": "2023-09-22T17:17:36.605Z"
   },
   {
    "duration": 5,
    "start_time": "2023-09-22T17:17:36.946Z"
   },
   {
    "duration": 6,
    "start_time": "2023-09-22T17:17:36.952Z"
   },
   {
    "duration": 12,
    "start_time": "2023-09-22T17:17:36.959Z"
   },
   {
    "duration": 14,
    "start_time": "2023-09-22T17:17:36.973Z"
   },
   {
    "duration": 214,
    "start_time": "2023-09-22T17:17:36.989Z"
   },
   {
    "duration": 3,
    "start_time": "2023-09-22T17:17:37.204Z"
   },
   {
    "duration": 1538,
    "start_time": "2023-09-22T19:07:59.904Z"
   },
   {
    "duration": 103,
    "start_time": "2023-09-22T19:08:01.445Z"
   },
   {
    "duration": 95,
    "start_time": "2023-09-22T19:08:01.551Z"
   },
   {
    "duration": 69,
    "start_time": "2023-09-22T19:08:01.649Z"
   },
   {
    "duration": 7,
    "start_time": "2023-09-22T19:08:01.720Z"
   },
   {
    "duration": 19,
    "start_time": "2023-09-22T19:08:01.729Z"
   },
   {
    "duration": 276,
    "start_time": "2023-09-22T19:08:01.750Z"
   },
   {
    "duration": 6,
    "start_time": "2023-09-22T19:08:02.027Z"
   },
   {
    "duration": 61,
    "start_time": "2023-09-22T19:08:02.035Z"
   },
   {
    "duration": 79,
    "start_time": "2023-09-22T19:08:02.098Z"
   },
   {
    "duration": 39,
    "start_time": "2023-09-22T19:08:02.179Z"
   },
   {
    "duration": 47,
    "start_time": "2023-09-22T19:08:02.220Z"
   },
   {
    "duration": 35,
    "start_time": "2023-09-22T19:08:02.271Z"
   },
   {
    "duration": 42,
    "start_time": "2023-09-22T19:08:02.308Z"
   },
   {
    "duration": 44,
    "start_time": "2023-09-22T19:08:02.351Z"
   },
   {
    "duration": 39,
    "start_time": "2023-09-22T19:08:02.397Z"
   },
   {
    "duration": 215,
    "start_time": "2023-09-22T19:08:02.438Z"
   },
   {
    "duration": 173,
    "start_time": "2023-09-22T19:08:02.655Z"
   },
   {
    "duration": 104,
    "start_time": "2023-09-22T19:08:02.830Z"
   },
   {
    "duration": 168,
    "start_time": "2023-09-22T19:08:02.936Z"
   },
   {
    "duration": 6,
    "start_time": "2023-09-22T19:08:03.105Z"
   },
   {
    "duration": 143,
    "start_time": "2023-09-22T19:08:03.112Z"
   },
   {
    "duration": 176,
    "start_time": "2023-09-22T19:08:03.257Z"
   },
   {
    "duration": 339,
    "start_time": "2023-09-22T19:08:03.434Z"
   },
   {
    "duration": 7,
    "start_time": "2023-09-22T19:08:03.774Z"
   },
   {
    "duration": 217,
    "start_time": "2023-09-22T19:08:03.783Z"
   },
   {
    "duration": 188,
    "start_time": "2023-09-22T19:08:04.002Z"
   },
   {
    "duration": 18,
    "start_time": "2023-09-22T19:08:04.194Z"
   },
   {
    "duration": 23,
    "start_time": "2023-09-22T19:08:04.224Z"
   },
   {
    "duration": 37,
    "start_time": "2023-09-22T19:08:04.248Z"
   },
   {
    "duration": 9,
    "start_time": "2023-09-22T19:08:04.287Z"
   },
   {
    "duration": 15,
    "start_time": "2023-09-22T19:08:04.297Z"
   },
   {
    "duration": 29,
    "start_time": "2023-09-22T19:08:04.313Z"
   },
   {
    "duration": 190,
    "start_time": "2023-09-22T19:08:04.343Z"
   },
   {
    "duration": 204,
    "start_time": "2023-09-22T19:08:04.535Z"
   },
   {
    "duration": 205,
    "start_time": "2023-09-22T19:08:04.741Z"
   },
   {
    "duration": 178,
    "start_time": "2023-09-22T19:08:04.948Z"
   },
   {
    "duration": 284,
    "start_time": "2023-09-22T19:08:05.128Z"
   },
   {
    "duration": 344,
    "start_time": "2023-09-22T19:08:05.414Z"
   },
   {
    "duration": 4,
    "start_time": "2023-09-22T19:08:05.761Z"
   },
   {
    "duration": 21,
    "start_time": "2023-09-22T19:08:05.767Z"
   },
   {
    "duration": 1017,
    "start_time": "2023-09-22T19:08:05.790Z"
   },
   {
    "duration": 3,
    "start_time": "2023-09-22T19:08:06.809Z"
   },
   {
    "duration": 27,
    "start_time": "2023-09-22T19:08:06.814Z"
   },
   {
    "duration": 174,
    "start_time": "2023-09-22T19:08:06.843Z"
   },
   {
    "duration": 10,
    "start_time": "2023-09-22T19:08:07.018Z"
   },
   {
    "duration": 31,
    "start_time": "2023-09-22T19:08:07.030Z"
   },
   {
    "duration": 60,
    "start_time": "2023-09-22T19:08:07.063Z"
   },
   {
    "duration": 45,
    "start_time": "2023-09-22T19:08:07.124Z"
   },
   {
    "duration": 355,
    "start_time": "2023-09-22T19:08:07.171Z"
   },
   {
    "duration": 4,
    "start_time": "2023-09-22T19:08:07.528Z"
   },
   {
    "duration": 64,
    "start_time": "2023-09-22T19:08:07.533Z"
   },
   {
    "duration": 62,
    "start_time": "2023-09-22T19:08:07.598Z"
   },
   {
    "duration": 32,
    "start_time": "2023-09-22T19:08:07.662Z"
   },
   {
    "duration": 251,
    "start_time": "2023-09-22T19:08:07.696Z"
   },
   {
    "duration": 3,
    "start_time": "2023-09-22T19:08:07.949Z"
   },
   {
    "duration": 78,
    "start_time": "2023-09-22T19:16:39.047Z"
   },
   {
    "duration": 11,
    "start_time": "2023-09-22T19:20:13.514Z"
   },
   {
    "duration": 127,
    "start_time": "2023-09-22T19:20:26.417Z"
   },
   {
    "duration": 11,
    "start_time": "2023-09-22T19:20:55.197Z"
   },
   {
    "duration": 14,
    "start_time": "2023-09-22T19:21:11.849Z"
   },
   {
    "duration": 1368,
    "start_time": "2023-09-22T19:21:36.326Z"
   },
   {
    "duration": 1061,
    "start_time": "2023-09-22T19:21:49.650Z"
   },
   {
    "duration": 1257,
    "start_time": "2023-09-22T19:22:38.414Z"
   },
   {
    "duration": 16,
    "start_time": "2023-09-22T19:30:25.546Z"
   },
   {
    "duration": 1323,
    "start_time": "2023-09-22T19:34:20.753Z"
   },
   {
    "duration": 9,
    "start_time": "2023-09-22T19:37:22.069Z"
   },
   {
    "duration": 6,
    "start_time": "2023-09-22T19:37:41.287Z"
   },
   {
    "duration": 22,
    "start_time": "2023-09-22T19:39:01.236Z"
   },
   {
    "duration": 14,
    "start_time": "2023-09-22T19:39:31.022Z"
   },
   {
    "duration": 5,
    "start_time": "2023-09-22T19:41:30.003Z"
   },
   {
    "duration": 1133,
    "start_time": "2023-09-23T10:06:50.678Z"
   },
   {
    "duration": 108,
    "start_time": "2023-09-23T10:06:51.813Z"
   },
   {
    "duration": 166,
    "start_time": "2023-09-23T10:06:51.923Z"
   },
   {
    "duration": 68,
    "start_time": "2023-09-23T10:06:52.091Z"
   },
   {
    "duration": 5,
    "start_time": "2023-09-23T10:06:52.161Z"
   },
   {
    "duration": 69,
    "start_time": "2023-09-23T10:06:52.168Z"
   },
   {
    "duration": 265,
    "start_time": "2023-09-23T10:06:52.239Z"
   },
   {
    "duration": 6,
    "start_time": "2023-09-23T10:06:52.506Z"
   },
   {
    "duration": 18,
    "start_time": "2023-09-23T10:06:52.513Z"
   },
   {
    "duration": 38,
    "start_time": "2023-09-23T10:06:52.533Z"
   },
   {
    "duration": 6,
    "start_time": "2023-09-23T10:06:52.572Z"
   },
   {
    "duration": 4,
    "start_time": "2023-09-23T10:06:52.580Z"
   },
   {
    "duration": 4,
    "start_time": "2023-09-23T10:06:52.586Z"
   },
   {
    "duration": 14,
    "start_time": "2023-09-23T10:06:52.592Z"
   },
   {
    "duration": 6,
    "start_time": "2023-09-23T10:06:52.607Z"
   },
   {
    "duration": 17,
    "start_time": "2023-09-23T10:06:52.614Z"
   },
   {
    "duration": 135,
    "start_time": "2023-09-23T10:06:52.633Z"
   },
   {
    "duration": 153,
    "start_time": "2023-09-23T10:06:52.770Z"
   },
   {
    "duration": 91,
    "start_time": "2023-09-23T10:06:52.924Z"
   },
   {
    "duration": 159,
    "start_time": "2023-09-23T10:06:53.016Z"
   },
   {
    "duration": 5,
    "start_time": "2023-09-23T10:06:53.177Z"
   },
   {
    "duration": 24,
    "start_time": "2023-09-23T10:06:53.183Z"
   },
   {
    "duration": 132,
    "start_time": "2023-09-23T10:06:53.209Z"
   },
   {
    "duration": 288,
    "start_time": "2023-09-23T10:06:53.344Z"
   },
   {
    "duration": 14,
    "start_time": "2023-09-23T10:06:53.634Z"
   },
   {
    "duration": 104,
    "start_time": "2023-09-23T10:06:53.649Z"
   },
   {
    "duration": 171,
    "start_time": "2023-09-23T10:06:53.754Z"
   },
   {
    "duration": 29,
    "start_time": "2023-09-23T10:06:53.928Z"
   },
   {
    "duration": 11,
    "start_time": "2023-09-23T10:06:53.958Z"
   },
   {
    "duration": 10,
    "start_time": "2023-09-23T10:06:53.970Z"
   },
   {
    "duration": 2,
    "start_time": "2023-09-23T10:06:53.981Z"
   },
   {
    "duration": 4,
    "start_time": "2023-09-23T10:06:53.984Z"
   },
   {
    "duration": 12,
    "start_time": "2023-09-23T10:06:53.989Z"
   },
   {
    "duration": 245,
    "start_time": "2023-09-23T10:06:54.002Z"
   },
   {
    "duration": 207,
    "start_time": "2023-09-23T10:06:54.249Z"
   },
   {
    "duration": 167,
    "start_time": "2023-09-23T10:06:54.458Z"
   },
   {
    "duration": 157,
    "start_time": "2023-09-23T10:06:54.626Z"
   },
   {
    "duration": 228,
    "start_time": "2023-09-23T10:06:54.784Z"
   },
   {
    "duration": 302,
    "start_time": "2023-09-23T10:06:55.014Z"
   },
   {
    "duration": 3,
    "start_time": "2023-09-23T10:06:55.317Z"
   },
   {
    "duration": 15,
    "start_time": "2023-09-23T10:06:55.322Z"
   },
   {
    "duration": 777,
    "start_time": "2023-09-23T10:06:55.338Z"
   },
   {
    "duration": 3,
    "start_time": "2023-09-23T10:06:56.116Z"
   },
   {
    "duration": 11,
    "start_time": "2023-09-23T10:06:56.121Z"
   },
   {
    "duration": 141,
    "start_time": "2023-09-23T10:06:56.144Z"
   },
   {
    "duration": 7,
    "start_time": "2023-09-23T10:06:56.287Z"
   },
   {
    "duration": 6,
    "start_time": "2023-09-23T10:06:56.295Z"
   },
   {
    "duration": 10,
    "start_time": "2023-09-23T10:06:56.303Z"
   },
   {
    "duration": 121,
    "start_time": "2023-09-23T10:06:56.314Z"
   },
   {
    "duration": 0,
    "start_time": "2023-09-23T10:06:56.437Z"
   },
   {
    "duration": 0,
    "start_time": "2023-09-23T10:06:56.438Z"
   },
   {
    "duration": 0,
    "start_time": "2023-09-23T10:06:56.439Z"
   },
   {
    "duration": 0,
    "start_time": "2023-09-23T10:06:56.440Z"
   },
   {
    "duration": 0,
    "start_time": "2023-09-23T10:06:56.444Z"
   },
   {
    "duration": 0,
    "start_time": "2023-09-23T10:06:56.445Z"
   },
   {
    "duration": 0,
    "start_time": "2023-09-23T10:06:56.446Z"
   },
   {
    "duration": 0,
    "start_time": "2023-09-23T10:06:56.447Z"
   },
   {
    "duration": 4,
    "start_time": "2023-09-23T10:07:22.017Z"
   },
   {
    "duration": 1207,
    "start_time": "2023-09-23T10:07:27.635Z"
   },
   {
    "duration": 49,
    "start_time": "2023-09-23T10:07:28.844Z"
   },
   {
    "duration": 45,
    "start_time": "2023-09-23T10:07:28.895Z"
   },
   {
    "duration": 28,
    "start_time": "2023-09-23T10:07:28.941Z"
   },
   {
    "duration": 5,
    "start_time": "2023-09-23T10:07:28.971Z"
   },
   {
    "duration": 6,
    "start_time": "2023-09-23T10:07:28.977Z"
   },
   {
    "duration": 274,
    "start_time": "2023-09-23T10:07:28.984Z"
   },
   {
    "duration": 7,
    "start_time": "2023-09-23T10:07:29.259Z"
   },
   {
    "duration": 12,
    "start_time": "2023-09-23T10:07:29.267Z"
   },
   {
    "duration": 19,
    "start_time": "2023-09-23T10:07:29.281Z"
   },
   {
    "duration": 5,
    "start_time": "2023-09-23T10:07:29.302Z"
   },
   {
    "duration": 5,
    "start_time": "2023-09-23T10:07:29.309Z"
   },
   {
    "duration": 31,
    "start_time": "2023-09-23T10:07:29.315Z"
   },
   {
    "duration": 15,
    "start_time": "2023-09-23T10:07:29.348Z"
   },
   {
    "duration": 7,
    "start_time": "2023-09-23T10:07:29.365Z"
   },
   {
    "duration": 9,
    "start_time": "2023-09-23T10:07:29.373Z"
   },
   {
    "duration": 160,
    "start_time": "2023-09-23T10:07:29.384Z"
   },
   {
    "duration": 170,
    "start_time": "2023-09-23T10:07:29.545Z"
   },
   {
    "duration": 101,
    "start_time": "2023-09-23T10:07:29.717Z"
   },
   {
    "duration": 188,
    "start_time": "2023-09-23T10:07:29.819Z"
   },
   {
    "duration": 5,
    "start_time": "2023-09-23T10:07:30.009Z"
   },
   {
    "duration": 40,
    "start_time": "2023-09-23T10:07:30.015Z"
   },
   {
    "duration": 178,
    "start_time": "2023-09-23T10:07:30.056Z"
   },
   {
    "duration": 341,
    "start_time": "2023-09-23T10:07:30.236Z"
   },
   {
    "duration": 6,
    "start_time": "2023-09-23T10:07:30.579Z"
   },
   {
    "duration": 189,
    "start_time": "2023-09-23T10:07:30.587Z"
   },
   {
    "duration": 195,
    "start_time": "2023-09-23T10:07:30.777Z"
   },
   {
    "duration": 19,
    "start_time": "2023-09-23T10:07:30.975Z"
   },
   {
    "duration": 35,
    "start_time": "2023-09-23T10:07:30.996Z"
   },
   {
    "duration": 30,
    "start_time": "2023-09-23T10:07:31.033Z"
   },
   {
    "duration": 21,
    "start_time": "2023-09-23T10:07:31.065Z"
   },
   {
    "duration": 36,
    "start_time": "2023-09-23T10:07:31.088Z"
   },
   {
    "duration": 20,
    "start_time": "2023-09-23T10:07:31.126Z"
   },
   {
    "duration": 202,
    "start_time": "2023-09-23T10:07:31.147Z"
   },
   {
    "duration": 201,
    "start_time": "2023-09-23T10:07:31.351Z"
   },
   {
    "duration": 198,
    "start_time": "2023-09-23T10:07:31.554Z"
   },
   {
    "duration": 173,
    "start_time": "2023-09-23T10:07:31.753Z"
   },
   {
    "duration": 258,
    "start_time": "2023-09-23T10:07:31.927Z"
   },
   {
    "duration": 372,
    "start_time": "2023-09-23T10:07:32.187Z"
   },
   {
    "duration": 3,
    "start_time": "2023-09-23T10:07:32.561Z"
   },
   {
    "duration": 18,
    "start_time": "2023-09-23T10:07:32.565Z"
   },
   {
    "duration": 825,
    "start_time": "2023-09-23T10:07:32.584Z"
   },
   {
    "duration": 2,
    "start_time": "2023-09-23T10:07:33.411Z"
   },
   {
    "duration": 11,
    "start_time": "2023-09-23T10:07:33.415Z"
   },
   {
    "duration": 146,
    "start_time": "2023-09-23T10:07:33.428Z"
   },
   {
    "duration": 6,
    "start_time": "2023-09-23T10:07:33.576Z"
   },
   {
    "duration": 6,
    "start_time": "2023-09-23T10:07:33.583Z"
   },
   {
    "duration": 14,
    "start_time": "2023-09-23T10:07:33.590Z"
   },
   {
    "duration": 4,
    "start_time": "2023-09-23T10:07:33.605Z"
   },
   {
    "duration": 5,
    "start_time": "2023-09-23T10:07:33.611Z"
   },
   {
    "duration": 290,
    "start_time": "2023-09-23T10:07:33.618Z"
   },
   {
    "duration": 4,
    "start_time": "2023-09-23T10:07:33.909Z"
   },
   {
    "duration": 10,
    "start_time": "2023-09-23T10:07:33.914Z"
   },
   {
    "duration": 5,
    "start_time": "2023-09-23T10:07:33.925Z"
   },
   {
    "duration": 15,
    "start_time": "2023-09-23T10:07:33.931Z"
   },
   {
    "duration": 230,
    "start_time": "2023-09-23T10:07:33.948Z"
   },
   {
    "duration": 3,
    "start_time": "2023-09-23T10:07:34.180Z"
   }
  ],
  "kernelspec": {
   "display_name": "Python 3 (ipykernel)",
   "language": "python",
   "name": "python3"
  },
  "language_info": {
   "codemirror_mode": {
    "name": "ipython",
    "version": 3
   },
   "file_extension": ".py",
   "mimetype": "text/x-python",
   "name": "python",
   "nbconvert_exporter": "python",
   "pygments_lexer": "ipython3",
   "version": "3.9.5"
  },
  "toc": {
   "base_numbering": 1,
   "nav_menu": {},
   "number_sections": true,
   "sideBar": true,
   "skip_h1_title": true,
   "title_cell": "Table of Contents",
   "title_sidebar": "Contents",
   "toc_cell": false,
   "toc_position": {
    "height": "calc(100% - 180px)",
    "left": "10px",
    "top": "150px",
    "width": "524.203px"
   },
   "toc_section_display": true,
   "toc_window_display": true
  }
 },
 "nbformat": 4,
 "nbformat_minor": 5
}
