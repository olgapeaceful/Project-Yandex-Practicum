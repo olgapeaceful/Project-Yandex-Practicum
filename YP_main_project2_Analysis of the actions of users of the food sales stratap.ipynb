{
 "cells": [
  {
   "cell_type": "markdown",
   "metadata": {},
   "source": [
    "# Анализ действий пользователей стратапа по продажам продуктов питания"
   ]
  },
  {
   "cell_type": "markdown",
   "metadata": {},
   "source": [
    "**Описание проекта**\n",
    "\n",
    "<p> Вы работаете в стартапе, который продаёт продукты питания. Нужно разобраться, как ведут себя пользователи вашего мобильного приложения. \n",
    "<p> Изучите воронку продаж. Узнайте, как пользователи доходят до покупки. Сколько пользователей доходит до покупки, а сколько — «застревает» на предыдущих шагах? На каких именно? После этого исследуйте результаты A/A/B-эксперимента. \n",
    "<p> Дизайнеры захотели поменять шрифты во всём приложении, а менеджеры испугались, что пользователям будет непривычно. Договорились принять решение по результатам A/A/B-теста. Пользователей разбили на 3 группы: 2 контрольные со старыми шрифтами и одну экспериментальную — с новыми. Выясните, какой шрифт лучше.\n",
    "<p> Создание двух групп A вместо одной имеет определённые преимущества. Если две контрольные группы окажутся равны, вы можете быть уверены в точности проведенного тестирования. Если же между значениями A и A будут существенные различия, это поможет обнаружить факторы, которые привели к искажению результатов. Сравнение контрольных групп также помогает понять, сколько времени и данных потребуется для дальнейших тестов.\n",
    "<p> В случае общей аналитики и A/A/B-эксперимента работайте с одними и теми же данными. В реальных проектах всегда идут эксперименты. Аналитики исследуют качество работы приложения по общим данным, не учитывая принадлежность пользователей к экспериментам."
   ]
  },
  {
   "cell_type": "markdown",
   "metadata": {},
   "source": [
    "**Описание данных**\n",
    "\n",
    "Каждая запись в логе — это действие пользователя, или событие. \n",
    "- EventName — название события;\n",
    "- DeviceIDHash — уникальный идентификатор пользователя;\n",
    "- EventTimestamp — время события;\n",
    "- ExpId — номер эксперимента: 246 и 247 — контрольные группы, а 248 — экспериментальная.\n"
   ]
  },
  {
   "cell_type": "markdown",
   "metadata": {},
   "source": [
    "**Инструкция по выполнению проекта**\n",
    "\n",
    "Шаг 1. Откройте файл с данными и изучите общую информацию\n",
    "<p> Путь к файлу: /datasets/logs_exp.csv\n",
    "\n",
    "Шаг 2. Подготовьте данные\n",
    "- Замените названия столбцов на удобные для вас;\n",
    "- Проверьте пропуски и типы данных. Откорректируйте, если нужно;\n",
    "- Добавьте столбец даты и времени, а также отдельный столбец дат;\n",
    "\n",
    "Шаг 3. Изучите и проверьте данные\n",
    "- Сколько всего событий в логе?\n",
    "- Сколько всего пользователей в логе?\n",
    "- Сколько в среднем событий приходится на пользователя?\n",
    "- Данными за какой период вы располагаете? Найдите максимальную и минимальную дату. Изучите, как меняется количество данных: постройте столбчатую диаграмму, которая отобразит количество событий в зависимости от времени в разрезе групп. Можно ли быть уверенным, что у вас одинаково полные данные за весь период? Технически в логи новых дней по некоторым пользователям могут «доезжать» события из прошлого — это может «перекашивать данные». Определите, с какого момента данные полные и отбросьте более старые. Данными за какой период времени вы располагаете на самом деле?\n",
    "- Много ли событий и пользователей вы потеряли, отбросив старые данные?\n",
    "- Проверьте, что у вас есть пользователи из всех трёх экспериментальных групп.\n",
    "\n",
    "Шаг 4. Изучите воронку событий\n",
    "- Посмотрите, какие события есть в логах, как часто они встречаются. Отсортируйте события по частоте.\n",
    "- Посчитайте, сколько пользователей совершали каждое из этих событий. Отсортируйте события по числу пользователей. Посчитайте долю пользователей, которые хоть раз совершали событие.\n",
    "- Предположите, в каком порядке происходят события. Все ли они выстраиваются в последовательную цепочку? Их не нужно учитывать при расчёте воронки.\n",
    "- По воронке событий посчитайте, какая доля пользователей проходит на следующий шаг воронки (от числа пользователей на предыдущем). То есть для последовательности событий A → B → C посчитайте отношение числа пользователей с событием B к количеству пользователей с событием A, а также отношение числа пользователей с событием C к количеству пользователей с событием B.\n",
    "- На каком шаге теряете больше всего пользователей?\n",
    "- Какая доля пользователей доходит от первого события до оплаты?\n",
    "\n",
    "Шаг 5. Изучите результаты эксперимента\n",
    "- Сколько пользователей в каждой экспериментальной группе?\n",
    "- Есть 2 контрольные группы для А/А-эксперимента, чтобы проверить корректность всех механизмов и расчётов. Проверьте, находят ли статистические критерии разницу между выборками 246 и 247.\n",
    "- Выберите самое популярное событие. Посчитайте число пользователей, совершивших это событие в каждой из контрольных групп. - - - Посчитайте долю пользователей, совершивших это событие. Проверьте, будет ли отличие между группами статистически достоверным. - Проделайте то же самое для всех других событий (удобно обернуть проверку в отдельную функцию). Можно ли сказать, что разбиение на группы работает корректно?\n",
    "- Аналогично поступите с группой с изменённым шрифтом. Сравните результаты с каждой из контрольных групп в отдельности по каждому событию. Сравните результаты с объединённой контрольной группой. Какие выводы из эксперимента можно сделать?\n",
    "- Какой уровень значимости вы выбрали при проверке статистических гипотез выше? Посчитайте, сколько проверок статистических гипотез вы сделали. При уровне значимости 0.1 в 10% случаев можно ошибочно отклонить нулевую гипотезу при условии, что она верна. Какой уровень значимости стоит применить? Если вы хотите изменить его, проделайте предыдущие пункты и проверьте свои выводы.\n"
   ]
  },
  {
   "cell_type": "markdown",
   "metadata": {},
   "source": [
    "## Общая информация о таблице. Шаг 1-2"
   ]
  },
  {
   "cell_type": "code",
   "execution_count": 1,
   "metadata": {},
   "outputs": [],
   "source": [
    "import pandas as pd\n",
    "from datetime import datetime\n",
    "import numpy as np\n",
    "import matplotlib.pyplot as plt\n",
    "import seaborn as sns\n",
    "\n",
    "import math\n",
    "import scipy.stats as st"
   ]
  },
  {
   "cell_type": "markdown",
   "metadata": {},
   "source": [
    "<div class=\"alert alert-block\" style=\"background-color: gainsboro\">\n",
    "<g>\n",
    "\n",
    "<p>Откроем таблицу и изучим общую информацию о данных.\n",
    "<p>Считаем данные из csv-файлов в датафреймы и сохраним в переменные.\n",
    "<p>Выведем общую информацию о таблицах, чтобы понять с каким типом данных будем работать в каждом столбце методом info()."
   ]
  },
  {
   "cell_type": "code",
   "execution_count": 2,
   "metadata": {},
   "outputs": [
    {
     "name": "stdout",
     "output_type": "stream",
     "text": [
      "<class 'pandas.core.frame.DataFrame'>\n",
      "RangeIndex: 244126 entries, 0 to 244125\n",
      "Data columns (total 4 columns):\n",
      " #   Column          Non-Null Count   Dtype \n",
      "---  ------          --------------   ----- \n",
      " 0   EventName       244126 non-null  object\n",
      " 1   DeviceIDHash    244126 non-null  int64 \n",
      " 2   EventTimestamp  244126 non-null  int64 \n",
      " 3   ExpId           244126 non-null  int64 \n",
      "dtypes: int64(3), object(1)\n",
      "memory usage: 7.5+ MB\n",
      "None\n",
      "___________________________________\n",
      "EventName         0\n",
      "DeviceIDHash      0\n",
      "EventTimestamp    0\n",
      "ExpId             0\n",
      "dtype: int64\n",
      "___________________________________\n"
     ]
    },
    {
     "data": {
      "text/html": [
       "<div>\n",
       "<style scoped>\n",
       "    .dataframe tbody tr th:only-of-type {\n",
       "        vertical-align: middle;\n",
       "    }\n",
       "\n",
       "    .dataframe tbody tr th {\n",
       "        vertical-align: top;\n",
       "    }\n",
       "\n",
       "    .dataframe thead th {\n",
       "        text-align: right;\n",
       "    }\n",
       "</style>\n",
       "<table border=\"1\" class=\"dataframe\">\n",
       "  <thead>\n",
       "    <tr style=\"text-align: right;\">\n",
       "      <th></th>\n",
       "      <th>EventName</th>\n",
       "      <th>DeviceIDHash</th>\n",
       "      <th>EventTimestamp</th>\n",
       "      <th>ExpId</th>\n",
       "    </tr>\n",
       "  </thead>\n",
       "  <tbody>\n",
       "    <tr>\n",
       "      <th>0</th>\n",
       "      <td>MainScreenAppear</td>\n",
       "      <td>4575588528974610257</td>\n",
       "      <td>1564029816</td>\n",
       "      <td>246</td>\n",
       "    </tr>\n",
       "    <tr>\n",
       "      <th>1</th>\n",
       "      <td>MainScreenAppear</td>\n",
       "      <td>7416695313311560658</td>\n",
       "      <td>1564053102</td>\n",
       "      <td>246</td>\n",
       "    </tr>\n",
       "    <tr>\n",
       "      <th>2</th>\n",
       "      <td>PaymentScreenSuccessful</td>\n",
       "      <td>3518123091307005509</td>\n",
       "      <td>1564054127</td>\n",
       "      <td>248</td>\n",
       "    </tr>\n",
       "    <tr>\n",
       "      <th>3</th>\n",
       "      <td>CartScreenAppear</td>\n",
       "      <td>3518123091307005509</td>\n",
       "      <td>1564054127</td>\n",
       "      <td>248</td>\n",
       "    </tr>\n",
       "    <tr>\n",
       "      <th>4</th>\n",
       "      <td>PaymentScreenSuccessful</td>\n",
       "      <td>6217807653094995999</td>\n",
       "      <td>1564055322</td>\n",
       "      <td>248</td>\n",
       "    </tr>\n",
       "  </tbody>\n",
       "</table>\n",
       "</div>"
      ],
      "text/plain": [
       "                 EventName         DeviceIDHash  EventTimestamp  ExpId\n",
       "0         MainScreenAppear  4575588528974610257      1564029816    246\n",
       "1         MainScreenAppear  7416695313311560658      1564053102    246\n",
       "2  PaymentScreenSuccessful  3518123091307005509      1564054127    248\n",
       "3         CartScreenAppear  3518123091307005509      1564054127    248\n",
       "4  PaymentScreenSuccessful  6217807653094995999      1564055322    248"
      ]
     },
     "execution_count": 2,
     "metadata": {},
     "output_type": "execute_result"
    }
   ],
   "source": [
    "# создадим датафрейм с названием logs\n",
    "logs = pd.read_csv(\"/datasets/logs_exp.csv\", sep=\"\\t\")\n",
    "\n",
    "print(logs.info())\n",
    "print(\"___________________________________\")\n",
    "print(logs.isna().sum().sort_values(ascending=False))\n",
    "print(\"___________________________________\")\n",
    "pd.set_option(\"display.max_columns\", None)\n",
    "pd.options.display.max_colwidth\n",
    "logs.head()"
   ]
  },
  {
   "cell_type": "code",
   "execution_count": 3,
   "metadata": {},
   "outputs": [
    {
     "name": "stdout",
     "output_type": "stream",
     "text": [
      "413\n"
     ]
    }
   ],
   "source": [
    "#проверим на дубликаты\n",
    "print(logs.duplicated().sum())"
   ]
  },
  {
   "cell_type": "markdown",
   "metadata": {},
   "source": [
    "В таблице имеется 413 дубликатов"
   ]
  },
  {
   "cell_type": "code",
   "execution_count": 4,
   "metadata": {},
   "outputs": [],
   "source": [
    "#избавимся от дубликатов по столбцам\n",
    "logs = logs.drop_duplicates().reset_index(drop=True)"
   ]
  },
  {
   "cell_type": "code",
   "execution_count": 5,
   "metadata": {},
   "outputs": [
    {
     "data": {
      "text/html": [
       "<div>\n",
       "<style scoped>\n",
       "    .dataframe tbody tr th:only-of-type {\n",
       "        vertical-align: middle;\n",
       "    }\n",
       "\n",
       "    .dataframe tbody tr th {\n",
       "        vertical-align: top;\n",
       "    }\n",
       "\n",
       "    .dataframe thead th {\n",
       "        text-align: right;\n",
       "    }\n",
       "</style>\n",
       "<table border=\"1\" class=\"dataframe\">\n",
       "  <thead>\n",
       "    <tr style=\"text-align: right;\">\n",
       "      <th></th>\n",
       "      <th>event_name</th>\n",
       "      <th>user_id</th>\n",
       "      <th>datetime</th>\n",
       "      <th>group</th>\n",
       "    </tr>\n",
       "  </thead>\n",
       "  <tbody>\n",
       "    <tr>\n",
       "      <th>0</th>\n",
       "      <td>MainScreenAppear</td>\n",
       "      <td>4575588528974610257</td>\n",
       "      <td>1564029816</td>\n",
       "      <td>246</td>\n",
       "    </tr>\n",
       "    <tr>\n",
       "      <th>1</th>\n",
       "      <td>MainScreenAppear</td>\n",
       "      <td>7416695313311560658</td>\n",
       "      <td>1564053102</td>\n",
       "      <td>246</td>\n",
       "    </tr>\n",
       "    <tr>\n",
       "      <th>2</th>\n",
       "      <td>PaymentScreenSuccessful</td>\n",
       "      <td>3518123091307005509</td>\n",
       "      <td>1564054127</td>\n",
       "      <td>248</td>\n",
       "    </tr>\n",
       "    <tr>\n",
       "      <th>3</th>\n",
       "      <td>CartScreenAppear</td>\n",
       "      <td>3518123091307005509</td>\n",
       "      <td>1564054127</td>\n",
       "      <td>248</td>\n",
       "    </tr>\n",
       "    <tr>\n",
       "      <th>4</th>\n",
       "      <td>PaymentScreenSuccessful</td>\n",
       "      <td>6217807653094995999</td>\n",
       "      <td>1564055322</td>\n",
       "      <td>248</td>\n",
       "    </tr>\n",
       "  </tbody>\n",
       "</table>\n",
       "</div>"
      ],
      "text/plain": [
       "                event_name              user_id    datetime  group\n",
       "0         MainScreenAppear  4575588528974610257  1564029816    246\n",
       "1         MainScreenAppear  7416695313311560658  1564053102    246\n",
       "2  PaymentScreenSuccessful  3518123091307005509  1564054127    248\n",
       "3         CartScreenAppear  3518123091307005509  1564054127    248\n",
       "4  PaymentScreenSuccessful  6217807653094995999  1564055322    248"
      ]
     },
     "execution_count": 5,
     "metadata": {},
     "output_type": "execute_result"
    }
   ],
   "source": [
    "#заменим названия столбцов на более читаемые\n",
    "logs.rename(columns = {'EventName':'event_name','DeviceIDHash':'user_id', 'EventTimestamp':'datetime', 'ExpId':'group'}, inplace = True )\n",
    "logs.head()"
   ]
  },
  {
   "cell_type": "code",
   "execution_count": 6,
   "metadata": {},
   "outputs": [
    {
     "data": {
      "text/html": [
       "<div>\n",
       "<style scoped>\n",
       "    .dataframe tbody tr th:only-of-type {\n",
       "        vertical-align: middle;\n",
       "    }\n",
       "\n",
       "    .dataframe tbody tr th {\n",
       "        vertical-align: top;\n",
       "    }\n",
       "\n",
       "    .dataframe thead th {\n",
       "        text-align: right;\n",
       "    }\n",
       "</style>\n",
       "<table border=\"1\" class=\"dataframe\">\n",
       "  <thead>\n",
       "    <tr style=\"text-align: right;\">\n",
       "      <th></th>\n",
       "      <th>event_name</th>\n",
       "      <th>user_id</th>\n",
       "      <th>datetime</th>\n",
       "      <th>group</th>\n",
       "      <th>date</th>\n",
       "    </tr>\n",
       "  </thead>\n",
       "  <tbody>\n",
       "    <tr>\n",
       "      <th>0</th>\n",
       "      <td>MainScreenAppear</td>\n",
       "      <td>4575588528974610257</td>\n",
       "      <td>2019-07-25 04:43:36</td>\n",
       "      <td>246</td>\n",
       "      <td>2019-07-25</td>\n",
       "    </tr>\n",
       "    <tr>\n",
       "      <th>1</th>\n",
       "      <td>MainScreenAppear</td>\n",
       "      <td>7416695313311560658</td>\n",
       "      <td>2019-07-25 11:11:42</td>\n",
       "      <td>246</td>\n",
       "      <td>2019-07-25</td>\n",
       "    </tr>\n",
       "    <tr>\n",
       "      <th>2</th>\n",
       "      <td>PaymentScreenSuccessful</td>\n",
       "      <td>3518123091307005509</td>\n",
       "      <td>2019-07-25 11:28:47</td>\n",
       "      <td>248</td>\n",
       "      <td>2019-07-25</td>\n",
       "    </tr>\n",
       "    <tr>\n",
       "      <th>3</th>\n",
       "      <td>CartScreenAppear</td>\n",
       "      <td>3518123091307005509</td>\n",
       "      <td>2019-07-25 11:28:47</td>\n",
       "      <td>248</td>\n",
       "      <td>2019-07-25</td>\n",
       "    </tr>\n",
       "    <tr>\n",
       "      <th>4</th>\n",
       "      <td>PaymentScreenSuccessful</td>\n",
       "      <td>6217807653094995999</td>\n",
       "      <td>2019-07-25 11:48:42</td>\n",
       "      <td>248</td>\n",
       "      <td>2019-07-25</td>\n",
       "    </tr>\n",
       "  </tbody>\n",
       "</table>\n",
       "</div>"
      ],
      "text/plain": [
       "                event_name              user_id            datetime  group  \\\n",
       "0         MainScreenAppear  4575588528974610257 2019-07-25 04:43:36    246   \n",
       "1         MainScreenAppear  7416695313311560658 2019-07-25 11:11:42    246   \n",
       "2  PaymentScreenSuccessful  3518123091307005509 2019-07-25 11:28:47    248   \n",
       "3         CartScreenAppear  3518123091307005509 2019-07-25 11:28:47    248   \n",
       "4  PaymentScreenSuccessful  6217807653094995999 2019-07-25 11:48:42    248   \n",
       "\n",
       "         date  \n",
       "0  2019-07-25  \n",
       "1  2019-07-25  \n",
       "2  2019-07-25  \n",
       "3  2019-07-25  \n",
       "4  2019-07-25  "
      ]
     },
     "execution_count": 6,
     "metadata": {},
     "output_type": "execute_result"
    }
   ],
   "source": [
    "#изменим тип данных в столбце datetime\n",
    "logs['datetime'] = pd.to_datetime(logs['datetime'], unit='s')\n",
    "\n",
    "#добавим отдельный столбец, которых сохранит только дату\n",
    "logs['date'] = logs['datetime'].dt.date\n",
    "logs.head()"
   ]
  },
  {
   "cell_type": "code",
   "execution_count": 7,
   "metadata": {},
   "outputs": [
    {
     "name": "stdout",
     "output_type": "stream",
     "text": [
      "Количество групп для эксперимента и пользователей в них:\n",
      " 248    85582\n",
      "246    80181\n",
      "247    77950\n",
      "Name: group, dtype: int64\n"
     ]
    }
   ],
   "source": [
    "#проверим количество пользователей в группах\n",
    "print('Количество групп для эксперимента и пользователей в них:\\n', logs['group'].value_counts())"
   ]
  },
  {
   "cell_type": "code",
   "execution_count": 8,
   "metadata": {},
   "outputs": [
    {
     "name": "stdout",
     "output_type": "stream",
     "text": [
      "<class 'pandas.core.frame.DataFrame'>\n",
      "RangeIndex: 243713 entries, 0 to 243712\n",
      "Data columns (total 5 columns):\n",
      " #   Column      Non-Null Count   Dtype         \n",
      "---  ------      --------------   -----         \n",
      " 0   event_name  243713 non-null  object        \n",
      " 1   user_id     243713 non-null  int64         \n",
      " 2   datetime    243713 non-null  datetime64[ns]\n",
      " 3   group       243713 non-null  object        \n",
      " 4   date        243713 non-null  object        \n",
      "dtypes: datetime64[ns](1), int64(1), object(3)\n",
      "memory usage: 9.3+ MB\n"
     ]
    }
   ],
   "source": [
    "#названия групп представлены в числовом формате, переименуем их согласно описанию проекта:\n",
    "#246 и 247 — контрольные группы, а 248 — экспериментальная\n",
    "logs['group'] = logs['group'].replace({246: 'a', 247: 'a2', 248: 'b'})\n",
    "\n",
    "logs.head()\n",
    "logs.info()"
   ]
  },
  {
   "cell_type": "code",
   "execution_count": 9,
   "metadata": {},
   "outputs": [
    {
     "name": "stdout",
     "output_type": "stream",
     "text": [
      "Количество пользователей из группы а, которые попали вггруппу а2 = 0\n",
      "Количество пользователей из группы а, которые попали вггруппу b = 0\n",
      "Количество пользователей из группы а2, которые попали вггруппу b = 0\n"
     ]
    }
   ],
   "source": [
    "#посчитаем количество уникальных пользователей в таблице\n",
    "unique_user_id = len(logs['user_id'].unique())\n",
    "\n",
    "#выберем user_id по каждой группе\n",
    "user_id_a = set(logs[(logs['group'] == 'a')]['user_id'])\n",
    "user_id_a2 = set(logs[(logs['group'] == 'a2')]['user_id'])\n",
    "user_id_b = set(logs[(logs['group'] == 'b')]['user_id'])\n",
    "\n",
    "#проверим входят ли данные из одного множества в другое\n",
    "user_id_inaa2 = user_id_a.intersection(user_id_a2)\n",
    "print(f\"Количество пользователей из группы а, которые попали вггруппу а2 = {len(user_id_inaa2)}\")\n",
    "user_id_inab = user_id_a.intersection(user_id_b)\n",
    "print(f\"Количество пользователей из группы а, которые попали вггруппу b = {len(user_id_inab)}\")\n",
    "user_id_ina2b = user_id_a2.intersection(user_id_b)\n",
    "print(f\"Количество пользователей из группы а2, которые попали вггруппу b = {len(user_id_ina2b)}\")\n"
   ]
  },
  {
   "cell_type": "markdown",
   "metadata": {},
   "source": [
    "<div class=\"alert alert-block\" style=\"background-color: gainsboro\">\n",
    "<p> Таблица содержит 243713 строки и 5 столбцов. Пропущенных значений нет, дубликаты удалены.\n",
    "<p> Типы столбцов соответствуют описанию, дополнительный столбец с датой добавлен. Пользователи по группам распределены корректно - нет пользователей, которые попали в разные группы.\n",
    "</div>"
   ]
  },
  {
   "cell_type": "markdown",
   "metadata": {},
   "source": [
    "## Общий анализ данных таблицы. Шаг 3."
   ]
  },
  {
   "cell_type": "code",
   "execution_count": 10,
   "metadata": {},
   "outputs": [
    {
     "name": "stdout",
     "output_type": "stream",
     "text": [
      "Всего в логе:  243713 событий\n",
      "___________________________________\n"
     ]
    }
   ],
   "source": [
    "#Определим сколько всего событий в логе:\n",
    "print('Всего в логе: ', logs['event_name'].count(),'событий')\n",
    "print('___________________________________')"
   ]
  },
  {
   "cell_type": "code",
   "execution_count": 11,
   "metadata": {},
   "outputs": [
    {
     "name": "stdout",
     "output_type": "stream",
     "text": [
      "Всего в логе:  7551 уникальных пользователей\n",
      "___________________________________\n"
     ]
    }
   ],
   "source": [
    "# Определим сколько всего уникальных пользователей в логе\n",
    "print('Всего в логе: ', logs['user_id'].nunique(),'уникальных пользователей')\n",
    "print('___________________________________')"
   ]
  },
  {
   "cell_type": "code",
   "execution_count": 12,
   "metadata": {},
   "outputs": [
    {
     "data": {
      "text/plain": [
       "count    7551.000000\n",
       "mean       32.275593\n",
       "std        65.154219\n",
       "min         1.000000\n",
       "25%         9.000000\n",
       "50%        20.000000\n",
       "75%        37.000000\n",
       "max      2307.000000\n",
       "Name: event_name, dtype: float64"
      ]
     },
     "execution_count": 12,
     "metadata": {},
     "output_type": "execute_result"
    }
   ],
   "source": [
    "# Определим сколько в среднем событий приходится на пользователя?\n",
    "event_per_user = logs.groupby('user_id')['event_name'].count()\n",
    "#определим среднее и медианное значение\n",
    "event_per_user.describe()"
   ]
  },
  {
   "cell_type": "code",
   "execution_count": 13,
   "metadata": {},
   "outputs": [
    {
     "data": {
      "image/png": "[encoded data removed]",
      "text/plain": [
       "<Figure size 720x432 with 1 Axes>"
      ]
     },
     "metadata": {
      "needs_background": "light"
     },
     "output_type": "display_data"
    }
   ],
   "source": [
    "# Построение гистограммы\n",
    "plt.figure(figsize=(10,6))\n",
    "plt.hist(event_per_user, bins=300)\n",
    "plt.title('Распределение количества событий по пользователям')\n",
    "plt.xlabel('Количество событий')\n",
    "plt.ylabel('Количество пользователей')\n",
    "plt.show()"
   ]
  },
  {
   "cell_type": "markdown",
   "metadata": {},
   "source": [
    "В среднем на одного пользователя приходится 32 события или 20 по медианному значению. Один из пользователей совершил 2307 событий. Имеем дело с выбросами, на гистаграмме вероятно имеется длинный хвост. Можем поизучать дополнительно сколько в среднем пользователи совершают каждое из событий."
   ]
  },
  {
   "cell_type": "code",
   "execution_count": 14,
   "metadata": {},
   "outputs": [
    {
     "data": {
      "text/plain": [
       "event_name\n",
       "CartScreenAppear           11.0\n",
       "MainScreenAppear           16.0\n",
       "OffersScreenAppear         10.0\n",
       "PaymentScreenSuccessful    10.0\n",
       "Tutorial                    1.0\n",
       "dtype: float64"
      ]
     },
     "execution_count": 14,
     "metadata": {},
     "output_type": "execute_result"
    }
   ],
   "source": [
    "users_view = logs.pivot_table(index='user_id', columns='event_name', values='datetime', aggfunc='count')\n",
    "avg_users_view = round(users_view.mean())\n",
    "avg_users_view"
   ]
  },
  {
   "cell_type": "markdown",
   "metadata": {},
   "source": [
    "В среднем пользователи находятся на этапе просмотра главного экрана: MainScreenAppear 16 раз; читают Tutorial 1 раз, и 10-11 раз на других этапах."
   ]
  },
  {
   "cell_type": "code",
   "execution_count": 15,
   "metadata": {},
   "outputs": [
    {
     "name": "stdout",
     "output_type": "stream",
     "text": [
      "Данные для анализа предствалены за период: с 25-07-2019  по  07-08-2019\n"
     ]
    }
   ],
   "source": [
    "#Определим данными за какой период мы располагаем? Найдем максимальную и минимальную дату.\n",
    "min_dt=logs['date'].min().strftime('%d-%m-%Y')\n",
    "max_dt=logs['date'].max().strftime('%d-%m-%Y')\n",
    "print('Данные для анализа предствалены за период: с', min_dt, ' по ', max_dt)"
   ]
  },
  {
   "cell_type": "code",
   "execution_count": 16,
   "metadata": {},
   "outputs": [
    {
     "name": "stdout",
     "output_type": "stream",
     "text": [
      "2019-08-01    36141\n",
      "2019-08-05    36058\n",
      "2019-08-06    35788\n",
      "2019-08-02    35554\n",
      "2019-08-03    33282\n",
      "2019-08-04    32968\n",
      "2019-08-07    31096\n",
      "2019-07-31     2030\n",
      "2019-07-30      412\n",
      "2019-07-29      184\n",
      "2019-07-28      105\n",
      "2019-07-27       55\n",
      "2019-07-26       31\n",
      "2019-07-25        9\n",
      "Name: date, dtype: int64\n",
      "Размер таблицы составляет:  243713 строк\n",
      "___________________________________\n",
      "group\n",
      "a     2489\n",
      "a2    2520\n",
      "b     2542\n",
      "Name: user_id, dtype: int64\n"
     ]
    }
   ],
   "source": [
    "#проверим как распределены данные\n",
    "print(logs['date'].value_counts())\n",
    "old_shape=logs['date'].count()\n",
    "print('Размер таблицы составляет: ', old_shape, 'строк')\n",
    "print('___________________________________')\n",
    "\n",
    "# Считаем количество уникальных пользователей в каждой группе\n",
    "unique_users_in_group_old = logs.groupby('group')['user_id'].nunique()\n",
    "print(unique_users_in_group_old)"
   ]
  },
  {
   "cell_type": "code",
   "execution_count": 17,
   "metadata": {},
   "outputs": [
    {
     "data": {
      "image/png": "[encoded data removed]",
      "text/plain": [
       "<Figure size 1224x360 with 1 Axes>"
      ]
     },
     "metadata": {
      "needs_background": "light"
     },
     "output_type": "display_data"
    }
   ],
   "source": [
    "\"\"\"Изучим, как меняется количество данных:\n",
    "построим столбчатую диаграмму, которая отобразит количество событий\n",
    "в зависимости от времени в разрезе групп\"\"\"\n",
    "\n",
    "plt.figure(figsize=(17, 5))\n",
    "sns.histplot(data=logs, x='datetime', bins=300, kde=True, shrink=0.8)\n",
    "plt.title('Гистограмма событий по дате и времени')\n",
    "plt.xlabel('Дата')\n",
    "plt.ylabel('Количество событий')\n",
    "plt.xticks(rotation=45)\n",
    "plt.show()"
   ]
  },
  {
   "cell_type": "markdown",
   "metadata": {},
   "source": [
    "По гистаграмме видим неравномерное распределение событий по дням с 25/07 по 31/07 - данных практически нет по сравнению с оставшимся периодом -> Стоит отбросить данные за период в которых было мало событий и изменить период для анализа."
   ]
  },
  {
   "cell_type": "code",
   "execution_count": 18,
   "metadata": {},
   "outputs": [
    {
     "name": "stdout",
     "output_type": "stream",
     "text": [
      "Значения по датам распределены следующим образом:\n",
      "\n",
      "2019-08-01    36141\n",
      "2019-08-05    36058\n",
      "2019-08-06    35788\n",
      "2019-08-02    35554\n",
      "2019-08-03    33282\n",
      "2019-08-04    32968\n",
      "2019-08-07    31096\n",
      "Name: date, dtype: int64\n",
      "___________________________________\n",
      "Размер таблицы составляет:  240887 строк\n",
      "___________________________________\n",
      "После исключения дат с малым количество данных, размер базы уменьшен на -1.2% , удалено  2826 значений \n",
      "После исключения дат, количество уникальных клиентов в группе a на 0.2%,\n",
      "После исключения дат, количество уникальных клиентов в группе a2 на 0.3%,\n",
      "После исключения дат, количество уникальных клиентов в группе b на 0.2%,\n"
     ]
    }
   ],
   "source": [
    "print(\"Значения по датам распределены следующим образом:\\n\")\n",
    "logs = logs.loc[logs[\"datetime\"] > \"2019-08-01 00:00:00\"].reset_index(drop=True)\n",
    "print(logs[\"date\"].value_counts())\n",
    "new_shape = logs[\"date\"].count()\n",
    "print(\"___________________________________\")\n",
    "print(\"Размер таблицы составляет: \", new_shape, \"строк\")\n",
    "print(\"___________________________________\")\n",
    "per_lost = round((new_shape / old_shape - 1), 3)\n",
    "abc_lost = old_shape - new_shape\n",
    "print(\n",
    "    \"После исключения дат с малым количество данных, размер базы уменьшен на {:.1%}\".format(\n",
    "        per_lost\n",
    "    ),\n",
    "    \", удалено \",\n",
    "    abc_lost,\n",
    "    \"значений \",\n",
    ")\n",
    "\n",
    "# Считаем количество уникальных пользователей в каждой группе\n",
    "unique_users_in_group_new = logs.groupby('group')['user_id'].nunique()\n",
    "\n",
    "# объединяем таблицы\n",
    "result = pd.concat([unique_users_in_group_old, unique_users_in_group_new], axis=1)\n",
    "result.columns = ['old', 'new']\n",
    "\n",
    "result['difference'] = round(((result['old'] - result['new']) / result['old']),3)\n",
    "\n",
    "for group in result.index:\n",
    "    old_value = result.loc[group, 'old']\n",
    "    new_value = result.loc[group, 'new']\n",
    "    difference = result.loc[group, 'difference']\n",
    "    print(f\"После исключения дат, количество уникальных клиентов в группе {group} на {difference*100}%,\")"
   ]
  },
  {
   "cell_type": "code",
   "execution_count": 19,
   "metadata": {},
   "outputs": [
    {
     "data": {
      "text/plain": [
       "b     84563\n",
       "a     79302\n",
       "a2    77022\n",
       "Name: group, dtype: int64"
      ]
     },
     "execution_count": 19,
     "metadata": {},
     "output_type": "execute_result"
    }
   ],
   "source": [
    "#проверим, что у нас есть пользователи из всех трёх экспериментальных групп\n",
    "logs['group'].value_counts()"
   ]
  },
  {
   "cell_type": "markdown",
   "metadata": {},
   "source": [
    "<div class=\"alert alert-block\" style=\"background-color: gainsboro\">\n",
    "<p> Из таблицы исключены данные с датами, в которых было меньше всего событий.\n",
    "Для анализа взят период с 01/08/2019 по 08/08/2019.\n",
    "<p> Всего событий в таблице - 240 887.\n",
    "    \n",
    "Распределение событий по группам:\n",
    "- в группе a 79 302\n",
    "- в группе a2 77 022\n",
    "- в группе b 84 563\n",
    "\n",
    "После исключения данных общий размер таблицы уменьшен на 1,6%, что является допустимым в рамках такого анализа.\n",
    "</div>"
   ]
  },
  {
   "cell_type": "markdown",
   "metadata": {},
   "source": [
    "## Построение воронки событий. Шаг 4"
   ]
  },
  {
   "cell_type": "markdown",
   "metadata": {},
   "source": [
    "### Распределение типов событий в таблице"
   ]
  },
  {
   "cell_type": "code",
   "execution_count": 20,
   "metadata": {},
   "outputs": [
    {
     "name": "stdout",
     "output_type": "stream",
     "text": [
      "События распределены по типам следующим образом:\n",
      "\n",
      "MainScreenAppear           48.7%\n",
      "OffersScreenAppear         19.2%\n",
      "CartScreenAppear           17.6%\n",
      "PaymentScreenSuccessful    14.1%\n",
      "Tutorial                    0.4%\n",
      "Name: event_name, dtype: object\n",
      "___________________________________\n",
      "Распределение событий в абсолютных значениях:\n",
      "\n",
      "MainScreenAppear           117328\n",
      "OffersScreenAppear          46333\n",
      "CartScreenAppear            42303\n",
      "PaymentScreenSuccessful     33918\n",
      "Tutorial                     1005\n",
      "Name: event_name, dtype: object\n",
      "___________________________________\n"
     ]
    }
   ],
   "source": [
    "# посмотрим, какие события есть в логах, как часто они встречаются\n",
    "\n",
    "print(\"События распределены по типам следующим образом:\\n\")\n",
    "df_event_name = logs[\"event_name\"].value_counts()\n",
    "\n",
    "# создадим отдельный датафрейм для вывода данных в %\n",
    "df_event_name_per = df_event_name\n",
    "# посчитаем общее количество значений\n",
    "total_events = df_event_name_per.sum()\n",
    "# посчитаем отношение событий к общему числу событий\n",
    "df_event_name_per[\"ratio\"] = round((df_event_name_per / total_events) * 100, 1)\n",
    "# добавим % к значениям нового датафрейма\n",
    "df_event_name_per[\"ratio\"] = df_event_name_per[\"ratio\"].map(lambda x: str(x) + \"%\")\n",
    "\n",
    "# выведем сначала датафрейм с долями, а затем с абсолютными значениями.\n",
    "print(df_event_name_per[\"ratio\"])\n",
    "print(\"___________________________________\")\n",
    "print(\"Распределение событий в абсолютных значениях:\\n\")\n",
    "print(df_event_name.head(5))\n",
    "print(\"___________________________________\")"
   ]
  },
  {
   "cell_type": "markdown",
   "metadata": {},
   "source": [
    "Наибольшая доля событий приходится отображение главной страницы приложения, скорее всего она стартовая. Меньшая же доля приходится на прохождение обучения (Tutorial), скорее всего его можно пропустить или воспользоваться через отдельную функцию."
   ]
  },
  {
   "cell_type": "markdown",
   "metadata": {},
   "source": [
    "### Определение доли пользователей, совершавших событие"
   ]
  },
  {
   "cell_type": "code",
   "execution_count": 21,
   "metadata": {},
   "outputs": [
    {
     "name": "stdout",
     "output_type": "stream",
     "text": [
      "Общее количество уникальных пользователей, которые хоть раз совершали событие 7534\n",
      "___________________________________\n"
     ]
    },
    {
     "data": {
      "text/html": [
       "<div>\n",
       "<style scoped>\n",
       "    .dataframe tbody tr th:only-of-type {\n",
       "        vertical-align: middle;\n",
       "    }\n",
       "\n",
       "    .dataframe tbody tr th {\n",
       "        vertical-align: top;\n",
       "    }\n",
       "\n",
       "    .dataframe thead th {\n",
       "        text-align: right;\n",
       "    }\n",
       "</style>\n",
       "<table border=\"1\" class=\"dataframe\">\n",
       "  <thead>\n",
       "    <tr style=\"text-align: right;\">\n",
       "      <th></th>\n",
       "      <th>event_name</th>\n",
       "      <th>user_id</th>\n",
       "      <th>percent_users</th>\n",
       "    </tr>\n",
       "  </thead>\n",
       "  <tbody>\n",
       "    <tr>\n",
       "      <th>0</th>\n",
       "      <td>MainScreenAppear</td>\n",
       "      <td>7419</td>\n",
       "      <td>98.5</td>\n",
       "    </tr>\n",
       "    <tr>\n",
       "      <th>1</th>\n",
       "      <td>OffersScreenAppear</td>\n",
       "      <td>4593</td>\n",
       "      <td>61.0</td>\n",
       "    </tr>\n",
       "    <tr>\n",
       "      <th>2</th>\n",
       "      <td>CartScreenAppear</td>\n",
       "      <td>3734</td>\n",
       "      <td>49.6</td>\n",
       "    </tr>\n",
       "    <tr>\n",
       "      <th>3</th>\n",
       "      <td>PaymentScreenSuccessful</td>\n",
       "      <td>3539</td>\n",
       "      <td>47.0</td>\n",
       "    </tr>\n",
       "    <tr>\n",
       "      <th>4</th>\n",
       "      <td>Tutorial</td>\n",
       "      <td>840</td>\n",
       "      <td>11.1</td>\n",
       "    </tr>\n",
       "  </tbody>\n",
       "</table>\n",
       "</div>"
      ],
      "text/plain": [
       "                event_name  user_id  percent_users\n",
       "0         MainScreenAppear     7419           98.5\n",
       "1       OffersScreenAppear     4593           61.0\n",
       "2         CartScreenAppear     3734           49.6\n",
       "3  PaymentScreenSuccessful     3539           47.0\n",
       "4                 Tutorial      840           11.1"
      ]
     },
     "metadata": {},
     "output_type": "display_data"
    }
   ],
   "source": [
    "# Посчитаем долю пользователей, которые хоть раз совершали событие\n",
    "total_users = logs[\"user_id\"].nunique()\n",
    "print(\n",
    "    \"Общее количество уникальных пользователей, которые хоть раз совершали событие\",\n",
    "    total_users,\n",
    ")\n",
    "print(\"___________________________________\")\n",
    "\n",
    "# Посчитаем сколько уникальных пользователей совершали каждое из этих событий\n",
    "event_users = (\n",
    "    logs.groupby(\"event_name\")[\"user_id\"]\n",
    "    .nunique()\n",
    "    .sort_values(ascending=False)\n",
    "    .reset_index()\n",
    ")\n",
    "event_users[\"percent_users\"] = (event_users[\"user_id\"] / total_users).round(3) * 100\n",
    "display(event_users)"
   ]
  },
  {
   "attachments": {
    "image-2.png": {
     "image/png": "[encoded data removed]"
    },
    "image.png": {
     "image/png": "[encoded data removed]"
    }
   },
   "cell_type": "markdown",
   "metadata": {},
   "source": [
    "Около 1,5% пользователей миновали главные экран, возможно, потому что они перешли по специальной ссылке, которая вела сразу на определённый экран. Например на экран с акционными товарами. Или по ссылке на конкретный товар.![image.png](attachment:image.png)![image-2.png](attachment:image-2.png)"
   ]
  },
  {
   "cell_type": "code",
   "execution_count": 22,
   "metadata": {},
   "outputs": [
    {
     "data": {
      "image/png": "[encoded data removed]",
      "text/plain": [
       "<Figure size 1008x504 with 1 Axes>"
      ]
     },
     "metadata": {
      "needs_background": "light"
     },
     "output_type": "display_data"
    }
   ],
   "source": [
    "# создаем сводную по событиям\n",
    "event_pivot = logs.pivot_table(\n",
    "    index=[\"event_name\"], values=\"user_id\", aggfunc=[\"count\", \"nunique\"]\n",
    ").reset_index()\n",
    "event_pivot.columns = [\"event_name\", \"n_events\", \"n_users\"]\n",
    "event_pivot = event_pivot.sort_values(by=\"n_users\", ascending=False)\n",
    "\n",
    "# создаем график\n",
    "plt.figure(figsize=(14, 7))\n",
    "colors = sns.color_palette(\"Purples_r\", len(event_pivot))\n",
    "ax = sns.barplot(y=\"event_name\", x=\"n_events\", data=event_pivot, palette=colors)\n",
    "\n",
    "ax.set_title(\"Количество событий в разрезе по группам\")\n",
    "plt.xlabel(\"Количество событий\")\n",
    "plt.ylabel(\"Название события\")\n",
    "# добавление подписей к столбцам\n",
    "for i in range(len(ax.patches)):\n",
    "    width = ax.patches[i].get_width()\n",
    "    ax.text(\n",
    "        width,\n",
    "        ax.patches[i].get_y() + ax.patches[i].get_height() / 2,\n",
    "        \"{:1.0f}\".format(width),\n",
    "        ha=\"left\",\n",
    "        va=\"center\",\n",
    "    )\n",
    "plt.show()"
   ]
  },
  {
   "cell_type": "code",
   "execution_count": 23,
   "metadata": {},
   "outputs": [
    {
     "data": {
      "image/png": "[encoded data removed]",
      "text/plain": [
       "<Figure size 1008x504 with 1 Axes>"
      ]
     },
     "metadata": {
      "needs_background": "light"
     },
     "output_type": "display_data"
    }
   ],
   "source": [
    "# создаем сводную по событиям и группам\n",
    "event_pivot = logs.pivot_table(\n",
    "    index=[\"event_name\", \"group\"], values=\"user_id\", aggfunc=[\"count\", \"nunique\"]\n",
    ").reset_index()\n",
    "event_pivot.columns = [\"event_name\", \"group\", \"n_events\", \"n_users\"]\n",
    "event_pivot = event_pivot.sort_values(by=\"n_users\", ascending=False)\n",
    "\n",
    "# создаем график\n",
    "plt.figure(figsize=(14, 7))\n",
    "color_palette = [\"lavender\", \"lightblue\", \"lightpink\"]\n",
    "ax = sns.barplot(\n",
    "    y=\"event_name\", x=\"n_events\", hue=\"group\", palette=color_palette, data=event_pivot\n",
    ")\n",
    "\n",
    "ax.set_title(\"Количество событий в разрезе по группам\")\n",
    "plt.xlabel(\"Количество событий\")\n",
    "plt.ylabel(\"Название события\")\n",
    "\n",
    "# Добавление подписей к столбцам\n",
    "for i in range(len(ax.patches)):\n",
    "    width = ax.patches[i].get_width()\n",
    "    ax.text(\n",
    "        width,\n",
    "        ax.patches[i].get_y() + ax.patches[i].get_height() / 2,\n",
    "        \"{:1.0f}\".format(width),\n",
    "        ha=\"left\",\n",
    "        va=\"center\",\n",
    "    )\n",
    "plt.show()"
   ]
  },
  {
   "cell_type": "markdown",
   "metadata": {},
   "source": [
    "<div class=\"alert alert-block\" style=\"background-color: gainsboro\">\n",
    "<p> Можно предположить, что пользователи начинают с главного экрана (MainScreenAppear), затем переходят на экран с предложенными товарами (OffersScreenAppear), затем просматривают свою корзину (CartScreenAppear) и затем оплачивают покупку (PaymentScreenSuccessful). Еще есть также событие обучения (Tutorial), но видимо оно является необязательным для прохождения и его можно исключить.\n",
    "\n",
    "<p> Гипотетически воронка сейчас выстраивается следующим образом:\n",
    "- MainScreenAppear \n",
    "- OffersScreenAppear \n",
    "- CartScreenAppear \n",
    "- PaymentScreenSuccessful \n",
    "\n",
    "<p> Поведение пользователей разных групп на этапах Tutorial, MainScreenAppear и OffersScreenAppear примерно одинаковое. А вот для этапов PaymentScreenSuccessful и  CartScreenAppear можно наблюдать более низкую конвертируемость у группы а2. Но эти выводы будут более верно оценены в следующих этапах анализа.\n",
    "\n",
    "</div>"
   ]
  },
  {
   "cell_type": "markdown",
   "metadata": {},
   "source": [
    "### Расчет общей доли пользователей, проходящих на каждый следующий шаг воронки относительно предыдущего шага"
   ]
  },
  {
   "cell_type": "code",
   "execution_count": 24,
   "metadata": {},
   "outputs": [
    {
     "name": "stdout",
     "output_type": "stream",
     "text": [
      "                event_name  user_id  percent_users  conversion_rate  \\\n",
      "0         MainScreenAppear     7419           98.5            100.0   \n",
      "1       OffersScreenAppear     4593           61.0             61.9   \n",
      "2         CartScreenAppear     3734           49.6             81.3   \n",
      "3  PaymentScreenSuccessful     3539           47.0             94.8   \n",
      "\n",
      "   delta_conversion_rate  \n",
      "0                  100.0  \n",
      "1                  -38.1  \n",
      "2                   19.4  \n",
      "3                   13.5  \n"
     ]
    }
   ],
   "source": [
    "# уберем события Tutorial из анализа, т.к. он не влияет на воронку конверсии.\n",
    "event_users = event_users[(event_users[\"event_name\"] != \"Tutorial\")]\n",
    "\n",
    "# Расчет общей доли пользователей, проходящих на каждый следующий шаг воронки относительно предыдущего шага\n",
    "event_users[\"conversion_rate\"] = 100\n",
    "for i in range(1, 4):\n",
    "    event_users.loc[i, \"conversion_rate\"] = (\n",
    "        event_users.loc[i, \"user_id\"] / (event_users.loc[i - 1, \"user_id\"])\n",
    "    ).round(3) * 100\n",
    "\n",
    "# Определим на каком шаге теряете больше всего пользователей, создав столбец delta_conversion_rate\n",
    "event_users[\"delta_conversion_rate\"] = 100\n",
    "for i in range(1, 4):\n",
    "    event_users.loc[i, \"delta_conversion_rate\"] = (\n",
    "        (\n",
    "            event_users.loc[i, \"conversion_rate\"]\n",
    "            - event_users.loc[i - 1, \"conversion_rate\"]\n",
    "        )\n",
    "    ).round(3)\n",
    "\n",
    "# Возвращаем полученную таблицу\n",
    "print(event_users)"
   ]
  },
  {
   "cell_type": "code",
   "execution_count": 25,
   "metadata": {},
   "outputs": [
    {
     "data": {
      "text/plain": [
       "'# уберем события Tutorial из анализа, т.к. он не влияет на воронку конверсии.\\nevent_users = event_users[(event_users[\"event_name\"] != \"Tutorial\")]\\n# Расчет общей доли пользователей, проходящих на каждый следующий шаг воронки относительно предыдущего ша\\nevent_users[\"conversion_rate\"] = event_users[\"user_id\"].pct_change() + 1\\nevent_users[\"conversion_rate\"] = event_users[\"conversion_rate\"].apply(\\n    lambda x: \"100%\" if pd.isnull(x) else \"{:.1%}\".format(x)\\n)\\n\\n# Возвращаем полученную таблицу\\nprint(event_users)'"
      ]
     },
     "execution_count": 25,
     "metadata": {},
     "output_type": "execute_result"
    }
   ],
   "source": [
    "\"\"\"# уберем события Tutorial из анализа, т.к. он не влияет на воронку конверсии.\n",
    "event_users = event_users[(event_users[\"event_name\"] != \"Tutorial\")]\n",
    "# Расчет общей доли пользователей, проходящих на каждый следующий шаг воронки относительно предыдущего ша\n",
    "event_users[\"conversion_rate\"] = event_users[\"user_id\"].pct_change() + 1\n",
    "event_users[\"conversion_rate\"] = event_users[\"conversion_rate\"].apply(\n",
    "    lambda x: \"100%\" if pd.isnull(x) else \"{:.1%}\".format(x)\n",
    ")\n",
    "\n",
    "# Возвращаем полученную таблицу\n",
    "print(event_users)\"\"\""
   ]
  },
  {
   "cell_type": "code",
   "execution_count": 26,
   "metadata": {},
   "outputs": [
    {
     "data": {
      "text/html": [
       "<div>\n",
       "<style scoped>\n",
       "    .dataframe tbody tr th:only-of-type {\n",
       "        vertical-align: middle;\n",
       "    }\n",
       "\n",
       "    .dataframe tbody tr th {\n",
       "        vertical-align: top;\n",
       "    }\n",
       "\n",
       "    .dataframe thead th {\n",
       "        text-align: right;\n",
       "    }\n",
       "</style>\n",
       "<table border=\"1\" class=\"dataframe\">\n",
       "  <thead>\n",
       "    <tr style=\"text-align: right;\">\n",
       "      <th></th>\n",
       "      <th>event_name</th>\n",
       "      <th>count_user_a</th>\n",
       "      <th>count_user_a2</th>\n",
       "      <th>count_user_b</th>\n",
       "      <th>conv_user_a</th>\n",
       "      <th>conv_user_a2</th>\n",
       "      <th>conv_user_b</th>\n",
       "      <th>delta_conv_a</th>\n",
       "      <th>delta_conv_a2</th>\n",
       "      <th>delta_conv_b</th>\n",
       "    </tr>\n",
       "  </thead>\n",
       "  <tbody>\n",
       "    <tr>\n",
       "      <th>0</th>\n",
       "      <td>MainScreenAppear</td>\n",
       "      <td>2450</td>\n",
       "      <td>2476</td>\n",
       "      <td>2493</td>\n",
       "      <td>100.0</td>\n",
       "      <td>100.0</td>\n",
       "      <td>100.0</td>\n",
       "      <td>100.0</td>\n",
       "      <td>100.0</td>\n",
       "      <td>100.0</td>\n",
       "    </tr>\n",
       "    <tr>\n",
       "      <th>1</th>\n",
       "      <td>OffersScreenAppear</td>\n",
       "      <td>1542</td>\n",
       "      <td>1520</td>\n",
       "      <td>1531</td>\n",
       "      <td>62.9</td>\n",
       "      <td>61.4</td>\n",
       "      <td>61.4</td>\n",
       "      <td>-37.1</td>\n",
       "      <td>-38.6</td>\n",
       "      <td>-38.6</td>\n",
       "    </tr>\n",
       "    <tr>\n",
       "      <th>2</th>\n",
       "      <td>CartScreenAppear</td>\n",
       "      <td>1266</td>\n",
       "      <td>1238</td>\n",
       "      <td>1230</td>\n",
       "      <td>82.1</td>\n",
       "      <td>81.4</td>\n",
       "      <td>80.3</td>\n",
       "      <td>19.2</td>\n",
       "      <td>20.0</td>\n",
       "      <td>18.9</td>\n",
       "    </tr>\n",
       "    <tr>\n",
       "      <th>3</th>\n",
       "      <td>PaymentScreenSuccessful</td>\n",
       "      <td>1200</td>\n",
       "      <td>1158</td>\n",
       "      <td>1181</td>\n",
       "      <td>94.8</td>\n",
       "      <td>93.5</td>\n",
       "      <td>96.0</td>\n",
       "      <td>12.7</td>\n",
       "      <td>12.1</td>\n",
       "      <td>15.7</td>\n",
       "    </tr>\n",
       "  </tbody>\n",
       "</table>\n",
       "</div>"
      ],
      "text/plain": [
       "                event_name  count_user_a  count_user_a2  count_user_b  \\\n",
       "0         MainScreenAppear          2450           2476          2493   \n",
       "1       OffersScreenAppear          1542           1520          1531   \n",
       "2         CartScreenAppear          1266           1238          1230   \n",
       "3  PaymentScreenSuccessful          1200           1158          1181   \n",
       "\n",
       "   conv_user_a  conv_user_a2  conv_user_b  delta_conv_a  delta_conv_a2  \\\n",
       "0        100.0         100.0        100.0         100.0          100.0   \n",
       "1         62.9          61.4         61.4         -37.1          -38.6   \n",
       "2         82.1          81.4         80.3          19.2           20.0   \n",
       "3         94.8          93.5         96.0          12.7           12.1   \n",
       "\n",
       "   delta_conv_b  \n",
       "0         100.0  \n",
       "1         -38.6  \n",
       "2          18.9  \n",
       "3          15.7  "
      ]
     },
     "execution_count": 26,
     "metadata": {},
     "output_type": "execute_result"
    }
   ],
   "source": [
    "# Группируем данные по названию события и группе и находим количество уникальных пользователей в каждой группе\n",
    "event_users_group = (\n",
    "    logs.groupby([\"event_name\", \"group\"])[\"user_id\"]\n",
    "    .nunique()\n",
    "    .sort_values(ascending=False)\n",
    "    .reset_index()\n",
    ")\n",
    "event_users_group = event_users_group[event_users_group[\"event_name\"] != \"Tutorial\"]\n",
    "# Преобразуем таблицу с помощью сводной таблицы, индекс - название события, столбцы - группы, значения - количество пользователей\n",
    "event_users_group = event_users_group.pivot_table(\n",
    "    index=\"event_name\", columns=\"group\", values=\"user_id\"\n",
    ")\n",
    "event_users_group = event_users_group[[\"a\", \"a2\", \"b\"]]\n",
    "event_users_group = event_users_group.sort_values(by=[\"a\", \"a2\", \"b\"], ascending=False)\n",
    "event_users_group.columns = [\"count_user_a\", \"count_user_a2\", \"count_user_b\"]\n",
    "event_users_group.reset_index(inplace=True)\n",
    "\n",
    "# Создаем списки для хранения конверсионных показателей каждой группы (начальное значение 100%)\n",
    "conversion_rate_a = [100]\n",
    "conversion_rate_a2 = [100]\n",
    "conversion_rate_b = [100]\n",
    "\n",
    "# Рассчитываем конверсионные показатели для каждой группы\n",
    "for i in range(1, len(event_users_group)):\n",
    "    conversion_rate_a.append(\n",
    "        (\n",
    "            event_users_group[\"count_user_a\"][i]\n",
    "            / event_users_group[\"count_user_a\"][i - 1]\n",
    "        ).round(3)\n",
    "        * 100\n",
    "    )\n",
    "    conversion_rate_a2.append(\n",
    "        (\n",
    "            event_users_group[\"count_user_a2\"][i]\n",
    "            / event_users_group[\"count_user_a2\"][i - 1]\n",
    "        ).round(3)\n",
    "        * 100\n",
    "    )\n",
    "    conversion_rate_b.append(\n",
    "        (\n",
    "            event_users_group[\"count_user_b\"][i]\n",
    "            / event_users_group[\"count_user_b\"][i - 1]\n",
    "        ).round(3)\n",
    "        * 100\n",
    "    )\n",
    "\n",
    "# Добавляем столбцы с конверсионными показателями в таблицу\n",
    "event_users_group[\"conv_user_a\"] = conversion_rate_a\n",
    "event_users_group[\"conv_user_a2\"] = conversion_rate_a2\n",
    "event_users_group[\"conv_user_b\"] = conversion_rate_b\n",
    "\n",
    "event_users_group.reset_index(drop=True, inplace=True)\n",
    "\n",
    "# Определим на каком шаге теряете больше всего пользователей, создав столбец delta_conversion_rate\n",
    "delta_conv_a = [100]\n",
    "delta_conv_a2 = [100]\n",
    "delta_conv_b = [100]\n",
    "\n",
    "# Рассчитываем изменения конверсионных показателей для каждой группы\n",
    "for i in range(1, len(event_users_group)):\n",
    "    delta_conv_a.append(\n",
    "        (\n",
    "            event_users_group[\"conv_user_a\"][i]\n",
    "            - event_users_group[\"conv_user_a\"][i - 1]\n",
    "        ).round(3)\n",
    "    )\n",
    "    delta_conv_a2.append(\n",
    "        (\n",
    "            event_users_group[\"conv_user_a2\"][i]\n",
    "            - event_users_group[\"conv_user_a2\"][i - 1]\n",
    "        ).round(3)\n",
    "    )\n",
    "    delta_conv_b.append(\n",
    "        (\n",
    "            event_users_group[\"conv_user_b\"][i]\n",
    "            - event_users_group[\"conv_user_b\"][i - 1]\n",
    "        ).round(3)\n",
    "    )\n",
    "\n",
    "# Добавляем столбцы с изменениями конверсионных показателей в таблицу\n",
    "event_users_group[\"delta_conv_a\"] = delta_conv_a\n",
    "event_users_group[\"delta_conv_a2\"] = delta_conv_a2\n",
    "event_users_group[\"delta_conv_b\"] = delta_conv_b\n",
    "\n",
    "event_users_group.reset_index(drop=True, inplace=True)\n",
    "\n",
    "# Возвращаем полученную таблицу\n",
    "event_users_group\n"
   ]
  },
  {
   "cell_type": "code",
   "execution_count": 27,
   "metadata": {},
   "outputs": [
    {
     "data": {
      "image/png": "[encoded data removed]",
      "text/plain": [
       "<Figure size 720x360 with 1 Axes>"
      ]
     },
     "metadata": {
      "needs_background": "light"
     },
     "output_type": "display_data"
    }
   ],
   "source": [
    "# преобразуем данные с помощью функции melt, для удобства создания графика\n",
    "event_users_group_melted = event_users_group.melt(\n",
    "    id_vars=\"event_name\",\n",
    "    value_vars=[\"conv_user_a\", \"conv_user_a2\", \"conv_user_b\"],\n",
    "    var_name=\"conversion_type\",\n",
    "    value_name=\"conversion_percent\",\n",
    ")\n",
    "# исключим данные по этапу MainScreenAppear так как они одинаковые и равны 100\n",
    "event_users_group_melted = event_users_group_melted[\n",
    "    event_users_group_melted[\"event_name\"] != \"MainScreenAppear\"\n",
    "]\n",
    "\n",
    "# построим график, отражающий конверсии от этапа к этапу в разрезе по группам\n",
    "plt.figure(figsize=(10, 5))\n",
    "color_palette = [\"lavender\", \"lightblue\", \"lightpink\"]\n",
    "ax = sns.barplot(\n",
    "    x=\"conversion_percent\",\n",
    "    y=\"event_name\",\n",
    "    hue=\"conversion_type\",\n",
    "    palette=color_palette,\n",
    "    data=event_users_group_melted,\n",
    ")\n",
    "\n",
    "ax.set_title(\"Конверсия от этапа к этапу в разрезе по группам\")\n",
    "plt.xlabel(\"Конверсия, %\")\n",
    "plt.ylabel(\"Название события\")\n",
    "plt.legend(title=\"Группа\", loc=\"upper right\")\n",
    "\n",
    "# добавление подписей к столбцам\n",
    "for i in range(len(ax.patches)):\n",
    "    width = ax.patches[i].get_width()\n",
    "    ax.text(\n",
    "        width,\n",
    "        ax.patches[i].get_y() + ax.patches[i].get_height() / 2,\n",
    "        \"{:1.1f},%\".format(width),\n",
    "        ha=\"left\",\n",
    "        va=\"center\",\n",
    "    )\n",
    "\n",
    "plt.show()"
   ]
  },
  {
   "cell_type": "code",
   "execution_count": 28,
   "metadata": {},
   "outputs": [
    {
     "data": {
      "image/png": "[encoded data removed]",
      "text/plain": [
       "<Figure size 720x360 with 1 Axes>"
      ]
     },
     "metadata": {
      "needs_background": "light"
     },
     "output_type": "display_data"
    }
   ],
   "source": [
    "# Преобразуем данные с помощью функции melt, для удобства создания графика\n",
    "event_users_group_melted_delta = event_users_group.melt(\n",
    "    id_vars=\"event_name\",\n",
    "    value_vars=[\"delta_conv_a\", \"delta_conv_a2\", \"delta_conv_b\"],\n",
    "    var_name=\"conversion_delta\",\n",
    "    value_name=\"delta_conv_percent\",\n",
    ")\n",
    "event_users_group_melted_delta = event_users_group_melted_delta[\n",
    "    event_users_group_melted_delta[\"event_name\"] != \"MainScreenAppear\"\n",
    "]\n",
    "\n",
    "plt.figure(figsize=(10, 5))\n",
    "color_palette = [\"lavender\", \"lightblue\", \"lightpink\"]\n",
    "ax = sns.barplot(\n",
    "    x=\"delta_conv_percent\",\n",
    "    y=\"event_name\",\n",
    "    hue=\"conversion_delta\",\n",
    "    palette=color_palette,\n",
    "    data=event_users_group_melted_delta,\n",
    ")\n",
    "\n",
    "ax.set_title(\"Дельта конверсии от этапа к этапу в разрезе по группам\")\n",
    "plt.xlabel(\"Дельта конверсии, %\")\n",
    "plt.ylabel(\"Название события\")\n",
    "plt.legend(title=\"Группа\", loc=\"upper right\")\n",
    "# добавление подписей к столбцам\n",
    "for i in range(len(ax.patches)):\n",
    "    width = ax.patches[i].get_width()\n",
    "    ax.text(\n",
    "        width,\n",
    "        ax.patches[i].get_y() + ax.patches[i].get_height() / 2,\n",
    "        \"{:1.1f},%\".format(width),\n",
    "        ha=\"left\",\n",
    "        va=\"center\",\n",
    "    )\n",
    "\n",
    "plt.show()"
   ]
  },
  {
   "cell_type": "markdown",
   "metadata": {},
   "source": [
    "<div class=\"alert alert-block\" style=\"background-color: gainsboro\">\n",
    "<p> Полученная воронка отражает то, что больше всего клиентов теряется на этапе перехода с главного экрана на экран с товарами. \n",
    "т.е. больше всего пользователей теряется на этапе MainScreenAppear -> OffersScreenAppear. Такая динамика наблюдается по всем группам, но в сравнении по группам в группе a теряется на 1,5% меньше пользователей, чем в группах a2 и b.\n",
    "<p> Если предполагать причины такого поведения, но на мой взгляд, их можно разделить на две направлености:\n",
    "\n",
    "- технические ошибки: Возможно, стартовая страница прогружалась неоднократно перед тем как прогрузить следующую или пользователь выбирал товары и не срабатвал переход по определенным товарам/полкам магазина.\n",
    "- продуктовые ошибки: на главной странице были отражены товары, которые не привлекательны для большинства пользователей\n",
    "</div>"
   ]
  },
  {
   "cell_type": "markdown",
   "metadata": {},
   "source": [
    "### Расчет  доли пользователей, проходящих на каждый следующий шаг воронки относительно первого шага по всем группам"
   ]
  },
  {
   "cell_type": "code",
   "execution_count": 29,
   "metadata": {},
   "outputs": [
    {
     "data": {
      "text/html": [
       "<div>\n",
       "<style scoped>\n",
       "    .dataframe tbody tr th:only-of-type {\n",
       "        vertical-align: middle;\n",
       "    }\n",
       "\n",
       "    .dataframe tbody tr th {\n",
       "        vertical-align: top;\n",
       "    }\n",
       "\n",
       "    .dataframe thead th {\n",
       "        text-align: right;\n",
       "    }\n",
       "</style>\n",
       "<table border=\"1\" class=\"dataframe\">\n",
       "  <thead>\n",
       "    <tr style=\"text-align: right;\">\n",
       "      <th></th>\n",
       "      <th>event_name</th>\n",
       "      <th>user_id</th>\n",
       "      <th>total_conversion_rate</th>\n",
       "    </tr>\n",
       "  </thead>\n",
       "  <tbody>\n",
       "    <tr>\n",
       "      <th>0</th>\n",
       "      <td>MainScreenAppear</td>\n",
       "      <td>7419</td>\n",
       "      <td>100.0</td>\n",
       "    </tr>\n",
       "    <tr>\n",
       "      <th>1</th>\n",
       "      <td>OffersScreenAppear</td>\n",
       "      <td>4593</td>\n",
       "      <td>61.9</td>\n",
       "    </tr>\n",
       "    <tr>\n",
       "      <th>2</th>\n",
       "      <td>CartScreenAppear</td>\n",
       "      <td>3734</td>\n",
       "      <td>50.3</td>\n",
       "    </tr>\n",
       "    <tr>\n",
       "      <th>3</th>\n",
       "      <td>PaymentScreenSuccessful</td>\n",
       "      <td>3539</td>\n",
       "      <td>47.7</td>\n",
       "    </tr>\n",
       "  </tbody>\n",
       "</table>\n",
       "</div>"
      ],
      "text/plain": [
       "                event_name  user_id  total_conversion_rate\n",
       "0         MainScreenAppear     7419                  100.0\n",
       "1       OffersScreenAppear     4593                   61.9\n",
       "2         CartScreenAppear     3734                   50.3\n",
       "3  PaymentScreenSuccessful     3539                   47.7"
      ]
     },
     "execution_count": 29,
     "metadata": {},
     "output_type": "execute_result"
    }
   ],
   "source": [
    "# Посчитаем какая доля пользователей доходит от первого события до оплаты\n",
    "\n",
    "# Расчет общей доли пользователей, проходящих на каждый следующий шаг воронки относительно первого шага по всем группам\n",
    "event_users[\"total_conversion_rate\"] = (\n",
    "    event_users[\"user_id\"] / event_users.at[0, \"user_id\"]\n",
    ").round(3) * 100\n",
    "event_users[[\"event_name\", \"user_id\", \"total_conversion_rate\"]]"
   ]
  },
  {
   "cell_type": "code",
   "execution_count": 30,
   "metadata": {},
   "outputs": [
    {
     "name": "stdout",
     "output_type": "stream",
     "text": [
      "До этапа PaymentScreenSuccessful(оплаты) доходит 47.7 % пользователей\n"
     ]
    }
   ],
   "source": [
    "value = round(\n",
    "    event_users[event_users[\"event_name\"] == \"PaymentScreenSuccessful\"][\n",
    "        \"total_conversion_rate\"\n",
    "    ].values[0],\n",
    "    2,\n",
    ")\n",
    "print(f\"До этапа PaymentScreenSuccessful(оплаты) доходит {value} % пользователей\")"
   ]
  },
  {
   "cell_type": "code",
   "execution_count": 31,
   "metadata": {},
   "outputs": [
    {
     "data": {
      "text/html": [
       "<div>\n",
       "<style scoped>\n",
       "    .dataframe tbody tr th:only-of-type {\n",
       "        vertical-align: middle;\n",
       "    }\n",
       "\n",
       "    .dataframe tbody tr th {\n",
       "        vertical-align: top;\n",
       "    }\n",
       "\n",
       "    .dataframe thead th {\n",
       "        text-align: right;\n",
       "    }\n",
       "</style>\n",
       "<table border=\"1\" class=\"dataframe\">\n",
       "  <thead>\n",
       "    <tr style=\"text-align: right;\">\n",
       "      <th></th>\n",
       "      <th>event_name</th>\n",
       "      <th>count_user_a</th>\n",
       "      <th>total_conv_rate_a</th>\n",
       "      <th>count_user_a2</th>\n",
       "      <th>total_conv_rate_a2</th>\n",
       "      <th>count_user_b</th>\n",
       "      <th>total_conv_rate_b</th>\n",
       "    </tr>\n",
       "  </thead>\n",
       "  <tbody>\n",
       "    <tr>\n",
       "      <th>0</th>\n",
       "      <td>MainScreenAppear</td>\n",
       "      <td>2450</td>\n",
       "      <td>100.0</td>\n",
       "      <td>2476</td>\n",
       "      <td>100.0</td>\n",
       "      <td>2493</td>\n",
       "      <td>100.0</td>\n",
       "    </tr>\n",
       "    <tr>\n",
       "      <th>1</th>\n",
       "      <td>OffersScreenAppear</td>\n",
       "      <td>1542</td>\n",
       "      <td>62.9</td>\n",
       "      <td>1520</td>\n",
       "      <td>62.0</td>\n",
       "      <td>1531</td>\n",
       "      <td>62.5</td>\n",
       "    </tr>\n",
       "    <tr>\n",
       "      <th>2</th>\n",
       "      <td>CartScreenAppear</td>\n",
       "      <td>1266</td>\n",
       "      <td>51.7</td>\n",
       "      <td>1238</td>\n",
       "      <td>50.5</td>\n",
       "      <td>1230</td>\n",
       "      <td>50.2</td>\n",
       "    </tr>\n",
       "    <tr>\n",
       "      <th>3</th>\n",
       "      <td>PaymentScreenSuccessful</td>\n",
       "      <td>1200</td>\n",
       "      <td>49.0</td>\n",
       "      <td>1158</td>\n",
       "      <td>47.3</td>\n",
       "      <td>1181</td>\n",
       "      <td>48.2</td>\n",
       "    </tr>\n",
       "  </tbody>\n",
       "</table>\n",
       "</div>"
      ],
      "text/plain": [
       "                event_name  count_user_a  total_conv_rate_a  count_user_a2  \\\n",
       "0         MainScreenAppear          2450              100.0           2476   \n",
       "1       OffersScreenAppear          1542               62.9           1520   \n",
       "2         CartScreenAppear          1266               51.7           1238   \n",
       "3  PaymentScreenSuccessful          1200               49.0           1158   \n",
       "\n",
       "   total_conv_rate_a2  count_user_b  total_conv_rate_b  \n",
       "0               100.0          2493              100.0  \n",
       "1                62.0          1531               62.5  \n",
       "2                50.5          1230               50.2  \n",
       "3                47.3          1181               48.2  "
      ]
     },
     "execution_count": 31,
     "metadata": {},
     "output_type": "execute_result"
    }
   ],
   "source": [
    "# Создаем списки для хранения изменений конверсионных показателей каждой группы (начальное значение 100%)\n",
    "total_conv_rate_a = [100]\n",
    "total_conv_rate_a2 = [100]\n",
    "total_conv_rate_b = [100]\n",
    "\n",
    "# Рассчитываем изменения конверсионных показателей для каждой группы\n",
    "for i in range(1, len(event_users_group)):\n",
    "    total_conv_rate_a.append(\n",
    "        (\n",
    "            event_users_group[\"count_user_a\"][i]\n",
    "            / event_users_group.at[0, \"count_user_a\"]\n",
    "        ).round(3)\n",
    "        * 100\n",
    "    )\n",
    "    total_conv_rate_a2.append(\n",
    "        (\n",
    "            event_users_group[\"count_user_a2\"][i]\n",
    "            / event_users_group.at[0, \"count_user_a\"]\n",
    "        ).round(3)\n",
    "        * 100\n",
    "    )\n",
    "    total_conv_rate_b.append(\n",
    "        (\n",
    "            event_users_group[\"count_user_b\"][i]\n",
    "            / event_users_group.at[0, \"count_user_a\"]\n",
    "        ).round(3)\n",
    "        * 100\n",
    "    )\n",
    "\n",
    "# Добавляем столбцы с изменениями конверсионных показателей в таблицу\n",
    "event_users_group[\"total_conv_rate_a\"] = total_conv_rate_a\n",
    "event_users_group[\"total_conv_rate_a2\"] = total_conv_rate_a2\n",
    "event_users_group[\"total_conv_rate_b\"] = total_conv_rate_b\n",
    "\n",
    "event_users_group.reset_index(drop=True, inplace=True)\n",
    "\n",
    "# Выводим только необходимые столбцы\n",
    "event_users_group[\n",
    "    [\n",
    "        \"event_name\",\n",
    "        \"count_user_a\",\n",
    "        \"total_conv_rate_a\",\n",
    "        \"count_user_a2\",\n",
    "        \"total_conv_rate_a2\",\n",
    "        \"count_user_b\",\n",
    "        \"total_conv_rate_b\",\n",
    "    ]\n",
    "]"
   ]
  },
  {
   "cell_type": "code",
   "execution_count": 32,
   "metadata": {},
   "outputs": [
    {
     "data": {
      "image/png": "[encoded data removed]",
      "text/plain": [
       "<Figure size 864x360 with 1 Axes>"
      ]
     },
     "metadata": {
      "needs_background": "light"
     },
     "output_type": "display_data"
    }
   ],
   "source": [
    "# сформируем таблицу для более удобного построения диаграммы\n",
    "event_users_group_melted_delta_total_conv = event_users_group.melt(\n",
    "    id_vars=\"event_name\",\n",
    "    value_vars=[\"total_conv_rate_a\", \"total_conv_rate_a2\", \"total_conv_rate_b\"],\n",
    "    var_name=\"total_conv\",\n",
    "    value_name=\"total_conv_percent\",\n",
    ")\n",
    "event_users_group_melted_delta_total_conv = event_users_group_melted_delta_total_conv[\n",
    "    event_users_group_melted_delta_total_conv[\"event_name\"] != \"MainScreenAppear\"\n",
    "]\n",
    "\n",
    "# построим диаграмму\n",
    "color_palette = [\"lavender\", \"lightblue\", \"lightpink\"]\n",
    "plt.figure(figsize=(12, 5))\n",
    "ax = sns.barplot(\n",
    "    x=\"total_conv_percent\",\n",
    "    y=\"event_name\",\n",
    "    hue=\"total_conv\",\n",
    "    palette=color_palette,\n",
    "    data=event_users_group_melted_delta_total_conv,\n",
    ")\n",
    "\n",
    "ax.set_title(\"Дельта конверсии от этапа к первоначальному шагу в разрезе по группам\")\n",
    "plt.xlabel(\"Дельта конверсии, %\")\n",
    "plt.ylabel(\"Название события\")\n",
    "plt.legend(title=\"Группа\", loc=\"lower right\")\n",
    "\n",
    "# добавление подписей к столбцам\n",
    "for i in range(len(ax.patches)):\n",
    "    width = ax.patches[i].get_width()\n",
    "    ax.text(\n",
    "        width,\n",
    "        ax.patches[i].get_y() + ax.patches[i].get_height() / 2,\n",
    "        \"{:1.1f},%\".format(width),\n",
    "        ha=\"left\",\n",
    "        va=\"center\",\n",
    "    )"
   ]
  },
  {
   "cell_type": "markdown",
   "metadata": {},
   "source": [
    "<div class=\"alert alert-block\" style=\"background-color: gainsboro\">\n",
    "<p> До этапа PaymentScreenSuccessful(оплаты) доходит 47.7 % пользователей, 49% пользователей у группы а,\n",
    "47.3% у группы а2 и 48.2% у группы b -> наиболее высокой конверсией обладает группа а. \n",
    "\n",
    "</div>"
   ]
  },
  {
   "cell_type": "markdown",
   "metadata": {},
   "source": [
    "## Подведение результатов эксперимента. Шаг 5."
   ]
  },
  {
   "cell_type": "markdown",
   "metadata": {},
   "source": [
    "### Распределение пользователей по события и группам"
   ]
  },
  {
   "cell_type": "code",
   "execution_count": 33,
   "metadata": {},
   "outputs": [
    {
     "name": "stdout",
     "output_type": "stream",
     "text": [
      "В a группе 2484 пользователей\n",
      "В a2 группе 2513 пользователей\n",
      "В b группе 2537 пользователей\n"
     ]
    }
   ],
   "source": [
    "#посчитаем количество уникальных пользователей по группам\n",
    "group = logs.groupby('group')['user_id'].nunique()\n",
    "for index, row in group.iteritems():\n",
    "    print('В {} группе {} пользователей'.format(index, row))"
   ]
  },
  {
   "cell_type": "markdown",
   "metadata": {},
   "source": [
    "Есть 2 контрольные группы для А/А-эксперимента, чтобы проверить корректность всех механизмов и расчётов проверим, находят ли статистические критерии разницу между выборками группы а и а2."
   ]
  },
  {
   "cell_type": "markdown",
   "metadata": {},
   "source": [
    "Мы получили таблицу с распределением пользователям по событиям и группам. Теперь необходимо определить корректно ли распределены пользователи в этих группах. Всего можно составить 3 сочетания с группами, без учета последовательности а-а2, а-b, а2-b. Проверим каждую из пар."
   ]
  },
  {
   "cell_type": "markdown",
   "metadata": {},
   "source": [
    "### Z-тест для а/a2 групп"
   ]
  },
  {
   "cell_type": "markdown",
   "metadata": {},
   "source": [
    "Так как мы будем сравнивать распределение долей, то используем z-test со следующими параметрами:\n",
    "    \n",
    "Гипотезы\n",
    "Н0 - доли уникальных посетителей на определенном этапе воронки одинаковы\n",
    "Н1 - между долями уникальных посетителей на определенном этапе воронки есть значимая разница\n",
    "\n",
    "Проверим гипотез и при уровне статистической значимости = 0.05"
   ]
  },
  {
   "cell_type": "code",
   "execution_count": 34,
   "metadata": {},
   "outputs": [],
   "source": [
    "def z_test(dataframe, num_group, alpha):\n",
    "    # пользователи в каждой группе\n",
    "    users = [\n",
    "        dataframe.query(\"group == @group\")[\"user_id\"].nunique() for group in num_group\n",
    "    ]\n",
    "\n",
    "    # перебор экспериментальных групп по событиям и количество пользователей\n",
    "    for event in dataframe.event_name.unique():\n",
    "        events = [\n",
    "            dataframe.query('group == \"%s\" and event_name == \"%s\"' % (group, event))[\n",
    "                \"user_id\"\n",
    "            ].nunique()\n",
    "            for group in num_group\n",
    "        ]\n",
    "        #составляем пропорции\n",
    "        p1 = events[0] / users[0]\n",
    "        p2 = events[1] / users[1]\n",
    "\n",
    "        p_combined = sum(events) / sum(users)\n",
    "        \n",
    "        #находим разницу в пропорциях\n",
    "        difference = p1 - p2\n",
    "        \n",
    "        # определим значение z\n",
    "        z_value = difference / math.sqrt(\n",
    "            p_combined * (1 - p_combined) * (1 / users[0] + 1 / users[1])\n",
    "        )\n",
    "        \n",
    "        distr = st.norm(0, 1)\n",
    "        # определим значение p_value\n",
    "        p_value = (1 - distr.cdf(abs(z_value))) * 2\n",
    "        \n",
    "        print(\"событие:\", event)\n",
    "        print(\"p-значение: {p_value:}\".format(p_value=p_value))\n",
    "\n",
    "        # определим условие сравнения\n",
    "        if p_value < alpha:\n",
    "            print(\"отвергаем нулевую гипотезу: между долями есть значимая разница\")\n",
    "        else:\n",
    "            print(\n",
    "                \"не получилось отвергнуть нулевую гипотезу: различия статистически не значимы\"\n",
    "            )\n",
    "        print(\"___________________________________\")"
   ]
  },
  {
   "cell_type": "code",
   "execution_count": 35,
   "metadata": {},
   "outputs": [],
   "source": [
    "logs=logs[(logs[\"event_name\"] != \"Tutorial\")]"
   ]
  },
  {
   "cell_type": "code",
   "execution_count": 36,
   "metadata": {},
   "outputs": [
    {
     "name": "stdout",
     "output_type": "stream",
     "text": [
      "событие: MainScreenAppear\n",
      "p-значение: 0.7526703436483038\n",
      "не получилось отвергнуть нулевую гипотезу: различия статистически не значимы\n",
      "___________________________________\n",
      "событие: OffersScreenAppear\n",
      "p-значение: 0.24786096925282264\n",
      "не получилось отвергнуть нулевую гипотезу: различия статистически не значимы\n",
      "___________________________________\n",
      "событие: CartScreenAppear\n",
      "p-значение: 0.22867643757335676\n",
      "не получилось отвергнуть нулевую гипотезу: различия статистически не значимы\n",
      "___________________________________\n",
      "событие: PaymentScreenSuccessful\n",
      "p-значение: 0.11446627829276612\n",
      "не получилось отвергнуть нулевую гипотезу: различия статистически не значимы\n",
      "___________________________________\n"
     ]
    }
   ],
   "source": [
    "#применим нашу функцию для сравнения групп а и а2, при уровне стат значимости = 5%\n",
    "z_test(logs, ['a', 'a2'], 0.05)"
   ]
  },
  {
   "cell_type": "markdown",
   "metadata": {},
   "source": [
    "Распределение на группы а и а2 произведено корректно, различия по события в группам статистически не значимы и при стат.значимости = 5% и 1%."
   ]
  },
  {
   "cell_type": "markdown",
   "metadata": {},
   "source": [
    "### Z-тест для а/b групп"
   ]
  },
  {
   "cell_type": "code",
   "execution_count": 37,
   "metadata": {},
   "outputs": [
    {
     "name": "stdout",
     "output_type": "stream",
     "text": [
      "событие: MainScreenAppear\n",
      "p-значение: 0.3387114076159288\n",
      "не получилось отвергнуть нулевую гипотезу: различия статистически не значимы\n",
      "___________________________________\n",
      "событие: OffersScreenAppear\n",
      "p-значение: 0.21442476639710506\n",
      "не получилось отвергнуть нулевую гипотезу: различия статистически не значимы\n",
      "___________________________________\n",
      "событие: CartScreenAppear\n",
      "p-значение: 0.08067367598823139\n",
      "не получилось отвергнуть нулевую гипотезу: различия статистически не значимы\n",
      "___________________________________\n",
      "событие: PaymentScreenSuccessful\n",
      "p-значение: 0.21693033984516674\n",
      "не получилось отвергнуть нулевую гипотезу: различия статистически не значимы\n",
      "___________________________________\n"
     ]
    }
   ],
   "source": [
    "#применим нашу функцию для сравнения групп а и b, при уровне стат значимости = 5%\n",
    "z_test(logs, ['a', 'b'], 0.05)"
   ]
  },
  {
   "cell_type": "markdown",
   "metadata": {},
   "source": [
    "Распределение на группы а и b произведено корректно, различия по события в группам статистически не значимы и при стат.значимости = 5% и 1%."
   ]
  },
  {
   "cell_type": "markdown",
   "metadata": {},
   "source": [
    "### Z-тест для а2/b групп"
   ]
  },
  {
   "cell_type": "code",
   "execution_count": 38,
   "metadata": {},
   "outputs": [
    {
     "name": "stdout",
     "output_type": "stream",
     "text": [
      "событие: MainScreenAppear\n",
      "p-значение: 0.5194964354051703\n",
      "не получилось отвергнуть нулевую гипотезу: различия статистически не значимы\n",
      "___________________________________\n",
      "событие: OffersScreenAppear\n",
      "p-значение: 0.9333751305879443\n",
      "не получилось отвергнуть нулевую гипотезу: различия статистически не значимы\n",
      "___________________________________\n",
      "событие: CartScreenAppear\n",
      "p-значение: 0.5878284605111943\n",
      "не получилось отвергнуть нулевую гипотезу: различия статистически не значимы\n",
      "___________________________________\n",
      "событие: PaymentScreenSuccessful\n",
      "p-значение: 0.7275718682261119\n",
      "не получилось отвергнуть нулевую гипотезу: различия статистически не значимы\n",
      "___________________________________\n"
     ]
    }
   ],
   "source": [
    "#применим нашу функцию для сравнения групп а2 и b, при уровне стат значимости = 5%\n",
    "z_test(logs, ['a2', 'b'], 0.05)"
   ]
  },
  {
   "cell_type": "markdown",
   "metadata": {},
   "source": [
    "Распределение на группы а2 и b произведено корректно, различия по события в группам статистически не значимы и при стат.значимости = 5% и 1%."
   ]
  },
  {
   "cell_type": "markdown",
   "metadata": {},
   "source": [
    "### Z-тест для (a+а2)/b групп"
   ]
  },
  {
   "cell_type": "code",
   "execution_count": 39,
   "metadata": {},
   "outputs": [
    {
     "data": {
      "text/plain": [
       "A    155669\n",
       "b     84213\n",
       "Name: group, dtype: int64"
      ]
     },
     "execution_count": 39,
     "metadata": {},
     "output_type": "execute_result"
    }
   ],
   "source": [
    "#создадим датафрейм с данными, где группы а и а2 будут объединены в одно название А\n",
    "united_logs = logs.copy()\n",
    "united_logs['group'].replace({'a2': 'A','a': 'A'}, inplace=True)\n",
    "#проверим количество значений в новых группах\n",
    "united_logs['group'].value_counts()"
   ]
  },
  {
   "cell_type": "code",
   "execution_count": 40,
   "metadata": {},
   "outputs": [
    {
     "name": "stdout",
     "output_type": "stream",
     "text": [
      "событие: MainScreenAppear\n",
      "p-значение: 0.3486684291093256\n",
      "не получилось отвергнуть нулевую гипотезу: различия статистически не значимы\n",
      "___________________________________\n",
      "событие: OffersScreenAppear\n",
      "p-значение: 0.44582745409482394\n",
      "не получилось отвергнуть нулевую гипотезу: различия статистически не значимы\n",
      "___________________________________\n",
      "событие: CartScreenAppear\n",
      "p-значение: 0.18683558686831558\n",
      "не получилось отвергнуть нулевую гипотезу: различия статистически не значимы\n",
      "___________________________________\n",
      "событие: PaymentScreenSuccessful\n",
      "p-значение: 0.6107918742187335\n",
      "не получилось отвергнуть нулевую гипотезу: различия статистически не значимы\n",
      "___________________________________\n"
     ]
    }
   ],
   "source": [
    "#применим нашу функцию для сравнения групп А и b, при уровне стат значимости = 5%\n",
    "z_test(united_logs, ['A', 'b'], 0.05)"
   ]
  },
  {
   "cell_type": "markdown",
   "metadata": {},
   "source": [
    "<div class=\"alert alert-block\" style=\"background-color: gainsboro\">\n",
    "<p> Cтатистически значимой разницы между группами во всех тестах нет, значит смена шрифта никак не повлияла на пользователей\n",
    "</div>"
   ]
  },
  {
   "cell_type": "code",
   "execution_count": 41,
   "metadata": {},
   "outputs": [
    {
     "name": "stdout",
     "output_type": "stream",
     "text": [
      "                     event   p_value  p_corrected  reject\n",
      "0         MainScreenAppear  0.348668     1.000000   False\n",
      "1       OffersScreenAppear  0.445827     1.000000   False\n",
      "2         CartScreenAppear  0.186836     0.747342   False\n",
      "3  PaymentScreenSuccessful  0.610792     1.000000   False\n"
     ]
    }
   ],
   "source": [
    "from statsmodels.stats.multitest import multipletests\n",
    "\n",
    "# создаем датафрейм с полученными данными\n",
    "data = {'event': ['MainScreenAppear', 'OffersScreenAppear', 'CartScreenAppear', 'PaymentScreenSuccessful'],\n",
    "        'p_value': [0.3486684291093256, 0.44582745409482394, 0.18683558686831558, 0.6107918742187335]}\n",
    "df = pd.DataFrame(data)\n",
    "\n",
    "# применяем метод Холма к значениям p-значений\n",
    "reject, p_corrected, a1, a2 = multipletests(df['p_value'], method='holm')\n",
    "\n",
    "# добавляем скорректированные значения p-значений в датафрейм\n",
    "df['p_corrected'] = p_corrected\n",
    "df['reject'] = reject\n",
    "\n",
    "# выводим результаты метода Холма\n",
    "print(df)"
   ]
  },
  {
   "cell_type": "markdown",
   "metadata": {},
   "source": [
    "Так как проверок было применено более 10, применим вместо поправки Бонферонни метод Холма, где:\n",
    "- event: Название события, для которого проводилось сравнение групп A и B.\n",
    "- pvalue: Исходное p-значение, полученное из z-теста при сравнении групп A и B для каждого события.\n",
    "- pcorrected: Скорректированное p-значение, полученное после применения метода Холма для контроля ошибки множественных сравнений.\n",
    "- reject: Показатель, отражающий была ли отвергнута нулевая гипотеза для данного события после применения метода Холма\n",
    "\n",
    "Интерпретация результатов:\n",
    "Для этапов MainScreenAppear, OffersScreenAppear, PaymentScreenSuccessful скорректированное p-значение равно 1.000000. Нулевая гипотеза не была отвергнута, различия статистически не значимы.\n",
    "Для этапа CartScreenAppear скорректированное p-значение равно 0.747342. Нулевая гипотеза не была отвергнута, различия статистически не значимы."
   ]
  },
  {
   "cell_type": "markdown",
   "metadata": {},
   "source": [
    "## Общие выводы по проекту"
   ]
  },
  {
   "cell_type": "markdown",
   "metadata": {},
   "source": [
    "<div class=\"alert alert-block\" style=\"background-color: gainsboro\">\n",
    "<p> Для анализа взят период с 01/08/2019 по 08/08/2019 (Из таблицы исключены данные с датами, в которых было меньше всего событий)\n",
    "Всего событий в таблице - 240 887. Общее количество уникальных пользователей = 7534\n",
    "\n",
    "<p> Воронка этапов действий пользователей выстраивается следующим образом:\n",
    "- MainScreenAppear \n",
    "- OffersScreenAppear \n",
    "- CartScreenAppear \n",
    "- PaymentScreenSuccessful \n",
    "    \n",
    "<p> До этапа PaymentScreenSuccessful(оплаты) доходит 47.7 % пользователей, 49% пользователей у группы а,\n",
    "47.3% у группы а2 и 48.2% у группы b -> наиболее высокой конверсией обладает группа а. \n",
    "\n",
    "<p> Больше всего клиентов теряется на этапе перехода с главного экрана на экран с товарами (MainScreenAppear -> OffersScreenAppear). \n",
    "<p> Если предполагать причины такого поведения, но на мой взгляд, их можно разделить на две направлености:\n",
    "- технические ошибки: Возможно, стартовая страница прогружалась неоднократно перед тем как прогрузить следующую или пользователь выбирал товары и не срабатвал переход по определенным товарам/полкам магазина.\n",
    "- продуктовые ошибки: на главной странице были отражены товары, которые не привлекательны для большинства пользователей\n",
    "\n",
    "При проведении 12 тестов значимой разницы между группами не выявлено. Изменение шрифта не повлияло на поведение пользователей. Поэтому доработки по шрифтам допустимо оставить, т.к. оно не влияет негативно на действия пользователей, а работа уже была произведена.\n",
    "</div>"
   ]
  }
 ],
 "metadata": {
  "ExecuteTimeLog": [
   {
    "duration": 4,
    "start_time": "2023-12-06T09:37:07.885Z"
   },
   {
    "duration": 140,
    "start_time": "2023-12-06T09:49:17.919Z"
   },
   {
    "duration": 47,
    "start_time": "2023-12-06T12:24:21.085Z"
   },
   {
    "duration": 463,
    "start_time": "2023-12-06T12:24:25.667Z"
   },
   {
    "duration": 656,
    "start_time": "2023-12-06T12:24:26.638Z"
   },
   {
    "duration": 224,
    "start_time": "2023-12-06T12:26:07.273Z"
   },
   {
    "duration": 43,
    "start_time": "2023-12-06T12:29:35.714Z"
   },
   {
    "duration": 51,
    "start_time": "2023-12-06T12:29:43.923Z"
   },
   {
    "duration": 17,
    "start_time": "2023-12-06T12:30:03.993Z"
   },
   {
    "duration": 66,
    "start_time": "2023-12-06T12:30:53.193Z"
   },
   {
    "duration": 3,
    "start_time": "2023-12-06T12:31:32.515Z"
   },
   {
    "duration": 17,
    "start_time": "2023-12-06T12:32:02.056Z"
   },
   {
    "duration": 214,
    "start_time": "2023-12-06T12:33:27.972Z"
   },
   {
    "duration": 69,
    "start_time": "2023-12-06T12:35:39.291Z"
   },
   {
    "duration": 34,
    "start_time": "2023-12-06T12:38:56.460Z"
   },
   {
    "duration": 9,
    "start_time": "2023-12-06T12:39:03.743Z"
   },
   {
    "duration": 3,
    "start_time": "2023-12-06T12:39:32.988Z"
   },
   {
    "duration": 10,
    "start_time": "2023-12-06T12:39:37.109Z"
   },
   {
    "duration": 8,
    "start_time": "2023-12-06T12:40:02.950Z"
   },
   {
    "duration": 9,
    "start_time": "2023-12-06T12:40:08.580Z"
   },
   {
    "duration": 65,
    "start_time": "2023-12-06T12:40:56.301Z"
   },
   {
    "duration": 8,
    "start_time": "2023-12-06T12:40:58.312Z"
   },
   {
    "duration": 1189,
    "start_time": "2023-12-06T12:40:58.962Z"
   },
   {
    "duration": 1348,
    "start_time": "2023-12-06T12:41:05.291Z"
   },
   {
    "duration": 385,
    "start_time": "2023-12-06T12:41:42.448Z"
   },
   {
    "duration": 1199,
    "start_time": "2023-12-06T12:41:46.228Z"
   },
   {
    "duration": 1259,
    "start_time": "2023-12-06T12:42:35.443Z"
   },
   {
    "duration": 95,
    "start_time": "2023-12-06T12:42:40.893Z"
   },
   {
    "duration": 7,
    "start_time": "2023-12-06T12:45:10.863Z"
   },
   {
    "duration": 3,
    "start_time": "2023-12-06T12:45:54.037Z"
   },
   {
    "duration": 30,
    "start_time": "2023-12-06T12:50:10.548Z"
   },
   {
    "duration": 54,
    "start_time": "2023-12-06T12:50:17.656Z"
   },
   {
    "duration": 43,
    "start_time": "2023-12-06T12:50:22.404Z"
   },
   {
    "duration": 23,
    "start_time": "2023-12-06T12:50:30.409Z"
   },
   {
    "duration": 43,
    "start_time": "2023-12-06T12:50:30.967Z"
   },
   {
    "duration": 52,
    "start_time": "2023-12-06T12:50:57.019Z"
   },
   {
    "duration": 25,
    "start_time": "2023-12-06T12:51:01.882Z"
   },
   {
    "duration": 387,
    "start_time": "2023-12-06T12:51:02.046Z"
   },
   {
    "duration": 53,
    "start_time": "2023-12-06T12:51:08.793Z"
   },
   {
    "duration": 42,
    "start_time": "2023-12-06T12:51:26.521Z"
   },
   {
    "duration": 41,
    "start_time": "2023-12-06T12:51:33.885Z"
   },
   {
    "duration": 76,
    "start_time": "2023-12-06T12:52:55.333Z"
   },
   {
    "duration": 71,
    "start_time": "2023-12-06T12:53:33.264Z"
   },
   {
    "duration": 3,
    "start_time": "2023-12-06T12:54:35.645Z"
   },
   {
    "duration": 219,
    "start_time": "2023-12-06T12:54:36.193Z"
   },
   {
    "duration": 60,
    "start_time": "2023-12-06T12:54:36.415Z"
   },
   {
    "duration": 71,
    "start_time": "2023-12-06T12:54:36.998Z"
   },
   {
    "duration": 9,
    "start_time": "2023-12-06T12:54:37.288Z"
   },
   {
    "duration": 85,
    "start_time": "2023-12-06T12:54:37.423Z"
   },
   {
    "duration": 6,
    "start_time": "2023-12-06T12:54:38.045Z"
   },
   {
    "duration": 58,
    "start_time": "2023-12-06T12:54:38.471Z"
   },
   {
    "duration": 98,
    "start_time": "2023-12-06T12:55:57.294Z"
   },
   {
    "duration": 27,
    "start_time": "2023-12-06T12:58:53.000Z"
   },
   {
    "duration": 9,
    "start_time": "2023-12-06T12:59:08.203Z"
   },
   {
    "duration": 14,
    "start_time": "2023-12-06T12:59:11.546Z"
   },
   {
    "duration": 39,
    "start_time": "2023-12-06T13:00:10.587Z"
   },
   {
    "duration": 42,
    "start_time": "2023-12-06T13:00:23.998Z"
   },
   {
    "duration": 41,
    "start_time": "2023-12-06T13:01:24.760Z"
   },
   {
    "duration": 46,
    "start_time": "2023-12-06T13:07:24.579Z"
   },
   {
    "duration": 38,
    "start_time": "2023-12-06T13:07:44.851Z"
   },
   {
    "duration": 69,
    "start_time": "2023-12-06T13:09:26.370Z"
   },
   {
    "duration": 44,
    "start_time": "2023-12-06T13:10:02.030Z"
   },
   {
    "duration": 41,
    "start_time": "2023-12-06T13:10:20.835Z"
   },
   {
    "duration": 40,
    "start_time": "2023-12-06T13:10:28.251Z"
   },
   {
    "duration": 40,
    "start_time": "2023-12-06T13:10:44.292Z"
   },
   {
    "duration": 42,
    "start_time": "2023-12-06T13:10:51.991Z"
   },
   {
    "duration": 45,
    "start_time": "2023-12-06T13:11:12.884Z"
   },
   {
    "duration": 45,
    "start_time": "2023-12-06T13:11:15.557Z"
   },
   {
    "duration": 44,
    "start_time": "2023-12-06T13:11:28.615Z"
   },
   {
    "duration": 42,
    "start_time": "2023-12-06T13:11:45.979Z"
   },
   {
    "duration": 44,
    "start_time": "2023-12-06T13:11:50.442Z"
   },
   {
    "duration": 1304,
    "start_time": "2023-12-06T13:14:46.758Z"
   },
   {
    "duration": 1215,
    "start_time": "2023-12-06T13:14:56.198Z"
   },
   {
    "duration": 46,
    "start_time": "2023-12-06T13:15:08.864Z"
   },
   {
    "duration": 42,
    "start_time": "2023-12-06T13:15:14.054Z"
   },
   {
    "duration": 41,
    "start_time": "2023-12-06T13:15:19.629Z"
   },
   {
    "duration": 56,
    "start_time": "2023-12-06T13:16:28.396Z"
   },
   {
    "duration": 42,
    "start_time": "2023-12-06T13:16:39.272Z"
   },
   {
    "duration": 43,
    "start_time": "2023-12-06T13:16:58.900Z"
   },
   {
    "duration": 40,
    "start_time": "2023-12-06T13:17:05.947Z"
   },
   {
    "duration": 45,
    "start_time": "2023-12-06T13:17:58.707Z"
   },
   {
    "duration": 41,
    "start_time": "2023-12-06T13:18:51.028Z"
   },
   {
    "duration": 672,
    "start_time": "2023-12-06T13:19:05.107Z"
   },
   {
    "duration": 234,
    "start_time": "2023-12-06T13:19:05.781Z"
   },
   {
    "duration": 69,
    "start_time": "2023-12-06T13:19:06.017Z"
   },
   {
    "duration": 102,
    "start_time": "2023-12-06T13:19:06.087Z"
   },
   {
    "duration": 16,
    "start_time": "2023-12-06T13:19:06.191Z"
   },
   {
    "duration": 99,
    "start_time": "2023-12-06T13:19:06.209Z"
   },
   {
    "duration": 5,
    "start_time": "2023-12-06T13:19:06.310Z"
   },
   {
    "duration": 88,
    "start_time": "2023-12-06T13:19:06.317Z"
   },
   {
    "duration": 45,
    "start_time": "2023-12-06T13:19:06.406Z"
   },
   {
    "duration": 4,
    "start_time": "2023-12-06T13:19:06.452Z"
   },
   {
    "duration": 18,
    "start_time": "2023-12-06T13:19:06.458Z"
   },
   {
    "duration": 28,
    "start_time": "2023-12-06T13:19:06.478Z"
   },
   {
    "duration": 39,
    "start_time": "2023-12-06T13:19:06.508Z"
   },
   {
    "duration": 81,
    "start_time": "2023-12-06T13:19:06.550Z"
   },
   {
    "duration": 41,
    "start_time": "2023-12-06T13:19:49.884Z"
   },
   {
    "duration": 44,
    "start_time": "2023-12-06T13:22:00.509Z"
   },
   {
    "duration": 89,
    "start_time": "2023-12-06T13:23:21.294Z"
   },
   {
    "duration": 6,
    "start_time": "2023-12-06T13:23:35.304Z"
   },
   {
    "duration": 10,
    "start_time": "2023-12-06T13:23:40.809Z"
   },
   {
    "duration": 3,
    "start_time": "2023-12-06T13:23:58.599Z"
   },
   {
    "duration": 10,
    "start_time": "2023-12-06T13:24:08.390Z"
   },
   {
    "duration": 10,
    "start_time": "2023-12-06T13:24:20.155Z"
   },
   {
    "duration": 11,
    "start_time": "2023-12-06T13:25:20.125Z"
   },
   {
    "duration": 11,
    "start_time": "2023-12-06T13:25:42.449Z"
   },
   {
    "duration": 43,
    "start_time": "2023-12-06T13:25:56.139Z"
   },
   {
    "duration": 21,
    "start_time": "2023-12-06T13:42:25.125Z"
   },
   {
    "duration": 22,
    "start_time": "2023-12-06T13:42:30.832Z"
   },
   {
    "duration": 25,
    "start_time": "2023-12-06T13:42:53.028Z"
   },
   {
    "duration": 83,
    "start_time": "2023-12-06T13:46:08.474Z"
   },
   {
    "duration": 4,
    "start_time": "2023-12-06T13:46:15.849Z"
   },
   {
    "duration": 5,
    "start_time": "2023-12-06T13:47:14.494Z"
   },
   {
    "duration": 5,
    "start_time": "2023-12-06T13:48:43.018Z"
   },
   {
    "duration": 9,
    "start_time": "2023-12-06T13:49:01.304Z"
   },
   {
    "duration": 50,
    "start_time": "2023-12-06T13:49:58.769Z"
   },
   {
    "duration": 50,
    "start_time": "2023-12-06T13:50:47.245Z"
   },
   {
    "duration": 65,
    "start_time": "2023-12-06T13:52:01.131Z"
   },
   {
    "duration": 62,
    "start_time": "2023-12-06T13:52:23.451Z"
   },
   {
    "duration": 64,
    "start_time": "2023-12-06T13:53:52.822Z"
   },
   {
    "duration": 66,
    "start_time": "2023-12-06T13:54:00.309Z"
   },
   {
    "duration": 34,
    "start_time": "2023-12-06T13:54:23.590Z"
   },
   {
    "duration": 33,
    "start_time": "2023-12-06T13:56:17.070Z"
   },
   {
    "duration": 33,
    "start_time": "2023-12-06T13:56:26.658Z"
   },
   {
    "duration": 33,
    "start_time": "2023-12-06T13:56:32.240Z"
   },
   {
    "duration": 34,
    "start_time": "2023-12-06T13:56:36.174Z"
   },
   {
    "duration": 47,
    "start_time": "2023-12-06T13:56:45.727Z"
   },
   {
    "duration": 980,
    "start_time": "2023-12-06T14:57:04.735Z"
   },
   {
    "duration": 531,
    "start_time": "2023-12-06T14:57:54.246Z"
   },
   {
    "duration": 637,
    "start_time": "2023-12-06T14:58:19.470Z"
   },
   {
    "duration": 905,
    "start_time": "2023-12-06T14:58:25.794Z"
   },
   {
    "duration": 953,
    "start_time": "2023-12-06T14:58:34.668Z"
   },
   {
    "duration": 583,
    "start_time": "2023-12-06T14:58:59.290Z"
   },
   {
    "duration": 89,
    "start_time": "2023-12-06T15:00:27.862Z"
   },
   {
    "duration": 56,
    "start_time": "2023-12-06T15:03:30.326Z"
   },
   {
    "duration": 54,
    "start_time": "2023-12-06T15:03:34.615Z"
   },
   {
    "duration": 38,
    "start_time": "2023-12-06T15:03:49.854Z"
   },
   {
    "duration": 169,
    "start_time": "2023-12-06T15:04:09.037Z"
   },
   {
    "duration": 62,
    "start_time": "2023-12-06T15:05:26.606Z"
   },
   {
    "duration": 44,
    "start_time": "2023-12-06T15:05:43.160Z"
   },
   {
    "duration": 51,
    "start_time": "2023-12-06T15:05:51.604Z"
   },
   {
    "duration": 42,
    "start_time": "2023-12-06T15:06:03.274Z"
   },
   {
    "duration": 28,
    "start_time": "2023-12-06T15:06:27.126Z"
   },
   {
    "duration": 669,
    "start_time": "2023-12-06T15:06:35.806Z"
   },
   {
    "duration": 240,
    "start_time": "2023-12-06T15:06:36.477Z"
   },
   {
    "duration": 66,
    "start_time": "2023-12-06T15:06:36.719Z"
   },
   {
    "duration": 153,
    "start_time": "2023-12-06T15:06:36.787Z"
   },
   {
    "duration": 19,
    "start_time": "2023-12-06T15:06:36.942Z"
   },
   {
    "duration": 154,
    "start_time": "2023-12-06T15:06:36.963Z"
   },
   {
    "duration": 5,
    "start_time": "2023-12-06T15:06:37.119Z"
   },
   {
    "duration": 154,
    "start_time": "2023-12-06T15:06:37.126Z"
   },
   {
    "duration": 42,
    "start_time": "2023-12-06T15:06:37.282Z"
   },
   {
    "duration": 11,
    "start_time": "2023-12-06T15:06:37.325Z"
   },
   {
    "duration": 33,
    "start_time": "2023-12-06T15:06:37.338Z"
   },
   {
    "duration": 47,
    "start_time": "2023-12-06T15:06:37.373Z"
   },
   {
    "duration": 34,
    "start_time": "2023-12-06T15:06:37.422Z"
   },
   {
    "duration": 742,
    "start_time": "2023-12-06T15:06:37.458Z"
   },
   {
    "duration": 71,
    "start_time": "2023-12-06T15:06:38.206Z"
   },
   {
    "duration": 3,
    "start_time": "2023-12-06T15:06:38.279Z"
   },
   {
    "duration": 74,
    "start_time": "2023-12-06T15:06:38.284Z"
   },
   {
    "duration": 0,
    "start_time": "2023-12-06T15:06:38.359Z"
   },
   {
    "duration": 41,
    "start_time": "2023-12-06T15:07:28.401Z"
   },
   {
    "duration": 36,
    "start_time": "2023-12-06T15:07:45.377Z"
   },
   {
    "duration": 665,
    "start_time": "2023-12-06T15:08:15.468Z"
   },
   {
    "duration": 230,
    "start_time": "2023-12-06T15:08:16.134Z"
   },
   {
    "duration": 73,
    "start_time": "2023-12-06T15:08:16.366Z"
   },
   {
    "duration": 94,
    "start_time": "2023-12-06T15:08:16.441Z"
   },
   {
    "duration": 9,
    "start_time": "2023-12-06T15:08:16.537Z"
   },
   {
    "duration": 109,
    "start_time": "2023-12-06T15:08:16.548Z"
   },
   {
    "duration": 7,
    "start_time": "2023-12-06T15:08:16.659Z"
   },
   {
    "duration": 75,
    "start_time": "2023-12-06T15:08:16.668Z"
   },
   {
    "duration": 43,
    "start_time": "2023-12-06T15:08:16.746Z"
   },
   {
    "duration": 12,
    "start_time": "2023-12-06T15:08:16.806Z"
   },
   {
    "duration": 26,
    "start_time": "2023-12-06T15:08:16.819Z"
   },
   {
    "duration": 60,
    "start_time": "2023-12-06T15:08:16.847Z"
   },
   {
    "duration": 54,
    "start_time": "2023-12-06T15:08:16.909Z"
   },
   {
    "duration": 726,
    "start_time": "2023-12-06T15:08:16.965Z"
   },
   {
    "duration": 89,
    "start_time": "2023-12-06T15:08:17.692Z"
   },
   {
    "duration": 4,
    "start_time": "2023-12-06T15:08:17.783Z"
   },
   {
    "duration": 93,
    "start_time": "2023-12-06T15:08:17.789Z"
   },
   {
    "duration": 0,
    "start_time": "2023-12-06T15:08:17.883Z"
   },
   {
    "duration": 0,
    "start_time": "2023-12-06T15:08:17.885Z"
   },
   {
    "duration": 105,
    "start_time": "2023-12-06T15:08:50.376Z"
   },
   {
    "duration": 36,
    "start_time": "2023-12-06T15:09:03.559Z"
   },
   {
    "duration": 66,
    "start_time": "2023-12-06T15:09:22.898Z"
   },
   {
    "duration": 75,
    "start_time": "2023-12-06T15:10:22.405Z"
   },
   {
    "duration": 54,
    "start_time": "2023-12-06T15:10:28.992Z"
   },
   {
    "duration": 89,
    "start_time": "2023-12-06T15:10:33.971Z"
   },
   {
    "duration": 55,
    "start_time": "2023-12-06T15:10:38.427Z"
   },
   {
    "duration": 57,
    "start_time": "2023-12-06T15:10:53.872Z"
   },
   {
    "duration": 55,
    "start_time": "2023-12-06T15:11:12.566Z"
   },
   {
    "duration": 56,
    "start_time": "2023-12-06T15:11:25.144Z"
   },
   {
    "duration": 55,
    "start_time": "2023-12-06T15:11:38.271Z"
   },
   {
    "duration": 56,
    "start_time": "2023-12-06T15:12:14.799Z"
   },
   {
    "duration": 4,
    "start_time": "2023-12-06T15:12:21.279Z"
   },
   {
    "duration": 3,
    "start_time": "2023-12-06T15:12:40.135Z"
   },
   {
    "duration": 3,
    "start_time": "2023-12-06T15:12:56.474Z"
   },
   {
    "duration": 3,
    "start_time": "2023-12-06T15:13:05.558Z"
   },
   {
    "duration": 669,
    "start_time": "2023-12-06T15:13:15.309Z"
   },
   {
    "duration": 228,
    "start_time": "2023-12-06T15:13:15.980Z"
   },
   {
    "duration": 67,
    "start_time": "2023-12-06T15:13:16.210Z"
   },
   {
    "duration": 95,
    "start_time": "2023-12-06T15:13:16.278Z"
   },
   {
    "duration": 8,
    "start_time": "2023-12-06T15:13:16.375Z"
   },
   {
    "duration": 98,
    "start_time": "2023-12-06T15:13:16.385Z"
   },
   {
    "duration": 5,
    "start_time": "2023-12-06T15:13:16.485Z"
   },
   {
    "duration": 99,
    "start_time": "2023-12-06T15:13:16.492Z"
   },
   {
    "duration": 45,
    "start_time": "2023-12-06T15:13:16.592Z"
   },
   {
    "duration": 19,
    "start_time": "2023-12-06T15:13:16.639Z"
   },
   {
    "duration": 23,
    "start_time": "2023-12-06T15:13:16.660Z"
   },
   {
    "duration": 48,
    "start_time": "2023-12-06T15:13:16.685Z"
   },
   {
    "duration": 64,
    "start_time": "2023-12-06T15:13:16.735Z"
   },
   {
    "duration": 734,
    "start_time": "2023-12-06T15:13:16.802Z"
   },
   {
    "duration": 92,
    "start_time": "2023-12-06T15:13:17.538Z"
   },
   {
    "duration": 3,
    "start_time": "2023-12-06T15:13:17.632Z"
   },
   {
    "duration": 10,
    "start_time": "2023-12-06T15:13:17.637Z"
   },
   {
    "duration": 84,
    "start_time": "2023-12-06T15:13:17.649Z"
   },
   {
    "duration": 0,
    "start_time": "2023-12-06T15:13:17.735Z"
   },
   {
    "duration": 0,
    "start_time": "2023-12-06T15:13:17.736Z"
   },
   {
    "duration": 0,
    "start_time": "2023-12-06T15:13:17.737Z"
   },
   {
    "duration": 3,
    "start_time": "2023-12-06T15:13:29.437Z"
   },
   {
    "duration": 4,
    "start_time": "2023-12-06T15:13:34.636Z"
   },
   {
    "duration": 3,
    "start_time": "2023-12-06T15:13:38.630Z"
   },
   {
    "duration": 4,
    "start_time": "2023-12-06T15:14:44.364Z"
   },
   {
    "duration": 5,
    "start_time": "2023-12-06T15:14:52.292Z"
   },
   {
    "duration": 61,
    "start_time": "2023-12-06T15:15:56.978Z"
   },
   {
    "duration": 54,
    "start_time": "2023-12-06T15:16:05.624Z"
   },
   {
    "duration": 54,
    "start_time": "2023-12-06T15:16:23.357Z"
   },
   {
    "duration": 54,
    "start_time": "2023-12-06T15:16:43.912Z"
   },
   {
    "duration": 54,
    "start_time": "2023-12-06T15:17:01.925Z"
   },
   {
    "duration": 41,
    "start_time": "2023-12-06T15:17:45.868Z"
   },
   {
    "duration": 67,
    "start_time": "2023-12-06T15:18:01.213Z"
   },
   {
    "duration": 667,
    "start_time": "2023-12-06T15:18:09.212Z"
   },
   {
    "duration": 231,
    "start_time": "2023-12-06T15:18:09.881Z"
   },
   {
    "duration": 69,
    "start_time": "2023-12-06T15:18:10.114Z"
   },
   {
    "duration": 95,
    "start_time": "2023-12-06T15:18:10.185Z"
   },
   {
    "duration": 9,
    "start_time": "2023-12-06T15:18:10.282Z"
   },
   {
    "duration": 101,
    "start_time": "2023-12-06T15:18:10.292Z"
   },
   {
    "duration": 16,
    "start_time": "2023-12-06T15:18:10.394Z"
   },
   {
    "duration": 70,
    "start_time": "2023-12-06T15:18:10.411Z"
   },
   {
    "duration": 49,
    "start_time": "2023-12-06T15:18:10.482Z"
   },
   {
    "duration": 25,
    "start_time": "2023-12-06T15:18:10.533Z"
   },
   {
    "duration": 34,
    "start_time": "2023-12-06T15:18:10.560Z"
   },
   {
    "duration": 37,
    "start_time": "2023-12-06T15:18:10.596Z"
   },
   {
    "duration": 58,
    "start_time": "2023-12-06T15:18:10.635Z"
   },
   {
    "duration": 743,
    "start_time": "2023-12-06T15:18:10.696Z"
   },
   {
    "duration": 87,
    "start_time": "2023-12-06T15:18:11.440Z"
   },
   {
    "duration": 4,
    "start_time": "2023-12-06T15:18:11.529Z"
   },
   {
    "duration": 65,
    "start_time": "2023-12-06T15:18:11.534Z"
   },
   {
    "duration": 85,
    "start_time": "2023-12-06T15:18:11.601Z"
   },
   {
    "duration": 0,
    "start_time": "2023-12-06T15:18:11.688Z"
   },
   {
    "duration": 0,
    "start_time": "2023-12-06T15:18:11.689Z"
   },
   {
    "duration": 0,
    "start_time": "2023-12-06T15:18:11.691Z"
   },
   {
    "duration": 0,
    "start_time": "2023-12-06T15:18:11.692Z"
   },
   {
    "duration": 64,
    "start_time": "2023-12-06T17:12:46.680Z"
   },
   {
    "duration": 60,
    "start_time": "2023-12-06T17:13:30.559Z"
   },
   {
    "duration": 56,
    "start_time": "2023-12-06T17:13:59.135Z"
   },
   {
    "duration": 74,
    "start_time": "2023-12-06T17:18:29.671Z"
   },
   {
    "duration": 15,
    "start_time": "2023-12-06T17:18:34.343Z"
   },
   {
    "duration": 26,
    "start_time": "2023-12-06T17:19:25.126Z"
   },
   {
    "duration": 40,
    "start_time": "2023-12-06T17:24:41.454Z"
   },
   {
    "duration": 8,
    "start_time": "2023-12-06T17:24:48.842Z"
   },
   {
    "duration": 24,
    "start_time": "2023-12-06T17:24:49.830Z"
   },
   {
    "duration": 34,
    "start_time": "2023-12-06T17:24:52.227Z"
   },
   {
    "duration": 41,
    "start_time": "2023-12-06T17:24:55.850Z"
   },
   {
    "duration": 578,
    "start_time": "2023-12-06T17:24:56.543Z"
   },
   {
    "duration": 62,
    "start_time": "2023-12-06T17:24:58.848Z"
   },
   {
    "duration": 25,
    "start_time": "2023-12-06T17:25:02.489Z"
   },
   {
    "duration": 688,
    "start_time": "2023-12-06T17:26:49.286Z"
   },
   {
    "duration": 242,
    "start_time": "2023-12-06T17:26:49.976Z"
   },
   {
    "duration": 67,
    "start_time": "2023-12-06T17:26:50.220Z"
   },
   {
    "duration": 83,
    "start_time": "2023-12-06T17:26:50.307Z"
   },
   {
    "duration": 19,
    "start_time": "2023-12-06T17:26:50.392Z"
   },
   {
    "duration": 113,
    "start_time": "2023-12-06T17:26:50.412Z"
   },
   {
    "duration": 6,
    "start_time": "2023-12-06T17:26:50.527Z"
   },
   {
    "duration": 73,
    "start_time": "2023-12-06T17:26:50.534Z"
   },
   {
    "duration": 45,
    "start_time": "2023-12-06T17:26:50.609Z"
   },
   {
    "duration": 10,
    "start_time": "2023-12-06T17:26:50.657Z"
   },
   {
    "duration": 52,
    "start_time": "2023-12-06T17:26:50.669Z"
   },
   {
    "duration": 34,
    "start_time": "2023-12-06T17:26:50.723Z"
   },
   {
    "duration": 68,
    "start_time": "2023-12-06T17:26:50.759Z"
   },
   {
    "duration": 772,
    "start_time": "2023-12-06T17:26:50.829Z"
   },
   {
    "duration": 83,
    "start_time": "2023-12-06T17:26:51.603Z"
   },
   {
    "duration": 35,
    "start_time": "2023-12-06T17:26:51.688Z"
   },
   {
    "duration": 68,
    "start_time": "2023-12-06T17:26:51.724Z"
   },
   {
    "duration": 0,
    "start_time": "2023-12-06T17:26:51.794Z"
   },
   {
    "duration": 0,
    "start_time": "2023-12-06T17:26:51.796Z"
   },
   {
    "duration": 0,
    "start_time": "2023-12-06T17:26:51.797Z"
   },
   {
    "duration": 0,
    "start_time": "2023-12-06T17:26:51.799Z"
   },
   {
    "duration": 1,
    "start_time": "2023-12-06T17:26:51.800Z"
   },
   {
    "duration": 0,
    "start_time": "2023-12-06T17:26:51.802Z"
   },
   {
    "duration": 90,
    "start_time": "2023-12-06T18:49:25.513Z"
   },
   {
    "duration": 45,
    "start_time": "2023-12-07T08:19:15.030Z"
   },
   {
    "duration": 816,
    "start_time": "2023-12-07T08:19:22.175Z"
   },
   {
    "duration": 555,
    "start_time": "2023-12-07T08:19:22.996Z"
   },
   {
    "duration": 63,
    "start_time": "2023-12-07T08:19:23.553Z"
   },
   {
    "duration": 79,
    "start_time": "2023-12-07T08:19:23.618Z"
   },
   {
    "duration": 7,
    "start_time": "2023-12-07T08:19:23.698Z"
   },
   {
    "duration": 92,
    "start_time": "2023-12-07T08:19:23.706Z"
   },
   {
    "duration": 5,
    "start_time": "2023-12-07T08:19:23.799Z"
   },
   {
    "duration": 54,
    "start_time": "2023-12-07T08:19:23.805Z"
   },
   {
    "duration": 57,
    "start_time": "2023-12-07T08:19:23.861Z"
   },
   {
    "duration": 24,
    "start_time": "2023-12-07T08:19:23.920Z"
   },
   {
    "duration": 22,
    "start_time": "2023-12-07T08:19:23.946Z"
   },
   {
    "duration": 40,
    "start_time": "2023-12-07T08:19:23.970Z"
   },
   {
    "duration": 39,
    "start_time": "2023-12-07T08:19:24.012Z"
   },
   {
    "duration": 715,
    "start_time": "2023-12-07T08:19:24.053Z"
   },
   {
    "duration": 83,
    "start_time": "2023-12-07T08:19:24.769Z"
   },
   {
    "duration": 43,
    "start_time": "2023-12-07T08:19:24.854Z"
   },
   {
    "duration": 6,
    "start_time": "2023-12-07T08:19:24.898Z"
   },
   {
    "duration": 88,
    "start_time": "2023-12-07T08:19:24.905Z"
   },
   {
    "duration": 0,
    "start_time": "2023-12-07T08:19:24.995Z"
   },
   {
    "duration": 0,
    "start_time": "2023-12-07T08:19:24.996Z"
   },
   {
    "duration": 0,
    "start_time": "2023-12-07T08:19:24.997Z"
   },
   {
    "duration": 0,
    "start_time": "2023-12-07T08:19:24.998Z"
   },
   {
    "duration": 14,
    "start_time": "2023-12-07T08:19:36.399Z"
   },
   {
    "duration": 29,
    "start_time": "2023-12-07T08:19:48.341Z"
   },
   {
    "duration": 54,
    "start_time": "2023-12-07T08:36:35.741Z"
   },
   {
    "duration": 51,
    "start_time": "2023-12-07T08:36:42.047Z"
   },
   {
    "duration": 45,
    "start_time": "2023-12-07T08:37:34.824Z"
   },
   {
    "duration": 49,
    "start_time": "2023-12-07T08:37:41.301Z"
   },
   {
    "duration": 49,
    "start_time": "2023-12-07T08:39:39.508Z"
   },
   {
    "duration": 51,
    "start_time": "2023-12-07T08:39:48.411Z"
   },
   {
    "duration": 55,
    "start_time": "2023-12-07T08:40:54.859Z"
   },
   {
    "duration": 54,
    "start_time": "2023-12-07T08:41:11.093Z"
   },
   {
    "duration": 65,
    "start_time": "2023-12-07T08:41:32.080Z"
   },
   {
    "duration": 53,
    "start_time": "2023-12-07T08:41:36.999Z"
   },
   {
    "duration": 106,
    "start_time": "2023-12-07T09:02:51.909Z"
   },
   {
    "duration": 386,
    "start_time": "2023-12-07T09:03:11.093Z"
   },
   {
    "duration": 325,
    "start_time": "2023-12-07T09:03:25.589Z"
   },
   {
    "duration": 88,
    "start_time": "2023-12-07T09:04:06.449Z"
   },
   {
    "duration": 349,
    "start_time": "2023-12-07T09:06:50.081Z"
   },
   {
    "duration": 363,
    "start_time": "2023-12-07T09:06:55.265Z"
   },
   {
    "duration": 82,
    "start_time": "2023-12-07T09:07:11.593Z"
   },
   {
    "duration": 95,
    "start_time": "2023-12-07T09:07:43.503Z"
   },
   {
    "duration": 1028,
    "start_time": "2023-12-07T09:07:49.641Z"
   },
   {
    "duration": 234,
    "start_time": "2023-12-07T09:07:50.670Z"
   },
   {
    "duration": 64,
    "start_time": "2023-12-07T09:07:50.905Z"
   },
   {
    "duration": 100,
    "start_time": "2023-12-07T09:07:50.971Z"
   },
   {
    "duration": 8,
    "start_time": "2023-12-07T09:07:51.072Z"
   },
   {
    "duration": 111,
    "start_time": "2023-12-07T09:07:51.087Z"
   },
   {
    "duration": 6,
    "start_time": "2023-12-07T09:07:51.200Z"
   },
   {
    "duration": 61,
    "start_time": "2023-12-07T09:07:51.207Z"
   },
   {
    "duration": 31,
    "start_time": "2023-12-07T09:07:51.270Z"
   },
   {
    "duration": 13,
    "start_time": "2023-12-07T09:07:51.304Z"
   },
   {
    "duration": 25,
    "start_time": "2023-12-07T09:07:51.319Z"
   },
   {
    "duration": 69,
    "start_time": "2023-12-07T09:07:51.345Z"
   },
   {
    "duration": 45,
    "start_time": "2023-12-07T09:07:51.416Z"
   },
   {
    "duration": 716,
    "start_time": "2023-12-07T09:07:51.463Z"
   },
   {
    "duration": 88,
    "start_time": "2023-12-07T09:07:52.181Z"
   },
   {
    "duration": 46,
    "start_time": "2023-12-07T09:07:52.271Z"
   },
   {
    "duration": 36,
    "start_time": "2023-12-07T09:07:52.318Z"
   },
   {
    "duration": 71,
    "start_time": "2023-12-07T09:07:52.356Z"
   },
   {
    "duration": 220,
    "start_time": "2023-12-07T09:07:52.428Z"
   },
   {
    "duration": 0,
    "start_time": "2023-12-07T09:07:52.650Z"
   },
   {
    "duration": 0,
    "start_time": "2023-12-07T09:07:52.651Z"
   },
   {
    "duration": 0,
    "start_time": "2023-12-07T09:07:52.652Z"
   },
   {
    "duration": 0,
    "start_time": "2023-12-07T09:07:52.653Z"
   },
   {
    "duration": 246,
    "start_time": "2023-12-07T09:08:01.815Z"
   },
   {
    "duration": 69,
    "start_time": "2023-12-07T09:08:17.641Z"
   },
   {
    "duration": 83,
    "start_time": "2023-12-07T09:08:24.933Z"
   },
   {
    "duration": 162,
    "start_time": "2023-12-07T09:08:40.268Z"
   },
   {
    "duration": 241,
    "start_time": "2023-12-07T09:11:12.479Z"
   },
   {
    "duration": 164,
    "start_time": "2023-12-07T09:11:21.808Z"
   },
   {
    "duration": 112,
    "start_time": "2023-12-07T09:11:34.378Z"
   },
   {
    "duration": 244,
    "start_time": "2023-12-07T09:11:43.078Z"
   },
   {
    "duration": 11,
    "start_time": "2023-12-07T09:12:22.564Z"
   },
   {
    "duration": 425,
    "start_time": "2023-12-07T09:12:33.354Z"
   },
   {
    "duration": 379,
    "start_time": "2023-12-07T09:12:41.750Z"
   },
   {
    "duration": 369,
    "start_time": "2023-12-07T09:12:54.266Z"
   },
   {
    "duration": 7,
    "start_time": "2023-12-07T09:21:13.594Z"
   },
   {
    "duration": 5,
    "start_time": "2023-12-07T09:21:49.363Z"
   },
   {
    "duration": 15,
    "start_time": "2023-12-07T09:22:04.433Z"
   },
   {
    "duration": 11,
    "start_time": "2023-12-07T09:22:13.449Z"
   },
   {
    "duration": 12,
    "start_time": "2023-12-07T09:22:25.343Z"
   },
   {
    "duration": 15,
    "start_time": "2023-12-07T09:22:33.123Z"
   },
   {
    "duration": 13,
    "start_time": "2023-12-07T09:22:40.109Z"
   },
   {
    "duration": 14,
    "start_time": "2023-12-07T09:22:46.294Z"
   },
   {
    "duration": 13,
    "start_time": "2023-12-07T09:22:52.616Z"
   },
   {
    "duration": 1097,
    "start_time": "2023-12-07T09:23:01.607Z"
   },
   {
    "duration": 214,
    "start_time": "2023-12-07T09:23:02.706Z"
   },
   {
    "duration": 74,
    "start_time": "2023-12-07T09:23:02.921Z"
   },
   {
    "duration": 69,
    "start_time": "2023-12-07T09:23:02.997Z"
   },
   {
    "duration": 8,
    "start_time": "2023-12-07T09:23:03.068Z"
   },
   {
    "duration": 149,
    "start_time": "2023-12-07T09:23:03.078Z"
   },
   {
    "duration": 6,
    "start_time": "2023-12-07T09:23:03.229Z"
   },
   {
    "duration": 95,
    "start_time": "2023-12-07T09:23:03.237Z"
   },
   {
    "duration": 12,
    "start_time": "2023-12-07T09:23:03.334Z"
   },
   {
    "duration": 26,
    "start_time": "2023-12-07T09:23:03.348Z"
   },
   {
    "duration": 37,
    "start_time": "2023-12-07T09:23:03.375Z"
   },
   {
    "duration": 31,
    "start_time": "2023-12-07T09:23:03.414Z"
   },
   {
    "duration": 48,
    "start_time": "2023-12-07T09:23:03.447Z"
   },
   {
    "duration": 638,
    "start_time": "2023-12-07T09:23:03.496Z"
   },
   {
    "duration": 86,
    "start_time": "2023-12-07T09:23:04.136Z"
   },
   {
    "duration": 22,
    "start_time": "2023-12-07T09:23:04.224Z"
   },
   {
    "duration": 60,
    "start_time": "2023-12-07T09:23:04.247Z"
   },
   {
    "duration": 71,
    "start_time": "2023-12-07T09:23:04.309Z"
   },
   {
    "duration": 107,
    "start_time": "2023-12-07T09:23:04.387Z"
   },
   {
    "duration": 0,
    "start_time": "2023-12-07T09:23:04.496Z"
   },
   {
    "duration": 0,
    "start_time": "2023-12-07T09:23:04.497Z"
   },
   {
    "duration": 0,
    "start_time": "2023-12-07T09:23:04.499Z"
   },
   {
    "duration": 0,
    "start_time": "2023-12-07T09:23:04.500Z"
   },
   {
    "duration": 12,
    "start_time": "2023-12-07T09:23:13.436Z"
   },
   {
    "duration": 11,
    "start_time": "2023-12-07T09:23:22.846Z"
   },
   {
    "duration": 10,
    "start_time": "2023-12-07T09:23:35.022Z"
   },
   {
    "duration": 16,
    "start_time": "2023-12-07T09:23:38.884Z"
   },
   {
    "duration": 11,
    "start_time": "2023-12-07T09:23:47.319Z"
   },
   {
    "duration": 14,
    "start_time": "2023-12-07T09:23:57.750Z"
   },
   {
    "duration": 15,
    "start_time": "2023-12-07T09:24:05.882Z"
   },
   {
    "duration": 11,
    "start_time": "2023-12-07T09:24:12.262Z"
   },
   {
    "duration": 13,
    "start_time": "2023-12-07T09:24:29.528Z"
   },
   {
    "duration": 21,
    "start_time": "2023-12-07T09:24:35.572Z"
   },
   {
    "duration": 13,
    "start_time": "2023-12-07T09:24:45.769Z"
   },
   {
    "duration": 25,
    "start_time": "2023-12-07T09:24:51.618Z"
   },
   {
    "duration": 12,
    "start_time": "2023-12-07T09:24:58.531Z"
   },
   {
    "duration": 17,
    "start_time": "2023-12-07T09:25:05.047Z"
   },
   {
    "duration": 9,
    "start_time": "2023-12-07T09:30:39.157Z"
   },
   {
    "duration": 14,
    "start_time": "2023-12-07T09:30:51.121Z"
   },
   {
    "duration": 5,
    "start_time": "2023-12-07T09:32:43.892Z"
   },
   {
    "duration": 1114,
    "start_time": "2023-12-07T09:32:53.860Z"
   },
   {
    "duration": 220,
    "start_time": "2023-12-07T09:32:54.976Z"
   },
   {
    "duration": 58,
    "start_time": "2023-12-07T09:32:55.197Z"
   },
   {
    "duration": 90,
    "start_time": "2023-12-07T09:32:55.258Z"
   },
   {
    "duration": 7,
    "start_time": "2023-12-07T09:32:55.349Z"
   },
   {
    "duration": 101,
    "start_time": "2023-12-07T09:32:55.357Z"
   },
   {
    "duration": 5,
    "start_time": "2023-12-07T09:32:55.460Z"
   },
   {
    "duration": 71,
    "start_time": "2023-12-07T09:32:55.466Z"
   },
   {
    "duration": 14,
    "start_time": "2023-12-07T09:32:55.539Z"
   },
   {
    "duration": 11,
    "start_time": "2023-12-07T09:32:55.555Z"
   },
   {
    "duration": 29,
    "start_time": "2023-12-07T09:32:55.582Z"
   },
   {
    "duration": 30,
    "start_time": "2023-12-07T09:32:55.613Z"
   },
   {
    "duration": 60,
    "start_time": "2023-12-07T09:32:55.645Z"
   },
   {
    "duration": 640,
    "start_time": "2023-12-07T09:32:55.707Z"
   },
   {
    "duration": 83,
    "start_time": "2023-12-07T09:32:56.349Z"
   },
   {
    "duration": 22,
    "start_time": "2023-12-07T09:32:56.434Z"
   },
   {
    "duration": 51,
    "start_time": "2023-12-07T09:32:56.457Z"
   },
   {
    "duration": 52,
    "start_time": "2023-12-07T09:32:56.510Z"
   },
   {
    "duration": 107,
    "start_time": "2023-12-07T09:32:56.563Z"
   },
   {
    "duration": 0,
    "start_time": "2023-12-07T09:32:56.672Z"
   },
   {
    "duration": 0,
    "start_time": "2023-12-07T09:32:56.673Z"
   },
   {
    "duration": 0,
    "start_time": "2023-12-07T09:32:56.674Z"
   },
   {
    "duration": 0,
    "start_time": "2023-12-07T09:32:56.675Z"
   },
   {
    "duration": 9,
    "start_time": "2023-12-07T09:33:28.720Z"
   },
   {
    "duration": 14,
    "start_time": "2023-12-07T09:33:38.773Z"
   },
   {
    "duration": 11,
    "start_time": "2023-12-07T09:34:18.402Z"
   },
   {
    "duration": 349,
    "start_time": "2023-12-07T09:34:27.729Z"
   },
   {
    "duration": 74,
    "start_time": "2023-12-07T09:34:55.617Z"
   },
   {
    "duration": 1051,
    "start_time": "2023-12-07T09:37:01.324Z"
   },
   {
    "duration": 236,
    "start_time": "2023-12-07T09:37:02.376Z"
   },
   {
    "duration": 58,
    "start_time": "2023-12-07T09:37:02.614Z"
   },
   {
    "duration": 88,
    "start_time": "2023-12-07T09:37:02.674Z"
   },
   {
    "duration": 7,
    "start_time": "2023-12-07T09:37:02.764Z"
   },
   {
    "duration": 83,
    "start_time": "2023-12-07T09:37:02.781Z"
   },
   {
    "duration": 4,
    "start_time": "2023-12-07T09:37:02.866Z"
   },
   {
    "duration": 67,
    "start_time": "2023-12-07T09:37:02.872Z"
   },
   {
    "duration": 13,
    "start_time": "2023-12-07T09:37:02.940Z"
   },
   {
    "duration": 39,
    "start_time": "2023-12-07T09:37:02.954Z"
   },
   {
    "duration": 20,
    "start_time": "2023-12-07T09:37:02.995Z"
   },
   {
    "duration": 32,
    "start_time": "2023-12-07T09:37:03.016Z"
   },
   {
    "duration": 54,
    "start_time": "2023-12-07T09:37:03.050Z"
   },
   {
    "duration": 638,
    "start_time": "2023-12-07T09:37:03.106Z"
   },
   {
    "duration": 82,
    "start_time": "2023-12-07T09:37:03.746Z"
   },
   {
    "duration": 25,
    "start_time": "2023-12-07T09:37:03.829Z"
   },
   {
    "duration": 52,
    "start_time": "2023-12-07T09:37:03.856Z"
   },
   {
    "duration": 51,
    "start_time": "2023-12-07T09:37:03.909Z"
   },
   {
    "duration": 247,
    "start_time": "2023-12-07T09:37:03.962Z"
   },
   {
    "duration": 360,
    "start_time": "2023-12-07T09:37:04.211Z"
   },
   {
    "duration": 5,
    "start_time": "2023-12-07T09:37:04.573Z"
   },
   {
    "duration": 13,
    "start_time": "2023-12-07T09:37:04.586Z"
   },
   {
    "duration": 4,
    "start_time": "2023-12-07T09:37:04.600Z"
   },
   {
    "duration": 3,
    "start_time": "2023-12-07T09:47:28.868Z"
   },
   {
    "duration": 8,
    "start_time": "2023-12-07T09:47:38.861Z"
   },
   {
    "duration": 85,
    "start_time": "2023-12-07T09:48:58.008Z"
   },
   {
    "duration": 9,
    "start_time": "2023-12-07T09:49:31.929Z"
   },
   {
    "duration": 17,
    "start_time": "2023-12-07T09:53:02.876Z"
   },
   {
    "duration": 1397,
    "start_time": "2023-12-07T09:53:25.994Z"
   },
   {
    "duration": 1301,
    "start_time": "2023-12-07T09:53:30.878Z"
   },
   {
    "duration": 8,
    "start_time": "2023-12-07T09:53:40.197Z"
   },
   {
    "duration": 8,
    "start_time": "2023-12-07T09:53:57.198Z"
   },
   {
    "duration": 8,
    "start_time": "2023-12-07T09:54:37.154Z"
   },
   {
    "duration": 8,
    "start_time": "2023-12-07T09:54:46.130Z"
   },
   {
    "duration": 8,
    "start_time": "2023-12-07T09:56:35.613Z"
   },
   {
    "duration": 1117,
    "start_time": "2023-12-07T09:56:45.204Z"
   },
   {
    "duration": 223,
    "start_time": "2023-12-07T09:56:46.323Z"
   },
   {
    "duration": 77,
    "start_time": "2023-12-07T09:56:46.547Z"
   },
   {
    "duration": 79,
    "start_time": "2023-12-07T09:56:46.626Z"
   },
   {
    "duration": 7,
    "start_time": "2023-12-07T09:56:46.706Z"
   },
   {
    "duration": 109,
    "start_time": "2023-12-07T09:56:46.715Z"
   },
   {
    "duration": 5,
    "start_time": "2023-12-07T09:56:46.826Z"
   },
   {
    "duration": 67,
    "start_time": "2023-12-07T09:56:46.833Z"
   },
   {
    "duration": 12,
    "start_time": "2023-12-07T09:56:46.901Z"
   },
   {
    "duration": 12,
    "start_time": "2023-12-07T09:56:46.916Z"
   },
   {
    "duration": 24,
    "start_time": "2023-12-07T09:56:46.930Z"
   },
   {
    "duration": 54,
    "start_time": "2023-12-07T09:56:46.955Z"
   },
   {
    "duration": 38,
    "start_time": "2023-12-07T09:56:47.010Z"
   },
   {
    "duration": 625,
    "start_time": "2023-12-07T09:56:47.050Z"
   },
   {
    "duration": 81,
    "start_time": "2023-12-07T09:56:47.677Z"
   },
   {
    "duration": 33,
    "start_time": "2023-12-07T09:56:47.760Z"
   },
   {
    "duration": 32,
    "start_time": "2023-12-07T09:56:47.795Z"
   },
   {
    "duration": 69,
    "start_time": "2023-12-07T09:56:47.828Z"
   },
   {
    "duration": 232,
    "start_time": "2023-12-07T09:56:47.898Z"
   },
   {
    "duration": 367,
    "start_time": "2023-12-07T09:56:48.132Z"
   },
   {
    "duration": 8,
    "start_time": "2023-12-07T09:56:48.501Z"
   },
   {
    "duration": 17,
    "start_time": "2023-12-07T09:56:48.510Z"
   },
   {
    "duration": 67,
    "start_time": "2023-12-07T09:56:48.529Z"
   },
   {
    "duration": 0,
    "start_time": "2023-12-07T09:56:48.598Z"
   },
   {
    "duration": 0,
    "start_time": "2023-12-07T09:56:48.599Z"
   },
   {
    "duration": 6,
    "start_time": "2023-12-07T09:58:05.464Z"
   },
   {
    "duration": 16,
    "start_time": "2023-12-07T10:02:43.114Z"
   },
   {
    "duration": 1073,
    "start_time": "2023-12-07T10:02:50.144Z"
   },
   {
    "duration": 235,
    "start_time": "2023-12-07T10:02:51.218Z"
   },
   {
    "duration": 76,
    "start_time": "2023-12-07T10:02:51.454Z"
   },
   {
    "duration": 85,
    "start_time": "2023-12-07T10:02:51.532Z"
   },
   {
    "duration": 7,
    "start_time": "2023-12-07T10:02:51.618Z"
   },
   {
    "duration": 103,
    "start_time": "2023-12-07T10:02:51.627Z"
   },
   {
    "duration": 5,
    "start_time": "2023-12-07T10:02:51.732Z"
   },
   {
    "duration": 79,
    "start_time": "2023-12-07T10:02:51.739Z"
   },
   {
    "duration": 14,
    "start_time": "2023-12-07T10:02:51.820Z"
   },
   {
    "duration": 14,
    "start_time": "2023-12-07T10:02:51.836Z"
   },
   {
    "duration": 49,
    "start_time": "2023-12-07T10:02:51.852Z"
   },
   {
    "duration": 34,
    "start_time": "2023-12-07T10:02:51.902Z"
   },
   {
    "duration": 65,
    "start_time": "2023-12-07T10:02:51.938Z"
   },
   {
    "duration": 699,
    "start_time": "2023-12-07T10:02:52.004Z"
   },
   {
    "duration": 99,
    "start_time": "2023-12-07T10:02:52.705Z"
   },
   {
    "duration": 24,
    "start_time": "2023-12-07T10:02:52.806Z"
   },
   {
    "duration": 38,
    "start_time": "2023-12-07T10:02:52.832Z"
   },
   {
    "duration": 72,
    "start_time": "2023-12-07T10:02:52.871Z"
   },
   {
    "duration": 357,
    "start_time": "2023-12-07T10:02:52.944Z"
   },
   {
    "duration": 395,
    "start_time": "2023-12-07T10:02:53.302Z"
   },
   {
    "duration": 13,
    "start_time": "2023-12-07T10:02:53.699Z"
   },
   {
    "duration": 18,
    "start_time": "2023-12-07T10:02:53.714Z"
   },
   {
    "duration": 104,
    "start_time": "2023-12-07T10:02:53.734Z"
   },
   {
    "duration": 0,
    "start_time": "2023-12-07T10:02:53.840Z"
   },
   {
    "duration": 0,
    "start_time": "2023-12-07T10:02:53.841Z"
   },
   {
    "duration": 0,
    "start_time": "2023-12-07T10:02:53.842Z"
   },
   {
    "duration": 10,
    "start_time": "2023-12-07T10:13:07.743Z"
   },
   {
    "duration": 10,
    "start_time": "2023-12-07T10:13:44.903Z"
   },
   {
    "duration": 11,
    "start_time": "2023-12-07T10:14:06.964Z"
   },
   {
    "duration": 1053,
    "start_time": "2023-12-07T10:14:47.251Z"
   },
   {
    "duration": 219,
    "start_time": "2023-12-07T10:14:48.306Z"
   },
   {
    "duration": 70,
    "start_time": "2023-12-07T10:14:48.527Z"
   },
   {
    "duration": 69,
    "start_time": "2023-12-07T10:14:48.600Z"
   },
   {
    "duration": 24,
    "start_time": "2023-12-07T10:14:48.671Z"
   },
   {
    "duration": 99,
    "start_time": "2023-12-07T10:14:48.697Z"
   },
   {
    "duration": 6,
    "start_time": "2023-12-07T10:14:48.797Z"
   },
   {
    "duration": 63,
    "start_time": "2023-12-07T10:14:48.804Z"
   },
   {
    "duration": 18,
    "start_time": "2023-12-07T10:14:48.869Z"
   },
   {
    "duration": 10,
    "start_time": "2023-12-07T10:14:48.895Z"
   },
   {
    "duration": 21,
    "start_time": "2023-12-07T10:14:48.907Z"
   },
   {
    "duration": 30,
    "start_time": "2023-12-07T10:14:48.930Z"
   },
   {
    "duration": 57,
    "start_time": "2023-12-07T10:14:48.961Z"
   },
   {
    "duration": 631,
    "start_time": "2023-12-07T10:14:49.019Z"
   },
   {
    "duration": 102,
    "start_time": "2023-12-07T10:14:49.651Z"
   },
   {
    "duration": 40,
    "start_time": "2023-12-07T10:14:49.755Z"
   },
   {
    "duration": 46,
    "start_time": "2023-12-07T10:14:49.796Z"
   },
   {
    "duration": 100,
    "start_time": "2023-12-07T10:14:49.843Z"
   },
   {
    "duration": 376,
    "start_time": "2023-12-07T10:14:49.945Z"
   },
   {
    "duration": 351,
    "start_time": "2023-12-07T10:14:50.323Z"
   },
   {
    "duration": 19,
    "start_time": "2023-12-07T10:14:50.676Z"
   },
   {
    "duration": 27,
    "start_time": "2023-12-07T10:14:50.697Z"
   },
   {
    "duration": 79,
    "start_time": "2023-12-07T10:14:50.725Z"
   },
   {
    "duration": 0,
    "start_time": "2023-12-07T10:14:50.806Z"
   },
   {
    "duration": 0,
    "start_time": "2023-12-07T10:14:50.807Z"
   },
   {
    "duration": 0,
    "start_time": "2023-12-07T10:14:50.808Z"
   },
   {
    "duration": 10,
    "start_time": "2023-12-07T10:15:20.205Z"
   },
   {
    "duration": 9,
    "start_time": "2023-12-07T10:15:28.269Z"
   },
   {
    "duration": 6,
    "start_time": "2023-12-07T10:15:28.644Z"
   },
   {
    "duration": 9,
    "start_time": "2023-12-07T10:15:30.912Z"
   },
   {
    "duration": 1056,
    "start_time": "2023-12-07T10:15:37.718Z"
   },
   {
    "duration": 220,
    "start_time": "2023-12-07T10:15:38.776Z"
   },
   {
    "duration": 55,
    "start_time": "2023-12-07T10:15:38.998Z"
   },
   {
    "duration": 90,
    "start_time": "2023-12-07T10:15:39.055Z"
   },
   {
    "duration": 7,
    "start_time": "2023-12-07T10:15:39.146Z"
   },
   {
    "duration": 121,
    "start_time": "2023-12-07T10:15:39.155Z"
   },
   {
    "duration": 7,
    "start_time": "2023-12-07T10:15:39.277Z"
   },
   {
    "duration": 63,
    "start_time": "2023-12-07T10:15:39.285Z"
   },
   {
    "duration": 13,
    "start_time": "2023-12-07T10:15:39.349Z"
   },
   {
    "duration": 29,
    "start_time": "2023-12-07T10:15:39.364Z"
   },
   {
    "duration": 22,
    "start_time": "2023-12-07T10:15:39.394Z"
   },
   {
    "duration": 30,
    "start_time": "2023-12-07T10:15:39.417Z"
   },
   {
    "duration": 59,
    "start_time": "2023-12-07T10:15:39.449Z"
   },
   {
    "duration": 644,
    "start_time": "2023-12-07T10:15:39.510Z"
   },
   {
    "duration": 94,
    "start_time": "2023-12-07T10:15:40.156Z"
   },
   {
    "duration": 23,
    "start_time": "2023-12-07T10:15:40.251Z"
   },
   {
    "duration": 44,
    "start_time": "2023-12-07T10:15:40.281Z"
   },
   {
    "duration": 87,
    "start_time": "2023-12-07T10:15:40.326Z"
   },
   {
    "duration": 229,
    "start_time": "2023-12-07T10:15:40.414Z"
   },
   {
    "duration": 373,
    "start_time": "2023-12-07T10:15:40.644Z"
   },
   {
    "duration": 10,
    "start_time": "2023-12-07T10:15:41.018Z"
   },
   {
    "duration": 28,
    "start_time": "2023-12-07T10:15:41.029Z"
   },
   {
    "duration": 84,
    "start_time": "2023-12-07T10:15:41.058Z"
   },
   {
    "duration": 0,
    "start_time": "2023-12-07T10:15:41.143Z"
   },
   {
    "duration": 0,
    "start_time": "2023-12-07T10:15:41.144Z"
   },
   {
    "duration": 0,
    "start_time": "2023-12-07T10:15:41.145Z"
   },
   {
    "duration": 9,
    "start_time": "2023-12-07T10:15:49.267Z"
   },
   {
    "duration": 99,
    "start_time": "2023-12-07T10:16:16.737Z"
   },
   {
    "duration": 87,
    "start_time": "2023-12-07T10:16:40.320Z"
   },
   {
    "duration": 9,
    "start_time": "2023-12-07T10:16:42.423Z"
   },
   {
    "duration": 9,
    "start_time": "2023-12-07T10:18:01.096Z"
   },
   {
    "duration": 11,
    "start_time": "2023-12-07T10:33:04.442Z"
   },
   {
    "duration": 10,
    "start_time": "2023-12-07T10:34:03.399Z"
   },
   {
    "duration": 10,
    "start_time": "2023-12-07T10:34:09.992Z"
   },
   {
    "duration": 14,
    "start_time": "2023-12-07T10:45:11.505Z"
   },
   {
    "duration": 13,
    "start_time": "2023-12-07T10:45:23.208Z"
   },
   {
    "duration": 14,
    "start_time": "2023-12-07T10:45:55.107Z"
   },
   {
    "duration": 13,
    "start_time": "2023-12-07T10:46:01.150Z"
   },
   {
    "duration": 14,
    "start_time": "2023-12-07T10:46:23.792Z"
   },
   {
    "duration": 14,
    "start_time": "2023-12-07T10:46:53.119Z"
   },
   {
    "duration": 12,
    "start_time": "2023-12-07T10:47:21.806Z"
   },
   {
    "duration": 13,
    "start_time": "2023-12-07T10:47:28.697Z"
   },
   {
    "duration": 78,
    "start_time": "2023-12-07T10:55:49.892Z"
   },
   {
    "duration": 1286,
    "start_time": "2023-12-07T10:56:23.258Z"
   },
   {
    "duration": 33,
    "start_time": "2023-12-07T10:56:56.630Z"
   },
   {
    "duration": 39,
    "start_time": "2023-12-07T10:57:02.203Z"
   },
   {
    "duration": 10,
    "start_time": "2023-12-07T10:59:35.699Z"
   },
   {
    "duration": 10,
    "start_time": "2023-12-07T11:09:26.156Z"
   },
   {
    "duration": 53,
    "start_time": "2023-12-07T11:13:05.970Z"
   },
   {
    "duration": 12,
    "start_time": "2023-12-07T11:13:28.262Z"
   },
   {
    "duration": 11,
    "start_time": "2023-12-07T11:13:52.247Z"
   },
   {
    "duration": 78,
    "start_time": "2023-12-07T11:14:53.492Z"
   },
   {
    "duration": 68,
    "start_time": "2023-12-07T11:15:18.800Z"
   },
   {
    "duration": 70,
    "start_time": "2023-12-07T11:22:30.892Z"
   },
   {
    "duration": 77,
    "start_time": "2023-12-07T11:22:37.260Z"
   },
   {
    "duration": 65,
    "start_time": "2023-12-07T11:23:14.601Z"
   },
   {
    "duration": 70,
    "start_time": "2023-12-07T11:23:21.496Z"
   },
   {
    "duration": 79,
    "start_time": "2023-12-07T11:24:58.731Z"
   },
   {
    "duration": 72,
    "start_time": "2023-12-07T11:25:11.700Z"
   },
   {
    "duration": 68,
    "start_time": "2023-12-07T11:25:24.129Z"
   },
   {
    "duration": 77,
    "start_time": "2023-12-07T11:25:29.630Z"
   },
   {
    "duration": 75,
    "start_time": "2023-12-07T11:27:04.393Z"
   },
   {
    "duration": 84,
    "start_time": "2023-12-07T11:29:20.170Z"
   },
   {
    "duration": 92,
    "start_time": "2023-12-07T11:29:32.076Z"
   },
   {
    "duration": 82,
    "start_time": "2023-12-07T11:29:38.725Z"
   },
   {
    "duration": 82,
    "start_time": "2023-12-07T11:29:51.893Z"
   },
   {
    "duration": 86,
    "start_time": "2023-12-07T11:30:21.759Z"
   },
   {
    "duration": 77,
    "start_time": "2023-12-07T11:30:32.695Z"
   },
   {
    "duration": 75,
    "start_time": "2023-12-07T11:30:44.365Z"
   },
   {
    "duration": 76,
    "start_time": "2023-12-07T11:30:58.428Z"
   },
   {
    "duration": 83,
    "start_time": "2023-12-07T11:31:13.018Z"
   },
   {
    "duration": 90,
    "start_time": "2023-12-07T11:31:36.405Z"
   },
   {
    "duration": 89,
    "start_time": "2023-12-07T11:32:04.774Z"
   },
   {
    "duration": 84,
    "start_time": "2023-12-07T11:32:07.408Z"
   },
   {
    "duration": 67,
    "start_time": "2023-12-07T11:32:17.407Z"
   },
   {
    "duration": 73,
    "start_time": "2023-12-07T11:32:20.554Z"
   },
   {
    "duration": 76,
    "start_time": "2023-12-07T11:32:27.627Z"
   },
   {
    "duration": 77,
    "start_time": "2023-12-07T11:34:39.395Z"
   },
   {
    "duration": 1113,
    "start_time": "2023-12-07T11:34:48.103Z"
   },
   {
    "duration": 224,
    "start_time": "2023-12-07T11:34:49.217Z"
   },
   {
    "duration": 72,
    "start_time": "2023-12-07T11:34:49.443Z"
   },
   {
    "duration": 79,
    "start_time": "2023-12-07T11:34:49.517Z"
   },
   {
    "duration": 8,
    "start_time": "2023-12-07T11:34:49.597Z"
   },
   {
    "duration": 112,
    "start_time": "2023-12-07T11:34:49.606Z"
   },
   {
    "duration": 5,
    "start_time": "2023-12-07T11:34:49.720Z"
   },
   {
    "duration": 70,
    "start_time": "2023-12-07T11:34:49.726Z"
   },
   {
    "duration": 13,
    "start_time": "2023-12-07T11:34:49.798Z"
   },
   {
    "duration": 12,
    "start_time": "2023-12-07T11:34:49.813Z"
   },
   {
    "duration": 25,
    "start_time": "2023-12-07T11:34:49.827Z"
   },
   {
    "duration": 63,
    "start_time": "2023-12-07T11:34:49.854Z"
   },
   {
    "duration": 39,
    "start_time": "2023-12-07T11:34:49.918Z"
   },
   {
    "duration": 638,
    "start_time": "2023-12-07T11:34:49.958Z"
   },
   {
    "duration": 73,
    "start_time": "2023-12-07T11:34:50.598Z"
   },
   {
    "duration": 32,
    "start_time": "2023-12-07T11:34:50.672Z"
   },
   {
    "duration": 28,
    "start_time": "2023-12-07T11:34:50.705Z"
   },
   {
    "duration": 72,
    "start_time": "2023-12-07T11:34:50.735Z"
   },
   {
    "duration": 255,
    "start_time": "2023-12-07T11:34:50.808Z"
   },
   {
    "duration": 407,
    "start_time": "2023-12-07T11:34:51.065Z"
   },
   {
    "duration": 25,
    "start_time": "2023-12-07T11:34:51.473Z"
   },
   {
    "duration": 97,
    "start_time": "2023-12-07T11:34:51.499Z"
   },
   {
    "duration": 4,
    "start_time": "2023-12-07T11:34:51.598Z"
   },
   {
    "duration": 76,
    "start_time": "2023-12-07T11:35:54.980Z"
   },
   {
    "duration": 73,
    "start_time": "2023-12-07T11:36:05.052Z"
   },
   {
    "duration": 1036,
    "start_time": "2023-12-07T11:36:21.336Z"
   },
   {
    "duration": 232,
    "start_time": "2023-12-07T11:36:22.374Z"
   },
   {
    "duration": 62,
    "start_time": "2023-12-07T11:36:22.608Z"
   },
   {
    "duration": 81,
    "start_time": "2023-12-07T11:36:22.682Z"
   },
   {
    "duration": 8,
    "start_time": "2023-12-07T11:36:22.764Z"
   },
   {
    "duration": 87,
    "start_time": "2023-12-07T11:36:22.781Z"
   },
   {
    "duration": 4,
    "start_time": "2023-12-07T11:36:22.870Z"
   },
   {
    "duration": 65,
    "start_time": "2023-12-07T11:36:22.881Z"
   },
   {
    "duration": 13,
    "start_time": "2023-12-07T11:36:22.947Z"
   },
   {
    "duration": 23,
    "start_time": "2023-12-07T11:36:22.962Z"
   },
   {
    "duration": 27,
    "start_time": "2023-12-07T11:36:22.987Z"
   },
   {
    "duration": 30,
    "start_time": "2023-12-07T11:36:23.015Z"
   },
   {
    "duration": 61,
    "start_time": "2023-12-07T11:36:23.046Z"
   },
   {
    "duration": 637,
    "start_time": "2023-12-07T11:36:23.109Z"
   },
   {
    "duration": 87,
    "start_time": "2023-12-07T11:36:23.748Z"
   },
   {
    "duration": 24,
    "start_time": "2023-12-07T11:36:23.837Z"
   },
   {
    "duration": 51,
    "start_time": "2023-12-07T11:36:23.863Z"
   },
   {
    "duration": 55,
    "start_time": "2023-12-07T11:36:23.915Z"
   },
   {
    "duration": 253,
    "start_time": "2023-12-07T11:36:23.981Z"
   },
   {
    "duration": 382,
    "start_time": "2023-12-07T11:36:24.236Z"
   },
   {
    "duration": 14,
    "start_time": "2023-12-07T11:36:24.619Z"
   },
   {
    "duration": 100,
    "start_time": "2023-12-07T11:36:24.634Z"
   },
   {
    "duration": 4,
    "start_time": "2023-12-07T11:36:24.735Z"
   },
   {
    "duration": 71,
    "start_time": "2023-12-07T11:36:24.740Z"
   },
   {
    "duration": 160,
    "start_time": "2023-12-07T11:37:49.237Z"
   },
   {
    "duration": 70,
    "start_time": "2023-12-07T11:38:04.097Z"
   },
   {
    "duration": 87,
    "start_time": "2023-12-07T11:38:13.105Z"
   },
   {
    "duration": 84,
    "start_time": "2023-12-07T11:38:31.003Z"
   },
   {
    "duration": 72,
    "start_time": "2023-12-07T11:38:36.341Z"
   },
   {
    "duration": 78,
    "start_time": "2023-12-07T11:38:58.546Z"
   },
   {
    "duration": 78,
    "start_time": "2023-12-07T11:39:08.655Z"
   },
   {
    "duration": 79,
    "start_time": "2023-12-07T11:39:21.415Z"
   },
   {
    "duration": 81,
    "start_time": "2023-12-07T11:41:25.623Z"
   },
   {
    "duration": 1475,
    "start_time": "2023-12-07T11:41:33.831Z"
   },
   {
    "duration": 76,
    "start_time": "2023-12-07T11:41:50.892Z"
   },
   {
    "duration": 86,
    "start_time": "2023-12-07T11:41:59.760Z"
   },
   {
    "duration": 86,
    "start_time": "2023-12-07T11:42:07.564Z"
   },
   {
    "duration": 84,
    "start_time": "2023-12-07T11:43:57.137Z"
   },
   {
    "duration": 81,
    "start_time": "2023-12-07T11:44:14.158Z"
   },
   {
    "duration": 84,
    "start_time": "2023-12-07T11:55:47.448Z"
   },
   {
    "duration": 115,
    "start_time": "2023-12-07T11:57:05.582Z"
   },
   {
    "duration": 86,
    "start_time": "2023-12-07T11:57:13.419Z"
   },
   {
    "duration": 402,
    "start_time": "2023-12-07T12:14:12.431Z"
   },
   {
    "duration": 26,
    "start_time": "2023-12-07T12:58:46.368Z"
   },
   {
    "duration": 379,
    "start_time": "2023-12-07T13:00:41.956Z"
   },
   {
    "duration": 390,
    "start_time": "2023-12-07T13:02:59.248Z"
   },
   {
    "duration": 431,
    "start_time": "2023-12-07T13:09:43.047Z"
   },
   {
    "duration": 410,
    "start_time": "2023-12-07T13:10:15.135Z"
   },
   {
    "duration": 1156,
    "start_time": "2023-12-07T13:11:01.861Z"
   },
   {
    "duration": 246,
    "start_time": "2023-12-07T13:11:03.018Z"
   },
   {
    "duration": 68,
    "start_time": "2023-12-07T13:11:03.265Z"
   },
   {
    "duration": 85,
    "start_time": "2023-12-07T13:11:03.335Z"
   },
   {
    "duration": 7,
    "start_time": "2023-12-07T13:11:03.421Z"
   },
   {
    "duration": 95,
    "start_time": "2023-12-07T13:11:03.429Z"
   },
   {
    "duration": 7,
    "start_time": "2023-12-07T13:11:03.526Z"
   },
   {
    "duration": 78,
    "start_time": "2023-12-07T13:11:03.534Z"
   },
   {
    "duration": 14,
    "start_time": "2023-12-07T13:11:03.614Z"
   },
   {
    "duration": 10,
    "start_time": "2023-12-07T13:11:03.631Z"
   },
   {
    "duration": 49,
    "start_time": "2023-12-07T13:11:03.642Z"
   },
   {
    "duration": 31,
    "start_time": "2023-12-07T13:11:03.692Z"
   },
   {
    "duration": 39,
    "start_time": "2023-12-07T13:11:03.724Z"
   },
   {
    "duration": 661,
    "start_time": "2023-12-07T13:11:03.764Z"
   },
   {
    "duration": 91,
    "start_time": "2023-12-07T13:11:04.426Z"
   },
   {
    "duration": 22,
    "start_time": "2023-12-07T13:11:04.519Z"
   },
   {
    "duration": 49,
    "start_time": "2023-12-07T13:11:04.542Z"
   },
   {
    "duration": 53,
    "start_time": "2023-12-07T13:11:04.594Z"
   },
   {
    "duration": 247,
    "start_time": "2023-12-07T13:11:04.648Z"
   },
   {
    "duration": 352,
    "start_time": "2023-12-07T13:11:04.897Z"
   },
   {
    "duration": 14,
    "start_time": "2023-12-07T13:11:05.250Z"
   },
   {
    "duration": 508,
    "start_time": "2023-12-07T13:11:05.266Z"
   },
   {
    "duration": 0,
    "start_time": "2023-12-07T13:11:05.775Z"
   },
   {
    "duration": 92,
    "start_time": "2023-12-07T13:16:50.773Z"
   },
   {
    "duration": 86,
    "start_time": "2023-12-07T13:22:20.636Z"
   },
   {
    "duration": 86,
    "start_time": "2023-12-07T13:22:35.326Z"
   },
   {
    "duration": 87,
    "start_time": "2023-12-07T13:22:48.025Z"
   },
   {
    "duration": 84,
    "start_time": "2023-12-07T13:24:20.488Z"
   },
   {
    "duration": 92,
    "start_time": "2023-12-07T14:20:24.564Z"
   },
   {
    "duration": 88,
    "start_time": "2023-12-07T14:24:27.874Z"
   },
   {
    "duration": 89,
    "start_time": "2023-12-07T14:24:39.787Z"
   },
   {
    "duration": 54,
    "start_time": "2023-12-07T18:58:46.887Z"
   },
   {
    "duration": 13,
    "start_time": "2023-12-07T18:59:45.334Z"
   },
   {
    "duration": 1279,
    "start_time": "2023-12-07T18:59:55.631Z"
   },
   {
    "duration": 745,
    "start_time": "2023-12-07T18:59:56.912Z"
   },
   {
    "duration": 66,
    "start_time": "2023-12-07T18:59:57.659Z"
   },
   {
    "duration": 78,
    "start_time": "2023-12-07T18:59:57.728Z"
   },
   {
    "duration": 7,
    "start_time": "2023-12-07T18:59:57.808Z"
   },
   {
    "duration": 94,
    "start_time": "2023-12-07T18:59:57.816Z"
   },
   {
    "duration": 5,
    "start_time": "2023-12-07T18:59:57.911Z"
   },
   {
    "duration": 69,
    "start_time": "2023-12-07T18:59:57.917Z"
   },
   {
    "duration": 16,
    "start_time": "2023-12-07T18:59:57.987Z"
   },
   {
    "duration": 20,
    "start_time": "2023-12-07T18:59:58.005Z"
   },
   {
    "duration": 41,
    "start_time": "2023-12-07T18:59:58.027Z"
   },
   {
    "duration": 31,
    "start_time": "2023-12-07T18:59:58.070Z"
   },
   {
    "duration": 42,
    "start_time": "2023-12-07T18:59:58.102Z"
   },
   {
    "duration": 656,
    "start_time": "2023-12-07T18:59:58.146Z"
   },
   {
    "duration": 77,
    "start_time": "2023-12-07T18:59:58.804Z"
   },
   {
    "duration": 33,
    "start_time": "2023-12-07T18:59:58.883Z"
   },
   {
    "duration": 34,
    "start_time": "2023-12-07T18:59:58.918Z"
   },
   {
    "duration": 67,
    "start_time": "2023-12-07T18:59:58.954Z"
   },
   {
    "duration": 242,
    "start_time": "2023-12-07T18:59:59.023Z"
   },
   {
    "duration": 367,
    "start_time": "2023-12-07T18:59:59.266Z"
   },
   {
    "duration": 18,
    "start_time": "2023-12-07T18:59:59.635Z"
   },
   {
    "duration": 118,
    "start_time": "2023-12-07T18:59:59.654Z"
   },
   {
    "duration": 5,
    "start_time": "2023-12-07T18:59:59.774Z"
   },
   {
    "duration": 98,
    "start_time": "2023-12-07T19:00:28.009Z"
   },
   {
    "duration": 94,
    "start_time": "2023-12-07T19:00:52.056Z"
   },
   {
    "duration": 91,
    "start_time": "2023-12-07T19:01:42.037Z"
   },
   {
    "duration": 91,
    "start_time": "2023-12-07T19:01:53.812Z"
   },
   {
    "duration": 93,
    "start_time": "2023-12-07T19:05:53.745Z"
   },
   {
    "duration": 89,
    "start_time": "2023-12-07T19:06:04.431Z"
   },
   {
    "duration": 91,
    "start_time": "2023-12-07T19:06:40.206Z"
   },
   {
    "duration": 904,
    "start_time": "2023-12-07T19:07:18.457Z"
   },
   {
    "duration": 797,
    "start_time": "2023-12-07T19:08:04.665Z"
   },
   {
    "duration": 169,
    "start_time": "2023-12-07T19:08:12.888Z"
   },
   {
    "duration": 13,
    "start_time": "2023-12-07T19:13:42.775Z"
   },
   {
    "duration": 157,
    "start_time": "2023-12-07T19:13:58.279Z"
   },
   {
    "duration": 203,
    "start_time": "2023-12-07T19:20:34.610Z"
   },
   {
    "duration": 201,
    "start_time": "2023-12-07T19:21:49.608Z"
   },
   {
    "duration": 190,
    "start_time": "2023-12-07T19:25:36.593Z"
   },
   {
    "duration": 18,
    "start_time": "2023-12-07T19:28:18.271Z"
   },
   {
    "duration": 202,
    "start_time": "2023-12-07T19:28:38.159Z"
   },
   {
    "duration": 9,
    "start_time": "2023-12-07T19:29:13.426Z"
   },
   {
    "duration": 169,
    "start_time": "2023-12-07T19:29:46.564Z"
   },
   {
    "duration": 181,
    "start_time": "2023-12-07T19:31:01.580Z"
   },
   {
    "duration": 183,
    "start_time": "2023-12-07T19:32:55.894Z"
   },
   {
    "duration": 375,
    "start_time": "2023-12-07T19:34:56.638Z"
   },
   {
    "duration": 367,
    "start_time": "2023-12-07T19:35:20.883Z"
   },
   {
    "duration": 376,
    "start_time": "2023-12-07T19:35:35.390Z"
   },
   {
    "duration": 318,
    "start_time": "2023-12-07T19:36:44.123Z"
   },
   {
    "duration": 220,
    "start_time": "2023-12-07T19:36:53.014Z"
   },
   {
    "duration": 239,
    "start_time": "2023-12-07T19:37:21.673Z"
   },
   {
    "duration": 220,
    "start_time": "2023-12-07T19:37:32.406Z"
   },
   {
    "duration": 370,
    "start_time": "2023-12-07T19:37:42.987Z"
   },
   {
    "duration": 358,
    "start_time": "2023-12-07T19:37:51.843Z"
   },
   {
    "duration": 403,
    "start_time": "2023-12-07T19:40:41.122Z"
   },
   {
    "duration": 195,
    "start_time": "2023-12-07T19:42:07.906Z"
   },
   {
    "duration": 183,
    "start_time": "2023-12-07T19:42:30.985Z"
   },
   {
    "duration": 176,
    "start_time": "2023-12-07T19:42:41.180Z"
   },
   {
    "duration": 181,
    "start_time": "2023-12-07T19:42:55.165Z"
   },
   {
    "duration": 293,
    "start_time": "2023-12-07T19:43:04.684Z"
   },
   {
    "duration": 192,
    "start_time": "2023-12-07T19:43:37.379Z"
   },
   {
    "duration": 190,
    "start_time": "2023-12-07T19:43:47.360Z"
   },
   {
    "duration": 92,
    "start_time": "2023-12-07T19:44:29.986Z"
   },
   {
    "duration": 193,
    "start_time": "2023-12-07T19:44:47.263Z"
   },
   {
    "duration": 174,
    "start_time": "2023-12-07T19:44:58.544Z"
   },
   {
    "duration": 188,
    "start_time": "2023-12-07T19:45:22.140Z"
   },
   {
    "duration": 211,
    "start_time": "2023-12-07T19:45:35.850Z"
   },
   {
    "duration": 199,
    "start_time": "2023-12-07T19:45:58.223Z"
   },
   {
    "duration": 241,
    "start_time": "2023-12-07T19:46:31.253Z"
   },
   {
    "duration": 54,
    "start_time": "2023-12-08T08:19:35.093Z"
   },
   {
    "duration": 1448,
    "start_time": "2023-12-08T08:19:43.129Z"
   },
   {
    "duration": 600,
    "start_time": "2023-12-08T08:19:44.579Z"
   },
   {
    "duration": 77,
    "start_time": "2023-12-08T08:19:45.181Z"
   },
   {
    "duration": 92,
    "start_time": "2023-12-08T08:19:45.260Z"
   },
   {
    "duration": 8,
    "start_time": "2023-12-08T08:19:45.353Z"
   },
   {
    "duration": 105,
    "start_time": "2023-12-08T08:19:45.362Z"
   },
   {
    "duration": 6,
    "start_time": "2023-12-08T08:19:45.469Z"
   },
   {
    "duration": 87,
    "start_time": "2023-12-08T08:19:45.476Z"
   },
   {
    "duration": 15,
    "start_time": "2023-12-08T08:19:45.564Z"
   },
   {
    "duration": 11,
    "start_time": "2023-12-08T08:19:45.582Z"
   },
   {
    "duration": 47,
    "start_time": "2023-12-08T08:19:45.594Z"
   },
   {
    "duration": 35,
    "start_time": "2023-12-08T08:19:45.642Z"
   },
   {
    "duration": 68,
    "start_time": "2023-12-08T08:19:45.679Z"
   },
   {
    "duration": 716,
    "start_time": "2023-12-08T08:19:45.749Z"
   },
   {
    "duration": 90,
    "start_time": "2023-12-08T08:19:46.467Z"
   },
   {
    "duration": 32,
    "start_time": "2023-12-08T08:19:46.558Z"
   },
   {
    "duration": 47,
    "start_time": "2023-12-08T08:19:46.592Z"
   },
   {
    "duration": 86,
    "start_time": "2023-12-08T08:19:46.641Z"
   },
   {
    "duration": 292,
    "start_time": "2023-12-08T08:19:46.729Z"
   },
   {
    "duration": 461,
    "start_time": "2023-12-08T08:19:47.022Z"
   },
   {
    "duration": 16,
    "start_time": "2023-12-08T08:19:47.485Z"
   },
   {
    "duration": 121,
    "start_time": "2023-12-08T08:19:47.503Z"
   },
   {
    "duration": 238,
    "start_time": "2023-12-08T08:19:47.626Z"
   },
   {
    "duration": 329,
    "start_time": "2023-12-08T08:19:47.866Z"
   },
   {
    "duration": 83,
    "start_time": "2023-12-08T08:19:48.196Z"
   },
   {
    "duration": 5,
    "start_time": "2023-12-08T08:19:59.184Z"
   },
   {
    "duration": 12,
    "start_time": "2023-12-08T08:20:07.402Z"
   },
   {
    "duration": 1452,
    "start_time": "2023-12-08T08:21:49.673Z"
   },
   {
    "duration": 10,
    "start_time": "2023-12-08T08:21:56.277Z"
   },
   {
    "duration": 10,
    "start_time": "2023-12-08T08:22:03.095Z"
   },
   {
    "duration": 11,
    "start_time": "2023-12-08T08:23:42.521Z"
   },
   {
    "duration": 9,
    "start_time": "2023-12-08T08:25:28.791Z"
   },
   {
    "duration": 10,
    "start_time": "2023-12-08T08:25:36.835Z"
   },
   {
    "duration": 75,
    "start_time": "2023-12-08T08:28:48.964Z"
   },
   {
    "duration": 5,
    "start_time": "2023-12-08T08:29:44.740Z"
   },
   {
    "duration": 4,
    "start_time": "2023-12-08T08:30:03.095Z"
   },
   {
    "duration": 10,
    "start_time": "2023-12-08T08:31:56.647Z"
   },
   {
    "duration": 5,
    "start_time": "2023-12-08T08:32:05.872Z"
   },
   {
    "duration": 5,
    "start_time": "2023-12-08T08:32:21.740Z"
   },
   {
    "duration": 6,
    "start_time": "2023-12-08T08:32:35.778Z"
   },
   {
    "duration": 6,
    "start_time": "2023-12-08T08:33:02.507Z"
   },
   {
    "duration": 5,
    "start_time": "2023-12-08T08:33:08.210Z"
   },
   {
    "duration": 5,
    "start_time": "2023-12-08T08:33:17.992Z"
   },
   {
    "duration": 5,
    "start_time": "2023-12-08T08:33:22.573Z"
   },
   {
    "duration": 9,
    "start_time": "2023-12-08T08:37:40.006Z"
   },
   {
    "duration": 19,
    "start_time": "2023-12-08T08:37:46.579Z"
   },
   {
    "duration": 16,
    "start_time": "2023-12-08T08:39:08.355Z"
   },
   {
    "duration": 22,
    "start_time": "2023-12-08T08:57:10.793Z"
   },
   {
    "duration": 24,
    "start_time": "2023-12-08T08:58:20.607Z"
   },
   {
    "duration": 241,
    "start_time": "2023-12-08T09:00:41.384Z"
   },
   {
    "duration": 247,
    "start_time": "2023-12-08T09:06:40.984Z"
   },
   {
    "duration": 84,
    "start_time": "2023-12-08T09:08:18.970Z"
   },
   {
    "duration": 255,
    "start_time": "2023-12-08T09:08:27.826Z"
   },
   {
    "duration": 226,
    "start_time": "2023-12-08T09:10:11.058Z"
   },
   {
    "duration": 485,
    "start_time": "2023-12-08T09:10:35.370Z"
   },
   {
    "duration": 289,
    "start_time": "2023-12-08T09:13:53.001Z"
   },
   {
    "duration": 109,
    "start_time": "2023-12-08T09:14:06.731Z"
   },
   {
    "duration": 279,
    "start_time": "2023-12-08T09:14:36.864Z"
   },
   {
    "duration": 279,
    "start_time": "2023-12-08T09:14:49.796Z"
   },
   {
    "duration": 347,
    "start_time": "2023-12-08T09:15:40.725Z"
   },
   {
    "duration": 266,
    "start_time": "2023-12-08T09:17:48.869Z"
   },
   {
    "duration": 168,
    "start_time": "2023-12-08T09:18:00.338Z"
   },
   {
    "duration": 16,
    "start_time": "2023-12-08T09:18:56.207Z"
   },
   {
    "duration": 602,
    "start_time": "2023-12-08T09:21:08.698Z"
   },
   {
    "duration": 1249,
    "start_time": "2023-12-08T09:21:16.418Z"
   },
   {
    "duration": 237,
    "start_time": "2023-12-08T09:21:17.669Z"
   },
   {
    "duration": 85,
    "start_time": "2023-12-08T09:21:17.908Z"
   },
   {
    "duration": 107,
    "start_time": "2023-12-08T09:21:17.996Z"
   },
   {
    "duration": 19,
    "start_time": "2023-12-08T09:21:18.104Z"
   },
   {
    "duration": 109,
    "start_time": "2023-12-08T09:21:18.125Z"
   },
   {
    "duration": 6,
    "start_time": "2023-12-08T09:21:18.235Z"
   },
   {
    "duration": 79,
    "start_time": "2023-12-08T09:21:18.243Z"
   },
   {
    "duration": 15,
    "start_time": "2023-12-08T09:21:18.324Z"
   },
   {
    "duration": 17,
    "start_time": "2023-12-08T09:21:18.343Z"
   },
   {
    "duration": 32,
    "start_time": "2023-12-08T09:21:18.362Z"
   },
   {
    "duration": 80,
    "start_time": "2023-12-08T09:21:18.395Z"
   },
   {
    "duration": 69,
    "start_time": "2023-12-08T09:21:18.477Z"
   },
   {
    "duration": 740,
    "start_time": "2023-12-08T09:21:18.547Z"
   },
   {
    "duration": 93,
    "start_time": "2023-12-08T09:21:19.289Z"
   },
   {
    "duration": 26,
    "start_time": "2023-12-08T09:21:19.384Z"
   },
   {
    "duration": 34,
    "start_time": "2023-12-08T09:21:19.421Z"
   },
   {
    "duration": 117,
    "start_time": "2023-12-08T09:21:19.458Z"
   },
   {
    "duration": 297,
    "start_time": "2023-12-08T09:21:19.577Z"
   },
   {
    "duration": 462,
    "start_time": "2023-12-08T09:21:19.876Z"
   },
   {
    "duration": 14,
    "start_time": "2023-12-08T09:21:20.340Z"
   },
   {
    "duration": 122,
    "start_time": "2023-12-08T09:21:20.356Z"
   },
   {
    "duration": 262,
    "start_time": "2023-12-08T09:21:20.479Z"
   },
   {
    "duration": 343,
    "start_time": "2023-12-08T09:21:20.743Z"
   },
   {
    "duration": 12,
    "start_time": "2023-12-08T09:21:21.088Z"
   },
   {
    "duration": 48,
    "start_time": "2023-12-08T09:21:21.102Z"
   },
   {
    "duration": 35,
    "start_time": "2023-12-08T09:21:21.152Z"
   },
   {
    "duration": 102,
    "start_time": "2023-12-08T09:21:21.192Z"
   },
   {
    "duration": 120,
    "start_time": "2023-12-08T09:21:21.296Z"
   },
   {
    "duration": 609,
    "start_time": "2023-12-08T09:24:22.955Z"
   },
   {
    "duration": 1186,
    "start_time": "2023-12-08T09:26:27.447Z"
   },
   {
    "duration": 234,
    "start_time": "2023-12-08T09:26:28.635Z"
   },
   {
    "duration": 81,
    "start_time": "2023-12-08T09:26:28.871Z"
   },
   {
    "duration": 94,
    "start_time": "2023-12-08T09:26:28.953Z"
   },
   {
    "duration": 8,
    "start_time": "2023-12-08T09:26:29.049Z"
   },
   {
    "duration": 104,
    "start_time": "2023-12-08T09:26:29.059Z"
   },
   {
    "duration": 6,
    "start_time": "2023-12-08T09:26:29.165Z"
   },
   {
    "duration": 81,
    "start_time": "2023-12-08T09:26:29.173Z"
   },
   {
    "duration": 15,
    "start_time": "2023-12-08T09:26:29.255Z"
   },
   {
    "duration": 30,
    "start_time": "2023-12-08T09:26:29.272Z"
   },
   {
    "duration": 30,
    "start_time": "2023-12-08T09:26:29.304Z"
   },
   {
    "duration": 35,
    "start_time": "2023-12-08T09:26:29.336Z"
   },
   {
    "duration": 58,
    "start_time": "2023-12-08T09:26:29.373Z"
   },
   {
    "duration": 749,
    "start_time": "2023-12-08T09:26:29.434Z"
   },
   {
    "duration": 93,
    "start_time": "2023-12-08T09:26:30.185Z"
   },
   {
    "duration": 29,
    "start_time": "2023-12-08T09:26:30.280Z"
   },
   {
    "duration": 126,
    "start_time": "2023-12-08T09:26:30.323Z"
   },
   {
    "duration": 148,
    "start_time": "2023-12-08T09:26:30.451Z"
   },
   {
    "duration": 343,
    "start_time": "2023-12-08T09:26:30.600Z"
   },
   {
    "duration": 445,
    "start_time": "2023-12-08T09:26:30.945Z"
   },
   {
    "duration": 13,
    "start_time": "2023-12-08T09:26:31.391Z"
   },
   {
    "duration": 251,
    "start_time": "2023-12-08T09:26:31.406Z"
   },
   {
    "duration": 436,
    "start_time": "2023-12-08T09:26:31.659Z"
   },
   {
    "duration": 318,
    "start_time": "2023-12-08T09:26:32.097Z"
   },
   {
    "duration": 14,
    "start_time": "2023-12-08T09:26:32.417Z"
   },
   {
    "duration": 19,
    "start_time": "2023-12-08T09:26:32.432Z"
   },
   {
    "duration": 38,
    "start_time": "2023-12-08T09:26:32.453Z"
   },
   {
    "duration": 53,
    "start_time": "2023-12-08T09:26:32.493Z"
   },
   {
    "duration": 120,
    "start_time": "2023-12-08T09:26:32.548Z"
   },
   {
    "duration": 20,
    "start_time": "2023-12-08T09:30:09.179Z"
   },
   {
    "duration": 166,
    "start_time": "2023-12-08T09:30:51.234Z"
   },
   {
    "duration": 808,
    "start_time": "2023-12-08T09:31:25.142Z"
   },
   {
    "duration": 1549,
    "start_time": "2023-12-08T09:33:14.143Z"
   },
   {
    "duration": 4268,
    "start_time": "2023-12-08T09:36:36.405Z"
   },
   {
    "duration": 75,
    "start_time": "2023-12-08T09:37:28.574Z"
   },
   {
    "duration": 85,
    "start_time": "2023-12-08T09:37:42.799Z"
   },
   {
    "duration": 4474,
    "start_time": "2023-12-08T09:39:26.504Z"
   },
   {
    "duration": 85,
    "start_time": "2023-12-08T09:40:19.297Z"
   },
   {
    "duration": 73,
    "start_time": "2023-12-08T09:40:23.893Z"
   },
   {
    "duration": 1584,
    "start_time": "2023-12-08T09:40:28.466Z"
   },
   {
    "duration": 115,
    "start_time": "2023-12-08T09:41:00.319Z"
   },
   {
    "duration": 82,
    "start_time": "2023-12-08T09:41:13.535Z"
   },
   {
    "duration": 1673,
    "start_time": "2023-12-08T09:41:43.617Z"
   },
   {
    "duration": 1618,
    "start_time": "2023-12-08T09:42:26.085Z"
   },
   {
    "duration": 1314,
    "start_time": "2023-12-08T09:42:38.091Z"
   },
   {
    "duration": 262,
    "start_time": "2023-12-08T09:42:39.407Z"
   },
   {
    "duration": 91,
    "start_time": "2023-12-08T09:42:39.670Z"
   },
   {
    "duration": 94,
    "start_time": "2023-12-08T09:42:39.764Z"
   },
   {
    "duration": 8,
    "start_time": "2023-12-08T09:42:39.860Z"
   },
   {
    "duration": 131,
    "start_time": "2023-12-08T09:42:39.869Z"
   },
   {
    "duration": 6,
    "start_time": "2023-12-08T09:42:40.001Z"
   },
   {
    "duration": 127,
    "start_time": "2023-12-08T09:42:40.009Z"
   },
   {
    "duration": 15,
    "start_time": "2023-12-08T09:42:40.138Z"
   },
   {
    "duration": 28,
    "start_time": "2023-12-08T09:42:40.156Z"
   },
   {
    "duration": 68,
    "start_time": "2023-12-08T09:42:40.185Z"
   },
   {
    "duration": 36,
    "start_time": "2023-12-08T09:42:40.255Z"
   },
   {
    "duration": 114,
    "start_time": "2023-12-08T09:42:40.293Z"
   },
   {
    "duration": 1948,
    "start_time": "2023-12-08T09:42:40.409Z"
   },
   {
    "duration": 113,
    "start_time": "2023-12-08T09:42:42.359Z"
   },
   {
    "duration": 26,
    "start_time": "2023-12-08T09:42:42.475Z"
   },
   {
    "duration": 73,
    "start_time": "2023-12-08T09:42:42.503Z"
   },
   {
    "duration": 119,
    "start_time": "2023-12-08T09:42:42.578Z"
   },
   {
    "duration": 300,
    "start_time": "2023-12-08T09:42:42.699Z"
   },
   {
    "duration": 582,
    "start_time": "2023-12-08T09:42:43.001Z"
   },
   {
    "duration": 15,
    "start_time": "2023-12-08T09:42:43.584Z"
   },
   {
    "duration": 135,
    "start_time": "2023-12-08T09:42:43.601Z"
   },
   {
    "duration": 251,
    "start_time": "2023-12-08T09:42:43.738Z"
   },
   {
    "duration": 284,
    "start_time": "2023-12-08T09:42:43.991Z"
   },
   {
    "duration": 12,
    "start_time": "2023-12-08T09:42:44.277Z"
   },
   {
    "duration": 8,
    "start_time": "2023-12-08T09:42:44.290Z"
   },
   {
    "duration": 47,
    "start_time": "2023-12-08T09:42:44.300Z"
   },
   {
    "duration": 33,
    "start_time": "2023-12-08T09:42:44.351Z"
   },
   {
    "duration": 134,
    "start_time": "2023-12-08T09:42:44.386Z"
   },
   {
    "duration": 269,
    "start_time": "2023-12-08T09:43:36.280Z"
   },
   {
    "duration": 1736,
    "start_time": "2023-12-08T09:44:10.144Z"
   },
   {
    "duration": 4384,
    "start_time": "2023-12-08T09:44:31.085Z"
   },
   {
    "duration": 1232,
    "start_time": "2023-12-08T09:44:44.254Z"
   },
   {
    "duration": 263,
    "start_time": "2023-12-08T09:44:45.488Z"
   },
   {
    "duration": 84,
    "start_time": "2023-12-08T09:44:45.752Z"
   },
   {
    "duration": 94,
    "start_time": "2023-12-08T09:44:45.840Z"
   },
   {
    "duration": 12,
    "start_time": "2023-12-08T09:44:45.936Z"
   },
   {
    "duration": 118,
    "start_time": "2023-12-08T09:44:45.950Z"
   },
   {
    "duration": 7,
    "start_time": "2023-12-08T09:44:46.070Z"
   },
   {
    "duration": 87,
    "start_time": "2023-12-08T09:44:46.078Z"
   },
   {
    "duration": 15,
    "start_time": "2023-12-08T09:44:46.167Z"
   },
   {
    "duration": 14,
    "start_time": "2023-12-08T09:44:46.186Z"
   },
   {
    "duration": 67,
    "start_time": "2023-12-08T09:44:46.201Z"
   },
   {
    "duration": 38,
    "start_time": "2023-12-08T09:44:46.269Z"
   },
   {
    "duration": 67,
    "start_time": "2023-12-08T09:44:46.309Z"
   },
   {
    "duration": 4335,
    "start_time": "2023-12-08T09:44:46.378Z"
   },
   {
    "duration": 98,
    "start_time": "2023-12-08T09:44:50.716Z"
   },
   {
    "duration": 41,
    "start_time": "2023-12-08T09:44:50.815Z"
   },
   {
    "duration": 62,
    "start_time": "2023-12-08T09:44:50.857Z"
   },
   {
    "duration": 80,
    "start_time": "2023-12-08T09:44:50.921Z"
   },
   {
    "duration": 308,
    "start_time": "2023-12-08T09:44:51.002Z"
   },
   {
    "duration": 493,
    "start_time": "2023-12-08T09:44:51.312Z"
   },
   {
    "duration": 29,
    "start_time": "2023-12-08T09:44:51.807Z"
   },
   {
    "duration": 144,
    "start_time": "2023-12-08T09:44:51.838Z"
   },
   {
    "duration": 256,
    "start_time": "2023-12-08T09:44:51.984Z"
   },
   {
    "duration": 256,
    "start_time": "2023-12-08T09:44:52.243Z"
   },
   {
    "duration": 11,
    "start_time": "2023-12-08T09:44:52.500Z"
   },
   {
    "duration": 11,
    "start_time": "2023-12-08T09:44:52.513Z"
   },
   {
    "duration": 48,
    "start_time": "2023-12-08T09:44:52.526Z"
   },
   {
    "duration": 46,
    "start_time": "2023-12-08T09:44:52.577Z"
   },
   {
    "duration": 133,
    "start_time": "2023-12-08T09:44:52.626Z"
   },
   {
    "duration": 1869,
    "start_time": "2023-12-08T09:49:22.206Z"
   },
   {
    "duration": 1610,
    "start_time": "2023-12-08T09:49:41.395Z"
   },
   {
    "duration": 1748,
    "start_time": "2023-12-08T09:49:55.272Z"
   },
   {
    "duration": 1635,
    "start_time": "2023-12-08T09:50:12.396Z"
   },
   {
    "duration": 1285,
    "start_time": "2023-12-08T09:50:40.870Z"
   },
   {
    "duration": 254,
    "start_time": "2023-12-08T09:50:42.157Z"
   },
   {
    "duration": 89,
    "start_time": "2023-12-08T09:50:42.412Z"
   },
   {
    "duration": 113,
    "start_time": "2023-12-08T09:50:42.504Z"
   },
   {
    "duration": 15,
    "start_time": "2023-12-08T09:50:42.619Z"
   },
   {
    "duration": 148,
    "start_time": "2023-12-08T09:50:42.636Z"
   },
   {
    "duration": 8,
    "start_time": "2023-12-08T09:50:42.786Z"
   },
   {
    "duration": 103,
    "start_time": "2023-12-08T09:50:42.796Z"
   },
   {
    "duration": 24,
    "start_time": "2023-12-08T09:50:42.901Z"
   },
   {
    "duration": 17,
    "start_time": "2023-12-08T09:50:42.928Z"
   },
   {
    "duration": 25,
    "start_time": "2023-12-08T09:50:42.947Z"
   },
   {
    "duration": 74,
    "start_time": "2023-12-08T09:50:42.973Z"
   },
   {
    "duration": 92,
    "start_time": "2023-12-08T09:50:43.049Z"
   },
   {
    "duration": 1886,
    "start_time": "2023-12-08T09:50:43.144Z"
   },
   {
    "duration": 118,
    "start_time": "2023-12-08T09:50:45.032Z"
   },
   {
    "duration": 25,
    "start_time": "2023-12-08T09:50:45.153Z"
   },
   {
    "duration": 51,
    "start_time": "2023-12-08T09:50:45.180Z"
   },
   {
    "duration": 74,
    "start_time": "2023-12-08T09:50:45.235Z"
   },
   {
    "duration": 351,
    "start_time": "2023-12-08T09:50:45.313Z"
   },
   {
    "duration": 582,
    "start_time": "2023-12-08T09:50:45.665Z"
   },
   {
    "duration": 14,
    "start_time": "2023-12-08T09:50:46.249Z"
   },
   {
    "duration": 143,
    "start_time": "2023-12-08T09:50:46.264Z"
   },
   {
    "duration": 263,
    "start_time": "2023-12-08T09:50:46.409Z"
   },
   {
    "duration": 267,
    "start_time": "2023-12-08T09:50:46.674Z"
   },
   {
    "duration": 13,
    "start_time": "2023-12-08T09:50:46.943Z"
   },
   {
    "duration": 18,
    "start_time": "2023-12-08T09:50:46.958Z"
   },
   {
    "duration": 22,
    "start_time": "2023-12-08T09:50:46.978Z"
   },
   {
    "duration": 48,
    "start_time": "2023-12-08T09:50:47.023Z"
   },
   {
    "duration": 137,
    "start_time": "2023-12-08T09:50:47.073Z"
   },
   {
    "duration": 259,
    "start_time": "2023-12-08T09:51:29.776Z"
   },
   {
    "duration": 14,
    "start_time": "2023-12-08T09:51:43.250Z"
   },
   {
    "duration": 251,
    "start_time": "2023-12-08T09:53:03.957Z"
   },
   {
    "duration": 248,
    "start_time": "2023-12-08T09:53:16.166Z"
   },
   {
    "duration": 1743,
    "start_time": "2023-12-08T09:55:14.389Z"
   },
   {
    "duration": 16,
    "start_time": "2023-12-08T09:59:20.407Z"
   },
   {
    "duration": 1284,
    "start_time": "2023-12-08T10:05:51.147Z"
   },
   {
    "duration": 252,
    "start_time": "2023-12-08T10:05:52.433Z"
   },
   {
    "duration": 82,
    "start_time": "2023-12-08T10:05:52.687Z"
   },
   {
    "duration": 98,
    "start_time": "2023-12-08T10:05:52.771Z"
   },
   {
    "duration": 9,
    "start_time": "2023-12-08T10:05:52.872Z"
   },
   {
    "duration": 112,
    "start_time": "2023-12-08T10:05:52.882Z"
   },
   {
    "duration": 7,
    "start_time": "2023-12-08T10:05:52.996Z"
   },
   {
    "duration": 76,
    "start_time": "2023-12-08T10:05:53.005Z"
   },
   {
    "duration": 16,
    "start_time": "2023-12-08T10:05:53.083Z"
   },
   {
    "duration": 32,
    "start_time": "2023-12-08T10:05:53.101Z"
   },
   {
    "duration": 28,
    "start_time": "2023-12-08T10:05:53.136Z"
   },
   {
    "duration": 37,
    "start_time": "2023-12-08T10:05:53.165Z"
   },
   {
    "duration": 50,
    "start_time": "2023-12-08T10:05:53.224Z"
   },
   {
    "duration": 1959,
    "start_time": "2023-12-08T10:05:53.277Z"
   },
   {
    "duration": 116,
    "start_time": "2023-12-08T10:05:55.237Z"
   },
   {
    "duration": 26,
    "start_time": "2023-12-08T10:05:55.354Z"
   },
   {
    "duration": 44,
    "start_time": "2023-12-08T10:05:55.381Z"
   },
   {
    "duration": 75,
    "start_time": "2023-12-08T10:05:55.428Z"
   },
   {
    "duration": 339,
    "start_time": "2023-12-08T10:05:55.505Z"
   },
   {
    "duration": 549,
    "start_time": "2023-12-08T10:05:55.846Z"
   },
   {
    "duration": 14,
    "start_time": "2023-12-08T10:05:56.398Z"
   },
   {
    "duration": 131,
    "start_time": "2023-12-08T10:05:56.426Z"
   },
   {
    "duration": 266,
    "start_time": "2023-12-08T10:05:56.559Z"
   },
   {
    "duration": 255,
    "start_time": "2023-12-08T10:05:56.827Z"
   },
   {
    "duration": 14,
    "start_time": "2023-12-08T10:05:57.084Z"
   },
   {
    "duration": 22,
    "start_time": "2023-12-08T10:05:57.100Z"
   },
   {
    "duration": 28,
    "start_time": "2023-12-08T10:05:57.124Z"
   },
   {
    "duration": 52,
    "start_time": "2023-12-08T10:05:57.154Z"
   },
   {
    "duration": 259,
    "start_time": "2023-12-08T10:05:57.207Z"
   },
   {
    "duration": 15,
    "start_time": "2023-12-08T10:05:57.469Z"
   },
   {
    "duration": 96,
    "start_time": "2023-12-08T10:59:47.250Z"
   },
   {
    "duration": 217,
    "start_time": "2023-12-08T10:59:58.221Z"
   },
   {
    "duration": 14,
    "start_time": "2023-12-08T11:19:07.100Z"
   },
   {
    "duration": 99,
    "start_time": "2023-12-08T11:19:24.235Z"
   },
   {
    "duration": 25,
    "start_time": "2023-12-08T11:19:35.960Z"
   },
   {
    "duration": 18,
    "start_time": "2023-12-08T11:20:05.707Z"
   },
   {
    "duration": 1196,
    "start_time": "2023-12-08T13:43:34.770Z"
   },
   {
    "duration": 239,
    "start_time": "2023-12-08T13:43:35.968Z"
   },
   {
    "duration": 76,
    "start_time": "2023-12-08T13:43:36.208Z"
   },
   {
    "duration": 107,
    "start_time": "2023-12-08T13:43:36.286Z"
   },
   {
    "duration": 9,
    "start_time": "2023-12-08T13:43:36.395Z"
   },
   {
    "duration": 107,
    "start_time": "2023-12-08T13:43:36.405Z"
   },
   {
    "duration": 9,
    "start_time": "2023-12-08T13:43:36.513Z"
   },
   {
    "duration": 63,
    "start_time": "2023-12-08T13:43:36.524Z"
   },
   {
    "duration": 15,
    "start_time": "2023-12-08T13:43:36.588Z"
   },
   {
    "duration": 12,
    "start_time": "2023-12-08T13:43:36.623Z"
   },
   {
    "duration": 26,
    "start_time": "2023-12-08T13:43:36.636Z"
   },
   {
    "duration": 35,
    "start_time": "2023-12-08T13:43:36.664Z"
   },
   {
    "duration": 46,
    "start_time": "2023-12-08T13:43:36.723Z"
   },
   {
    "duration": 1765,
    "start_time": "2023-12-08T13:43:36.771Z"
   },
   {
    "duration": 102,
    "start_time": "2023-12-08T13:43:38.538Z"
   },
   {
    "duration": 27,
    "start_time": "2023-12-08T13:43:38.642Z"
   },
   {
    "duration": 52,
    "start_time": "2023-12-08T13:43:38.671Z"
   },
   {
    "duration": 68,
    "start_time": "2023-12-08T13:43:38.725Z"
   },
   {
    "duration": 335,
    "start_time": "2023-12-08T13:43:38.795Z"
   },
   {
    "duration": 576,
    "start_time": "2023-12-08T13:43:39.132Z"
   },
   {
    "duration": 22,
    "start_time": "2023-12-08T13:43:39.709Z"
   },
   {
    "duration": 136,
    "start_time": "2023-12-08T13:43:39.733Z"
   },
   {
    "duration": 245,
    "start_time": "2023-12-08T13:43:39.871Z"
   },
   {
    "duration": 261,
    "start_time": "2023-12-08T13:43:40.121Z"
   },
   {
    "duration": 12,
    "start_time": "2023-12-08T13:43:40.384Z"
   },
   {
    "duration": 41,
    "start_time": "2023-12-08T13:43:40.398Z"
   },
   {
    "duration": 39,
    "start_time": "2023-12-08T13:43:40.441Z"
   },
   {
    "duration": 33,
    "start_time": "2023-12-08T13:43:40.485Z"
   },
   {
    "duration": 270,
    "start_time": "2023-12-08T13:43:40.520Z"
   },
   {
    "duration": 71,
    "start_time": "2023-12-08T13:43:40.792Z"
   },
   {
    "duration": 371,
    "start_time": "2023-12-08T13:46:04.087Z"
   },
   {
    "duration": 80,
    "start_time": "2023-12-08T13:51:28.406Z"
   },
   {
    "duration": 18,
    "start_time": "2023-12-08T16:05:53.329Z"
   },
   {
    "duration": 23,
    "start_time": "2023-12-08T16:06:24.158Z"
   },
   {
    "duration": 225,
    "start_time": "2023-12-08T16:06:48.474Z"
   },
   {
    "duration": 70,
    "start_time": "2023-12-08T16:07:00.902Z"
   },
   {
    "duration": 70,
    "start_time": "2023-12-08T16:07:05.338Z"
   },
   {
    "duration": 236,
    "start_time": "2023-12-08T16:07:10.043Z"
   },
   {
    "duration": 267,
    "start_time": "2023-12-08T16:07:19.832Z"
   },
   {
    "duration": 252,
    "start_time": "2023-12-08T16:07:47.599Z"
   },
   {
    "duration": 264,
    "start_time": "2023-12-08T16:08:00.083Z"
   },
   {
    "duration": 5,
    "start_time": "2023-12-08T16:08:36.523Z"
   },
   {
    "duration": 103,
    "start_time": "2023-12-08T16:08:37.028Z"
   },
   {
    "duration": 234,
    "start_time": "2023-12-08T16:08:37.822Z"
   },
   {
    "duration": 249,
    "start_time": "2023-12-08T16:09:24.679Z"
   },
   {
    "duration": 214,
    "start_time": "2023-12-08T16:09:42.975Z"
   },
   {
    "duration": 224,
    "start_time": "2023-12-08T16:09:54.657Z"
   },
   {
    "duration": 45,
    "start_time": "2023-12-10T19:15:30.308Z"
   },
   {
    "duration": 1285,
    "start_time": "2023-12-10T19:15:35.695Z"
   },
   {
    "duration": 537,
    "start_time": "2023-12-10T19:15:36.982Z"
   },
   {
    "duration": 57,
    "start_time": "2023-12-10T19:15:37.520Z"
   },
   {
    "duration": 69,
    "start_time": "2023-12-10T19:15:37.579Z"
   },
   {
    "duration": 16,
    "start_time": "2023-12-10T19:15:37.650Z"
   },
   {
    "duration": 80,
    "start_time": "2023-12-10T19:15:37.668Z"
   },
   {
    "duration": 16,
    "start_time": "2023-12-10T19:15:37.750Z"
   },
   {
    "duration": 52,
    "start_time": "2023-12-10T19:15:37.768Z"
   },
   {
    "duration": 13,
    "start_time": "2023-12-10T19:15:37.821Z"
   },
   {
    "duration": 30,
    "start_time": "2023-12-10T19:15:37.837Z"
   },
   {
    "duration": 26,
    "start_time": "2023-12-10T19:15:37.869Z"
   },
   {
    "duration": 34,
    "start_time": "2023-12-10T19:15:37.896Z"
   },
   {
    "duration": 58,
    "start_time": "2023-12-10T19:15:37.932Z"
   },
   {
    "duration": 1615,
    "start_time": "2023-12-10T19:15:37.991Z"
   },
   {
    "duration": 91,
    "start_time": "2023-12-10T19:15:39.608Z"
   },
   {
    "duration": 22,
    "start_time": "2023-12-10T19:15:39.701Z"
   },
   {
    "duration": 42,
    "start_time": "2023-12-10T19:15:39.724Z"
   },
   {
    "duration": 55,
    "start_time": "2023-12-10T19:15:39.767Z"
   },
   {
    "duration": 254,
    "start_time": "2023-12-10T19:15:39.824Z"
   },
   {
    "duration": 462,
    "start_time": "2023-12-10T19:15:40.080Z"
   },
   {
    "duration": 20,
    "start_time": "2023-12-10T19:15:40.545Z"
   },
   {
    "duration": 101,
    "start_time": "2023-12-10T19:15:40.568Z"
   },
   {
    "duration": 207,
    "start_time": "2023-12-10T19:15:40.670Z"
   },
   {
    "duration": 217,
    "start_time": "2023-12-10T19:15:40.878Z"
   },
   {
    "duration": 11,
    "start_time": "2023-12-10T19:15:41.096Z"
   },
   {
    "duration": 8,
    "start_time": "2023-12-10T19:15:41.108Z"
   },
   {
    "duration": 14,
    "start_time": "2023-12-10T19:15:41.118Z"
   },
   {
    "duration": 247,
    "start_time": "2023-12-10T19:15:41.135Z"
   },
   {
    "duration": 23,
    "start_time": "2023-12-10T19:15:41.384Z"
   },
   {
    "duration": 25,
    "start_time": "2023-12-10T19:17:03.412Z"
   },
   {
    "duration": 38,
    "start_time": "2023-12-10T19:26:58.889Z"
   },
   {
    "duration": 47,
    "start_time": "2023-12-10T19:27:05.961Z"
   },
   {
    "duration": 125,
    "start_time": "2023-12-10T19:39:46.911Z"
   },
   {
    "duration": 43,
    "start_time": "2023-12-10T19:40:34.280Z"
   },
   {
    "duration": 43,
    "start_time": "2023-12-10T19:41:18.325Z"
   },
   {
    "duration": 42,
    "start_time": "2023-12-10T19:41:33.927Z"
   },
   {
    "duration": 42,
    "start_time": "2023-12-10T19:41:39.654Z"
   },
   {
    "duration": 43,
    "start_time": "2023-12-10T19:41:46.278Z"
   },
   {
    "duration": 61,
    "start_time": "2023-12-10T19:43:15.874Z"
   },
   {
    "duration": 38,
    "start_time": "2023-12-10T19:43:27.612Z"
   },
   {
    "duration": 39,
    "start_time": "2023-12-10T19:43:33.603Z"
   },
   {
    "duration": 44,
    "start_time": "2023-12-10T19:45:19.888Z"
   },
   {
    "duration": 43,
    "start_time": "2023-12-10T19:45:52.071Z"
   },
   {
    "duration": 39,
    "start_time": "2023-12-10T19:46:32.944Z"
   },
   {
    "duration": 9,
    "start_time": "2023-12-10T19:53:24.292Z"
   },
   {
    "duration": 21,
    "start_time": "2023-12-10T19:53:31.012Z"
   },
   {
    "duration": 84,
    "start_time": "2023-12-10T19:54:47.513Z"
   },
   {
    "duration": 85,
    "start_time": "2023-12-10T20:12:05.292Z"
   },
   {
    "duration": 106,
    "start_time": "2023-12-10T20:13:32.841Z"
   },
   {
    "duration": 5,
    "start_time": "2023-12-10T20:13:55.565Z"
   },
   {
    "duration": 88,
    "start_time": "2023-12-10T20:14:09.711Z"
   },
   {
    "duration": 112,
    "start_time": "2023-12-10T20:14:30.479Z"
   },
   {
    "duration": 89,
    "start_time": "2023-12-10T20:17:29.145Z"
   },
   {
    "duration": 88,
    "start_time": "2023-12-10T20:17:36.715Z"
   },
   {
    "duration": 90,
    "start_time": "2023-12-10T20:18:53.088Z"
   },
   {
    "duration": 88,
    "start_time": "2023-12-10T20:19:42.799Z"
   },
   {
    "duration": 120,
    "start_time": "2023-12-10T20:24:40.228Z"
   },
   {
    "duration": 90,
    "start_time": "2023-12-10T20:25:01.719Z"
   },
   {
    "duration": 80,
    "start_time": "2023-12-10T20:25:08.838Z"
   },
   {
    "duration": 85,
    "start_time": "2023-12-10T20:25:37.111Z"
   },
   {
    "duration": 88,
    "start_time": "2023-12-10T20:25:44.863Z"
   },
   {
    "duration": 87,
    "start_time": "2023-12-10T20:25:48.435Z"
   },
   {
    "duration": 82,
    "start_time": "2023-12-10T20:26:37.226Z"
   },
   {
    "duration": 81,
    "start_time": "2023-12-10T20:26:49.489Z"
   },
   {
    "duration": 84,
    "start_time": "2023-12-10T20:27:04.201Z"
   },
   {
    "duration": 71,
    "start_time": "2023-12-10T20:27:13.089Z"
   },
   {
    "duration": 79,
    "start_time": "2023-12-10T20:27:16.730Z"
   },
   {
    "duration": 85,
    "start_time": "2023-12-10T20:27:29.666Z"
   },
   {
    "duration": 108,
    "start_time": "2023-12-10T20:27:35.810Z"
   },
   {
    "duration": 93,
    "start_time": "2023-12-10T20:29:33.866Z"
   },
   {
    "duration": 89,
    "start_time": "2023-12-10T20:31:44.522Z"
   },
   {
    "duration": 1281,
    "start_time": "2023-12-10T20:31:49.889Z"
   },
   {
    "duration": 105,
    "start_time": "2023-12-10T20:32:27.062Z"
   },
   {
    "duration": 94,
    "start_time": "2023-12-10T20:33:11.560Z"
   },
   {
    "duration": 92,
    "start_time": "2023-12-10T20:33:21.996Z"
   },
   {
    "duration": 85,
    "start_time": "2023-12-10T20:33:37.078Z"
   },
   {
    "duration": 82,
    "start_time": "2023-12-10T20:33:54.431Z"
   },
   {
    "duration": 50,
    "start_time": "2023-12-11T08:14:51.185Z"
   },
   {
    "duration": 81,
    "start_time": "2023-12-11T08:27:45.469Z"
   },
   {
    "duration": 6,
    "start_time": "2023-12-11T08:33:33.728Z"
   },
   {
    "duration": 6,
    "start_time": "2023-12-11T08:33:35.921Z"
   },
   {
    "duration": 1325,
    "start_time": "2023-12-11T08:33:41.244Z"
   },
   {
    "duration": 532,
    "start_time": "2023-12-11T08:33:42.571Z"
   },
   {
    "duration": 64,
    "start_time": "2023-12-11T08:33:43.105Z"
   },
   {
    "duration": 83,
    "start_time": "2023-12-11T08:33:43.171Z"
   },
   {
    "duration": 6,
    "start_time": "2023-12-11T08:33:43.256Z"
   },
   {
    "duration": 94,
    "start_time": "2023-12-11T08:33:43.264Z"
   },
   {
    "duration": 5,
    "start_time": "2023-12-11T08:33:43.360Z"
   },
   {
    "duration": 67,
    "start_time": "2023-12-11T08:33:43.366Z"
   },
   {
    "duration": 13,
    "start_time": "2023-12-11T08:33:43.435Z"
   },
   {
    "duration": 12,
    "start_time": "2023-12-11T08:33:43.451Z"
   },
   {
    "duration": 37,
    "start_time": "2023-12-11T08:33:43.465Z"
   },
   {
    "duration": 32,
    "start_time": "2023-12-11T08:33:43.504Z"
   },
   {
    "duration": 55,
    "start_time": "2023-12-11T08:33:43.538Z"
   },
   {
    "duration": 1577,
    "start_time": "2023-12-11T08:33:43.594Z"
   },
   {
    "duration": 88,
    "start_time": "2023-12-11T08:33:45.173Z"
   },
   {
    "duration": 29,
    "start_time": "2023-12-11T08:33:45.263Z"
   },
   {
    "duration": 45,
    "start_time": "2023-12-11T08:33:45.294Z"
   },
   {
    "duration": 56,
    "start_time": "2023-12-11T08:33:45.341Z"
   },
   {
    "duration": 238,
    "start_time": "2023-12-11T08:33:45.398Z"
   },
   {
    "duration": 456,
    "start_time": "2023-12-11T08:33:45.638Z"
   },
   {
    "duration": 13,
    "start_time": "2023-12-11T08:33:46.096Z"
   },
   {
    "duration": 105,
    "start_time": "2023-12-11T08:33:46.110Z"
   },
   {
    "duration": 207,
    "start_time": "2023-12-11T08:33:46.216Z"
   },
   {
    "duration": 213,
    "start_time": "2023-12-11T08:33:46.425Z"
   },
   {
    "duration": 10,
    "start_time": "2023-12-11T08:33:46.639Z"
   },
   {
    "duration": 8,
    "start_time": "2023-12-11T08:33:46.650Z"
   },
   {
    "duration": 25,
    "start_time": "2023-12-11T08:33:46.660Z"
   },
   {
    "duration": 213,
    "start_time": "2023-12-11T08:33:46.687Z"
   },
   {
    "duration": 36,
    "start_time": "2023-12-11T08:33:46.902Z"
   },
   {
    "duration": 103,
    "start_time": "2023-12-11T08:33:46.940Z"
   },
   {
    "duration": 6,
    "start_time": "2023-12-11T08:33:47.044Z"
   },
   {
    "duration": 6,
    "start_time": "2023-12-11T08:36:06.298Z"
   },
   {
    "duration": 220,
    "start_time": "2023-12-11T08:37:04.471Z"
   },
   {
    "duration": 224,
    "start_time": "2023-12-11T08:37:15.964Z"
   },
   {
    "duration": 232,
    "start_time": "2023-12-11T08:44:30.227Z"
   },
   {
    "duration": 255,
    "start_time": "2023-12-11T08:44:30.903Z"
   },
   {
    "duration": 270,
    "start_time": "2023-12-11T08:44:37.607Z"
   },
   {
    "duration": 241,
    "start_time": "2023-12-11T08:46:41.315Z"
   },
   {
    "duration": 213,
    "start_time": "2023-12-11T08:55:27.119Z"
   },
   {
    "duration": 226,
    "start_time": "2023-12-11T08:55:57.557Z"
   },
   {
    "duration": 232,
    "start_time": "2023-12-11T08:56:21.706Z"
   },
   {
    "duration": 218,
    "start_time": "2023-12-11T08:56:22.543Z"
   },
   {
    "duration": 2,
    "start_time": "2023-12-11T08:59:02.066Z"
   },
   {
    "duration": 29,
    "start_time": "2023-12-11T09:23:41.565Z"
   },
   {
    "duration": 202,
    "start_time": "2023-12-11T09:23:42.372Z"
   },
   {
    "duration": 186,
    "start_time": "2023-12-11T09:23:44.068Z"
   },
   {
    "duration": 197,
    "start_time": "2023-12-11T09:23:52.291Z"
   },
   {
    "duration": 220,
    "start_time": "2023-12-11T09:23:58.965Z"
   },
   {
    "duration": 212,
    "start_time": "2023-12-11T09:24:00.188Z"
   },
   {
    "duration": 201,
    "start_time": "2023-12-11T09:24:02.044Z"
   },
   {
    "duration": 186,
    "start_time": "2023-12-11T09:24:02.660Z"
   },
   {
    "duration": 1052,
    "start_time": "2023-12-11T09:39:34.930Z"
   },
   {
    "duration": 222,
    "start_time": "2023-12-11T09:39:35.984Z"
   },
   {
    "duration": 64,
    "start_time": "2023-12-11T09:39:36.207Z"
   },
   {
    "duration": 75,
    "start_time": "2023-12-11T09:39:36.281Z"
   },
   {
    "duration": 7,
    "start_time": "2023-12-11T09:39:36.357Z"
   },
   {
    "duration": 114,
    "start_time": "2023-12-11T09:39:36.366Z"
   },
   {
    "duration": 5,
    "start_time": "2023-12-11T09:39:36.481Z"
   },
   {
    "duration": 81,
    "start_time": "2023-12-11T09:39:36.488Z"
   },
   {
    "duration": 15,
    "start_time": "2023-12-11T09:39:36.570Z"
   },
   {
    "duration": 11,
    "start_time": "2023-12-11T09:39:36.587Z"
   },
   {
    "duration": 25,
    "start_time": "2023-12-11T09:39:36.599Z"
   },
   {
    "duration": 33,
    "start_time": "2023-12-11T09:39:36.626Z"
   },
   {
    "duration": 61,
    "start_time": "2023-12-11T09:39:36.660Z"
   },
   {
    "duration": 1782,
    "start_time": "2023-12-11T09:39:36.722Z"
   },
   {
    "duration": 93,
    "start_time": "2023-12-11T09:39:38.505Z"
   },
   {
    "duration": 25,
    "start_time": "2023-12-11T09:39:38.599Z"
   },
   {
    "duration": 31,
    "start_time": "2023-12-11T09:39:38.626Z"
   },
   {
    "duration": 79,
    "start_time": "2023-12-11T09:39:38.658Z"
   },
   {
    "duration": 274,
    "start_time": "2023-12-11T09:39:38.739Z"
   },
   {
    "duration": 501,
    "start_time": "2023-12-11T09:39:39.015Z"
   },
   {
    "duration": 13,
    "start_time": "2023-12-11T09:39:39.517Z"
   },
   {
    "duration": 113,
    "start_time": "2023-12-11T09:39:39.531Z"
   },
   {
    "duration": 231,
    "start_time": "2023-12-11T09:39:39.646Z"
   },
   {
    "duration": 245,
    "start_time": "2023-12-11T09:39:39.878Z"
   },
   {
    "duration": 11,
    "start_time": "2023-12-11T09:39:40.124Z"
   },
   {
    "duration": 8,
    "start_time": "2023-12-11T09:39:40.136Z"
   },
   {
    "duration": 17,
    "start_time": "2023-12-11T09:39:40.146Z"
   },
   {
    "duration": 236,
    "start_time": "2023-12-11T09:39:40.181Z"
   },
   {
    "duration": 39,
    "start_time": "2023-12-11T09:39:40.419Z"
   },
   {
    "duration": 107,
    "start_time": "2023-12-11T09:39:40.460Z"
   },
   {
    "duration": 13,
    "start_time": "2023-12-11T09:39:40.569Z"
   },
   {
    "duration": 29,
    "start_time": "2023-12-11T09:39:40.584Z"
   },
   {
    "duration": 156,
    "start_time": "2023-12-11T09:39:40.614Z"
   },
   {
    "duration": 163,
    "start_time": "2023-12-11T09:39:40.772Z"
   },
   {
    "duration": 181,
    "start_time": "2023-12-11T09:39:40.936Z"
   },
   {
    "duration": 1246,
    "start_time": "2023-12-11T10:31:10.911Z"
   },
   {
    "duration": 247,
    "start_time": "2023-12-11T10:31:12.159Z"
   },
   {
    "duration": 76,
    "start_time": "2023-12-11T10:31:12.409Z"
   },
   {
    "duration": 93,
    "start_time": "2023-12-11T10:31:12.487Z"
   },
   {
    "duration": 8,
    "start_time": "2023-12-11T10:31:12.583Z"
   },
   {
    "duration": 99,
    "start_time": "2023-12-11T10:31:12.593Z"
   },
   {
    "duration": 8,
    "start_time": "2023-12-11T10:31:12.693Z"
   },
   {
    "duration": 74,
    "start_time": "2023-12-11T10:31:12.703Z"
   },
   {
    "duration": 13,
    "start_time": "2023-12-11T10:31:12.779Z"
   },
   {
    "duration": 21,
    "start_time": "2023-12-11T10:31:12.794Z"
   },
   {
    "duration": 35,
    "start_time": "2023-12-11T10:31:12.817Z"
   },
   {
    "duration": 33,
    "start_time": "2023-12-11T10:31:12.853Z"
   },
   {
    "duration": 58,
    "start_time": "2023-12-11T10:31:12.888Z"
   },
   {
    "duration": 1555,
    "start_time": "2023-12-11T10:31:12.948Z"
   },
   {
    "duration": 97,
    "start_time": "2023-12-11T10:31:14.504Z"
   },
   {
    "duration": 31,
    "start_time": "2023-12-11T10:31:14.603Z"
   },
   {
    "duration": 31,
    "start_time": "2023-12-11T10:31:14.636Z"
   },
   {
    "duration": 84,
    "start_time": "2023-12-11T10:31:14.669Z"
   },
   {
    "duration": 261,
    "start_time": "2023-12-11T10:31:14.754Z"
   },
   {
    "duration": 471,
    "start_time": "2023-12-11T10:31:15.016Z"
   },
   {
    "duration": 13,
    "start_time": "2023-12-11T10:31:15.489Z"
   },
   {
    "duration": 168,
    "start_time": "2023-12-11T10:31:15.504Z"
   },
   {
    "duration": 221,
    "start_time": "2023-12-11T10:31:15.674Z"
   },
   {
    "duration": 224,
    "start_time": "2023-12-11T10:31:15.896Z"
   },
   {
    "duration": 14,
    "start_time": "2023-12-11T10:31:16.122Z"
   },
   {
    "duration": 8,
    "start_time": "2023-12-11T10:31:16.137Z"
   },
   {
    "duration": 19,
    "start_time": "2023-12-11T10:31:16.146Z"
   },
   {
    "duration": 241,
    "start_time": "2023-12-11T10:31:16.166Z"
   },
   {
    "duration": 46,
    "start_time": "2023-12-11T10:31:16.409Z"
   },
   {
    "duration": 110,
    "start_time": "2023-12-11T10:31:16.457Z"
   },
   {
    "duration": 6,
    "start_time": "2023-12-11T10:31:16.569Z"
   },
   {
    "duration": 36,
    "start_time": "2023-12-11T10:31:16.577Z"
   },
   {
    "duration": 207,
    "start_time": "2023-12-11T10:31:16.615Z"
   },
   {
    "duration": 183,
    "start_time": "2023-12-11T10:31:16.831Z"
   },
   {
    "duration": 192,
    "start_time": "2023-12-11T10:31:17.016Z"
   },
   {
    "duration": 1198,
    "start_time": "2023-12-11T10:37:29.768Z"
   },
   {
    "duration": 271,
    "start_time": "2023-12-11T10:37:30.968Z"
   },
   {
    "duration": 73,
    "start_time": "2023-12-11T10:37:31.241Z"
   },
   {
    "duration": 77,
    "start_time": "2023-12-11T10:37:31.331Z"
   },
   {
    "duration": 43,
    "start_time": "2023-12-11T10:37:31.409Z"
   },
   {
    "duration": 141,
    "start_time": "2023-12-11T10:37:31.453Z"
   },
   {
    "duration": 5,
    "start_time": "2023-12-11T10:37:31.596Z"
   },
   {
    "duration": 81,
    "start_time": "2023-12-11T10:37:31.603Z"
   },
   {
    "duration": 14,
    "start_time": "2023-12-11T10:37:31.685Z"
   },
   {
    "duration": 92,
    "start_time": "2023-12-11T10:37:31.701Z"
   },
   {
    "duration": 56,
    "start_time": "2023-12-11T10:37:31.795Z"
   },
   {
    "duration": 112,
    "start_time": "2023-12-11T10:37:31.853Z"
   },
   {
    "duration": 79,
    "start_time": "2023-12-11T10:37:31.967Z"
   },
   {
    "duration": 1591,
    "start_time": "2023-12-11T10:37:32.048Z"
   },
   {
    "duration": 97,
    "start_time": "2023-12-11T10:37:33.641Z"
   },
   {
    "duration": 24,
    "start_time": "2023-12-11T10:37:33.739Z"
   },
   {
    "duration": 40,
    "start_time": "2023-12-11T10:37:33.765Z"
   },
   {
    "duration": 75,
    "start_time": "2023-12-11T10:37:33.807Z"
   },
   {
    "duration": 265,
    "start_time": "2023-12-11T10:37:33.884Z"
   },
   {
    "duration": 486,
    "start_time": "2023-12-11T10:37:34.151Z"
   },
   {
    "duration": 14,
    "start_time": "2023-12-11T10:37:34.638Z"
   },
   {
    "duration": 273,
    "start_time": "2023-12-11T10:37:34.653Z"
   },
   {
    "duration": 282,
    "start_time": "2023-12-11T10:37:34.928Z"
   },
   {
    "duration": 227,
    "start_time": "2023-12-11T10:37:35.212Z"
   },
   {
    "duration": 12,
    "start_time": "2023-12-11T10:37:35.440Z"
   },
   {
    "duration": 98,
    "start_time": "2023-12-11T10:37:35.453Z"
   },
   {
    "duration": 64,
    "start_time": "2023-12-11T10:37:35.553Z"
   },
   {
    "duration": 218,
    "start_time": "2023-12-11T10:37:35.620Z"
   },
   {
    "duration": 44,
    "start_time": "2023-12-11T10:37:35.840Z"
   },
   {
    "duration": 125,
    "start_time": "2023-12-11T10:37:35.886Z"
   },
   {
    "duration": 7,
    "start_time": "2023-12-11T10:37:36.013Z"
   },
   {
    "duration": 65,
    "start_time": "2023-12-11T10:37:36.031Z"
   },
   {
    "duration": 212,
    "start_time": "2023-12-11T10:37:36.098Z"
   },
   {
    "duration": 203,
    "start_time": "2023-12-11T10:37:36.311Z"
   },
   {
    "duration": 204,
    "start_time": "2023-12-11T10:37:36.516Z"
   },
   {
    "duration": 1225,
    "start_time": "2023-12-11T11:12:22.422Z"
   },
   {
    "duration": 222,
    "start_time": "2023-12-11T11:12:23.649Z"
   },
   {
    "duration": 83,
    "start_time": "2023-12-11T11:12:23.872Z"
   },
   {
    "duration": 111,
    "start_time": "2023-12-11T11:12:23.957Z"
   },
   {
    "duration": 13,
    "start_time": "2023-12-11T11:12:24.071Z"
   },
   {
    "duration": 106,
    "start_time": "2023-12-11T11:12:24.087Z"
   },
   {
    "duration": 6,
    "start_time": "2023-12-11T11:12:24.195Z"
   },
   {
    "duration": 69,
    "start_time": "2023-12-11T11:12:24.202Z"
   },
   {
    "duration": 14,
    "start_time": "2023-12-11T11:12:24.273Z"
   },
   {
    "duration": 19,
    "start_time": "2023-12-11T11:12:24.288Z"
   },
   {
    "duration": 39,
    "start_time": "2023-12-11T11:12:24.309Z"
   },
   {
    "duration": 32,
    "start_time": "2023-12-11T11:12:24.350Z"
   },
   {
    "duration": 53,
    "start_time": "2023-12-11T11:12:24.384Z"
   },
   {
    "duration": 1595,
    "start_time": "2023-12-11T11:12:24.440Z"
   },
   {
    "duration": 81,
    "start_time": "2023-12-11T11:12:26.036Z"
   },
   {
    "duration": 24,
    "start_time": "2023-12-11T11:12:26.131Z"
   },
   {
    "duration": 40,
    "start_time": "2023-12-11T11:12:26.157Z"
   },
   {
    "duration": 69,
    "start_time": "2023-12-11T11:12:26.198Z"
   },
   {
    "duration": 268,
    "start_time": "2023-12-11T11:12:26.269Z"
   },
   {
    "duration": 491,
    "start_time": "2023-12-11T11:12:26.540Z"
   },
   {
    "duration": 14,
    "start_time": "2023-12-11T11:12:27.033Z"
   },
   {
    "duration": 117,
    "start_time": "2023-12-11T11:12:27.049Z"
   },
   {
    "duration": 212,
    "start_time": "2023-12-11T11:12:27.168Z"
   },
   {
    "duration": 230,
    "start_time": "2023-12-11T11:12:27.382Z"
   },
   {
    "duration": 24,
    "start_time": "2023-12-11T11:12:27.613Z"
   },
   {
    "duration": 27,
    "start_time": "2023-12-11T11:12:27.638Z"
   },
   {
    "duration": 53,
    "start_time": "2023-12-11T11:12:27.666Z"
   },
   {
    "duration": 238,
    "start_time": "2023-12-11T11:12:27.721Z"
   },
   {
    "duration": 41,
    "start_time": "2023-12-11T11:12:27.961Z"
   },
   {
    "duration": 116,
    "start_time": "2023-12-11T11:12:28.004Z"
   },
   {
    "duration": 10,
    "start_time": "2023-12-11T11:12:28.121Z"
   },
   {
    "duration": 62,
    "start_time": "2023-12-11T11:12:28.132Z"
   },
   {
    "duration": 202,
    "start_time": "2023-12-11T11:12:28.196Z"
   },
   {
    "duration": 192,
    "start_time": "2023-12-11T11:12:28.400Z"
   },
   {
    "duration": 195,
    "start_time": "2023-12-11T11:12:28.594Z"
   },
   {
    "duration": 1365,
    "start_time": "2023-12-11T11:44:07.763Z"
   },
   {
    "duration": 566,
    "start_time": "2023-12-11T11:44:09.130Z"
   },
   {
    "duration": 79,
    "start_time": "2023-12-11T11:44:09.697Z"
   },
   {
    "duration": 87,
    "start_time": "2023-12-11T11:44:09.778Z"
   },
   {
    "duration": 8,
    "start_time": "2023-12-11T11:44:09.867Z"
   },
   {
    "duration": 98,
    "start_time": "2023-12-11T11:44:09.877Z"
   },
   {
    "duration": 6,
    "start_time": "2023-12-11T11:44:09.976Z"
   },
   {
    "duration": 60,
    "start_time": "2023-12-11T11:44:09.984Z"
   },
   {
    "duration": 1647,
    "start_time": "2023-12-11T11:44:10.058Z"
   },
   {
    "duration": 0,
    "start_time": "2023-12-11T11:44:11.708Z"
   },
   {
    "duration": 0,
    "start_time": "2023-12-11T11:44:11.709Z"
   },
   {
    "duration": 0,
    "start_time": "2023-12-11T11:44:11.710Z"
   },
   {
    "duration": 0,
    "start_time": "2023-12-11T11:44:11.712Z"
   },
   {
    "duration": 0,
    "start_time": "2023-12-11T11:44:11.713Z"
   },
   {
    "duration": 0,
    "start_time": "2023-12-11T11:44:11.714Z"
   },
   {
    "duration": 0,
    "start_time": "2023-12-11T11:44:11.715Z"
   },
   {
    "duration": 0,
    "start_time": "2023-12-11T11:44:11.717Z"
   },
   {
    "duration": 0,
    "start_time": "2023-12-11T11:44:11.718Z"
   },
   {
    "duration": 0,
    "start_time": "2023-12-11T11:44:11.719Z"
   },
   {
    "duration": 0,
    "start_time": "2023-12-11T11:44:11.720Z"
   },
   {
    "duration": 0,
    "start_time": "2023-12-11T11:44:11.722Z"
   },
   {
    "duration": 0,
    "start_time": "2023-12-11T11:44:11.723Z"
   },
   {
    "duration": 0,
    "start_time": "2023-12-11T11:44:11.725Z"
   },
   {
    "duration": 0,
    "start_time": "2023-12-11T11:44:11.726Z"
   },
   {
    "duration": 0,
    "start_time": "2023-12-11T11:44:11.727Z"
   },
   {
    "duration": 0,
    "start_time": "2023-12-11T11:44:11.728Z"
   },
   {
    "duration": 0,
    "start_time": "2023-12-11T11:44:11.729Z"
   },
   {
    "duration": 0,
    "start_time": "2023-12-11T11:44:11.730Z"
   },
   {
    "duration": 0,
    "start_time": "2023-12-11T11:44:11.732Z"
   },
   {
    "duration": 0,
    "start_time": "2023-12-11T11:44:11.733Z"
   },
   {
    "duration": 0,
    "start_time": "2023-12-11T11:44:11.734Z"
   },
   {
    "duration": 0,
    "start_time": "2023-12-11T11:44:11.735Z"
   },
   {
    "duration": 0,
    "start_time": "2023-12-11T11:44:11.735Z"
   },
   {
    "duration": 0,
    "start_time": "2023-12-11T11:44:11.737Z"
   },
   {
    "duration": 0,
    "start_time": "2023-12-11T11:44:11.738Z"
   },
   {
    "duration": 11,
    "start_time": "2023-12-11T11:44:21.282Z"
   },
   {
    "duration": 10,
    "start_time": "2023-12-11T11:44:39.419Z"
   },
   {
    "duration": 11,
    "start_time": "2023-12-11T11:56:21.916Z"
   },
   {
    "duration": 6,
    "start_time": "2023-12-11T11:56:27.866Z"
   },
   {
    "duration": 117,
    "start_time": "2023-12-11T12:01:05.332Z"
   },
   {
    "duration": 90,
    "start_time": "2023-12-11T12:01:25.333Z"
   },
   {
    "duration": 14,
    "start_time": "2023-12-11T12:04:25.665Z"
   },
   {
    "duration": 127,
    "start_time": "2023-12-11T12:05:08.731Z"
   },
   {
    "duration": 99,
    "start_time": "2023-12-11T12:07:21.104Z"
   },
   {
    "duration": 17,
    "start_time": "2023-12-11T12:08:02.799Z"
   },
   {
    "duration": 1249,
    "start_time": "2023-12-11T12:08:13.035Z"
   },
   {
    "duration": 234,
    "start_time": "2023-12-11T12:08:14.285Z"
   },
   {
    "duration": 80,
    "start_time": "2023-12-11T12:08:14.522Z"
   },
   {
    "duration": 89,
    "start_time": "2023-12-11T12:08:14.605Z"
   },
   {
    "duration": 9,
    "start_time": "2023-12-11T12:08:14.696Z"
   },
   {
    "duration": 109,
    "start_time": "2023-12-11T12:08:14.707Z"
   },
   {
    "duration": 6,
    "start_time": "2023-12-11T12:08:14.818Z"
   },
   {
    "duration": 117,
    "start_time": "2023-12-11T12:08:14.825Z"
   },
   {
    "duration": 110,
    "start_time": "2023-12-11T12:08:14.944Z"
   },
   {
    "duration": 15,
    "start_time": "2023-12-11T12:08:15.060Z"
   },
   {
    "duration": 71,
    "start_time": "2023-12-11T12:08:15.077Z"
   },
   {
    "duration": 30,
    "start_time": "2023-12-11T12:08:15.149Z"
   },
   {
    "duration": 35,
    "start_time": "2023-12-11T12:08:15.181Z"
   },
   {
    "duration": 56,
    "start_time": "2023-12-11T12:08:15.217Z"
   },
   {
    "duration": 1707,
    "start_time": "2023-12-11T12:08:15.275Z"
   },
   {
    "duration": 78,
    "start_time": "2023-12-11T12:08:16.984Z"
   },
   {
    "duration": 27,
    "start_time": "2023-12-11T12:08:17.063Z"
   },
   {
    "duration": 55,
    "start_time": "2023-12-11T12:08:17.092Z"
   },
   {
    "duration": 68,
    "start_time": "2023-12-11T12:08:17.149Z"
   },
   {
    "duration": 290,
    "start_time": "2023-12-11T12:08:17.219Z"
   },
   {
    "duration": 536,
    "start_time": "2023-12-11T12:08:17.510Z"
   },
   {
    "duration": 16,
    "start_time": "2023-12-11T12:08:18.048Z"
   },
   {
    "duration": 118,
    "start_time": "2023-12-11T12:08:18.066Z"
   },
   {
    "duration": 221,
    "start_time": "2023-12-11T12:08:18.185Z"
   },
   {
    "duration": 235,
    "start_time": "2023-12-11T12:08:18.407Z"
   },
   {
    "duration": 17,
    "start_time": "2023-12-11T12:08:18.643Z"
   },
   {
    "duration": 14,
    "start_time": "2023-12-11T12:08:18.661Z"
   },
   {
    "duration": 48,
    "start_time": "2023-12-11T12:08:18.679Z"
   },
   {
    "duration": 250,
    "start_time": "2023-12-11T12:08:18.728Z"
   },
   {
    "duration": 44,
    "start_time": "2023-12-11T12:08:18.979Z"
   },
   {
    "duration": 122,
    "start_time": "2023-12-11T12:08:19.025Z"
   },
   {
    "duration": 10,
    "start_time": "2023-12-11T12:08:19.149Z"
   },
   {
    "duration": 37,
    "start_time": "2023-12-11T12:08:19.161Z"
   },
   {
    "duration": 211,
    "start_time": "2023-12-11T12:08:19.200Z"
   },
   {
    "duration": 198,
    "start_time": "2023-12-11T12:08:19.413Z"
   },
   {
    "duration": 195,
    "start_time": "2023-12-11T12:08:19.613Z"
   },
   {
    "duration": 5,
    "start_time": "2023-12-11T12:10:48.737Z"
   },
   {
    "duration": 1187,
    "start_time": "2023-12-11T12:11:10.361Z"
   },
   {
    "duration": 180,
    "start_time": "2023-12-11T12:12:51.420Z"
   },
   {
    "duration": 515,
    "start_time": "2023-12-11T12:13:01.715Z"
   },
   {
    "duration": 344,
    "start_time": "2023-12-11T12:13:15.948Z"
   },
   {
    "duration": 206,
    "start_time": "2023-12-11T12:14:05.080Z"
   },
   {
    "duration": 203,
    "start_time": "2023-12-11T12:14:15.135Z"
   },
   {
    "duration": 172,
    "start_time": "2023-12-11T12:17:21.727Z"
   },
   {
    "duration": 492,
    "start_time": "2023-12-11T12:17:27.690Z"
   },
   {
    "duration": 683,
    "start_time": "2023-12-11T12:20:00.865Z"
   },
   {
    "duration": 655,
    "start_time": "2023-12-11T12:20:37.128Z"
   },
   {
    "duration": 512,
    "start_time": "2023-12-11T12:20:53.304Z"
   },
   {
    "duration": 812,
    "start_time": "2023-12-11T12:21:04.448Z"
   },
   {
    "duration": 660,
    "start_time": "2023-12-11T12:21:18.512Z"
   },
   {
    "duration": 598,
    "start_time": "2023-12-11T12:21:32.309Z"
   },
   {
    "duration": 11,
    "start_time": "2023-12-11T12:27:33.121Z"
   },
   {
    "duration": 42,
    "start_time": "2023-12-12T09:16:52.266Z"
   },
   {
    "duration": 1335,
    "start_time": "2023-12-12T09:16:59.146Z"
   },
   {
    "duration": 745,
    "start_time": "2023-12-12T09:17:00.483Z"
   },
   {
    "duration": 59,
    "start_time": "2023-12-12T09:17:01.229Z"
   },
   {
    "duration": 71,
    "start_time": "2023-12-12T09:17:01.289Z"
   },
   {
    "duration": 7,
    "start_time": "2023-12-12T09:17:01.361Z"
   },
   {
    "duration": 107,
    "start_time": "2023-12-12T09:17:01.370Z"
   },
   {
    "duration": 5,
    "start_time": "2023-12-12T09:17:01.479Z"
   },
   {
    "duration": 104,
    "start_time": "2023-12-12T09:17:01.486Z"
   },
   {
    "duration": 105,
    "start_time": "2023-12-12T09:17:01.592Z"
   },
   {
    "duration": 14,
    "start_time": "2023-12-12T09:17:01.700Z"
   },
   {
    "duration": 26,
    "start_time": "2023-12-12T09:17:01.716Z"
   },
   {
    "duration": 68,
    "start_time": "2023-12-12T09:17:01.744Z"
   },
   {
    "duration": 491,
    "start_time": "2023-12-12T09:17:01.814Z"
   },
   {
    "duration": 98,
    "start_time": "2023-12-12T09:17:02.307Z"
   },
   {
    "duration": 0,
    "start_time": "2023-12-12T09:17:02.408Z"
   },
   {
    "duration": 0,
    "start_time": "2023-12-12T09:17:02.409Z"
   },
   {
    "duration": 0,
    "start_time": "2023-12-12T09:17:02.410Z"
   },
   {
    "duration": 0,
    "start_time": "2023-12-12T09:17:02.411Z"
   },
   {
    "duration": 0,
    "start_time": "2023-12-12T09:17:02.412Z"
   },
   {
    "duration": 0,
    "start_time": "2023-12-12T09:17:02.413Z"
   },
   {
    "duration": 0,
    "start_time": "2023-12-12T09:17:02.414Z"
   },
   {
    "duration": 0,
    "start_time": "2023-12-12T09:17:02.416Z"
   },
   {
    "duration": 0,
    "start_time": "2023-12-12T09:17:02.417Z"
   },
   {
    "duration": 0,
    "start_time": "2023-12-12T09:17:02.418Z"
   },
   {
    "duration": 0,
    "start_time": "2023-12-12T09:17:02.419Z"
   },
   {
    "duration": 0,
    "start_time": "2023-12-12T09:17:02.421Z"
   },
   {
    "duration": 0,
    "start_time": "2023-12-12T09:17:02.422Z"
   },
   {
    "duration": 0,
    "start_time": "2023-12-12T09:17:02.423Z"
   },
   {
    "duration": 0,
    "start_time": "2023-12-12T09:17:02.425Z"
   },
   {
    "duration": 0,
    "start_time": "2023-12-12T09:17:02.456Z"
   },
   {
    "duration": 0,
    "start_time": "2023-12-12T09:17:02.457Z"
   },
   {
    "duration": 0,
    "start_time": "2023-12-12T09:17:02.458Z"
   },
   {
    "duration": 0,
    "start_time": "2023-12-12T09:17:02.460Z"
   },
   {
    "duration": 0,
    "start_time": "2023-12-12T09:17:02.461Z"
   },
   {
    "duration": 0,
    "start_time": "2023-12-12T09:17:02.462Z"
   },
   {
    "duration": 0,
    "start_time": "2023-12-12T09:17:02.463Z"
   },
   {
    "duration": 0,
    "start_time": "2023-12-12T09:17:02.464Z"
   },
   {
    "duration": 0,
    "start_time": "2023-12-12T09:17:02.465Z"
   },
   {
    "duration": 13,
    "start_time": "2023-12-12T09:17:27.237Z"
   },
   {
    "duration": 62,
    "start_time": "2023-12-12T09:17:42.278Z"
   },
   {
    "duration": 61,
    "start_time": "2023-12-12T09:19:02.469Z"
   },
   {
    "duration": 56,
    "start_time": "2023-12-12T09:19:26.654Z"
   },
   {
    "duration": 51,
    "start_time": "2023-12-12T09:19:36.629Z"
   },
   {
    "duration": 54,
    "start_time": "2023-12-12T09:22:45.918Z"
   },
   {
    "duration": 45,
    "start_time": "2023-12-12T09:23:08.238Z"
   },
   {
    "duration": 62,
    "start_time": "2023-12-12T09:23:32.711Z"
   },
   {
    "duration": 52,
    "start_time": "2023-12-12T09:23:42.815Z"
   },
   {
    "duration": 70,
    "start_time": "2023-12-12T09:24:41.315Z"
   },
   {
    "duration": 53,
    "start_time": "2023-12-12T09:25:50.745Z"
   },
   {
    "duration": 1460,
    "start_time": "2023-12-12T14:12:50.472Z"
   },
   {
    "duration": 573,
    "start_time": "2023-12-12T14:12:51.934Z"
   },
   {
    "duration": 68,
    "start_time": "2023-12-12T14:12:52.509Z"
   },
   {
    "duration": 78,
    "start_time": "2023-12-12T14:12:52.589Z"
   },
   {
    "duration": 20,
    "start_time": "2023-12-12T14:12:52.669Z"
   },
   {
    "duration": 122,
    "start_time": "2023-12-12T14:12:52.691Z"
   },
   {
    "duration": 6,
    "start_time": "2023-12-12T14:12:52.815Z"
   },
   {
    "duration": 93,
    "start_time": "2023-12-12T14:12:52.822Z"
   },
   {
    "duration": 116,
    "start_time": "2023-12-12T14:12:52.916Z"
   },
   {
    "duration": 14,
    "start_time": "2023-12-12T14:12:53.035Z"
   },
   {
    "duration": 11,
    "start_time": "2023-12-12T14:12:53.050Z"
   },
   {
    "duration": 41,
    "start_time": "2023-12-12T14:12:53.063Z"
   },
   {
    "duration": 544,
    "start_time": "2023-12-12T14:12:53.105Z"
   },
   {
    "duration": 80,
    "start_time": "2023-12-12T14:12:53.651Z"
   },
   {
    "duration": 36,
    "start_time": "2023-12-12T14:12:53.732Z"
   },
   {
    "duration": 78,
    "start_time": "2023-12-12T14:12:53.769Z"
   },
   {
    "duration": 1840,
    "start_time": "2023-12-12T14:12:53.848Z"
   },
   {
    "duration": 65,
    "start_time": "2023-12-12T14:12:55.690Z"
   },
   {
    "duration": 39,
    "start_time": "2023-12-12T14:12:55.757Z"
   },
   {
    "duration": 38,
    "start_time": "2023-12-12T14:12:55.797Z"
   },
   {
    "duration": 74,
    "start_time": "2023-12-12T14:12:55.837Z"
   },
   {
    "duration": 297,
    "start_time": "2023-12-12T14:12:55.913Z"
   },
   {
    "duration": 443,
    "start_time": "2023-12-12T14:12:56.212Z"
   },
   {
    "duration": 13,
    "start_time": "2023-12-12T14:12:56.657Z"
   },
   {
    "duration": 112,
    "start_time": "2023-12-12T14:12:56.671Z"
   },
   {
    "duration": 232,
    "start_time": "2023-12-12T14:12:56.788Z"
   },
   {
    "duration": 265,
    "start_time": "2023-12-12T14:12:57.022Z"
   },
   {
    "duration": 10,
    "start_time": "2023-12-12T14:12:57.291Z"
   },
   {
    "duration": 9,
    "start_time": "2023-12-12T14:12:57.303Z"
   },
   {
    "duration": 39,
    "start_time": "2023-12-12T14:12:57.314Z"
   },
   {
    "duration": 236,
    "start_time": "2023-12-12T14:12:57.355Z"
   },
   {
    "duration": 42,
    "start_time": "2023-12-12T14:12:57.593Z"
   },
   {
    "duration": 122,
    "start_time": "2023-12-12T14:12:57.637Z"
   },
   {
    "duration": 6,
    "start_time": "2023-12-12T14:12:57.761Z"
   },
   {
    "duration": 62,
    "start_time": "2023-12-12T14:12:57.769Z"
   },
   {
    "duration": 183,
    "start_time": "2023-12-12T14:12:57.833Z"
   },
   {
    "duration": 187,
    "start_time": "2023-12-12T14:12:58.018Z"
   },
   {
    "duration": 212,
    "start_time": "2023-12-12T14:12:58.208Z"
   },
   {
    "duration": 60,
    "start_time": "2023-12-12T14:14:24.070Z"
   },
   {
    "duration": 65,
    "start_time": "2023-12-12T14:14:40.455Z"
   },
   {
    "duration": 42,
    "start_time": "2023-12-12T14:15:39.994Z"
   },
   {
    "duration": 143,
    "start_time": "2023-12-12T14:15:52.048Z"
   },
   {
    "duration": 76,
    "start_time": "2023-12-12T14:17:44.235Z"
   },
   {
    "duration": 1189,
    "start_time": "2023-12-12T14:18:42.535Z"
   },
   {
    "duration": 230,
    "start_time": "2023-12-12T14:18:43.725Z"
   },
   {
    "duration": 71,
    "start_time": "2023-12-12T14:18:43.956Z"
   },
   {
    "duration": 86,
    "start_time": "2023-12-12T14:18:44.029Z"
   },
   {
    "duration": 8,
    "start_time": "2023-12-12T14:18:44.116Z"
   },
   {
    "duration": 108,
    "start_time": "2023-12-12T14:18:44.126Z"
   },
   {
    "duration": 6,
    "start_time": "2023-12-12T14:18:44.235Z"
   },
   {
    "duration": 83,
    "start_time": "2023-12-12T14:18:44.242Z"
   },
   {
    "duration": 117,
    "start_time": "2023-12-12T14:18:44.327Z"
   },
   {
    "duration": 14,
    "start_time": "2023-12-12T14:18:44.447Z"
   },
   {
    "duration": 24,
    "start_time": "2023-12-12T14:18:44.463Z"
   },
   {
    "duration": 54,
    "start_time": "2023-12-12T14:18:44.489Z"
   },
   {
    "duration": 531,
    "start_time": "2023-12-12T14:18:44.544Z"
   },
   {
    "duration": 67,
    "start_time": "2023-12-12T14:18:45.077Z"
   },
   {
    "duration": 51,
    "start_time": "2023-12-12T14:18:45.146Z"
   },
   {
    "duration": 96,
    "start_time": "2023-12-12T14:18:45.199Z"
   },
   {
    "duration": 1803,
    "start_time": "2023-12-12T14:18:45.297Z"
   },
   {
    "duration": 113,
    "start_time": "2023-12-12T14:18:47.102Z"
   },
   {
    "duration": 26,
    "start_time": "2023-12-12T14:18:47.217Z"
   },
   {
    "duration": 47,
    "start_time": "2023-12-12T14:18:47.245Z"
   },
   {
    "duration": 65,
    "start_time": "2023-12-12T14:18:47.294Z"
   },
   {
    "duration": 301,
    "start_time": "2023-12-12T14:18:47.361Z"
   },
   {
    "duration": 432,
    "start_time": "2023-12-12T14:18:47.664Z"
   },
   {
    "duration": 13,
    "start_time": "2023-12-12T14:18:48.097Z"
   },
   {
    "duration": 121,
    "start_time": "2023-12-12T14:18:48.112Z"
   },
   {
    "duration": 225,
    "start_time": "2023-12-12T14:18:48.234Z"
   },
   {
    "duration": 250,
    "start_time": "2023-12-12T14:18:48.460Z"
   },
   {
    "duration": 11,
    "start_time": "2023-12-12T14:18:48.713Z"
   },
   {
    "duration": 43,
    "start_time": "2023-12-12T14:18:48.725Z"
   },
   {
    "duration": 55,
    "start_time": "2023-12-12T14:18:48.770Z"
   },
   {
    "duration": 281,
    "start_time": "2023-12-12T14:18:48.826Z"
   },
   {
    "duration": 43,
    "start_time": "2023-12-12T14:18:49.109Z"
   },
   {
    "duration": 117,
    "start_time": "2023-12-12T14:18:49.153Z"
   },
   {
    "duration": 6,
    "start_time": "2023-12-12T14:18:49.272Z"
   },
   {
    "duration": 45,
    "start_time": "2023-12-12T14:18:49.287Z"
   },
   {
    "duration": 197,
    "start_time": "2023-12-12T14:18:49.334Z"
   },
   {
    "duration": 215,
    "start_time": "2023-12-12T14:18:49.532Z"
   },
   {
    "duration": 211,
    "start_time": "2023-12-12T14:18:49.749Z"
   },
   {
    "duration": 104,
    "start_time": "2023-12-12T14:19:48.118Z"
   },
   {
    "duration": 200,
    "start_time": "2023-12-12T14:20:57.636Z"
   },
   {
    "duration": 110,
    "start_time": "2023-12-12T14:22:03.151Z"
   },
   {
    "duration": 102,
    "start_time": "2023-12-12T14:24:23.983Z"
   },
   {
    "duration": 103,
    "start_time": "2023-12-12T14:24:37.369Z"
   },
   {
    "duration": 103,
    "start_time": "2023-12-12T14:24:51.533Z"
   },
   {
    "duration": 99,
    "start_time": "2023-12-12T14:27:25.863Z"
   },
   {
    "duration": 99,
    "start_time": "2023-12-12T14:28:36.148Z"
   },
   {
    "duration": 98,
    "start_time": "2023-12-12T14:28:44.008Z"
   },
   {
    "duration": 6,
    "start_time": "2023-12-12T14:29:03.074Z"
   },
   {
    "duration": 98,
    "start_time": "2023-12-12T14:29:07.478Z"
   },
   {
    "duration": 6,
    "start_time": "2023-12-12T14:29:30.555Z"
   },
   {
    "duration": 102,
    "start_time": "2023-12-12T14:29:57.237Z"
   },
   {
    "duration": 113,
    "start_time": "2023-12-12T14:30:09.995Z"
   },
   {
    "duration": 1204,
    "start_time": "2023-12-12T14:30:18.545Z"
   },
   {
    "duration": 230,
    "start_time": "2023-12-12T14:30:19.751Z"
   },
   {
    "duration": 70,
    "start_time": "2023-12-12T14:30:19.982Z"
   },
   {
    "duration": 92,
    "start_time": "2023-12-12T14:30:20.055Z"
   },
   {
    "duration": 9,
    "start_time": "2023-12-12T14:30:20.148Z"
   },
   {
    "duration": 127,
    "start_time": "2023-12-12T14:30:20.158Z"
   },
   {
    "duration": 5,
    "start_time": "2023-12-12T14:30:20.287Z"
   },
   {
    "duration": 88,
    "start_time": "2023-12-12T14:30:20.293Z"
   },
   {
    "duration": 112,
    "start_time": "2023-12-12T14:30:20.383Z"
   },
   {
    "duration": 15,
    "start_time": "2023-12-12T14:30:20.498Z"
   },
   {
    "duration": 36,
    "start_time": "2023-12-12T14:30:20.514Z"
   },
   {
    "duration": 60,
    "start_time": "2023-12-12T14:30:20.551Z"
   },
   {
    "duration": 527,
    "start_time": "2023-12-12T14:30:20.612Z"
   },
   {
    "duration": 72,
    "start_time": "2023-12-12T14:30:21.140Z"
   },
   {
    "duration": 35,
    "start_time": "2023-12-12T14:30:21.213Z"
   },
   {
    "duration": 116,
    "start_time": "2023-12-12T14:30:21.249Z"
   },
   {
    "duration": 1895,
    "start_time": "2023-12-12T14:30:21.367Z"
   },
   {
    "duration": 119,
    "start_time": "2023-12-12T14:30:23.264Z"
   },
   {
    "duration": 26,
    "start_time": "2023-12-12T14:30:23.388Z"
   },
   {
    "duration": 40,
    "start_time": "2023-12-12T14:30:23.415Z"
   },
   {
    "duration": 85,
    "start_time": "2023-12-12T14:30:23.456Z"
   },
   {
    "duration": 378,
    "start_time": "2023-12-12T14:30:23.543Z"
   },
   {
    "duration": 470,
    "start_time": "2023-12-12T14:30:23.923Z"
   },
   {
    "duration": 13,
    "start_time": "2023-12-12T14:30:24.394Z"
   },
   {
    "duration": 117,
    "start_time": "2023-12-12T14:30:24.409Z"
   },
   {
    "duration": 232,
    "start_time": "2023-12-12T14:30:24.528Z"
   },
   {
    "duration": 235,
    "start_time": "2023-12-12T14:30:24.761Z"
   },
   {
    "duration": 11,
    "start_time": "2023-12-12T14:30:24.999Z"
   },
   {
    "duration": 33,
    "start_time": "2023-12-12T14:30:25.011Z"
   },
   {
    "duration": 49,
    "start_time": "2023-12-12T14:30:25.046Z"
   },
   {
    "duration": 296,
    "start_time": "2023-12-12T14:30:25.097Z"
   },
   {
    "duration": 44,
    "start_time": "2023-12-12T14:30:25.395Z"
   },
   {
    "duration": 121,
    "start_time": "2023-12-12T14:30:25.441Z"
   },
   {
    "duration": 6,
    "start_time": "2023-12-12T14:30:25.564Z"
   },
   {
    "duration": 46,
    "start_time": "2023-12-12T14:30:25.571Z"
   },
   {
    "duration": 193,
    "start_time": "2023-12-12T14:30:25.619Z"
   },
   {
    "duration": 200,
    "start_time": "2023-12-12T14:30:25.814Z"
   },
   {
    "duration": 193,
    "start_time": "2023-12-12T14:30:26.015Z"
   },
   {
    "duration": 113,
    "start_time": "2023-12-12T14:32:47.323Z"
   },
   {
    "duration": 70,
    "start_time": "2023-12-12T14:34:42.149Z"
   },
   {
    "duration": 64,
    "start_time": "2023-12-12T14:58:30.696Z"
   },
   {
    "duration": 1368,
    "start_time": "2023-12-12T14:59:42.174Z"
   },
   {
    "duration": 237,
    "start_time": "2023-12-12T14:59:43.544Z"
   },
   {
    "duration": 68,
    "start_time": "2023-12-12T14:59:43.788Z"
   },
   {
    "duration": 94,
    "start_time": "2023-12-12T14:59:43.857Z"
   },
   {
    "duration": 8,
    "start_time": "2023-12-12T14:59:43.954Z"
   },
   {
    "duration": 103,
    "start_time": "2023-12-12T14:59:43.964Z"
   },
   {
    "duration": 6,
    "start_time": "2023-12-12T14:59:44.069Z"
   },
   {
    "duration": 70,
    "start_time": "2023-12-12T14:59:44.076Z"
   },
   {
    "duration": 125,
    "start_time": "2023-12-12T14:59:44.148Z"
   },
   {
    "duration": 16,
    "start_time": "2023-12-12T14:59:44.274Z"
   },
   {
    "duration": 39,
    "start_time": "2023-12-12T14:59:44.292Z"
   },
   {
    "duration": 38,
    "start_time": "2023-12-12T14:59:44.332Z"
   },
   {
    "duration": 533,
    "start_time": "2023-12-12T14:59:44.372Z"
   },
   {
    "duration": 68,
    "start_time": "2023-12-12T14:59:44.908Z"
   },
   {
    "duration": 35,
    "start_time": "2023-12-12T14:59:44.987Z"
   },
   {
    "duration": 147,
    "start_time": "2023-12-12T14:59:45.024Z"
   },
   {
    "duration": 1859,
    "start_time": "2023-12-12T14:59:45.173Z"
   },
   {
    "duration": 117,
    "start_time": "2023-12-12T14:59:47.034Z"
   },
   {
    "duration": 26,
    "start_time": "2023-12-12T14:59:47.152Z"
   },
   {
    "duration": 34,
    "start_time": "2023-12-12T14:59:47.190Z"
   },
   {
    "duration": 79,
    "start_time": "2023-12-12T14:59:47.225Z"
   },
   {
    "duration": 280,
    "start_time": "2023-12-12T14:59:47.306Z"
   },
   {
    "duration": 466,
    "start_time": "2023-12-12T14:59:47.588Z"
   },
   {
    "duration": 9,
    "start_time": "2023-12-12T14:59:48.056Z"
   },
   {
    "duration": 34,
    "start_time": "2023-12-12T14:59:48.066Z"
   },
   {
    "duration": 116,
    "start_time": "2023-12-12T14:59:48.102Z"
   },
   {
    "duration": 220,
    "start_time": "2023-12-12T14:59:48.220Z"
   },
   {
    "duration": 280,
    "start_time": "2023-12-12T14:59:48.442Z"
   },
   {
    "duration": 11,
    "start_time": "2023-12-12T14:59:48.724Z"
   },
   {
    "duration": 44,
    "start_time": "2023-12-12T14:59:48.737Z"
   },
   {
    "duration": 20,
    "start_time": "2023-12-12T14:59:48.783Z"
   },
   {
    "duration": 329,
    "start_time": "2023-12-12T14:59:48.805Z"
   },
   {
    "duration": 52,
    "start_time": "2023-12-12T14:59:49.136Z"
   },
   {
    "duration": 112,
    "start_time": "2023-12-12T14:59:49.190Z"
   },
   {
    "duration": 6,
    "start_time": "2023-12-12T14:59:49.304Z"
   },
   {
    "duration": 58,
    "start_time": "2023-12-12T14:59:49.312Z"
   },
   {
    "duration": 197,
    "start_time": "2023-12-12T14:59:49.372Z"
   },
   {
    "duration": 222,
    "start_time": "2023-12-12T14:59:49.571Z"
   },
   {
    "duration": 205,
    "start_time": "2023-12-12T14:59:49.795Z"
   },
   {
    "duration": 105,
    "start_time": "2023-12-12T15:02:38.618Z"
   },
   {
    "duration": 1379,
    "start_time": "2023-12-12T15:02:52.106Z"
   },
   {
    "duration": 9,
    "start_time": "2023-12-12T15:03:05.465Z"
   },
   {
    "duration": 302,
    "start_time": "2023-12-12T15:03:18.258Z"
   },
   {
    "duration": 390,
    "start_time": "2023-12-12T15:03:23.008Z"
   },
   {
    "duration": 318,
    "start_time": "2023-12-12T15:03:36.995Z"
   },
   {
    "duration": 12,
    "start_time": "2023-12-12T15:03:48.600Z"
   },
   {
    "duration": 9,
    "start_time": "2023-12-12T15:03:52.806Z"
   },
   {
    "duration": 328,
    "start_time": "2023-12-12T15:04:17.025Z"
   },
   {
    "duration": 853,
    "start_time": "2023-12-12T15:04:32.486Z"
   },
   {
    "duration": 509,
    "start_time": "2023-12-12T15:04:44.637Z"
   },
   {
    "duration": 397,
    "start_time": "2023-12-12T15:04:54.214Z"
   },
   {
    "duration": 322,
    "start_time": "2023-12-12T15:05:17.918Z"
   },
   {
    "duration": 1232,
    "start_time": "2023-12-12T15:05:25.578Z"
   },
   {
    "duration": 229,
    "start_time": "2023-12-12T15:05:26.812Z"
   },
   {
    "duration": 80,
    "start_time": "2023-12-12T15:05:27.043Z"
   },
   {
    "duration": 85,
    "start_time": "2023-12-12T15:05:27.125Z"
   },
   {
    "duration": 7,
    "start_time": "2023-12-12T15:05:27.213Z"
   },
   {
    "duration": 110,
    "start_time": "2023-12-12T15:05:27.222Z"
   },
   {
    "duration": 6,
    "start_time": "2023-12-12T15:05:27.333Z"
   },
   {
    "duration": 92,
    "start_time": "2023-12-12T15:05:27.340Z"
   },
   {
    "duration": 113,
    "start_time": "2023-12-12T15:05:27.434Z"
   },
   {
    "duration": 14,
    "start_time": "2023-12-12T15:05:27.550Z"
   },
   {
    "duration": 44,
    "start_time": "2023-12-12T15:05:27.566Z"
   },
   {
    "duration": 26,
    "start_time": "2023-12-12T15:05:27.612Z"
   },
   {
    "duration": 535,
    "start_time": "2023-12-12T15:05:27.640Z"
   },
   {
    "duration": 68,
    "start_time": "2023-12-12T15:05:28.177Z"
   },
   {
    "duration": 48,
    "start_time": "2023-12-12T15:05:28.246Z"
   },
   {
    "duration": 102,
    "start_time": "2023-12-12T15:05:28.296Z"
   },
   {
    "duration": 1801,
    "start_time": "2023-12-12T15:05:28.400Z"
   },
   {
    "duration": 120,
    "start_time": "2023-12-12T15:05:30.203Z"
   },
   {
    "duration": 26,
    "start_time": "2023-12-12T15:05:30.325Z"
   },
   {
    "duration": 69,
    "start_time": "2023-12-12T15:05:30.353Z"
   },
   {
    "duration": 100,
    "start_time": "2023-12-12T15:05:30.424Z"
   },
   {
    "duration": 284,
    "start_time": "2023-12-12T15:05:30.527Z"
   },
   {
    "duration": 452,
    "start_time": "2023-12-12T15:05:30.813Z"
   },
   {
    "duration": 1547,
    "start_time": "2023-12-12T15:05:31.267Z"
   },
   {
    "duration": 0,
    "start_time": "2023-12-12T15:05:32.817Z"
   },
   {
    "duration": 0,
    "start_time": "2023-12-12T15:05:32.818Z"
   },
   {
    "duration": 0,
    "start_time": "2023-12-12T15:05:32.819Z"
   },
   {
    "duration": 0,
    "start_time": "2023-12-12T15:05:32.820Z"
   },
   {
    "duration": 0,
    "start_time": "2023-12-12T15:05:32.821Z"
   },
   {
    "duration": 0,
    "start_time": "2023-12-12T15:05:32.823Z"
   },
   {
    "duration": 0,
    "start_time": "2023-12-12T15:05:32.824Z"
   },
   {
    "duration": 0,
    "start_time": "2023-12-12T15:05:32.825Z"
   },
   {
    "duration": 0,
    "start_time": "2023-12-12T15:05:32.826Z"
   },
   {
    "duration": 0,
    "start_time": "2023-12-12T15:05:32.827Z"
   },
   {
    "duration": 0,
    "start_time": "2023-12-12T15:05:32.828Z"
   },
   {
    "duration": 0,
    "start_time": "2023-12-12T15:05:32.830Z"
   },
   {
    "duration": 0,
    "start_time": "2023-12-12T15:05:32.831Z"
   },
   {
    "duration": 0,
    "start_time": "2023-12-12T15:05:32.832Z"
   },
   {
    "duration": 0,
    "start_time": "2023-12-12T15:05:32.833Z"
   },
   {
    "duration": 1181,
    "start_time": "2023-12-12T15:06:32.143Z"
   },
   {
    "duration": 229,
    "start_time": "2023-12-12T15:06:33.326Z"
   },
   {
    "duration": 72,
    "start_time": "2023-12-12T15:06:33.557Z"
   },
   {
    "duration": 97,
    "start_time": "2023-12-12T15:06:33.631Z"
   },
   {
    "duration": 8,
    "start_time": "2023-12-12T15:06:33.730Z"
   },
   {
    "duration": 97,
    "start_time": "2023-12-12T15:06:33.740Z"
   },
   {
    "duration": 5,
    "start_time": "2023-12-12T15:06:33.838Z"
   },
   {
    "duration": 78,
    "start_time": "2023-12-12T15:06:33.845Z"
   },
   {
    "duration": 117,
    "start_time": "2023-12-12T15:06:33.924Z"
   },
   {
    "duration": 15,
    "start_time": "2023-12-12T15:06:34.043Z"
   },
   {
    "duration": 9,
    "start_time": "2023-12-12T15:06:34.059Z"
   },
   {
    "duration": 41,
    "start_time": "2023-12-12T15:06:34.069Z"
   },
   {
    "duration": 553,
    "start_time": "2023-12-12T15:06:34.111Z"
   },
   {
    "duration": 72,
    "start_time": "2023-12-12T15:06:34.666Z"
   },
   {
    "duration": 38,
    "start_time": "2023-12-12T15:06:34.739Z"
   },
   {
    "duration": 85,
    "start_time": "2023-12-12T15:06:34.788Z"
   },
   {
    "duration": 1839,
    "start_time": "2023-12-12T15:06:34.875Z"
   },
   {
    "duration": 114,
    "start_time": "2023-12-12T15:06:36.716Z"
   },
   {
    "duration": 24,
    "start_time": "2023-12-12T15:06:36.832Z"
   },
   {
    "duration": 46,
    "start_time": "2023-12-12T15:06:36.857Z"
   },
   {
    "duration": 62,
    "start_time": "2023-12-12T15:06:36.904Z"
   },
   {
    "duration": 288,
    "start_time": "2023-12-12T15:06:36.968Z"
   },
   {
    "duration": 447,
    "start_time": "2023-12-12T15:06:37.257Z"
   },
   {
    "duration": 1269,
    "start_time": "2023-12-12T15:06:37.706Z"
   },
   {
    "duration": 11,
    "start_time": "2023-12-12T15:07:25.917Z"
   },
   {
    "duration": 9,
    "start_time": "2023-12-12T15:09:42.888Z"
   },
   {
    "duration": 11,
    "start_time": "2023-12-12T15:09:43.345Z"
   },
   {
    "duration": 1213,
    "start_time": "2023-12-12T15:09:51.998Z"
   },
   {
    "duration": 230,
    "start_time": "2023-12-12T15:09:53.213Z"
   },
   {
    "duration": 77,
    "start_time": "2023-12-12T15:09:53.445Z"
   },
   {
    "duration": 93,
    "start_time": "2023-12-12T15:09:53.524Z"
   },
   {
    "duration": 9,
    "start_time": "2023-12-12T15:09:53.618Z"
   },
   {
    "duration": 130,
    "start_time": "2023-12-12T15:09:53.629Z"
   },
   {
    "duration": 5,
    "start_time": "2023-12-12T15:09:53.761Z"
   },
   {
    "duration": 158,
    "start_time": "2023-12-12T15:09:53.768Z"
   },
   {
    "duration": 236,
    "start_time": "2023-12-12T15:09:53.928Z"
   },
   {
    "duration": 14,
    "start_time": "2023-12-12T15:09:54.167Z"
   },
   {
    "duration": 80,
    "start_time": "2023-12-12T15:09:54.188Z"
   },
   {
    "duration": 33,
    "start_time": "2023-12-12T15:09:54.270Z"
   },
   {
    "duration": 603,
    "start_time": "2023-12-12T15:09:54.305Z"
   },
   {
    "duration": 66,
    "start_time": "2023-12-12T15:09:54.910Z"
   },
   {
    "duration": 41,
    "start_time": "2023-12-12T15:09:54.978Z"
   },
   {
    "duration": 220,
    "start_time": "2023-12-12T15:09:55.021Z"
   },
   {
    "duration": 2056,
    "start_time": "2023-12-12T15:09:55.243Z"
   },
   {
    "duration": 121,
    "start_time": "2023-12-12T15:09:57.300Z"
   },
   {
    "duration": 25,
    "start_time": "2023-12-12T15:09:57.422Z"
   },
   {
    "duration": 45,
    "start_time": "2023-12-12T15:09:57.449Z"
   },
   {
    "duration": 83,
    "start_time": "2023-12-12T15:09:57.496Z"
   },
   {
    "duration": 279,
    "start_time": "2023-12-12T15:09:57.580Z"
   },
   {
    "duration": 443,
    "start_time": "2023-12-12T15:09:57.861Z"
   },
   {
    "duration": 9,
    "start_time": "2023-12-12T15:09:58.306Z"
   },
   {
    "duration": 144,
    "start_time": "2023-12-12T15:09:58.316Z"
   },
   {
    "duration": 0,
    "start_time": "2023-12-12T15:09:58.461Z"
   },
   {
    "duration": 0,
    "start_time": "2023-12-12T15:09:58.463Z"
   },
   {
    "duration": 1,
    "start_time": "2023-12-12T15:09:58.464Z"
   },
   {
    "duration": 0,
    "start_time": "2023-12-12T15:09:58.466Z"
   },
   {
    "duration": 0,
    "start_time": "2023-12-12T15:09:58.466Z"
   },
   {
    "duration": 0,
    "start_time": "2023-12-12T15:09:58.468Z"
   },
   {
    "duration": 0,
    "start_time": "2023-12-12T15:09:58.469Z"
   },
   {
    "duration": 0,
    "start_time": "2023-12-12T15:09:58.470Z"
   },
   {
    "duration": 0,
    "start_time": "2023-12-12T15:09:58.471Z"
   },
   {
    "duration": 0,
    "start_time": "2023-12-12T15:09:58.473Z"
   },
   {
    "duration": 0,
    "start_time": "2023-12-12T15:09:58.474Z"
   },
   {
    "duration": 0,
    "start_time": "2023-12-12T15:09:58.488Z"
   },
   {
    "duration": 0,
    "start_time": "2023-12-12T15:09:58.489Z"
   },
   {
    "duration": 0,
    "start_time": "2023-12-12T15:09:58.490Z"
   },
   {
    "duration": 11,
    "start_time": "2023-12-12T15:11:29.539Z"
   },
   {
    "duration": 16,
    "start_time": "2023-12-12T15:12:30.901Z"
   },
   {
    "duration": 87,
    "start_time": "2023-12-12T15:18:03.575Z"
   },
   {
    "duration": 8,
    "start_time": "2023-12-12T15:23:11.090Z"
   },
   {
    "duration": 1173,
    "start_time": "2023-12-12T15:23:18.756Z"
   },
   {
    "duration": 239,
    "start_time": "2023-12-12T15:23:19.931Z"
   },
   {
    "duration": 67,
    "start_time": "2023-12-12T15:23:20.171Z"
   },
   {
    "duration": 89,
    "start_time": "2023-12-12T15:23:20.240Z"
   },
   {
    "duration": 9,
    "start_time": "2023-12-12T15:23:20.330Z"
   },
   {
    "duration": 109,
    "start_time": "2023-12-12T15:23:20.340Z"
   },
   {
    "duration": 6,
    "start_time": "2023-12-12T15:23:20.451Z"
   },
   {
    "duration": 80,
    "start_time": "2023-12-12T15:23:20.458Z"
   },
   {
    "duration": 118,
    "start_time": "2023-12-12T15:23:20.539Z"
   },
   {
    "duration": 14,
    "start_time": "2023-12-12T15:23:20.660Z"
   },
   {
    "duration": 53,
    "start_time": "2023-12-12T15:23:20.676Z"
   },
   {
    "duration": 37,
    "start_time": "2023-12-12T15:23:20.731Z"
   },
   {
    "duration": 526,
    "start_time": "2023-12-12T15:23:20.769Z"
   },
   {
    "duration": 65,
    "start_time": "2023-12-12T15:23:21.297Z"
   },
   {
    "duration": 48,
    "start_time": "2023-12-12T15:23:21.364Z"
   },
   {
    "duration": 95,
    "start_time": "2023-12-12T15:23:21.414Z"
   },
   {
    "duration": 1853,
    "start_time": "2023-12-12T15:23:21.511Z"
   },
   {
    "duration": 114,
    "start_time": "2023-12-12T15:23:23.366Z"
   },
   {
    "duration": 25,
    "start_time": "2023-12-12T15:23:23.487Z"
   },
   {
    "duration": 52,
    "start_time": "2023-12-12T15:23:23.514Z"
   },
   {
    "duration": 157,
    "start_time": "2023-12-12T15:23:23.568Z"
   },
   {
    "duration": 271,
    "start_time": "2023-12-12T15:23:23.726Z"
   },
   {
    "duration": 433,
    "start_time": "2023-12-12T15:23:23.999Z"
   },
   {
    "duration": 13,
    "start_time": "2023-12-12T15:23:24.434Z"
   },
   {
    "duration": 27,
    "start_time": "2023-12-12T15:23:24.449Z"
   },
   {
    "duration": 99,
    "start_time": "2023-12-12T15:23:24.478Z"
   },
   {
    "duration": 237,
    "start_time": "2023-12-12T15:23:24.578Z"
   },
   {
    "duration": 243,
    "start_time": "2023-12-12T15:23:24.819Z"
   },
   {
    "duration": 11,
    "start_time": "2023-12-12T15:23:25.065Z"
   },
   {
    "duration": 5,
    "start_time": "2023-12-12T15:23:25.088Z"
   },
   {
    "duration": 34,
    "start_time": "2023-12-12T15:23:25.095Z"
   },
   {
    "duration": 246,
    "start_time": "2023-12-12T15:23:25.131Z"
   },
   {
    "duration": 52,
    "start_time": "2023-12-12T15:23:25.379Z"
   },
   {
    "duration": 120,
    "start_time": "2023-12-12T15:23:25.433Z"
   },
   {
    "duration": 6,
    "start_time": "2023-12-12T15:23:25.555Z"
   },
   {
    "duration": 40,
    "start_time": "2023-12-12T15:23:25.563Z"
   },
   {
    "duration": 224,
    "start_time": "2023-12-12T15:23:25.605Z"
   },
   {
    "duration": 217,
    "start_time": "2023-12-12T15:23:25.830Z"
   },
   {
    "duration": 206,
    "start_time": "2023-12-12T15:23:26.048Z"
   },
   {
    "duration": 111,
    "start_time": "2023-12-12T15:23:26.256Z"
   },
   {
    "duration": 12,
    "start_time": "2023-12-12T15:24:17.780Z"
   },
   {
    "duration": 87,
    "start_time": "2023-12-12T15:27:04.574Z"
   },
   {
    "duration": 13,
    "start_time": "2023-12-12T15:30:28.615Z"
   },
   {
    "duration": 1394,
    "start_time": "2023-12-12T15:30:36.665Z"
   },
   {
    "duration": 1428,
    "start_time": "2023-12-12T15:31:00.019Z"
   },
   {
    "duration": 16,
    "start_time": "2023-12-12T15:31:10.195Z"
   },
   {
    "duration": 32,
    "start_time": "2023-12-12T15:31:21.154Z"
   },
   {
    "duration": 1344,
    "start_time": "2023-12-12T15:31:54.180Z"
   },
   {
    "duration": 244,
    "start_time": "2023-12-12T15:31:55.526Z"
   },
   {
    "duration": 71,
    "start_time": "2023-12-12T15:31:55.772Z"
   },
   {
    "duration": 92,
    "start_time": "2023-12-12T15:31:55.845Z"
   },
   {
    "duration": 9,
    "start_time": "2023-12-12T15:31:55.939Z"
   },
   {
    "duration": 103,
    "start_time": "2023-12-12T15:31:55.950Z"
   },
   {
    "duration": 7,
    "start_time": "2023-12-12T15:31:56.055Z"
   },
   {
    "duration": 76,
    "start_time": "2023-12-12T15:31:56.064Z"
   },
   {
    "duration": 121,
    "start_time": "2023-12-12T15:31:56.142Z"
   },
   {
    "duration": 14,
    "start_time": "2023-12-12T15:31:56.265Z"
   },
   {
    "duration": 8,
    "start_time": "2023-12-12T15:31:56.287Z"
   },
   {
    "duration": 24,
    "start_time": "2023-12-12T15:31:56.297Z"
   },
   {
    "duration": 548,
    "start_time": "2023-12-12T15:31:56.323Z"
   },
   {
    "duration": 75,
    "start_time": "2023-12-12T15:31:56.874Z"
   },
   {
    "duration": 39,
    "start_time": "2023-12-12T15:31:56.951Z"
   },
   {
    "duration": 99,
    "start_time": "2023-12-12T15:31:56.992Z"
   },
   {
    "duration": 1809,
    "start_time": "2023-12-12T15:31:57.092Z"
   },
   {
    "duration": 114,
    "start_time": "2023-12-12T15:31:58.902Z"
   },
   {
    "duration": 25,
    "start_time": "2023-12-12T15:31:59.017Z"
   },
   {
    "duration": 46,
    "start_time": "2023-12-12T15:31:59.044Z"
   },
   {
    "duration": 62,
    "start_time": "2023-12-12T15:31:59.092Z"
   },
   {
    "duration": 286,
    "start_time": "2023-12-12T15:31:59.156Z"
   },
   {
    "duration": 460,
    "start_time": "2023-12-12T15:31:59.444Z"
   },
   {
    "duration": 13,
    "start_time": "2023-12-12T15:31:59.906Z"
   },
   {
    "duration": 10,
    "start_time": "2023-12-12T15:31:59.920Z"
   },
   {
    "duration": 114,
    "start_time": "2023-12-12T15:31:59.931Z"
   },
   {
    "duration": 231,
    "start_time": "2023-12-12T15:32:00.046Z"
   },
   {
    "duration": 236,
    "start_time": "2023-12-12T15:32:00.278Z"
   },
   {
    "duration": 12,
    "start_time": "2023-12-12T15:32:00.515Z"
   },
   {
    "duration": 29,
    "start_time": "2023-12-12T15:32:00.528Z"
   },
   {
    "duration": 68,
    "start_time": "2023-12-12T15:32:00.559Z"
   },
   {
    "duration": 264,
    "start_time": "2023-12-12T15:32:00.628Z"
   },
   {
    "duration": 44,
    "start_time": "2023-12-12T15:32:00.893Z"
   },
   {
    "duration": 127,
    "start_time": "2023-12-12T15:32:00.938Z"
   },
   {
    "duration": 0,
    "start_time": "2023-12-12T15:32:01.066Z"
   },
   {
    "duration": 0,
    "start_time": "2023-12-12T15:32:01.068Z"
   },
   {
    "duration": 0,
    "start_time": "2023-12-12T15:32:01.069Z"
   },
   {
    "duration": 0,
    "start_time": "2023-12-12T15:32:01.070Z"
   },
   {
    "duration": 0,
    "start_time": "2023-12-12T15:32:01.071Z"
   },
   {
    "duration": 0,
    "start_time": "2023-12-12T15:32:01.072Z"
   },
   {
    "duration": 14,
    "start_time": "2023-12-12T15:33:03.333Z"
   },
   {
    "duration": 20,
    "start_time": "2023-12-12T15:34:03.008Z"
   },
   {
    "duration": 17,
    "start_time": "2023-12-12T15:34:43.482Z"
   },
   {
    "duration": 1179,
    "start_time": "2023-12-12T15:34:53.638Z"
   },
   {
    "duration": 228,
    "start_time": "2023-12-12T15:34:54.819Z"
   },
   {
    "duration": 75,
    "start_time": "2023-12-12T15:34:55.049Z"
   },
   {
    "duration": 80,
    "start_time": "2023-12-12T15:34:55.126Z"
   },
   {
    "duration": 9,
    "start_time": "2023-12-12T15:34:55.207Z"
   },
   {
    "duration": 105,
    "start_time": "2023-12-12T15:34:55.218Z"
   },
   {
    "duration": 6,
    "start_time": "2023-12-12T15:34:55.325Z"
   },
   {
    "duration": 75,
    "start_time": "2023-12-12T15:34:55.332Z"
   },
   {
    "duration": 119,
    "start_time": "2023-12-12T15:34:55.408Z"
   },
   {
    "duration": 14,
    "start_time": "2023-12-12T15:34:55.530Z"
   },
   {
    "duration": 44,
    "start_time": "2023-12-12T15:34:55.546Z"
   },
   {
    "duration": 50,
    "start_time": "2023-12-12T15:34:55.591Z"
   },
   {
    "duration": 546,
    "start_time": "2023-12-12T15:34:55.642Z"
   },
   {
    "duration": 64,
    "start_time": "2023-12-12T15:34:56.190Z"
   },
   {
    "duration": 44,
    "start_time": "2023-12-12T15:34:56.256Z"
   },
   {
    "duration": 97,
    "start_time": "2023-12-12T15:34:56.302Z"
   },
   {
    "duration": 1809,
    "start_time": "2023-12-12T15:34:56.400Z"
   },
   {
    "duration": 114,
    "start_time": "2023-12-12T15:34:58.211Z"
   },
   {
    "duration": 24,
    "start_time": "2023-12-12T15:34:58.327Z"
   },
   {
    "duration": 46,
    "start_time": "2023-12-12T15:34:58.353Z"
   },
   {
    "duration": 77,
    "start_time": "2023-12-12T15:34:58.401Z"
   },
   {
    "duration": 276,
    "start_time": "2023-12-12T15:34:58.480Z"
   },
   {
    "duration": 434,
    "start_time": "2023-12-12T15:34:58.757Z"
   },
   {
    "duration": 14,
    "start_time": "2023-12-12T15:34:59.193Z"
   },
   {
    "duration": 27,
    "start_time": "2023-12-12T15:34:59.209Z"
   },
   {
    "duration": 106,
    "start_time": "2023-12-12T15:34:59.239Z"
   },
   {
    "duration": 228,
    "start_time": "2023-12-12T15:34:59.347Z"
   },
   {
    "duration": 266,
    "start_time": "2023-12-12T15:34:59.579Z"
   },
   {
    "duration": 11,
    "start_time": "2023-12-12T15:34:59.846Z"
   },
   {
    "duration": 12,
    "start_time": "2023-12-12T15:34:59.858Z"
   },
   {
    "duration": 49,
    "start_time": "2023-12-12T15:34:59.871Z"
   },
   {
    "duration": 245,
    "start_time": "2023-12-12T15:34:59.922Z"
   },
   {
    "duration": 55,
    "start_time": "2023-12-12T15:35:00.169Z"
   },
   {
    "duration": 157,
    "start_time": "2023-12-12T15:35:00.226Z"
   },
   {
    "duration": 0,
    "start_time": "2023-12-12T15:35:00.385Z"
   },
   {
    "duration": 0,
    "start_time": "2023-12-12T15:35:00.388Z"
   },
   {
    "duration": 0,
    "start_time": "2023-12-12T15:35:00.389Z"
   },
   {
    "duration": 0,
    "start_time": "2023-12-12T15:35:00.391Z"
   },
   {
    "duration": 0,
    "start_time": "2023-12-12T15:35:00.392Z"
   },
   {
    "duration": 0,
    "start_time": "2023-12-12T15:35:00.394Z"
   },
   {
    "duration": 18,
    "start_time": "2023-12-12T15:35:50.711Z"
   },
   {
    "duration": 18,
    "start_time": "2023-12-12T15:36:05.880Z"
   },
   {
    "duration": 11,
    "start_time": "2023-12-12T15:38:00.151Z"
   },
   {
    "duration": 11,
    "start_time": "2023-12-12T15:38:29.802Z"
   },
   {
    "duration": 1244,
    "start_time": "2023-12-12T15:38:38.773Z"
   },
   {
    "duration": 231,
    "start_time": "2023-12-12T15:38:40.019Z"
   },
   {
    "duration": 71,
    "start_time": "2023-12-12T15:38:40.252Z"
   },
   {
    "duration": 90,
    "start_time": "2023-12-12T15:38:40.325Z"
   },
   {
    "duration": 8,
    "start_time": "2023-12-12T15:38:40.417Z"
   },
   {
    "duration": 128,
    "start_time": "2023-12-12T15:38:40.426Z"
   },
   {
    "duration": 5,
    "start_time": "2023-12-12T15:38:40.556Z"
   },
   {
    "duration": 77,
    "start_time": "2023-12-12T15:38:40.563Z"
   },
   {
    "duration": 113,
    "start_time": "2023-12-12T15:38:40.642Z"
   },
   {
    "duration": 14,
    "start_time": "2023-12-12T15:38:40.758Z"
   },
   {
    "duration": 32,
    "start_time": "2023-12-12T15:38:40.774Z"
   },
   {
    "duration": 51,
    "start_time": "2023-12-12T15:38:40.808Z"
   },
   {
    "duration": 517,
    "start_time": "2023-12-12T15:38:40.860Z"
   },
   {
    "duration": 67,
    "start_time": "2023-12-12T15:38:41.378Z"
   },
   {
    "duration": 44,
    "start_time": "2023-12-12T15:38:41.446Z"
   },
   {
    "duration": 97,
    "start_time": "2023-12-12T15:38:41.491Z"
   },
   {
    "duration": 1807,
    "start_time": "2023-12-12T15:38:41.589Z"
   },
   {
    "duration": 119,
    "start_time": "2023-12-12T15:38:43.398Z"
   },
   {
    "duration": 25,
    "start_time": "2023-12-12T15:38:43.518Z"
   },
   {
    "duration": 59,
    "start_time": "2023-12-12T15:38:43.545Z"
   },
   {
    "duration": 116,
    "start_time": "2023-12-12T15:38:43.605Z"
   },
   {
    "duration": 283,
    "start_time": "2023-12-12T15:38:43.723Z"
   },
   {
    "duration": 434,
    "start_time": "2023-12-12T15:38:44.008Z"
   },
   {
    "duration": 13,
    "start_time": "2023-12-12T15:38:44.444Z"
   },
   {
    "duration": 32,
    "start_time": "2023-12-12T15:38:44.459Z"
   },
   {
    "duration": 114,
    "start_time": "2023-12-12T15:38:44.493Z"
   },
   {
    "duration": 232,
    "start_time": "2023-12-12T15:38:44.609Z"
   },
   {
    "duration": 239,
    "start_time": "2023-12-12T15:38:44.844Z"
   },
   {
    "duration": 11,
    "start_time": "2023-12-12T15:38:45.087Z"
   },
   {
    "duration": 62,
    "start_time": "2023-12-12T15:38:45.099Z"
   },
   {
    "duration": 70,
    "start_time": "2023-12-12T15:38:45.162Z"
   },
   {
    "duration": 284,
    "start_time": "2023-12-12T15:38:45.233Z"
   },
   {
    "duration": 45,
    "start_time": "2023-12-12T15:38:45.519Z"
   },
   {
    "duration": 8,
    "start_time": "2023-12-12T15:38:45.565Z"
   },
   {
    "duration": 38,
    "start_time": "2023-12-12T15:38:45.587Z"
   },
   {
    "duration": 185,
    "start_time": "2023-12-12T15:38:45.627Z"
   },
   {
    "duration": 194,
    "start_time": "2023-12-12T15:38:45.814Z"
   },
   {
    "duration": 201,
    "start_time": "2023-12-12T15:38:46.010Z"
   },
   {
    "duration": 115,
    "start_time": "2023-12-12T15:38:46.213Z"
   },
   {
    "duration": 938,
    "start_time": "2023-12-12T15:46:42.173Z"
   },
   {
    "duration": 11,
    "start_time": "2023-12-12T15:47:35.864Z"
   },
   {
    "duration": 1192,
    "start_time": "2023-12-12T15:50:49.111Z"
   },
   {
    "duration": 44,
    "start_time": "2023-12-12T15:51:29.762Z"
   },
   {
    "duration": 215,
    "start_time": "2023-12-12T15:52:47.010Z"
   },
   {
    "duration": 223,
    "start_time": "2023-12-12T15:53:11.219Z"
   },
   {
    "duration": 44,
    "start_time": "2023-12-12T15:53:19.518Z"
   },
   {
    "duration": 205,
    "start_time": "2023-12-12T15:54:06.370Z"
   },
   {
    "duration": 40,
    "start_time": "2023-12-12T15:54:36.412Z"
   },
   {
    "duration": 57,
    "start_time": "2023-12-12T15:54:54.006Z"
   },
   {
    "duration": 194,
    "start_time": "2023-12-12T15:56:06.287Z"
   },
   {
    "duration": 119,
    "start_time": "2023-12-12T16:06:40.111Z"
   },
   {
    "duration": 69,
    "start_time": "2023-12-12T16:07:04.239Z"
   },
   {
    "duration": 75,
    "start_time": "2023-12-12T16:08:09.627Z"
   },
   {
    "duration": 67,
    "start_time": "2023-12-12T16:12:10.169Z"
   },
   {
    "duration": 1253,
    "start_time": "2023-12-12T16:14:04.593Z"
   },
   {
    "duration": 236,
    "start_time": "2023-12-12T16:14:05.848Z"
   },
   {
    "duration": 70,
    "start_time": "2023-12-12T16:14:06.085Z"
   },
   {
    "duration": 91,
    "start_time": "2023-12-12T16:14:06.157Z"
   },
   {
    "duration": 10,
    "start_time": "2023-12-12T16:14:06.249Z"
   },
   {
    "duration": 104,
    "start_time": "2023-12-12T16:14:06.261Z"
   },
   {
    "duration": 7,
    "start_time": "2023-12-12T16:14:06.367Z"
   },
   {
    "duration": 68,
    "start_time": "2023-12-12T16:14:06.388Z"
   },
   {
    "duration": 118,
    "start_time": "2023-12-12T16:14:06.457Z"
   },
   {
    "duration": 20,
    "start_time": "2023-12-12T16:14:06.577Z"
   },
   {
    "duration": 30,
    "start_time": "2023-12-12T16:14:06.599Z"
   },
   {
    "duration": 25,
    "start_time": "2023-12-12T16:14:06.631Z"
   },
   {
    "duration": 545,
    "start_time": "2023-12-12T16:14:06.657Z"
   },
   {
    "duration": 67,
    "start_time": "2023-12-12T16:14:07.204Z"
   },
   {
    "duration": 46,
    "start_time": "2023-12-12T16:14:07.272Z"
   },
   {
    "duration": 101,
    "start_time": "2023-12-12T16:14:07.319Z"
   },
   {
    "duration": 1819,
    "start_time": "2023-12-12T16:14:07.422Z"
   },
   {
    "duration": 115,
    "start_time": "2023-12-12T16:14:09.243Z"
   },
   {
    "duration": 31,
    "start_time": "2023-12-12T16:14:09.360Z"
   },
   {
    "duration": 42,
    "start_time": "2023-12-12T16:14:09.393Z"
   },
   {
    "duration": 120,
    "start_time": "2023-12-12T16:14:09.437Z"
   },
   {
    "duration": 294,
    "start_time": "2023-12-12T16:14:09.558Z"
   },
   {
    "duration": 439,
    "start_time": "2023-12-12T16:14:09.854Z"
   },
   {
    "duration": 12,
    "start_time": "2023-12-12T16:14:10.295Z"
   },
   {
    "duration": 23,
    "start_time": "2023-12-12T16:14:10.309Z"
   },
   {
    "duration": 107,
    "start_time": "2023-12-12T16:14:10.334Z"
   },
   {
    "duration": 226,
    "start_time": "2023-12-12T16:14:10.442Z"
   },
   {
    "duration": 239,
    "start_time": "2023-12-12T16:14:10.671Z"
   },
   {
    "duration": 10,
    "start_time": "2023-12-12T16:14:10.912Z"
   },
   {
    "duration": 5,
    "start_time": "2023-12-12T16:14:10.924Z"
   },
   {
    "duration": 25,
    "start_time": "2023-12-12T16:14:10.930Z"
   },
   {
    "duration": 249,
    "start_time": "2023-12-12T16:14:10.957Z"
   },
   {
    "duration": 44,
    "start_time": "2023-12-12T16:14:11.208Z"
   },
   {
    "duration": 6,
    "start_time": "2023-12-12T16:14:11.254Z"
   },
   {
    "duration": 43,
    "start_time": "2023-12-12T16:14:11.261Z"
   },
   {
    "duration": 193,
    "start_time": "2023-12-12T16:14:11.306Z"
   },
   {
    "duration": 191,
    "start_time": "2023-12-12T16:14:11.501Z"
   },
   {
    "duration": 200,
    "start_time": "2023-12-12T16:14:11.694Z"
   },
   {
    "duration": 55,
    "start_time": "2023-12-12T16:14:11.896Z"
   },
   {
    "duration": 206,
    "start_time": "2023-12-12T16:14:11.952Z"
   },
   {
    "duration": 111,
    "start_time": "2023-12-12T16:14:12.160Z"
   },
   {
    "duration": 68,
    "start_time": "2023-12-12T16:15:46.217Z"
   },
   {
    "duration": 65,
    "start_time": "2023-12-12T16:16:21.034Z"
   },
   {
    "duration": 66,
    "start_time": "2023-12-12T16:16:28.869Z"
   },
   {
    "duration": 63,
    "start_time": "2023-12-12T16:16:32.945Z"
   },
   {
    "duration": 183,
    "start_time": "2023-12-12T16:17:06.419Z"
   },
   {
    "duration": 1225,
    "start_time": "2023-12-12T16:17:16.287Z"
   },
   {
    "duration": 241,
    "start_time": "2023-12-12T16:17:17.514Z"
   },
   {
    "duration": 76,
    "start_time": "2023-12-12T16:17:17.756Z"
   },
   {
    "duration": 90,
    "start_time": "2023-12-12T16:17:17.835Z"
   },
   {
    "duration": 8,
    "start_time": "2023-12-12T16:17:17.927Z"
   },
   {
    "duration": 101,
    "start_time": "2023-12-12T16:17:17.937Z"
   },
   {
    "duration": 5,
    "start_time": "2023-12-12T16:17:18.040Z"
   },
   {
    "duration": 74,
    "start_time": "2023-12-12T16:17:18.046Z"
   },
   {
    "duration": 121,
    "start_time": "2023-12-12T16:17:18.121Z"
   },
   {
    "duration": 15,
    "start_time": "2023-12-12T16:17:18.245Z"
   },
   {
    "duration": 11,
    "start_time": "2023-12-12T16:17:18.262Z"
   },
   {
    "duration": 35,
    "start_time": "2023-12-12T16:17:18.275Z"
   },
   {
    "duration": 551,
    "start_time": "2023-12-12T16:17:18.312Z"
   },
   {
    "duration": 71,
    "start_time": "2023-12-12T16:17:18.865Z"
   },
   {
    "duration": 35,
    "start_time": "2023-12-12T16:17:18.937Z"
   },
   {
    "duration": 84,
    "start_time": "2023-12-12T16:17:18.988Z"
   },
   {
    "duration": 1852,
    "start_time": "2023-12-12T16:17:19.074Z"
   },
   {
    "duration": 131,
    "start_time": "2023-12-12T16:17:20.927Z"
   },
   {
    "duration": 31,
    "start_time": "2023-12-12T16:17:21.059Z"
   },
   {
    "duration": 46,
    "start_time": "2023-12-12T16:17:21.092Z"
   },
   {
    "duration": 78,
    "start_time": "2023-12-12T16:17:21.139Z"
   },
   {
    "duration": 272,
    "start_time": "2023-12-12T16:17:21.219Z"
   },
   {
    "duration": 460,
    "start_time": "2023-12-12T16:17:21.493Z"
   },
   {
    "duration": 12,
    "start_time": "2023-12-12T16:17:21.955Z"
   },
   {
    "duration": 37,
    "start_time": "2023-12-12T16:17:21.969Z"
   },
   {
    "duration": 101,
    "start_time": "2023-12-12T16:17:22.008Z"
   },
   {
    "duration": 261,
    "start_time": "2023-12-12T16:17:22.111Z"
   },
   {
    "duration": 235,
    "start_time": "2023-12-12T16:17:22.375Z"
   },
   {
    "duration": 10,
    "start_time": "2023-12-12T16:17:22.611Z"
   },
   {
    "duration": 32,
    "start_time": "2023-12-12T16:17:22.623Z"
   },
   {
    "duration": 35,
    "start_time": "2023-12-12T16:17:22.657Z"
   },
   {
    "duration": 251,
    "start_time": "2023-12-12T16:17:22.694Z"
   },
   {
    "duration": 50,
    "start_time": "2023-12-12T16:17:22.947Z"
   },
   {
    "duration": 6,
    "start_time": "2023-12-12T16:17:22.999Z"
   },
   {
    "duration": 60,
    "start_time": "2023-12-12T16:17:23.007Z"
   },
   {
    "duration": 206,
    "start_time": "2023-12-12T16:17:23.069Z"
   },
   {
    "duration": 198,
    "start_time": "2023-12-12T16:17:23.276Z"
   },
   {
    "duration": 193,
    "start_time": "2023-12-12T16:17:23.476Z"
   },
   {
    "duration": 66,
    "start_time": "2023-12-12T16:17:23.671Z"
   },
   {
    "duration": 197,
    "start_time": "2023-12-12T16:17:23.738Z"
   },
   {
    "duration": 105,
    "start_time": "2023-12-12T16:17:23.936Z"
   },
   {
    "duration": 184,
    "start_time": "2023-12-12T16:17:24.042Z"
   },
   {
    "duration": 182,
    "start_time": "2023-12-12T16:17:35.252Z"
   },
   {
    "duration": 1168,
    "start_time": "2023-12-13T08:22:12.811Z"
   },
   {
    "duration": 740,
    "start_time": "2023-12-13T08:22:13.981Z"
   },
   {
    "duration": 64,
    "start_time": "2023-12-13T08:22:14.723Z"
   },
   {
    "duration": 85,
    "start_time": "2023-12-13T08:22:14.789Z"
   },
   {
    "duration": 8,
    "start_time": "2023-12-13T08:22:14.876Z"
   },
   {
    "duration": 112,
    "start_time": "2023-12-13T08:22:14.886Z"
   },
   {
    "duration": 6,
    "start_time": "2023-12-13T08:22:15.000Z"
   },
   {
    "duration": 88,
    "start_time": "2023-12-13T08:22:15.014Z"
   },
   {
    "duration": 103,
    "start_time": "2023-12-13T08:22:15.104Z"
   },
   {
    "duration": 17,
    "start_time": "2023-12-13T08:22:15.209Z"
   },
   {
    "duration": 37,
    "start_time": "2023-12-13T08:22:15.227Z"
   },
   {
    "duration": 75,
    "start_time": "2023-12-13T08:22:15.266Z"
   },
   {
    "duration": 504,
    "start_time": "2023-12-13T08:22:15.343Z"
   },
   {
    "duration": 77,
    "start_time": "2023-12-13T08:22:15.851Z"
   },
   {
    "duration": 35,
    "start_time": "2023-12-13T08:22:15.930Z"
   },
   {
    "duration": 99,
    "start_time": "2023-12-13T08:22:15.967Z"
   },
   {
    "duration": 1683,
    "start_time": "2023-12-13T08:22:16.068Z"
   },
   {
    "duration": 109,
    "start_time": "2023-12-13T08:22:17.752Z"
   },
   {
    "duration": 23,
    "start_time": "2023-12-13T08:22:17.862Z"
   },
   {
    "duration": 41,
    "start_time": "2023-12-13T08:22:17.887Z"
   },
   {
    "duration": 59,
    "start_time": "2023-12-13T08:22:17.929Z"
   },
   {
    "duration": 275,
    "start_time": "2023-12-13T08:22:17.989Z"
   },
   {
    "duration": 411,
    "start_time": "2023-12-13T08:22:18.266Z"
   },
   {
    "duration": 11,
    "start_time": "2023-12-13T08:22:18.679Z"
   },
   {
    "duration": 5,
    "start_time": "2023-12-13T08:22:18.692Z"
   },
   {
    "duration": 108,
    "start_time": "2023-12-13T08:22:18.699Z"
   },
   {
    "duration": 225,
    "start_time": "2023-12-13T08:22:18.808Z"
   },
   {
    "duration": 235,
    "start_time": "2023-12-13T08:22:19.034Z"
   },
   {
    "duration": 11,
    "start_time": "2023-12-13T08:22:19.271Z"
   },
   {
    "duration": 5,
    "start_time": "2023-12-13T08:22:19.284Z"
   },
   {
    "duration": 36,
    "start_time": "2023-12-13T08:22:19.291Z"
   },
   {
    "duration": 229,
    "start_time": "2023-12-13T08:22:19.329Z"
   },
   {
    "duration": 44,
    "start_time": "2023-12-13T08:22:19.560Z"
   },
   {
    "duration": 6,
    "start_time": "2023-12-13T08:22:19.614Z"
   },
   {
    "duration": 31,
    "start_time": "2023-12-13T08:22:19.621Z"
   },
   {
    "duration": 192,
    "start_time": "2023-12-13T08:22:19.653Z"
   },
   {
    "duration": 187,
    "start_time": "2023-12-13T08:22:19.847Z"
   },
   {
    "duration": 194,
    "start_time": "2023-12-13T08:22:20.036Z"
   },
   {
    "duration": 54,
    "start_time": "2023-12-13T08:22:20.231Z"
   },
   {
    "duration": 198,
    "start_time": "2023-12-13T08:22:20.286Z"
   },
   {
    "duration": 114,
    "start_time": "2023-12-13T08:22:20.487Z"
   },
   {
    "duration": 1207,
    "start_time": "2023-12-13T09:04:04.514Z"
   },
   {
    "duration": 224,
    "start_time": "2023-12-13T09:04:05.723Z"
   },
   {
    "duration": 72,
    "start_time": "2023-12-13T09:04:05.949Z"
   },
   {
    "duration": 83,
    "start_time": "2023-12-13T09:04:06.023Z"
   },
   {
    "duration": 12,
    "start_time": "2023-12-13T09:04:06.108Z"
   },
   {
    "duration": 133,
    "start_time": "2023-12-13T09:04:06.121Z"
   },
   {
    "duration": 5,
    "start_time": "2023-12-13T09:04:06.256Z"
   },
   {
    "duration": 92,
    "start_time": "2023-12-13T09:04:06.263Z"
   },
   {
    "duration": 164,
    "start_time": "2023-12-13T09:04:06.357Z"
   },
   {
    "duration": 13,
    "start_time": "2023-12-13T09:04:06.523Z"
   },
   {
    "duration": 11,
    "start_time": "2023-12-13T09:04:06.538Z"
   },
   {
    "duration": 27,
    "start_time": "2023-12-13T09:04:06.550Z"
   },
   {
    "duration": 514,
    "start_time": "2023-12-13T09:04:06.578Z"
   },
   {
    "duration": 68,
    "start_time": "2023-12-13T09:04:07.093Z"
   },
   {
    "duration": 33,
    "start_time": "2023-12-13T09:04:07.162Z"
   },
   {
    "duration": 101,
    "start_time": "2023-12-13T09:04:07.197Z"
   },
   {
    "duration": 1726,
    "start_time": "2023-12-13T09:04:07.299Z"
   },
   {
    "duration": 115,
    "start_time": "2023-12-13T09:04:09.027Z"
   },
   {
    "duration": 24,
    "start_time": "2023-12-13T09:04:09.143Z"
   },
   {
    "duration": 33,
    "start_time": "2023-12-13T09:04:09.168Z"
   },
   {
    "duration": 61,
    "start_time": "2023-12-13T09:04:09.215Z"
   },
   {
    "duration": 296,
    "start_time": "2023-12-13T09:04:09.277Z"
   },
   {
    "duration": 424,
    "start_time": "2023-12-13T09:04:09.575Z"
   },
   {
    "duration": 19,
    "start_time": "2023-12-13T09:04:10.000Z"
   },
   {
    "duration": 15,
    "start_time": "2023-12-13T09:04:10.021Z"
   },
   {
    "duration": 105,
    "start_time": "2023-12-13T09:04:10.037Z"
   },
   {
    "duration": 213,
    "start_time": "2023-12-13T09:04:10.144Z"
   },
   {
    "duration": 254,
    "start_time": "2023-12-13T09:04:10.361Z"
   },
   {
    "duration": 12,
    "start_time": "2023-12-13T09:04:10.617Z"
   },
   {
    "duration": 7,
    "start_time": "2023-12-13T09:04:10.631Z"
   },
   {
    "duration": 19,
    "start_time": "2023-12-13T09:04:10.640Z"
   },
   {
    "duration": 249,
    "start_time": "2023-12-13T09:04:10.661Z"
   },
   {
    "duration": 41,
    "start_time": "2023-12-13T09:04:10.914Z"
   },
   {
    "duration": 6,
    "start_time": "2023-12-13T09:04:10.957Z"
   },
   {
    "duration": 28,
    "start_time": "2023-12-13T09:04:10.964Z"
   },
   {
    "duration": 221,
    "start_time": "2023-12-13T09:04:10.994Z"
   },
   {
    "duration": 182,
    "start_time": "2023-12-13T09:04:11.216Z"
   },
   {
    "duration": 189,
    "start_time": "2023-12-13T09:04:11.400Z"
   },
   {
    "duration": 65,
    "start_time": "2023-12-13T09:04:11.590Z"
   },
   {
    "duration": 207,
    "start_time": "2023-12-13T09:04:11.657Z"
   },
   {
    "duration": 111,
    "start_time": "2023-12-13T09:04:11.865Z"
   }
  ],
  "kernelspec": {
   "display_name": "Python 3 (ipykernel)",
   "language": "python",
   "name": "python3"
  },
  "language_info": {
   "codemirror_mode": {
    "name": "ipython",
    "version": 3
   },
   "file_extension": ".py",
   "mimetype": "text/x-python",
   "name": "python",
   "nbconvert_exporter": "python",
   "pygments_lexer": "ipython3",
   "version": "3.9.5"
  },
  "toc": {
   "base_numbering": 1,
   "nav_menu": {},
   "number_sections": true,
   "sideBar": true,
   "skip_h1_title": true,
   "title_cell": "Table of Contents",
   "title_sidebar": "Contents",
   "toc_cell": false,
   "toc_position": {
    "height": "calc(100% - 180px)",
    "left": "10px",
    "top": "150px",
    "width": "277.5px"
   },
   "toc_section_display": true,
   "toc_window_display": false
  }
 },
 "nbformat": 4,
 "nbformat_minor": 4
}
